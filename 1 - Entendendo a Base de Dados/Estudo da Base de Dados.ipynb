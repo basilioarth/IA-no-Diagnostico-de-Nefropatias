{
 "cells": [
  {
   "cell_type": "markdown",
   "metadata": {},
   "source": [
    "Bibliotecas utilizadas:"
   ]
  },
  {
   "cell_type": "code",
   "execution_count": 1,
   "metadata": {},
   "outputs": [],
   "source": [
    "import numpy as np\n",
    "import pandas as pd\n",
    "import matplotlib.pyplot as plt"
   ]
  },
  {
   "cell_type": "markdown",
   "metadata": {},
   "source": [
    "Importando a base de dados:"
   ]
  },
  {
   "cell_type": "code",
   "execution_count": 2,
   "metadata": {},
   "outputs": [],
   "source": [
    "base_limpa = pd.read_csv('C:\\\\Users\\\\LENOVO\\\\Desktop\\\\Arthur\\\\LINA\\\\PIBIC 2019-2020 (01.08.2019 a 31.07.2020)\\\\Bases\\\\base-100-limpa.csv')"
   ]
  },
  {
   "cell_type": "markdown",
   "metadata": {},
   "source": [
    "Estudando as informações da base de dados:"
   ]
  },
  {
   "cell_type": "code",
   "execution_count": 3,
   "metadata": {},
   "outputs": [
    {
     "data": {
      "text/html": [
       "<div>\n",
       "<style scoped>\n",
       "    .dataframe tbody tr th:only-of-type {\n",
       "        vertical-align: middle;\n",
       "    }\n",
       "\n",
       "    .dataframe tbody tr th {\n",
       "        vertical-align: top;\n",
       "    }\n",
       "\n",
       "    .dataframe thead th {\n",
       "        text-align: right;\n",
       "    }\n",
       "</style>\n",
       "<table border=\"1\" class=\"dataframe\">\n",
       "  <thead>\n",
       "    <tr style=\"text-align: right;\">\n",
       "      <th></th>\n",
       "      <th>Matriz mesangial</th>\n",
       "      <th>Celularidade mesangial</th>\n",
       "      <th>Membrana basal glomerular</th>\n",
       "      <th>Espaço de Bowman</th>\n",
       "      <th>Tufo glomerular</th>\n",
       "      <th>Podócito</th>\n",
       "      <th>Necrose tubular aguda</th>\n",
       "      <th>Vacuolização do epitélio</th>\n",
       "      <th>Cristais</th>\n",
       "      <th>Calcificação</th>\n",
       "      <th>...</th>\n",
       "      <th>Hialinose</th>\n",
       "      <th>Necrose Fibrinóide</th>\n",
       "      <th>IMUNOFLUORESCÊNCIA</th>\n",
       "      <th>padrão de deposição</th>\n",
       "      <th>Imunodepósitos</th>\n",
       "      <th>Imunohistoquímica</th>\n",
       "      <th>Microscopia eletrônica</th>\n",
       "      <th>vermelho congo</th>\n",
       "      <th>Clínica</th>\n",
       "      <th>Diagnóstico</th>\n",
       "    </tr>\n",
       "  </thead>\n",
       "  <tbody>\n",
       "    <tr>\n",
       "      <th>0</th>\n",
       "      <td>normal</td>\n",
       "      <td>normal</td>\n",
       "      <td>normal</td>\n",
       "      <td>normal</td>\n",
       "      <td>normal</td>\n",
       "      <td>normal</td>\n",
       "      <td>ausente</td>\n",
       "      <td>ausente</td>\n",
       "      <td>ausente</td>\n",
       "      <td>ausente</td>\n",
       "      <td>...</td>\n",
       "      <td>ausente</td>\n",
       "      <td>ausente</td>\n",
       "      <td>negativa</td>\n",
       "      <td>negativa</td>\n",
       "      <td>negativa</td>\n",
       "      <td>não realizada</td>\n",
       "      <td>apagamento dos processos podocitários (pedicelos)</td>\n",
       "      <td>não realizado</td>\n",
       "      <td>síndrome nefrótica</td>\n",
       "      <td>Doença de Lesões mínimas</td>\n",
       "    </tr>\n",
       "    <tr>\n",
       "      <th>1</th>\n",
       "      <td>normal</td>\n",
       "      <td>normal</td>\n",
       "      <td>normal</td>\n",
       "      <td>normal</td>\n",
       "      <td>normal</td>\n",
       "      <td>normal</td>\n",
       "      <td>ausente</td>\n",
       "      <td>ausente</td>\n",
       "      <td>ausente</td>\n",
       "      <td>ausente</td>\n",
       "      <td>...</td>\n",
       "      <td>ausente</td>\n",
       "      <td>ausente</td>\n",
       "      <td>negativa</td>\n",
       "      <td>negativa</td>\n",
       "      <td>negativa</td>\n",
       "      <td>não realizada</td>\n",
       "      <td>normal</td>\n",
       "      <td>não realizado</td>\n",
       "      <td>hematúria</td>\n",
       "      <td>Rim normal</td>\n",
       "    </tr>\n",
       "    <tr>\n",
       "      <th>2</th>\n",
       "      <td>aumentada</td>\n",
       "      <td>normal</td>\n",
       "      <td>normal</td>\n",
       "      <td>adesão</td>\n",
       "      <td>esclerose segmentar</td>\n",
       "      <td>hipertrofia</td>\n",
       "      <td>ausente</td>\n",
       "      <td>ausente</td>\n",
       "      <td>ausente</td>\n",
       "      <td>ausente</td>\n",
       "      <td>...</td>\n",
       "      <td>ausente</td>\n",
       "      <td>ausente</td>\n",
       "      <td>positiva</td>\n",
       "      <td>segmentar</td>\n",
       "      <td>IgM C3</td>\n",
       "      <td>não realizada</td>\n",
       "      <td>apagamento dos processos podocitários</td>\n",
       "      <td>não realizado</td>\n",
       "      <td>síndrome nefrótica</td>\n",
       "      <td>Glomeruloesclerose segmentar e focal</td>\n",
       "    </tr>\n",
       "    <tr>\n",
       "      <th>3</th>\n",
       "      <td>normal</td>\n",
       "      <td>normal</td>\n",
       "      <td>espessada</td>\n",
       "      <td>normal</td>\n",
       "      <td>normal</td>\n",
       "      <td>normal</td>\n",
       "      <td>ausente</td>\n",
       "      <td>ausente</td>\n",
       "      <td>ausente</td>\n",
       "      <td>ausente</td>\n",
       "      <td>...</td>\n",
       "      <td>ausente</td>\n",
       "      <td>ausente</td>\n",
       "      <td>positiva</td>\n",
       "      <td>granular em alça capilar</td>\n",
       "      <td>IgG C3</td>\n",
       "      <td>IgG4 positivo e anti-fosfolipase A2 positiva</td>\n",
       "      <td>apagamento dos processos podocitários (pedicel...</td>\n",
       "      <td>não realizado</td>\n",
       "      <td>síndrome nefrótica</td>\n",
       "      <td>Glomerulopatia membranosa primária</td>\n",
       "    </tr>\n",
       "    <tr>\n",
       "      <th>4</th>\n",
       "      <td>aumento discreto</td>\n",
       "      <td>normal</td>\n",
       "      <td>duplicação</td>\n",
       "      <td>adesão</td>\n",
       "      <td>normal</td>\n",
       "      <td>normal</td>\n",
       "      <td>ausente</td>\n",
       "      <td>ausente</td>\n",
       "      <td>ausente</td>\n",
       "      <td>ausente</td>\n",
       "      <td>...</td>\n",
       "      <td>ausente</td>\n",
       "      <td>ausente</td>\n",
       "      <td>positiva</td>\n",
       "      <td>granular em alça capilar</td>\n",
       "      <td>IgG C3</td>\n",
       "      <td>IgG4 positivo e anti-fosfolipase A2 positiva</td>\n",
       "      <td>apagamento dos processos podocitários (pedicel...</td>\n",
       "      <td>não realizado</td>\n",
       "      <td>síndrome nefrótica</td>\n",
       "      <td>Glomerulopatia membranosa primária</td>\n",
       "    </tr>\n",
       "  </tbody>\n",
       "</table>\n",
       "<p>5 rows × 31 columns</p>\n",
       "</div>"
      ],
      "text/plain": [
       "   Matriz mesangial Celularidade mesangial Membrana basal glomerular  \\\n",
       "0            normal                 normal                    normal   \n",
       "1            normal                 normal                    normal   \n",
       "2         aumentada                 normal                    normal   \n",
       "3            normal                 normal                 espessada   \n",
       "4  aumento discreto                 normal                duplicação   \n",
       "\n",
       "  Espaço de Bowman      Tufo glomerular     Podócito Necrose tubular aguda  \\\n",
       "0           normal               normal       normal               ausente   \n",
       "1           normal               normal       normal               ausente   \n",
       "2           adesão  esclerose segmentar  hipertrofia               ausente   \n",
       "3           normal               normal       normal               ausente   \n",
       "4           adesão               normal       normal               ausente   \n",
       "\n",
       "  Vacuolização do epitélio Cristais Calcificação  ... Hialinose  \\\n",
       "0                  ausente  ausente      ausente  ...   ausente   \n",
       "1                  ausente  ausente      ausente  ...   ausente   \n",
       "2                  ausente  ausente      ausente  ...   ausente   \n",
       "3                  ausente  ausente      ausente  ...   ausente   \n",
       "4                  ausente  ausente      ausente  ...   ausente   \n",
       "\n",
       "  Necrose Fibrinóide IMUNOFLUORESCÊNCIA       padrão de deposição  \\\n",
       "0            ausente           negativa                  negativa   \n",
       "1            ausente           negativa                  negativa   \n",
       "2            ausente           positiva                 segmentar   \n",
       "3            ausente           positiva  granular em alça capilar   \n",
       "4            ausente           positiva  granular em alça capilar   \n",
       "\n",
       "  Imunodepósitos                             Imunohistoquímica  \\\n",
       "0       negativa                                 não realizada   \n",
       "1       negativa                                 não realizada   \n",
       "2         IgM C3                                 não realizada   \n",
       "3         IgG C3  IgG4 positivo e anti-fosfolipase A2 positiva   \n",
       "4         IgG C3  IgG4 positivo e anti-fosfolipase A2 positiva   \n",
       "\n",
       "                              Microscopia eletrônica vermelho congo  \\\n",
       "0  apagamento dos processos podocitários (pedicelos)  não realizado   \n",
       "1                                             normal  não realizado   \n",
       "2              apagamento dos processos podocitários  não realizado   \n",
       "3  apagamento dos processos podocitários (pedicel...  não realizado   \n",
       "4  apagamento dos processos podocitários (pedicel...  não realizado   \n",
       "\n",
       "              Clínica                           Diagnóstico  \n",
       "0  síndrome nefrótica              Doença de Lesões mínimas  \n",
       "1           hematúria                            Rim normal  \n",
       "2  síndrome nefrótica  Glomeruloesclerose segmentar e focal  \n",
       "3  síndrome nefrótica    Glomerulopatia membranosa primária  \n",
       "4  síndrome nefrótica    Glomerulopatia membranosa primária  \n",
       "\n",
       "[5 rows x 31 columns]"
      ]
     },
     "execution_count": 3,
     "metadata": {},
     "output_type": "execute_result"
    }
   ],
   "source": [
    "base_limpa.head()"
   ]
  },
  {
   "cell_type": "code",
   "execution_count": 4,
   "metadata": {},
   "outputs": [
    {
     "data": {
      "text/plain": [
       "Index(['Matriz mesangial', 'Celularidade mesangial',\n",
       "       'Membrana basal glomerular', 'Espaço de Bowman', 'Tufo glomerular',\n",
       "       'Podócito', 'Necrose tubular aguda', 'Vacuolização do epitélio',\n",
       "       'Cristais', 'Calcificação', 'Tubulite', 'Cilindros', 'Atrofia tubular',\n",
       "       'Graduação de atrofia', 'Fibrose intersitical', 'Graduação da fibrose',\n",
       "       'Infiltrado inflamatório', 'tipo de infiltrado inflamatório',\n",
       "       'Vasculite', 'Microangiopatia trombótica', 'Trombos', 'Hialinose',\n",
       "       'Necrose Fibrinóide', 'IMUNOFLUORESCÊNCIA', 'padrão de deposição',\n",
       "       'Imunodepósitos', 'Imunohistoquímica', 'Microscopia eletrônica',\n",
       "       'vermelho congo', 'Clínica', 'Diagnóstico'],\n",
       "      dtype='object')"
      ]
     },
     "execution_count": 4,
     "metadata": {},
     "output_type": "execute_result"
    }
   ],
   "source": [
    "base_limpa.columns"
   ]
  },
  {
   "cell_type": "code",
   "execution_count": 5,
   "metadata": {},
   "outputs": [
    {
     "data": {
      "text/plain": [
       "array(['aspecto nodular', 'aumentada', 'aumento discreto', 'mesangiólise',\n",
       "       'normal'], dtype=object)"
      ]
     },
     "execution_count": 5,
     "metadata": {},
     "output_type": "execute_result"
    }
   ],
   "source": [
    "np.unique(base_limpa['Matriz mesangial'])"
   ]
  },
  {
   "cell_type": "code",
   "execution_count": 6,
   "metadata": {},
   "outputs": [
    {
     "data": {
      "text/plain": [
       "array(['aumentada', 'diminuída', 'normal'], dtype=object)"
      ]
     },
     "execution_count": 6,
     "metadata": {},
     "output_type": "execute_result"
    }
   ],
   "source": [
    "np.unique(base_limpa['Celularidade mesangial'])"
   ]
  },
  {
   "cell_type": "code",
   "execution_count": 7,
   "metadata": {},
   "outputs": [
    {
     "data": {
      "text/plain": [
       "array(['duplicação', 'duplicação e espículas',\n",
       "       'duplicação espículas e ruptura', 'espessada', 'espessamento',\n",
       "       'espessamento duplicação espículas', 'espículas', 'normal',\n",
       "       'ruptura', 'ruptura buracos e duplicação', 'ruptura e duplicação',\n",
       "       'ruptura espículas e duplicação'], dtype=object)"
      ]
     },
     "execution_count": 7,
     "metadata": {},
     "output_type": "execute_result"
    }
   ],
   "source": [
    "np.unique(base_limpa['Membrana basal glomerular'])"
   ]
  },
  {
   "cell_type": "code",
   "execution_count": 8,
   "metadata": {},
   "outputs": [
    {
     "data": {
      "text/plain": [
       "array(['adesão', 'adesão e crescentes', 'capsular drops', 'crescentes',\n",
       "       'crescentes em mais de 50%', 'normal'], dtype=object)"
      ]
     },
     "execution_count": 8,
     "metadata": {},
     "output_type": "execute_result"
    }
   ],
   "source": [
    "np.unique(base_limpa['Espaço de Bowman'])"
   ]
  },
  {
   "cell_type": "code",
   "execution_count": 9,
   "metadata": {},
   "outputs": [
    {
     "data": {
      "text/plain": [
       "array(['congesto', 'esclerose global', 'esclerose segmentar',\n",
       "       'esclerose segmentar e global', 'hipercelularidade endocapilar',\n",
       "       'hipercelularidade endocapilar e esclerose segmentar',\n",
       "       'hipercelularidade endocapilar e wire loop',\n",
       "       'hipercelularidade endocapilar em mais de 50%',\n",
       "       'hipercelularidade endocapilar esclerose segmentar e wire loop',\n",
       "       'infiltração por neutrófilos', 'normal'], dtype=object)"
      ]
     },
     "execution_count": 9,
     "metadata": {},
     "output_type": "execute_result"
    }
   ],
   "source": [
    "np.unique(base_limpa['Tufo glomerular'])"
   ]
  },
  {
   "cell_type": "code",
   "execution_count": 10,
   "metadata": {},
   "outputs": [
    {
     "data": {
      "text/plain": [
       "array(['hipertrofia', 'normal', 'vacuolização'], dtype=object)"
      ]
     },
     "execution_count": 10,
     "metadata": {},
     "output_type": "execute_result"
    }
   ],
   "source": [
    "np.unique(base_limpa['Podócito'])"
   ]
  },
  {
   "cell_type": "code",
   "execution_count": 11,
   "metadata": {},
   "outputs": [
    {
     "data": {
      "text/plain": [
       "array(['ausente'], dtype=object)"
      ]
     },
     "execution_count": 11,
     "metadata": {},
     "output_type": "execute_result"
    }
   ],
   "source": [
    "np.unique(base_limpa['Necrose tubular aguda'])"
   ]
  },
  {
   "cell_type": "code",
   "execution_count": 12,
   "metadata": {},
   "outputs": [
    {
     "data": {
      "text/plain": [
       "array(['ausente', 'presente'], dtype=object)"
      ]
     },
     "execution_count": 12,
     "metadata": {},
     "output_type": "execute_result"
    }
   ],
   "source": [
    "np.unique(base_limpa['Vacuolização do epitélio'])"
   ]
  },
  {
   "cell_type": "code",
   "execution_count": 13,
   "metadata": {},
   "outputs": [
    {
     "data": {
      "text/plain": [
       "array(['ausente'], dtype=object)"
      ]
     },
     "execution_count": 13,
     "metadata": {},
     "output_type": "execute_result"
    }
   ],
   "source": [
    "np.unique(base_limpa['Cristais'])"
   ]
  },
  {
   "cell_type": "code",
   "execution_count": 14,
   "metadata": {},
   "outputs": [
    {
     "data": {
      "text/plain": [
       "array(['ausente', 'presente'], dtype=object)"
      ]
     },
     "execution_count": 14,
     "metadata": {},
     "output_type": "execute_result"
    }
   ],
   "source": [
    "np.unique(base_limpa['Calcificação'])"
   ]
  },
  {
   "cell_type": "code",
   "execution_count": 15,
   "metadata": {},
   "outputs": [
    {
     "data": {
      "text/plain": [
       "array(['ausente', 'presente'], dtype=object)"
      ]
     },
     "execution_count": 15,
     "metadata": {},
     "output_type": "execute_result"
    }
   ],
   "source": [
    "np.unique(base_limpa['Tubulite'])"
   ]
  },
  {
   "cell_type": "code",
   "execution_count": 16,
   "metadata": {},
   "outputs": [
    {
     "data": {
      "text/plain": [
       "array(['ausente', 'hialinos'], dtype=object)"
      ]
     },
     "execution_count": 16,
     "metadata": {},
     "output_type": "execute_result"
    }
   ],
   "source": [
    "np.unique(base_limpa['Cilindros'])"
   ]
  },
  {
   "cell_type": "code",
   "execution_count": 17,
   "metadata": {},
   "outputs": [
    {
     "data": {
      "text/plain": [
       "array(['ausente', 'presente'], dtype=object)"
      ]
     },
     "execution_count": 17,
     "metadata": {},
     "output_type": "execute_result"
    }
   ],
   "source": [
    "np.unique(base_limpa['Atrofia tubular'])"
   ]
  },
  {
   "cell_type": "code",
   "execution_count": 18,
   "metadata": {},
   "outputs": [
    {
     "data": {
      "text/plain": [
       "array(['acentuada', 'ausente', 'discreta', 'moderada'], dtype=object)"
      ]
     },
     "execution_count": 18,
     "metadata": {},
     "output_type": "execute_result"
    }
   ],
   "source": [
    "np.unique(base_limpa['Graduação de atrofia'])"
   ]
  },
  {
   "cell_type": "code",
   "execution_count": 19,
   "metadata": {},
   "outputs": [
    {
     "data": {
      "text/plain": [
       "array(['ausente', 'presente'], dtype=object)"
      ]
     },
     "execution_count": 19,
     "metadata": {},
     "output_type": "execute_result"
    }
   ],
   "source": [
    "np.unique(base_limpa['Fibrose intersitical'])"
   ]
  },
  {
   "cell_type": "code",
   "execution_count": 20,
   "metadata": {},
   "outputs": [
    {
     "data": {
      "text/plain": [
       "array(['acentuada', 'ausente', 'discreta', 'moderada'], dtype=object)"
      ]
     },
     "execution_count": 20,
     "metadata": {},
     "output_type": "execute_result"
    }
   ],
   "source": [
    "np.unique(base_limpa['Graduação da fibrose'])"
   ]
  },
  {
   "cell_type": "code",
   "execution_count": 21,
   "metadata": {},
   "outputs": [
    {
     "data": {
      "text/plain": [
       "array(['ausente', 'presente'], dtype=object)"
      ]
     },
     "execution_count": 21,
     "metadata": {},
     "output_type": "execute_result"
    }
   ],
   "source": [
    "np.unique(base_limpa['Infiltrado inflamatório'])"
   ]
  },
  {
   "cell_type": "code",
   "execution_count": 22,
   "metadata": {},
   "outputs": [
    {
     "data": {
      "text/plain": [
       "array(['ausente', 'misto', 'mononuclear'], dtype=object)"
      ]
     },
     "execution_count": 22,
     "metadata": {},
     "output_type": "execute_result"
    }
   ],
   "source": [
    "np.unique(base_limpa['tipo de infiltrado inflamatório'])"
   ]
  },
  {
   "cell_type": "code",
   "execution_count": 23,
   "metadata": {},
   "outputs": [
    {
     "data": {
      "text/plain": [
       "array(['ausente'], dtype=object)"
      ]
     },
     "execution_count": 23,
     "metadata": {},
     "output_type": "execute_result"
    }
   ],
   "source": [
    "np.unique(base_limpa['Vasculite'])"
   ]
  },
  {
   "cell_type": "code",
   "execution_count": 24,
   "metadata": {},
   "outputs": [
    {
     "data": {
      "text/plain": [
       "array(['ausente', 'presente'], dtype=object)"
      ]
     },
     "execution_count": 24,
     "metadata": {},
     "output_type": "execute_result"
    }
   ],
   "source": [
    "np.unique(base_limpa['Microangiopatia trombótica'])"
   ]
  },
  {
   "cell_type": "code",
   "execution_count": 25,
   "metadata": {},
   "outputs": [
    {
     "data": {
      "text/plain": [
       "array(['ausente'], dtype=object)"
      ]
     },
     "execution_count": 25,
     "metadata": {},
     "output_type": "execute_result"
    }
   ],
   "source": [
    "np.unique(base_limpa['Trombos'])"
   ]
  },
  {
   "cell_type": "code",
   "execution_count": 26,
   "metadata": {},
   "outputs": [
    {
     "data": {
      "text/plain": [
       "array(['ausente', 'presente', 'presente em arteríolas',\n",
       "       'presente em arteríolas aferentes e eferentes'], dtype=object)"
      ]
     },
     "execution_count": 26,
     "metadata": {},
     "output_type": "execute_result"
    }
   ],
   "source": [
    "np.unique(base_limpa['Hialinose'])"
   ]
  },
  {
   "cell_type": "code",
   "execution_count": 27,
   "metadata": {},
   "outputs": [
    {
     "data": {
      "text/plain": [
       "array(['ausente', 'presente'], dtype=object)"
      ]
     },
     "execution_count": 27,
     "metadata": {},
     "output_type": "execute_result"
    }
   ],
   "source": [
    "np.unique(base_limpa['Necrose Fibrinóide'])"
   ]
  },
  {
   "cell_type": "code",
   "execution_count": 28,
   "metadata": {},
   "outputs": [
    {
     "data": {
      "text/plain": [
       "array(['negativa', 'não realizada', 'positiva'], dtype=object)"
      ]
     },
     "execution_count": 28,
     "metadata": {},
     "output_type": "execute_result"
    }
   ],
   "source": [
    "np.unique(base_limpa['IMUNOFLUORESCÊNCIA'])"
   ]
  },
  {
   "cell_type": "code",
   "execution_count": 30,
   "metadata": {},
   "outputs": [
    {
     "data": {
      "text/plain": [
       "array(['aprisionado no crescente', 'granular em alça capilar',\n",
       "       'granular em mesângio', 'granular em mesângio e em alça capilar',\n",
       "       'granular em mesângio e linear em membrana basal',\n",
       "       'granular grosseiro (tipo céu estrelado)', 'linear', 'negativa',\n",
       "       'não realizada', 'segmentar'], dtype=object)"
      ]
     },
     "execution_count": 30,
     "metadata": {},
     "output_type": "execute_result"
    }
   ],
   "source": [
    "np.unique(base_limpa['padrão de deposição'])"
   ]
  },
  {
   "cell_type": "code",
   "execution_count": 31,
   "metadata": {},
   "outputs": [
    {
     "data": {
      "text/plain": [
       "array(['C3', 'IgA (co-dominante)',\n",
       "       'IgA (co-dominante) C3 Kappa lambda fibrinogênio',\n",
       "       'IgA (co-dominante) IgG kappa lambda',\n",
       "       'IgA (co-dominante) Kappa lambda', 'IgA C1q fibrinogênio',\n",
       "       'IgA IgM C3 C1q lambda', 'IgA IgM IgG C1q', 'IgA IgM IgG C3 C1q',\n",
       "       'IgG', 'IgG C1q Fibrinogênio', 'IgG C3', 'IgG Fibrinogênio',\n",
       "       'IgG IgA IgM C3 Fibrinogênio kappa lambda',\n",
       "       'IgG IgA IgM C3 fibrinogênio kappa lambda',\n",
       "       'IgG Kappa lambda fibrinogênio', 'IgM', 'IgM C1q C3 Lambda',\n",
       "       'IgM C3', 'IgM C3 C1q', 'IgM C3 C1q lambda fibrinogênio',\n",
       "       'IgM C3 fibrinogênio', 'IgM IgA C3 C1q Fibrinogênio kappa lambda',\n",
       "       'IgM IgA IgG C3 fibrinogênio',\n",
       "       'IgM IgG C1q kappa lambda fibrinogênio', 'IgM IgG C3',\n",
       "       'IgM IgG C3 Lambda Fibrinogênio',\n",
       "       'IgM IgG IgA C3 Kappa Lambda fibrinogênio',\n",
       "       'IgM IgG IgA C3 Lambda', 'IgM IgG IgA C3 c1q',\n",
       "       'IgM IgG IgA Lambda Fibrinogênio',\n",
       "       'IgM IgG Kappa Lambda Fibrinogênio', 'IgM IgG fibrinogênio',\n",
       "       'IgM Lambda fibrinogênio', 'Kappa Fibrinogênio', 'Kappa lambda',\n",
       "       'full house', 'lambda', 'negativa', 'não realizada'], dtype=object)"
      ]
     },
     "execution_count": 31,
     "metadata": {},
     "output_type": "execute_result"
    }
   ],
   "source": [
    "np.unique(base_limpa['Imunodepósitos'])"
   ]
  },
  {
   "cell_type": "code",
   "execution_count": 32,
   "metadata": {},
   "outputs": [
    {
     "data": {
      "text/plain": [
       "array(['IgG4 positivo e anti-fosfolipase A2 negativa',\n",
       "       'IgG4 positivo e anti-fosfolipase A2 positiva', 'não realizada',\n",
       "       'positivo para fibronectina'], dtype=object)"
      ]
     },
     "execution_count": 32,
     "metadata": {},
     "output_type": "execute_result"
    }
   ],
   "source": [
    "np.unique(base_limpa['Imunohistoquímica'])"
   ]
  },
  {
   "cell_type": "code",
   "execution_count": 33,
   "metadata": {},
   "outputs": [
    {
     "data": {
      "text/plain": [
       "array(['Compatível com padrão membranoproliferativo',\n",
       "       'alargamento de pedicelos ou aproximação deles mas alguns preservados',\n",
       "       'apagamento de processo podocitário espessamento da membrana basal glomerular',\n",
       "       'apagamento dos processos podocitários',\n",
       "       'apagamento dos processos podocitários (pedicelos)',\n",
       "       'apagamento dos processos podocitários (pedicelos) e depósitos elétron-densos subepiteliais',\n",
       "       'depósitos elétron-densos em região paramesangial e mesangial',\n",
       "       'depósitos elétron-densos largos (humps) apagamento de processo podocitários',\n",
       "       'depósitos elétron-densos subendoteliais',\n",
       "       'depósitos elétron-densos subepiteliais e subendoteliais',\n",
       "       'grandes depósitos elétron-densos na lâmina densa da membrana basal glomerular',\n",
       "       'irregularidade da membrana basal glomerular e discreta expansão mesangial',\n",
       "       'material eletrodenso lamelado em podócitos',\n",
       "       'material eletrondenso lamelado no citoplasma de podócitos',\n",
       "       'membrana basal glomerular fina', 'normal', 'não realizada'],\n",
       "      dtype=object)"
      ]
     },
     "execution_count": 33,
     "metadata": {},
     "output_type": "execute_result"
    }
   ],
   "source": [
    "np.unique(base_limpa['Microscopia eletrônica'])"
   ]
  },
  {
   "cell_type": "code",
   "execution_count": 34,
   "metadata": {},
   "outputs": [
    {
     "data": {
      "text/plain": [
       "array(['negativo', 'não realizado', 'positivo'], dtype=object)"
      ]
     },
     "execution_count": 34,
     "metadata": {},
     "output_type": "execute_result"
    }
   ],
   "source": [
    "np.unique(base_limpa['vermelho congo'])"
   ]
  },
  {
   "cell_type": "code",
   "execution_count": 35,
   "metadata": {},
   "outputs": [
    {
     "data": {
      "text/plain": [
       "array(['Insuficiência renal aguda', 'anasarca e dispnéia',\n",
       "       'diabetes e proteinúria', 'diabético e síndrome nefrótica',\n",
       "       'doença de fabry', 'eclâmpsia e choque hipovolêmico', 'edema',\n",
       "       'edema e proteinúria',\n",
       "       'edema oligúria escarros hemoptóicos e hematúria',\n",
       "       'edema persistente associado a hematúria e hipertensão',\n",
       "       'hematúria', 'hematúria proteinúria',\n",
       "       'hipertensão diabetes e piora de função renal',\n",
       "       'hipertensão e diabetes', 'hipertensão e proteinúria',\n",
       "       'hipocalemia e elevação de escórias', 'lúpus',\n",
       "       'lúpus anasarca e proteinúria', 'lúpus hematúria e oligúria',\n",
       "       'lúpus insuficiência renal algua', 'proteinúria',\n",
       "       'proteinúria e hematúria', 'proteinúria hematúria',\n",
       "       'proteinúria hematúria consumo de complemento',\n",
       "       'proteinúria hematúria e alteração cardíaca',\n",
       "       'proteinúria hematúria e insuficiência renal crônica',\n",
       "       'proteinúria nefrótica', 'síndrome nefrítica',\n",
       "       'síndrome nefrítica-nefrótica', 'síndrome nefrítico-nefrótica',\n",
       "       'síndrome nefrótica', 'síndrome nefrótica córtico-dependente',\n",
       "       'síndrome nefrótica córtico-resistente'], dtype=object)"
      ]
     },
     "execution_count": 35,
     "metadata": {},
     "output_type": "execute_result"
    }
   ],
   "source": [
    "np.unique(base_limpa['Clínica'])"
   ]
  },
  {
   "cell_type": "code",
   "execution_count": 36,
   "metadata": {},
   "outputs": [
    {
     "data": {
      "text/plain": [
       "array(['Amiloidose', 'Doença da membrana fina', 'Doença de Fabry',\n",
       "       'Doença de Lesões mínimas',\n",
       "       'GLOMERULONEFRITE LÚPICA DIFUSA E GLOBAL - CLASSE IV',\n",
       "       'GLOMERULONEFRITE LÚPICA DIFUSA E GLOBAL- CLASSE IV',\n",
       "       'GLOMERULONEFRITE LÚPICA DIFUSA E SEGMENTAR ´CLASSE IV',\n",
       "       'GLOMERULONEFRITE LÚPICA FOCAL E GLOBAL - CLASSE III',\n",
       "       'GLOMERULONEFRITE LÚPICA FOCAL E SEGMENTAR - CLASSE III',\n",
       "       'GLOMERULONEFRITE LÚPICA MEMBRANOSA- CLASSE V',\n",
       "       'GLOMERULONEFRITE LÚPICA MESANGIAL PROLIFERATIVA – CLASSE II',\n",
       "       'GLOMERULONEFRITE LÚPICA SEGMENTAR E FOCAL - CLASSE III',\n",
       "       'GLOMERULONEFRITE LÚPICA SEGMENTAR E FOCAL – CLASSE III',\n",
       "       'GLOMERULONEFRITE LÚPICA SEGMENTAR E FOCAL – CLASSE III (A) E ASSOCIAÇÃO COM MEMBRANOSA (CLASSE V)',\n",
       "       'Gloemrulonefrite crescêntica',\n",
       "       'Glomeruloesclerose segmentar e focal',\n",
       "       'Glomeruloesclerose segmentar e focal variante colapsante',\n",
       "       'Glomerulonefrite crescêntica',\n",
       "       'Glomerulonefrite difusa aguda (GNDA)',\n",
       "       'Glomerulonefrite membranoproliferativa',\n",
       "       'Glomerulonefrite membranoproliferativa tipo I',\n",
       "       'Glomerulonefrite membranoproliferativa tipo II(Doença de depósito denso)',\n",
       "       'Glomerulonefrite membranoproliferativa tipo III',\n",
       "       'Glomerulopatia membranosa', 'Glomerulopatia membranosa primária',\n",
       "       'Glomerulopatia membranosa secundária',\n",
       "       'Glomerulopatia por fibronectina', 'Microangiopatia trombótica',\n",
       "       'Nefroesclerose vascular hipertensiva', 'Nefropatia diabética',\n",
       "       'Nefropatia por IgA', 'Nefropatia por IgA (doença de Berger)',\n",
       "       'Podocitopatia: Glomeruloesclerose segmentar e Focal não amostrada',\n",
       "       'Podocitopatias (Lesões Mínimas X Glomeruloesclerose Segmentar e Focal não amostrada)',\n",
       "       'Rim normal'], dtype=object)"
      ]
     },
     "execution_count": 36,
     "metadata": {},
     "output_type": "execute_result"
    }
   ],
   "source": [
    "np.unique(base_limpa['Diagnóstico'])"
   ]
  },
  {
   "cell_type": "code",
   "execution_count": 37,
   "metadata": {},
   "outputs": [
    {
     "data": {
      "text/plain": [
       "GLOMERULONEFRITE LÚPICA DIFUSA E GLOBAL- CLASSE IV                                                   8\n",
       "Podocitopatias (Lesões Mínimas X Glomeruloesclerose Segmentar e Focal não amostrada)                 8\n",
       "Nefropatia diabética                                                                                 7\n",
       "Glomeruloesclerose segmentar e focal                                                                 5\n",
       "Glomerulopatia membranosa primária                                                                   5\n",
       "Glomerulonefrite membranoproliferativa tipo II(Doença de depósito denso)                             5\n",
       "Nefropatia por IgA                                                                                   5\n",
       "Glomerulopatia membranosa secundária                                                                 5\n",
       "Nefroesclerose vascular hipertensiva                                                                 4\n",
       "Nefropatia por IgA (doença de Berger)                                                                4\n",
       "Glomeruloesclerose segmentar e focal variante colapsante                                             4\n",
       "Glomerulonefrite membranoproliferativa tipo I                                                        4\n",
       "Glomerulonefrite membranoproliferativa                                                               3\n",
       "GLOMERULONEFRITE LÚPICA FOCAL E SEGMENTAR - CLASSE III                                               3\n",
       "Glomerulonefrite membranoproliferativa tipo III                                                      3\n",
       "Doença de Fabry                                                                                      2\n",
       "Glomerulopatia membranosa                                                                            2\n",
       "GLOMERULONEFRITE LÚPICA SEGMENTAR E FOCAL - CLASSE III                                               2\n",
       "Amiloidose                                                                                           2\n",
       "Glomerulonefrite difusa aguda (GNDA)                                                                 2\n",
       "Microangiopatia trombótica                                                                           2\n",
       "Glomerulonefrite crescêntica                                                                         2\n",
       "GLOMERULONEFRITE LÚPICA SEGMENTAR E FOCAL – CLASSE III                                               1\n",
       "Doença da membrana fina                                                                              1\n",
       "GLOMERULONEFRITE LÚPICA DIFUSA E SEGMENTAR ´CLASSE IV                                                1\n",
       "GLOMERULONEFRITE LÚPICA DIFUSA E GLOBAL - CLASSE IV                                                  1\n",
       "Gloemrulonefrite crescêntica                                                                         1\n",
       "GLOMERULONEFRITE LÚPICA MEMBRANOSA- CLASSE V                                                         1\n",
       "GLOMERULONEFRITE LÚPICA MESANGIAL PROLIFERATIVA – CLASSE II                                          1\n",
       "Rim normal                                                                                           1\n",
       "Podocitopatia: Glomeruloesclerose segmentar e Focal não amostrada                                    1\n",
       "Glomerulopatia por fibronectina                                                                      1\n",
       "Doença de Lesões mínimas                                                                             1\n",
       "GLOMERULONEFRITE LÚPICA SEGMENTAR E FOCAL – CLASSE III (A) E ASSOCIAÇÃO COM MEMBRANOSA (CLASSE V)    1\n",
       "GLOMERULONEFRITE LÚPICA FOCAL E GLOBAL - CLASSE III                                                  1\n",
       "Name: Diagnóstico, dtype: int64"
      ]
     },
     "execution_count": 37,
     "metadata": {},
     "output_type": "execute_result"
    }
   ],
   "source": [
    "base_limpa['Diagnóstico'].value_counts()"
   ]
  }
 ],
 "metadata": {
  "kernelspec": {
   "display_name": "Python 3",
   "language": "python",
   "name": "python3"
  },
  "language_info": {
   "codemirror_mode": {
    "name": "ipython",
    "version": 3
   },
   "file_extension": ".py",
   "mimetype": "text/x-python",
   "name": "python",
   "nbconvert_exporter": "python",
   "pygments_lexer": "ipython3",
   "version": "3.7.3"
  }
 },
 "nbformat": 4,
 "nbformat_minor": 2
}
