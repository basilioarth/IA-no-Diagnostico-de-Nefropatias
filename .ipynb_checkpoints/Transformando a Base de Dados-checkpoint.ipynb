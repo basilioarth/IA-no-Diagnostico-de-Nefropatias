{
 "cells": [
  {
   "cell_type": "markdown",
   "metadata": {},
   "source": [
    "Importando as bibliotecas necessárias"
   ]
  },
  {
   "cell_type": "code",
   "execution_count": 1,
   "metadata": {},
   "outputs": [],
   "source": [
    "import numpy as np\n",
    "import pandas as pd\n",
    "import matplotlib.pyplot as plt"
   ]
  },
  {
   "cell_type": "markdown",
   "metadata": {},
   "source": [
    "Importando a Base de Dados"
   ]
  },
  {
   "cell_type": "code",
   "execution_count": 2,
   "metadata": {},
   "outputs": [],
   "source": [
    "base_01 = pd.read_csv('C:\\\\Users\\\\LENOVO\\\\Desktop\\\\Arthur\\\\LINA\\\\PIBIC 2019-2020 (01.08.2019 a 31.07.2020)\\\\Bases\\\\base_limpa_1atributo.csv')\n",
    "base_02 = pd.read_csv('C:\\\\Users\\\\LENOVO\\\\Desktop\\\\Arthur\\\\LINA\\\\PIBIC 2019-2020 (01.08.2019 a 31.07.2020)\\\\Bases\\\\base_limpa_4atributos.csv')\n",
    "base_03 = pd.read_csv('C:\\\\Users\\\\LENOVO\\\\Desktop\\\\Arthur\\\\LINA\\\\PIBIC 2019-2020 (01.08.2019 a 31.07.2020)\\\\Bases\\\\base_limpa_6atributos.csv')"
   ]
  },
  {
   "cell_type": "code",
   "execution_count": 3,
   "metadata": {},
   "outputs": [
    {
     "data": {
      "text/html": [
       "<div>\n",
       "<style scoped>\n",
       "    .dataframe tbody tr th:only-of-type {\n",
       "        vertical-align: middle;\n",
       "    }\n",
       "\n",
       "    .dataframe tbody tr th {\n",
       "        vertical-align: top;\n",
       "    }\n",
       "\n",
       "    .dataframe thead th {\n",
       "        text-align: right;\n",
       "    }\n",
       "</style>\n",
       "<table border=\"1\" class=\"dataframe\">\n",
       "  <thead>\n",
       "    <tr style=\"text-align: right;\">\n",
       "      <th></th>\n",
       "      <th>Matriz mesangial</th>\n",
       "      <th>Celularidade mesangial</th>\n",
       "      <th>Membrana basal glomerular</th>\n",
       "      <th>Espaço de Bowman</th>\n",
       "      <th>Tufo glomerular</th>\n",
       "      <th>Podócito</th>\n",
       "      <th>Necrose tubular aguda</th>\n",
       "      <th>Vacuolização do epitélio</th>\n",
       "      <th>Cristais</th>\n",
       "      <th>Calcificação</th>\n",
       "      <th>...</th>\n",
       "      <th>Necrose Fibrinóide</th>\n",
       "      <th>IMUNOFLUORESCÊNCIA</th>\n",
       "      <th>padrão de deposição</th>\n",
       "      <th>Imunodepósitos</th>\n",
       "      <th>Imunohistoquímica</th>\n",
       "      <th>Microscopia eletrônica</th>\n",
       "      <th>vermelho congo</th>\n",
       "      <th>Clínica</th>\n",
       "      <th>Diagnóstico</th>\n",
       "      <th>Textura</th>\n",
       "    </tr>\n",
       "  </thead>\n",
       "  <tbody>\n",
       "    <tr>\n",
       "      <th>0</th>\n",
       "      <td>normal</td>\n",
       "      <td>normal</td>\n",
       "      <td>normal</td>\n",
       "      <td>normal</td>\n",
       "      <td>normal</td>\n",
       "      <td>normal</td>\n",
       "      <td>ausente</td>\n",
       "      <td>ausente</td>\n",
       "      <td>ausente</td>\n",
       "      <td>ausente</td>\n",
       "      <td>...</td>\n",
       "      <td>ausente</td>\n",
       "      <td>negativa</td>\n",
       "      <td>negativa</td>\n",
       "      <td>negativa</td>\n",
       "      <td>não realizada</td>\n",
       "      <td>apagamento dos processos podocitários (pedicelos)</td>\n",
       "      <td>não realizado</td>\n",
       "      <td>síndrome nefrótica</td>\n",
       "      <td>Doença de Lesões mínimas</td>\n",
       "      <td>Regular</td>\n",
       "    </tr>\n",
       "    <tr>\n",
       "      <th>1</th>\n",
       "      <td>normal</td>\n",
       "      <td>normal</td>\n",
       "      <td>normal</td>\n",
       "      <td>normal</td>\n",
       "      <td>normal</td>\n",
       "      <td>normal</td>\n",
       "      <td>ausente</td>\n",
       "      <td>ausente</td>\n",
       "      <td>ausente</td>\n",
       "      <td>ausente</td>\n",
       "      <td>...</td>\n",
       "      <td>ausente</td>\n",
       "      <td>negativa</td>\n",
       "      <td>negativa</td>\n",
       "      <td>negativa</td>\n",
       "      <td>não realizada</td>\n",
       "      <td>normal</td>\n",
       "      <td>não realizado</td>\n",
       "      <td>hematúria</td>\n",
       "      <td>Rim normal</td>\n",
       "      <td>Regular</td>\n",
       "    </tr>\n",
       "    <tr>\n",
       "      <th>2</th>\n",
       "      <td>aumentada</td>\n",
       "      <td>normal</td>\n",
       "      <td>normal</td>\n",
       "      <td>adesão</td>\n",
       "      <td>esclerose segmentar</td>\n",
       "      <td>hipertrofia</td>\n",
       "      <td>ausente</td>\n",
       "      <td>ausente</td>\n",
       "      <td>ausente</td>\n",
       "      <td>ausente</td>\n",
       "      <td>...</td>\n",
       "      <td>ausente</td>\n",
       "      <td>positiva</td>\n",
       "      <td>segmentar</td>\n",
       "      <td>IgM C3</td>\n",
       "      <td>não realizada</td>\n",
       "      <td>apagamento dos processos podocitários</td>\n",
       "      <td>não realizado</td>\n",
       "      <td>síndrome nefrótica</td>\n",
       "      <td>Glomeruloesclerose segmentar e focal</td>\n",
       "      <td>Regular</td>\n",
       "    </tr>\n",
       "    <tr>\n",
       "      <th>3</th>\n",
       "      <td>normal</td>\n",
       "      <td>normal</td>\n",
       "      <td>espessada</td>\n",
       "      <td>normal</td>\n",
       "      <td>normal</td>\n",
       "      <td>normal</td>\n",
       "      <td>ausente</td>\n",
       "      <td>ausente</td>\n",
       "      <td>ausente</td>\n",
       "      <td>ausente</td>\n",
       "      <td>...</td>\n",
       "      <td>ausente</td>\n",
       "      <td>positiva</td>\n",
       "      <td>granular em alça capilar</td>\n",
       "      <td>IgG C3</td>\n",
       "      <td>IgG4 positivo e anti-fosfolipase A2 positiva</td>\n",
       "      <td>apagamento dos processos podocitários (pedicel...</td>\n",
       "      <td>não realizado</td>\n",
       "      <td>síndrome nefrótica</td>\n",
       "      <td>Glomerulopatia membranosa primária</td>\n",
       "      <td>Regular</td>\n",
       "    </tr>\n",
       "    <tr>\n",
       "      <th>4</th>\n",
       "      <td>aumento discreto</td>\n",
       "      <td>normal</td>\n",
       "      <td>duplicação</td>\n",
       "      <td>adesão</td>\n",
       "      <td>normal</td>\n",
       "      <td>normal</td>\n",
       "      <td>ausente</td>\n",
       "      <td>ausente</td>\n",
       "      <td>ausente</td>\n",
       "      <td>ausente</td>\n",
       "      <td>...</td>\n",
       "      <td>ausente</td>\n",
       "      <td>positiva</td>\n",
       "      <td>granular em alça capilar</td>\n",
       "      <td>IgG C3</td>\n",
       "      <td>IgG4 positivo e anti-fosfolipase A2 positiva</td>\n",
       "      <td>apagamento dos processos podocitários (pedicel...</td>\n",
       "      <td>não realizado</td>\n",
       "      <td>síndrome nefrótica</td>\n",
       "      <td>Glomerulopatia membranosa primária</td>\n",
       "      <td>Suave</td>\n",
       "    </tr>\n",
       "  </tbody>\n",
       "</table>\n",
       "<p>5 rows × 32 columns</p>\n",
       "</div>"
      ],
      "text/plain": [
       "   Matriz mesangial Celularidade mesangial Membrana basal glomerular  \\\n",
       "0            normal                 normal                    normal   \n",
       "1            normal                 normal                    normal   \n",
       "2         aumentada                 normal                    normal   \n",
       "3            normal                 normal                 espessada   \n",
       "4  aumento discreto                 normal                duplicação   \n",
       "\n",
       "  Espaço de Bowman      Tufo glomerular     Podócito Necrose tubular aguda  \\\n",
       "0           normal               normal       normal               ausente   \n",
       "1           normal               normal       normal               ausente   \n",
       "2           adesão  esclerose segmentar  hipertrofia               ausente   \n",
       "3           normal               normal       normal               ausente   \n",
       "4           adesão               normal       normal               ausente   \n",
       "\n",
       "  Vacuolização do epitélio Cristais Calcificação  ... Necrose Fibrinóide  \\\n",
       "0                  ausente  ausente      ausente  ...            ausente   \n",
       "1                  ausente  ausente      ausente  ...            ausente   \n",
       "2                  ausente  ausente      ausente  ...            ausente   \n",
       "3                  ausente  ausente      ausente  ...            ausente   \n",
       "4                  ausente  ausente      ausente  ...            ausente   \n",
       "\n",
       "  IMUNOFLUORESCÊNCIA       padrão de deposição Imunodepósitos  \\\n",
       "0           negativa                  negativa       negativa   \n",
       "1           negativa                  negativa       negativa   \n",
       "2           positiva                 segmentar         IgM C3   \n",
       "3           positiva  granular em alça capilar         IgG C3   \n",
       "4           positiva  granular em alça capilar         IgG C3   \n",
       "\n",
       "                              Imunohistoquímica  \\\n",
       "0                                 não realizada   \n",
       "1                                 não realizada   \n",
       "2                                 não realizada   \n",
       "3  IgG4 positivo e anti-fosfolipase A2 positiva   \n",
       "4  IgG4 positivo e anti-fosfolipase A2 positiva   \n",
       "\n",
       "                              Microscopia eletrônica vermelho congo  \\\n",
       "0  apagamento dos processos podocitários (pedicelos)  não realizado   \n",
       "1                                             normal  não realizado   \n",
       "2              apagamento dos processos podocitários  não realizado   \n",
       "3  apagamento dos processos podocitários (pedicel...  não realizado   \n",
       "4  apagamento dos processos podocitários (pedicel...  não realizado   \n",
       "\n",
       "              Clínica                           Diagnóstico  Textura  \n",
       "0  síndrome nefrótica              Doença de Lesões mínimas  Regular  \n",
       "1           hematúria                            Rim normal  Regular  \n",
       "2  síndrome nefrótica  Glomeruloesclerose segmentar e focal  Regular  \n",
       "3  síndrome nefrótica    Glomerulopatia membranosa primária  Regular  \n",
       "4  síndrome nefrótica    Glomerulopatia membranosa primária    Suave  \n",
       "\n",
       "[5 rows x 32 columns]"
      ]
     },
     "execution_count": 3,
     "metadata": {},
     "output_type": "execute_result"
    }
   ],
   "source": [
    "base_01.head()"
   ]
  },
  {
   "cell_type": "markdown",
   "metadata": {},
   "source": [
    "# Criando novos atributos a partir dos atributos já existentes"
   ]
  },
  {
   "cell_type": "code",
   "execution_count": 4,
   "metadata": {},
   "outputs": [
    {
     "data": {
      "text/plain": [
       "Index(['Matriz mesangial', 'Celularidade mesangial',\n",
       "       'Membrana basal glomerular', 'Espaço de Bowman', 'Tufo glomerular',\n",
       "       'Podócito', 'Necrose tubular aguda', 'Vacuolização do epitélio',\n",
       "       'Cristais', 'Calcificação', 'Tubulite', 'Cilindros', 'Atrofia tubular',\n",
       "       'Graduação de atrofia', 'Fibrose intersitical', 'Graduação da fibrose',\n",
       "       'Infiltrado inflamatório', 'tipo de infiltrado inflamatório',\n",
       "       'Vasculite', 'Microangiopatia trombótica', 'Trombos', 'Hialinose',\n",
       "       'Necrose Fibrinóide', 'IMUNOFLUORESCÊNCIA', 'padrão de deposição',\n",
       "       'Imunodepósitos', 'Imunohistoquímica', 'Microscopia eletrônica',\n",
       "       'vermelho congo', 'Clínica', 'Diagnóstico', 'Textura'],\n",
       "      dtype='object')"
      ]
     },
     "execution_count": 4,
     "metadata": {},
     "output_type": "execute_result"
    }
   ],
   "source": [
    "base_01.columns"
   ]
  },
  {
   "cell_type": "markdown",
   "metadata": {},
   "source": [
    "Matriz mesangial"
   ]
  },
  {
   "cell_type": "code",
   "execution_count": 5,
   "metadata": {},
   "outputs": [
    {
     "data": {
      "text/plain": [
       "array(['aspecto nodular', 'aumentada', 'aumento discreto', 'mesangiólise',\n",
       "       'normal'], dtype=object)"
      ]
     },
     "execution_count": 5,
     "metadata": {},
     "output_type": "execute_result"
    }
   ],
   "source": [
    "np.unique(base_01['Matriz mesangial'])"
   ]
  },
  {
   "cell_type": "code",
   "execution_count": 6,
   "metadata": {},
   "outputs": [],
   "source": [
    "Matriz_mesangial = ['Matriz_mesangial_aspecto_nodular', 'Matriz_mesangial_aumentada', 'Matriz_mesangial_aumento_discreto',\n",
    "                    'Matriz_mesangial_mesangiolise', 'Matriz_mesangial_normal']"
   ]
  },
  {
   "cell_type": "markdown",
   "metadata": {},
   "source": [
    "Celularidade mesangial"
   ]
  },
  {
   "cell_type": "code",
   "execution_count": 7,
   "metadata": {},
   "outputs": [
    {
     "data": {
      "text/plain": [
       "array(['aumentada', 'diminuída', 'normal'], dtype=object)"
      ]
     },
     "execution_count": 7,
     "metadata": {},
     "output_type": "execute_result"
    }
   ],
   "source": [
    "np.unique(base_01['Celularidade mesangial'])"
   ]
  },
  {
   "cell_type": "code",
   "execution_count": 8,
   "metadata": {},
   "outputs": [],
   "source": [
    "Celularidade_mesangial = ['Celularidade_mesangial_aumentada', 'Celularidade_mesangial_diminuida',\n",
    "                          'Celularidade_mesangial_normal']"
   ]
  },
  {
   "cell_type": "markdown",
   "metadata": {},
   "source": [
    "Membrana basal glomerular"
   ]
  },
  {
   "cell_type": "code",
   "execution_count": 9,
   "metadata": {},
   "outputs": [
    {
     "data": {
      "text/plain": [
       "array(['duplicação', 'duplicação e espículas',\n",
       "       'duplicação espículas e ruptura', 'espessada', 'espessamento',\n",
       "       'espessamento duplicação espículas', 'espículas', 'normal',\n",
       "       'ruptura', 'ruptura buracos e duplicação', 'ruptura e duplicação',\n",
       "       'ruptura espículas e duplicação'], dtype=object)"
      ]
     },
     "execution_count": 9,
     "metadata": {},
     "output_type": "execute_result"
    }
   ],
   "source": [
    "np.unique(base_01['Membrana basal glomerular'])"
   ]
  },
  {
   "cell_type": "code",
   "execution_count": 10,
   "metadata": {},
   "outputs": [],
   "source": [
    "Membrana_basal_glomerular = ['Membrana_basal_glomerular_duplicacao', \n",
    "                             'Membrana_basal_glomerular_duplicacao_e_espiculas',\n",
    "                             'Membrana_basal_glomerular_duplicacao_espiculas_e_ruptura', \n",
    "                             'Membrana_basal_glomerular_espessada', \n",
    "                             'Membrana_basal_glomerular_espessamento',\n",
    "                             'Membrana_basal_glomerular_espessamento_duplicacao_espiculas', \n",
    "                             'Membrana_basal_glomerular_espiculas', \n",
    "                             'Membrana_basal_glomerular_normal',\n",
    "                             'Membrana_basal_glomerular_ruptura', \n",
    "                             'Membrana_basal_glomerular_ruptura_buracos_e_duplicacao',\n",
    "                             'Membrana_basal_glomerular_ruptura_e_duplicacao', \n",
    "                             'Membrana_basal_glomerular_ruptura_espiculas_e_duplicacao']"
   ]
  },
  {
   "cell_type": "markdown",
   "metadata": {},
   "source": [
    "Espaço de Bowman"
   ]
  },
  {
   "cell_type": "code",
   "execution_count": 11,
   "metadata": {},
   "outputs": [
    {
     "data": {
      "text/plain": [
       "array(['adesão', 'adesão e crescentes', 'capsular drops', 'crescentes',\n",
       "       'crescentes em mais de 50%', 'normal'], dtype=object)"
      ]
     },
     "execution_count": 11,
     "metadata": {},
     "output_type": "execute_result"
    }
   ],
   "source": [
    "np.unique(base_01['Espaço de Bowman'])"
   ]
  },
  {
   "cell_type": "code",
   "execution_count": 12,
   "metadata": {},
   "outputs": [],
   "source": [
    "Espaco_de_Bowman = ['Espaco_de_Bowman_adesao', 'Espaco_de_Bowman_adesao_e_crescentes', \n",
    "                    'Espaco_de_Bowman_capsular_drops', 'Espaco_de_Bowman_crescentes',\n",
    "                    'Espaco_de_Bowman_crescentes_em_mais_de_50%', 'Espaco_de_Bowman_normal']"
   ]
  },
  {
   "cell_type": "markdown",
   "metadata": {},
   "source": [
    "Tufo glomerular"
   ]
  },
  {
   "cell_type": "code",
   "execution_count": 13,
   "metadata": {},
   "outputs": [
    {
     "data": {
      "text/plain": [
       "array(['congesto', 'esclerose global', 'esclerose segmentar',\n",
       "       'esclerose segmentar e global', 'hipercelularidade endocapilar',\n",
       "       'hipercelularidade endocapilar e esclerose segmentar',\n",
       "       'hipercelularidade endocapilar e wire loop',\n",
       "       'hipercelularidade endocapilar em mais de 50%',\n",
       "       'hipercelularidade endocapilar esclerose segmentar e wire loop',\n",
       "       'infiltração por neutrófilos', 'normal'], dtype=object)"
      ]
     },
     "execution_count": 13,
     "metadata": {},
     "output_type": "execute_result"
    }
   ],
   "source": [
    "np.unique(base_01['Tufo glomerular'])"
   ]
  },
  {
   "cell_type": "code",
   "execution_count": 14,
   "metadata": {},
   "outputs": [],
   "source": [
    "Tufo_glomerular = ['Tufo_glomerular_congesto', \n",
    "                   'Tufo_glomerular_esclerose_global', \n",
    "                   'Tufo_glomerular_esclerose_segmentar',\n",
    "                   'Tufo_glomerular_esclerose_segmentar_e_global', \n",
    "                   'Tufo_glomerular_hipercelularidade_endocapilar',\n",
    "                   'Tufo_glomerular_hipercelularidade_endocapilar_e_esclerose_segmentar',\n",
    "                   'Tufo_glomerular_hipercelularidade_endocapilar_e_wire_loop',\n",
    "                   'Tufo_glomerular_hipercelularidade_endocapilar_em_mais_de_50%',\n",
    "                   'Tufo_glomerular_hipercelularidade_endocapilar_esclerose_segmentar_e_wire_loop',\n",
    "                   'Tufo_glomerular_infiltracao_por_neutrofilos', \n",
    "                   'Tufo_glomerular_normal']"
   ]
  },
  {
   "cell_type": "markdown",
   "metadata": {},
   "source": [
    "Podócito"
   ]
  },
  {
   "cell_type": "code",
   "execution_count": 15,
   "metadata": {},
   "outputs": [
    {
     "data": {
      "text/plain": [
       "array(['hipertrofia', 'normal', 'vacuolização'], dtype=object)"
      ]
     },
     "execution_count": 15,
     "metadata": {},
     "output_type": "execute_result"
    }
   ],
   "source": [
    "np.unique(base_01['Podócito'])"
   ]
  },
  {
   "cell_type": "code",
   "execution_count": 16,
   "metadata": {},
   "outputs": [],
   "source": [
    "Podocito = ['Podocito_hipertrofia', 'Podocito_normal', 'Podocito_vacuolizacao']"
   ]
  },
  {
   "cell_type": "markdown",
   "metadata": {},
   "source": [
    "Necrose tubular aguda"
   ]
  },
  {
   "cell_type": "code",
   "execution_count": 17,
   "metadata": {},
   "outputs": [
    {
     "data": {
      "text/plain": [
       "array(['ausente'], dtype=object)"
      ]
     },
     "execution_count": 17,
     "metadata": {},
     "output_type": "execute_result"
    }
   ],
   "source": [
    "np.unique(base_01['Necrose tubular aguda'])"
   ]
  },
  {
   "cell_type": "code",
   "execution_count": 18,
   "metadata": {},
   "outputs": [],
   "source": [
    "Necrose_tubular_aguda = ['Necrose_tubular_aguda_ausente']"
   ]
  },
  {
   "cell_type": "markdown",
   "metadata": {},
   "source": [
    "Vacuolização do epitélio"
   ]
  },
  {
   "cell_type": "code",
   "execution_count": 19,
   "metadata": {},
   "outputs": [
    {
     "data": {
      "text/plain": [
       "array(['ausente', 'presente'], dtype=object)"
      ]
     },
     "execution_count": 19,
     "metadata": {},
     "output_type": "execute_result"
    }
   ],
   "source": [
    "np.unique(base_01['Vacuolização do epitélio'])"
   ]
  },
  {
   "cell_type": "code",
   "execution_count": 20,
   "metadata": {},
   "outputs": [],
   "source": [
    "Vacuolizacao_do_epitelio = ['Vacuolizacao_do_epitelio_ausente', 'Vacuolizacao_do_epitelio_presente']"
   ]
  },
  {
   "cell_type": "markdown",
   "metadata": {},
   "source": [
    "Cristais"
   ]
  },
  {
   "cell_type": "code",
   "execution_count": 21,
   "metadata": {},
   "outputs": [
    {
     "data": {
      "text/plain": [
       "array(['ausente'], dtype=object)"
      ]
     },
     "execution_count": 21,
     "metadata": {},
     "output_type": "execute_result"
    }
   ],
   "source": [
    "np.unique(base_01['Cristais'])"
   ]
  },
  {
   "cell_type": "code",
   "execution_count": 22,
   "metadata": {},
   "outputs": [],
   "source": [
    "Cristais = ['Cristais_ausente']"
   ]
  },
  {
   "cell_type": "markdown",
   "metadata": {},
   "source": [
    "Calcificação"
   ]
  },
  {
   "cell_type": "code",
   "execution_count": 23,
   "metadata": {},
   "outputs": [
    {
     "data": {
      "text/plain": [
       "array(['ausente', 'presente'], dtype=object)"
      ]
     },
     "execution_count": 23,
     "metadata": {},
     "output_type": "execute_result"
    }
   ],
   "source": [
    "np.unique(base_01['Calcificação'])"
   ]
  },
  {
   "cell_type": "code",
   "execution_count": 24,
   "metadata": {},
   "outputs": [],
   "source": [
    "Calcificacao = ['Calcificacao_ausente', 'Calcificacao_presente']"
   ]
  },
  {
   "cell_type": "markdown",
   "metadata": {},
   "source": [
    "Tubulite"
   ]
  },
  {
   "cell_type": "code",
   "execution_count": 25,
   "metadata": {},
   "outputs": [
    {
     "data": {
      "text/plain": [
       "array(['ausente', 'presente'], dtype=object)"
      ]
     },
     "execution_count": 25,
     "metadata": {},
     "output_type": "execute_result"
    }
   ],
   "source": [
    "np.unique(base_01['Tubulite'])"
   ]
  },
  {
   "cell_type": "code",
   "execution_count": 26,
   "metadata": {},
   "outputs": [],
   "source": [
    "Tubulite = ['Tubulite_ausente', 'Tubulite_presente']"
   ]
  },
  {
   "cell_type": "markdown",
   "metadata": {},
   "source": [
    "Cilindros"
   ]
  },
  {
   "cell_type": "code",
   "execution_count": 27,
   "metadata": {},
   "outputs": [
    {
     "data": {
      "text/plain": [
       "array(['ausente', 'hialinos'], dtype=object)"
      ]
     },
     "execution_count": 27,
     "metadata": {},
     "output_type": "execute_result"
    }
   ],
   "source": [
    "np.unique(base_01['Cilindros'])"
   ]
  },
  {
   "cell_type": "code",
   "execution_count": 28,
   "metadata": {},
   "outputs": [],
   "source": [
    "Cilindros = ['Cilindros_ausente', 'Cilindros_hialinos']"
   ]
  },
  {
   "cell_type": "markdown",
   "metadata": {},
   "source": [
    "Atrofia tubular"
   ]
  },
  {
   "cell_type": "code",
   "execution_count": 29,
   "metadata": {},
   "outputs": [
    {
     "data": {
      "text/plain": [
       "array(['ausente', 'presente'], dtype=object)"
      ]
     },
     "execution_count": 29,
     "metadata": {},
     "output_type": "execute_result"
    }
   ],
   "source": [
    "np.unique(base_01['Atrofia tubular'])"
   ]
  },
  {
   "cell_type": "code",
   "execution_count": 30,
   "metadata": {},
   "outputs": [],
   "source": [
    "Atrofia_tubular = ['Atrofia_tubular_ausente', 'Atrofia_tubular_presente']"
   ]
  },
  {
   "cell_type": "markdown",
   "metadata": {},
   "source": [
    "Graduação de atrofia"
   ]
  },
  {
   "cell_type": "code",
   "execution_count": 31,
   "metadata": {},
   "outputs": [
    {
     "data": {
      "text/plain": [
       "array(['acentuada', 'ausente', 'discreta', 'moderada'], dtype=object)"
      ]
     },
     "execution_count": 31,
     "metadata": {},
     "output_type": "execute_result"
    }
   ],
   "source": [
    "np.unique(base_01['Graduação de atrofia'])"
   ]
  },
  {
   "cell_type": "code",
   "execution_count": 32,
   "metadata": {},
   "outputs": [],
   "source": [
    "Graduacao_de_atrofia = ['Graduacao_de_atrofia_acentuada', 'Graduacao_de_atrofia_ausente', \n",
    "                        'Graduacao_de_atrofia_discreta', 'Graduacao_de_atrofia_moderada']"
   ]
  },
  {
   "cell_type": "markdown",
   "metadata": {},
   "source": [
    "Fibrose intersitical"
   ]
  },
  {
   "cell_type": "code",
   "execution_count": 33,
   "metadata": {},
   "outputs": [
    {
     "data": {
      "text/plain": [
       "array(['ausente', 'presente'], dtype=object)"
      ]
     },
     "execution_count": 33,
     "metadata": {},
     "output_type": "execute_result"
    }
   ],
   "source": [
    "np.unique(base_01['Fibrose intersitical'])"
   ]
  },
  {
   "cell_type": "code",
   "execution_count": 34,
   "metadata": {},
   "outputs": [],
   "source": [
    "Fibrose_intersitical = ['Fibrose_intersitical_ausente', 'Fibrose_intersitical_presente']"
   ]
  },
  {
   "cell_type": "markdown",
   "metadata": {},
   "source": [
    "Graduação da fibrose"
   ]
  },
  {
   "cell_type": "code",
   "execution_count": 35,
   "metadata": {},
   "outputs": [
    {
     "data": {
      "text/plain": [
       "array(['acentuada', 'ausente', 'discreta', 'moderada'], dtype=object)"
      ]
     },
     "execution_count": 35,
     "metadata": {},
     "output_type": "execute_result"
    }
   ],
   "source": [
    "np.unique(base_01['Graduação da fibrose'])"
   ]
  },
  {
   "cell_type": "code",
   "execution_count": 36,
   "metadata": {},
   "outputs": [],
   "source": [
    "Graduacao_da_fibrose = ['Graduacao_da_fibrose_acentuada', 'Graduacao_da_fibrose_ausente', \n",
    "                        'Graduacao_da_fibrose_discreta', 'Graduacao_da_fibrose_moderada']"
   ]
  },
  {
   "cell_type": "markdown",
   "metadata": {},
   "source": [
    "Infiltrado inflamatório"
   ]
  },
  {
   "cell_type": "code",
   "execution_count": 37,
   "metadata": {},
   "outputs": [
    {
     "data": {
      "text/plain": [
       "array(['ausente', 'presente'], dtype=object)"
      ]
     },
     "execution_count": 37,
     "metadata": {},
     "output_type": "execute_result"
    }
   ],
   "source": [
    "np.unique(base_01['Infiltrado inflamatório'])"
   ]
  },
  {
   "cell_type": "code",
   "execution_count": 38,
   "metadata": {},
   "outputs": [],
   "source": [
    "Infiltrado_inflamatorio = ['Infiltrado_inflamatorio_ausente', 'Infiltrado_inflamatorio_presente']"
   ]
  },
  {
   "cell_type": "markdown",
   "metadata": {},
   "source": [
    "Tipo de infiltrado inflamatório"
   ]
  },
  {
   "cell_type": "code",
   "execution_count": 39,
   "metadata": {},
   "outputs": [
    {
     "data": {
      "text/plain": [
       "array(['ausente', 'misto', 'mononuclear'], dtype=object)"
      ]
     },
     "execution_count": 39,
     "metadata": {},
     "output_type": "execute_result"
    }
   ],
   "source": [
    "np.unique(base_01['tipo de infiltrado inflamatório'])"
   ]
  },
  {
   "cell_type": "code",
   "execution_count": 40,
   "metadata": {},
   "outputs": [],
   "source": [
    "Tipo_de_infiltrado_inflamatorio = ['Tipo_de_infiltrado_inflamatorio_ausente', 'Tipo_de_infiltrado_inflamatorio_misto', \n",
    "                                   'Tipo_de_infiltrado_inflamatorio_mononuclear']"
   ]
  },
  {
   "cell_type": "markdown",
   "metadata": {},
   "source": [
    "Vasculite"
   ]
  },
  {
   "cell_type": "code",
   "execution_count": 41,
   "metadata": {},
   "outputs": [
    {
     "data": {
      "text/plain": [
       "array(['ausente'], dtype=object)"
      ]
     },
     "execution_count": 41,
     "metadata": {},
     "output_type": "execute_result"
    }
   ],
   "source": [
    "np.unique(base_01['Vasculite'])"
   ]
  },
  {
   "cell_type": "code",
   "execution_count": 42,
   "metadata": {},
   "outputs": [],
   "source": [
    "Vasculite = ['Vasculite_ausente']"
   ]
  },
  {
   "cell_type": "markdown",
   "metadata": {},
   "source": [
    "Microangiopatia trombótica"
   ]
  },
  {
   "cell_type": "code",
   "execution_count": 43,
   "metadata": {
    "scrolled": true
   },
   "outputs": [
    {
     "data": {
      "text/plain": [
       "array(['ausente', 'presente'], dtype=object)"
      ]
     },
     "execution_count": 43,
     "metadata": {},
     "output_type": "execute_result"
    }
   ],
   "source": [
    "np.unique(base_01['Microangiopatia trombótica'])"
   ]
  },
  {
   "cell_type": "code",
   "execution_count": 44,
   "metadata": {},
   "outputs": [],
   "source": [
    "Microangiopatia_trombotica = ['Microangiopatia_trombotica_ausente', 'Microangiopatia_trombotica_presente']"
   ]
  },
  {
   "cell_type": "markdown",
   "metadata": {},
   "source": [
    "Trombos"
   ]
  },
  {
   "cell_type": "code",
   "execution_count": 45,
   "metadata": {},
   "outputs": [
    {
     "data": {
      "text/plain": [
       "array(['ausente'], dtype=object)"
      ]
     },
     "execution_count": 45,
     "metadata": {},
     "output_type": "execute_result"
    }
   ],
   "source": [
    "np.unique(base_01['Trombos'])"
   ]
  },
  {
   "cell_type": "code",
   "execution_count": 46,
   "metadata": {},
   "outputs": [],
   "source": [
    "Trombos = ['Trombos_ausente']"
   ]
  },
  {
   "cell_type": "markdown",
   "metadata": {},
   "source": [
    "Hialinose"
   ]
  },
  {
   "cell_type": "code",
   "execution_count": 47,
   "metadata": {},
   "outputs": [
    {
     "data": {
      "text/plain": [
       "array(['ausente', 'presente', 'presente em arteríolas',\n",
       "       'presente em arteríolas aferentes e eferentes'], dtype=object)"
      ]
     },
     "execution_count": 47,
     "metadata": {},
     "output_type": "execute_result"
    }
   ],
   "source": [
    "np.unique(base_01['Hialinose'])"
   ]
  },
  {
   "cell_type": "code",
   "execution_count": 48,
   "metadata": {},
   "outputs": [],
   "source": [
    "Hialinose = ['Hialinose_ausente', 'Hialinose_presente', 'Hialinose_presente_em_arteriolas', \n",
    "             'Hialinose_presente_em_arteriolas_aferentes_e_eferentes']"
   ]
  },
  {
   "cell_type": "markdown",
   "metadata": {},
   "source": [
    "Necrose Fibrinóide"
   ]
  },
  {
   "cell_type": "code",
   "execution_count": 49,
   "metadata": {},
   "outputs": [
    {
     "data": {
      "text/plain": [
       "array(['ausente', 'presente'], dtype=object)"
      ]
     },
     "execution_count": 49,
     "metadata": {},
     "output_type": "execute_result"
    }
   ],
   "source": [
    "np.unique(base_01['Necrose Fibrinóide'])"
   ]
  },
  {
   "cell_type": "code",
   "execution_count": 50,
   "metadata": {},
   "outputs": [],
   "source": [
    "Necrose_Fibrinoide = ['Necrose_Fibrinoide_ausente', 'Necrose_Fibrinoide_presente']"
   ]
  },
  {
   "cell_type": "markdown",
   "metadata": {},
   "source": [
    "Imunofluorescência"
   ]
  },
  {
   "cell_type": "code",
   "execution_count": 51,
   "metadata": {},
   "outputs": [
    {
     "data": {
      "text/plain": [
       "array(['negativa', 'não realizada', 'positiva'], dtype=object)"
      ]
     },
     "execution_count": 51,
     "metadata": {},
     "output_type": "execute_result"
    }
   ],
   "source": [
    "np.unique(base_01['IMUNOFLUORESCÊNCIA'])"
   ]
  },
  {
   "cell_type": "code",
   "execution_count": 52,
   "metadata": {},
   "outputs": [],
   "source": [
    "Imunofluorescencia = ['Imunofluorescencia_negativa', 'Imunofluorescencia_nao_realizada', 'Imunofluorescencia_positiva']"
   ]
  },
  {
   "cell_type": "markdown",
   "metadata": {},
   "source": [
    "Padrão de deposição"
   ]
  },
  {
   "cell_type": "code",
   "execution_count": 53,
   "metadata": {},
   "outputs": [
    {
     "data": {
      "text/plain": [
       "array(['aprisionado no crescente', 'granular em alça capilar',\n",
       "       'granular em mesângio', 'granular em mesângio e em alça capilar',\n",
       "       'granular em mesângio e linear em membrana basal',\n",
       "       'granular grosseiro (tipo céu estrelado)', 'linear', 'negativa',\n",
       "       'não realizada', 'segmentar'], dtype=object)"
      ]
     },
     "execution_count": 53,
     "metadata": {},
     "output_type": "execute_result"
    }
   ],
   "source": [
    "np.unique(base_01['padrão de deposição'])"
   ]
  },
  {
   "cell_type": "code",
   "execution_count": 54,
   "metadata": {},
   "outputs": [],
   "source": [
    "Padrao_de_deposicao = ['Padrao_de_deposicao_aprisionado_no_crescente', \n",
    "                       'Padrao_de_deposicao_granular_em_alca_capilar',\n",
    "                       'Padrao_de_deposicao_granular_em_mesangio', \n",
    "                       'Padrao_de_deposicao_granular_em_mesangio_e_em_alca_capilar', \n",
    "                       'Padrao_de_deposicao_granular_em_mesangio_e_linear_em_membrana_basal',\n",
    "                       'Padrao_de_deposicao_granular_grosseiro_(tipo_ceu_estrelado)', 'Padrao_de_deposicao_linear',\n",
    "                       'Padrao_de_deposicao_negativa', \n",
    "                       'Padrao_de_deposicao_nao_realizada', \n",
    "                       'Padrao_de_deposicao_segmentar']"
   ]
  },
  {
   "cell_type": "markdown",
   "metadata": {},
   "source": [
    "Imunodepósitos"
   ]
  },
  {
   "cell_type": "code",
   "execution_count": 55,
   "metadata": {},
   "outputs": [
    {
     "data": {
      "text/plain": [
       "array(['C3', 'IgA (co-dominante)',\n",
       "       'IgA (co-dominante) C3 Kappa lambda fibrinogênio',\n",
       "       'IgA (co-dominante) IgG kappa lambda',\n",
       "       'IgA (co-dominante) Kappa lambda', 'IgA C1q fibrinogênio',\n",
       "       'IgA IgM C3 C1q lambda', 'IgA IgM IgG C1q', 'IgA IgM IgG C3 C1q',\n",
       "       'IgG', 'IgG C1q Fibrinogênio', 'IgG C3', 'IgG Fibrinogênio',\n",
       "       'IgG IgA IgM C3 Fibrinogênio kappa lambda',\n",
       "       'IgG IgA IgM C3 fibrinogênio kappa lambda',\n",
       "       'IgG Kappa lambda fibrinogênio', 'IgM', 'IgM C1q C3 Lambda',\n",
       "       'IgM C3', 'IgM C3 C1q', 'IgM C3 C1q lambda fibrinogênio',\n",
       "       'IgM C3 fibrinogênio', 'IgM IgA C3 C1q Fibrinogênio kappa lambda',\n",
       "       'IgM IgA IgG C3 fibrinogênio',\n",
       "       'IgM IgG C1q kappa lambda fibrinogênio', 'IgM IgG C3',\n",
       "       'IgM IgG C3 Lambda Fibrinogênio',\n",
       "       'IgM IgG IgA C3 Kappa Lambda fibrinogênio',\n",
       "       'IgM IgG IgA C3 Lambda', 'IgM IgG IgA C3 c1q',\n",
       "       'IgM IgG IgA Lambda Fibrinogênio',\n",
       "       'IgM IgG Kappa Lambda Fibrinogênio', 'IgM IgG fibrinogênio',\n",
       "       'IgM Lambda fibrinogênio', 'Kappa Fibrinogênio', 'Kappa lambda',\n",
       "       'full house', 'lambda', 'negativa', 'não realizada'], dtype=object)"
      ]
     },
     "execution_count": 55,
     "metadata": {},
     "output_type": "execute_result"
    }
   ],
   "source": [
    "np.unique(base_01['Imunodepósitos'])"
   ]
  },
  {
   "cell_type": "code",
   "execution_count": 56,
   "metadata": {},
   "outputs": [],
   "source": [
    "Imunodepositos = ['Imunodepositos_C3', \n",
    "                  'Imunodepositos_IgA_(co-dominante)', \n",
    "                  'Imunodepositos_IgA_(co-dominante)_C3_Kappa_lambda_fibrinogênio', \n",
    "                  'Imunodepositos_IgA_(co-dominante)_IgG_kappa_lambda', \n",
    "                  'Imunodepositos_IgA_(co-dominante)_Kappa_lambda', \n",
    "                  'Imunodepositos_IgA_C1q_fibrinogênio',\n",
    "                  'Imunodepositos_IgA_IgM_C3_C1q_lambda', \n",
    "                  'Imunodepositos_IgA_IgM_IgG_C1q', \n",
    "                  'Imunodepositos_IgA_IgM_IgG_C3_C1q', \n",
    "                  'Imunodepositos_IgG', \n",
    "                  'Imunodepositos_IgG_C1q_Fibrinogenio',\n",
    "                  'Imunodepositos_IgG_C3', \n",
    "                  'Imunodepositos_IgG_Fibrinogênio', \n",
    "                  'Imunodepositos_IgG_IgA_IgM_C3_Fibrinogenio_kappa_lambda', \n",
    "                  'Imunodepositos_IgG_Kappa_lambda_fibrinogenio', \n",
    "                  'Imunodepositos_IgM', \n",
    "                  'Imunodepositos_IgM_C1q_C3_Lambda', \n",
    "                  'Imunodepositos_IgM_C3', \n",
    "                  'Imunodepositos_IgM_C3_C1q', \n",
    "                  'Imunodepositos_IgM_C3_C1q_lambda_fibrinogenio', \n",
    "                  'Imunodepositos_IgM_C3_fibrinogenio', \n",
    "                  'Imunodepositos_IgM_IgA_C3_C1q_Fibrinogenio_kappa_lambda', \n",
    "                  'Imunodepositos_IgM_IgA_IgG_C3_fibrinogenio', \n",
    "                  'Imunodepositos_IgM_IgG_C1q_kappa_lambda_fibrinogenio', \n",
    "                  'Imunodepositos_IgM_IgG_C3', \n",
    "                  'Imunodepositos_IgM_IgG_C3_Lambda_Fibrinogenio', \n",
    "                  'Imunodepositos_IgM_IgG_IgA_C3_Kappa_Lambda_fibrinogenio', \n",
    "                  'Imunodepositos_IgM_IgG_IgA_C3_Lambda', \n",
    "                  'Imunodepositos_IgM_IgG_IgA_C3_c1q', \n",
    "                  'Imunodepositos_IgM_IgG_IgA_Lambda_Fibrinogenio', \n",
    "                  'Imunodepositos_IgM_IgG_Kappa_Lambda_Fibrinogenio', \n",
    "                  'Imunodepositos_IgM_IgG_Kappa_Lambda_Fibrinogênio', \n",
    "                  'Imunodepositos_IgM_IgG_fibrinogenio', \n",
    "                  'Imunodepositos_IgM_Lambda_fibrinogenio', \n",
    "                  'Imunodepositos_Kappa_Fibrinogenio', \n",
    "                  'Imunodepositos_Kappa_lambda', \n",
    "                  'Imunodepositos_full_house', \n",
    "                  'Imunodepositos_lambda', \n",
    "                  'Imunodepositos_negativa', \n",
    "                  'Imunodepositos_nao_realizada']"
   ]
  },
  {
   "cell_type": "markdown",
   "metadata": {},
   "source": [
    "Imunohistoquímica"
   ]
  },
  {
   "cell_type": "code",
   "execution_count": 57,
   "metadata": {},
   "outputs": [
    {
     "data": {
      "text/plain": [
       "array(['IgG4 positivo e anti-fosfolipase A2 negativa',\n",
       "       'IgG4 positivo e anti-fosfolipase A2 positiva', 'não realizada',\n",
       "       'positivo para fibronectina'], dtype=object)"
      ]
     },
     "execution_count": 57,
     "metadata": {},
     "output_type": "execute_result"
    }
   ],
   "source": [
    "np.unique(base_01['Imunohistoquímica'])"
   ]
  },
  {
   "cell_type": "code",
   "execution_count": 58,
   "metadata": {},
   "outputs": [],
   "source": [
    "Imunohistoquimica = ['Imunohistoquimica_IgG4_positivo_e_anti-fosfolipase_A2_negativa', \n",
    "                     'Imunohistoquimica_IgG4_positivo_e_anti-fosfolipase_A2_positiva', \n",
    "                     'Imunohistoquimica_nao_realizada', \n",
    "                     'Imunohistoquimica_positivo_para_fibronectina']"
   ]
  },
  {
   "cell_type": "markdown",
   "metadata": {},
   "source": [
    "Microscopia eletrônica"
   ]
  },
  {
   "cell_type": "code",
   "execution_count": 59,
   "metadata": {},
   "outputs": [
    {
     "data": {
      "text/plain": [
       "array(['Compatível com padrão membranoproliferativo',\n",
       "       'alargamento de pedicelos ou aproximação deles mas alguns preservados',\n",
       "       'apagamento de processo podocitário espessamento da membrana basal glomerular',\n",
       "       'apagamento dos processos podocitários',\n",
       "       'apagamento dos processos podocitários (pedicelos)',\n",
       "       'apagamento dos processos podocitários (pedicelos) e depósitos elétron-densos subepiteliais',\n",
       "       'depósitos elétron-densos em região paramesangial e mesangial',\n",
       "       'depósitos elétron-densos largos (humps) apagamento de processo podocitários',\n",
       "       'depósitos elétron-densos subendoteliais',\n",
       "       'depósitos elétron-densos subepiteliais e subendoteliais',\n",
       "       'grandes depósitos elétron-densos na lâmina densa da membrana basal glomerular',\n",
       "       'irregularidade da membrana basal glomerular e discreta expansão mesangial',\n",
       "       'material eletrodenso lamelado em podócitos',\n",
       "       'material eletrondenso lamelado no citoplasma de podócitos',\n",
       "       'membrana basal glomerular fina', 'normal', 'não realizada'],\n",
       "      dtype=object)"
      ]
     },
     "execution_count": 59,
     "metadata": {},
     "output_type": "execute_result"
    }
   ],
   "source": [
    "np.unique(base_01['Microscopia eletrônica'])"
   ]
  },
  {
   "cell_type": "code",
   "execution_count": 60,
   "metadata": {},
   "outputs": [],
   "source": [
    "Microscopia_eletronica = ['Microscopia_eletronica_Compativel_com_padrao_membranoproliferativo', \n",
    "                          'Microscopia_eletronica_alargamento_de_pedicelos_ou_aproximacao_deles_mas_alguns_preservados', \n",
    "                          'Microscopia_eletronica_apagamento_de_processo_podocitario_espessamento_da_membrana_basal_glomerular', \n",
    "                          'Microscopia_eletronica_apagamento_dos_processos_podocitarios', \n",
    "                          'Microscopia_eletronica_apagamento_dos_processos_podocitarios_(pedicelos)', \n",
    "                          'Microscopia_eletronica_apagamento_dos_processos_podocitários_(pedicelos)_e_depositos_eletron-densos_subepiteliais', \n",
    "                          'Microscopia_eletronica_depositos_eletron-densos_em_regiao_paramesangial_e_mesangial', \n",
    "                          'Microscopia_eletronica_depositos_eletron-densos_largos_(humps)_apagamento_de_processo_podocitários', \n",
    "                          'Microscopia_eletronica_depositos_eletron-densos_subendoteliais', \n",
    "                          'Microscopia_eletronica_depositos_eletron-densos_subepiteliais_e_subendoteliais', \n",
    "                          'Microscopia_eletronica_grandes_depositos_eletron-densos_na_lamina_densa_da_membrana_basal_glomerular', \n",
    "                          'Microscopia_eletronica_irregularidade_da_membrana_basal_glomerular_e_discreta_expansao_mesangial', \n",
    "                          'Microscopia_eletronica_material_eletrodenso_lamelado_em_podocitos', \n",
    "                          'Microscopia_eletronica_material_eletrondenso_lamelado_no_citoplasma_de_podocitos', \n",
    "                          'Microscopia_eletronica_membrana_basal_glomerular_fina', \n",
    "                          'Microscopia_eletronica_normal', \n",
    "                          'Microscopia_eletronica_nao_realizada']"
   ]
  },
  {
   "cell_type": "markdown",
   "metadata": {},
   "source": [
    "Vermelho congo"
   ]
  },
  {
   "cell_type": "code",
   "execution_count": 61,
   "metadata": {},
   "outputs": [
    {
     "data": {
      "text/plain": [
       "array(['negativo', 'não realizado', 'positivo'], dtype=object)"
      ]
     },
     "execution_count": 61,
     "metadata": {},
     "output_type": "execute_result"
    }
   ],
   "source": [
    "np.unique(base_01['vermelho congo'])"
   ]
  },
  {
   "cell_type": "code",
   "execution_count": 62,
   "metadata": {},
   "outputs": [],
   "source": [
    "Vermelho_congo = ['Vermelho_congo_negativo', 'Vermelho_congo_nao_realizado', 'Vermelho_congo_positivo']"
   ]
  },
  {
   "cell_type": "markdown",
   "metadata": {},
   "source": [
    "Clínica"
   ]
  },
  {
   "cell_type": "code",
   "execution_count": 63,
   "metadata": {},
   "outputs": [
    {
     "data": {
      "text/plain": [
       "array(['Insuficiência renal aguda', 'anasarca e dispnéia',\n",
       "       'diabetes e proteinúria', 'diabético e síndrome nefrótica',\n",
       "       'doença de fabry', 'eclâmpsia e choque hipovolêmico', 'edema',\n",
       "       'edema e proteinúria',\n",
       "       'edema oligúria escarros hemoptóicos e hematúria',\n",
       "       'edema persistente associado a hematúria e hipertensão',\n",
       "       'hematúria', 'hematúria proteinúria',\n",
       "       'hipertensão diabetes e piora de função renal',\n",
       "       'hipertensão e diabetes', 'hipertensão e proteinúria',\n",
       "       'hipocalemia e elevação de escórias', 'lúpus',\n",
       "       'lúpus anasarca e proteinúria', 'lúpus hematúria e oligúria',\n",
       "       'lúpus insuficiência renal algua', 'proteinúria',\n",
       "       'proteinúria e hematúria', 'proteinúria hematúria',\n",
       "       'proteinúria hematúria consumo de complemento',\n",
       "       'proteinúria hematúria e alteração cardíaca',\n",
       "       'proteinúria hematúria e insuficiência renal crônica',\n",
       "       'proteinúria nefrótica', 'síndrome nefrítica',\n",
       "       'síndrome nefrítica-nefrótica', 'síndrome nefrítico-nefrótica',\n",
       "       'síndrome nefrótica', 'síndrome nefrótica córtico-dependente',\n",
       "       'síndrome nefrótica córtico-resistente'], dtype=object)"
      ]
     },
     "execution_count": 63,
     "metadata": {},
     "output_type": "execute_result"
    }
   ],
   "source": [
    "np.unique(base_01['Clínica'])"
   ]
  },
  {
   "cell_type": "code",
   "execution_count": 64,
   "metadata": {},
   "outputs": [],
   "source": [
    "Clinica = ['Clinica_Insuficiencia_renal_aguda', \n",
    "           'Clinica_anasarca_e_dispneia', \n",
    "           'Clinica_diabetes_e_proteinuria', \n",
    "           'Clinica_diabetico_e_sindrome_nefrotica', \n",
    "           'Clinica_doenca_de_fabry', \n",
    "           'Clinica_eclampsia_e_choque_hipovolemico', \n",
    "           'Clinica_edema', \n",
    "           'Clinica_edema_e_proteinuria', \n",
    "           'Clinica_edema_oliguria_escarros_hemoptoicos_e_hematuria', \n",
    "           'Clinica_edema_persistente_associado_a_hematuria_e_hipertensao', \n",
    "           'Clinica_hematuria', \n",
    "           'Clinica_hematuria_proteinuria', \n",
    "           'Clinica_hipertensao_diabetes_e_piora_de_funcao_renal', \n",
    "           'Clinica_hipertensao_e_diabetes', \n",
    "           'Clinica_hipertensão_e_proteinuria', \n",
    "           'Clinica_hipocalemia_e_elevacao_de_escorias', \n",
    "           'Clinica_lupus', \n",
    "           'Clinica_lupus_anasarca_e_proteinuria', \n",
    "           'Clinica_lupus_hematuria_e_oliguria', \n",
    "           'Clinica_lupus_insuficiencia_renal_algua', \n",
    "           'Clinica_proteinuria', \n",
    "           'Clinica_proteinuria_e_hematuria', \n",
    "           'Clinica_proteinuria_hematuria', \n",
    "           'Clinica_proteinuria_hematuria_consumo_de_complemento', \n",
    "           'Clinica_proteinuria_hematuria_e_alteracao_cardiaca', \n",
    "           'Clinica_proteinuria_hematuria_e_insuficiencia_renal_cronica', \n",
    "           'Clinica_proteinuria_nefrotica',\n",
    "           'Clinica_sindrome_nefrítica',\n",
    "           'Clinica_sindrome_nefritica-nefrotica',\n",
    "           'Clinica_sindrome_nefritico-nefrotica', \n",
    "           'Clinica_sindrome_nefrotica', \n",
    "           'Clinica_sindrome_nefrotica_cortico-dependente', \n",
    "           'Clinica_sindrome_nefrotica_cortico-resistente']"
   ]
  },
  {
   "cell_type": "markdown",
   "metadata": {},
   "source": [
    "Textura"
   ]
  },
  {
   "cell_type": "code",
   "execution_count": 65,
   "metadata": {},
   "outputs": [
    {
     "data": {
      "text/plain": [
       "array(['Inexistente', 'Regular', 'Suave'], dtype=object)"
      ]
     },
     "execution_count": 65,
     "metadata": {},
     "output_type": "execute_result"
    }
   ],
   "source": [
    "np.unique(base_01['Textura'])"
   ]
  },
  {
   "cell_type": "code",
   "execution_count": 66,
   "metadata": {},
   "outputs": [],
   "source": [
    "Textura = ['Textura_Inexistente', 'Textura_Regular', 'Textura_Suave']"
   ]
  },
  {
   "cell_type": "markdown",
   "metadata": {},
   "source": [
    "# Criando e preenchendo as novas bases"
   ]
  },
  {
   "cell_type": "markdown",
   "metadata": {},
   "source": [
    "Inicializando os índices"
   ]
  },
  {
   "cell_type": "code",
   "execution_count": 67,
   "metadata": {},
   "outputs": [
    {
     "name": "stdout",
     "output_type": "stream",
     "text": [
      "[0, 1, 2, 3, 4, 5, 6, 7, 8, 9, 10, 11, 12, 13, 14, 15, 16, 17, 18, 19, 20, 21, 22, 23, 24, 25, 26, 27, 28, 29, 30, 31, 32, 33, 34, 35, 36, 37, 38, 39, 40, 41, 42, 43, 44, 45, 46, 47, 48, 49, 50, 51, 52, 53, 54, 55, 56, 57, 58, 59, 60, 61, 62, 63, 64, 65, 66, 67, 68, 69, 70, 71, 72, 73, 74, 75, 76, 77, 78, 79, 80, 81, 82, 83, 84, 85, 86, 87, 88, 89, 90, 91, 92, 93, 94, 95, 96, 97, 98, 99]\n"
     ]
    }
   ],
   "source": [
    "i = 0\n",
    "indices = []\n",
    "while i < 100:\n",
    "    indices.append(i)\n",
    "    i += 1\n",
    "print(indices)"
   ]
  },
  {
   "cell_type": "markdown",
   "metadata": {},
   "source": [
    "Matriz Mesangial"
   ]
  },
  {
   "cell_type": "code",
   "execution_count": 68,
   "metadata": {},
   "outputs": [
    {
     "data": {
      "text/html": [
       "<div>\n",
       "<style scoped>\n",
       "    .dataframe tbody tr th:only-of-type {\n",
       "        vertical-align: middle;\n",
       "    }\n",
       "\n",
       "    .dataframe tbody tr th {\n",
       "        vertical-align: top;\n",
       "    }\n",
       "\n",
       "    .dataframe thead th {\n",
       "        text-align: right;\n",
       "    }\n",
       "</style>\n",
       "<table border=\"1\" class=\"dataframe\">\n",
       "  <thead>\n",
       "    <tr style=\"text-align: right;\">\n",
       "      <th></th>\n",
       "      <th>Matriz_mesangial_aspecto_nodular</th>\n",
       "      <th>Matriz_mesangial_aumentada</th>\n",
       "      <th>Matriz_mesangial_aumento_discreto</th>\n",
       "      <th>Matriz_mesangial_mesangiolise</th>\n",
       "      <th>Matriz_mesangial_normal</th>\n",
       "    </tr>\n",
       "  </thead>\n",
       "  <tbody>\n",
       "    <tr>\n",
       "      <th>0</th>\n",
       "      <td>NaN</td>\n",
       "      <td>NaN</td>\n",
       "      <td>NaN</td>\n",
       "      <td>NaN</td>\n",
       "      <td>NaN</td>\n",
       "    </tr>\n",
       "    <tr>\n",
       "      <th>1</th>\n",
       "      <td>NaN</td>\n",
       "      <td>NaN</td>\n",
       "      <td>NaN</td>\n",
       "      <td>NaN</td>\n",
       "      <td>NaN</td>\n",
       "    </tr>\n",
       "    <tr>\n",
       "      <th>2</th>\n",
       "      <td>NaN</td>\n",
       "      <td>NaN</td>\n",
       "      <td>NaN</td>\n",
       "      <td>NaN</td>\n",
       "      <td>NaN</td>\n",
       "    </tr>\n",
       "    <tr>\n",
       "      <th>3</th>\n",
       "      <td>NaN</td>\n",
       "      <td>NaN</td>\n",
       "      <td>NaN</td>\n",
       "      <td>NaN</td>\n",
       "      <td>NaN</td>\n",
       "    </tr>\n",
       "    <tr>\n",
       "      <th>4</th>\n",
       "      <td>NaN</td>\n",
       "      <td>NaN</td>\n",
       "      <td>NaN</td>\n",
       "      <td>NaN</td>\n",
       "      <td>NaN</td>\n",
       "    </tr>\n",
       "  </tbody>\n",
       "</table>\n",
       "</div>"
      ],
      "text/plain": [
       "  Matriz_mesangial_aspecto_nodular Matriz_mesangial_aumentada  \\\n",
       "0                              NaN                        NaN   \n",
       "1                              NaN                        NaN   \n",
       "2                              NaN                        NaN   \n",
       "3                              NaN                        NaN   \n",
       "4                              NaN                        NaN   \n",
       "\n",
       "  Matriz_mesangial_aumento_discreto Matriz_mesangial_mesangiolise  \\\n",
       "0                               NaN                           NaN   \n",
       "1                               NaN                           NaN   \n",
       "2                               NaN                           NaN   \n",
       "3                               NaN                           NaN   \n",
       "4                               NaN                           NaN   \n",
       "\n",
       "  Matriz_mesangial_normal  \n",
       "0                     NaN  \n",
       "1                     NaN  \n",
       "2                     NaN  \n",
       "3                     NaN  \n",
       "4                     NaN  "
      ]
     },
     "execution_count": 68,
     "metadata": {},
     "output_type": "execute_result"
    }
   ],
   "source": [
    "df_01 = pd.DataFrame(index = indices, columns = Matriz_mesangial)\n",
    "df_01.head()"
   ]
  },
  {
   "cell_type": "code",
   "execution_count": 69,
   "metadata": {},
   "outputs": [
    {
     "data": {
      "text/plain": [
       "array(['aspecto nodular', 'aumentada', 'aumento discreto', 'mesangiólise',\n",
       "       'normal'], dtype=object)"
      ]
     },
     "execution_count": 69,
     "metadata": {},
     "output_type": "execute_result"
    }
   ],
   "source": [
    "np.unique(base_01['Matriz mesangial'])"
   ]
  },
  {
   "cell_type": "code",
   "execution_count": 70,
   "metadata": {},
   "outputs": [
    {
     "data": {
      "text/plain": [
       "Index(['Matriz_mesangial_aspecto_nodular', 'Matriz_mesangial_aumentada',\n",
       "       'Matriz_mesangial_aumento_discreto', 'Matriz_mesangial_mesangiolise',\n",
       "       'Matriz_mesangial_normal'],\n",
       "      dtype='object')"
      ]
     },
     "execution_count": 70,
     "metadata": {},
     "output_type": "execute_result"
    }
   ],
   "source": [
    "df_01.columns"
   ]
  },
  {
   "cell_type": "code",
   "execution_count": 71,
   "metadata": {},
   "outputs": [],
   "source": [
    "def preencher1(coluna, i):\n",
    "    if coluna[i] == 'aspecto nodular':\n",
    "        df_01['Matriz_mesangial_aspecto_nodular'][i]  = 1\n",
    "        df_01['Matriz_mesangial_aumentada'][i]        = 0\n",
    "        df_01['Matriz_mesangial_aumento_discreto'][i] = 0\n",
    "        df_01['Matriz_mesangial_mesangiolise'][i]     = 0\n",
    "        df_01['Matriz_mesangial_normal'][i]           = 0\n",
    "    elif coluna[i] == 'aumentada':\n",
    "        df_01['Matriz_mesangial_aspecto_nodular'][i]  = 0\n",
    "        df_01['Matriz_mesangial_aumentada'][i]        = 1\n",
    "        df_01['Matriz_mesangial_aumento_discreto'][i] = 0\n",
    "        df_01['Matriz_mesangial_mesangiolise'][i]     = 0\n",
    "        df_01['Matriz_mesangial_normal'][i]           = 0\n",
    "    elif coluna[i] == 'aumento discreto':\n",
    "        df_01['Matriz_mesangial_aspecto_nodular'][i]  = 0\n",
    "        df_01['Matriz_mesangial_aumentada'][i]        = 0\n",
    "        df_01['Matriz_mesangial_aumento_discreto'][i] = 1\n",
    "        df_01['Matriz_mesangial_mesangiolise'][i]     = 0\n",
    "        df_01['Matriz_mesangial_normal'][i]           = 0\n",
    "    elif coluna[i] == 'mesangiólise':\n",
    "        df_01['Matriz_mesangial_aspecto_nodular'][i]  = 0\n",
    "        df_01['Matriz_mesangial_aumentada'][i]        = 0\n",
    "        df_01['Matriz_mesangial_aumento_discreto'][i] = 0\n",
    "        df_01['Matriz_mesangial_mesangiolise'][i]     = 1\n",
    "        df_01['Matriz_mesangial_normal'][i]           = 0\n",
    "    else:\n",
    "        df_01['Matriz_mesangial_aspecto_nodular'][i]  = 0\n",
    "        df_01['Matriz_mesangial_aumentada'][i]        = 0\n",
    "        df_01['Matriz_mesangial_aumento_discreto'][i] = 0\n",
    "        df_01['Matriz_mesangial_mesangiolise'][i]     = 0\n",
    "        df_01['Matriz_mesangial_normal'][i]           = 1  "
   ]
  },
  {
   "cell_type": "code",
   "execution_count": 72,
   "metadata": {},
   "outputs": [
    {
     "data": {
      "text/html": [
       "<div>\n",
       "<style scoped>\n",
       "    .dataframe tbody tr th:only-of-type {\n",
       "        vertical-align: middle;\n",
       "    }\n",
       "\n",
       "    .dataframe tbody tr th {\n",
       "        vertical-align: top;\n",
       "    }\n",
       "\n",
       "    .dataframe thead th {\n",
       "        text-align: right;\n",
       "    }\n",
       "</style>\n",
       "<table border=\"1\" class=\"dataframe\">\n",
       "  <thead>\n",
       "    <tr style=\"text-align: right;\">\n",
       "      <th></th>\n",
       "      <th>Matriz_mesangial_aspecto_nodular</th>\n",
       "      <th>Matriz_mesangial_aumentada</th>\n",
       "      <th>Matriz_mesangial_aumento_discreto</th>\n",
       "      <th>Matriz_mesangial_mesangiolise</th>\n",
       "      <th>Matriz_mesangial_normal</th>\n",
       "    </tr>\n",
       "  </thead>\n",
       "  <tbody>\n",
       "    <tr>\n",
       "      <th>0</th>\n",
       "      <td>0</td>\n",
       "      <td>0</td>\n",
       "      <td>0</td>\n",
       "      <td>0</td>\n",
       "      <td>1</td>\n",
       "    </tr>\n",
       "    <tr>\n",
       "      <th>1</th>\n",
       "      <td>0</td>\n",
       "      <td>0</td>\n",
       "      <td>0</td>\n",
       "      <td>0</td>\n",
       "      <td>1</td>\n",
       "    </tr>\n",
       "    <tr>\n",
       "      <th>2</th>\n",
       "      <td>0</td>\n",
       "      <td>1</td>\n",
       "      <td>0</td>\n",
       "      <td>0</td>\n",
       "      <td>0</td>\n",
       "    </tr>\n",
       "    <tr>\n",
       "      <th>3</th>\n",
       "      <td>0</td>\n",
       "      <td>0</td>\n",
       "      <td>0</td>\n",
       "      <td>0</td>\n",
       "      <td>1</td>\n",
       "    </tr>\n",
       "    <tr>\n",
       "      <th>4</th>\n",
       "      <td>0</td>\n",
       "      <td>0</td>\n",
       "      <td>1</td>\n",
       "      <td>0</td>\n",
       "      <td>0</td>\n",
       "    </tr>\n",
       "  </tbody>\n",
       "</table>\n",
       "</div>"
      ],
      "text/plain": [
       "  Matriz_mesangial_aspecto_nodular Matriz_mesangial_aumentada  \\\n",
       "0                                0                          0   \n",
       "1                                0                          0   \n",
       "2                                0                          1   \n",
       "3                                0                          0   \n",
       "4                                0                          0   \n",
       "\n",
       "  Matriz_mesangial_aumento_discreto Matriz_mesangial_mesangiolise  \\\n",
       "0                                 0                             0   \n",
       "1                                 0                             0   \n",
       "2                                 0                             0   \n",
       "3                                 0                             0   \n",
       "4                                 1                             0   \n",
       "\n",
       "  Matriz_mesangial_normal  \n",
       "0                       1  \n",
       "1                       1  \n",
       "2                       0  \n",
       "3                       1  \n",
       "4                       0  "
      ]
     },
     "execution_count": 72,
     "metadata": {},
     "output_type": "execute_result"
    }
   ],
   "source": [
    "contador = 0\n",
    "while contador < 100:\n",
    "    preencher1(base_01['Matriz mesangial'], contador)\n",
    "    contador += 1\n",
    "\n",
    "df_01.head()"
   ]
  },
  {
   "cell_type": "code",
   "execution_count": 73,
   "metadata": {},
   "outputs": [
    {
     "data": {
      "text/plain": [
       "aumentada           75\n",
       "normal               9\n",
       "aspecto nodular      8\n",
       "aumento discreto     6\n",
       "mesangiólise         2\n",
       "Name: Matriz mesangial, dtype: int64"
      ]
     },
     "execution_count": 73,
     "metadata": {},
     "output_type": "execute_result"
    }
   ],
   "source": [
    "base_01['Matriz mesangial'].value_counts()"
   ]
  },
  {
   "cell_type": "code",
   "execution_count": 74,
   "metadata": {},
   "outputs": [
    {
     "data": {
      "text/plain": [
       "75"
      ]
     },
     "execution_count": 74,
     "metadata": {},
     "output_type": "execute_result"
    }
   ],
   "source": [
    "len(df_01[df_01['Matriz_mesangial_aumentada'] == 1])"
   ]
  },
  {
   "cell_type": "code",
   "execution_count": 75,
   "metadata": {},
   "outputs": [
    {
     "data": {
      "text/plain": [
       "9"
      ]
     },
     "execution_count": 75,
     "metadata": {},
     "output_type": "execute_result"
    }
   ],
   "source": [
    "len(df_01[df_01['Matriz_mesangial_normal'] == 1])"
   ]
  },
  {
   "cell_type": "code",
   "execution_count": 76,
   "metadata": {},
   "outputs": [
    {
     "data": {
      "text/plain": [
       "8"
      ]
     },
     "execution_count": 76,
     "metadata": {},
     "output_type": "execute_result"
    }
   ],
   "source": [
    "len(df_01[df_01['Matriz_mesangial_aspecto_nodular'] == 1])"
   ]
  },
  {
   "cell_type": "code",
   "execution_count": 77,
   "metadata": {},
   "outputs": [
    {
     "data": {
      "text/plain": [
       "6"
      ]
     },
     "execution_count": 77,
     "metadata": {},
     "output_type": "execute_result"
    }
   ],
   "source": [
    "len(df_01[df_01['Matriz_mesangial_aumento_discreto'] == 1])"
   ]
  },
  {
   "cell_type": "code",
   "execution_count": 78,
   "metadata": {},
   "outputs": [
    {
     "data": {
      "text/plain": [
       "2"
      ]
     },
     "execution_count": 78,
     "metadata": {},
     "output_type": "execute_result"
    }
   ],
   "source": [
    "len(df_01[df_01['Matriz_mesangial_mesangiolise'] == 1])"
   ]
  },
  {
   "cell_type": "markdown",
   "metadata": {},
   "source": [
    "Celularidade Mesangial"
   ]
  },
  {
   "cell_type": "code",
   "execution_count": 79,
   "metadata": {},
   "outputs": [
    {
     "data": {
      "text/html": [
       "<div>\n",
       "<style scoped>\n",
       "    .dataframe tbody tr th:only-of-type {\n",
       "        vertical-align: middle;\n",
       "    }\n",
       "\n",
       "    .dataframe tbody tr th {\n",
       "        vertical-align: top;\n",
       "    }\n",
       "\n",
       "    .dataframe thead th {\n",
       "        text-align: right;\n",
       "    }\n",
       "</style>\n",
       "<table border=\"1\" class=\"dataframe\">\n",
       "  <thead>\n",
       "    <tr style=\"text-align: right;\">\n",
       "      <th></th>\n",
       "      <th>Celularidade_mesangial_aumentada</th>\n",
       "      <th>Celularidade_mesangial_diminuida</th>\n",
       "      <th>Celularidade_mesangial_normal</th>\n",
       "    </tr>\n",
       "  </thead>\n",
       "  <tbody>\n",
       "    <tr>\n",
       "      <th>0</th>\n",
       "      <td>NaN</td>\n",
       "      <td>NaN</td>\n",
       "      <td>NaN</td>\n",
       "    </tr>\n",
       "    <tr>\n",
       "      <th>1</th>\n",
       "      <td>NaN</td>\n",
       "      <td>NaN</td>\n",
       "      <td>NaN</td>\n",
       "    </tr>\n",
       "    <tr>\n",
       "      <th>2</th>\n",
       "      <td>NaN</td>\n",
       "      <td>NaN</td>\n",
       "      <td>NaN</td>\n",
       "    </tr>\n",
       "    <tr>\n",
       "      <th>3</th>\n",
       "      <td>NaN</td>\n",
       "      <td>NaN</td>\n",
       "      <td>NaN</td>\n",
       "    </tr>\n",
       "    <tr>\n",
       "      <th>4</th>\n",
       "      <td>NaN</td>\n",
       "      <td>NaN</td>\n",
       "      <td>NaN</td>\n",
       "    </tr>\n",
       "  </tbody>\n",
       "</table>\n",
       "</div>"
      ],
      "text/plain": [
       "  Celularidade_mesangial_aumentada Celularidade_mesangial_diminuida  \\\n",
       "0                              NaN                              NaN   \n",
       "1                              NaN                              NaN   \n",
       "2                              NaN                              NaN   \n",
       "3                              NaN                              NaN   \n",
       "4                              NaN                              NaN   \n",
       "\n",
       "  Celularidade_mesangial_normal  \n",
       "0                           NaN  \n",
       "1                           NaN  \n",
       "2                           NaN  \n",
       "3                           NaN  \n",
       "4                           NaN  "
      ]
     },
     "execution_count": 79,
     "metadata": {},
     "output_type": "execute_result"
    }
   ],
   "source": [
    "df_02 = pd.DataFrame(index = indices, columns = Celularidade_mesangial)\n",
    "df_02.head()"
   ]
  },
  {
   "cell_type": "code",
   "execution_count": 80,
   "metadata": {},
   "outputs": [
    {
     "data": {
      "text/plain": [
       "array(['aumentada', 'diminuída', 'normal'], dtype=object)"
      ]
     },
     "execution_count": 80,
     "metadata": {},
     "output_type": "execute_result"
    }
   ],
   "source": [
    "np.unique(base_01['Celularidade mesangial'])"
   ]
  },
  {
   "cell_type": "code",
   "execution_count": 81,
   "metadata": {},
   "outputs": [
    {
     "data": {
      "text/plain": [
       "Index(['Celularidade_mesangial_aumentada', 'Celularidade_mesangial_diminuida',\n",
       "       'Celularidade_mesangial_normal'],\n",
       "      dtype='object')"
      ]
     },
     "execution_count": 81,
     "metadata": {},
     "output_type": "execute_result"
    }
   ],
   "source": [
    "df_02.columns"
   ]
  },
  {
   "cell_type": "code",
   "execution_count": 82,
   "metadata": {},
   "outputs": [],
   "source": [
    "def preencher2(coluna, i):\n",
    "    if coluna[i] == 'aumentada':\n",
    "        df_02['Celularidade_mesangial_aumentada'][i] = 1\n",
    "        df_02['Celularidade_mesangial_diminuida'][i] = 0\n",
    "        df_02['Celularidade_mesangial_normal'][i] = 0\n",
    "    elif coluna[i] == 'diminuída':\n",
    "        df_02['Celularidade_mesangial_aumentada'][i] = 0\n",
    "        df_02['Celularidade_mesangial_diminuida'][i] = 1\n",
    "        df_02['Celularidade_mesangial_normal'][i] = 0\n",
    "    else:\n",
    "        df_02['Celularidade_mesangial_aumentada'][i] = 0\n",
    "        df_02['Celularidade_mesangial_diminuida'][i] = 0\n",
    "        df_02['Celularidade_mesangial_normal'][i] = 1"
   ]
  },
  {
   "cell_type": "code",
   "execution_count": 83,
   "metadata": {
    "scrolled": true
   },
   "outputs": [
    {
     "data": {
      "text/html": [
       "<div>\n",
       "<style scoped>\n",
       "    .dataframe tbody tr th:only-of-type {\n",
       "        vertical-align: middle;\n",
       "    }\n",
       "\n",
       "    .dataframe tbody tr th {\n",
       "        vertical-align: top;\n",
       "    }\n",
       "\n",
       "    .dataframe thead th {\n",
       "        text-align: right;\n",
       "    }\n",
       "</style>\n",
       "<table border=\"1\" class=\"dataframe\">\n",
       "  <thead>\n",
       "    <tr style=\"text-align: right;\">\n",
       "      <th></th>\n",
       "      <th>Celularidade_mesangial_aumentada</th>\n",
       "      <th>Celularidade_mesangial_diminuida</th>\n",
       "      <th>Celularidade_mesangial_normal</th>\n",
       "    </tr>\n",
       "  </thead>\n",
       "  <tbody>\n",
       "    <tr>\n",
       "      <th>0</th>\n",
       "      <td>0</td>\n",
       "      <td>0</td>\n",
       "      <td>1</td>\n",
       "    </tr>\n",
       "    <tr>\n",
       "      <th>1</th>\n",
       "      <td>0</td>\n",
       "      <td>0</td>\n",
       "      <td>1</td>\n",
       "    </tr>\n",
       "    <tr>\n",
       "      <th>2</th>\n",
       "      <td>0</td>\n",
       "      <td>0</td>\n",
       "      <td>1</td>\n",
       "    </tr>\n",
       "    <tr>\n",
       "      <th>3</th>\n",
       "      <td>0</td>\n",
       "      <td>0</td>\n",
       "      <td>1</td>\n",
       "    </tr>\n",
       "    <tr>\n",
       "      <th>4</th>\n",
       "      <td>0</td>\n",
       "      <td>0</td>\n",
       "      <td>1</td>\n",
       "    </tr>\n",
       "  </tbody>\n",
       "</table>\n",
       "</div>"
      ],
      "text/plain": [
       "  Celularidade_mesangial_aumentada Celularidade_mesangial_diminuida  \\\n",
       "0                                0                                0   \n",
       "1                                0                                0   \n",
       "2                                0                                0   \n",
       "3                                0                                0   \n",
       "4                                0                                0   \n",
       "\n",
       "  Celularidade_mesangial_normal  \n",
       "0                             1  \n",
       "1                             1  \n",
       "2                             1  \n",
       "3                             1  \n",
       "4                             1  "
      ]
     },
     "execution_count": 83,
     "metadata": {},
     "output_type": "execute_result"
    }
   ],
   "source": [
    "contador = 0\n",
    "while contador < 100:\n",
    "    preencher2(base_01['Celularidade mesangial'], contador)\n",
    "    contador += 1\n",
    "\n",
    "df_02.head()"
   ]
  },
  {
   "cell_type": "code",
   "execution_count": 84,
   "metadata": {},
   "outputs": [
    {
     "data": {
      "text/plain": [
       "aumentada    63\n",
       "normal       35\n",
       "diminuída     2\n",
       "Name: Celularidade mesangial, dtype: int64"
      ]
     },
     "execution_count": 84,
     "metadata": {},
     "output_type": "execute_result"
    }
   ],
   "source": [
    "base_01['Celularidade mesangial'].value_counts()"
   ]
  },
  {
   "cell_type": "code",
   "execution_count": 85,
   "metadata": {},
   "outputs": [
    {
     "data": {
      "text/plain": [
       "63"
      ]
     },
     "execution_count": 85,
     "metadata": {},
     "output_type": "execute_result"
    }
   ],
   "source": [
    "len(df_02[df_02['Celularidade_mesangial_aumentada'] == 1])"
   ]
  },
  {
   "cell_type": "code",
   "execution_count": 86,
   "metadata": {},
   "outputs": [
    {
     "data": {
      "text/plain": [
       "35"
      ]
     },
     "execution_count": 86,
     "metadata": {},
     "output_type": "execute_result"
    }
   ],
   "source": [
    "len(df_02[df_02['Celularidade_mesangial_normal'] == 1])"
   ]
  },
  {
   "cell_type": "code",
   "execution_count": 87,
   "metadata": {},
   "outputs": [
    {
     "data": {
      "text/plain": [
       "2"
      ]
     },
     "execution_count": 87,
     "metadata": {},
     "output_type": "execute_result"
    }
   ],
   "source": [
    "len(df_02[df_02['Celularidade_mesangial_diminuida'] == 1])"
   ]
  },
  {
   "cell_type": "markdown",
   "metadata": {},
   "source": [
    "Membrana Basal Glomerular"
   ]
  },
  {
   "cell_type": "code",
   "execution_count": 88,
   "metadata": {},
   "outputs": [
    {
     "data": {
      "text/html": [
       "<div>\n",
       "<style scoped>\n",
       "    .dataframe tbody tr th:only-of-type {\n",
       "        vertical-align: middle;\n",
       "    }\n",
       "\n",
       "    .dataframe tbody tr th {\n",
       "        vertical-align: top;\n",
       "    }\n",
       "\n",
       "    .dataframe thead th {\n",
       "        text-align: right;\n",
       "    }\n",
       "</style>\n",
       "<table border=\"1\" class=\"dataframe\">\n",
       "  <thead>\n",
       "    <tr style=\"text-align: right;\">\n",
       "      <th></th>\n",
       "      <th>Membrana_basal_glomerular_duplicacao</th>\n",
       "      <th>Membrana_basal_glomerular_duplicacao_e_espiculas</th>\n",
       "      <th>Membrana_basal_glomerular_duplicacao_espiculas_e_ruptura</th>\n",
       "      <th>Membrana_basal_glomerular_espessada</th>\n",
       "      <th>Membrana_basal_glomerular_espessamento</th>\n",
       "      <th>Membrana_basal_glomerular_espessamento_duplicacao_espiculas</th>\n",
       "      <th>Membrana_basal_glomerular_espiculas</th>\n",
       "      <th>Membrana_basal_glomerular_normal</th>\n",
       "      <th>Membrana_basal_glomerular_ruptura</th>\n",
       "      <th>Membrana_basal_glomerular_ruptura_buracos_e_duplicacao</th>\n",
       "      <th>Membrana_basal_glomerular_ruptura_e_duplicacao</th>\n",
       "      <th>Membrana_basal_glomerular_ruptura_espiculas_e_duplicacao</th>\n",
       "    </tr>\n",
       "  </thead>\n",
       "  <tbody>\n",
       "    <tr>\n",
       "      <th>0</th>\n",
       "      <td>NaN</td>\n",
       "      <td>NaN</td>\n",
       "      <td>NaN</td>\n",
       "      <td>NaN</td>\n",
       "      <td>NaN</td>\n",
       "      <td>NaN</td>\n",
       "      <td>NaN</td>\n",
       "      <td>NaN</td>\n",
       "      <td>NaN</td>\n",
       "      <td>NaN</td>\n",
       "      <td>NaN</td>\n",
       "      <td>NaN</td>\n",
       "    </tr>\n",
       "    <tr>\n",
       "      <th>1</th>\n",
       "      <td>NaN</td>\n",
       "      <td>NaN</td>\n",
       "      <td>NaN</td>\n",
       "      <td>NaN</td>\n",
       "      <td>NaN</td>\n",
       "      <td>NaN</td>\n",
       "      <td>NaN</td>\n",
       "      <td>NaN</td>\n",
       "      <td>NaN</td>\n",
       "      <td>NaN</td>\n",
       "      <td>NaN</td>\n",
       "      <td>NaN</td>\n",
       "    </tr>\n",
       "    <tr>\n",
       "      <th>2</th>\n",
       "      <td>NaN</td>\n",
       "      <td>NaN</td>\n",
       "      <td>NaN</td>\n",
       "      <td>NaN</td>\n",
       "      <td>NaN</td>\n",
       "      <td>NaN</td>\n",
       "      <td>NaN</td>\n",
       "      <td>NaN</td>\n",
       "      <td>NaN</td>\n",
       "      <td>NaN</td>\n",
       "      <td>NaN</td>\n",
       "      <td>NaN</td>\n",
       "    </tr>\n",
       "    <tr>\n",
       "      <th>3</th>\n",
       "      <td>NaN</td>\n",
       "      <td>NaN</td>\n",
       "      <td>NaN</td>\n",
       "      <td>NaN</td>\n",
       "      <td>NaN</td>\n",
       "      <td>NaN</td>\n",
       "      <td>NaN</td>\n",
       "      <td>NaN</td>\n",
       "      <td>NaN</td>\n",
       "      <td>NaN</td>\n",
       "      <td>NaN</td>\n",
       "      <td>NaN</td>\n",
       "    </tr>\n",
       "    <tr>\n",
       "      <th>4</th>\n",
       "      <td>NaN</td>\n",
       "      <td>NaN</td>\n",
       "      <td>NaN</td>\n",
       "      <td>NaN</td>\n",
       "      <td>NaN</td>\n",
       "      <td>NaN</td>\n",
       "      <td>NaN</td>\n",
       "      <td>NaN</td>\n",
       "      <td>NaN</td>\n",
       "      <td>NaN</td>\n",
       "      <td>NaN</td>\n",
       "      <td>NaN</td>\n",
       "    </tr>\n",
       "  </tbody>\n",
       "</table>\n",
       "</div>"
      ],
      "text/plain": [
       "  Membrana_basal_glomerular_duplicacao  \\\n",
       "0                                  NaN   \n",
       "1                                  NaN   \n",
       "2                                  NaN   \n",
       "3                                  NaN   \n",
       "4                                  NaN   \n",
       "\n",
       "  Membrana_basal_glomerular_duplicacao_e_espiculas  \\\n",
       "0                                              NaN   \n",
       "1                                              NaN   \n",
       "2                                              NaN   \n",
       "3                                              NaN   \n",
       "4                                              NaN   \n",
       "\n",
       "  Membrana_basal_glomerular_duplicacao_espiculas_e_ruptura  \\\n",
       "0                                                NaN         \n",
       "1                                                NaN         \n",
       "2                                                NaN         \n",
       "3                                                NaN         \n",
       "4                                                NaN         \n",
       "\n",
       "  Membrana_basal_glomerular_espessada Membrana_basal_glomerular_espessamento  \\\n",
       "0                                 NaN                                    NaN   \n",
       "1                                 NaN                                    NaN   \n",
       "2                                 NaN                                    NaN   \n",
       "3                                 NaN                                    NaN   \n",
       "4                                 NaN                                    NaN   \n",
       "\n",
       "  Membrana_basal_glomerular_espessamento_duplicacao_espiculas  \\\n",
       "0                                                NaN            \n",
       "1                                                NaN            \n",
       "2                                                NaN            \n",
       "3                                                NaN            \n",
       "4                                                NaN            \n",
       "\n",
       "  Membrana_basal_glomerular_espiculas Membrana_basal_glomerular_normal  \\\n",
       "0                                 NaN                              NaN   \n",
       "1                                 NaN                              NaN   \n",
       "2                                 NaN                              NaN   \n",
       "3                                 NaN                              NaN   \n",
       "4                                 NaN                              NaN   \n",
       "\n",
       "  Membrana_basal_glomerular_ruptura  \\\n",
       "0                               NaN   \n",
       "1                               NaN   \n",
       "2                               NaN   \n",
       "3                               NaN   \n",
       "4                               NaN   \n",
       "\n",
       "  Membrana_basal_glomerular_ruptura_buracos_e_duplicacao  \\\n",
       "0                                                NaN       \n",
       "1                                                NaN       \n",
       "2                                                NaN       \n",
       "3                                                NaN       \n",
       "4                                                NaN       \n",
       "\n",
       "  Membrana_basal_glomerular_ruptura_e_duplicacao  \\\n",
       "0                                            NaN   \n",
       "1                                            NaN   \n",
       "2                                            NaN   \n",
       "3                                            NaN   \n",
       "4                                            NaN   \n",
       "\n",
       "  Membrana_basal_glomerular_ruptura_espiculas_e_duplicacao  \n",
       "0                                                NaN        \n",
       "1                                                NaN        \n",
       "2                                                NaN        \n",
       "3                                                NaN        \n",
       "4                                                NaN        "
      ]
     },
     "execution_count": 88,
     "metadata": {},
     "output_type": "execute_result"
    }
   ],
   "source": [
    "df_03 = pd.DataFrame(index = indices, columns = Membrana_basal_glomerular)\n",
    "df_03.head()"
   ]
  },
  {
   "cell_type": "code",
   "execution_count": 89,
   "metadata": {},
   "outputs": [
    {
     "data": {
      "text/plain": [
       "array(['duplicação', 'duplicação e espículas',\n",
       "       'duplicação espículas e ruptura', 'espessada', 'espessamento',\n",
       "       'espessamento duplicação espículas', 'espículas', 'normal',\n",
       "       'ruptura', 'ruptura buracos e duplicação', 'ruptura e duplicação',\n",
       "       'ruptura espículas e duplicação'], dtype=object)"
      ]
     },
     "execution_count": 89,
     "metadata": {},
     "output_type": "execute_result"
    }
   ],
   "source": [
    "np.unique(base_01['Membrana basal glomerular'])"
   ]
  },
  {
   "cell_type": "code",
   "execution_count": 90,
   "metadata": {},
   "outputs": [
    {
     "data": {
      "text/plain": [
       "Index(['Membrana_basal_glomerular_duplicacao',\n",
       "       'Membrana_basal_glomerular_duplicacao_e_espiculas',\n",
       "       'Membrana_basal_glomerular_duplicacao_espiculas_e_ruptura',\n",
       "       'Membrana_basal_glomerular_espessada',\n",
       "       'Membrana_basal_glomerular_espessamento',\n",
       "       'Membrana_basal_glomerular_espessamento_duplicacao_espiculas',\n",
       "       'Membrana_basal_glomerular_espiculas',\n",
       "       'Membrana_basal_glomerular_normal', 'Membrana_basal_glomerular_ruptura',\n",
       "       'Membrana_basal_glomerular_ruptura_buracos_e_duplicacao',\n",
       "       'Membrana_basal_glomerular_ruptura_e_duplicacao',\n",
       "       'Membrana_basal_glomerular_ruptura_espiculas_e_duplicacao'],\n",
       "      dtype='object')"
      ]
     },
     "execution_count": 90,
     "metadata": {},
     "output_type": "execute_result"
    }
   ],
   "source": [
    "df_03.columns"
   ]
  },
  {
   "cell_type": "code",
   "execution_count": 91,
   "metadata": {},
   "outputs": [],
   "source": [
    "def preencher3(coluna, i):\n",
    "    if coluna[i] == 'duplicação':\n",
    "        df_03['Membrana_basal_glomerular_duplicacao'][i]                        = 1\n",
    "        df_03['Membrana_basal_glomerular_duplicacao_e_espiculas'][i]            = 0\n",
    "        df_03['Membrana_basal_glomerular_duplicacao_espiculas_e_ruptura'][i]    = 0\n",
    "        df_03['Membrana_basal_glomerular_espessada'][i]                         = 0\n",
    "        df_03['Membrana_basal_glomerular_espessamento'][i]                      = 0\n",
    "        df_03['Membrana_basal_glomerular_espessamento_duplicacao_espiculas'][i] = 0\n",
    "        df_03['Membrana_basal_glomerular_espiculas'][i]                         = 0\n",
    "        df_03['Membrana_basal_glomerular_normal'][i]                            = 0\n",
    "        df_03['Membrana_basal_glomerular_ruptura'][i]                           = 0\n",
    "        df_03['Membrana_basal_glomerular_ruptura_buracos_e_duplicacao'][i]      = 0\n",
    "        df_03['Membrana_basal_glomerular_ruptura_e_duplicacao'][i]              = 0\n",
    "        df_03['Membrana_basal_glomerular_ruptura_espiculas_e_duplicacao'][i]    = 0\n",
    "    elif coluna[i] == 'duplicação e espículas':\n",
    "        df_03['Membrana_basal_glomerular_duplicacao'][i]                        = 0\n",
    "        df_03['Membrana_basal_glomerular_duplicacao_e_espiculas'][i]            = 1\n",
    "        df_03['Membrana_basal_glomerular_duplicacao_espiculas_e_ruptura'][i]    = 0\n",
    "        df_03['Membrana_basal_glomerular_espessada'][i]                         = 0\n",
    "        df_03['Membrana_basal_glomerular_espessamento'][i]                      = 0\n",
    "        df_03['Membrana_basal_glomerular_espessamento_duplicacao_espiculas'][i] = 0\n",
    "        df_03['Membrana_basal_glomerular_espiculas'][i]                         = 0\n",
    "        df_03['Membrana_basal_glomerular_normal'][i]                            = 0\n",
    "        df_03['Membrana_basal_glomerular_ruptura'][i]                           = 0\n",
    "        df_03['Membrana_basal_glomerular_ruptura_buracos_e_duplicacao'][i]      = 0\n",
    "        df_03['Membrana_basal_glomerular_ruptura_e_duplicacao'][i]              = 0\n",
    "        df_03['Membrana_basal_glomerular_ruptura_espiculas_e_duplicacao'][i]    = 0\n",
    "    elif coluna[i] == 'duplicação espículas e ruptura':\n",
    "        df_03['Membrana_basal_glomerular_duplicacao'][i]                        = 0\n",
    "        df_03['Membrana_basal_glomerular_duplicacao_e_espiculas'][i]            = 0\n",
    "        df_03['Membrana_basal_glomerular_duplicacao_espiculas_e_ruptura'][i]    = 1\n",
    "        df_03['Membrana_basal_glomerular_espessada'][i]                         = 0\n",
    "        df_03['Membrana_basal_glomerular_espessamento'][i]                      = 0\n",
    "        df_03['Membrana_basal_glomerular_espessamento_duplicacao_espiculas'][i] = 0\n",
    "        df_03['Membrana_basal_glomerular_espiculas'][i]                         = 0\n",
    "        df_03['Membrana_basal_glomerular_normal'][i]                            = 0\n",
    "        df_03['Membrana_basal_glomerular_ruptura'][i]                           = 0\n",
    "        df_03['Membrana_basal_glomerular_ruptura_buracos_e_duplicacao'][i]      = 0\n",
    "        df_03['Membrana_basal_glomerular_ruptura_e_duplicacao'][i]              = 0\n",
    "        df_03['Membrana_basal_glomerular_ruptura_espiculas_e_duplicacao'][i]    = 0\n",
    "    elif coluna[i] == 'espessada':\n",
    "        df_03['Membrana_basal_glomerular_duplicacao'][i]                        = 0\n",
    "        df_03['Membrana_basal_glomerular_duplicacao_e_espiculas'][i]            = 0\n",
    "        df_03['Membrana_basal_glomerular_duplicacao_espiculas_e_ruptura'][i]    = 0\n",
    "        df_03['Membrana_basal_glomerular_espessada'][i]                         = 1\n",
    "        df_03['Membrana_basal_glomerular_espessamento'][i]                      = 0\n",
    "        df_03['Membrana_basal_glomerular_espessamento_duplicacao_espiculas'][i] = 0\n",
    "        df_03['Membrana_basal_glomerular_espiculas'][i]                         = 0\n",
    "        df_03['Membrana_basal_glomerular_normal'][i]                            = 0\n",
    "        df_03['Membrana_basal_glomerular_ruptura'][i]                           = 0\n",
    "        df_03['Membrana_basal_glomerular_ruptura_buracos_e_duplicacao'][i]      = 0\n",
    "        df_03['Membrana_basal_glomerular_ruptura_e_duplicacao'][i]              = 0\n",
    "        df_03['Membrana_basal_glomerular_ruptura_espiculas_e_duplicacao'][i]    = 0\n",
    "    elif coluna[i] == 'espessamento':\n",
    "        df_03['Membrana_basal_glomerular_duplicacao'][i]                        = 0\n",
    "        df_03['Membrana_basal_glomerular_duplicacao_e_espiculas'][i]            = 0\n",
    "        df_03['Membrana_basal_glomerular_duplicacao_espiculas_e_ruptura'][i]    = 0\n",
    "        df_03['Membrana_basal_glomerular_espessada'][i]                         = 0\n",
    "        df_03['Membrana_basal_glomerular_espessamento'][i]                      = 1\n",
    "        df_03['Membrana_basal_glomerular_espessamento_duplicacao_espiculas'][i] = 0\n",
    "        df_03['Membrana_basal_glomerular_espiculas'][i]                         = 0\n",
    "        df_03['Membrana_basal_glomerular_normal'][i]                            = 0\n",
    "        df_03['Membrana_basal_glomerular_ruptura'][i]                           = 0\n",
    "        df_03['Membrana_basal_glomerular_ruptura_buracos_e_duplicacao'][i]      = 0\n",
    "        df_03['Membrana_basal_glomerular_ruptura_e_duplicacao'][i]              = 0\n",
    "        df_03['Membrana_basal_glomerular_ruptura_espiculas_e_duplicacao'][i]    = 0\n",
    "    elif coluna[i] == 'espessamento duplicação espículas':\n",
    "        df_03['Membrana_basal_glomerular_duplicacao'][i]                        = 0\n",
    "        df_03['Membrana_basal_glomerular_duplicacao_e_espiculas'][i]            = 0\n",
    "        df_03['Membrana_basal_glomerular_duplicacao_espiculas_e_ruptura'][i]    = 0\n",
    "        df_03['Membrana_basal_glomerular_espessada'][i]                         = 0\n",
    "        df_03['Membrana_basal_glomerular_espessamento'][i]                      = 0\n",
    "        df_03['Membrana_basal_glomerular_espessamento_duplicacao_espiculas'][i] = 1\n",
    "        df_03['Membrana_basal_glomerular_espiculas'][i]                         = 0\n",
    "        df_03['Membrana_basal_glomerular_normal'][i]                            = 0\n",
    "        df_03['Membrana_basal_glomerular_ruptura'][i]                           = 0\n",
    "        df_03['Membrana_basal_glomerular_ruptura_buracos_e_duplicacao'][i]      = 0\n",
    "        df_03['Membrana_basal_glomerular_ruptura_e_duplicacao'][i]              = 0\n",
    "        df_03['Membrana_basal_glomerular_ruptura_espiculas_e_duplicacao'][i]    = 0\n",
    "    elif coluna[i] == 'espículas':\n",
    "        df_03['Membrana_basal_glomerular_duplicacao'][i]                        = 0\n",
    "        df_03['Membrana_basal_glomerular_duplicacao_e_espiculas'][i]            = 0\n",
    "        df_03['Membrana_basal_glomerular_duplicacao_espiculas_e_ruptura'][i]    = 0\n",
    "        df_03['Membrana_basal_glomerular_espessada'][i]                         = 0\n",
    "        df_03['Membrana_basal_glomerular_espessamento'][i]                      = 0\n",
    "        df_03['Membrana_basal_glomerular_espessamento_duplicacao_espiculas'][i] = 0\n",
    "        df_03['Membrana_basal_glomerular_espiculas'][i]                         = 1\n",
    "        df_03['Membrana_basal_glomerular_normal'][i]                            = 0\n",
    "        df_03['Membrana_basal_glomerular_ruptura'][i]                           = 0\n",
    "        df_03['Membrana_basal_glomerular_ruptura_buracos_e_duplicacao'][i]      = 0\n",
    "        df_03['Membrana_basal_glomerular_ruptura_e_duplicacao'][i]              = 0\n",
    "        df_03['Membrana_basal_glomerular_ruptura_espiculas_e_duplicacao'][i]    = 0\n",
    "    elif coluna[i] == 'normal':\n",
    "        df_03['Membrana_basal_glomerular_duplicacao'][i]                        = 0\n",
    "        df_03['Membrana_basal_glomerular_duplicacao_e_espiculas'][i]            = 0\n",
    "        df_03['Membrana_basal_glomerular_duplicacao_espiculas_e_ruptura'][i]    = 0\n",
    "        df_03['Membrana_basal_glomerular_espessada'][i]                         = 0\n",
    "        df_03['Membrana_basal_glomerular_espessamento'][i]                      = 0\n",
    "        df_03['Membrana_basal_glomerular_espessamento_duplicacao_espiculas'][i] = 0\n",
    "        df_03['Membrana_basal_glomerular_espiculas'][i]                         = 0\n",
    "        df_03['Membrana_basal_glomerular_normal'][i]                            = 1\n",
    "        df_03['Membrana_basal_glomerular_ruptura'][i]                           = 0\n",
    "        df_03['Membrana_basal_glomerular_ruptura_buracos_e_duplicacao'][i]      = 0\n",
    "        df_03['Membrana_basal_glomerular_ruptura_e_duplicacao'][i]              = 0\n",
    "        df_03['Membrana_basal_glomerular_ruptura_espiculas_e_duplicacao'][i]    = 0\n",
    "    elif coluna[i] == 'ruptura':\n",
    "        df_03['Membrana_basal_glomerular_duplicacao'][i]                        = 0\n",
    "        df_03['Membrana_basal_glomerular_duplicacao_e_espiculas'][i]            = 0\n",
    "        df_03['Membrana_basal_glomerular_duplicacao_espiculas_e_ruptura'][i]    = 0\n",
    "        df_03['Membrana_basal_glomerular_espessada'][i]                         = 0\n",
    "        df_03['Membrana_basal_glomerular_espessamento'][i]                      = 0\n",
    "        df_03['Membrana_basal_glomerular_espessamento_duplicacao_espiculas'][i] = 0\n",
    "        df_03['Membrana_basal_glomerular_espiculas'][i]                         = 0\n",
    "        df_03['Membrana_basal_glomerular_normal'][i]                            = 0\n",
    "        df_03['Membrana_basal_glomerular_ruptura'][i]                           = 1\n",
    "        df_03['Membrana_basal_glomerular_ruptura_buracos_e_duplicacao'][i]      = 0\n",
    "        df_03['Membrana_basal_glomerular_ruptura_e_duplicacao'][i]              = 0\n",
    "        df_03['Membrana_basal_glomerular_ruptura_espiculas_e_duplicacao'][i]    = 0\n",
    "    elif coluna[i] == 'ruptura buracos e duplicação':\n",
    "        df_03['Membrana_basal_glomerular_duplicacao'][i]                        = 0\n",
    "        df_03['Membrana_basal_glomerular_duplicacao_e_espiculas'][i]            = 0\n",
    "        df_03['Membrana_basal_glomerular_duplicacao_espiculas_e_ruptura'][i]    = 0\n",
    "        df_03['Membrana_basal_glomerular_espessada'][i]                         = 0\n",
    "        df_03['Membrana_basal_glomerular_espessamento'][i]                      = 0\n",
    "        df_03['Membrana_basal_glomerular_espessamento_duplicacao_espiculas'][i] = 0\n",
    "        df_03['Membrana_basal_glomerular_espiculas'][i]                         = 0\n",
    "        df_03['Membrana_basal_glomerular_normal'][i]                            = 0\n",
    "        df_03['Membrana_basal_glomerular_ruptura'][i]                           = 0\n",
    "        df_03['Membrana_basal_glomerular_ruptura_buracos_e_duplicacao'][i]      = 1\n",
    "        df_03['Membrana_basal_glomerular_ruptura_e_duplicacao'][i]              = 0\n",
    "        df_03['Membrana_basal_glomerular_ruptura_espiculas_e_duplicacao'][i]    = 0\n",
    "    elif coluna[i] == 'ruptura e duplicação':\n",
    "        df_03['Membrana_basal_glomerular_duplicacao'][i]                        = 0\n",
    "        df_03['Membrana_basal_glomerular_duplicacao_e_espiculas'][i]            = 0\n",
    "        df_03['Membrana_basal_glomerular_duplicacao_espiculas_e_ruptura'][i]    = 0\n",
    "        df_03['Membrana_basal_glomerular_espessada'][i]                         = 0\n",
    "        df_03['Membrana_basal_glomerular_espessamento'][i]                      = 0\n",
    "        df_03['Membrana_basal_glomerular_espessamento_duplicacao_espiculas'][i] = 0\n",
    "        df_03['Membrana_basal_glomerular_espiculas'][i]                         = 0\n",
    "        df_03['Membrana_basal_glomerular_normal'][i]                            = 0\n",
    "        df_03['Membrana_basal_glomerular_ruptura'][i]                           = 0\n",
    "        df_03['Membrana_basal_glomerular_ruptura_buracos_e_duplicacao'][i]      = 0\n",
    "        df_03['Membrana_basal_glomerular_ruptura_e_duplicacao'][i]              = 1\n",
    "        df_03['Membrana_basal_glomerular_ruptura_espiculas_e_duplicacao'][i]    = 0\n",
    "    else:\n",
    "        df_03['Membrana_basal_glomerular_duplicacao'][i]                        = 0\n",
    "        df_03['Membrana_basal_glomerular_duplicacao_e_espiculas'][i]            = 0\n",
    "        df_03['Membrana_basal_glomerular_duplicacao_espiculas_e_ruptura'][i]    = 0\n",
    "        df_03['Membrana_basal_glomerular_espessada'][i]                         = 0\n",
    "        df_03['Membrana_basal_glomerular_espessamento'][i]                      = 0\n",
    "        df_03['Membrana_basal_glomerular_espessamento_duplicacao_espiculas'][i] = 0\n",
    "        df_03['Membrana_basal_glomerular_espiculas'][i]                         = 0\n",
    "        df_03['Membrana_basal_glomerular_normal'][i]                            = 0\n",
    "        df_03['Membrana_basal_glomerular_ruptura'][i]                           = 0\n",
    "        df_03['Membrana_basal_glomerular_ruptura_buracos_e_duplicacao'][i]      = 0\n",
    "        df_03['Membrana_basal_glomerular_ruptura_e_duplicacao'][i]              = 0\n",
    "        df_03['Membrana_basal_glomerular_ruptura_espiculas_e_duplicacao'][i]    = 1"
   ]
  },
  {
   "cell_type": "code",
   "execution_count": 92,
   "metadata": {},
   "outputs": [
    {
     "data": {
      "text/html": [
       "<div>\n",
       "<style scoped>\n",
       "    .dataframe tbody tr th:only-of-type {\n",
       "        vertical-align: middle;\n",
       "    }\n",
       "\n",
       "    .dataframe tbody tr th {\n",
       "        vertical-align: top;\n",
       "    }\n",
       "\n",
       "    .dataframe thead th {\n",
       "        text-align: right;\n",
       "    }\n",
       "</style>\n",
       "<table border=\"1\" class=\"dataframe\">\n",
       "  <thead>\n",
       "    <tr style=\"text-align: right;\">\n",
       "      <th></th>\n",
       "      <th>Membrana_basal_glomerular_duplicacao</th>\n",
       "      <th>Membrana_basal_glomerular_duplicacao_e_espiculas</th>\n",
       "      <th>Membrana_basal_glomerular_duplicacao_espiculas_e_ruptura</th>\n",
       "      <th>Membrana_basal_glomerular_espessada</th>\n",
       "      <th>Membrana_basal_glomerular_espessamento</th>\n",
       "      <th>Membrana_basal_glomerular_espessamento_duplicacao_espiculas</th>\n",
       "      <th>Membrana_basal_glomerular_espiculas</th>\n",
       "      <th>Membrana_basal_glomerular_normal</th>\n",
       "      <th>Membrana_basal_glomerular_ruptura</th>\n",
       "      <th>Membrana_basal_glomerular_ruptura_buracos_e_duplicacao</th>\n",
       "      <th>Membrana_basal_glomerular_ruptura_e_duplicacao</th>\n",
       "      <th>Membrana_basal_glomerular_ruptura_espiculas_e_duplicacao</th>\n",
       "    </tr>\n",
       "  </thead>\n",
       "  <tbody>\n",
       "    <tr>\n",
       "      <th>0</th>\n",
       "      <td>0</td>\n",
       "      <td>0</td>\n",
       "      <td>0</td>\n",
       "      <td>0</td>\n",
       "      <td>0</td>\n",
       "      <td>0</td>\n",
       "      <td>0</td>\n",
       "      <td>1</td>\n",
       "      <td>0</td>\n",
       "      <td>0</td>\n",
       "      <td>0</td>\n",
       "      <td>0</td>\n",
       "    </tr>\n",
       "    <tr>\n",
       "      <th>1</th>\n",
       "      <td>0</td>\n",
       "      <td>0</td>\n",
       "      <td>0</td>\n",
       "      <td>0</td>\n",
       "      <td>0</td>\n",
       "      <td>0</td>\n",
       "      <td>0</td>\n",
       "      <td>1</td>\n",
       "      <td>0</td>\n",
       "      <td>0</td>\n",
       "      <td>0</td>\n",
       "      <td>0</td>\n",
       "    </tr>\n",
       "    <tr>\n",
       "      <th>2</th>\n",
       "      <td>0</td>\n",
       "      <td>0</td>\n",
       "      <td>0</td>\n",
       "      <td>0</td>\n",
       "      <td>0</td>\n",
       "      <td>0</td>\n",
       "      <td>0</td>\n",
       "      <td>1</td>\n",
       "      <td>0</td>\n",
       "      <td>0</td>\n",
       "      <td>0</td>\n",
       "      <td>0</td>\n",
       "    </tr>\n",
       "    <tr>\n",
       "      <th>3</th>\n",
       "      <td>0</td>\n",
       "      <td>0</td>\n",
       "      <td>0</td>\n",
       "      <td>1</td>\n",
       "      <td>0</td>\n",
       "      <td>0</td>\n",
       "      <td>0</td>\n",
       "      <td>0</td>\n",
       "      <td>0</td>\n",
       "      <td>0</td>\n",
       "      <td>0</td>\n",
       "      <td>0</td>\n",
       "    </tr>\n",
       "    <tr>\n",
       "      <th>4</th>\n",
       "      <td>1</td>\n",
       "      <td>0</td>\n",
       "      <td>0</td>\n",
       "      <td>0</td>\n",
       "      <td>0</td>\n",
       "      <td>0</td>\n",
       "      <td>0</td>\n",
       "      <td>0</td>\n",
       "      <td>0</td>\n",
       "      <td>0</td>\n",
       "      <td>0</td>\n",
       "      <td>0</td>\n",
       "    </tr>\n",
       "  </tbody>\n",
       "</table>\n",
       "</div>"
      ],
      "text/plain": [
       "  Membrana_basal_glomerular_duplicacao  \\\n",
       "0                                    0   \n",
       "1                                    0   \n",
       "2                                    0   \n",
       "3                                    0   \n",
       "4                                    1   \n",
       "\n",
       "  Membrana_basal_glomerular_duplicacao_e_espiculas  \\\n",
       "0                                                0   \n",
       "1                                                0   \n",
       "2                                                0   \n",
       "3                                                0   \n",
       "4                                                0   \n",
       "\n",
       "  Membrana_basal_glomerular_duplicacao_espiculas_e_ruptura  \\\n",
       "0                                                  0         \n",
       "1                                                  0         \n",
       "2                                                  0         \n",
       "3                                                  0         \n",
       "4                                                  0         \n",
       "\n",
       "  Membrana_basal_glomerular_espessada Membrana_basal_glomerular_espessamento  \\\n",
       "0                                   0                                      0   \n",
       "1                                   0                                      0   \n",
       "2                                   0                                      0   \n",
       "3                                   1                                      0   \n",
       "4                                   0                                      0   \n",
       "\n",
       "  Membrana_basal_glomerular_espessamento_duplicacao_espiculas  \\\n",
       "0                                                  0            \n",
       "1                                                  0            \n",
       "2                                                  0            \n",
       "3                                                  0            \n",
       "4                                                  0            \n",
       "\n",
       "  Membrana_basal_glomerular_espiculas Membrana_basal_glomerular_normal  \\\n",
       "0                                   0                                1   \n",
       "1                                   0                                1   \n",
       "2                                   0                                1   \n",
       "3                                   0                                0   \n",
       "4                                   0                                0   \n",
       "\n",
       "  Membrana_basal_glomerular_ruptura  \\\n",
       "0                                 0   \n",
       "1                                 0   \n",
       "2                                 0   \n",
       "3                                 0   \n",
       "4                                 0   \n",
       "\n",
       "  Membrana_basal_glomerular_ruptura_buracos_e_duplicacao  \\\n",
       "0                                                  0       \n",
       "1                                                  0       \n",
       "2                                                  0       \n",
       "3                                                  0       \n",
       "4                                                  0       \n",
       "\n",
       "  Membrana_basal_glomerular_ruptura_e_duplicacao  \\\n",
       "0                                              0   \n",
       "1                                              0   \n",
       "2                                              0   \n",
       "3                                              0   \n",
       "4                                              0   \n",
       "\n",
       "  Membrana_basal_glomerular_ruptura_espiculas_e_duplicacao  \n",
       "0                                                  0        \n",
       "1                                                  0        \n",
       "2                                                  0        \n",
       "3                                                  0        \n",
       "4                                                  0        "
      ]
     },
     "execution_count": 92,
     "metadata": {},
     "output_type": "execute_result"
    }
   ],
   "source": [
    "contador = 0\n",
    "while contador < 100:\n",
    "    preencher3(base_01['Membrana basal glomerular'], contador)\n",
    "    contador += 1\n",
    "\n",
    "df_03.head()"
   ]
  },
  {
   "cell_type": "code",
   "execution_count": 93,
   "metadata": {},
   "outputs": [
    {
     "data": {
      "text/plain": [
       "normal                               52\n",
       "duplicação                           17\n",
       "ruptura                              11\n",
       "ruptura e duplicação                  6\n",
       "espículas                             5\n",
       "duplicação e espículas                2\n",
       "espessada                             2\n",
       "ruptura espículas e duplicação        1\n",
       "ruptura buracos e duplicação          1\n",
       "duplicação espículas e ruptura        1\n",
       "espessamento                          1\n",
       "espessamento duplicação espículas     1\n",
       "Name: Membrana basal glomerular, dtype: int64"
      ]
     },
     "execution_count": 93,
     "metadata": {},
     "output_type": "execute_result"
    }
   ],
   "source": [
    "base_01['Membrana basal glomerular'].value_counts()"
   ]
  },
  {
   "cell_type": "code",
   "execution_count": 94,
   "metadata": {},
   "outputs": [
    {
     "data": {
      "text/plain": [
       "52"
      ]
     },
     "execution_count": 94,
     "metadata": {},
     "output_type": "execute_result"
    }
   ],
   "source": [
    "len(df_03[df_03['Membrana_basal_glomerular_normal'] == 1])"
   ]
  },
  {
   "cell_type": "code",
   "execution_count": 95,
   "metadata": {},
   "outputs": [
    {
     "data": {
      "text/plain": [
       "17"
      ]
     },
     "execution_count": 95,
     "metadata": {},
     "output_type": "execute_result"
    }
   ],
   "source": [
    "len(df_03[df_03['Membrana_basal_glomerular_duplicacao'] == 1])"
   ]
  },
  {
   "cell_type": "code",
   "execution_count": 96,
   "metadata": {},
   "outputs": [
    {
     "data": {
      "text/plain": [
       "11"
      ]
     },
     "execution_count": 96,
     "metadata": {},
     "output_type": "execute_result"
    }
   ],
   "source": [
    "len(df_03[df_03['Membrana_basal_glomerular_ruptura'] == 1])"
   ]
  },
  {
   "cell_type": "code",
   "execution_count": 97,
   "metadata": {},
   "outputs": [
    {
     "data": {
      "text/plain": [
       "6"
      ]
     },
     "execution_count": 97,
     "metadata": {},
     "output_type": "execute_result"
    }
   ],
   "source": [
    "len(df_03[df_03['Membrana_basal_glomerular_ruptura_e_duplicacao'] == 1])"
   ]
  },
  {
   "cell_type": "code",
   "execution_count": 98,
   "metadata": {},
   "outputs": [
    {
     "data": {
      "text/plain": [
       "5"
      ]
     },
     "execution_count": 98,
     "metadata": {},
     "output_type": "execute_result"
    }
   ],
   "source": [
    "len(df_03[df_03['Membrana_basal_glomerular_espiculas'] == 1])"
   ]
  },
  {
   "cell_type": "code",
   "execution_count": 99,
   "metadata": {},
   "outputs": [
    {
     "data": {
      "text/plain": [
       "2"
      ]
     },
     "execution_count": 99,
     "metadata": {},
     "output_type": "execute_result"
    }
   ],
   "source": [
    "len(df_03[df_03['Membrana_basal_glomerular_duplicacao_e_espiculas'] == 1])"
   ]
  },
  {
   "cell_type": "code",
   "execution_count": 100,
   "metadata": {},
   "outputs": [
    {
     "data": {
      "text/plain": [
       "2"
      ]
     },
     "execution_count": 100,
     "metadata": {},
     "output_type": "execute_result"
    }
   ],
   "source": [
    "len(df_03[df_03['Membrana_basal_glomerular_espessada'] == 1])"
   ]
  },
  {
   "cell_type": "code",
   "execution_count": 101,
   "metadata": {},
   "outputs": [
    {
     "data": {
      "text/plain": [
       "1"
      ]
     },
     "execution_count": 101,
     "metadata": {},
     "output_type": "execute_result"
    }
   ],
   "source": [
    "len(df_03[df_03['Membrana_basal_glomerular_espessamento'] == 1])"
   ]
  },
  {
   "cell_type": "code",
   "execution_count": 102,
   "metadata": {},
   "outputs": [
    {
     "data": {
      "text/plain": [
       "1"
      ]
     },
     "execution_count": 102,
     "metadata": {},
     "output_type": "execute_result"
    }
   ],
   "source": [
    "len(df_03[df_03['Membrana_basal_glomerular_duplicacao_espiculas_e_ruptura'] == 1])"
   ]
  },
  {
   "cell_type": "code",
   "execution_count": 103,
   "metadata": {},
   "outputs": [
    {
     "data": {
      "text/plain": [
       "1"
      ]
     },
     "execution_count": 103,
     "metadata": {},
     "output_type": "execute_result"
    }
   ],
   "source": [
    "len(df_03[df_03['Membrana_basal_glomerular_ruptura_espiculas_e_duplicacao'] == 1])"
   ]
  },
  {
   "cell_type": "code",
   "execution_count": 104,
   "metadata": {},
   "outputs": [
    {
     "data": {
      "text/plain": [
       "1"
      ]
     },
     "execution_count": 104,
     "metadata": {},
     "output_type": "execute_result"
    }
   ],
   "source": [
    "len(df_03[df_03['Membrana_basal_glomerular_ruptura_buracos_e_duplicacao'] == 1])"
   ]
  },
  {
   "cell_type": "code",
   "execution_count": 105,
   "metadata": {},
   "outputs": [
    {
     "data": {
      "text/plain": [
       "1"
      ]
     },
     "execution_count": 105,
     "metadata": {},
     "output_type": "execute_result"
    }
   ],
   "source": [
    "len(df_03[df_03['Membrana_basal_glomerular_espessamento_duplicacao_espiculas'] == 1])"
   ]
  },
  {
   "cell_type": "markdown",
   "metadata": {},
   "source": [
    "Espaço de Bowman"
   ]
  },
  {
   "cell_type": "code",
   "execution_count": 106,
   "metadata": {},
   "outputs": [
    {
     "data": {
      "text/html": [
       "<div>\n",
       "<style scoped>\n",
       "    .dataframe tbody tr th:only-of-type {\n",
       "        vertical-align: middle;\n",
       "    }\n",
       "\n",
       "    .dataframe tbody tr th {\n",
       "        vertical-align: top;\n",
       "    }\n",
       "\n",
       "    .dataframe thead th {\n",
       "        text-align: right;\n",
       "    }\n",
       "</style>\n",
       "<table border=\"1\" class=\"dataframe\">\n",
       "  <thead>\n",
       "    <tr style=\"text-align: right;\">\n",
       "      <th></th>\n",
       "      <th>Espaco_de_Bowman_adesao</th>\n",
       "      <th>Espaco_de_Bowman_adesao_e_crescentes</th>\n",
       "      <th>Espaco_de_Bowman_capsular_drops</th>\n",
       "      <th>Espaco_de_Bowman_crescentes</th>\n",
       "      <th>Espaco_de_Bowman_crescentes_em_mais_de_50%</th>\n",
       "      <th>Espaco_de_Bowman_normal</th>\n",
       "    </tr>\n",
       "  </thead>\n",
       "  <tbody>\n",
       "    <tr>\n",
       "      <th>0</th>\n",
       "      <td>NaN</td>\n",
       "      <td>NaN</td>\n",
       "      <td>NaN</td>\n",
       "      <td>NaN</td>\n",
       "      <td>NaN</td>\n",
       "      <td>NaN</td>\n",
       "    </tr>\n",
       "    <tr>\n",
       "      <th>1</th>\n",
       "      <td>NaN</td>\n",
       "      <td>NaN</td>\n",
       "      <td>NaN</td>\n",
       "      <td>NaN</td>\n",
       "      <td>NaN</td>\n",
       "      <td>NaN</td>\n",
       "    </tr>\n",
       "    <tr>\n",
       "      <th>2</th>\n",
       "      <td>NaN</td>\n",
       "      <td>NaN</td>\n",
       "      <td>NaN</td>\n",
       "      <td>NaN</td>\n",
       "      <td>NaN</td>\n",
       "      <td>NaN</td>\n",
       "    </tr>\n",
       "    <tr>\n",
       "      <th>3</th>\n",
       "      <td>NaN</td>\n",
       "      <td>NaN</td>\n",
       "      <td>NaN</td>\n",
       "      <td>NaN</td>\n",
       "      <td>NaN</td>\n",
       "      <td>NaN</td>\n",
       "    </tr>\n",
       "    <tr>\n",
       "      <th>4</th>\n",
       "      <td>NaN</td>\n",
       "      <td>NaN</td>\n",
       "      <td>NaN</td>\n",
       "      <td>NaN</td>\n",
       "      <td>NaN</td>\n",
       "      <td>NaN</td>\n",
       "    </tr>\n",
       "  </tbody>\n",
       "</table>\n",
       "</div>"
      ],
      "text/plain": [
       "  Espaco_de_Bowman_adesao Espaco_de_Bowman_adesao_e_crescentes  \\\n",
       "0                     NaN                                  NaN   \n",
       "1                     NaN                                  NaN   \n",
       "2                     NaN                                  NaN   \n",
       "3                     NaN                                  NaN   \n",
       "4                     NaN                                  NaN   \n",
       "\n",
       "  Espaco_de_Bowman_capsular_drops Espaco_de_Bowman_crescentes  \\\n",
       "0                             NaN                         NaN   \n",
       "1                             NaN                         NaN   \n",
       "2                             NaN                         NaN   \n",
       "3                             NaN                         NaN   \n",
       "4                             NaN                         NaN   \n",
       "\n",
       "  Espaco_de_Bowman_crescentes_em_mais_de_50% Espaco_de_Bowman_normal  \n",
       "0                                        NaN                     NaN  \n",
       "1                                        NaN                     NaN  \n",
       "2                                        NaN                     NaN  \n",
       "3                                        NaN                     NaN  \n",
       "4                                        NaN                     NaN  "
      ]
     },
     "execution_count": 106,
     "metadata": {},
     "output_type": "execute_result"
    }
   ],
   "source": [
    "df_04 = pd.DataFrame(index = indices, columns = Espaco_de_Bowman)\n",
    "df_04.head()"
   ]
  },
  {
   "cell_type": "code",
   "execution_count": 107,
   "metadata": {},
   "outputs": [
    {
     "data": {
      "text/plain": [
       "array(['adesão', 'adesão e crescentes', 'capsular drops', 'crescentes',\n",
       "       'crescentes em mais de 50%', 'normal'], dtype=object)"
      ]
     },
     "execution_count": 107,
     "metadata": {},
     "output_type": "execute_result"
    }
   ],
   "source": [
    "np.unique(base_01['Espaço de Bowman'])"
   ]
  },
  {
   "cell_type": "code",
   "execution_count": 108,
   "metadata": {},
   "outputs": [
    {
     "data": {
      "text/plain": [
       "Index(['Espaco_de_Bowman_adesao', 'Espaco_de_Bowman_adesao_e_crescentes',\n",
       "       'Espaco_de_Bowman_capsular_drops', 'Espaco_de_Bowman_crescentes',\n",
       "       'Espaco_de_Bowman_crescentes_em_mais_de_50%',\n",
       "       'Espaco_de_Bowman_normal'],\n",
       "      dtype='object')"
      ]
     },
     "execution_count": 108,
     "metadata": {},
     "output_type": "execute_result"
    }
   ],
   "source": [
    "df_04.columns"
   ]
  },
  {
   "cell_type": "code",
   "execution_count": 109,
   "metadata": {},
   "outputs": [],
   "source": [
    "def preencher4(coluna, i):\n",
    "    if coluna[i] == 'adesão':\n",
    "        df_04['Espaco_de_Bowman_adesao'][i]                    = 1\n",
    "        df_04['Espaco_de_Bowman_adesao_e_crescentes'][i]       = 0\n",
    "        df_04['Espaco_de_Bowman_capsular_drops'][i]            = 0\n",
    "        df_04['Espaco_de_Bowman_crescentes'][i]                = 0\n",
    "        df_04['Espaco_de_Bowman_crescentes_em_mais_de_50%'][i] = 0\n",
    "        df_04['Espaco_de_Bowman_normal'][i]                    = 0\n",
    "    elif coluna[i] == 'adesão e crescentes':\n",
    "        df_04['Espaco_de_Bowman_adesao'][i]                    = 0\n",
    "        df_04['Espaco_de_Bowman_adesao_e_crescentes'][i]       = 1\n",
    "        df_04['Espaco_de_Bowman_capsular_drops'][i]            = 0\n",
    "        df_04['Espaco_de_Bowman_crescentes'][i]                = 0\n",
    "        df_04['Espaco_de_Bowman_crescentes_em_mais_de_50%'][i] = 0\n",
    "        df_04['Espaco_de_Bowman_normal'][i]                    = 0\n",
    "    elif coluna[i] == 'capsular drops':\n",
    "        df_04['Espaco_de_Bowman_adesao'][i]                    = 0\n",
    "        df_04['Espaco_de_Bowman_adesao_e_crescentes'][i]       = 0\n",
    "        df_04['Espaco_de_Bowman_capsular_drops'][i]            = 1\n",
    "        df_04['Espaco_de_Bowman_crescentes'][i]                = 0\n",
    "        df_04['Espaco_de_Bowman_crescentes_em_mais_de_50%'][i] = 0\n",
    "        df_04['Espaco_de_Bowman_normal'][i]                    = 0\n",
    "    elif coluna[i] == 'crescentes':\n",
    "        df_04['Espaco_de_Bowman_adesao'][i]                    = 0\n",
    "        df_04['Espaco_de_Bowman_adesao_e_crescentes'][i]       = 0\n",
    "        df_04['Espaco_de_Bowman_capsular_drops'][i]            = 0\n",
    "        df_04['Espaco_de_Bowman_crescentes'][i]                = 1\n",
    "        df_04['Espaco_de_Bowman_crescentes_em_mais_de_50%'][i] = 0\n",
    "        df_04['Espaco_de_Bowman_normal'][i]                    = 0\n",
    "    elif coluna[i] == 'crescentes em mais de 50%':\n",
    "        df_04['Espaco_de_Bowman_adesao'][i]                    = 0\n",
    "        df_04['Espaco_de_Bowman_adesao_e_crescentes'][i]       = 0\n",
    "        df_04['Espaco_de_Bowman_capsular_drops'][i]            = 0\n",
    "        df_04['Espaco_de_Bowman_crescentes'][i]                = 0\n",
    "        df_04['Espaco_de_Bowman_crescentes_em_mais_de_50%'][i] = 1\n",
    "        df_04['Espaco_de_Bowman_normal'][i]                    = 0\n",
    "    else:\n",
    "        df_04['Espaco_de_Bowman_adesao'][i]                    = 0\n",
    "        df_04['Espaco_de_Bowman_adesao_e_crescentes'][i]       = 0\n",
    "        df_04['Espaco_de_Bowman_capsular_drops'][i]            = 0\n",
    "        df_04['Espaco_de_Bowman_crescentes'][i]                = 0\n",
    "        df_04['Espaco_de_Bowman_crescentes_em_mais_de_50%'][i] = 0\n",
    "        df_04['Espaco_de_Bowman_normal'][i]                    = 1\n",
    "        "
   ]
  },
  {
   "cell_type": "code",
   "execution_count": 110,
   "metadata": {},
   "outputs": [
    {
     "data": {
      "text/html": [
       "<div>\n",
       "<style scoped>\n",
       "    .dataframe tbody tr th:only-of-type {\n",
       "        vertical-align: middle;\n",
       "    }\n",
       "\n",
       "    .dataframe tbody tr th {\n",
       "        vertical-align: top;\n",
       "    }\n",
       "\n",
       "    .dataframe thead th {\n",
       "        text-align: right;\n",
       "    }\n",
       "</style>\n",
       "<table border=\"1\" class=\"dataframe\">\n",
       "  <thead>\n",
       "    <tr style=\"text-align: right;\">\n",
       "      <th></th>\n",
       "      <th>Espaco_de_Bowman_adesao</th>\n",
       "      <th>Espaco_de_Bowman_adesao_e_crescentes</th>\n",
       "      <th>Espaco_de_Bowman_capsular_drops</th>\n",
       "      <th>Espaco_de_Bowman_crescentes</th>\n",
       "      <th>Espaco_de_Bowman_crescentes_em_mais_de_50%</th>\n",
       "      <th>Espaco_de_Bowman_normal</th>\n",
       "    </tr>\n",
       "  </thead>\n",
       "  <tbody>\n",
       "    <tr>\n",
       "      <th>0</th>\n",
       "      <td>0</td>\n",
       "      <td>0</td>\n",
       "      <td>0</td>\n",
       "      <td>0</td>\n",
       "      <td>0</td>\n",
       "      <td>1</td>\n",
       "    </tr>\n",
       "    <tr>\n",
       "      <th>1</th>\n",
       "      <td>0</td>\n",
       "      <td>0</td>\n",
       "      <td>0</td>\n",
       "      <td>0</td>\n",
       "      <td>0</td>\n",
       "      <td>1</td>\n",
       "    </tr>\n",
       "    <tr>\n",
       "      <th>2</th>\n",
       "      <td>1</td>\n",
       "      <td>0</td>\n",
       "      <td>0</td>\n",
       "      <td>0</td>\n",
       "      <td>0</td>\n",
       "      <td>0</td>\n",
       "    </tr>\n",
       "    <tr>\n",
       "      <th>3</th>\n",
       "      <td>0</td>\n",
       "      <td>0</td>\n",
       "      <td>0</td>\n",
       "      <td>0</td>\n",
       "      <td>0</td>\n",
       "      <td>1</td>\n",
       "    </tr>\n",
       "    <tr>\n",
       "      <th>4</th>\n",
       "      <td>1</td>\n",
       "      <td>0</td>\n",
       "      <td>0</td>\n",
       "      <td>0</td>\n",
       "      <td>0</td>\n",
       "      <td>0</td>\n",
       "    </tr>\n",
       "  </tbody>\n",
       "</table>\n",
       "</div>"
      ],
      "text/plain": [
       "  Espaco_de_Bowman_adesao Espaco_de_Bowman_adesao_e_crescentes  \\\n",
       "0                       0                                    0   \n",
       "1                       0                                    0   \n",
       "2                       1                                    0   \n",
       "3                       0                                    0   \n",
       "4                       1                                    0   \n",
       "\n",
       "  Espaco_de_Bowman_capsular_drops Espaco_de_Bowman_crescentes  \\\n",
       "0                               0                           0   \n",
       "1                               0                           0   \n",
       "2                               0                           0   \n",
       "3                               0                           0   \n",
       "4                               0                           0   \n",
       "\n",
       "  Espaco_de_Bowman_crescentes_em_mais_de_50% Espaco_de_Bowman_normal  \n",
       "0                                          0                       1  \n",
       "1                                          0                       1  \n",
       "2                                          0                       0  \n",
       "3                                          0                       1  \n",
       "4                                          0                       0  "
      ]
     },
     "execution_count": 110,
     "metadata": {},
     "output_type": "execute_result"
    }
   ],
   "source": [
    "contador = 0\n",
    "while contador < 100:\n",
    "    preencher4(base_01['Espaço de Bowman'], contador)\n",
    "    contador += 1\n",
    "\n",
    "df_04.head()"
   ]
  },
  {
   "cell_type": "code",
   "execution_count": 111,
   "metadata": {},
   "outputs": [
    {
     "data": {
      "text/plain": [
       "normal                       51\n",
       "adesão                       28\n",
       "crescentes                   13\n",
       "adesão e crescentes           4\n",
       "crescentes em mais de 50%     3\n",
       "capsular drops                1\n",
       "Name: Espaço de Bowman, dtype: int64"
      ]
     },
     "execution_count": 111,
     "metadata": {},
     "output_type": "execute_result"
    }
   ],
   "source": [
    "base_01['Espaço de Bowman'].value_counts()"
   ]
  },
  {
   "cell_type": "code",
   "execution_count": 112,
   "metadata": {},
   "outputs": [
    {
     "data": {
      "text/plain": [
       "51"
      ]
     },
     "execution_count": 112,
     "metadata": {},
     "output_type": "execute_result"
    }
   ],
   "source": [
    "len(df_04[df_04['Espaco_de_Bowman_normal'] == 1])"
   ]
  },
  {
   "cell_type": "code",
   "execution_count": 113,
   "metadata": {},
   "outputs": [
    {
     "data": {
      "text/plain": [
       "28"
      ]
     },
     "execution_count": 113,
     "metadata": {},
     "output_type": "execute_result"
    }
   ],
   "source": [
    "len(df_04[df_04['Espaco_de_Bowman_adesao'] == 1])"
   ]
  },
  {
   "cell_type": "code",
   "execution_count": 114,
   "metadata": {},
   "outputs": [
    {
     "data": {
      "text/plain": [
       "13"
      ]
     },
     "execution_count": 114,
     "metadata": {},
     "output_type": "execute_result"
    }
   ],
   "source": [
    "len(df_04[df_04['Espaco_de_Bowman_crescentes'] == 1])"
   ]
  },
  {
   "cell_type": "code",
   "execution_count": 115,
   "metadata": {},
   "outputs": [
    {
     "data": {
      "text/plain": [
       "4"
      ]
     },
     "execution_count": 115,
     "metadata": {},
     "output_type": "execute_result"
    }
   ],
   "source": [
    "len(df_04[df_04['Espaco_de_Bowman_adesao_e_crescentes'] == 1])"
   ]
  },
  {
   "cell_type": "code",
   "execution_count": 116,
   "metadata": {},
   "outputs": [
    {
     "data": {
      "text/plain": [
       "3"
      ]
     },
     "execution_count": 116,
     "metadata": {},
     "output_type": "execute_result"
    }
   ],
   "source": [
    "len(df_04[df_04['Espaco_de_Bowman_crescentes_em_mais_de_50%'] == 1])"
   ]
  },
  {
   "cell_type": "code",
   "execution_count": 117,
   "metadata": {},
   "outputs": [
    {
     "data": {
      "text/plain": [
       "1"
      ]
     },
     "execution_count": 117,
     "metadata": {},
     "output_type": "execute_result"
    }
   ],
   "source": [
    "len(df_04[df_04['Espaco_de_Bowman_capsular_drops'] == 1])"
   ]
  },
  {
   "cell_type": "markdown",
   "metadata": {},
   "source": [
    "Tufo Glomerular"
   ]
  },
  {
   "cell_type": "code",
   "execution_count": 118,
   "metadata": {},
   "outputs": [
    {
     "data": {
      "text/html": [
       "<div>\n",
       "<style scoped>\n",
       "    .dataframe tbody tr th:only-of-type {\n",
       "        vertical-align: middle;\n",
       "    }\n",
       "\n",
       "    .dataframe tbody tr th {\n",
       "        vertical-align: top;\n",
       "    }\n",
       "\n",
       "    .dataframe thead th {\n",
       "        text-align: right;\n",
       "    }\n",
       "</style>\n",
       "<table border=\"1\" class=\"dataframe\">\n",
       "  <thead>\n",
       "    <tr style=\"text-align: right;\">\n",
       "      <th></th>\n",
       "      <th>Tufo_glomerular_congesto</th>\n",
       "      <th>Tufo_glomerular_esclerose_global</th>\n",
       "      <th>Tufo_glomerular_esclerose_segmentar</th>\n",
       "      <th>Tufo_glomerular_esclerose_segmentar_e_global</th>\n",
       "      <th>Tufo_glomerular_hipercelularidade_endocapilar</th>\n",
       "      <th>Tufo_glomerular_hipercelularidade_endocapilar_e_esclerose_segmentar</th>\n",
       "      <th>Tufo_glomerular_hipercelularidade_endocapilar_e_wire_loop</th>\n",
       "      <th>Tufo_glomerular_hipercelularidade_endocapilar_em_mais_de_50%</th>\n",
       "      <th>Tufo_glomerular_hipercelularidade_endocapilar_esclerose_segmentar_e_wire_loop</th>\n",
       "      <th>Tufo_glomerular_infiltracao_por_neutrofilos</th>\n",
       "      <th>Tufo_glomerular_normal</th>\n",
       "    </tr>\n",
       "  </thead>\n",
       "  <tbody>\n",
       "    <tr>\n",
       "      <th>0</th>\n",
       "      <td>NaN</td>\n",
       "      <td>NaN</td>\n",
       "      <td>NaN</td>\n",
       "      <td>NaN</td>\n",
       "      <td>NaN</td>\n",
       "      <td>NaN</td>\n",
       "      <td>NaN</td>\n",
       "      <td>NaN</td>\n",
       "      <td>NaN</td>\n",
       "      <td>NaN</td>\n",
       "      <td>NaN</td>\n",
       "    </tr>\n",
       "    <tr>\n",
       "      <th>1</th>\n",
       "      <td>NaN</td>\n",
       "      <td>NaN</td>\n",
       "      <td>NaN</td>\n",
       "      <td>NaN</td>\n",
       "      <td>NaN</td>\n",
       "      <td>NaN</td>\n",
       "      <td>NaN</td>\n",
       "      <td>NaN</td>\n",
       "      <td>NaN</td>\n",
       "      <td>NaN</td>\n",
       "      <td>NaN</td>\n",
       "    </tr>\n",
       "    <tr>\n",
       "      <th>2</th>\n",
       "      <td>NaN</td>\n",
       "      <td>NaN</td>\n",
       "      <td>NaN</td>\n",
       "      <td>NaN</td>\n",
       "      <td>NaN</td>\n",
       "      <td>NaN</td>\n",
       "      <td>NaN</td>\n",
       "      <td>NaN</td>\n",
       "      <td>NaN</td>\n",
       "      <td>NaN</td>\n",
       "      <td>NaN</td>\n",
       "    </tr>\n",
       "    <tr>\n",
       "      <th>3</th>\n",
       "      <td>NaN</td>\n",
       "      <td>NaN</td>\n",
       "      <td>NaN</td>\n",
       "      <td>NaN</td>\n",
       "      <td>NaN</td>\n",
       "      <td>NaN</td>\n",
       "      <td>NaN</td>\n",
       "      <td>NaN</td>\n",
       "      <td>NaN</td>\n",
       "      <td>NaN</td>\n",
       "      <td>NaN</td>\n",
       "    </tr>\n",
       "    <tr>\n",
       "      <th>4</th>\n",
       "      <td>NaN</td>\n",
       "      <td>NaN</td>\n",
       "      <td>NaN</td>\n",
       "      <td>NaN</td>\n",
       "      <td>NaN</td>\n",
       "      <td>NaN</td>\n",
       "      <td>NaN</td>\n",
       "      <td>NaN</td>\n",
       "      <td>NaN</td>\n",
       "      <td>NaN</td>\n",
       "      <td>NaN</td>\n",
       "    </tr>\n",
       "  </tbody>\n",
       "</table>\n",
       "</div>"
      ],
      "text/plain": [
       "  Tufo_glomerular_congesto Tufo_glomerular_esclerose_global  \\\n",
       "0                      NaN                              NaN   \n",
       "1                      NaN                              NaN   \n",
       "2                      NaN                              NaN   \n",
       "3                      NaN                              NaN   \n",
       "4                      NaN                              NaN   \n",
       "\n",
       "  Tufo_glomerular_esclerose_segmentar  \\\n",
       "0                                 NaN   \n",
       "1                                 NaN   \n",
       "2                                 NaN   \n",
       "3                                 NaN   \n",
       "4                                 NaN   \n",
       "\n",
       "  Tufo_glomerular_esclerose_segmentar_e_global  \\\n",
       "0                                          NaN   \n",
       "1                                          NaN   \n",
       "2                                          NaN   \n",
       "3                                          NaN   \n",
       "4                                          NaN   \n",
       "\n",
       "  Tufo_glomerular_hipercelularidade_endocapilar  \\\n",
       "0                                           NaN   \n",
       "1                                           NaN   \n",
       "2                                           NaN   \n",
       "3                                           NaN   \n",
       "4                                           NaN   \n",
       "\n",
       "  Tufo_glomerular_hipercelularidade_endocapilar_e_esclerose_segmentar  \\\n",
       "0                                                NaN                    \n",
       "1                                                NaN                    \n",
       "2                                                NaN                    \n",
       "3                                                NaN                    \n",
       "4                                                NaN                    \n",
       "\n",
       "  Tufo_glomerular_hipercelularidade_endocapilar_e_wire_loop  \\\n",
       "0                                                NaN          \n",
       "1                                                NaN          \n",
       "2                                                NaN          \n",
       "3                                                NaN          \n",
       "4                                                NaN          \n",
       "\n",
       "  Tufo_glomerular_hipercelularidade_endocapilar_em_mais_de_50%  \\\n",
       "0                                                NaN             \n",
       "1                                                NaN             \n",
       "2                                                NaN             \n",
       "3                                                NaN             \n",
       "4                                                NaN             \n",
       "\n",
       "  Tufo_glomerular_hipercelularidade_endocapilar_esclerose_segmentar_e_wire_loop  \\\n",
       "0                                                NaN                              \n",
       "1                                                NaN                              \n",
       "2                                                NaN                              \n",
       "3                                                NaN                              \n",
       "4                                                NaN                              \n",
       "\n",
       "  Tufo_glomerular_infiltracao_por_neutrofilos Tufo_glomerular_normal  \n",
       "0                                         NaN                    NaN  \n",
       "1                                         NaN                    NaN  \n",
       "2                                         NaN                    NaN  \n",
       "3                                         NaN                    NaN  \n",
       "4                                         NaN                    NaN  "
      ]
     },
     "execution_count": 118,
     "metadata": {},
     "output_type": "execute_result"
    }
   ],
   "source": [
    "df_05 = pd.DataFrame(index = indices, columns = Tufo_glomerular)\n",
    "df_05.head()"
   ]
  },
  {
   "cell_type": "code",
   "execution_count": 119,
   "metadata": {},
   "outputs": [
    {
     "data": {
      "text/plain": [
       "array(['congesto', 'esclerose global', 'esclerose segmentar',\n",
       "       'esclerose segmentar e global', 'hipercelularidade endocapilar',\n",
       "       'hipercelularidade endocapilar e esclerose segmentar',\n",
       "       'hipercelularidade endocapilar e wire loop',\n",
       "       'hipercelularidade endocapilar em mais de 50%',\n",
       "       'hipercelularidade endocapilar esclerose segmentar e wire loop',\n",
       "       'infiltração por neutrófilos', 'normal'], dtype=object)"
      ]
     },
     "execution_count": 119,
     "metadata": {},
     "output_type": "execute_result"
    }
   ],
   "source": [
    "np.unique(base_01['Tufo glomerular'])"
   ]
  },
  {
   "cell_type": "code",
   "execution_count": 120,
   "metadata": {},
   "outputs": [
    {
     "data": {
      "text/plain": [
       "Index(['Tufo_glomerular_congesto', 'Tufo_glomerular_esclerose_global',\n",
       "       'Tufo_glomerular_esclerose_segmentar',\n",
       "       'Tufo_glomerular_esclerose_segmentar_e_global',\n",
       "       'Tufo_glomerular_hipercelularidade_endocapilar',\n",
       "       'Tufo_glomerular_hipercelularidade_endocapilar_e_esclerose_segmentar',\n",
       "       'Tufo_glomerular_hipercelularidade_endocapilar_e_wire_loop',\n",
       "       'Tufo_glomerular_hipercelularidade_endocapilar_em_mais_de_50%',\n",
       "       'Tufo_glomerular_hipercelularidade_endocapilar_esclerose_segmentar_e_wire_loop',\n",
       "       'Tufo_glomerular_infiltracao_por_neutrofilos',\n",
       "       'Tufo_glomerular_normal'],\n",
       "      dtype='object')"
      ]
     },
     "execution_count": 120,
     "metadata": {},
     "output_type": "execute_result"
    }
   ],
   "source": [
    "df_05.columns"
   ]
  },
  {
   "cell_type": "code",
   "execution_count": 121,
   "metadata": {},
   "outputs": [],
   "source": [
    "def preencher5(coluna, i):\n",
    "    if coluna[i] == 'congesto':\n",
    "        df_05['Tufo_glomerular_congesto'][i]                                                      = 1\n",
    "        df_05['Tufo_glomerular_esclerose_global'][i]                                              = 0\n",
    "        df_05['Tufo_glomerular_esclerose_segmentar'][i]                                           = 0\n",
    "        df_05['Tufo_glomerular_esclerose_segmentar_e_global'][i]                                  = 0\n",
    "        df_05['Tufo_glomerular_hipercelularidade_endocapilar'][i]                                 = 0\n",
    "        df_05['Tufo_glomerular_hipercelularidade_endocapilar_e_esclerose_segmentar'][i]           = 0\n",
    "        df_05['Tufo_glomerular_hipercelularidade_endocapilar_e_wire_loop'][i]                     = 0\n",
    "        df_05['Tufo_glomerular_hipercelularidade_endocapilar_em_mais_de_50%'][i]                  = 0\n",
    "        df_05['Tufo_glomerular_hipercelularidade_endocapilar_esclerose_segmentar_e_wire_loop'][i] = 0\n",
    "        df_05['Tufo_glomerular_infiltracao_por_neutrofilos'][i]                                   = 0\n",
    "        df_05['Tufo_glomerular_normal'][i]                                                        = 0\n",
    "    elif coluna[i] == 'esclerose global':\n",
    "        df_05['Tufo_glomerular_congesto'][i]                                                      = 0\n",
    "        df_05['Tufo_glomerular_esclerose_global'][i]                                              = 1\n",
    "        df_05['Tufo_glomerular_esclerose_segmentar'][i]                                           = 0\n",
    "        df_05['Tufo_glomerular_esclerose_segmentar_e_global'][i]                                  = 0\n",
    "        df_05['Tufo_glomerular_hipercelularidade_endocapilar'][i]                                 = 0\n",
    "        df_05['Tufo_glomerular_hipercelularidade_endocapilar_e_esclerose_segmentar'][i]           = 0\n",
    "        df_05['Tufo_glomerular_hipercelularidade_endocapilar_e_wire_loop'][i]                     = 0\n",
    "        df_05['Tufo_glomerular_hipercelularidade_endocapilar_em_mais_de_50%'][i]                  = 0\n",
    "        df_05['Tufo_glomerular_hipercelularidade_endocapilar_esclerose_segmentar_e_wire_loop'][i] = 0\n",
    "        df_05['Tufo_glomerular_infiltracao_por_neutrofilos'][i]                                   = 0\n",
    "        df_05['Tufo_glomerular_normal'][i]                                                        = 0\n",
    "    elif coluna[i] == 'esclerose segmentar':\n",
    "        df_05['Tufo_glomerular_congesto'][i]                                                      = 0\n",
    "        df_05['Tufo_glomerular_esclerose_global'][i]                                              = 0\n",
    "        df_05['Tufo_glomerular_esclerose_segmentar'][i]                                           = 1\n",
    "        df_05['Tufo_glomerular_esclerose_segmentar_e_global'][i]                                  = 0\n",
    "        df_05['Tufo_glomerular_hipercelularidade_endocapilar'][i]                                 = 0\n",
    "        df_05['Tufo_glomerular_hipercelularidade_endocapilar_e_esclerose_segmentar'][i]           = 0\n",
    "        df_05['Tufo_glomerular_hipercelularidade_endocapilar_e_wire_loop'][i]                     = 0\n",
    "        df_05['Tufo_glomerular_hipercelularidade_endocapilar_em_mais_de_50%'][i]                  = 0\n",
    "        df_05['Tufo_glomerular_hipercelularidade_endocapilar_esclerose_segmentar_e_wire_loop'][i] = 0\n",
    "        df_05['Tufo_glomerular_infiltracao_por_neutrofilos'][i]                                   = 0\n",
    "        df_05['Tufo_glomerular_normal'][i]                                                        = 0\n",
    "    elif coluna[i] == 'esclerose segmentar e global':\n",
    "        df_05['Tufo_glomerular_congesto'][i]                                                      = 0\n",
    "        df_05['Tufo_glomerular_esclerose_global'][i]                                              = 0\n",
    "        df_05['Tufo_glomerular_esclerose_segmentar'][i]                                           = 0\n",
    "        df_05['Tufo_glomerular_esclerose_segmentar_e_global'][i]                                  = 1\n",
    "        df_05['Tufo_glomerular_hipercelularidade_endocapilar'][i]                                 = 0\n",
    "        df_05['Tufo_glomerular_hipercelularidade_endocapilar_e_esclerose_segmentar'][i]           = 0\n",
    "        df_05['Tufo_glomerular_hipercelularidade_endocapilar_e_wire_loop'][i]                     = 0\n",
    "        df_05['Tufo_glomerular_hipercelularidade_endocapilar_em_mais_de_50%'][i]                  = 0\n",
    "        df_05['Tufo_glomerular_hipercelularidade_endocapilar_esclerose_segmentar_e_wire_loop'][i] = 0\n",
    "        df_05['Tufo_glomerular_infiltracao_por_neutrofilos'][i]                                   = 0\n",
    "        df_05['Tufo_glomerular_normal'][i]                                                        = 0\n",
    "    elif coluna[i] == 'hipercelularidade endocapilar':\n",
    "        df_05['Tufo_glomerular_congesto'][i]                                                      = 0\n",
    "        df_05['Tufo_glomerular_esclerose_global'][i]                                              = 0\n",
    "        df_05['Tufo_glomerular_esclerose_segmentar'][i]                                           = 0\n",
    "        df_05['Tufo_glomerular_esclerose_segmentar_e_global'][i]                                  = 0\n",
    "        df_05['Tufo_glomerular_hipercelularidade_endocapilar'][i]                                 = 1\n",
    "        df_05['Tufo_glomerular_hipercelularidade_endocapilar_e_esclerose_segmentar'][i]           = 0\n",
    "        df_05['Tufo_glomerular_hipercelularidade_endocapilar_e_wire_loop'][i]                     = 0\n",
    "        df_05['Tufo_glomerular_hipercelularidade_endocapilar_em_mais_de_50%'][i]                  = 0\n",
    "        df_05['Tufo_glomerular_hipercelularidade_endocapilar_esclerose_segmentar_e_wire_loop'][i] = 0\n",
    "        df_05['Tufo_glomerular_infiltracao_por_neutrofilos'][i]                                   = 0\n",
    "        df_05['Tufo_glomerular_normal'][i]                                                        = 0\n",
    "    elif coluna[i] == 'hipercelularidade endocapilar e esclerose segmentar':\n",
    "        df_05['Tufo_glomerular_congesto'][i]                                                      = 0\n",
    "        df_05['Tufo_glomerular_esclerose_global'][i]                                              = 0\n",
    "        df_05['Tufo_glomerular_esclerose_segmentar'][i]                                           = 0\n",
    "        df_05['Tufo_glomerular_esclerose_segmentar_e_global'][i]                                  = 0\n",
    "        df_05['Tufo_glomerular_hipercelularidade_endocapilar'][i]                                 = 0\n",
    "        df_05['Tufo_glomerular_hipercelularidade_endocapilar_e_esclerose_segmentar'][i]           = 1\n",
    "        df_05['Tufo_glomerular_hipercelularidade_endocapilar_e_wire_loop'][i]                     = 0\n",
    "        df_05['Tufo_glomerular_hipercelularidade_endocapilar_em_mais_de_50%'][i]                  = 0\n",
    "        df_05['Tufo_glomerular_hipercelularidade_endocapilar_esclerose_segmentar_e_wire_loop'][i] = 0\n",
    "        df_05['Tufo_glomerular_infiltracao_por_neutrofilos'][i]                                   = 0\n",
    "        df_05['Tufo_glomerular_normal'][i]                                                        = 0\n",
    "    elif coluna[i] == 'hipercelularidade endocapilar e wire loop':\n",
    "        df_05['Tufo_glomerular_congesto'][i]                                                      = 0\n",
    "        df_05['Tufo_glomerular_esclerose_global'][i]                                              = 0\n",
    "        df_05['Tufo_glomerular_esclerose_segmentar'][i]                                           = 0\n",
    "        df_05['Tufo_glomerular_esclerose_segmentar_e_global'][i]                                  = 0\n",
    "        df_05['Tufo_glomerular_hipercelularidade_endocapilar'][i]                                 = 0\n",
    "        df_05['Tufo_glomerular_hipercelularidade_endocapilar_e_esclerose_segmentar'][i]           = 0\n",
    "        df_05['Tufo_glomerular_hipercelularidade_endocapilar_e_wire_loop'][i]                     = 1\n",
    "        df_05['Tufo_glomerular_hipercelularidade_endocapilar_em_mais_de_50%'][i]                  = 0\n",
    "        df_05['Tufo_glomerular_hipercelularidade_endocapilar_esclerose_segmentar_e_wire_loop'][i] = 0\n",
    "        df_05['Tufo_glomerular_infiltracao_por_neutrofilos'][i]                                   = 0\n",
    "        df_05['Tufo_glomerular_normal'][i]                                                        = 0\n",
    "    elif coluna[i] == 'hipercelularidade endocapilar em mais de 50%':\n",
    "        df_05['Tufo_glomerular_congesto'][i]                                                      = 0\n",
    "        df_05['Tufo_glomerular_esclerose_global'][i]                                              = 0\n",
    "        df_05['Tufo_glomerular_esclerose_segmentar'][i]                                           = 0\n",
    "        df_05['Tufo_glomerular_esclerose_segmentar_e_global'][i]                                  = 0\n",
    "        df_05['Tufo_glomerular_hipercelularidade_endocapilar'][i]                                 = 0\n",
    "        df_05['Tufo_glomerular_hipercelularidade_endocapilar_e_esclerose_segmentar'][i]           = 0\n",
    "        df_05['Tufo_glomerular_hipercelularidade_endocapilar_e_wire_loop'][i]                     = 0\n",
    "        df_05['Tufo_glomerular_hipercelularidade_endocapilar_em_mais_de_50%'][i]                  = 1\n",
    "        df_05['Tufo_glomerular_hipercelularidade_endocapilar_esclerose_segmentar_e_wire_loop'][i] = 0\n",
    "        df_05['Tufo_glomerular_infiltracao_por_neutrofilos'][i]                                   = 0\n",
    "        df_05['Tufo_glomerular_normal'][i]                                                        = 0\n",
    "    elif coluna[i] == 'hipercelularidade endocapilar esclerose segmentar e wire loop':\n",
    "        df_05['Tufo_glomerular_congesto'][i]                                                      = 0\n",
    "        df_05['Tufo_glomerular_esclerose_global'][i]                                              = 0\n",
    "        df_05['Tufo_glomerular_esclerose_segmentar'][i]                                           = 0\n",
    "        df_05['Tufo_glomerular_esclerose_segmentar_e_global'][i]                                  = 0\n",
    "        df_05['Tufo_glomerular_hipercelularidade_endocapilar'][i]                                 = 0\n",
    "        df_05['Tufo_glomerular_hipercelularidade_endocapilar_e_esclerose_segmentar'][i]           = 0\n",
    "        df_05['Tufo_glomerular_hipercelularidade_endocapilar_e_wire_loop'][i]                     = 0\n",
    "        df_05['Tufo_glomerular_hipercelularidade_endocapilar_em_mais_de_50%'][i]                  = 0\n",
    "        df_05['Tufo_glomerular_hipercelularidade_endocapilar_esclerose_segmentar_e_wire_loop'][i] = 1\n",
    "        df_05['Tufo_glomerular_infiltracao_por_neutrofilos'][i]                                   = 0\n",
    "        df_05['Tufo_glomerular_normal'][i]                                                        = 0\n",
    "    elif coluna[i] == 'infiltração por neutrófilos':\n",
    "        df_05['Tufo_glomerular_congesto'][i]                                                      = 0\n",
    "        df_05['Tufo_glomerular_esclerose_global'][i]                                              = 0\n",
    "        df_05['Tufo_glomerular_esclerose_segmentar'][i]                                           = 0\n",
    "        df_05['Tufo_glomerular_esclerose_segmentar_e_global'][i]                                  = 0\n",
    "        df_05['Tufo_glomerular_hipercelularidade_endocapilar'][i]                                 = 0\n",
    "        df_05['Tufo_glomerular_hipercelularidade_endocapilar_e_esclerose_segmentar'][i]           = 0\n",
    "        df_05['Tufo_glomerular_hipercelularidade_endocapilar_e_wire_loop'][i]                     = 0\n",
    "        df_05['Tufo_glomerular_hipercelularidade_endocapilar_em_mais_de_50%'][i]                  = 0\n",
    "        df_05['Tufo_glomerular_hipercelularidade_endocapilar_esclerose_segmentar_e_wire_loop'][i] = 0\n",
    "        df_05['Tufo_glomerular_infiltracao_por_neutrofilos'][i]                                   = 1\n",
    "        df_05['Tufo_glomerular_normal'][i]                                                        = 0\n",
    "    else:\n",
    "        df_05['Tufo_glomerular_congesto'][i]                                                      = 0\n",
    "        df_05['Tufo_glomerular_esclerose_global'][i]                                              = 0\n",
    "        df_05['Tufo_glomerular_esclerose_segmentar'][i]                                           = 0\n",
    "        df_05['Tufo_glomerular_esclerose_segmentar_e_global'][i]                                  = 0\n",
    "        df_05['Tufo_glomerular_hipercelularidade_endocapilar'][i]                                 = 0\n",
    "        df_05['Tufo_glomerular_hipercelularidade_endocapilar_e_esclerose_segmentar'][i]           = 0\n",
    "        df_05['Tufo_glomerular_hipercelularidade_endocapilar_e_wire_loop'][i]                     = 0\n",
    "        df_05['Tufo_glomerular_hipercelularidade_endocapilar_em_mais_de_50%'][i]                  = 0\n",
    "        df_05['Tufo_glomerular_hipercelularidade_endocapilar_esclerose_segmentar_e_wire_loop'][i] = 0\n",
    "        df_05['Tufo_glomerular_infiltracao_por_neutrofilos'][i]                                   = 0\n",
    "        df_05['Tufo_glomerular_normal'][i]                                                        = 1"
   ]
  },
  {
   "cell_type": "code",
   "execution_count": 122,
   "metadata": {},
   "outputs": [
    {
     "data": {
      "text/html": [
       "<div>\n",
       "<style scoped>\n",
       "    .dataframe tbody tr th:only-of-type {\n",
       "        vertical-align: middle;\n",
       "    }\n",
       "\n",
       "    .dataframe tbody tr th {\n",
       "        vertical-align: top;\n",
       "    }\n",
       "\n",
       "    .dataframe thead th {\n",
       "        text-align: right;\n",
       "    }\n",
       "</style>\n",
       "<table border=\"1\" class=\"dataframe\">\n",
       "  <thead>\n",
       "    <tr style=\"text-align: right;\">\n",
       "      <th></th>\n",
       "      <th>Tufo_glomerular_congesto</th>\n",
       "      <th>Tufo_glomerular_esclerose_global</th>\n",
       "      <th>Tufo_glomerular_esclerose_segmentar</th>\n",
       "      <th>Tufo_glomerular_esclerose_segmentar_e_global</th>\n",
       "      <th>Tufo_glomerular_hipercelularidade_endocapilar</th>\n",
       "      <th>Tufo_glomerular_hipercelularidade_endocapilar_e_esclerose_segmentar</th>\n",
       "      <th>Tufo_glomerular_hipercelularidade_endocapilar_e_wire_loop</th>\n",
       "      <th>Tufo_glomerular_hipercelularidade_endocapilar_em_mais_de_50%</th>\n",
       "      <th>Tufo_glomerular_hipercelularidade_endocapilar_esclerose_segmentar_e_wire_loop</th>\n",
       "      <th>Tufo_glomerular_infiltracao_por_neutrofilos</th>\n",
       "      <th>Tufo_glomerular_normal</th>\n",
       "    </tr>\n",
       "  </thead>\n",
       "  <tbody>\n",
       "    <tr>\n",
       "      <th>0</th>\n",
       "      <td>0</td>\n",
       "      <td>0</td>\n",
       "      <td>0</td>\n",
       "      <td>0</td>\n",
       "      <td>0</td>\n",
       "      <td>0</td>\n",
       "      <td>0</td>\n",
       "      <td>0</td>\n",
       "      <td>0</td>\n",
       "      <td>0</td>\n",
       "      <td>1</td>\n",
       "    </tr>\n",
       "    <tr>\n",
       "      <th>1</th>\n",
       "      <td>0</td>\n",
       "      <td>0</td>\n",
       "      <td>0</td>\n",
       "      <td>0</td>\n",
       "      <td>0</td>\n",
       "      <td>0</td>\n",
       "      <td>0</td>\n",
       "      <td>0</td>\n",
       "      <td>0</td>\n",
       "      <td>0</td>\n",
       "      <td>1</td>\n",
       "    </tr>\n",
       "    <tr>\n",
       "      <th>2</th>\n",
       "      <td>0</td>\n",
       "      <td>0</td>\n",
       "      <td>1</td>\n",
       "      <td>0</td>\n",
       "      <td>0</td>\n",
       "      <td>0</td>\n",
       "      <td>0</td>\n",
       "      <td>0</td>\n",
       "      <td>0</td>\n",
       "      <td>0</td>\n",
       "      <td>0</td>\n",
       "    </tr>\n",
       "    <tr>\n",
       "      <th>3</th>\n",
       "      <td>0</td>\n",
       "      <td>0</td>\n",
       "      <td>0</td>\n",
       "      <td>0</td>\n",
       "      <td>0</td>\n",
       "      <td>0</td>\n",
       "      <td>0</td>\n",
       "      <td>0</td>\n",
       "      <td>0</td>\n",
       "      <td>0</td>\n",
       "      <td>1</td>\n",
       "    </tr>\n",
       "    <tr>\n",
       "      <th>4</th>\n",
       "      <td>0</td>\n",
       "      <td>0</td>\n",
       "      <td>0</td>\n",
       "      <td>0</td>\n",
       "      <td>0</td>\n",
       "      <td>0</td>\n",
       "      <td>0</td>\n",
       "      <td>0</td>\n",
       "      <td>0</td>\n",
       "      <td>0</td>\n",
       "      <td>1</td>\n",
       "    </tr>\n",
       "  </tbody>\n",
       "</table>\n",
       "</div>"
      ],
      "text/plain": [
       "  Tufo_glomerular_congesto Tufo_glomerular_esclerose_global  \\\n",
       "0                        0                                0   \n",
       "1                        0                                0   \n",
       "2                        0                                0   \n",
       "3                        0                                0   \n",
       "4                        0                                0   \n",
       "\n",
       "  Tufo_glomerular_esclerose_segmentar  \\\n",
       "0                                   0   \n",
       "1                                   0   \n",
       "2                                   1   \n",
       "3                                   0   \n",
       "4                                   0   \n",
       "\n",
       "  Tufo_glomerular_esclerose_segmentar_e_global  \\\n",
       "0                                            0   \n",
       "1                                            0   \n",
       "2                                            0   \n",
       "3                                            0   \n",
       "4                                            0   \n",
       "\n",
       "  Tufo_glomerular_hipercelularidade_endocapilar  \\\n",
       "0                                             0   \n",
       "1                                             0   \n",
       "2                                             0   \n",
       "3                                             0   \n",
       "4                                             0   \n",
       "\n",
       "  Tufo_glomerular_hipercelularidade_endocapilar_e_esclerose_segmentar  \\\n",
       "0                                                  0                    \n",
       "1                                                  0                    \n",
       "2                                                  0                    \n",
       "3                                                  0                    \n",
       "4                                                  0                    \n",
       "\n",
       "  Tufo_glomerular_hipercelularidade_endocapilar_e_wire_loop  \\\n",
       "0                                                  0          \n",
       "1                                                  0          \n",
       "2                                                  0          \n",
       "3                                                  0          \n",
       "4                                                  0          \n",
       "\n",
       "  Tufo_glomerular_hipercelularidade_endocapilar_em_mais_de_50%  \\\n",
       "0                                                  0             \n",
       "1                                                  0             \n",
       "2                                                  0             \n",
       "3                                                  0             \n",
       "4                                                  0             \n",
       "\n",
       "  Tufo_glomerular_hipercelularidade_endocapilar_esclerose_segmentar_e_wire_loop  \\\n",
       "0                                                  0                              \n",
       "1                                                  0                              \n",
       "2                                                  0                              \n",
       "3                                                  0                              \n",
       "4                                                  0                              \n",
       "\n",
       "  Tufo_glomerular_infiltracao_por_neutrofilos Tufo_glomerular_normal  \n",
       "0                                           0                      1  \n",
       "1                                           0                      1  \n",
       "2                                           0                      0  \n",
       "3                                           0                      1  \n",
       "4                                           0                      1  "
      ]
     },
     "execution_count": 122,
     "metadata": {},
     "output_type": "execute_result"
    }
   ],
   "source": [
    "contador = 0\n",
    "while contador < 100:\n",
    "    preencher5(base_01['Tufo glomerular'], contador)\n",
    "    contador += 1\n",
    "\n",
    "df_05.head()"
   ]
  },
  {
   "cell_type": "code",
   "execution_count": 123,
   "metadata": {},
   "outputs": [
    {
     "data": {
      "text/plain": [
       "normal                                                           42\n",
       "hipercelularidade endocapilar                                    27\n",
       "esclerose segmentar                                              16\n",
       "hipercelularidade endocapilar esclerose segmentar e wire loop     3\n",
       "esclerose global                                                  3\n",
       "hipercelularidade endocapilar e esclerose segmentar               2\n",
       "infiltração por neutrófilos                                       2\n",
       "hipercelularidade endocapilar e wire loop                         2\n",
       "esclerose segmentar e global                                      1\n",
       "congesto                                                          1\n",
       "hipercelularidade endocapilar em mais de 50%                      1\n",
       "Name: Tufo glomerular, dtype: int64"
      ]
     },
     "execution_count": 123,
     "metadata": {},
     "output_type": "execute_result"
    }
   ],
   "source": [
    "base_01['Tufo glomerular'].value_counts()"
   ]
  },
  {
   "cell_type": "code",
   "execution_count": 124,
   "metadata": {},
   "outputs": [
    {
     "data": {
      "text/plain": [
       "42"
      ]
     },
     "execution_count": 124,
     "metadata": {},
     "output_type": "execute_result"
    }
   ],
   "source": [
    "len(df_05[df_05['Tufo_glomerular_normal'] == 1])"
   ]
  },
  {
   "cell_type": "code",
   "execution_count": 125,
   "metadata": {},
   "outputs": [
    {
     "data": {
      "text/plain": [
       "27"
      ]
     },
     "execution_count": 125,
     "metadata": {},
     "output_type": "execute_result"
    }
   ],
   "source": [
    "len(df_05[df_05['Tufo_glomerular_hipercelularidade_endocapilar'] == 1])"
   ]
  },
  {
   "cell_type": "code",
   "execution_count": 126,
   "metadata": {},
   "outputs": [
    {
     "data": {
      "text/plain": [
       "16"
      ]
     },
     "execution_count": 126,
     "metadata": {},
     "output_type": "execute_result"
    }
   ],
   "source": [
    "len(df_05[df_05['Tufo_glomerular_esclerose_segmentar'] == 1])"
   ]
  },
  {
   "cell_type": "code",
   "execution_count": 127,
   "metadata": {},
   "outputs": [
    {
     "data": {
      "text/plain": [
       "3"
      ]
     },
     "execution_count": 127,
     "metadata": {},
     "output_type": "execute_result"
    }
   ],
   "source": [
    "len(df_05[df_05['Tufo_glomerular_hipercelularidade_endocapilar_esclerose_segmentar_e_wire_loop'] == 1])"
   ]
  },
  {
   "cell_type": "code",
   "execution_count": 128,
   "metadata": {},
   "outputs": [
    {
     "data": {
      "text/plain": [
       "3"
      ]
     },
     "execution_count": 128,
     "metadata": {},
     "output_type": "execute_result"
    }
   ],
   "source": [
    "len(df_05[df_05['Tufo_glomerular_esclerose_global'] == 1])"
   ]
  },
  {
   "cell_type": "code",
   "execution_count": 129,
   "metadata": {},
   "outputs": [
    {
     "data": {
      "text/plain": [
       "2"
      ]
     },
     "execution_count": 129,
     "metadata": {},
     "output_type": "execute_result"
    }
   ],
   "source": [
    "len(df_05[df_05['Tufo_glomerular_hipercelularidade_endocapilar_e_wire_loop'] == 1])"
   ]
  },
  {
   "cell_type": "code",
   "execution_count": 130,
   "metadata": {},
   "outputs": [
    {
     "data": {
      "text/plain": [
       "2"
      ]
     },
     "execution_count": 130,
     "metadata": {},
     "output_type": "execute_result"
    }
   ],
   "source": [
    "len(df_05[df_05['Tufo_glomerular_hipercelularidade_endocapilar_e_esclerose_segmentar'] == 1])"
   ]
  },
  {
   "cell_type": "code",
   "execution_count": 131,
   "metadata": {},
   "outputs": [
    {
     "data": {
      "text/plain": [
       "2"
      ]
     },
     "execution_count": 131,
     "metadata": {},
     "output_type": "execute_result"
    }
   ],
   "source": [
    "len(df_05[df_05['Tufo_glomerular_infiltracao_por_neutrofilos'] == 1])"
   ]
  },
  {
   "cell_type": "code",
   "execution_count": 132,
   "metadata": {},
   "outputs": [
    {
     "data": {
      "text/plain": [
       "1"
      ]
     },
     "execution_count": 132,
     "metadata": {},
     "output_type": "execute_result"
    }
   ],
   "source": [
    "len(df_05[df_05['Tufo_glomerular_congesto'] == 1])"
   ]
  },
  {
   "cell_type": "code",
   "execution_count": 133,
   "metadata": {},
   "outputs": [
    {
     "data": {
      "text/plain": [
       "1"
      ]
     },
     "execution_count": 133,
     "metadata": {},
     "output_type": "execute_result"
    }
   ],
   "source": [
    "len(df_05[df_05['Tufo_glomerular_esclerose_segmentar_e_global'] == 1])"
   ]
  },
  {
   "cell_type": "code",
   "execution_count": 134,
   "metadata": {},
   "outputs": [
    {
     "data": {
      "text/plain": [
       "1"
      ]
     },
     "execution_count": 134,
     "metadata": {},
     "output_type": "execute_result"
    }
   ],
   "source": [
    "len(df_05[df_05['Tufo_glomerular_hipercelularidade_endocapilar_em_mais_de_50%'] == 1])"
   ]
  },
  {
   "cell_type": "markdown",
   "metadata": {},
   "source": [
    "Podócito"
   ]
  },
  {
   "cell_type": "code",
   "execution_count": 135,
   "metadata": {},
   "outputs": [
    {
     "data": {
      "text/html": [
       "<div>\n",
       "<style scoped>\n",
       "    .dataframe tbody tr th:only-of-type {\n",
       "        vertical-align: middle;\n",
       "    }\n",
       "\n",
       "    .dataframe tbody tr th {\n",
       "        vertical-align: top;\n",
       "    }\n",
       "\n",
       "    .dataframe thead th {\n",
       "        text-align: right;\n",
       "    }\n",
       "</style>\n",
       "<table border=\"1\" class=\"dataframe\">\n",
       "  <thead>\n",
       "    <tr style=\"text-align: right;\">\n",
       "      <th></th>\n",
       "      <th>Podocito_hipertrofia</th>\n",
       "      <th>Podocito_normal</th>\n",
       "      <th>Podocito_vacuolizacao</th>\n",
       "    </tr>\n",
       "  </thead>\n",
       "  <tbody>\n",
       "    <tr>\n",
       "      <th>0</th>\n",
       "      <td>NaN</td>\n",
       "      <td>NaN</td>\n",
       "      <td>NaN</td>\n",
       "    </tr>\n",
       "    <tr>\n",
       "      <th>1</th>\n",
       "      <td>NaN</td>\n",
       "      <td>NaN</td>\n",
       "      <td>NaN</td>\n",
       "    </tr>\n",
       "    <tr>\n",
       "      <th>2</th>\n",
       "      <td>NaN</td>\n",
       "      <td>NaN</td>\n",
       "      <td>NaN</td>\n",
       "    </tr>\n",
       "    <tr>\n",
       "      <th>3</th>\n",
       "      <td>NaN</td>\n",
       "      <td>NaN</td>\n",
       "      <td>NaN</td>\n",
       "    </tr>\n",
       "    <tr>\n",
       "      <th>4</th>\n",
       "      <td>NaN</td>\n",
       "      <td>NaN</td>\n",
       "      <td>NaN</td>\n",
       "    </tr>\n",
       "  </tbody>\n",
       "</table>\n",
       "</div>"
      ],
      "text/plain": [
       "  Podocito_hipertrofia Podocito_normal Podocito_vacuolizacao\n",
       "0                  NaN             NaN                   NaN\n",
       "1                  NaN             NaN                   NaN\n",
       "2                  NaN             NaN                   NaN\n",
       "3                  NaN             NaN                   NaN\n",
       "4                  NaN             NaN                   NaN"
      ]
     },
     "execution_count": 135,
     "metadata": {},
     "output_type": "execute_result"
    }
   ],
   "source": [
    "df_06 = pd.DataFrame(index = indices, columns = Podocito)\n",
    "df_06.head()"
   ]
  },
  {
   "cell_type": "code",
   "execution_count": 136,
   "metadata": {},
   "outputs": [
    {
     "data": {
      "text/plain": [
       "array(['hipertrofia', 'normal', 'vacuolização'], dtype=object)"
      ]
     },
     "execution_count": 136,
     "metadata": {},
     "output_type": "execute_result"
    }
   ],
   "source": [
    "np.unique(base_01['Podócito'])"
   ]
  },
  {
   "cell_type": "code",
   "execution_count": 137,
   "metadata": {},
   "outputs": [
    {
     "data": {
      "text/plain": [
       "Index(['Podocito_hipertrofia', 'Podocito_normal', 'Podocito_vacuolizacao'], dtype='object')"
      ]
     },
     "execution_count": 137,
     "metadata": {},
     "output_type": "execute_result"
    }
   ],
   "source": [
    "df_06.columns"
   ]
  },
  {
   "cell_type": "code",
   "execution_count": 138,
   "metadata": {},
   "outputs": [],
   "source": [
    "def preencher6(coluna, i):\n",
    "    if coluna[i] == 'hipertrofia':\n",
    "        df_06['Podocito_hipertrofia'][i]  = 1\n",
    "        df_06['Podocito_normal'][i]       = 0\n",
    "        df_06['Podocito_vacuolizacao'][i] = 0\n",
    "    elif coluna[i] == 'normal':\n",
    "        df_06['Podocito_hipertrofia'][i]  = 0\n",
    "        df_06['Podocito_normal'][i]       = 1\n",
    "        df_06['Podocito_vacuolizacao'][i] = 0\n",
    "    else:\n",
    "        df_06['Podocito_hipertrofia'][i]  = 0\n",
    "        df_06['Podocito_normal'][i]       = 0\n",
    "        df_06['Podocito_vacuolizacao'][i] = 1"
   ]
  },
  {
   "cell_type": "code",
   "execution_count": 139,
   "metadata": {},
   "outputs": [
    {
     "data": {
      "text/html": [
       "<div>\n",
       "<style scoped>\n",
       "    .dataframe tbody tr th:only-of-type {\n",
       "        vertical-align: middle;\n",
       "    }\n",
       "\n",
       "    .dataframe tbody tr th {\n",
       "        vertical-align: top;\n",
       "    }\n",
       "\n",
       "    .dataframe thead th {\n",
       "        text-align: right;\n",
       "    }\n",
       "</style>\n",
       "<table border=\"1\" class=\"dataframe\">\n",
       "  <thead>\n",
       "    <tr style=\"text-align: right;\">\n",
       "      <th></th>\n",
       "      <th>Podocito_hipertrofia</th>\n",
       "      <th>Podocito_normal</th>\n",
       "      <th>Podocito_vacuolizacao</th>\n",
       "    </tr>\n",
       "  </thead>\n",
       "  <tbody>\n",
       "    <tr>\n",
       "      <th>0</th>\n",
       "      <td>0</td>\n",
       "      <td>1</td>\n",
       "      <td>0</td>\n",
       "    </tr>\n",
       "    <tr>\n",
       "      <th>1</th>\n",
       "      <td>0</td>\n",
       "      <td>1</td>\n",
       "      <td>0</td>\n",
       "    </tr>\n",
       "    <tr>\n",
       "      <th>2</th>\n",
       "      <td>1</td>\n",
       "      <td>0</td>\n",
       "      <td>0</td>\n",
       "    </tr>\n",
       "    <tr>\n",
       "      <th>3</th>\n",
       "      <td>0</td>\n",
       "      <td>1</td>\n",
       "      <td>0</td>\n",
       "    </tr>\n",
       "    <tr>\n",
       "      <th>4</th>\n",
       "      <td>0</td>\n",
       "      <td>1</td>\n",
       "      <td>0</td>\n",
       "    </tr>\n",
       "  </tbody>\n",
       "</table>\n",
       "</div>"
      ],
      "text/plain": [
       "  Podocito_hipertrofia Podocito_normal Podocito_vacuolizacao\n",
       "0                    0               1                     0\n",
       "1                    0               1                     0\n",
       "2                    1               0                     0\n",
       "3                    0               1                     0\n",
       "4                    0               1                     0"
      ]
     },
     "execution_count": 139,
     "metadata": {},
     "output_type": "execute_result"
    }
   ],
   "source": [
    "contador = 0\n",
    "while contador < 100:\n",
    "    preencher6(base_01['Podócito'], contador)\n",
    "    contador += 1\n",
    "\n",
    "df_06.head()"
   ]
  },
  {
   "cell_type": "code",
   "execution_count": 140,
   "metadata": {},
   "outputs": [
    {
     "data": {
      "text/plain": [
       "normal          93\n",
       "hipertrofia      5\n",
       "vacuolização     2\n",
       "Name: Podócito, dtype: int64"
      ]
     },
     "execution_count": 140,
     "metadata": {},
     "output_type": "execute_result"
    }
   ],
   "source": [
    "base_01['Podócito'].value_counts()"
   ]
  },
  {
   "cell_type": "code",
   "execution_count": 141,
   "metadata": {},
   "outputs": [
    {
     "data": {
      "text/plain": [
       "93"
      ]
     },
     "execution_count": 141,
     "metadata": {},
     "output_type": "execute_result"
    }
   ],
   "source": [
    "len(df_06[df_06['Podocito_normal'] == 1])"
   ]
  },
  {
   "cell_type": "code",
   "execution_count": 142,
   "metadata": {},
   "outputs": [
    {
     "data": {
      "text/plain": [
       "5"
      ]
     },
     "execution_count": 142,
     "metadata": {},
     "output_type": "execute_result"
    }
   ],
   "source": [
    "len(df_06[df_06['Podocito_hipertrofia'] == 1])"
   ]
  },
  {
   "cell_type": "code",
   "execution_count": 143,
   "metadata": {},
   "outputs": [
    {
     "data": {
      "text/plain": [
       "2"
      ]
     },
     "execution_count": 143,
     "metadata": {},
     "output_type": "execute_result"
    }
   ],
   "source": [
    "len(df_06[df_06['Podocito_vacuolizacao'] == 1])"
   ]
  },
  {
   "cell_type": "markdown",
   "metadata": {},
   "source": [
    "Necrose Tubular Aguda"
   ]
  },
  {
   "cell_type": "code",
   "execution_count": 144,
   "metadata": {},
   "outputs": [
    {
     "data": {
      "text/html": [
       "<div>\n",
       "<style scoped>\n",
       "    .dataframe tbody tr th:only-of-type {\n",
       "        vertical-align: middle;\n",
       "    }\n",
       "\n",
       "    .dataframe tbody tr th {\n",
       "        vertical-align: top;\n",
       "    }\n",
       "\n",
       "    .dataframe thead th {\n",
       "        text-align: right;\n",
       "    }\n",
       "</style>\n",
       "<table border=\"1\" class=\"dataframe\">\n",
       "  <thead>\n",
       "    <tr style=\"text-align: right;\">\n",
       "      <th></th>\n",
       "      <th>Necrose_tubular_aguda_ausente</th>\n",
       "    </tr>\n",
       "  </thead>\n",
       "  <tbody>\n",
       "    <tr>\n",
       "      <th>0</th>\n",
       "      <td>NaN</td>\n",
       "    </tr>\n",
       "    <tr>\n",
       "      <th>1</th>\n",
       "      <td>NaN</td>\n",
       "    </tr>\n",
       "    <tr>\n",
       "      <th>2</th>\n",
       "      <td>NaN</td>\n",
       "    </tr>\n",
       "    <tr>\n",
       "      <th>3</th>\n",
       "      <td>NaN</td>\n",
       "    </tr>\n",
       "    <tr>\n",
       "      <th>4</th>\n",
       "      <td>NaN</td>\n",
       "    </tr>\n",
       "  </tbody>\n",
       "</table>\n",
       "</div>"
      ],
      "text/plain": [
       "  Necrose_tubular_aguda_ausente\n",
       "0                           NaN\n",
       "1                           NaN\n",
       "2                           NaN\n",
       "3                           NaN\n",
       "4                           NaN"
      ]
     },
     "execution_count": 144,
     "metadata": {},
     "output_type": "execute_result"
    }
   ],
   "source": [
    "df_07 = pd.DataFrame(index = indices, columns = Necrose_tubular_aguda)\n",
    "df_07.head()"
   ]
  },
  {
   "cell_type": "code",
   "execution_count": 145,
   "metadata": {},
   "outputs": [
    {
     "data": {
      "text/plain": [
       "array(['ausente'], dtype=object)"
      ]
     },
     "execution_count": 145,
     "metadata": {},
     "output_type": "execute_result"
    }
   ],
   "source": [
    "np.unique(base_01['Necrose tubular aguda'])"
   ]
  },
  {
   "cell_type": "code",
   "execution_count": 146,
   "metadata": {},
   "outputs": [
    {
     "data": {
      "text/plain": [
       "Index(['Necrose_tubular_aguda_ausente'], dtype='object')"
      ]
     },
     "execution_count": 146,
     "metadata": {},
     "output_type": "execute_result"
    }
   ],
   "source": [
    "df_07.columns"
   ]
  },
  {
   "cell_type": "code",
   "execution_count": 147,
   "metadata": {},
   "outputs": [
    {
     "data": {
      "text/html": [
       "<div>\n",
       "<style scoped>\n",
       "    .dataframe tbody tr th:only-of-type {\n",
       "        vertical-align: middle;\n",
       "    }\n",
       "\n",
       "    .dataframe tbody tr th {\n",
       "        vertical-align: top;\n",
       "    }\n",
       "\n",
       "    .dataframe thead th {\n",
       "        text-align: right;\n",
       "    }\n",
       "</style>\n",
       "<table border=\"1\" class=\"dataframe\">\n",
       "  <thead>\n",
       "    <tr style=\"text-align: right;\">\n",
       "      <th></th>\n",
       "      <th>Necrose_tubular_aguda_ausente</th>\n",
       "    </tr>\n",
       "  </thead>\n",
       "  <tbody>\n",
       "    <tr>\n",
       "      <th>0</th>\n",
       "      <td>1</td>\n",
       "    </tr>\n",
       "    <tr>\n",
       "      <th>1</th>\n",
       "      <td>1</td>\n",
       "    </tr>\n",
       "    <tr>\n",
       "      <th>2</th>\n",
       "      <td>1</td>\n",
       "    </tr>\n",
       "    <tr>\n",
       "      <th>3</th>\n",
       "      <td>1</td>\n",
       "    </tr>\n",
       "    <tr>\n",
       "      <th>4</th>\n",
       "      <td>1</td>\n",
       "    </tr>\n",
       "  </tbody>\n",
       "</table>\n",
       "</div>"
      ],
      "text/plain": [
       "   Necrose_tubular_aguda_ausente\n",
       "0                              1\n",
       "1                              1\n",
       "2                              1\n",
       "3                              1\n",
       "4                              1"
      ]
     },
     "execution_count": 147,
     "metadata": {},
     "output_type": "execute_result"
    }
   ],
   "source": [
    "df_07['Necrose_tubular_aguda_ausente'] = 1\n",
    "df_07.head()"
   ]
  },
  {
   "cell_type": "code",
   "execution_count": 148,
   "metadata": {},
   "outputs": [
    {
     "data": {
      "text/plain": [
       "ausente    100\n",
       "Name: Necrose tubular aguda, dtype: int64"
      ]
     },
     "execution_count": 148,
     "metadata": {},
     "output_type": "execute_result"
    }
   ],
   "source": [
    "base_01['Necrose tubular aguda'].value_counts()"
   ]
  },
  {
   "cell_type": "code",
   "execution_count": 149,
   "metadata": {},
   "outputs": [
    {
     "data": {
      "text/plain": [
       "100"
      ]
     },
     "execution_count": 149,
     "metadata": {},
     "output_type": "execute_result"
    }
   ],
   "source": [
    "len(df_07[df_07['Necrose_tubular_aguda_ausente'] == 1])"
   ]
  },
  {
   "cell_type": "markdown",
   "metadata": {},
   "source": [
    "Vacuolização do Epitélio"
   ]
  },
  {
   "cell_type": "code",
   "execution_count": 150,
   "metadata": {},
   "outputs": [
    {
     "data": {
      "text/html": [
       "<div>\n",
       "<style scoped>\n",
       "    .dataframe tbody tr th:only-of-type {\n",
       "        vertical-align: middle;\n",
       "    }\n",
       "\n",
       "    .dataframe tbody tr th {\n",
       "        vertical-align: top;\n",
       "    }\n",
       "\n",
       "    .dataframe thead th {\n",
       "        text-align: right;\n",
       "    }\n",
       "</style>\n",
       "<table border=\"1\" class=\"dataframe\">\n",
       "  <thead>\n",
       "    <tr style=\"text-align: right;\">\n",
       "      <th></th>\n",
       "      <th>Vacuolizacao_do_epitelio_ausente</th>\n",
       "      <th>Vacuolizacao_do_epitelio_presente</th>\n",
       "    </tr>\n",
       "  </thead>\n",
       "  <tbody>\n",
       "    <tr>\n",
       "      <th>0</th>\n",
       "      <td>NaN</td>\n",
       "      <td>NaN</td>\n",
       "    </tr>\n",
       "    <tr>\n",
       "      <th>1</th>\n",
       "      <td>NaN</td>\n",
       "      <td>NaN</td>\n",
       "    </tr>\n",
       "    <tr>\n",
       "      <th>2</th>\n",
       "      <td>NaN</td>\n",
       "      <td>NaN</td>\n",
       "    </tr>\n",
       "    <tr>\n",
       "      <th>3</th>\n",
       "      <td>NaN</td>\n",
       "      <td>NaN</td>\n",
       "    </tr>\n",
       "    <tr>\n",
       "      <th>4</th>\n",
       "      <td>NaN</td>\n",
       "      <td>NaN</td>\n",
       "    </tr>\n",
       "  </tbody>\n",
       "</table>\n",
       "</div>"
      ],
      "text/plain": [
       "  Vacuolizacao_do_epitelio_ausente Vacuolizacao_do_epitelio_presente\n",
       "0                              NaN                               NaN\n",
       "1                              NaN                               NaN\n",
       "2                              NaN                               NaN\n",
       "3                              NaN                               NaN\n",
       "4                              NaN                               NaN"
      ]
     },
     "execution_count": 150,
     "metadata": {},
     "output_type": "execute_result"
    }
   ],
   "source": [
    "df_08 = pd.DataFrame(index = indices, columns = Vacuolizacao_do_epitelio)\n",
    "df_08.head()"
   ]
  },
  {
   "cell_type": "code",
   "execution_count": 151,
   "metadata": {},
   "outputs": [
    {
     "data": {
      "text/plain": [
       "array(['ausente', 'presente'], dtype=object)"
      ]
     },
     "execution_count": 151,
     "metadata": {},
     "output_type": "execute_result"
    }
   ],
   "source": [
    "np.unique(base_01['Vacuolização do epitélio'])"
   ]
  },
  {
   "cell_type": "code",
   "execution_count": 152,
   "metadata": {},
   "outputs": [
    {
     "data": {
      "text/plain": [
       "Index(['Vacuolizacao_do_epitelio_ausente', 'Vacuolizacao_do_epitelio_presente'], dtype='object')"
      ]
     },
     "execution_count": 152,
     "metadata": {},
     "output_type": "execute_result"
    }
   ],
   "source": [
    "df_08.columns"
   ]
  },
  {
   "cell_type": "code",
   "execution_count": 153,
   "metadata": {},
   "outputs": [],
   "source": [
    "def preencher8(coluna, i):\n",
    "    if coluna[i] == 'ausente':\n",
    "        df_08['Vacuolizacao_do_epitelio_ausente'][i]  = 1\n",
    "        df_08['Vacuolizacao_do_epitelio_presente'][i] = 0\n",
    "    else:\n",
    "        df_08['Vacuolizacao_do_epitelio_ausente'][i]  = 0\n",
    "        df_08['Vacuolizacao_do_epitelio_presente'][i] = 1"
   ]
  },
  {
   "cell_type": "code",
   "execution_count": 154,
   "metadata": {},
   "outputs": [
    {
     "data": {
      "text/html": [
       "<div>\n",
       "<style scoped>\n",
       "    .dataframe tbody tr th:only-of-type {\n",
       "        vertical-align: middle;\n",
       "    }\n",
       "\n",
       "    .dataframe tbody tr th {\n",
       "        vertical-align: top;\n",
       "    }\n",
       "\n",
       "    .dataframe thead th {\n",
       "        text-align: right;\n",
       "    }\n",
       "</style>\n",
       "<table border=\"1\" class=\"dataframe\">\n",
       "  <thead>\n",
       "    <tr style=\"text-align: right;\">\n",
       "      <th></th>\n",
       "      <th>Vacuolizacao_do_epitelio_ausente</th>\n",
       "      <th>Vacuolizacao_do_epitelio_presente</th>\n",
       "    </tr>\n",
       "  </thead>\n",
       "  <tbody>\n",
       "    <tr>\n",
       "      <th>0</th>\n",
       "      <td>1</td>\n",
       "      <td>0</td>\n",
       "    </tr>\n",
       "    <tr>\n",
       "      <th>1</th>\n",
       "      <td>1</td>\n",
       "      <td>0</td>\n",
       "    </tr>\n",
       "    <tr>\n",
       "      <th>2</th>\n",
       "      <td>1</td>\n",
       "      <td>0</td>\n",
       "    </tr>\n",
       "    <tr>\n",
       "      <th>3</th>\n",
       "      <td>1</td>\n",
       "      <td>0</td>\n",
       "    </tr>\n",
       "    <tr>\n",
       "      <th>4</th>\n",
       "      <td>1</td>\n",
       "      <td>0</td>\n",
       "    </tr>\n",
       "  </tbody>\n",
       "</table>\n",
       "</div>"
      ],
      "text/plain": [
       "  Vacuolizacao_do_epitelio_ausente Vacuolizacao_do_epitelio_presente\n",
       "0                                1                                 0\n",
       "1                                1                                 0\n",
       "2                                1                                 0\n",
       "3                                1                                 0\n",
       "4                                1                                 0"
      ]
     },
     "execution_count": 154,
     "metadata": {},
     "output_type": "execute_result"
    }
   ],
   "source": [
    "contador = 0\n",
    "while contador < 100:\n",
    "    preencher8(base_01['Vacuolização do epitélio'], contador)\n",
    "    contador += 1\n",
    "\n",
    "df_08.head()"
   ]
  },
  {
   "cell_type": "code",
   "execution_count": 155,
   "metadata": {},
   "outputs": [
    {
     "data": {
      "text/plain": [
       "ausente     99\n",
       "presente     1\n",
       "Name: Vacuolização do epitélio, dtype: int64"
      ]
     },
     "execution_count": 155,
     "metadata": {},
     "output_type": "execute_result"
    }
   ],
   "source": [
    "base_01['Vacuolização do epitélio'].value_counts()"
   ]
  },
  {
   "cell_type": "code",
   "execution_count": 156,
   "metadata": {},
   "outputs": [
    {
     "data": {
      "text/plain": [
       "99"
      ]
     },
     "execution_count": 156,
     "metadata": {},
     "output_type": "execute_result"
    }
   ],
   "source": [
    "len(df_08[df_08['Vacuolizacao_do_epitelio_ausente'] == 1])"
   ]
  },
  {
   "cell_type": "code",
   "execution_count": 157,
   "metadata": {},
   "outputs": [
    {
     "data": {
      "text/plain": [
       "1"
      ]
     },
     "execution_count": 157,
     "metadata": {},
     "output_type": "execute_result"
    }
   ],
   "source": [
    "len(df_08[df_08['Vacuolizacao_do_epitelio_presente'] == 1])"
   ]
  },
  {
   "cell_type": "markdown",
   "metadata": {},
   "source": [
    "Cristais"
   ]
  },
  {
   "cell_type": "code",
   "execution_count": 158,
   "metadata": {},
   "outputs": [
    {
     "data": {
      "text/html": [
       "<div>\n",
       "<style scoped>\n",
       "    .dataframe tbody tr th:only-of-type {\n",
       "        vertical-align: middle;\n",
       "    }\n",
       "\n",
       "    .dataframe tbody tr th {\n",
       "        vertical-align: top;\n",
       "    }\n",
       "\n",
       "    .dataframe thead th {\n",
       "        text-align: right;\n",
       "    }\n",
       "</style>\n",
       "<table border=\"1\" class=\"dataframe\">\n",
       "  <thead>\n",
       "    <tr style=\"text-align: right;\">\n",
       "      <th></th>\n",
       "      <th>Cristais_ausente</th>\n",
       "    </tr>\n",
       "  </thead>\n",
       "  <tbody>\n",
       "    <tr>\n",
       "      <th>0</th>\n",
       "      <td>NaN</td>\n",
       "    </tr>\n",
       "    <tr>\n",
       "      <th>1</th>\n",
       "      <td>NaN</td>\n",
       "    </tr>\n",
       "    <tr>\n",
       "      <th>2</th>\n",
       "      <td>NaN</td>\n",
       "    </tr>\n",
       "    <tr>\n",
       "      <th>3</th>\n",
       "      <td>NaN</td>\n",
       "    </tr>\n",
       "    <tr>\n",
       "      <th>4</th>\n",
       "      <td>NaN</td>\n",
       "    </tr>\n",
       "  </tbody>\n",
       "</table>\n",
       "</div>"
      ],
      "text/plain": [
       "  Cristais_ausente\n",
       "0              NaN\n",
       "1              NaN\n",
       "2              NaN\n",
       "3              NaN\n",
       "4              NaN"
      ]
     },
     "execution_count": 158,
     "metadata": {},
     "output_type": "execute_result"
    }
   ],
   "source": [
    "df_09 = pd.DataFrame(index = indices, columns = Cristais)\n",
    "df_09.head()"
   ]
  },
  {
   "cell_type": "code",
   "execution_count": 159,
   "metadata": {},
   "outputs": [
    {
     "data": {
      "text/plain": [
       "array(['ausente'], dtype=object)"
      ]
     },
     "execution_count": 159,
     "metadata": {},
     "output_type": "execute_result"
    }
   ],
   "source": [
    "np.unique(base_01['Cristais'])"
   ]
  },
  {
   "cell_type": "code",
   "execution_count": 160,
   "metadata": {},
   "outputs": [
    {
     "data": {
      "text/plain": [
       "Index(['Cristais_ausente'], dtype='object')"
      ]
     },
     "execution_count": 160,
     "metadata": {},
     "output_type": "execute_result"
    }
   ],
   "source": [
    "df_09.columns"
   ]
  },
  {
   "cell_type": "code",
   "execution_count": 161,
   "metadata": {},
   "outputs": [
    {
     "data": {
      "text/html": [
       "<div>\n",
       "<style scoped>\n",
       "    .dataframe tbody tr th:only-of-type {\n",
       "        vertical-align: middle;\n",
       "    }\n",
       "\n",
       "    .dataframe tbody tr th {\n",
       "        vertical-align: top;\n",
       "    }\n",
       "\n",
       "    .dataframe thead th {\n",
       "        text-align: right;\n",
       "    }\n",
       "</style>\n",
       "<table border=\"1\" class=\"dataframe\">\n",
       "  <thead>\n",
       "    <tr style=\"text-align: right;\">\n",
       "      <th></th>\n",
       "      <th>Cristais_ausente</th>\n",
       "    </tr>\n",
       "  </thead>\n",
       "  <tbody>\n",
       "    <tr>\n",
       "      <th>0</th>\n",
       "      <td>1</td>\n",
       "    </tr>\n",
       "    <tr>\n",
       "      <th>1</th>\n",
       "      <td>1</td>\n",
       "    </tr>\n",
       "    <tr>\n",
       "      <th>2</th>\n",
       "      <td>1</td>\n",
       "    </tr>\n",
       "    <tr>\n",
       "      <th>3</th>\n",
       "      <td>1</td>\n",
       "    </tr>\n",
       "    <tr>\n",
       "      <th>4</th>\n",
       "      <td>1</td>\n",
       "    </tr>\n",
       "  </tbody>\n",
       "</table>\n",
       "</div>"
      ],
      "text/plain": [
       "   Cristais_ausente\n",
       "0                 1\n",
       "1                 1\n",
       "2                 1\n",
       "3                 1\n",
       "4                 1"
      ]
     },
     "execution_count": 161,
     "metadata": {},
     "output_type": "execute_result"
    }
   ],
   "source": [
    "df_09['Cristais_ausente'] = 1\n",
    "df_09.head()"
   ]
  },
  {
   "cell_type": "code",
   "execution_count": 162,
   "metadata": {},
   "outputs": [
    {
     "data": {
      "text/plain": [
       "ausente    100\n",
       "Name: Cristais, dtype: int64"
      ]
     },
     "execution_count": 162,
     "metadata": {},
     "output_type": "execute_result"
    }
   ],
   "source": [
    "base_01['Cristais'].value_counts()"
   ]
  },
  {
   "cell_type": "code",
   "execution_count": 163,
   "metadata": {},
   "outputs": [
    {
     "data": {
      "text/plain": [
       "100"
      ]
     },
     "execution_count": 163,
     "metadata": {},
     "output_type": "execute_result"
    }
   ],
   "source": [
    "len(df_09[df_09['Cristais_ausente'] == 1])"
   ]
  },
  {
   "cell_type": "markdown",
   "metadata": {},
   "source": [
    "Calcificação"
   ]
  },
  {
   "cell_type": "code",
   "execution_count": 164,
   "metadata": {},
   "outputs": [
    {
     "data": {
      "text/html": [
       "<div>\n",
       "<style scoped>\n",
       "    .dataframe tbody tr th:only-of-type {\n",
       "        vertical-align: middle;\n",
       "    }\n",
       "\n",
       "    .dataframe tbody tr th {\n",
       "        vertical-align: top;\n",
       "    }\n",
       "\n",
       "    .dataframe thead th {\n",
       "        text-align: right;\n",
       "    }\n",
       "</style>\n",
       "<table border=\"1\" class=\"dataframe\">\n",
       "  <thead>\n",
       "    <tr style=\"text-align: right;\">\n",
       "      <th></th>\n",
       "      <th>Calcificacao_ausente</th>\n",
       "      <th>Calcificacao_presente</th>\n",
       "    </tr>\n",
       "  </thead>\n",
       "  <tbody>\n",
       "    <tr>\n",
       "      <th>0</th>\n",
       "      <td>NaN</td>\n",
       "      <td>NaN</td>\n",
       "    </tr>\n",
       "    <tr>\n",
       "      <th>1</th>\n",
       "      <td>NaN</td>\n",
       "      <td>NaN</td>\n",
       "    </tr>\n",
       "    <tr>\n",
       "      <th>2</th>\n",
       "      <td>NaN</td>\n",
       "      <td>NaN</td>\n",
       "    </tr>\n",
       "    <tr>\n",
       "      <th>3</th>\n",
       "      <td>NaN</td>\n",
       "      <td>NaN</td>\n",
       "    </tr>\n",
       "    <tr>\n",
       "      <th>4</th>\n",
       "      <td>NaN</td>\n",
       "      <td>NaN</td>\n",
       "    </tr>\n",
       "  </tbody>\n",
       "</table>\n",
       "</div>"
      ],
      "text/plain": [
       "  Calcificacao_ausente Calcificacao_presente\n",
       "0                  NaN                   NaN\n",
       "1                  NaN                   NaN\n",
       "2                  NaN                   NaN\n",
       "3                  NaN                   NaN\n",
       "4                  NaN                   NaN"
      ]
     },
     "execution_count": 164,
     "metadata": {},
     "output_type": "execute_result"
    }
   ],
   "source": [
    "df_10 = pd.DataFrame(index = indices, columns = Calcificacao)\n",
    "df_10.head()"
   ]
  },
  {
   "cell_type": "code",
   "execution_count": 165,
   "metadata": {},
   "outputs": [
    {
     "data": {
      "text/plain": [
       "array(['ausente', 'presente'], dtype=object)"
      ]
     },
     "execution_count": 165,
     "metadata": {},
     "output_type": "execute_result"
    }
   ],
   "source": [
    "np.unique(base_01['Calcificação'])"
   ]
  },
  {
   "cell_type": "code",
   "execution_count": 166,
   "metadata": {},
   "outputs": [
    {
     "data": {
      "text/plain": [
       "Index(['Calcificacao_ausente', 'Calcificacao_presente'], dtype='object')"
      ]
     },
     "execution_count": 166,
     "metadata": {},
     "output_type": "execute_result"
    }
   ],
   "source": [
    "df_10.columns"
   ]
  },
  {
   "cell_type": "code",
   "execution_count": 167,
   "metadata": {},
   "outputs": [],
   "source": [
    "def preencher10(coluna, i):\n",
    "    if coluna[i] == 'ausente':\n",
    "        df_10['Calcificacao_ausente'][i]  = 1\n",
    "        df_10['Calcificacao_presente'][i] = 0\n",
    "    else:\n",
    "        df_10['Calcificacao_ausente'][i]  = 0\n",
    "        df_10['Calcificacao_presente'][i] = 1"
   ]
  },
  {
   "cell_type": "code",
   "execution_count": 168,
   "metadata": {},
   "outputs": [
    {
     "data": {
      "text/html": [
       "<div>\n",
       "<style scoped>\n",
       "    .dataframe tbody tr th:only-of-type {\n",
       "        vertical-align: middle;\n",
       "    }\n",
       "\n",
       "    .dataframe tbody tr th {\n",
       "        vertical-align: top;\n",
       "    }\n",
       "\n",
       "    .dataframe thead th {\n",
       "        text-align: right;\n",
       "    }\n",
       "</style>\n",
       "<table border=\"1\" class=\"dataframe\">\n",
       "  <thead>\n",
       "    <tr style=\"text-align: right;\">\n",
       "      <th></th>\n",
       "      <th>Calcificacao_ausente</th>\n",
       "      <th>Calcificacao_presente</th>\n",
       "    </tr>\n",
       "  </thead>\n",
       "  <tbody>\n",
       "    <tr>\n",
       "      <th>0</th>\n",
       "      <td>1</td>\n",
       "      <td>0</td>\n",
       "    </tr>\n",
       "    <tr>\n",
       "      <th>1</th>\n",
       "      <td>1</td>\n",
       "      <td>0</td>\n",
       "    </tr>\n",
       "    <tr>\n",
       "      <th>2</th>\n",
       "      <td>1</td>\n",
       "      <td>0</td>\n",
       "    </tr>\n",
       "    <tr>\n",
       "      <th>3</th>\n",
       "      <td>1</td>\n",
       "      <td>0</td>\n",
       "    </tr>\n",
       "    <tr>\n",
       "      <th>4</th>\n",
       "      <td>1</td>\n",
       "      <td>0</td>\n",
       "    </tr>\n",
       "  </tbody>\n",
       "</table>\n",
       "</div>"
      ],
      "text/plain": [
       "  Calcificacao_ausente Calcificacao_presente\n",
       "0                    1                     0\n",
       "1                    1                     0\n",
       "2                    1                     0\n",
       "3                    1                     0\n",
       "4                    1                     0"
      ]
     },
     "execution_count": 168,
     "metadata": {},
     "output_type": "execute_result"
    }
   ],
   "source": [
    "contador = 0\n",
    "while contador < 100:\n",
    "    preencher10(base_01['Calcificação'], contador)\n",
    "    contador += 1\n",
    "\n",
    "df_10.head()"
   ]
  },
  {
   "cell_type": "code",
   "execution_count": 169,
   "metadata": {},
   "outputs": [
    {
     "data": {
      "text/plain": [
       "ausente     99\n",
       "presente     1\n",
       "Name: Calcificação, dtype: int64"
      ]
     },
     "execution_count": 169,
     "metadata": {},
     "output_type": "execute_result"
    }
   ],
   "source": [
    "base_01['Calcificação'].value_counts()"
   ]
  },
  {
   "cell_type": "code",
   "execution_count": 170,
   "metadata": {},
   "outputs": [
    {
     "data": {
      "text/plain": [
       "99"
      ]
     },
     "execution_count": 170,
     "metadata": {},
     "output_type": "execute_result"
    }
   ],
   "source": [
    "len(df_10[df_10['Calcificacao_ausente'] == 1])"
   ]
  },
  {
   "cell_type": "code",
   "execution_count": 171,
   "metadata": {},
   "outputs": [
    {
     "data": {
      "text/plain": [
       "1"
      ]
     },
     "execution_count": 171,
     "metadata": {},
     "output_type": "execute_result"
    }
   ],
   "source": [
    "len(df_10[df_10['Calcificacao_presente'] == 1])"
   ]
  },
  {
   "cell_type": "markdown",
   "metadata": {},
   "source": [
    "Tubulite"
   ]
  },
  {
   "cell_type": "code",
   "execution_count": 172,
   "metadata": {},
   "outputs": [
    {
     "data": {
      "text/html": [
       "<div>\n",
       "<style scoped>\n",
       "    .dataframe tbody tr th:only-of-type {\n",
       "        vertical-align: middle;\n",
       "    }\n",
       "\n",
       "    .dataframe tbody tr th {\n",
       "        vertical-align: top;\n",
       "    }\n",
       "\n",
       "    .dataframe thead th {\n",
       "        text-align: right;\n",
       "    }\n",
       "</style>\n",
       "<table border=\"1\" class=\"dataframe\">\n",
       "  <thead>\n",
       "    <tr style=\"text-align: right;\">\n",
       "      <th></th>\n",
       "      <th>Tubulite_ausente</th>\n",
       "      <th>Tubulite_presente</th>\n",
       "    </tr>\n",
       "  </thead>\n",
       "  <tbody>\n",
       "    <tr>\n",
       "      <th>0</th>\n",
       "      <td>NaN</td>\n",
       "      <td>NaN</td>\n",
       "    </tr>\n",
       "    <tr>\n",
       "      <th>1</th>\n",
       "      <td>NaN</td>\n",
       "      <td>NaN</td>\n",
       "    </tr>\n",
       "    <tr>\n",
       "      <th>2</th>\n",
       "      <td>NaN</td>\n",
       "      <td>NaN</td>\n",
       "    </tr>\n",
       "    <tr>\n",
       "      <th>3</th>\n",
       "      <td>NaN</td>\n",
       "      <td>NaN</td>\n",
       "    </tr>\n",
       "    <tr>\n",
       "      <th>4</th>\n",
       "      <td>NaN</td>\n",
       "      <td>NaN</td>\n",
       "    </tr>\n",
       "  </tbody>\n",
       "</table>\n",
       "</div>"
      ],
      "text/plain": [
       "  Tubulite_ausente Tubulite_presente\n",
       "0              NaN               NaN\n",
       "1              NaN               NaN\n",
       "2              NaN               NaN\n",
       "3              NaN               NaN\n",
       "4              NaN               NaN"
      ]
     },
     "execution_count": 172,
     "metadata": {},
     "output_type": "execute_result"
    }
   ],
   "source": [
    "df_11 = pd.DataFrame(index = indices, columns = Tubulite)\n",
    "df_11.head()"
   ]
  },
  {
   "cell_type": "code",
   "execution_count": 173,
   "metadata": {},
   "outputs": [
    {
     "data": {
      "text/plain": [
       "array(['ausente', 'presente'], dtype=object)"
      ]
     },
     "execution_count": 173,
     "metadata": {},
     "output_type": "execute_result"
    }
   ],
   "source": [
    "np.unique(base_01['Tubulite'])"
   ]
  },
  {
   "cell_type": "code",
   "execution_count": 174,
   "metadata": {},
   "outputs": [
    {
     "data": {
      "text/plain": [
       "Index(['Tubulite_ausente', 'Tubulite_presente'], dtype='object')"
      ]
     },
     "execution_count": 174,
     "metadata": {},
     "output_type": "execute_result"
    }
   ],
   "source": [
    "df_11.columns"
   ]
  },
  {
   "cell_type": "code",
   "execution_count": 175,
   "metadata": {},
   "outputs": [],
   "source": [
    "def preencher11(coluna, i):\n",
    "    if coluna[i] == 'ausente':\n",
    "        df_11['Tubulite_ausente'][i]  = 1\n",
    "        df_11['Tubulite_presente'][i] = 0\n",
    "    else:\n",
    "        df_11['Tubulite_ausente'][i]  = 0\n",
    "        df_11['Tubulite_presente'][i] = 1"
   ]
  },
  {
   "cell_type": "code",
   "execution_count": 176,
   "metadata": {},
   "outputs": [
    {
     "data": {
      "text/html": [
       "<div>\n",
       "<style scoped>\n",
       "    .dataframe tbody tr th:only-of-type {\n",
       "        vertical-align: middle;\n",
       "    }\n",
       "\n",
       "    .dataframe tbody tr th {\n",
       "        vertical-align: top;\n",
       "    }\n",
       "\n",
       "    .dataframe thead th {\n",
       "        text-align: right;\n",
       "    }\n",
       "</style>\n",
       "<table border=\"1\" class=\"dataframe\">\n",
       "  <thead>\n",
       "    <tr style=\"text-align: right;\">\n",
       "      <th></th>\n",
       "      <th>Tubulite_ausente</th>\n",
       "      <th>Tubulite_presente</th>\n",
       "    </tr>\n",
       "  </thead>\n",
       "  <tbody>\n",
       "    <tr>\n",
       "      <th>0</th>\n",
       "      <td>1</td>\n",
       "      <td>0</td>\n",
       "    </tr>\n",
       "    <tr>\n",
       "      <th>1</th>\n",
       "      <td>1</td>\n",
       "      <td>0</td>\n",
       "    </tr>\n",
       "    <tr>\n",
       "      <th>2</th>\n",
       "      <td>1</td>\n",
       "      <td>0</td>\n",
       "    </tr>\n",
       "    <tr>\n",
       "      <th>3</th>\n",
       "      <td>1</td>\n",
       "      <td>0</td>\n",
       "    </tr>\n",
       "    <tr>\n",
       "      <th>4</th>\n",
       "      <td>1</td>\n",
       "      <td>0</td>\n",
       "    </tr>\n",
       "  </tbody>\n",
       "</table>\n",
       "</div>"
      ],
      "text/plain": [
       "  Tubulite_ausente Tubulite_presente\n",
       "0                1                 0\n",
       "1                1                 0\n",
       "2                1                 0\n",
       "3                1                 0\n",
       "4                1                 0"
      ]
     },
     "execution_count": 176,
     "metadata": {},
     "output_type": "execute_result"
    }
   ],
   "source": [
    "contador = 0\n",
    "while contador < 100:\n",
    "    preencher11(base_01['Tubulite'], contador)\n",
    "    contador += 1\n",
    "\n",
    "df_11.head()"
   ]
  },
  {
   "cell_type": "code",
   "execution_count": 177,
   "metadata": {},
   "outputs": [
    {
     "data": {
      "text/plain": [
       "ausente     98\n",
       "presente     2\n",
       "Name: Tubulite, dtype: int64"
      ]
     },
     "execution_count": 177,
     "metadata": {},
     "output_type": "execute_result"
    }
   ],
   "source": [
    "base_01['Tubulite'].value_counts()"
   ]
  },
  {
   "cell_type": "code",
   "execution_count": 178,
   "metadata": {},
   "outputs": [
    {
     "data": {
      "text/plain": [
       "98"
      ]
     },
     "execution_count": 178,
     "metadata": {},
     "output_type": "execute_result"
    }
   ],
   "source": [
    "len(df_11[df_11['Tubulite_ausente'] == 1])"
   ]
  },
  {
   "cell_type": "code",
   "execution_count": 179,
   "metadata": {},
   "outputs": [
    {
     "data": {
      "text/plain": [
       "2"
      ]
     },
     "execution_count": 179,
     "metadata": {},
     "output_type": "execute_result"
    }
   ],
   "source": [
    "len(df_11[df_11['Tubulite_presente'] == 1])"
   ]
  },
  {
   "cell_type": "markdown",
   "metadata": {},
   "source": [
    "Cilindros"
   ]
  },
  {
   "cell_type": "code",
   "execution_count": 180,
   "metadata": {
    "scrolled": true
   },
   "outputs": [
    {
     "data": {
      "text/html": [
       "<div>\n",
       "<style scoped>\n",
       "    .dataframe tbody tr th:only-of-type {\n",
       "        vertical-align: middle;\n",
       "    }\n",
       "\n",
       "    .dataframe tbody tr th {\n",
       "        vertical-align: top;\n",
       "    }\n",
       "\n",
       "    .dataframe thead th {\n",
       "        text-align: right;\n",
       "    }\n",
       "</style>\n",
       "<table border=\"1\" class=\"dataframe\">\n",
       "  <thead>\n",
       "    <tr style=\"text-align: right;\">\n",
       "      <th></th>\n",
       "      <th>Cilindros_ausente</th>\n",
       "      <th>Cilindros_hialinos</th>\n",
       "    </tr>\n",
       "  </thead>\n",
       "  <tbody>\n",
       "    <tr>\n",
       "      <th>0</th>\n",
       "      <td>NaN</td>\n",
       "      <td>NaN</td>\n",
       "    </tr>\n",
       "    <tr>\n",
       "      <th>1</th>\n",
       "      <td>NaN</td>\n",
       "      <td>NaN</td>\n",
       "    </tr>\n",
       "    <tr>\n",
       "      <th>2</th>\n",
       "      <td>NaN</td>\n",
       "      <td>NaN</td>\n",
       "    </tr>\n",
       "    <tr>\n",
       "      <th>3</th>\n",
       "      <td>NaN</td>\n",
       "      <td>NaN</td>\n",
       "    </tr>\n",
       "    <tr>\n",
       "      <th>4</th>\n",
       "      <td>NaN</td>\n",
       "      <td>NaN</td>\n",
       "    </tr>\n",
       "  </tbody>\n",
       "</table>\n",
       "</div>"
      ],
      "text/plain": [
       "  Cilindros_ausente Cilindros_hialinos\n",
       "0               NaN                NaN\n",
       "1               NaN                NaN\n",
       "2               NaN                NaN\n",
       "3               NaN                NaN\n",
       "4               NaN                NaN"
      ]
     },
     "execution_count": 180,
     "metadata": {},
     "output_type": "execute_result"
    }
   ],
   "source": [
    "df_12 = pd.DataFrame(index = indices, columns = Cilindros)\n",
    "df_12.head()"
   ]
  },
  {
   "cell_type": "code",
   "execution_count": 181,
   "metadata": {},
   "outputs": [
    {
     "data": {
      "text/plain": [
       "array(['ausente', 'hialinos'], dtype=object)"
      ]
     },
     "execution_count": 181,
     "metadata": {},
     "output_type": "execute_result"
    }
   ],
   "source": [
    "np.unique(base_01['Cilindros'])"
   ]
  },
  {
   "cell_type": "code",
   "execution_count": 182,
   "metadata": {},
   "outputs": [
    {
     "data": {
      "text/plain": [
       "Index(['Cilindros_ausente', 'Cilindros_hialinos'], dtype='object')"
      ]
     },
     "execution_count": 182,
     "metadata": {},
     "output_type": "execute_result"
    }
   ],
   "source": [
    "df_12.columns"
   ]
  },
  {
   "cell_type": "code",
   "execution_count": 183,
   "metadata": {},
   "outputs": [],
   "source": [
    "def preencher12(coluna, i):\n",
    "    if coluna[i] == 'ausente':\n",
    "        df_12['Cilindros_ausente'][i]  = 1\n",
    "        df_12['Cilindros_hialinos'][i] = 0\n",
    "    else:\n",
    "        df_12['Cilindros_ausente'][i]  = 0\n",
    "        df_12['Cilindros_hialinos'][i] = 1"
   ]
  },
  {
   "cell_type": "code",
   "execution_count": 184,
   "metadata": {},
   "outputs": [
    {
     "data": {
      "text/html": [
       "<div>\n",
       "<style scoped>\n",
       "    .dataframe tbody tr th:only-of-type {\n",
       "        vertical-align: middle;\n",
       "    }\n",
       "\n",
       "    .dataframe tbody tr th {\n",
       "        vertical-align: top;\n",
       "    }\n",
       "\n",
       "    .dataframe thead th {\n",
       "        text-align: right;\n",
       "    }\n",
       "</style>\n",
       "<table border=\"1\" class=\"dataframe\">\n",
       "  <thead>\n",
       "    <tr style=\"text-align: right;\">\n",
       "      <th></th>\n",
       "      <th>Cilindros_ausente</th>\n",
       "      <th>Cilindros_hialinos</th>\n",
       "    </tr>\n",
       "  </thead>\n",
       "  <tbody>\n",
       "    <tr>\n",
       "      <th>0</th>\n",
       "      <td>1</td>\n",
       "      <td>0</td>\n",
       "    </tr>\n",
       "    <tr>\n",
       "      <th>1</th>\n",
       "      <td>1</td>\n",
       "      <td>0</td>\n",
       "    </tr>\n",
       "    <tr>\n",
       "      <th>2</th>\n",
       "      <td>1</td>\n",
       "      <td>0</td>\n",
       "    </tr>\n",
       "    <tr>\n",
       "      <th>3</th>\n",
       "      <td>0</td>\n",
       "      <td>1</td>\n",
       "    </tr>\n",
       "    <tr>\n",
       "      <th>4</th>\n",
       "      <td>1</td>\n",
       "      <td>0</td>\n",
       "    </tr>\n",
       "  </tbody>\n",
       "</table>\n",
       "</div>"
      ],
      "text/plain": [
       "  Cilindros_ausente Cilindros_hialinos\n",
       "0                 1                  0\n",
       "1                 1                  0\n",
       "2                 1                  0\n",
       "3                 0                  1\n",
       "4                 1                  0"
      ]
     },
     "execution_count": 184,
     "metadata": {},
     "output_type": "execute_result"
    }
   ],
   "source": [
    "contador = 0\n",
    "while contador < 100:\n",
    "    preencher12(base_01['Cilindros'], contador)\n",
    "    contador += 1\n",
    "\n",
    "df_12.head()"
   ]
  },
  {
   "cell_type": "code",
   "execution_count": 185,
   "metadata": {},
   "outputs": [
    {
     "data": {
      "text/plain": [
       "ausente     79\n",
       "hialinos    21\n",
       "Name: Cilindros, dtype: int64"
      ]
     },
     "execution_count": 185,
     "metadata": {},
     "output_type": "execute_result"
    }
   ],
   "source": [
    "base_01['Cilindros'].value_counts()"
   ]
  },
  {
   "cell_type": "code",
   "execution_count": 186,
   "metadata": {},
   "outputs": [
    {
     "data": {
      "text/plain": [
       "79"
      ]
     },
     "execution_count": 186,
     "metadata": {},
     "output_type": "execute_result"
    }
   ],
   "source": [
    "len(df_12[df_12['Cilindros_ausente'] == 1])"
   ]
  },
  {
   "cell_type": "code",
   "execution_count": 187,
   "metadata": {},
   "outputs": [
    {
     "data": {
      "text/plain": [
       "21"
      ]
     },
     "execution_count": 187,
     "metadata": {},
     "output_type": "execute_result"
    }
   ],
   "source": [
    "len(df_12[df_12['Cilindros_hialinos'] == 1])"
   ]
  },
  {
   "cell_type": "markdown",
   "metadata": {},
   "source": [
    "Atrofia Tubular"
   ]
  },
  {
   "cell_type": "code",
   "execution_count": 188,
   "metadata": {},
   "outputs": [
    {
     "data": {
      "text/html": [
       "<div>\n",
       "<style scoped>\n",
       "    .dataframe tbody tr th:only-of-type {\n",
       "        vertical-align: middle;\n",
       "    }\n",
       "\n",
       "    .dataframe tbody tr th {\n",
       "        vertical-align: top;\n",
       "    }\n",
       "\n",
       "    .dataframe thead th {\n",
       "        text-align: right;\n",
       "    }\n",
       "</style>\n",
       "<table border=\"1\" class=\"dataframe\">\n",
       "  <thead>\n",
       "    <tr style=\"text-align: right;\">\n",
       "      <th></th>\n",
       "      <th>Atrofia_tubular_ausente</th>\n",
       "      <th>Atrofia_tubular_presente</th>\n",
       "    </tr>\n",
       "  </thead>\n",
       "  <tbody>\n",
       "    <tr>\n",
       "      <th>0</th>\n",
       "      <td>NaN</td>\n",
       "      <td>NaN</td>\n",
       "    </tr>\n",
       "    <tr>\n",
       "      <th>1</th>\n",
       "      <td>NaN</td>\n",
       "      <td>NaN</td>\n",
       "    </tr>\n",
       "    <tr>\n",
       "      <th>2</th>\n",
       "      <td>NaN</td>\n",
       "      <td>NaN</td>\n",
       "    </tr>\n",
       "    <tr>\n",
       "      <th>3</th>\n",
       "      <td>NaN</td>\n",
       "      <td>NaN</td>\n",
       "    </tr>\n",
       "    <tr>\n",
       "      <th>4</th>\n",
       "      <td>NaN</td>\n",
       "      <td>NaN</td>\n",
       "    </tr>\n",
       "  </tbody>\n",
       "</table>\n",
       "</div>"
      ],
      "text/plain": [
       "  Atrofia_tubular_ausente Atrofia_tubular_presente\n",
       "0                     NaN                      NaN\n",
       "1                     NaN                      NaN\n",
       "2                     NaN                      NaN\n",
       "3                     NaN                      NaN\n",
       "4                     NaN                      NaN"
      ]
     },
     "execution_count": 188,
     "metadata": {},
     "output_type": "execute_result"
    }
   ],
   "source": [
    "df_13 = pd.DataFrame(index = indices, columns = Atrofia_tubular)\n",
    "df_13.head()"
   ]
  },
  {
   "cell_type": "code",
   "execution_count": 189,
   "metadata": {},
   "outputs": [
    {
     "data": {
      "text/plain": [
       "array(['ausente', 'presente'], dtype=object)"
      ]
     },
     "execution_count": 189,
     "metadata": {},
     "output_type": "execute_result"
    }
   ],
   "source": [
    "np.unique(base_01['Atrofia tubular'])"
   ]
  },
  {
   "cell_type": "code",
   "execution_count": 190,
   "metadata": {},
   "outputs": [
    {
     "data": {
      "text/plain": [
       "Index(['Atrofia_tubular_ausente', 'Atrofia_tubular_presente'], dtype='object')"
      ]
     },
     "execution_count": 190,
     "metadata": {},
     "output_type": "execute_result"
    }
   ],
   "source": [
    "df_13.columns"
   ]
  },
  {
   "cell_type": "code",
   "execution_count": 191,
   "metadata": {},
   "outputs": [],
   "source": [
    "def preencher13(coluna, i):\n",
    "    if coluna[i] == 'ausente':\n",
    "        df_13['Atrofia_tubular_ausente'][i]  = 1\n",
    "        df_13['Atrofia_tubular_presente'][i] = 0\n",
    "    else:\n",
    "        df_13['Atrofia_tubular_ausente'][i]  = 0\n",
    "        df_13['Atrofia_tubular_presente'][i] = 1"
   ]
  },
  {
   "cell_type": "code",
   "execution_count": 192,
   "metadata": {},
   "outputs": [
    {
     "data": {
      "text/html": [
       "<div>\n",
       "<style scoped>\n",
       "    .dataframe tbody tr th:only-of-type {\n",
       "        vertical-align: middle;\n",
       "    }\n",
       "\n",
       "    .dataframe tbody tr th {\n",
       "        vertical-align: top;\n",
       "    }\n",
       "\n",
       "    .dataframe thead th {\n",
       "        text-align: right;\n",
       "    }\n",
       "</style>\n",
       "<table border=\"1\" class=\"dataframe\">\n",
       "  <thead>\n",
       "    <tr style=\"text-align: right;\">\n",
       "      <th></th>\n",
       "      <th>Atrofia_tubular_ausente</th>\n",
       "      <th>Atrofia_tubular_presente</th>\n",
       "    </tr>\n",
       "  </thead>\n",
       "  <tbody>\n",
       "    <tr>\n",
       "      <th>0</th>\n",
       "      <td>1</td>\n",
       "      <td>0</td>\n",
       "    </tr>\n",
       "    <tr>\n",
       "      <th>1</th>\n",
       "      <td>1</td>\n",
       "      <td>0</td>\n",
       "    </tr>\n",
       "    <tr>\n",
       "      <th>2</th>\n",
       "      <td>0</td>\n",
       "      <td>1</td>\n",
       "    </tr>\n",
       "    <tr>\n",
       "      <th>3</th>\n",
       "      <td>1</td>\n",
       "      <td>0</td>\n",
       "    </tr>\n",
       "    <tr>\n",
       "      <th>4</th>\n",
       "      <td>0</td>\n",
       "      <td>1</td>\n",
       "    </tr>\n",
       "  </tbody>\n",
       "</table>\n",
       "</div>"
      ],
      "text/plain": [
       "  Atrofia_tubular_ausente Atrofia_tubular_presente\n",
       "0                       1                        0\n",
       "1                       1                        0\n",
       "2                       0                        1\n",
       "3                       1                        0\n",
       "4                       0                        1"
      ]
     },
     "execution_count": 192,
     "metadata": {},
     "output_type": "execute_result"
    }
   ],
   "source": [
    "contador = 0\n",
    "while contador < 100:\n",
    "    preencher13(base_01['Atrofia tubular'], contador)\n",
    "    contador += 1\n",
    "\n",
    "df_13.head()"
   ]
  },
  {
   "cell_type": "code",
   "execution_count": 193,
   "metadata": {},
   "outputs": [
    {
     "data": {
      "text/plain": [
       "presente    65\n",
       "ausente     35\n",
       "Name: Atrofia tubular, dtype: int64"
      ]
     },
     "execution_count": 193,
     "metadata": {},
     "output_type": "execute_result"
    }
   ],
   "source": [
    "base_01['Atrofia tubular'].value_counts()"
   ]
  },
  {
   "cell_type": "code",
   "execution_count": 194,
   "metadata": {},
   "outputs": [
    {
     "data": {
      "text/plain": [
       "65"
      ]
     },
     "execution_count": 194,
     "metadata": {},
     "output_type": "execute_result"
    }
   ],
   "source": [
    "len(df_13[df_13['Atrofia_tubular_presente'] == 1])"
   ]
  },
  {
   "cell_type": "code",
   "execution_count": 195,
   "metadata": {},
   "outputs": [
    {
     "data": {
      "text/plain": [
       "35"
      ]
     },
     "execution_count": 195,
     "metadata": {},
     "output_type": "execute_result"
    }
   ],
   "source": [
    "len(df_13[df_13['Atrofia_tubular_ausente'] == 1])"
   ]
  },
  {
   "cell_type": "markdown",
   "metadata": {},
   "source": [
    "Graduação de Atrofia"
   ]
  },
  {
   "cell_type": "code",
   "execution_count": 196,
   "metadata": {},
   "outputs": [
    {
     "data": {
      "text/html": [
       "<div>\n",
       "<style scoped>\n",
       "    .dataframe tbody tr th:only-of-type {\n",
       "        vertical-align: middle;\n",
       "    }\n",
       "\n",
       "    .dataframe tbody tr th {\n",
       "        vertical-align: top;\n",
       "    }\n",
       "\n",
       "    .dataframe thead th {\n",
       "        text-align: right;\n",
       "    }\n",
       "</style>\n",
       "<table border=\"1\" class=\"dataframe\">\n",
       "  <thead>\n",
       "    <tr style=\"text-align: right;\">\n",
       "      <th></th>\n",
       "      <th>Graduacao_de_atrofia_acentuada</th>\n",
       "      <th>Graduacao_de_atrofia_ausente</th>\n",
       "      <th>Graduacao_de_atrofia_discreta</th>\n",
       "      <th>Graduacao_de_atrofia_moderada</th>\n",
       "    </tr>\n",
       "  </thead>\n",
       "  <tbody>\n",
       "    <tr>\n",
       "      <th>0</th>\n",
       "      <td>NaN</td>\n",
       "      <td>NaN</td>\n",
       "      <td>NaN</td>\n",
       "      <td>NaN</td>\n",
       "    </tr>\n",
       "    <tr>\n",
       "      <th>1</th>\n",
       "      <td>NaN</td>\n",
       "      <td>NaN</td>\n",
       "      <td>NaN</td>\n",
       "      <td>NaN</td>\n",
       "    </tr>\n",
       "    <tr>\n",
       "      <th>2</th>\n",
       "      <td>NaN</td>\n",
       "      <td>NaN</td>\n",
       "      <td>NaN</td>\n",
       "      <td>NaN</td>\n",
       "    </tr>\n",
       "    <tr>\n",
       "      <th>3</th>\n",
       "      <td>NaN</td>\n",
       "      <td>NaN</td>\n",
       "      <td>NaN</td>\n",
       "      <td>NaN</td>\n",
       "    </tr>\n",
       "    <tr>\n",
       "      <th>4</th>\n",
       "      <td>NaN</td>\n",
       "      <td>NaN</td>\n",
       "      <td>NaN</td>\n",
       "      <td>NaN</td>\n",
       "    </tr>\n",
       "  </tbody>\n",
       "</table>\n",
       "</div>"
      ],
      "text/plain": [
       "  Graduacao_de_atrofia_acentuada Graduacao_de_atrofia_ausente  \\\n",
       "0                            NaN                          NaN   \n",
       "1                            NaN                          NaN   \n",
       "2                            NaN                          NaN   \n",
       "3                            NaN                          NaN   \n",
       "4                            NaN                          NaN   \n",
       "\n",
       "  Graduacao_de_atrofia_discreta Graduacao_de_atrofia_moderada  \n",
       "0                           NaN                           NaN  \n",
       "1                           NaN                           NaN  \n",
       "2                           NaN                           NaN  \n",
       "3                           NaN                           NaN  \n",
       "4                           NaN                           NaN  "
      ]
     },
     "execution_count": 196,
     "metadata": {},
     "output_type": "execute_result"
    }
   ],
   "source": [
    "df_14 = pd.DataFrame(index = indices, columns = Graduacao_de_atrofia)\n",
    "df_14.head()"
   ]
  },
  {
   "cell_type": "code",
   "execution_count": 197,
   "metadata": {},
   "outputs": [
    {
     "data": {
      "text/plain": [
       "array(['acentuada', 'ausente', 'discreta', 'moderada'], dtype=object)"
      ]
     },
     "execution_count": 197,
     "metadata": {},
     "output_type": "execute_result"
    }
   ],
   "source": [
    "np.unique(base_01['Graduação de atrofia'])"
   ]
  },
  {
   "cell_type": "code",
   "execution_count": 198,
   "metadata": {},
   "outputs": [
    {
     "data": {
      "text/plain": [
       "Index(['Graduacao_de_atrofia_acentuada', 'Graduacao_de_atrofia_ausente',\n",
       "       'Graduacao_de_atrofia_discreta', 'Graduacao_de_atrofia_moderada'],\n",
       "      dtype='object')"
      ]
     },
     "execution_count": 198,
     "metadata": {},
     "output_type": "execute_result"
    }
   ],
   "source": [
    "df_14.columns"
   ]
  },
  {
   "cell_type": "code",
   "execution_count": 199,
   "metadata": {},
   "outputs": [],
   "source": [
    "def preencher14(coluna, i):\n",
    "    if coluna[i] == 'acentuada':\n",
    "        df_14['Graduacao_de_atrofia_acentuada'][i] = 1\n",
    "        df_14['Graduacao_de_atrofia_ausente'][i]   = 0\n",
    "        df_14['Graduacao_de_atrofia_discreta'][i]  = 0\n",
    "        df_14['Graduacao_de_atrofia_moderada'][i]  = 0\n",
    "    elif coluna[i] == 'ausente':\n",
    "        df_14['Graduacao_de_atrofia_acentuada'][i] = 0\n",
    "        df_14['Graduacao_de_atrofia_ausente'][i]   = 1\n",
    "        df_14['Graduacao_de_atrofia_discreta'][i]  = 0\n",
    "        df_14['Graduacao_de_atrofia_moderada'][i]  = 0\n",
    "    elif coluna[i] == 'discreta':\n",
    "        df_14['Graduacao_de_atrofia_acentuada'][i] = 0\n",
    "        df_14['Graduacao_de_atrofia_ausente'][i]   = 0\n",
    "        df_14['Graduacao_de_atrofia_discreta'][i]  = 1\n",
    "        df_14['Graduacao_de_atrofia_moderada'][i]  = 0\n",
    "    else:\n",
    "        df_14['Graduacao_de_atrofia_acentuada'][i] = 0\n",
    "        df_14['Graduacao_de_atrofia_ausente'][i]   = 0\n",
    "        df_14['Graduacao_de_atrofia_discreta'][i]  = 0\n",
    "        df_14['Graduacao_de_atrofia_moderada'][i]  = 1"
   ]
  },
  {
   "cell_type": "code",
   "execution_count": 200,
   "metadata": {},
   "outputs": [
    {
     "data": {
      "text/html": [
       "<div>\n",
       "<style scoped>\n",
       "    .dataframe tbody tr th:only-of-type {\n",
       "        vertical-align: middle;\n",
       "    }\n",
       "\n",
       "    .dataframe tbody tr th {\n",
       "        vertical-align: top;\n",
       "    }\n",
       "\n",
       "    .dataframe thead th {\n",
       "        text-align: right;\n",
       "    }\n",
       "</style>\n",
       "<table border=\"1\" class=\"dataframe\">\n",
       "  <thead>\n",
       "    <tr style=\"text-align: right;\">\n",
       "      <th></th>\n",
       "      <th>Graduacao_de_atrofia_acentuada</th>\n",
       "      <th>Graduacao_de_atrofia_ausente</th>\n",
       "      <th>Graduacao_de_atrofia_discreta</th>\n",
       "      <th>Graduacao_de_atrofia_moderada</th>\n",
       "    </tr>\n",
       "  </thead>\n",
       "  <tbody>\n",
       "    <tr>\n",
       "      <th>0</th>\n",
       "      <td>0</td>\n",
       "      <td>1</td>\n",
       "      <td>0</td>\n",
       "      <td>0</td>\n",
       "    </tr>\n",
       "    <tr>\n",
       "      <th>1</th>\n",
       "      <td>0</td>\n",
       "      <td>1</td>\n",
       "      <td>0</td>\n",
       "      <td>0</td>\n",
       "    </tr>\n",
       "    <tr>\n",
       "      <th>2</th>\n",
       "      <td>0</td>\n",
       "      <td>0</td>\n",
       "      <td>1</td>\n",
       "      <td>0</td>\n",
       "    </tr>\n",
       "    <tr>\n",
       "      <th>3</th>\n",
       "      <td>0</td>\n",
       "      <td>1</td>\n",
       "      <td>0</td>\n",
       "      <td>0</td>\n",
       "    </tr>\n",
       "    <tr>\n",
       "      <th>4</th>\n",
       "      <td>0</td>\n",
       "      <td>0</td>\n",
       "      <td>1</td>\n",
       "      <td>0</td>\n",
       "    </tr>\n",
       "  </tbody>\n",
       "</table>\n",
       "</div>"
      ],
      "text/plain": [
       "  Graduacao_de_atrofia_acentuada Graduacao_de_atrofia_ausente  \\\n",
       "0                              0                            1   \n",
       "1                              0                            1   \n",
       "2                              0                            0   \n",
       "3                              0                            1   \n",
       "4                              0                            0   \n",
       "\n",
       "  Graduacao_de_atrofia_discreta Graduacao_de_atrofia_moderada  \n",
       "0                             0                             0  \n",
       "1                             0                             0  \n",
       "2                             1                             0  \n",
       "3                             0                             0  \n",
       "4                             1                             0  "
      ]
     },
     "execution_count": 200,
     "metadata": {},
     "output_type": "execute_result"
    }
   ],
   "source": [
    "contador = 0\n",
    "while contador < 100:\n",
    "    preencher14(base_01['Graduação de atrofia'], contador)\n",
    "    contador += 1\n",
    "\n",
    "df_14.head()"
   ]
  },
  {
   "cell_type": "code",
   "execution_count": 201,
   "metadata": {},
   "outputs": [
    {
     "data": {
      "text/plain": [
       "discreta     35\n",
       "ausente      35\n",
       "moderada     22\n",
       "acentuada     8\n",
       "Name: Graduação de atrofia, dtype: int64"
      ]
     },
     "execution_count": 201,
     "metadata": {},
     "output_type": "execute_result"
    }
   ],
   "source": [
    "base_01['Graduação de atrofia'].value_counts()"
   ]
  },
  {
   "cell_type": "code",
   "execution_count": 202,
   "metadata": {},
   "outputs": [
    {
     "data": {
      "text/plain": [
       "35"
      ]
     },
     "execution_count": 202,
     "metadata": {},
     "output_type": "execute_result"
    }
   ],
   "source": [
    "len(df_14[df_14['Graduacao_de_atrofia_discreta'] == 1])"
   ]
  },
  {
   "cell_type": "code",
   "execution_count": 203,
   "metadata": {},
   "outputs": [
    {
     "data": {
      "text/plain": [
       "35"
      ]
     },
     "execution_count": 203,
     "metadata": {},
     "output_type": "execute_result"
    }
   ],
   "source": [
    "len(df_14[df_14['Graduacao_de_atrofia_ausente'] == 1])"
   ]
  },
  {
   "cell_type": "code",
   "execution_count": 204,
   "metadata": {},
   "outputs": [
    {
     "data": {
      "text/plain": [
       "22"
      ]
     },
     "execution_count": 204,
     "metadata": {},
     "output_type": "execute_result"
    }
   ],
   "source": [
    "len(df_14[df_14['Graduacao_de_atrofia_moderada'] == 1])"
   ]
  },
  {
   "cell_type": "code",
   "execution_count": 205,
   "metadata": {},
   "outputs": [
    {
     "data": {
      "text/plain": [
       "8"
      ]
     },
     "execution_count": 205,
     "metadata": {},
     "output_type": "execute_result"
    }
   ],
   "source": [
    "len(df_14[df_14['Graduacao_de_atrofia_acentuada'] == 1])"
   ]
  },
  {
   "cell_type": "markdown",
   "metadata": {},
   "source": [
    "Fibrose Intersitical"
   ]
  },
  {
   "cell_type": "code",
   "execution_count": 206,
   "metadata": {},
   "outputs": [
    {
     "data": {
      "text/html": [
       "<div>\n",
       "<style scoped>\n",
       "    .dataframe tbody tr th:only-of-type {\n",
       "        vertical-align: middle;\n",
       "    }\n",
       "\n",
       "    .dataframe tbody tr th {\n",
       "        vertical-align: top;\n",
       "    }\n",
       "\n",
       "    .dataframe thead th {\n",
       "        text-align: right;\n",
       "    }\n",
       "</style>\n",
       "<table border=\"1\" class=\"dataframe\">\n",
       "  <thead>\n",
       "    <tr style=\"text-align: right;\">\n",
       "      <th></th>\n",
       "      <th>Fibrose_intersitical_ausente</th>\n",
       "      <th>Fibrose_intersitical_presente</th>\n",
       "    </tr>\n",
       "  </thead>\n",
       "  <tbody>\n",
       "    <tr>\n",
       "      <th>0</th>\n",
       "      <td>NaN</td>\n",
       "      <td>NaN</td>\n",
       "    </tr>\n",
       "    <tr>\n",
       "      <th>1</th>\n",
       "      <td>NaN</td>\n",
       "      <td>NaN</td>\n",
       "    </tr>\n",
       "    <tr>\n",
       "      <th>2</th>\n",
       "      <td>NaN</td>\n",
       "      <td>NaN</td>\n",
       "    </tr>\n",
       "    <tr>\n",
       "      <th>3</th>\n",
       "      <td>NaN</td>\n",
       "      <td>NaN</td>\n",
       "    </tr>\n",
       "    <tr>\n",
       "      <th>4</th>\n",
       "      <td>NaN</td>\n",
       "      <td>NaN</td>\n",
       "    </tr>\n",
       "  </tbody>\n",
       "</table>\n",
       "</div>"
      ],
      "text/plain": [
       "  Fibrose_intersitical_ausente Fibrose_intersitical_presente\n",
       "0                          NaN                           NaN\n",
       "1                          NaN                           NaN\n",
       "2                          NaN                           NaN\n",
       "3                          NaN                           NaN\n",
       "4                          NaN                           NaN"
      ]
     },
     "execution_count": 206,
     "metadata": {},
     "output_type": "execute_result"
    }
   ],
   "source": [
    "df_15 = pd.DataFrame(index = indices, columns = Fibrose_intersitical)\n",
    "df_15.head()"
   ]
  },
  {
   "cell_type": "code",
   "execution_count": 207,
   "metadata": {},
   "outputs": [
    {
     "data": {
      "text/plain": [
       "array(['ausente', 'presente'], dtype=object)"
      ]
     },
     "execution_count": 207,
     "metadata": {},
     "output_type": "execute_result"
    }
   ],
   "source": [
    "np.unique(base_01['Fibrose intersitical'])"
   ]
  },
  {
   "cell_type": "code",
   "execution_count": 208,
   "metadata": {},
   "outputs": [
    {
     "data": {
      "text/plain": [
       "Index(['Fibrose_intersitical_ausente', 'Fibrose_intersitical_presente'], dtype='object')"
      ]
     },
     "execution_count": 208,
     "metadata": {},
     "output_type": "execute_result"
    }
   ],
   "source": [
    "df_15.columns"
   ]
  },
  {
   "cell_type": "code",
   "execution_count": 209,
   "metadata": {},
   "outputs": [],
   "source": [
    "def preencher15(coluna, i):\n",
    "    if coluna[i] == 'ausente':\n",
    "        df_15['Fibrose_intersitical_ausente'][i]  = 1\n",
    "        df_15['Fibrose_intersitical_presente'][i] = 0\n",
    "    else:\n",
    "        df_15['Fibrose_intersitical_ausente'][i]  = 0\n",
    "        df_15['Fibrose_intersitical_presente'][i] = 1"
   ]
  },
  {
   "cell_type": "code",
   "execution_count": 210,
   "metadata": {},
   "outputs": [
    {
     "data": {
      "text/html": [
       "<div>\n",
       "<style scoped>\n",
       "    .dataframe tbody tr th:only-of-type {\n",
       "        vertical-align: middle;\n",
       "    }\n",
       "\n",
       "    .dataframe tbody tr th {\n",
       "        vertical-align: top;\n",
       "    }\n",
       "\n",
       "    .dataframe thead th {\n",
       "        text-align: right;\n",
       "    }\n",
       "</style>\n",
       "<table border=\"1\" class=\"dataframe\">\n",
       "  <thead>\n",
       "    <tr style=\"text-align: right;\">\n",
       "      <th></th>\n",
       "      <th>Fibrose_intersitical_ausente</th>\n",
       "      <th>Fibrose_intersitical_presente</th>\n",
       "    </tr>\n",
       "  </thead>\n",
       "  <tbody>\n",
       "    <tr>\n",
       "      <th>0</th>\n",
       "      <td>1</td>\n",
       "      <td>0</td>\n",
       "    </tr>\n",
       "    <tr>\n",
       "      <th>1</th>\n",
       "      <td>1</td>\n",
       "      <td>0</td>\n",
       "    </tr>\n",
       "    <tr>\n",
       "      <th>2</th>\n",
       "      <td>0</td>\n",
       "      <td>1</td>\n",
       "    </tr>\n",
       "    <tr>\n",
       "      <th>3</th>\n",
       "      <td>1</td>\n",
       "      <td>0</td>\n",
       "    </tr>\n",
       "    <tr>\n",
       "      <th>4</th>\n",
       "      <td>0</td>\n",
       "      <td>1</td>\n",
       "    </tr>\n",
       "  </tbody>\n",
       "</table>\n",
       "</div>"
      ],
      "text/plain": [
       "  Fibrose_intersitical_ausente Fibrose_intersitical_presente\n",
       "0                            1                             0\n",
       "1                            1                             0\n",
       "2                            0                             1\n",
       "3                            1                             0\n",
       "4                            0                             1"
      ]
     },
     "execution_count": 210,
     "metadata": {},
     "output_type": "execute_result"
    }
   ],
   "source": [
    "contador = 0\n",
    "while contador < 100:\n",
    "    preencher15(base_01['Fibrose intersitical'], contador)\n",
    "    contador += 1\n",
    "\n",
    "df_15.head()"
   ]
  },
  {
   "cell_type": "code",
   "execution_count": 211,
   "metadata": {},
   "outputs": [
    {
     "data": {
      "text/plain": [
       "presente    72\n",
       "ausente     28\n",
       "Name: Fibrose intersitical, dtype: int64"
      ]
     },
     "execution_count": 211,
     "metadata": {},
     "output_type": "execute_result"
    }
   ],
   "source": [
    "base_01['Fibrose intersitical'].value_counts()"
   ]
  },
  {
   "cell_type": "code",
   "execution_count": 212,
   "metadata": {},
   "outputs": [
    {
     "data": {
      "text/plain": [
       "72"
      ]
     },
     "execution_count": 212,
     "metadata": {},
     "output_type": "execute_result"
    }
   ],
   "source": [
    "len(df_15[df_15['Fibrose_intersitical_presente'] == 1])"
   ]
  },
  {
   "cell_type": "code",
   "execution_count": 213,
   "metadata": {},
   "outputs": [
    {
     "data": {
      "text/plain": [
       "28"
      ]
     },
     "execution_count": 213,
     "metadata": {},
     "output_type": "execute_result"
    }
   ],
   "source": [
    "len(df_15[df_15['Fibrose_intersitical_ausente'] == 1])"
   ]
  },
  {
   "cell_type": "markdown",
   "metadata": {},
   "source": [
    "Graduação da Fibrose"
   ]
  },
  {
   "cell_type": "code",
   "execution_count": 214,
   "metadata": {},
   "outputs": [
    {
     "data": {
      "text/html": [
       "<div>\n",
       "<style scoped>\n",
       "    .dataframe tbody tr th:only-of-type {\n",
       "        vertical-align: middle;\n",
       "    }\n",
       "\n",
       "    .dataframe tbody tr th {\n",
       "        vertical-align: top;\n",
       "    }\n",
       "\n",
       "    .dataframe thead th {\n",
       "        text-align: right;\n",
       "    }\n",
       "</style>\n",
       "<table border=\"1\" class=\"dataframe\">\n",
       "  <thead>\n",
       "    <tr style=\"text-align: right;\">\n",
       "      <th></th>\n",
       "      <th>Graduacao_da_fibrose_acentuada</th>\n",
       "      <th>Graduacao_da_fibrose_ausente</th>\n",
       "      <th>Graduacao_da_fibrose_discreta</th>\n",
       "      <th>Graduacao_da_fibrose_moderada</th>\n",
       "    </tr>\n",
       "  </thead>\n",
       "  <tbody>\n",
       "    <tr>\n",
       "      <th>0</th>\n",
       "      <td>NaN</td>\n",
       "      <td>NaN</td>\n",
       "      <td>NaN</td>\n",
       "      <td>NaN</td>\n",
       "    </tr>\n",
       "    <tr>\n",
       "      <th>1</th>\n",
       "      <td>NaN</td>\n",
       "      <td>NaN</td>\n",
       "      <td>NaN</td>\n",
       "      <td>NaN</td>\n",
       "    </tr>\n",
       "    <tr>\n",
       "      <th>2</th>\n",
       "      <td>NaN</td>\n",
       "      <td>NaN</td>\n",
       "      <td>NaN</td>\n",
       "      <td>NaN</td>\n",
       "    </tr>\n",
       "    <tr>\n",
       "      <th>3</th>\n",
       "      <td>NaN</td>\n",
       "      <td>NaN</td>\n",
       "      <td>NaN</td>\n",
       "      <td>NaN</td>\n",
       "    </tr>\n",
       "    <tr>\n",
       "      <th>4</th>\n",
       "      <td>NaN</td>\n",
       "      <td>NaN</td>\n",
       "      <td>NaN</td>\n",
       "      <td>NaN</td>\n",
       "    </tr>\n",
       "  </tbody>\n",
       "</table>\n",
       "</div>"
      ],
      "text/plain": [
       "  Graduacao_da_fibrose_acentuada Graduacao_da_fibrose_ausente  \\\n",
       "0                            NaN                          NaN   \n",
       "1                            NaN                          NaN   \n",
       "2                            NaN                          NaN   \n",
       "3                            NaN                          NaN   \n",
       "4                            NaN                          NaN   \n",
       "\n",
       "  Graduacao_da_fibrose_discreta Graduacao_da_fibrose_moderada  \n",
       "0                           NaN                           NaN  \n",
       "1                           NaN                           NaN  \n",
       "2                           NaN                           NaN  \n",
       "3                           NaN                           NaN  \n",
       "4                           NaN                           NaN  "
      ]
     },
     "execution_count": 214,
     "metadata": {},
     "output_type": "execute_result"
    }
   ],
   "source": [
    "df_16 = pd.DataFrame(index = indices, columns = Graduacao_da_fibrose)\n",
    "df_16.head()"
   ]
  },
  {
   "cell_type": "code",
   "execution_count": 215,
   "metadata": {},
   "outputs": [
    {
     "data": {
      "text/plain": [
       "array(['acentuada', 'ausente', 'discreta', 'moderada'], dtype=object)"
      ]
     },
     "execution_count": 215,
     "metadata": {},
     "output_type": "execute_result"
    }
   ],
   "source": [
    "np.unique(base_01['Graduação da fibrose'])"
   ]
  },
  {
   "cell_type": "code",
   "execution_count": 216,
   "metadata": {},
   "outputs": [
    {
     "data": {
      "text/plain": [
       "Index(['Graduacao_da_fibrose_acentuada', 'Graduacao_da_fibrose_ausente',\n",
       "       'Graduacao_da_fibrose_discreta', 'Graduacao_da_fibrose_moderada'],\n",
       "      dtype='object')"
      ]
     },
     "execution_count": 216,
     "metadata": {},
     "output_type": "execute_result"
    }
   ],
   "source": [
    "df_16.columns"
   ]
  },
  {
   "cell_type": "code",
   "execution_count": 217,
   "metadata": {},
   "outputs": [],
   "source": [
    "def preencher16(coluna, i):\n",
    "    if coluna[i] == 'acentuada':\n",
    "        df_16['Graduacao_da_fibrose_acentuada'][i] = 1\n",
    "        df_16['Graduacao_da_fibrose_ausente'][i]   = 0\n",
    "        df_16['Graduacao_da_fibrose_discreta'][i]  = 0\n",
    "        df_16['Graduacao_da_fibrose_moderada'][i]  = 0\n",
    "    elif coluna[i] == 'ausente':\n",
    "        df_16['Graduacao_da_fibrose_acentuada'][i] = 0\n",
    "        df_16['Graduacao_da_fibrose_ausente'][i]   = 1\n",
    "        df_16['Graduacao_da_fibrose_discreta'][i]  = 0\n",
    "        df_16['Graduacao_da_fibrose_moderada'][i]  = 0\n",
    "    elif coluna[i] == 'discreta':\n",
    "        df_16['Graduacao_da_fibrose_acentuada'][i] = 0\n",
    "        df_16['Graduacao_da_fibrose_ausente'][i]   = 0\n",
    "        df_16['Graduacao_da_fibrose_discreta'][i]  = 1\n",
    "        df_16['Graduacao_da_fibrose_moderada'][i]  = 0\n",
    "    else:\n",
    "        df_16['Graduacao_da_fibrose_acentuada'][i] = 0\n",
    "        df_16['Graduacao_da_fibrose_ausente'][i]   = 0\n",
    "        df_16['Graduacao_da_fibrose_discreta'][i]  = 0\n",
    "        df_16['Graduacao_da_fibrose_moderada'][i]  = 1"
   ]
  },
  {
   "cell_type": "code",
   "execution_count": 218,
   "metadata": {},
   "outputs": [
    {
     "data": {
      "text/html": [
       "<div>\n",
       "<style scoped>\n",
       "    .dataframe tbody tr th:only-of-type {\n",
       "        vertical-align: middle;\n",
       "    }\n",
       "\n",
       "    .dataframe tbody tr th {\n",
       "        vertical-align: top;\n",
       "    }\n",
       "\n",
       "    .dataframe thead th {\n",
       "        text-align: right;\n",
       "    }\n",
       "</style>\n",
       "<table border=\"1\" class=\"dataframe\">\n",
       "  <thead>\n",
       "    <tr style=\"text-align: right;\">\n",
       "      <th></th>\n",
       "      <th>Graduacao_da_fibrose_acentuada</th>\n",
       "      <th>Graduacao_da_fibrose_ausente</th>\n",
       "      <th>Graduacao_da_fibrose_discreta</th>\n",
       "      <th>Graduacao_da_fibrose_moderada</th>\n",
       "    </tr>\n",
       "  </thead>\n",
       "  <tbody>\n",
       "    <tr>\n",
       "      <th>0</th>\n",
       "      <td>0</td>\n",
       "      <td>1</td>\n",
       "      <td>0</td>\n",
       "      <td>0</td>\n",
       "    </tr>\n",
       "    <tr>\n",
       "      <th>1</th>\n",
       "      <td>0</td>\n",
       "      <td>1</td>\n",
       "      <td>0</td>\n",
       "      <td>0</td>\n",
       "    </tr>\n",
       "    <tr>\n",
       "      <th>2</th>\n",
       "      <td>0</td>\n",
       "      <td>0</td>\n",
       "      <td>1</td>\n",
       "      <td>0</td>\n",
       "    </tr>\n",
       "    <tr>\n",
       "      <th>3</th>\n",
       "      <td>0</td>\n",
       "      <td>1</td>\n",
       "      <td>0</td>\n",
       "      <td>0</td>\n",
       "    </tr>\n",
       "    <tr>\n",
       "      <th>4</th>\n",
       "      <td>0</td>\n",
       "      <td>0</td>\n",
       "      <td>1</td>\n",
       "      <td>0</td>\n",
       "    </tr>\n",
       "  </tbody>\n",
       "</table>\n",
       "</div>"
      ],
      "text/plain": [
       "  Graduacao_da_fibrose_acentuada Graduacao_da_fibrose_ausente  \\\n",
       "0                              0                            1   \n",
       "1                              0                            1   \n",
       "2                              0                            0   \n",
       "3                              0                            1   \n",
       "4                              0                            0   \n",
       "\n",
       "  Graduacao_da_fibrose_discreta Graduacao_da_fibrose_moderada  \n",
       "0                             0                             0  \n",
       "1                             0                             0  \n",
       "2                             1                             0  \n",
       "3                             0                             0  \n",
       "4                             1                             0  "
      ]
     },
     "execution_count": 218,
     "metadata": {},
     "output_type": "execute_result"
    }
   ],
   "source": [
    "contador = 0\n",
    "while contador < 100:\n",
    "    preencher16(base_01['Graduação da fibrose'], contador)\n",
    "    contador += 1\n",
    "\n",
    "df_16.head()"
   ]
  },
  {
   "cell_type": "code",
   "execution_count": 219,
   "metadata": {},
   "outputs": [
    {
     "data": {
      "text/plain": [
       "discreta     42\n",
       "ausente      28\n",
       "moderada     22\n",
       "acentuada     8\n",
       "Name: Graduação da fibrose, dtype: int64"
      ]
     },
     "execution_count": 219,
     "metadata": {},
     "output_type": "execute_result"
    }
   ],
   "source": [
    "base_01['Graduação da fibrose'].value_counts()"
   ]
  },
  {
   "cell_type": "code",
   "execution_count": 220,
   "metadata": {},
   "outputs": [
    {
     "data": {
      "text/plain": [
       "42"
      ]
     },
     "execution_count": 220,
     "metadata": {},
     "output_type": "execute_result"
    }
   ],
   "source": [
    "len(df_16[df_16['Graduacao_da_fibrose_discreta'] == 1])"
   ]
  },
  {
   "cell_type": "code",
   "execution_count": 221,
   "metadata": {},
   "outputs": [
    {
     "data": {
      "text/plain": [
       "28"
      ]
     },
     "execution_count": 221,
     "metadata": {},
     "output_type": "execute_result"
    }
   ],
   "source": [
    "len(df_16[df_16['Graduacao_da_fibrose_ausente'] == 1])"
   ]
  },
  {
   "cell_type": "code",
   "execution_count": 222,
   "metadata": {},
   "outputs": [
    {
     "data": {
      "text/plain": [
       "22"
      ]
     },
     "execution_count": 222,
     "metadata": {},
     "output_type": "execute_result"
    }
   ],
   "source": [
    "len(df_16[df_16['Graduacao_da_fibrose_moderada'] == 1])"
   ]
  },
  {
   "cell_type": "code",
   "execution_count": 223,
   "metadata": {},
   "outputs": [
    {
     "data": {
      "text/plain": [
       "8"
      ]
     },
     "execution_count": 223,
     "metadata": {},
     "output_type": "execute_result"
    }
   ],
   "source": [
    "len(df_16[df_16['Graduacao_da_fibrose_acentuada'] == 1])"
   ]
  },
  {
   "cell_type": "markdown",
   "metadata": {},
   "source": [
    "Infiltrado Inflamatório"
   ]
  },
  {
   "cell_type": "code",
   "execution_count": 224,
   "metadata": {},
   "outputs": [
    {
     "data": {
      "text/html": [
       "<div>\n",
       "<style scoped>\n",
       "    .dataframe tbody tr th:only-of-type {\n",
       "        vertical-align: middle;\n",
       "    }\n",
       "\n",
       "    .dataframe tbody tr th {\n",
       "        vertical-align: top;\n",
       "    }\n",
       "\n",
       "    .dataframe thead th {\n",
       "        text-align: right;\n",
       "    }\n",
       "</style>\n",
       "<table border=\"1\" class=\"dataframe\">\n",
       "  <thead>\n",
       "    <tr style=\"text-align: right;\">\n",
       "      <th></th>\n",
       "      <th>Infiltrado_inflamatorio_ausente</th>\n",
       "      <th>Infiltrado_inflamatorio_presente</th>\n",
       "    </tr>\n",
       "  </thead>\n",
       "  <tbody>\n",
       "    <tr>\n",
       "      <th>0</th>\n",
       "      <td>NaN</td>\n",
       "      <td>NaN</td>\n",
       "    </tr>\n",
       "    <tr>\n",
       "      <th>1</th>\n",
       "      <td>NaN</td>\n",
       "      <td>NaN</td>\n",
       "    </tr>\n",
       "    <tr>\n",
       "      <th>2</th>\n",
       "      <td>NaN</td>\n",
       "      <td>NaN</td>\n",
       "    </tr>\n",
       "    <tr>\n",
       "      <th>3</th>\n",
       "      <td>NaN</td>\n",
       "      <td>NaN</td>\n",
       "    </tr>\n",
       "    <tr>\n",
       "      <th>4</th>\n",
       "      <td>NaN</td>\n",
       "      <td>NaN</td>\n",
       "    </tr>\n",
       "  </tbody>\n",
       "</table>\n",
       "</div>"
      ],
      "text/plain": [
       "  Infiltrado_inflamatorio_ausente Infiltrado_inflamatorio_presente\n",
       "0                             NaN                              NaN\n",
       "1                             NaN                              NaN\n",
       "2                             NaN                              NaN\n",
       "3                             NaN                              NaN\n",
       "4                             NaN                              NaN"
      ]
     },
     "execution_count": 224,
     "metadata": {},
     "output_type": "execute_result"
    }
   ],
   "source": [
    "df_17 = pd.DataFrame(index = indices, columns = Infiltrado_inflamatorio)\n",
    "df_17.head()"
   ]
  },
  {
   "cell_type": "code",
   "execution_count": 225,
   "metadata": {},
   "outputs": [
    {
     "data": {
      "text/plain": [
       "array(['ausente', 'presente'], dtype=object)"
      ]
     },
     "execution_count": 225,
     "metadata": {},
     "output_type": "execute_result"
    }
   ],
   "source": [
    "np.unique(base_01['Infiltrado inflamatório'])"
   ]
  },
  {
   "cell_type": "code",
   "execution_count": 226,
   "metadata": {},
   "outputs": [
    {
     "data": {
      "text/plain": [
       "Index(['Infiltrado_inflamatorio_ausente', 'Infiltrado_inflamatorio_presente'], dtype='object')"
      ]
     },
     "execution_count": 226,
     "metadata": {},
     "output_type": "execute_result"
    }
   ],
   "source": [
    "df_17.columns"
   ]
  },
  {
   "cell_type": "code",
   "execution_count": 227,
   "metadata": {},
   "outputs": [],
   "source": [
    "def preencher17(coluna, i):\n",
    "    if coluna[i] == 'ausente':\n",
    "        df_17['Infiltrado_inflamatorio_ausente'][i]  = 1\n",
    "        df_17['Infiltrado_inflamatorio_presente'][i] = 0\n",
    "    else:\n",
    "        df_17['Infiltrado_inflamatorio_ausente'][i]  = 0\n",
    "        df_17['Infiltrado_inflamatorio_presente'][i] = 1"
   ]
  },
  {
   "cell_type": "code",
   "execution_count": 228,
   "metadata": {},
   "outputs": [
    {
     "data": {
      "text/html": [
       "<div>\n",
       "<style scoped>\n",
       "    .dataframe tbody tr th:only-of-type {\n",
       "        vertical-align: middle;\n",
       "    }\n",
       "\n",
       "    .dataframe tbody tr th {\n",
       "        vertical-align: top;\n",
       "    }\n",
       "\n",
       "    .dataframe thead th {\n",
       "        text-align: right;\n",
       "    }\n",
       "</style>\n",
       "<table border=\"1\" class=\"dataframe\">\n",
       "  <thead>\n",
       "    <tr style=\"text-align: right;\">\n",
       "      <th></th>\n",
       "      <th>Infiltrado_inflamatorio_ausente</th>\n",
       "      <th>Infiltrado_inflamatorio_presente</th>\n",
       "    </tr>\n",
       "  </thead>\n",
       "  <tbody>\n",
       "    <tr>\n",
       "      <th>0</th>\n",
       "      <td>1</td>\n",
       "      <td>0</td>\n",
       "    </tr>\n",
       "    <tr>\n",
       "      <th>1</th>\n",
       "      <td>1</td>\n",
       "      <td>0</td>\n",
       "    </tr>\n",
       "    <tr>\n",
       "      <th>2</th>\n",
       "      <td>0</td>\n",
       "      <td>1</td>\n",
       "    </tr>\n",
       "    <tr>\n",
       "      <th>3</th>\n",
       "      <td>1</td>\n",
       "      <td>0</td>\n",
       "    </tr>\n",
       "    <tr>\n",
       "      <th>4</th>\n",
       "      <td>0</td>\n",
       "      <td>1</td>\n",
       "    </tr>\n",
       "  </tbody>\n",
       "</table>\n",
       "</div>"
      ],
      "text/plain": [
       "  Infiltrado_inflamatorio_ausente Infiltrado_inflamatorio_presente\n",
       "0                               1                                0\n",
       "1                               1                                0\n",
       "2                               0                                1\n",
       "3                               1                                0\n",
       "4                               0                                1"
      ]
     },
     "execution_count": 228,
     "metadata": {},
     "output_type": "execute_result"
    }
   ],
   "source": [
    "contador = 0\n",
    "while contador < 100:\n",
    "    preencher17(base_01['Infiltrado inflamatório'], contador)\n",
    "    contador += 1\n",
    "\n",
    "df_17.head()"
   ]
  },
  {
   "cell_type": "code",
   "execution_count": 229,
   "metadata": {},
   "outputs": [
    {
     "data": {
      "text/plain": [
       "presente    62\n",
       "ausente     38\n",
       "Name: Infiltrado inflamatório, dtype: int64"
      ]
     },
     "execution_count": 229,
     "metadata": {},
     "output_type": "execute_result"
    }
   ],
   "source": [
    "base_01['Infiltrado inflamatório'].value_counts()"
   ]
  },
  {
   "cell_type": "code",
   "execution_count": 230,
   "metadata": {},
   "outputs": [
    {
     "data": {
      "text/plain": [
       "62"
      ]
     },
     "execution_count": 230,
     "metadata": {},
     "output_type": "execute_result"
    }
   ],
   "source": [
    "len(df_17[df_17['Infiltrado_inflamatorio_presente'] == 1])"
   ]
  },
  {
   "cell_type": "code",
   "execution_count": 231,
   "metadata": {},
   "outputs": [
    {
     "data": {
      "text/plain": [
       "38"
      ]
     },
     "execution_count": 231,
     "metadata": {},
     "output_type": "execute_result"
    }
   ],
   "source": [
    "len(df_17[df_17['Infiltrado_inflamatorio_ausente'] == 1])"
   ]
  },
  {
   "cell_type": "markdown",
   "metadata": {},
   "source": [
    "Tipo de infiltrado inflamatório"
   ]
  },
  {
   "cell_type": "code",
   "execution_count": 232,
   "metadata": {},
   "outputs": [
    {
     "data": {
      "text/html": [
       "<div>\n",
       "<style scoped>\n",
       "    .dataframe tbody tr th:only-of-type {\n",
       "        vertical-align: middle;\n",
       "    }\n",
       "\n",
       "    .dataframe tbody tr th {\n",
       "        vertical-align: top;\n",
       "    }\n",
       "\n",
       "    .dataframe thead th {\n",
       "        text-align: right;\n",
       "    }\n",
       "</style>\n",
       "<table border=\"1\" class=\"dataframe\">\n",
       "  <thead>\n",
       "    <tr style=\"text-align: right;\">\n",
       "      <th></th>\n",
       "      <th>Tipo_de_infiltrado_inflamatorio_ausente</th>\n",
       "      <th>Tipo_de_infiltrado_inflamatorio_misto</th>\n",
       "      <th>Tipo_de_infiltrado_inflamatorio_mononuclear</th>\n",
       "    </tr>\n",
       "  </thead>\n",
       "  <tbody>\n",
       "    <tr>\n",
       "      <th>0</th>\n",
       "      <td>NaN</td>\n",
       "      <td>NaN</td>\n",
       "      <td>NaN</td>\n",
       "    </tr>\n",
       "    <tr>\n",
       "      <th>1</th>\n",
       "      <td>NaN</td>\n",
       "      <td>NaN</td>\n",
       "      <td>NaN</td>\n",
       "    </tr>\n",
       "    <tr>\n",
       "      <th>2</th>\n",
       "      <td>NaN</td>\n",
       "      <td>NaN</td>\n",
       "      <td>NaN</td>\n",
       "    </tr>\n",
       "    <tr>\n",
       "      <th>3</th>\n",
       "      <td>NaN</td>\n",
       "      <td>NaN</td>\n",
       "      <td>NaN</td>\n",
       "    </tr>\n",
       "    <tr>\n",
       "      <th>4</th>\n",
       "      <td>NaN</td>\n",
       "      <td>NaN</td>\n",
       "      <td>NaN</td>\n",
       "    </tr>\n",
       "  </tbody>\n",
       "</table>\n",
       "</div>"
      ],
      "text/plain": [
       "  Tipo_de_infiltrado_inflamatorio_ausente  \\\n",
       "0                                     NaN   \n",
       "1                                     NaN   \n",
       "2                                     NaN   \n",
       "3                                     NaN   \n",
       "4                                     NaN   \n",
       "\n",
       "  Tipo_de_infiltrado_inflamatorio_misto  \\\n",
       "0                                   NaN   \n",
       "1                                   NaN   \n",
       "2                                   NaN   \n",
       "3                                   NaN   \n",
       "4                                   NaN   \n",
       "\n",
       "  Tipo_de_infiltrado_inflamatorio_mononuclear  \n",
       "0                                         NaN  \n",
       "1                                         NaN  \n",
       "2                                         NaN  \n",
       "3                                         NaN  \n",
       "4                                         NaN  "
      ]
     },
     "execution_count": 232,
     "metadata": {},
     "output_type": "execute_result"
    }
   ],
   "source": [
    "df_18 = pd.DataFrame(index = indices, columns = Tipo_de_infiltrado_inflamatorio)\n",
    "df_18.head()"
   ]
  },
  {
   "cell_type": "code",
   "execution_count": 233,
   "metadata": {},
   "outputs": [
    {
     "data": {
      "text/plain": [
       "array(['ausente', 'misto', 'mononuclear'], dtype=object)"
      ]
     },
     "execution_count": 233,
     "metadata": {},
     "output_type": "execute_result"
    }
   ],
   "source": [
    "np.unique(base_01['tipo de infiltrado inflamatório'])"
   ]
  },
  {
   "cell_type": "code",
   "execution_count": 234,
   "metadata": {},
   "outputs": [
    {
     "data": {
      "text/plain": [
       "Index(['Tipo_de_infiltrado_inflamatorio_ausente',\n",
       "       'Tipo_de_infiltrado_inflamatorio_misto',\n",
       "       'Tipo_de_infiltrado_inflamatorio_mononuclear'],\n",
       "      dtype='object')"
      ]
     },
     "execution_count": 234,
     "metadata": {},
     "output_type": "execute_result"
    }
   ],
   "source": [
    "df_18.columns"
   ]
  },
  {
   "cell_type": "code",
   "execution_count": 235,
   "metadata": {},
   "outputs": [],
   "source": [
    "def preencher18(coluna, i):\n",
    "    if coluna[i] == 'ausente':\n",
    "        df_18['Tipo_de_infiltrado_inflamatorio_ausente'][i]     = 1\n",
    "        df_18['Tipo_de_infiltrado_inflamatorio_misto'][i]       = 0\n",
    "        df_18['Tipo_de_infiltrado_inflamatorio_mononuclear'][i] = 0\n",
    "    elif coluna[i] == 'misto':\n",
    "        df_18['Tipo_de_infiltrado_inflamatorio_ausente'][i]     = 0\n",
    "        df_18['Tipo_de_infiltrado_inflamatorio_misto'][i]       = 1\n",
    "        df_18['Tipo_de_infiltrado_inflamatorio_mononuclear'][i] = 0\n",
    "    else :\n",
    "        df_18['Tipo_de_infiltrado_inflamatorio_ausente'][i]     = 0\n",
    "        df_18['Tipo_de_infiltrado_inflamatorio_misto'][i]       = 0\n",
    "        df_18['Tipo_de_infiltrado_inflamatorio_mononuclear'][i] = 1"
   ]
  },
  {
   "cell_type": "code",
   "execution_count": 236,
   "metadata": {},
   "outputs": [
    {
     "data": {
      "text/html": [
       "<div>\n",
       "<style scoped>\n",
       "    .dataframe tbody tr th:only-of-type {\n",
       "        vertical-align: middle;\n",
       "    }\n",
       "\n",
       "    .dataframe tbody tr th {\n",
       "        vertical-align: top;\n",
       "    }\n",
       "\n",
       "    .dataframe thead th {\n",
       "        text-align: right;\n",
       "    }\n",
       "</style>\n",
       "<table border=\"1\" class=\"dataframe\">\n",
       "  <thead>\n",
       "    <tr style=\"text-align: right;\">\n",
       "      <th></th>\n",
       "      <th>Tipo_de_infiltrado_inflamatorio_ausente</th>\n",
       "      <th>Tipo_de_infiltrado_inflamatorio_misto</th>\n",
       "      <th>Tipo_de_infiltrado_inflamatorio_mononuclear</th>\n",
       "    </tr>\n",
       "  </thead>\n",
       "  <tbody>\n",
       "    <tr>\n",
       "      <th>0</th>\n",
       "      <td>1</td>\n",
       "      <td>0</td>\n",
       "      <td>0</td>\n",
       "    </tr>\n",
       "    <tr>\n",
       "      <th>1</th>\n",
       "      <td>1</td>\n",
       "      <td>0</td>\n",
       "      <td>0</td>\n",
       "    </tr>\n",
       "    <tr>\n",
       "      <th>2</th>\n",
       "      <td>0</td>\n",
       "      <td>0</td>\n",
       "      <td>1</td>\n",
       "    </tr>\n",
       "    <tr>\n",
       "      <th>3</th>\n",
       "      <td>1</td>\n",
       "      <td>0</td>\n",
       "      <td>0</td>\n",
       "    </tr>\n",
       "    <tr>\n",
       "      <th>4</th>\n",
       "      <td>0</td>\n",
       "      <td>0</td>\n",
       "      <td>1</td>\n",
       "    </tr>\n",
       "  </tbody>\n",
       "</table>\n",
       "</div>"
      ],
      "text/plain": [
       "  Tipo_de_infiltrado_inflamatorio_ausente  \\\n",
       "0                                       1   \n",
       "1                                       1   \n",
       "2                                       0   \n",
       "3                                       1   \n",
       "4                                       0   \n",
       "\n",
       "  Tipo_de_infiltrado_inflamatorio_misto  \\\n",
       "0                                     0   \n",
       "1                                     0   \n",
       "2                                     0   \n",
       "3                                     0   \n",
       "4                                     0   \n",
       "\n",
       "  Tipo_de_infiltrado_inflamatorio_mononuclear  \n",
       "0                                           0  \n",
       "1                                           0  \n",
       "2                                           1  \n",
       "3                                           0  \n",
       "4                                           1  "
      ]
     },
     "execution_count": 236,
     "metadata": {},
     "output_type": "execute_result"
    }
   ],
   "source": [
    "contador = 0\n",
    "while contador < 100:\n",
    "    preencher18(base_01['tipo de infiltrado inflamatório'], contador)\n",
    "    contador += 1\n",
    "\n",
    "df_18.head()"
   ]
  },
  {
   "cell_type": "code",
   "execution_count": 237,
   "metadata": {},
   "outputs": [
    {
     "data": {
      "text/plain": [
       "mononuclear    49\n",
       "ausente        38\n",
       "misto          13\n",
       "Name: tipo de infiltrado inflamatório, dtype: int64"
      ]
     },
     "execution_count": 237,
     "metadata": {},
     "output_type": "execute_result"
    }
   ],
   "source": [
    "base_01['tipo de infiltrado inflamatório'].value_counts()"
   ]
  },
  {
   "cell_type": "code",
   "execution_count": 238,
   "metadata": {},
   "outputs": [
    {
     "data": {
      "text/plain": [
       "49"
      ]
     },
     "execution_count": 238,
     "metadata": {},
     "output_type": "execute_result"
    }
   ],
   "source": [
    "len(df_18[df_18['Tipo_de_infiltrado_inflamatorio_mononuclear'] == 1])"
   ]
  },
  {
   "cell_type": "code",
   "execution_count": 239,
   "metadata": {},
   "outputs": [
    {
     "data": {
      "text/plain": [
       "38"
      ]
     },
     "execution_count": 239,
     "metadata": {},
     "output_type": "execute_result"
    }
   ],
   "source": [
    "len(df_18[df_18['Tipo_de_infiltrado_inflamatorio_ausente'] == 1])"
   ]
  },
  {
   "cell_type": "code",
   "execution_count": 240,
   "metadata": {},
   "outputs": [
    {
     "data": {
      "text/plain": [
       "13"
      ]
     },
     "execution_count": 240,
     "metadata": {},
     "output_type": "execute_result"
    }
   ],
   "source": [
    "len(df_18[df_18['Tipo_de_infiltrado_inflamatorio_misto'] == 1])"
   ]
  },
  {
   "cell_type": "markdown",
   "metadata": {},
   "source": [
    "Vasculite"
   ]
  },
  {
   "cell_type": "code",
   "execution_count": 241,
   "metadata": {},
   "outputs": [
    {
     "data": {
      "text/html": [
       "<div>\n",
       "<style scoped>\n",
       "    .dataframe tbody tr th:only-of-type {\n",
       "        vertical-align: middle;\n",
       "    }\n",
       "\n",
       "    .dataframe tbody tr th {\n",
       "        vertical-align: top;\n",
       "    }\n",
       "\n",
       "    .dataframe thead th {\n",
       "        text-align: right;\n",
       "    }\n",
       "</style>\n",
       "<table border=\"1\" class=\"dataframe\">\n",
       "  <thead>\n",
       "    <tr style=\"text-align: right;\">\n",
       "      <th></th>\n",
       "      <th>Vasculite_ausente</th>\n",
       "    </tr>\n",
       "  </thead>\n",
       "  <tbody>\n",
       "    <tr>\n",
       "      <th>0</th>\n",
       "      <td>NaN</td>\n",
       "    </tr>\n",
       "    <tr>\n",
       "      <th>1</th>\n",
       "      <td>NaN</td>\n",
       "    </tr>\n",
       "    <tr>\n",
       "      <th>2</th>\n",
       "      <td>NaN</td>\n",
       "    </tr>\n",
       "    <tr>\n",
       "      <th>3</th>\n",
       "      <td>NaN</td>\n",
       "    </tr>\n",
       "    <tr>\n",
       "      <th>4</th>\n",
       "      <td>NaN</td>\n",
       "    </tr>\n",
       "  </tbody>\n",
       "</table>\n",
       "</div>"
      ],
      "text/plain": [
       "  Vasculite_ausente\n",
       "0               NaN\n",
       "1               NaN\n",
       "2               NaN\n",
       "3               NaN\n",
       "4               NaN"
      ]
     },
     "execution_count": 241,
     "metadata": {},
     "output_type": "execute_result"
    }
   ],
   "source": [
    "df_19 = pd.DataFrame(index = indices, columns = Vasculite)\n",
    "df_19.head()"
   ]
  },
  {
   "cell_type": "code",
   "execution_count": 242,
   "metadata": {},
   "outputs": [
    {
     "data": {
      "text/plain": [
       "array(['ausente'], dtype=object)"
      ]
     },
     "execution_count": 242,
     "metadata": {},
     "output_type": "execute_result"
    }
   ],
   "source": [
    "np.unique(base_01['Vasculite'])"
   ]
  },
  {
   "cell_type": "code",
   "execution_count": 243,
   "metadata": {},
   "outputs": [
    {
     "data": {
      "text/plain": [
       "Index(['Vasculite_ausente'], dtype='object')"
      ]
     },
     "execution_count": 243,
     "metadata": {},
     "output_type": "execute_result"
    }
   ],
   "source": [
    "df_19.columns"
   ]
  },
  {
   "cell_type": "code",
   "execution_count": 244,
   "metadata": {},
   "outputs": [
    {
     "data": {
      "text/html": [
       "<div>\n",
       "<style scoped>\n",
       "    .dataframe tbody tr th:only-of-type {\n",
       "        vertical-align: middle;\n",
       "    }\n",
       "\n",
       "    .dataframe tbody tr th {\n",
       "        vertical-align: top;\n",
       "    }\n",
       "\n",
       "    .dataframe thead th {\n",
       "        text-align: right;\n",
       "    }\n",
       "</style>\n",
       "<table border=\"1\" class=\"dataframe\">\n",
       "  <thead>\n",
       "    <tr style=\"text-align: right;\">\n",
       "      <th></th>\n",
       "      <th>Vasculite_ausente</th>\n",
       "    </tr>\n",
       "  </thead>\n",
       "  <tbody>\n",
       "    <tr>\n",
       "      <th>0</th>\n",
       "      <td>1</td>\n",
       "    </tr>\n",
       "    <tr>\n",
       "      <th>1</th>\n",
       "      <td>1</td>\n",
       "    </tr>\n",
       "    <tr>\n",
       "      <th>2</th>\n",
       "      <td>1</td>\n",
       "    </tr>\n",
       "    <tr>\n",
       "      <th>3</th>\n",
       "      <td>1</td>\n",
       "    </tr>\n",
       "    <tr>\n",
       "      <th>4</th>\n",
       "      <td>1</td>\n",
       "    </tr>\n",
       "  </tbody>\n",
       "</table>\n",
       "</div>"
      ],
      "text/plain": [
       "   Vasculite_ausente\n",
       "0                  1\n",
       "1                  1\n",
       "2                  1\n",
       "3                  1\n",
       "4                  1"
      ]
     },
     "execution_count": 244,
     "metadata": {},
     "output_type": "execute_result"
    }
   ],
   "source": [
    "df_19['Vasculite_ausente'] = 1\n",
    "df_19.head()"
   ]
  },
  {
   "cell_type": "code",
   "execution_count": 245,
   "metadata": {},
   "outputs": [
    {
     "data": {
      "text/plain": [
       "ausente    100\n",
       "Name: Vasculite, dtype: int64"
      ]
     },
     "execution_count": 245,
     "metadata": {},
     "output_type": "execute_result"
    }
   ],
   "source": [
    "base_01['Vasculite'].value_counts()"
   ]
  },
  {
   "cell_type": "code",
   "execution_count": 246,
   "metadata": {},
   "outputs": [
    {
     "data": {
      "text/plain": [
       "100"
      ]
     },
     "execution_count": 246,
     "metadata": {},
     "output_type": "execute_result"
    }
   ],
   "source": [
    "len(df_19[df_19['Vasculite_ausente'] == 1])"
   ]
  },
  {
   "cell_type": "markdown",
   "metadata": {},
   "source": [
    "Microangiopatia Trombótica"
   ]
  },
  {
   "cell_type": "code",
   "execution_count": 247,
   "metadata": {},
   "outputs": [
    {
     "data": {
      "text/html": [
       "<div>\n",
       "<style scoped>\n",
       "    .dataframe tbody tr th:only-of-type {\n",
       "        vertical-align: middle;\n",
       "    }\n",
       "\n",
       "    .dataframe tbody tr th {\n",
       "        vertical-align: top;\n",
       "    }\n",
       "\n",
       "    .dataframe thead th {\n",
       "        text-align: right;\n",
       "    }\n",
       "</style>\n",
       "<table border=\"1\" class=\"dataframe\">\n",
       "  <thead>\n",
       "    <tr style=\"text-align: right;\">\n",
       "      <th></th>\n",
       "      <th>Microangiopatia_trombotica_ausente</th>\n",
       "      <th>Microangiopatia_trombotica_presente</th>\n",
       "    </tr>\n",
       "  </thead>\n",
       "  <tbody>\n",
       "    <tr>\n",
       "      <th>0</th>\n",
       "      <td>NaN</td>\n",
       "      <td>NaN</td>\n",
       "    </tr>\n",
       "    <tr>\n",
       "      <th>1</th>\n",
       "      <td>NaN</td>\n",
       "      <td>NaN</td>\n",
       "    </tr>\n",
       "    <tr>\n",
       "      <th>2</th>\n",
       "      <td>NaN</td>\n",
       "      <td>NaN</td>\n",
       "    </tr>\n",
       "    <tr>\n",
       "      <th>3</th>\n",
       "      <td>NaN</td>\n",
       "      <td>NaN</td>\n",
       "    </tr>\n",
       "    <tr>\n",
       "      <th>4</th>\n",
       "      <td>NaN</td>\n",
       "      <td>NaN</td>\n",
       "    </tr>\n",
       "  </tbody>\n",
       "</table>\n",
       "</div>"
      ],
      "text/plain": [
       "  Microangiopatia_trombotica_ausente Microangiopatia_trombotica_presente\n",
       "0                                NaN                                 NaN\n",
       "1                                NaN                                 NaN\n",
       "2                                NaN                                 NaN\n",
       "3                                NaN                                 NaN\n",
       "4                                NaN                                 NaN"
      ]
     },
     "execution_count": 247,
     "metadata": {},
     "output_type": "execute_result"
    }
   ],
   "source": [
    "df_20 = pd.DataFrame(index = indices, columns = Microangiopatia_trombotica)\n",
    "df_20.head()"
   ]
  },
  {
   "cell_type": "code",
   "execution_count": 248,
   "metadata": {},
   "outputs": [
    {
     "data": {
      "text/plain": [
       "array(['ausente', 'presente'], dtype=object)"
      ]
     },
     "execution_count": 248,
     "metadata": {},
     "output_type": "execute_result"
    }
   ],
   "source": [
    "np.unique(base_01['Microangiopatia trombótica'])"
   ]
  },
  {
   "cell_type": "code",
   "execution_count": 249,
   "metadata": {},
   "outputs": [
    {
     "data": {
      "text/plain": [
       "Index(['Microangiopatia_trombotica_ausente', 'Microangiopatia_trombotica_presente'], dtype='object')"
      ]
     },
     "execution_count": 249,
     "metadata": {},
     "output_type": "execute_result"
    }
   ],
   "source": [
    "df_20.columns"
   ]
  },
  {
   "cell_type": "code",
   "execution_count": 250,
   "metadata": {},
   "outputs": [],
   "source": [
    "def preencher20(coluna, i):\n",
    "    if coluna[i] == 'ausente':\n",
    "        df_20['Microangiopatia_trombotica_ausente'][i]  = 1\n",
    "        df_20['Microangiopatia_trombotica_presente'][i] = 0\n",
    "    else :\n",
    "        df_20['Microangiopatia_trombotica_ausente'][i]  = 0\n",
    "        df_20['Microangiopatia_trombotica_presente'][i] = 1"
   ]
  },
  {
   "cell_type": "code",
   "execution_count": 251,
   "metadata": {},
   "outputs": [
    {
     "data": {
      "text/html": [
       "<div>\n",
       "<style scoped>\n",
       "    .dataframe tbody tr th:only-of-type {\n",
       "        vertical-align: middle;\n",
       "    }\n",
       "\n",
       "    .dataframe tbody tr th {\n",
       "        vertical-align: top;\n",
       "    }\n",
       "\n",
       "    .dataframe thead th {\n",
       "        text-align: right;\n",
       "    }\n",
       "</style>\n",
       "<table border=\"1\" class=\"dataframe\">\n",
       "  <thead>\n",
       "    <tr style=\"text-align: right;\">\n",
       "      <th></th>\n",
       "      <th>Microangiopatia_trombotica_ausente</th>\n",
       "      <th>Microangiopatia_trombotica_presente</th>\n",
       "    </tr>\n",
       "  </thead>\n",
       "  <tbody>\n",
       "    <tr>\n",
       "      <th>0</th>\n",
       "      <td>1</td>\n",
       "      <td>0</td>\n",
       "    </tr>\n",
       "    <tr>\n",
       "      <th>1</th>\n",
       "      <td>1</td>\n",
       "      <td>0</td>\n",
       "    </tr>\n",
       "    <tr>\n",
       "      <th>2</th>\n",
       "      <td>1</td>\n",
       "      <td>0</td>\n",
       "    </tr>\n",
       "    <tr>\n",
       "      <th>3</th>\n",
       "      <td>1</td>\n",
       "      <td>0</td>\n",
       "    </tr>\n",
       "    <tr>\n",
       "      <th>4</th>\n",
       "      <td>1</td>\n",
       "      <td>0</td>\n",
       "    </tr>\n",
       "  </tbody>\n",
       "</table>\n",
       "</div>"
      ],
      "text/plain": [
       "  Microangiopatia_trombotica_ausente Microangiopatia_trombotica_presente\n",
       "0                                  1                                   0\n",
       "1                                  1                                   0\n",
       "2                                  1                                   0\n",
       "3                                  1                                   0\n",
       "4                                  1                                   0"
      ]
     },
     "execution_count": 251,
     "metadata": {},
     "output_type": "execute_result"
    }
   ],
   "source": [
    "contador = 0\n",
    "while contador < 100:\n",
    "    preencher20(base_01['Microangiopatia trombótica'], contador)\n",
    "    contador += 1\n",
    "\n",
    "df_20.head()"
   ]
  },
  {
   "cell_type": "code",
   "execution_count": 252,
   "metadata": {},
   "outputs": [
    {
     "data": {
      "text/plain": [
       "ausente     98\n",
       "presente     2\n",
       "Name: Microangiopatia trombótica, dtype: int64"
      ]
     },
     "execution_count": 252,
     "metadata": {},
     "output_type": "execute_result"
    }
   ],
   "source": [
    "base_01['Microangiopatia trombótica'].value_counts()"
   ]
  },
  {
   "cell_type": "code",
   "execution_count": 253,
   "metadata": {},
   "outputs": [
    {
     "data": {
      "text/plain": [
       "98"
      ]
     },
     "execution_count": 253,
     "metadata": {},
     "output_type": "execute_result"
    }
   ],
   "source": [
    "len(df_20[df_20['Microangiopatia_trombotica_ausente'] == 1])"
   ]
  },
  {
   "cell_type": "code",
   "execution_count": 254,
   "metadata": {},
   "outputs": [
    {
     "data": {
      "text/plain": [
       "2"
      ]
     },
     "execution_count": 254,
     "metadata": {},
     "output_type": "execute_result"
    }
   ],
   "source": [
    "len(df_20[df_20['Microangiopatia_trombotica_presente'] == 1])"
   ]
  },
  {
   "cell_type": "markdown",
   "metadata": {},
   "source": [
    "Trombos"
   ]
  },
  {
   "cell_type": "code",
   "execution_count": 255,
   "metadata": {},
   "outputs": [
    {
     "data": {
      "text/html": [
       "<div>\n",
       "<style scoped>\n",
       "    .dataframe tbody tr th:only-of-type {\n",
       "        vertical-align: middle;\n",
       "    }\n",
       "\n",
       "    .dataframe tbody tr th {\n",
       "        vertical-align: top;\n",
       "    }\n",
       "\n",
       "    .dataframe thead th {\n",
       "        text-align: right;\n",
       "    }\n",
       "</style>\n",
       "<table border=\"1\" class=\"dataframe\">\n",
       "  <thead>\n",
       "    <tr style=\"text-align: right;\">\n",
       "      <th></th>\n",
       "      <th>Trombos_ausente</th>\n",
       "    </tr>\n",
       "  </thead>\n",
       "  <tbody>\n",
       "    <tr>\n",
       "      <th>0</th>\n",
       "      <td>NaN</td>\n",
       "    </tr>\n",
       "    <tr>\n",
       "      <th>1</th>\n",
       "      <td>NaN</td>\n",
       "    </tr>\n",
       "    <tr>\n",
       "      <th>2</th>\n",
       "      <td>NaN</td>\n",
       "    </tr>\n",
       "    <tr>\n",
       "      <th>3</th>\n",
       "      <td>NaN</td>\n",
       "    </tr>\n",
       "    <tr>\n",
       "      <th>4</th>\n",
       "      <td>NaN</td>\n",
       "    </tr>\n",
       "  </tbody>\n",
       "</table>\n",
       "</div>"
      ],
      "text/plain": [
       "  Trombos_ausente\n",
       "0             NaN\n",
       "1             NaN\n",
       "2             NaN\n",
       "3             NaN\n",
       "4             NaN"
      ]
     },
     "execution_count": 255,
     "metadata": {},
     "output_type": "execute_result"
    }
   ],
   "source": [
    "df_21 = pd.DataFrame(index = indices, columns = Trombos)\n",
    "df_21.head()"
   ]
  },
  {
   "cell_type": "code",
   "execution_count": 256,
   "metadata": {},
   "outputs": [
    {
     "data": {
      "text/plain": [
       "array(['ausente'], dtype=object)"
      ]
     },
     "execution_count": 256,
     "metadata": {},
     "output_type": "execute_result"
    }
   ],
   "source": [
    "np.unique(base_01['Trombos'])"
   ]
  },
  {
   "cell_type": "code",
   "execution_count": 257,
   "metadata": {},
   "outputs": [
    {
     "data": {
      "text/plain": [
       "Index(['Trombos_ausente'], dtype='object')"
      ]
     },
     "execution_count": 257,
     "metadata": {},
     "output_type": "execute_result"
    }
   ],
   "source": [
    "df_21.columns"
   ]
  },
  {
   "cell_type": "code",
   "execution_count": 258,
   "metadata": {},
   "outputs": [],
   "source": [
    "df_21['Trombos_ausente'] = 1"
   ]
  },
  {
   "cell_type": "code",
   "execution_count": 259,
   "metadata": {},
   "outputs": [
    {
     "data": {
      "text/plain": [
       "ausente    100\n",
       "Name: Trombos, dtype: int64"
      ]
     },
     "execution_count": 259,
     "metadata": {},
     "output_type": "execute_result"
    }
   ],
   "source": [
    "base_01['Trombos'].value_counts()"
   ]
  },
  {
   "cell_type": "code",
   "execution_count": 260,
   "metadata": {},
   "outputs": [
    {
     "data": {
      "text/plain": [
       "100"
      ]
     },
     "execution_count": 260,
     "metadata": {},
     "output_type": "execute_result"
    }
   ],
   "source": [
    "len(df_21[df_21['Trombos_ausente'] == 1])"
   ]
  },
  {
   "cell_type": "markdown",
   "metadata": {},
   "source": [
    "Hialinose"
   ]
  },
  {
   "cell_type": "code",
   "execution_count": 261,
   "metadata": {},
   "outputs": [
    {
     "data": {
      "text/html": [
       "<div>\n",
       "<style scoped>\n",
       "    .dataframe tbody tr th:only-of-type {\n",
       "        vertical-align: middle;\n",
       "    }\n",
       "\n",
       "    .dataframe tbody tr th {\n",
       "        vertical-align: top;\n",
       "    }\n",
       "\n",
       "    .dataframe thead th {\n",
       "        text-align: right;\n",
       "    }\n",
       "</style>\n",
       "<table border=\"1\" class=\"dataframe\">\n",
       "  <thead>\n",
       "    <tr style=\"text-align: right;\">\n",
       "      <th></th>\n",
       "      <th>Hialinose_ausente</th>\n",
       "      <th>Hialinose_presente</th>\n",
       "      <th>Hialinose_presente_em_arteriolas</th>\n",
       "      <th>Hialinose_presente_em_arteriolas_aferentes_e_eferentes</th>\n",
       "    </tr>\n",
       "  </thead>\n",
       "  <tbody>\n",
       "    <tr>\n",
       "      <th>0</th>\n",
       "      <td>NaN</td>\n",
       "      <td>NaN</td>\n",
       "      <td>NaN</td>\n",
       "      <td>NaN</td>\n",
       "    </tr>\n",
       "    <tr>\n",
       "      <th>1</th>\n",
       "      <td>NaN</td>\n",
       "      <td>NaN</td>\n",
       "      <td>NaN</td>\n",
       "      <td>NaN</td>\n",
       "    </tr>\n",
       "    <tr>\n",
       "      <th>2</th>\n",
       "      <td>NaN</td>\n",
       "      <td>NaN</td>\n",
       "      <td>NaN</td>\n",
       "      <td>NaN</td>\n",
       "    </tr>\n",
       "    <tr>\n",
       "      <th>3</th>\n",
       "      <td>NaN</td>\n",
       "      <td>NaN</td>\n",
       "      <td>NaN</td>\n",
       "      <td>NaN</td>\n",
       "    </tr>\n",
       "    <tr>\n",
       "      <th>4</th>\n",
       "      <td>NaN</td>\n",
       "      <td>NaN</td>\n",
       "      <td>NaN</td>\n",
       "      <td>NaN</td>\n",
       "    </tr>\n",
       "  </tbody>\n",
       "</table>\n",
       "</div>"
      ],
      "text/plain": [
       "  Hialinose_ausente Hialinose_presente Hialinose_presente_em_arteriolas  \\\n",
       "0               NaN                NaN                              NaN   \n",
       "1               NaN                NaN                              NaN   \n",
       "2               NaN                NaN                              NaN   \n",
       "3               NaN                NaN                              NaN   \n",
       "4               NaN                NaN                              NaN   \n",
       "\n",
       "  Hialinose_presente_em_arteriolas_aferentes_e_eferentes  \n",
       "0                                                NaN      \n",
       "1                                                NaN      \n",
       "2                                                NaN      \n",
       "3                                                NaN      \n",
       "4                                                NaN      "
      ]
     },
     "execution_count": 261,
     "metadata": {},
     "output_type": "execute_result"
    }
   ],
   "source": [
    "df_22 = pd.DataFrame(index = indices, columns = Hialinose)\n",
    "df_22.head()"
   ]
  },
  {
   "cell_type": "code",
   "execution_count": 262,
   "metadata": {},
   "outputs": [
    {
     "data": {
      "text/plain": [
       "array(['ausente', 'presente', 'presente em arteríolas',\n",
       "       'presente em arteríolas aferentes e eferentes'], dtype=object)"
      ]
     },
     "execution_count": 262,
     "metadata": {},
     "output_type": "execute_result"
    }
   ],
   "source": [
    "np.unique(base_01['Hialinose'])"
   ]
  },
  {
   "cell_type": "code",
   "execution_count": 263,
   "metadata": {},
   "outputs": [
    {
     "data": {
      "text/plain": [
       "Index(['Hialinose_ausente', 'Hialinose_presente',\n",
       "       'Hialinose_presente_em_arteriolas',\n",
       "       'Hialinose_presente_em_arteriolas_aferentes_e_eferentes'],\n",
       "      dtype='object')"
      ]
     },
     "execution_count": 263,
     "metadata": {},
     "output_type": "execute_result"
    }
   ],
   "source": [
    "df_22.columns"
   ]
  },
  {
   "cell_type": "code",
   "execution_count": 264,
   "metadata": {},
   "outputs": [],
   "source": [
    "def preencher22(coluna, i):\n",
    "    if coluna[i] == 'ausente':\n",
    "        df_22['Hialinose_ausente'][i]                                      = 1\n",
    "        df_22['Hialinose_presente'][i]                                     = 0\n",
    "        df_22['Hialinose_presente_em_arteriolas'][i]                       = 0\n",
    "        df_22['Hialinose_presente_em_arteriolas_aferentes_e_eferentes'][i] = 0\n",
    "    elif coluna[i] == 'presente':\n",
    "        df_22['Hialinose_ausente'][i]                                      = 0\n",
    "        df_22['Hialinose_presente'][i]                                     = 1\n",
    "        df_22['Hialinose_presente_em_arteriolas'][i]                       = 0\n",
    "        df_22['Hialinose_presente_em_arteriolas_aferentes_e_eferentes'][i] = 0\n",
    "    elif coluna[i] == 'presente em arteríolas':\n",
    "        df_22['Hialinose_ausente'][i]                                      = 0\n",
    "        df_22['Hialinose_presente'][i]                                     = 0\n",
    "        df_22['Hialinose_presente_em_arteriolas'][i]                       = 1\n",
    "        df_22['Hialinose_presente_em_arteriolas_aferentes_e_eferentes'][i] = 0\n",
    "    else :\n",
    "        df_22['Hialinose_ausente'][i]                                      = 0\n",
    "        df_22['Hialinose_presente'][i]                                     = 0\n",
    "        df_22['Hialinose_presente_em_arteriolas'][i]                       = 0\n",
    "        df_22['Hialinose_presente_em_arteriolas_aferentes_e_eferentes'][i] = 1"
   ]
  },
  {
   "cell_type": "code",
   "execution_count": 265,
   "metadata": {},
   "outputs": [
    {
     "data": {
      "text/html": [
       "<div>\n",
       "<style scoped>\n",
       "    .dataframe tbody tr th:only-of-type {\n",
       "        vertical-align: middle;\n",
       "    }\n",
       "\n",
       "    .dataframe tbody tr th {\n",
       "        vertical-align: top;\n",
       "    }\n",
       "\n",
       "    .dataframe thead th {\n",
       "        text-align: right;\n",
       "    }\n",
       "</style>\n",
       "<table border=\"1\" class=\"dataframe\">\n",
       "  <thead>\n",
       "    <tr style=\"text-align: right;\">\n",
       "      <th></th>\n",
       "      <th>Hialinose_ausente</th>\n",
       "      <th>Hialinose_presente</th>\n",
       "      <th>Hialinose_presente_em_arteriolas</th>\n",
       "      <th>Hialinose_presente_em_arteriolas_aferentes_e_eferentes</th>\n",
       "    </tr>\n",
       "  </thead>\n",
       "  <tbody>\n",
       "    <tr>\n",
       "      <th>0</th>\n",
       "      <td>1</td>\n",
       "      <td>0</td>\n",
       "      <td>0</td>\n",
       "      <td>0</td>\n",
       "    </tr>\n",
       "    <tr>\n",
       "      <th>1</th>\n",
       "      <td>1</td>\n",
       "      <td>0</td>\n",
       "      <td>0</td>\n",
       "      <td>0</td>\n",
       "    </tr>\n",
       "    <tr>\n",
       "      <th>2</th>\n",
       "      <td>1</td>\n",
       "      <td>0</td>\n",
       "      <td>0</td>\n",
       "      <td>0</td>\n",
       "    </tr>\n",
       "    <tr>\n",
       "      <th>3</th>\n",
       "      <td>1</td>\n",
       "      <td>0</td>\n",
       "      <td>0</td>\n",
       "      <td>0</td>\n",
       "    </tr>\n",
       "    <tr>\n",
       "      <th>4</th>\n",
       "      <td>1</td>\n",
       "      <td>0</td>\n",
       "      <td>0</td>\n",
       "      <td>0</td>\n",
       "    </tr>\n",
       "  </tbody>\n",
       "</table>\n",
       "</div>"
      ],
      "text/plain": [
       "  Hialinose_ausente Hialinose_presente Hialinose_presente_em_arteriolas  \\\n",
       "0                 1                  0                                0   \n",
       "1                 1                  0                                0   \n",
       "2                 1                  0                                0   \n",
       "3                 1                  0                                0   \n",
       "4                 1                  0                                0   \n",
       "\n",
       "  Hialinose_presente_em_arteriolas_aferentes_e_eferentes  \n",
       "0                                                  0      \n",
       "1                                                  0      \n",
       "2                                                  0      \n",
       "3                                                  0      \n",
       "4                                                  0      "
      ]
     },
     "execution_count": 265,
     "metadata": {},
     "output_type": "execute_result"
    }
   ],
   "source": [
    "contador = 0\n",
    "while contador < 100:\n",
    "    preencher22(base_01['Hialinose'], contador)\n",
    "    contador += 1\n",
    "\n",
    "df_22.head()"
   ]
  },
  {
   "cell_type": "code",
   "execution_count": 266,
   "metadata": {},
   "outputs": [
    {
     "data": {
      "text/plain": [
       "ausente                                         84\n",
       "presente                                         6\n",
       "presente em arteríolas aferentes e eferentes     6\n",
       "presente em arteríolas                           4\n",
       "Name: Hialinose, dtype: int64"
      ]
     },
     "execution_count": 266,
     "metadata": {},
     "output_type": "execute_result"
    }
   ],
   "source": [
    "base_01['Hialinose'].value_counts()"
   ]
  },
  {
   "cell_type": "code",
   "execution_count": 267,
   "metadata": {},
   "outputs": [
    {
     "data": {
      "text/plain": [
       "84"
      ]
     },
     "execution_count": 267,
     "metadata": {},
     "output_type": "execute_result"
    }
   ],
   "source": [
    "len(df_22[df_22['Hialinose_ausente'] == 1])"
   ]
  },
  {
   "cell_type": "code",
   "execution_count": 268,
   "metadata": {},
   "outputs": [
    {
     "data": {
      "text/plain": [
       "6"
      ]
     },
     "execution_count": 268,
     "metadata": {},
     "output_type": "execute_result"
    }
   ],
   "source": [
    "len(df_22[df_22['Hialinose_presente_em_arteriolas_aferentes_e_eferentes'] == 1])"
   ]
  },
  {
   "cell_type": "code",
   "execution_count": 269,
   "metadata": {},
   "outputs": [
    {
     "data": {
      "text/plain": [
       "6"
      ]
     },
     "execution_count": 269,
     "metadata": {},
     "output_type": "execute_result"
    }
   ],
   "source": [
    "len(df_22[df_22['Hialinose_presente'] == 1])"
   ]
  },
  {
   "cell_type": "code",
   "execution_count": 270,
   "metadata": {},
   "outputs": [
    {
     "data": {
      "text/plain": [
       "4"
      ]
     },
     "execution_count": 270,
     "metadata": {},
     "output_type": "execute_result"
    }
   ],
   "source": [
    "len(df_22[df_22['Hialinose_presente_em_arteriolas'] == 1])"
   ]
  },
  {
   "cell_type": "markdown",
   "metadata": {},
   "source": [
    "Necrose Fibrinóide"
   ]
  },
  {
   "cell_type": "code",
   "execution_count": 271,
   "metadata": {},
   "outputs": [
    {
     "data": {
      "text/html": [
       "<div>\n",
       "<style scoped>\n",
       "    .dataframe tbody tr th:only-of-type {\n",
       "        vertical-align: middle;\n",
       "    }\n",
       "\n",
       "    .dataframe tbody tr th {\n",
       "        vertical-align: top;\n",
       "    }\n",
       "\n",
       "    .dataframe thead th {\n",
       "        text-align: right;\n",
       "    }\n",
       "</style>\n",
       "<table border=\"1\" class=\"dataframe\">\n",
       "  <thead>\n",
       "    <tr style=\"text-align: right;\">\n",
       "      <th></th>\n",
       "      <th>Necrose_Fibrinoide_ausente</th>\n",
       "      <th>Necrose_Fibrinoide_presente</th>\n",
       "    </tr>\n",
       "  </thead>\n",
       "  <tbody>\n",
       "    <tr>\n",
       "      <th>0</th>\n",
       "      <td>NaN</td>\n",
       "      <td>NaN</td>\n",
       "    </tr>\n",
       "    <tr>\n",
       "      <th>1</th>\n",
       "      <td>NaN</td>\n",
       "      <td>NaN</td>\n",
       "    </tr>\n",
       "    <tr>\n",
       "      <th>2</th>\n",
       "      <td>NaN</td>\n",
       "      <td>NaN</td>\n",
       "    </tr>\n",
       "    <tr>\n",
       "      <th>3</th>\n",
       "      <td>NaN</td>\n",
       "      <td>NaN</td>\n",
       "    </tr>\n",
       "    <tr>\n",
       "      <th>4</th>\n",
       "      <td>NaN</td>\n",
       "      <td>NaN</td>\n",
       "    </tr>\n",
       "  </tbody>\n",
       "</table>\n",
       "</div>"
      ],
      "text/plain": [
       "  Necrose_Fibrinoide_ausente Necrose_Fibrinoide_presente\n",
       "0                        NaN                         NaN\n",
       "1                        NaN                         NaN\n",
       "2                        NaN                         NaN\n",
       "3                        NaN                         NaN\n",
       "4                        NaN                         NaN"
      ]
     },
     "execution_count": 271,
     "metadata": {},
     "output_type": "execute_result"
    }
   ],
   "source": [
    "df_23 = pd.DataFrame(index = indices, columns = Necrose_Fibrinoide)\n",
    "df_23.head()"
   ]
  },
  {
   "cell_type": "code",
   "execution_count": 272,
   "metadata": {},
   "outputs": [
    {
     "data": {
      "text/plain": [
       "array(['ausente', 'presente'], dtype=object)"
      ]
     },
     "execution_count": 272,
     "metadata": {},
     "output_type": "execute_result"
    }
   ],
   "source": [
    "np.unique(base_01['Necrose Fibrinóide'])"
   ]
  },
  {
   "cell_type": "code",
   "execution_count": 273,
   "metadata": {},
   "outputs": [
    {
     "data": {
      "text/plain": [
       "Index(['Necrose_Fibrinoide_ausente', 'Necrose_Fibrinoide_presente'], dtype='object')"
      ]
     },
     "execution_count": 273,
     "metadata": {},
     "output_type": "execute_result"
    }
   ],
   "source": [
    "df_23.columns"
   ]
  },
  {
   "cell_type": "code",
   "execution_count": 274,
   "metadata": {},
   "outputs": [],
   "source": [
    "def preencher23(coluna, i):\n",
    "    if coluna[i] == 'ausente':\n",
    "        df_23['Necrose_Fibrinoide_ausente'][i]  = 1\n",
    "        df_23['Necrose_Fibrinoide_presente'][i] = 0\n",
    "    else :\n",
    "        df_23['Necrose_Fibrinoide_ausente'][i]  = 0\n",
    "        df_23['Necrose_Fibrinoide_presente'][i] = 1"
   ]
  },
  {
   "cell_type": "code",
   "execution_count": 275,
   "metadata": {},
   "outputs": [
    {
     "data": {
      "text/html": [
       "<div>\n",
       "<style scoped>\n",
       "    .dataframe tbody tr th:only-of-type {\n",
       "        vertical-align: middle;\n",
       "    }\n",
       "\n",
       "    .dataframe tbody tr th {\n",
       "        vertical-align: top;\n",
       "    }\n",
       "\n",
       "    .dataframe thead th {\n",
       "        text-align: right;\n",
       "    }\n",
       "</style>\n",
       "<table border=\"1\" class=\"dataframe\">\n",
       "  <thead>\n",
       "    <tr style=\"text-align: right;\">\n",
       "      <th></th>\n",
       "      <th>Necrose_Fibrinoide_ausente</th>\n",
       "      <th>Necrose_Fibrinoide_presente</th>\n",
       "    </tr>\n",
       "  </thead>\n",
       "  <tbody>\n",
       "    <tr>\n",
       "      <th>0</th>\n",
       "      <td>1</td>\n",
       "      <td>0</td>\n",
       "    </tr>\n",
       "    <tr>\n",
       "      <th>1</th>\n",
       "      <td>1</td>\n",
       "      <td>0</td>\n",
       "    </tr>\n",
       "    <tr>\n",
       "      <th>2</th>\n",
       "      <td>1</td>\n",
       "      <td>0</td>\n",
       "    </tr>\n",
       "    <tr>\n",
       "      <th>3</th>\n",
       "      <td>1</td>\n",
       "      <td>0</td>\n",
       "    </tr>\n",
       "    <tr>\n",
       "      <th>4</th>\n",
       "      <td>1</td>\n",
       "      <td>0</td>\n",
       "    </tr>\n",
       "  </tbody>\n",
       "</table>\n",
       "</div>"
      ],
      "text/plain": [
       "  Necrose_Fibrinoide_ausente Necrose_Fibrinoide_presente\n",
       "0                          1                           0\n",
       "1                          1                           0\n",
       "2                          1                           0\n",
       "3                          1                           0\n",
       "4                          1                           0"
      ]
     },
     "execution_count": 275,
     "metadata": {},
     "output_type": "execute_result"
    }
   ],
   "source": [
    "contador = 0\n",
    "while contador < 100:\n",
    "    preencher23(base_01['Necrose Fibrinóide'], contador)\n",
    "    contador += 1\n",
    "\n",
    "df_23.head()"
   ]
  },
  {
   "cell_type": "code",
   "execution_count": 276,
   "metadata": {},
   "outputs": [
    {
     "data": {
      "text/plain": [
       "ausente     99\n",
       "presente     1\n",
       "Name: Necrose Fibrinóide, dtype: int64"
      ]
     },
     "execution_count": 276,
     "metadata": {},
     "output_type": "execute_result"
    }
   ],
   "source": [
    "base_01['Necrose Fibrinóide'].value_counts()"
   ]
  },
  {
   "cell_type": "code",
   "execution_count": 277,
   "metadata": {},
   "outputs": [
    {
     "data": {
      "text/plain": [
       "99"
      ]
     },
     "execution_count": 277,
     "metadata": {},
     "output_type": "execute_result"
    }
   ],
   "source": [
    "len(df_23[df_23['Necrose_Fibrinoide_ausente'] == 1])"
   ]
  },
  {
   "cell_type": "code",
   "execution_count": 278,
   "metadata": {},
   "outputs": [
    {
     "data": {
      "text/plain": [
       "1"
      ]
     },
     "execution_count": 278,
     "metadata": {},
     "output_type": "execute_result"
    }
   ],
   "source": [
    "len(df_23[df_23['Necrose_Fibrinoide_presente'] == 1])"
   ]
  },
  {
   "cell_type": "markdown",
   "metadata": {},
   "source": [
    "Imunofluorescência"
   ]
  },
  {
   "cell_type": "code",
   "execution_count": 279,
   "metadata": {},
   "outputs": [
    {
     "data": {
      "text/html": [
       "<div>\n",
       "<style scoped>\n",
       "    .dataframe tbody tr th:only-of-type {\n",
       "        vertical-align: middle;\n",
       "    }\n",
       "\n",
       "    .dataframe tbody tr th {\n",
       "        vertical-align: top;\n",
       "    }\n",
       "\n",
       "    .dataframe thead th {\n",
       "        text-align: right;\n",
       "    }\n",
       "</style>\n",
       "<table border=\"1\" class=\"dataframe\">\n",
       "  <thead>\n",
       "    <tr style=\"text-align: right;\">\n",
       "      <th></th>\n",
       "      <th>Imunofluorescencia_negativa</th>\n",
       "      <th>Imunofluorescencia_nao_realizada</th>\n",
       "      <th>Imunofluorescencia_positiva</th>\n",
       "    </tr>\n",
       "  </thead>\n",
       "  <tbody>\n",
       "    <tr>\n",
       "      <th>0</th>\n",
       "      <td>NaN</td>\n",
       "      <td>NaN</td>\n",
       "      <td>NaN</td>\n",
       "    </tr>\n",
       "    <tr>\n",
       "      <th>1</th>\n",
       "      <td>NaN</td>\n",
       "      <td>NaN</td>\n",
       "      <td>NaN</td>\n",
       "    </tr>\n",
       "    <tr>\n",
       "      <th>2</th>\n",
       "      <td>NaN</td>\n",
       "      <td>NaN</td>\n",
       "      <td>NaN</td>\n",
       "    </tr>\n",
       "    <tr>\n",
       "      <th>3</th>\n",
       "      <td>NaN</td>\n",
       "      <td>NaN</td>\n",
       "      <td>NaN</td>\n",
       "    </tr>\n",
       "    <tr>\n",
       "      <th>4</th>\n",
       "      <td>NaN</td>\n",
       "      <td>NaN</td>\n",
       "      <td>NaN</td>\n",
       "    </tr>\n",
       "  </tbody>\n",
       "</table>\n",
       "</div>"
      ],
      "text/plain": [
       "  Imunofluorescencia_negativa Imunofluorescencia_nao_realizada  \\\n",
       "0                         NaN                              NaN   \n",
       "1                         NaN                              NaN   \n",
       "2                         NaN                              NaN   \n",
       "3                         NaN                              NaN   \n",
       "4                         NaN                              NaN   \n",
       "\n",
       "  Imunofluorescencia_positiva  \n",
       "0                         NaN  \n",
       "1                         NaN  \n",
       "2                         NaN  \n",
       "3                         NaN  \n",
       "4                         NaN  "
      ]
     },
     "execution_count": 279,
     "metadata": {},
     "output_type": "execute_result"
    }
   ],
   "source": [
    "df_24 = pd.DataFrame(index = indices, columns = Imunofluorescencia)\n",
    "df_24.head()"
   ]
  },
  {
   "cell_type": "code",
   "execution_count": 280,
   "metadata": {},
   "outputs": [
    {
     "data": {
      "text/plain": [
       "array(['negativa', 'não realizada', 'positiva'], dtype=object)"
      ]
     },
     "execution_count": 280,
     "metadata": {},
     "output_type": "execute_result"
    }
   ],
   "source": [
    "np.unique(base_01['IMUNOFLUORESCÊNCIA'])"
   ]
  },
  {
   "cell_type": "code",
   "execution_count": 281,
   "metadata": {},
   "outputs": [
    {
     "data": {
      "text/plain": [
       "Index(['Imunofluorescencia_negativa', 'Imunofluorescencia_nao_realizada',\n",
       "       'Imunofluorescencia_positiva'],\n",
       "      dtype='object')"
      ]
     },
     "execution_count": 281,
     "metadata": {},
     "output_type": "execute_result"
    }
   ],
   "source": [
    "df_24.columns"
   ]
  },
  {
   "cell_type": "code",
   "execution_count": 282,
   "metadata": {},
   "outputs": [],
   "source": [
    "def preencher24(coluna, i):\n",
    "    if coluna[i] == 'negativa':\n",
    "        df_24['Imunofluorescencia_negativa'][i]      = 1\n",
    "        df_24['Imunofluorescencia_nao_realizada'][i] = 0\n",
    "        df_24['Imunofluorescencia_positiva'][i]      = 0\n",
    "    elif coluna[i] == 'não realizada':\n",
    "        df_24['Imunofluorescencia_negativa'][i]      = 0\n",
    "        df_24['Imunofluorescencia_nao_realizada'][i] = 1\n",
    "        df_24['Imunofluorescencia_positiva'][i]      = 0\n",
    "    else :\n",
    "        df_24['Imunofluorescencia_negativa'][i]      = 0\n",
    "        df_24['Imunofluorescencia_nao_realizada'][i] = 0\n",
    "        df_24['Imunofluorescencia_positiva'][i]      = 1"
   ]
  },
  {
   "cell_type": "code",
   "execution_count": 283,
   "metadata": {},
   "outputs": [
    {
     "data": {
      "text/html": [
       "<div>\n",
       "<style scoped>\n",
       "    .dataframe tbody tr th:only-of-type {\n",
       "        vertical-align: middle;\n",
       "    }\n",
       "\n",
       "    .dataframe tbody tr th {\n",
       "        vertical-align: top;\n",
       "    }\n",
       "\n",
       "    .dataframe thead th {\n",
       "        text-align: right;\n",
       "    }\n",
       "</style>\n",
       "<table border=\"1\" class=\"dataframe\">\n",
       "  <thead>\n",
       "    <tr style=\"text-align: right;\">\n",
       "      <th></th>\n",
       "      <th>Imunofluorescencia_negativa</th>\n",
       "      <th>Imunofluorescencia_nao_realizada</th>\n",
       "      <th>Imunofluorescencia_positiva</th>\n",
       "    </tr>\n",
       "  </thead>\n",
       "  <tbody>\n",
       "    <tr>\n",
       "      <th>0</th>\n",
       "      <td>1</td>\n",
       "      <td>0</td>\n",
       "      <td>0</td>\n",
       "    </tr>\n",
       "    <tr>\n",
       "      <th>1</th>\n",
       "      <td>1</td>\n",
       "      <td>0</td>\n",
       "      <td>0</td>\n",
       "    </tr>\n",
       "    <tr>\n",
       "      <th>2</th>\n",
       "      <td>0</td>\n",
       "      <td>0</td>\n",
       "      <td>1</td>\n",
       "    </tr>\n",
       "    <tr>\n",
       "      <th>3</th>\n",
       "      <td>0</td>\n",
       "      <td>0</td>\n",
       "      <td>1</td>\n",
       "    </tr>\n",
       "    <tr>\n",
       "      <th>4</th>\n",
       "      <td>0</td>\n",
       "      <td>0</td>\n",
       "      <td>1</td>\n",
       "    </tr>\n",
       "  </tbody>\n",
       "</table>\n",
       "</div>"
      ],
      "text/plain": [
       "  Imunofluorescencia_negativa Imunofluorescencia_nao_realizada  \\\n",
       "0                           1                                0   \n",
       "1                           1                                0   \n",
       "2                           0                                0   \n",
       "3                           0                                0   \n",
       "4                           0                                0   \n",
       "\n",
       "  Imunofluorescencia_positiva  \n",
       "0                           0  \n",
       "1                           0  \n",
       "2                           1  \n",
       "3                           1  \n",
       "4                           1  "
      ]
     },
     "execution_count": 283,
     "metadata": {},
     "output_type": "execute_result"
    }
   ],
   "source": [
    "contador = 0\n",
    "while contador < 100:\n",
    "    preencher24(base_01['IMUNOFLUORESCÊNCIA'], contador)\n",
    "    contador += 1\n",
    "\n",
    "df_24.head()"
   ]
  },
  {
   "cell_type": "code",
   "execution_count": 284,
   "metadata": {},
   "outputs": [
    {
     "data": {
      "text/plain": [
       "positiva         82\n",
       "negativa         17\n",
       "não realizada     1\n",
       "Name: IMUNOFLUORESCÊNCIA, dtype: int64"
      ]
     },
     "execution_count": 284,
     "metadata": {},
     "output_type": "execute_result"
    }
   ],
   "source": [
    "base_01['IMUNOFLUORESCÊNCIA'].value_counts()"
   ]
  },
  {
   "cell_type": "code",
   "execution_count": 285,
   "metadata": {},
   "outputs": [
    {
     "data": {
      "text/plain": [
       "82"
      ]
     },
     "execution_count": 285,
     "metadata": {},
     "output_type": "execute_result"
    }
   ],
   "source": [
    "len(df_24[df_24['Imunofluorescencia_positiva'] == 1])"
   ]
  },
  {
   "cell_type": "code",
   "execution_count": 286,
   "metadata": {},
   "outputs": [
    {
     "data": {
      "text/plain": [
       "17"
      ]
     },
     "execution_count": 286,
     "metadata": {},
     "output_type": "execute_result"
    }
   ],
   "source": [
    "len(df_24[df_24['Imunofluorescencia_negativa'] == 1])"
   ]
  },
  {
   "cell_type": "code",
   "execution_count": 287,
   "metadata": {},
   "outputs": [
    {
     "data": {
      "text/plain": [
       "1"
      ]
     },
     "execution_count": 287,
     "metadata": {},
     "output_type": "execute_result"
    }
   ],
   "source": [
    "len(df_24[df_24['Imunofluorescencia_nao_realizada'] == 1])"
   ]
  },
  {
   "cell_type": "markdown",
   "metadata": {},
   "source": [
    "Padrão de Deposição"
   ]
  },
  {
   "cell_type": "code",
   "execution_count": 288,
   "metadata": {},
   "outputs": [
    {
     "data": {
      "text/html": [
       "<div>\n",
       "<style scoped>\n",
       "    .dataframe tbody tr th:only-of-type {\n",
       "        vertical-align: middle;\n",
       "    }\n",
       "\n",
       "    .dataframe tbody tr th {\n",
       "        vertical-align: top;\n",
       "    }\n",
       "\n",
       "    .dataframe thead th {\n",
       "        text-align: right;\n",
       "    }\n",
       "</style>\n",
       "<table border=\"1\" class=\"dataframe\">\n",
       "  <thead>\n",
       "    <tr style=\"text-align: right;\">\n",
       "      <th></th>\n",
       "      <th>Padrao_de_deposicao_aprisionado_no_crescente</th>\n",
       "      <th>Padrao_de_deposicao_granular_em_alca_capilar</th>\n",
       "      <th>Padrao_de_deposicao_granular_em_mesangio</th>\n",
       "      <th>Padrao_de_deposicao_granular_em_mesangio_e_em_alca_capilar</th>\n",
       "      <th>Padrao_de_deposicao_granular_em_mesangio_e_linear_em_membrana_basal</th>\n",
       "      <th>Padrao_de_deposicao_granular_grosseiro_(tipo_ceu_estrelado)</th>\n",
       "      <th>Padrao_de_deposicao_linear</th>\n",
       "      <th>Padrao_de_deposicao_negativa</th>\n",
       "      <th>Padrao_de_deposicao_nao_realizada</th>\n",
       "      <th>Padrao_de_deposicao_segmentar</th>\n",
       "    </tr>\n",
       "  </thead>\n",
       "  <tbody>\n",
       "    <tr>\n",
       "      <th>0</th>\n",
       "      <td>NaN</td>\n",
       "      <td>NaN</td>\n",
       "      <td>NaN</td>\n",
       "      <td>NaN</td>\n",
       "      <td>NaN</td>\n",
       "      <td>NaN</td>\n",
       "      <td>NaN</td>\n",
       "      <td>NaN</td>\n",
       "      <td>NaN</td>\n",
       "      <td>NaN</td>\n",
       "    </tr>\n",
       "    <tr>\n",
       "      <th>1</th>\n",
       "      <td>NaN</td>\n",
       "      <td>NaN</td>\n",
       "      <td>NaN</td>\n",
       "      <td>NaN</td>\n",
       "      <td>NaN</td>\n",
       "      <td>NaN</td>\n",
       "      <td>NaN</td>\n",
       "      <td>NaN</td>\n",
       "      <td>NaN</td>\n",
       "      <td>NaN</td>\n",
       "    </tr>\n",
       "    <tr>\n",
       "      <th>2</th>\n",
       "      <td>NaN</td>\n",
       "      <td>NaN</td>\n",
       "      <td>NaN</td>\n",
       "      <td>NaN</td>\n",
       "      <td>NaN</td>\n",
       "      <td>NaN</td>\n",
       "      <td>NaN</td>\n",
       "      <td>NaN</td>\n",
       "      <td>NaN</td>\n",
       "      <td>NaN</td>\n",
       "    </tr>\n",
       "    <tr>\n",
       "      <th>3</th>\n",
       "      <td>NaN</td>\n",
       "      <td>NaN</td>\n",
       "      <td>NaN</td>\n",
       "      <td>NaN</td>\n",
       "      <td>NaN</td>\n",
       "      <td>NaN</td>\n",
       "      <td>NaN</td>\n",
       "      <td>NaN</td>\n",
       "      <td>NaN</td>\n",
       "      <td>NaN</td>\n",
       "    </tr>\n",
       "    <tr>\n",
       "      <th>4</th>\n",
       "      <td>NaN</td>\n",
       "      <td>NaN</td>\n",
       "      <td>NaN</td>\n",
       "      <td>NaN</td>\n",
       "      <td>NaN</td>\n",
       "      <td>NaN</td>\n",
       "      <td>NaN</td>\n",
       "      <td>NaN</td>\n",
       "      <td>NaN</td>\n",
       "      <td>NaN</td>\n",
       "    </tr>\n",
       "  </tbody>\n",
       "</table>\n",
       "</div>"
      ],
      "text/plain": [
       "  Padrao_de_deposicao_aprisionado_no_crescente  \\\n",
       "0                                          NaN   \n",
       "1                                          NaN   \n",
       "2                                          NaN   \n",
       "3                                          NaN   \n",
       "4                                          NaN   \n",
       "\n",
       "  Padrao_de_deposicao_granular_em_alca_capilar  \\\n",
       "0                                          NaN   \n",
       "1                                          NaN   \n",
       "2                                          NaN   \n",
       "3                                          NaN   \n",
       "4                                          NaN   \n",
       "\n",
       "  Padrao_de_deposicao_granular_em_mesangio  \\\n",
       "0                                      NaN   \n",
       "1                                      NaN   \n",
       "2                                      NaN   \n",
       "3                                      NaN   \n",
       "4                                      NaN   \n",
       "\n",
       "  Padrao_de_deposicao_granular_em_mesangio_e_em_alca_capilar  \\\n",
       "0                                                NaN           \n",
       "1                                                NaN           \n",
       "2                                                NaN           \n",
       "3                                                NaN           \n",
       "4                                                NaN           \n",
       "\n",
       "  Padrao_de_deposicao_granular_em_mesangio_e_linear_em_membrana_basal  \\\n",
       "0                                                NaN                    \n",
       "1                                                NaN                    \n",
       "2                                                NaN                    \n",
       "3                                                NaN                    \n",
       "4                                                NaN                    \n",
       "\n",
       "  Padrao_de_deposicao_granular_grosseiro_(tipo_ceu_estrelado)  \\\n",
       "0                                                NaN            \n",
       "1                                                NaN            \n",
       "2                                                NaN            \n",
       "3                                                NaN            \n",
       "4                                                NaN            \n",
       "\n",
       "  Padrao_de_deposicao_linear Padrao_de_deposicao_negativa  \\\n",
       "0                        NaN                          NaN   \n",
       "1                        NaN                          NaN   \n",
       "2                        NaN                          NaN   \n",
       "3                        NaN                          NaN   \n",
       "4                        NaN                          NaN   \n",
       "\n",
       "  Padrao_de_deposicao_nao_realizada Padrao_de_deposicao_segmentar  \n",
       "0                               NaN                           NaN  \n",
       "1                               NaN                           NaN  \n",
       "2                               NaN                           NaN  \n",
       "3                               NaN                           NaN  \n",
       "4                               NaN                           NaN  "
      ]
     },
     "execution_count": 288,
     "metadata": {},
     "output_type": "execute_result"
    }
   ],
   "source": [
    "df_25 = pd.DataFrame(index = indices, columns = Padrao_de_deposicao)\n",
    "df_25.head()"
   ]
  },
  {
   "cell_type": "code",
   "execution_count": 289,
   "metadata": {},
   "outputs": [
    {
     "data": {
      "text/plain": [
       "array(['aprisionado no crescente', 'granular em alça capilar',\n",
       "       'granular em mesângio', 'granular em mesângio e em alça capilar',\n",
       "       'granular em mesângio e linear em membrana basal',\n",
       "       'granular grosseiro (tipo céu estrelado)', 'linear', 'negativa',\n",
       "       'não realizada', 'segmentar'], dtype=object)"
      ]
     },
     "execution_count": 289,
     "metadata": {},
     "output_type": "execute_result"
    }
   ],
   "source": [
    "np.unique(base_01['padrão de deposição'])"
   ]
  },
  {
   "cell_type": "code",
   "execution_count": 290,
   "metadata": {},
   "outputs": [
    {
     "data": {
      "text/plain": [
       "Index(['Padrao_de_deposicao_aprisionado_no_crescente',\n",
       "       'Padrao_de_deposicao_granular_em_alca_capilar',\n",
       "       'Padrao_de_deposicao_granular_em_mesangio',\n",
       "       'Padrao_de_deposicao_granular_em_mesangio_e_em_alca_capilar',\n",
       "       'Padrao_de_deposicao_granular_em_mesangio_e_linear_em_membrana_basal',\n",
       "       'Padrao_de_deposicao_granular_grosseiro_(tipo_ceu_estrelado)',\n",
       "       'Padrao_de_deposicao_linear', 'Padrao_de_deposicao_negativa',\n",
       "       'Padrao_de_deposicao_nao_realizada', 'Padrao_de_deposicao_segmentar'],\n",
       "      dtype='object')"
      ]
     },
     "execution_count": 290,
     "metadata": {},
     "output_type": "execute_result"
    }
   ],
   "source": [
    "df_25.columns"
   ]
  },
  {
   "cell_type": "code",
   "execution_count": 291,
   "metadata": {},
   "outputs": [],
   "source": [
    "def preencher25(coluna, i):\n",
    "    if coluna[i] == 'aprisionado no crescente':\n",
    "        df_25['Padrao_de_deposicao_aprisionado_no_crescente'][i]                        = 1\n",
    "        df_25['Padrao_de_deposicao_granular_em_alca_capilar'][i]                        = 0\n",
    "        df_25['Padrao_de_deposicao_granular_em_mesangio'][i]                            = 0\n",
    "        df_25['Padrao_de_deposicao_granular_em_mesangio_e_em_alca_capilar'][i]          = 0\n",
    "        df_25['Padrao_de_deposicao_granular_em_mesangio_e_linear_em_membrana_basal'][i] = 0\n",
    "        df_25['Padrao_de_deposicao_granular_grosseiro_(tipo_ceu_estrelado)'][i]         = 0\n",
    "        df_25['Padrao_de_deposicao_linear'][i]                                          = 0\n",
    "        df_25['Padrao_de_deposicao_negativa'][i]                                        = 0\n",
    "        df_25['Padrao_de_deposicao_nao_realizada'][i]                                   = 0\n",
    "        df_25['Padrao_de_deposicao_segmentar'][i]                                       = 0\n",
    "    elif coluna[i] == 'granular em alça capilar':\n",
    "        df_25['Padrao_de_deposicao_aprisionado_no_crescente'][i]                        = 0\n",
    "        df_25['Padrao_de_deposicao_granular_em_alca_capilar'][i]                        = 1\n",
    "        df_25['Padrao_de_deposicao_granular_em_mesangio'][i]                            = 0\n",
    "        df_25['Padrao_de_deposicao_granular_em_mesangio_e_em_alca_capilar'][i]          = 0\n",
    "        df_25['Padrao_de_deposicao_granular_em_mesangio_e_linear_em_membrana_basal'][i] = 0\n",
    "        df_25['Padrao_de_deposicao_granular_grosseiro_(tipo_ceu_estrelado)'][i]         = 0\n",
    "        df_25['Padrao_de_deposicao_linear'][i]                                          = 0\n",
    "        df_25['Padrao_de_deposicao_negativa'][i]                                        = 0\n",
    "        df_25['Padrao_de_deposicao_nao_realizada'][i]                                   = 0\n",
    "        df_25['Padrao_de_deposicao_segmentar'][i]                                       = 0\n",
    "    elif coluna[i] == 'granular em mesângio':\n",
    "        df_25['Padrao_de_deposicao_aprisionado_no_crescente'][i]                        = 0\n",
    "        df_25['Padrao_de_deposicao_granular_em_alca_capilar'][i]                        = 0\n",
    "        df_25['Padrao_de_deposicao_granular_em_mesangio'][i]                            = 1\n",
    "        df_25['Padrao_de_deposicao_granular_em_mesangio_e_em_alca_capilar'][i]          = 0\n",
    "        df_25['Padrao_de_deposicao_granular_em_mesangio_e_linear_em_membrana_basal'][i] = 0\n",
    "        df_25['Padrao_de_deposicao_granular_grosseiro_(tipo_ceu_estrelado)'][i]         = 0\n",
    "        df_25['Padrao_de_deposicao_linear'][i]                                          = 0\n",
    "        df_25['Padrao_de_deposicao_negativa'][i]                                        = 0\n",
    "        df_25['Padrao_de_deposicao_nao_realizada'][i]                                   = 0\n",
    "        df_25['Padrao_de_deposicao_segmentar'][i]                                       = 0\n",
    "    elif coluna[i] == 'granular em mesângio e em alça capilar':\n",
    "        df_25['Padrao_de_deposicao_aprisionado_no_crescente'][i]                        = 0\n",
    "        df_25['Padrao_de_deposicao_granular_em_alca_capilar'][i]                        = 0\n",
    "        df_25['Padrao_de_deposicao_granular_em_mesangio'][i]                            = 0\n",
    "        df_25['Padrao_de_deposicao_granular_em_mesangio_e_em_alca_capilar'][i]          = 1\n",
    "        df_25['Padrao_de_deposicao_granular_em_mesangio_e_linear_em_membrana_basal'][i] = 0\n",
    "        df_25['Padrao_de_deposicao_granular_grosseiro_(tipo_ceu_estrelado)'][i]         = 0\n",
    "        df_25['Padrao_de_deposicao_linear'][i]                                          = 0\n",
    "        df_25['Padrao_de_deposicao_negativa'][i]                                        = 0\n",
    "        df_25['Padrao_de_deposicao_nao_realizada'][i]                                   = 0\n",
    "        df_25['Padrao_de_deposicao_segmentar'][i]                                       = 0\n",
    "    elif coluna[i] == 'granular em mesângio e linear em membrana basal':\n",
    "        df_25['Padrao_de_deposicao_aprisionado_no_crescente'][i]                        = 0\n",
    "        df_25['Padrao_de_deposicao_granular_em_alca_capilar'][i]                        = 0\n",
    "        df_25['Padrao_de_deposicao_granular_em_mesangio'][i]                            = 0\n",
    "        df_25['Padrao_de_deposicao_granular_em_mesangio_e_em_alca_capilar'][i]          = 0\n",
    "        df_25['Padrao_de_deposicao_granular_em_mesangio_e_linear_em_membrana_basal'][i] = 1\n",
    "        df_25['Padrao_de_deposicao_granular_grosseiro_(tipo_ceu_estrelado)'][i]         = 0\n",
    "        df_25['Padrao_de_deposicao_linear'][i]                                          = 0\n",
    "        df_25['Padrao_de_deposicao_negativa'][i]                                        = 0\n",
    "        df_25['Padrao_de_deposicao_nao_realizada'][i]                                   = 0\n",
    "        df_25['Padrao_de_deposicao_segmentar'][i]                                       = 0\n",
    "    elif coluna[i] == 'granular grosseiro (tipo céu estrelado)':\n",
    "        df_25['Padrao_de_deposicao_aprisionado_no_crescente'][i]                        = 0\n",
    "        df_25['Padrao_de_deposicao_granular_em_alca_capilar'][i]                        = 0\n",
    "        df_25['Padrao_de_deposicao_granular_em_mesangio'][i]                            = 0\n",
    "        df_25['Padrao_de_deposicao_granular_em_mesangio_e_em_alca_capilar'][i]          = 0\n",
    "        df_25['Padrao_de_deposicao_granular_em_mesangio_e_linear_em_membrana_basal'][i] = 0\n",
    "        df_25['Padrao_de_deposicao_granular_grosseiro_(tipo_ceu_estrelado)'][i]         = 1\n",
    "        df_25['Padrao_de_deposicao_linear'][i]                                          = 0\n",
    "        df_25['Padrao_de_deposicao_negativa'][i]                                        = 0\n",
    "        df_25['Padrao_de_deposicao_nao_realizada'][i]                                   = 0\n",
    "        df_25['Padrao_de_deposicao_segmentar'][i]                                       = 0\n",
    "    elif coluna[i] == 'linear':\n",
    "        df_25['Padrao_de_deposicao_aprisionado_no_crescente'][i]                        = 0\n",
    "        df_25['Padrao_de_deposicao_granular_em_alca_capilar'][i]                        = 0\n",
    "        df_25['Padrao_de_deposicao_granular_em_mesangio'][i]                            = 0\n",
    "        df_25['Padrao_de_deposicao_granular_em_mesangio_e_em_alca_capilar'][i]          = 0\n",
    "        df_25['Padrao_de_deposicao_granular_em_mesangio_e_linear_em_membrana_basal'][i] = 0\n",
    "        df_25['Padrao_de_deposicao_granular_grosseiro_(tipo_ceu_estrelado)'][i]         = 0\n",
    "        df_25['Padrao_de_deposicao_linear'][i]                                          = 1\n",
    "        df_25['Padrao_de_deposicao_negativa'][i]                                        = 0\n",
    "        df_25['Padrao_de_deposicao_nao_realizada'][i]                                   = 0\n",
    "        df_25['Padrao_de_deposicao_segmentar'][i]                                       = 0\n",
    "    elif coluna[i] == 'negativa':\n",
    "        df_25['Padrao_de_deposicao_aprisionado_no_crescente'][i]                        = 0\n",
    "        df_25['Padrao_de_deposicao_granular_em_alca_capilar'][i]                        = 0\n",
    "        df_25['Padrao_de_deposicao_granular_em_mesangio'][i]                            = 0\n",
    "        df_25['Padrao_de_deposicao_granular_em_mesangio_e_em_alca_capilar'][i]          = 0\n",
    "        df_25['Padrao_de_deposicao_granular_em_mesangio_e_linear_em_membrana_basal'][i] = 0\n",
    "        df_25['Padrao_de_deposicao_granular_grosseiro_(tipo_ceu_estrelado)'][i]         = 0\n",
    "        df_25['Padrao_de_deposicao_linear'][i]                                          = 0\n",
    "        df_25['Padrao_de_deposicao_negativa'][i]                                        = 1\n",
    "        df_25['Padrao_de_deposicao_nao_realizada'][i]                                   = 0\n",
    "        df_25['Padrao_de_deposicao_segmentar'][i]                                       = 0\n",
    "    elif coluna[i] == 'não realizada':\n",
    "        df_25['Padrao_de_deposicao_aprisionado_no_crescente'][i]                        = 0\n",
    "        df_25['Padrao_de_deposicao_granular_em_alca_capilar'][i]                        = 0\n",
    "        df_25['Padrao_de_deposicao_granular_em_mesangio'][i]                            = 0\n",
    "        df_25['Padrao_de_deposicao_granular_em_mesangio_e_em_alca_capilar'][i]          = 0\n",
    "        df_25['Padrao_de_deposicao_granular_em_mesangio_e_linear_em_membrana_basal'][i] = 0\n",
    "        df_25['Padrao_de_deposicao_granular_grosseiro_(tipo_ceu_estrelado)'][i]         = 0\n",
    "        df_25['Padrao_de_deposicao_linear'][i]                                          = 0\n",
    "        df_25['Padrao_de_deposicao_negativa'][i]                                        = 0\n",
    "        df_25['Padrao_de_deposicao_nao_realizada'][i]                                   = 1\n",
    "        df_25['Padrao_de_deposicao_segmentar'][i]                                       = 0\n",
    "    else :\n",
    "        df_25['Padrao_de_deposicao_aprisionado_no_crescente'][i]                        = 0\n",
    "        df_25['Padrao_de_deposicao_granular_em_alca_capilar'][i]                        = 0\n",
    "        df_25['Padrao_de_deposicao_granular_em_mesangio'][i]                            = 0\n",
    "        df_25['Padrao_de_deposicao_granular_em_mesangio_e_em_alca_capilar'][i]          = 0\n",
    "        df_25['Padrao_de_deposicao_granular_em_mesangio_e_linear_em_membrana_basal'][i] = 0\n",
    "        df_25['Padrao_de_deposicao_granular_grosseiro_(tipo_ceu_estrelado)'][i]         = 0\n",
    "        df_25['Padrao_de_deposicao_linear'][i]                                          = 0\n",
    "        df_25['Padrao_de_deposicao_negativa'][i]                                        = 0\n",
    "        df_25['Padrao_de_deposicao_nao_realizada'][i]                                   = 0\n",
    "        df_25['Padrao_de_deposicao_segmentar'][i]                                       = 1"
   ]
  },
  {
   "cell_type": "code",
   "execution_count": 292,
   "metadata": {},
   "outputs": [
    {
     "data": {
      "text/html": [
       "<div>\n",
       "<style scoped>\n",
       "    .dataframe tbody tr th:only-of-type {\n",
       "        vertical-align: middle;\n",
       "    }\n",
       "\n",
       "    .dataframe tbody tr th {\n",
       "        vertical-align: top;\n",
       "    }\n",
       "\n",
       "    .dataframe thead th {\n",
       "        text-align: right;\n",
       "    }\n",
       "</style>\n",
       "<table border=\"1\" class=\"dataframe\">\n",
       "  <thead>\n",
       "    <tr style=\"text-align: right;\">\n",
       "      <th></th>\n",
       "      <th>Padrao_de_deposicao_aprisionado_no_crescente</th>\n",
       "      <th>Padrao_de_deposicao_granular_em_alca_capilar</th>\n",
       "      <th>Padrao_de_deposicao_granular_em_mesangio</th>\n",
       "      <th>Padrao_de_deposicao_granular_em_mesangio_e_em_alca_capilar</th>\n",
       "      <th>Padrao_de_deposicao_granular_em_mesangio_e_linear_em_membrana_basal</th>\n",
       "      <th>Padrao_de_deposicao_granular_grosseiro_(tipo_ceu_estrelado)</th>\n",
       "      <th>Padrao_de_deposicao_linear</th>\n",
       "      <th>Padrao_de_deposicao_negativa</th>\n",
       "      <th>Padrao_de_deposicao_nao_realizada</th>\n",
       "      <th>Padrao_de_deposicao_segmentar</th>\n",
       "    </tr>\n",
       "  </thead>\n",
       "  <tbody>\n",
       "    <tr>\n",
       "      <th>0</th>\n",
       "      <td>0</td>\n",
       "      <td>0</td>\n",
       "      <td>0</td>\n",
       "      <td>0</td>\n",
       "      <td>0</td>\n",
       "      <td>0</td>\n",
       "      <td>0</td>\n",
       "      <td>1</td>\n",
       "      <td>0</td>\n",
       "      <td>0</td>\n",
       "    </tr>\n",
       "    <tr>\n",
       "      <th>1</th>\n",
       "      <td>0</td>\n",
       "      <td>0</td>\n",
       "      <td>0</td>\n",
       "      <td>0</td>\n",
       "      <td>0</td>\n",
       "      <td>0</td>\n",
       "      <td>0</td>\n",
       "      <td>1</td>\n",
       "      <td>0</td>\n",
       "      <td>0</td>\n",
       "    </tr>\n",
       "    <tr>\n",
       "      <th>2</th>\n",
       "      <td>0</td>\n",
       "      <td>0</td>\n",
       "      <td>0</td>\n",
       "      <td>0</td>\n",
       "      <td>0</td>\n",
       "      <td>0</td>\n",
       "      <td>0</td>\n",
       "      <td>0</td>\n",
       "      <td>0</td>\n",
       "      <td>1</td>\n",
       "    </tr>\n",
       "    <tr>\n",
       "      <th>3</th>\n",
       "      <td>0</td>\n",
       "      <td>1</td>\n",
       "      <td>0</td>\n",
       "      <td>0</td>\n",
       "      <td>0</td>\n",
       "      <td>0</td>\n",
       "      <td>0</td>\n",
       "      <td>0</td>\n",
       "      <td>0</td>\n",
       "      <td>0</td>\n",
       "    </tr>\n",
       "    <tr>\n",
       "      <th>4</th>\n",
       "      <td>0</td>\n",
       "      <td>1</td>\n",
       "      <td>0</td>\n",
       "      <td>0</td>\n",
       "      <td>0</td>\n",
       "      <td>0</td>\n",
       "      <td>0</td>\n",
       "      <td>0</td>\n",
       "      <td>0</td>\n",
       "      <td>0</td>\n",
       "    </tr>\n",
       "  </tbody>\n",
       "</table>\n",
       "</div>"
      ],
      "text/plain": [
       "  Padrao_de_deposicao_aprisionado_no_crescente  \\\n",
       "0                                            0   \n",
       "1                                            0   \n",
       "2                                            0   \n",
       "3                                            0   \n",
       "4                                            0   \n",
       "\n",
       "  Padrao_de_deposicao_granular_em_alca_capilar  \\\n",
       "0                                            0   \n",
       "1                                            0   \n",
       "2                                            0   \n",
       "3                                            1   \n",
       "4                                            1   \n",
       "\n",
       "  Padrao_de_deposicao_granular_em_mesangio  \\\n",
       "0                                        0   \n",
       "1                                        0   \n",
       "2                                        0   \n",
       "3                                        0   \n",
       "4                                        0   \n",
       "\n",
       "  Padrao_de_deposicao_granular_em_mesangio_e_em_alca_capilar  \\\n",
       "0                                                  0           \n",
       "1                                                  0           \n",
       "2                                                  0           \n",
       "3                                                  0           \n",
       "4                                                  0           \n",
       "\n",
       "  Padrao_de_deposicao_granular_em_mesangio_e_linear_em_membrana_basal  \\\n",
       "0                                                  0                    \n",
       "1                                                  0                    \n",
       "2                                                  0                    \n",
       "3                                                  0                    \n",
       "4                                                  0                    \n",
       "\n",
       "  Padrao_de_deposicao_granular_grosseiro_(tipo_ceu_estrelado)  \\\n",
       "0                                                  0            \n",
       "1                                                  0            \n",
       "2                                                  0            \n",
       "3                                                  0            \n",
       "4                                                  0            \n",
       "\n",
       "  Padrao_de_deposicao_linear Padrao_de_deposicao_negativa  \\\n",
       "0                          0                            1   \n",
       "1                          0                            1   \n",
       "2                          0                            0   \n",
       "3                          0                            0   \n",
       "4                          0                            0   \n",
       "\n",
       "  Padrao_de_deposicao_nao_realizada Padrao_de_deposicao_segmentar  \n",
       "0                                 0                             0  \n",
       "1                                 0                             0  \n",
       "2                                 0                             1  \n",
       "3                                 0                             0  \n",
       "4                                 0                             0  "
      ]
     },
     "execution_count": 292,
     "metadata": {},
     "output_type": "execute_result"
    }
   ],
   "source": [
    "contador = 0\n",
    "while contador < 100:\n",
    "    preencher25(base_01['padrão de deposição'], contador)\n",
    "    contador += 1\n",
    "\n",
    "df_25.head()"
   ]
  },
  {
   "cell_type": "code",
   "execution_count": 293,
   "metadata": {},
   "outputs": [
    {
     "data": {
      "text/plain": [
       "granular em mesângio                               46\n",
       "negativa                                           17\n",
       "granular em alça capilar                           16\n",
       "granular em mesângio e em alça capilar             11\n",
       "linear                                              4\n",
       "granular grosseiro (tipo céu estrelado)             2\n",
       "aprisionado no crescente                            1\n",
       "não realizada                                       1\n",
       "segmentar                                           1\n",
       "granular em mesângio e linear em membrana basal     1\n",
       "Name: padrão de deposição, dtype: int64"
      ]
     },
     "execution_count": 293,
     "metadata": {},
     "output_type": "execute_result"
    }
   ],
   "source": [
    "base_01['padrão de deposição'].value_counts()"
   ]
  },
  {
   "cell_type": "code",
   "execution_count": 294,
   "metadata": {},
   "outputs": [
    {
     "data": {
      "text/plain": [
       "46"
      ]
     },
     "execution_count": 294,
     "metadata": {},
     "output_type": "execute_result"
    }
   ],
   "source": [
    "len(df_25[df_25['Padrao_de_deposicao_granular_em_mesangio'] == 1])"
   ]
  },
  {
   "cell_type": "code",
   "execution_count": 295,
   "metadata": {},
   "outputs": [
    {
     "data": {
      "text/plain": [
       "17"
      ]
     },
     "execution_count": 295,
     "metadata": {},
     "output_type": "execute_result"
    }
   ],
   "source": [
    "len(df_25[df_25['Padrao_de_deposicao_negativa'] == 1])"
   ]
  },
  {
   "cell_type": "code",
   "execution_count": 296,
   "metadata": {},
   "outputs": [
    {
     "data": {
      "text/plain": [
       "16"
      ]
     },
     "execution_count": 296,
     "metadata": {},
     "output_type": "execute_result"
    }
   ],
   "source": [
    "len(df_25[df_25['Padrao_de_deposicao_granular_em_alca_capilar'] == 1])"
   ]
  },
  {
   "cell_type": "code",
   "execution_count": 297,
   "metadata": {},
   "outputs": [
    {
     "data": {
      "text/plain": [
       "11"
      ]
     },
     "execution_count": 297,
     "metadata": {},
     "output_type": "execute_result"
    }
   ],
   "source": [
    "len(df_25[df_25['Padrao_de_deposicao_granular_em_mesangio_e_em_alca_capilar'] == 1])"
   ]
  },
  {
   "cell_type": "code",
   "execution_count": 298,
   "metadata": {},
   "outputs": [
    {
     "data": {
      "text/plain": [
       "4"
      ]
     },
     "execution_count": 298,
     "metadata": {},
     "output_type": "execute_result"
    }
   ],
   "source": [
    "len(df_25[df_25['Padrao_de_deposicao_linear'] == 1])"
   ]
  },
  {
   "cell_type": "code",
   "execution_count": 299,
   "metadata": {},
   "outputs": [
    {
     "data": {
      "text/plain": [
       "2"
      ]
     },
     "execution_count": 299,
     "metadata": {},
     "output_type": "execute_result"
    }
   ],
   "source": [
    "len(df_25[df_25['Padrao_de_deposicao_granular_grosseiro_(tipo_ceu_estrelado)'] == 1])"
   ]
  },
  {
   "cell_type": "code",
   "execution_count": 300,
   "metadata": {},
   "outputs": [
    {
     "data": {
      "text/plain": [
       "1"
      ]
     },
     "execution_count": 300,
     "metadata": {},
     "output_type": "execute_result"
    }
   ],
   "source": [
    "len(df_25[df_25['Padrao_de_deposicao_granular_em_mesangio_e_linear_em_membrana_basal'] == 1])"
   ]
  },
  {
   "cell_type": "code",
   "execution_count": 301,
   "metadata": {},
   "outputs": [
    {
     "data": {
      "text/plain": [
       "1"
      ]
     },
     "execution_count": 301,
     "metadata": {},
     "output_type": "execute_result"
    }
   ],
   "source": [
    "len(df_25[df_25['Padrao_de_deposicao_aprisionado_no_crescente'] == 1])"
   ]
  },
  {
   "cell_type": "code",
   "execution_count": 302,
   "metadata": {},
   "outputs": [
    {
     "data": {
      "text/plain": [
       "1"
      ]
     },
     "execution_count": 302,
     "metadata": {},
     "output_type": "execute_result"
    }
   ],
   "source": [
    "len(df_25[df_25['Padrao_de_deposicao_segmentar'] == 1])"
   ]
  },
  {
   "cell_type": "code",
   "execution_count": 303,
   "metadata": {},
   "outputs": [
    {
     "data": {
      "text/plain": [
       "1"
      ]
     },
     "execution_count": 303,
     "metadata": {},
     "output_type": "execute_result"
    }
   ],
   "source": [
    "len(df_25[df_25['Padrao_de_deposicao_nao_realizada'] == 1])"
   ]
  },
  {
   "cell_type": "markdown",
   "metadata": {},
   "source": [
    "Imunodepósitos"
   ]
  },
  {
   "cell_type": "code",
   "execution_count": 304,
   "metadata": {},
   "outputs": [
    {
     "data": {
      "text/html": [
       "<div>\n",
       "<style scoped>\n",
       "    .dataframe tbody tr th:only-of-type {\n",
       "        vertical-align: middle;\n",
       "    }\n",
       "\n",
       "    .dataframe tbody tr th {\n",
       "        vertical-align: top;\n",
       "    }\n",
       "\n",
       "    .dataframe thead th {\n",
       "        text-align: right;\n",
       "    }\n",
       "</style>\n",
       "<table border=\"1\" class=\"dataframe\">\n",
       "  <thead>\n",
       "    <tr style=\"text-align: right;\">\n",
       "      <th></th>\n",
       "      <th>Imunodepositos_C3</th>\n",
       "      <th>Imunodepositos_IgA_(co-dominante)</th>\n",
       "      <th>Imunodepositos_IgA_(co-dominante)_C3_Kappa_lambda_fibrinogênio</th>\n",
       "      <th>Imunodepositos_IgA_(co-dominante)_IgG_kappa_lambda</th>\n",
       "      <th>Imunodepositos_IgA_(co-dominante)_Kappa_lambda</th>\n",
       "      <th>Imunodepositos_IgA_C1q_fibrinogênio</th>\n",
       "      <th>Imunodepositos_IgA_IgM_C3_C1q_lambda</th>\n",
       "      <th>Imunodepositos_IgA_IgM_IgG_C1q</th>\n",
       "      <th>Imunodepositos_IgA_IgM_IgG_C3_C1q</th>\n",
       "      <th>Imunodepositos_IgG</th>\n",
       "      <th>...</th>\n",
       "      <th>Imunodepositos_IgM_IgG_Kappa_Lambda_Fibrinogenio</th>\n",
       "      <th>Imunodepositos_IgM_IgG_Kappa_Lambda_Fibrinogênio</th>\n",
       "      <th>Imunodepositos_IgM_IgG_fibrinogenio</th>\n",
       "      <th>Imunodepositos_IgM_Lambda_fibrinogenio</th>\n",
       "      <th>Imunodepositos_Kappa_Fibrinogenio</th>\n",
       "      <th>Imunodepositos_Kappa_lambda</th>\n",
       "      <th>Imunodepositos_full_house</th>\n",
       "      <th>Imunodepositos_lambda</th>\n",
       "      <th>Imunodepositos_negativa</th>\n",
       "      <th>Imunodepositos_nao_realizada</th>\n",
       "    </tr>\n",
       "  </thead>\n",
       "  <tbody>\n",
       "    <tr>\n",
       "      <th>0</th>\n",
       "      <td>NaN</td>\n",
       "      <td>NaN</td>\n",
       "      <td>NaN</td>\n",
       "      <td>NaN</td>\n",
       "      <td>NaN</td>\n",
       "      <td>NaN</td>\n",
       "      <td>NaN</td>\n",
       "      <td>NaN</td>\n",
       "      <td>NaN</td>\n",
       "      <td>NaN</td>\n",
       "      <td>...</td>\n",
       "      <td>NaN</td>\n",
       "      <td>NaN</td>\n",
       "      <td>NaN</td>\n",
       "      <td>NaN</td>\n",
       "      <td>NaN</td>\n",
       "      <td>NaN</td>\n",
       "      <td>NaN</td>\n",
       "      <td>NaN</td>\n",
       "      <td>NaN</td>\n",
       "      <td>NaN</td>\n",
       "    </tr>\n",
       "    <tr>\n",
       "      <th>1</th>\n",
       "      <td>NaN</td>\n",
       "      <td>NaN</td>\n",
       "      <td>NaN</td>\n",
       "      <td>NaN</td>\n",
       "      <td>NaN</td>\n",
       "      <td>NaN</td>\n",
       "      <td>NaN</td>\n",
       "      <td>NaN</td>\n",
       "      <td>NaN</td>\n",
       "      <td>NaN</td>\n",
       "      <td>...</td>\n",
       "      <td>NaN</td>\n",
       "      <td>NaN</td>\n",
       "      <td>NaN</td>\n",
       "      <td>NaN</td>\n",
       "      <td>NaN</td>\n",
       "      <td>NaN</td>\n",
       "      <td>NaN</td>\n",
       "      <td>NaN</td>\n",
       "      <td>NaN</td>\n",
       "      <td>NaN</td>\n",
       "    </tr>\n",
       "    <tr>\n",
       "      <th>2</th>\n",
       "      <td>NaN</td>\n",
       "      <td>NaN</td>\n",
       "      <td>NaN</td>\n",
       "      <td>NaN</td>\n",
       "      <td>NaN</td>\n",
       "      <td>NaN</td>\n",
       "      <td>NaN</td>\n",
       "      <td>NaN</td>\n",
       "      <td>NaN</td>\n",
       "      <td>NaN</td>\n",
       "      <td>...</td>\n",
       "      <td>NaN</td>\n",
       "      <td>NaN</td>\n",
       "      <td>NaN</td>\n",
       "      <td>NaN</td>\n",
       "      <td>NaN</td>\n",
       "      <td>NaN</td>\n",
       "      <td>NaN</td>\n",
       "      <td>NaN</td>\n",
       "      <td>NaN</td>\n",
       "      <td>NaN</td>\n",
       "    </tr>\n",
       "    <tr>\n",
       "      <th>3</th>\n",
       "      <td>NaN</td>\n",
       "      <td>NaN</td>\n",
       "      <td>NaN</td>\n",
       "      <td>NaN</td>\n",
       "      <td>NaN</td>\n",
       "      <td>NaN</td>\n",
       "      <td>NaN</td>\n",
       "      <td>NaN</td>\n",
       "      <td>NaN</td>\n",
       "      <td>NaN</td>\n",
       "      <td>...</td>\n",
       "      <td>NaN</td>\n",
       "      <td>NaN</td>\n",
       "      <td>NaN</td>\n",
       "      <td>NaN</td>\n",
       "      <td>NaN</td>\n",
       "      <td>NaN</td>\n",
       "      <td>NaN</td>\n",
       "      <td>NaN</td>\n",
       "      <td>NaN</td>\n",
       "      <td>NaN</td>\n",
       "    </tr>\n",
       "    <tr>\n",
       "      <th>4</th>\n",
       "      <td>NaN</td>\n",
       "      <td>NaN</td>\n",
       "      <td>NaN</td>\n",
       "      <td>NaN</td>\n",
       "      <td>NaN</td>\n",
       "      <td>NaN</td>\n",
       "      <td>NaN</td>\n",
       "      <td>NaN</td>\n",
       "      <td>NaN</td>\n",
       "      <td>NaN</td>\n",
       "      <td>...</td>\n",
       "      <td>NaN</td>\n",
       "      <td>NaN</td>\n",
       "      <td>NaN</td>\n",
       "      <td>NaN</td>\n",
       "      <td>NaN</td>\n",
       "      <td>NaN</td>\n",
       "      <td>NaN</td>\n",
       "      <td>NaN</td>\n",
       "      <td>NaN</td>\n",
       "      <td>NaN</td>\n",
       "    </tr>\n",
       "  </tbody>\n",
       "</table>\n",
       "<p>5 rows × 40 columns</p>\n",
       "</div>"
      ],
      "text/plain": [
       "  Imunodepositos_C3 Imunodepositos_IgA_(co-dominante)  \\\n",
       "0               NaN                               NaN   \n",
       "1               NaN                               NaN   \n",
       "2               NaN                               NaN   \n",
       "3               NaN                               NaN   \n",
       "4               NaN                               NaN   \n",
       "\n",
       "  Imunodepositos_IgA_(co-dominante)_C3_Kappa_lambda_fibrinogênio  \\\n",
       "0                                                NaN               \n",
       "1                                                NaN               \n",
       "2                                                NaN               \n",
       "3                                                NaN               \n",
       "4                                                NaN               \n",
       "\n",
       "  Imunodepositos_IgA_(co-dominante)_IgG_kappa_lambda  \\\n",
       "0                                                NaN   \n",
       "1                                                NaN   \n",
       "2                                                NaN   \n",
       "3                                                NaN   \n",
       "4                                                NaN   \n",
       "\n",
       "  Imunodepositos_IgA_(co-dominante)_Kappa_lambda  \\\n",
       "0                                            NaN   \n",
       "1                                            NaN   \n",
       "2                                            NaN   \n",
       "3                                            NaN   \n",
       "4                                            NaN   \n",
       "\n",
       "  Imunodepositos_IgA_C1q_fibrinogênio Imunodepositos_IgA_IgM_C3_C1q_lambda  \\\n",
       "0                                 NaN                                  NaN   \n",
       "1                                 NaN                                  NaN   \n",
       "2                                 NaN                                  NaN   \n",
       "3                                 NaN                                  NaN   \n",
       "4                                 NaN                                  NaN   \n",
       "\n",
       "  Imunodepositos_IgA_IgM_IgG_C1q Imunodepositos_IgA_IgM_IgG_C3_C1q  \\\n",
       "0                            NaN                               NaN   \n",
       "1                            NaN                               NaN   \n",
       "2                            NaN                               NaN   \n",
       "3                            NaN                               NaN   \n",
       "4                            NaN                               NaN   \n",
       "\n",
       "  Imunodepositos_IgG  ... Imunodepositos_IgM_IgG_Kappa_Lambda_Fibrinogenio  \\\n",
       "0                NaN  ...                                              NaN   \n",
       "1                NaN  ...                                              NaN   \n",
       "2                NaN  ...                                              NaN   \n",
       "3                NaN  ...                                              NaN   \n",
       "4                NaN  ...                                              NaN   \n",
       "\n",
       "  Imunodepositos_IgM_IgG_Kappa_Lambda_Fibrinogênio  \\\n",
       "0                                              NaN   \n",
       "1                                              NaN   \n",
       "2                                              NaN   \n",
       "3                                              NaN   \n",
       "4                                              NaN   \n",
       "\n",
       "  Imunodepositos_IgM_IgG_fibrinogenio Imunodepositos_IgM_Lambda_fibrinogenio  \\\n",
       "0                                 NaN                                    NaN   \n",
       "1                                 NaN                                    NaN   \n",
       "2                                 NaN                                    NaN   \n",
       "3                                 NaN                                    NaN   \n",
       "4                                 NaN                                    NaN   \n",
       "\n",
       "  Imunodepositos_Kappa_Fibrinogenio Imunodepositos_Kappa_lambda  \\\n",
       "0                               NaN                         NaN   \n",
       "1                               NaN                         NaN   \n",
       "2                               NaN                         NaN   \n",
       "3                               NaN                         NaN   \n",
       "4                               NaN                         NaN   \n",
       "\n",
       "  Imunodepositos_full_house Imunodepositos_lambda Imunodepositos_negativa  \\\n",
       "0                       NaN                   NaN                     NaN   \n",
       "1                       NaN                   NaN                     NaN   \n",
       "2                       NaN                   NaN                     NaN   \n",
       "3                       NaN                   NaN                     NaN   \n",
       "4                       NaN                   NaN                     NaN   \n",
       "\n",
       "  Imunodepositos_nao_realizada  \n",
       "0                          NaN  \n",
       "1                          NaN  \n",
       "2                          NaN  \n",
       "3                          NaN  \n",
       "4                          NaN  \n",
       "\n",
       "[5 rows x 40 columns]"
      ]
     },
     "execution_count": 304,
     "metadata": {},
     "output_type": "execute_result"
    }
   ],
   "source": [
    "df_26 = pd.DataFrame(index = indices, columns = Imunodepositos)\n",
    "df_26.head()"
   ]
  },
  {
   "cell_type": "code",
   "execution_count": 305,
   "metadata": {},
   "outputs": [
    {
     "data": {
      "text/plain": [
       "array(['C3', 'IgA (co-dominante)',\n",
       "       'IgA (co-dominante) C3 Kappa lambda fibrinogênio',\n",
       "       'IgA (co-dominante) IgG kappa lambda',\n",
       "       'IgA (co-dominante) Kappa lambda', 'IgA C1q fibrinogênio',\n",
       "       'IgA IgM C3 C1q lambda', 'IgA IgM IgG C1q', 'IgA IgM IgG C3 C1q',\n",
       "       'IgG', 'IgG C1q Fibrinogênio', 'IgG C3', 'IgG Fibrinogênio',\n",
       "       'IgG IgA IgM C3 Fibrinogênio kappa lambda',\n",
       "       'IgG IgA IgM C3 fibrinogênio kappa lambda',\n",
       "       'IgG Kappa lambda fibrinogênio', 'IgM', 'IgM C1q C3 Lambda',\n",
       "       'IgM C3', 'IgM C3 C1q', 'IgM C3 C1q lambda fibrinogênio',\n",
       "       'IgM C3 fibrinogênio', 'IgM IgA C3 C1q Fibrinogênio kappa lambda',\n",
       "       'IgM IgA IgG C3 fibrinogênio',\n",
       "       'IgM IgG C1q kappa lambda fibrinogênio', 'IgM IgG C3',\n",
       "       'IgM IgG C3 Lambda Fibrinogênio',\n",
       "       'IgM IgG IgA C3 Kappa Lambda fibrinogênio',\n",
       "       'IgM IgG IgA C3 Lambda', 'IgM IgG IgA C3 c1q',\n",
       "       'IgM IgG IgA Lambda Fibrinogênio',\n",
       "       'IgM IgG Kappa Lambda Fibrinogênio', 'IgM IgG fibrinogênio',\n",
       "       'IgM Lambda fibrinogênio', 'Kappa Fibrinogênio', 'Kappa lambda',\n",
       "       'full house', 'lambda', 'negativa', 'não realizada'], dtype=object)"
      ]
     },
     "execution_count": 305,
     "metadata": {},
     "output_type": "execute_result"
    }
   ],
   "source": [
    "np.unique(base_01['Imunodepósitos'])"
   ]
  },
  {
   "cell_type": "code",
   "execution_count": 306,
   "metadata": {},
   "outputs": [
    {
     "data": {
      "text/plain": [
       "Index(['Imunodepositos_C3', 'Imunodepositos_IgA_(co-dominante)',\n",
       "       'Imunodepositos_IgA_(co-dominante)_C3_Kappa_lambda_fibrinogênio',\n",
       "       'Imunodepositos_IgA_(co-dominante)_IgG_kappa_lambda',\n",
       "       'Imunodepositos_IgA_(co-dominante)_Kappa_lambda',\n",
       "       'Imunodepositos_IgA_C1q_fibrinogênio',\n",
       "       'Imunodepositos_IgA_IgM_C3_C1q_lambda',\n",
       "       'Imunodepositos_IgA_IgM_IgG_C1q', 'Imunodepositos_IgA_IgM_IgG_C3_C1q',\n",
       "       'Imunodepositos_IgG', 'Imunodepositos_IgG_C1q_Fibrinogenio',\n",
       "       'Imunodepositos_IgG_C3', 'Imunodepositos_IgG_Fibrinogênio',\n",
       "       'Imunodepositos_IgG_IgA_IgM_C3_Fibrinogenio_kappa_lambda',\n",
       "       'Imunodepositos_IgG_Kappa_lambda_fibrinogenio', 'Imunodepositos_IgM',\n",
       "       'Imunodepositos_IgM_C1q_C3_Lambda', 'Imunodepositos_IgM_C3',\n",
       "       'Imunodepositos_IgM_C3_C1q',\n",
       "       'Imunodepositos_IgM_C3_C1q_lambda_fibrinogenio',\n",
       "       'Imunodepositos_IgM_C3_fibrinogenio',\n",
       "       'Imunodepositos_IgM_IgA_C3_C1q_Fibrinogenio_kappa_lambda',\n",
       "       'Imunodepositos_IgM_IgA_IgG_C3_fibrinogenio',\n",
       "       'Imunodepositos_IgM_IgG_C1q_kappa_lambda_fibrinogenio',\n",
       "       'Imunodepositos_IgM_IgG_C3',\n",
       "       'Imunodepositos_IgM_IgG_C3_Lambda_Fibrinogenio',\n",
       "       'Imunodepositos_IgM_IgG_IgA_C3_Kappa_Lambda_fibrinogenio',\n",
       "       'Imunodepositos_IgM_IgG_IgA_C3_Lambda',\n",
       "       'Imunodepositos_IgM_IgG_IgA_C3_c1q',\n",
       "       'Imunodepositos_IgM_IgG_IgA_Lambda_Fibrinogenio',\n",
       "       'Imunodepositos_IgM_IgG_Kappa_Lambda_Fibrinogenio',\n",
       "       'Imunodepositos_IgM_IgG_Kappa_Lambda_Fibrinogênio',\n",
       "       'Imunodepositos_IgM_IgG_fibrinogenio',\n",
       "       'Imunodepositos_IgM_Lambda_fibrinogenio',\n",
       "       'Imunodepositos_Kappa_Fibrinogenio', 'Imunodepositos_Kappa_lambda',\n",
       "       'Imunodepositos_full_house', 'Imunodepositos_lambda',\n",
       "       'Imunodepositos_negativa', 'Imunodepositos_nao_realizada'],\n",
       "      dtype='object')"
      ]
     },
     "execution_count": 306,
     "metadata": {},
     "output_type": "execute_result"
    }
   ],
   "source": [
    "df_26.columns"
   ]
  },
  {
   "cell_type": "code",
   "execution_count": 307,
   "metadata": {},
   "outputs": [],
   "source": [
    "def preencher26(coluna, i):\n",
    "    if coluna[i] == 'C3':\n",
    "        df_26['Imunodepositos_C3'][i]                                              = 1\n",
    "        df_26['Imunodepositos_IgA_(co-dominante)'][i]                              = 0\n",
    "        df_26['Imunodepositos_IgA_(co-dominante)_C3_Kappa_lambda_fibrinogênio'][i] = 0\n",
    "        df_26['Imunodepositos_IgA_(co-dominante)_IgG_kappa_lambda'][i]             = 0\n",
    "        df_26['Imunodepositos_IgA_(co-dominante)_Kappa_lambda'][i]                 = 0\n",
    "        df_26['Imunodepositos_IgA_C1q_fibrinogênio'][i]                            = 0\n",
    "        df_26['Imunodepositos_IgA_IgM_C3_C1q_lambda'][i]                           = 0\n",
    "        df_26['Imunodepositos_IgA_IgM_IgG_C1q'][i]                                 = 0\n",
    "        df_26['Imunodepositos_IgA_IgM_IgG_C3_C1q'][i]                              = 0\n",
    "        df_26['Imunodepositos_IgG'][i]                                             = 0\n",
    "        df_26['Imunodepositos_IgG_C1q_Fibrinogenio'][i]                            = 0\n",
    "        df_26['Imunodepositos_IgG_C3'][i]                                          = 0\n",
    "        df_26['Imunodepositos_IgG_Fibrinogênio'][i]                                = 0\n",
    "        df_26['Imunodepositos_IgG_IgA_IgM_C3_Fibrinogenio_kappa_lambda'][i]        = 0\n",
    "        df_26['Imunodepositos_IgG_Kappa_lambda_fibrinogenio'][i]                   = 0\n",
    "        df_26['Imunodepositos_IgM'][i]                                             = 0\n",
    "        df_26['Imunodepositos_IgM_C1q_C3_Lambda'][i]                               = 0\n",
    "        df_26['Imunodepositos_IgM_C3'][i]                                          = 0\n",
    "        df_26['Imunodepositos_IgM_C3_C1q'][i]                                      = 0\n",
    "        df_26['Imunodepositos_IgM_C3_C1q_lambda_fibrinogenio'][i]                  = 0\n",
    "        df_26['Imunodepositos_IgM_C3_fibrinogenio'][i]                             = 0\n",
    "        df_26['Imunodepositos_IgM_IgA_C3_C1q_Fibrinogenio_kappa_lambda'][i]        = 0\n",
    "        df_26['Imunodepositos_IgM_IgA_IgG_C3_fibrinogenio'][i]                     = 0\n",
    "        df_26['Imunodepositos_IgM_IgG_C1q_kappa_lambda_fibrinogenio'][i]           = 0\n",
    "        df_26['Imunodepositos_IgM_IgG_C3'][i]                                      = 0\n",
    "        df_26['Imunodepositos_IgM_IgG_C3_Lambda_Fibrinogenio'][i]                  = 0\n",
    "        df_26['Imunodepositos_IgM_IgG_IgA_C3_Kappa_Lambda_fibrinogenio'][i]        = 0\n",
    "        df_26['Imunodepositos_IgM_IgG_IgA_C3_Lambda'][i]                           = 0\n",
    "        df_26['Imunodepositos_IgM_IgG_IgA_C3_c1q'][i]                              = 0\n",
    "        df_26['Imunodepositos_IgM_IgG_IgA_Lambda_Fibrinogenio'][i]                 = 0\n",
    "        df_26['Imunodepositos_IgM_IgG_Kappa_Lambda_Fibrinogenio'][i]               = 0\n",
    "        df_26['Imunodepositos_IgM_IgG_fibrinogenio'][i]                            = 0\n",
    "        df_26['Imunodepositos_IgM_Lambda_fibrinogenio'][i]                         = 0\n",
    "        df_26['Imunodepositos_Kappa_Fibrinogenio'][i]                              = 0\n",
    "        df_26['Imunodepositos_Kappa_lambda'][i]                                    = 0\n",
    "        df_26['Imunodepositos_full_house'][i]                                      = 0\n",
    "        df_26['Imunodepositos_lambda'][i]                                          = 0\n",
    "        df_26['Imunodepositos_negativa'][i]                                        = 0\n",
    "        df_26['Imunodepositos_nao_realizada'][i]                                   = 0\n",
    "    elif coluna[i] == 'IgA (co-dominante)':\n",
    "        df_26['Imunodepositos_C3'][i]                                              = 0\n",
    "        df_26['Imunodepositos_IgA_(co-dominante)'][i]                              = 1\n",
    "        df_26['Imunodepositos_IgA_(co-dominante)_C3_Kappa_lambda_fibrinogênio'][i] = 0\n",
    "        df_26['Imunodepositos_IgA_(co-dominante)_IgG_kappa_lambda'][i]             = 0\n",
    "        df_26['Imunodepositos_IgA_(co-dominante)_Kappa_lambda'][i]                 = 0\n",
    "        df_26['Imunodepositos_IgA_C1q_fibrinogênio'][i]                            = 0\n",
    "        df_26['Imunodepositos_IgA_IgM_C3_C1q_lambda'][i]                           = 0\n",
    "        df_26['Imunodepositos_IgA_IgM_IgG_C1q'][i]                                 = 0\n",
    "        df_26['Imunodepositos_IgA_IgM_IgG_C3_C1q'][i]                              = 0\n",
    "        df_26['Imunodepositos_IgG'][i]                                             = 0\n",
    "        df_26['Imunodepositos_IgG_C1q_Fibrinogenio'][i]                            = 0\n",
    "        df_26['Imunodepositos_IgG_C3'][i]                                          = 0\n",
    "        df_26['Imunodepositos_IgG_Fibrinogênio'][i]                                = 0\n",
    "        df_26['Imunodepositos_IgG_IgA_IgM_C3_Fibrinogenio_kappa_lambda'][i]        = 0\n",
    "        df_26['Imunodepositos_IgG_Kappa_lambda_fibrinogenio'][i]                   = 0\n",
    "        df_26['Imunodepositos_IgM'][i]                                             = 0\n",
    "        df_26['Imunodepositos_IgM_C1q_C3_Lambda'][i]                               = 0\n",
    "        df_26['Imunodepositos_IgM_C3'][i]                                          = 0\n",
    "        df_26['Imunodepositos_IgM_C3_C1q'][i]                                      = 0\n",
    "        df_26['Imunodepositos_IgM_C3_C1q_lambda_fibrinogenio'][i]                  = 0\n",
    "        df_26['Imunodepositos_IgM_C3_fibrinogenio'][i]                             = 0\n",
    "        df_26['Imunodepositos_IgM_IgA_C3_C1q_Fibrinogenio_kappa_lambda'][i]        = 0\n",
    "        df_26['Imunodepositos_IgM_IgA_IgG_C3_fibrinogenio'][i]                     = 0\n",
    "        df_26['Imunodepositos_IgM_IgG_C1q_kappa_lambda_fibrinogenio'][i]           = 0\n",
    "        df_26['Imunodepositos_IgM_IgG_C3'][i]                                      = 0\n",
    "        df_26['Imunodepositos_IgM_IgG_C3_Lambda_Fibrinogenio'][i]                  = 0\n",
    "        df_26['Imunodepositos_IgM_IgG_IgA_C3_Kappa_Lambda_fibrinogenio'][i]        = 0\n",
    "        df_26['Imunodepositos_IgM_IgG_IgA_C3_Lambda'][i]                           = 0\n",
    "        df_26['Imunodepositos_IgM_IgG_IgA_C3_c1q'][i]                              = 0\n",
    "        df_26['Imunodepositos_IgM_IgG_IgA_Lambda_Fibrinogenio'][i]                 = 0\n",
    "        df_26['Imunodepositos_IgM_IgG_Kappa_Lambda_Fibrinogenio'][i]               = 0\n",
    "        df_26['Imunodepositos_IgM_IgG_fibrinogenio'][i]                            = 0\n",
    "        df_26['Imunodepositos_IgM_Lambda_fibrinogenio'][i]                         = 0\n",
    "        df_26['Imunodepositos_Kappa_Fibrinogenio'][i]                              = 0\n",
    "        df_26['Imunodepositos_Kappa_lambda'][i]                                    = 0\n",
    "        df_26['Imunodepositos_full_house'][i]                                      = 0\n",
    "        df_26['Imunodepositos_lambda'][i]                                          = 0\n",
    "        df_26['Imunodepositos_negativa'][i]                                        = 0\n",
    "        df_26['Imunodepositos_nao_realizada'][i]                                   = 0\n",
    "    elif coluna[i] == 'IgA (co-dominante) C3 Kappa lambda fibrinogênio':\n",
    "        df_26['Imunodepositos_C3'][i]                                              = 0\n",
    "        df_26['Imunodepositos_IgA_(co-dominante)'][i]                              = 0\n",
    "        df_26['Imunodepositos_IgA_(co-dominante)_C3_Kappa_lambda_fibrinogênio'][i] = 1\n",
    "        df_26['Imunodepositos_IgA_(co-dominante)_IgG_kappa_lambda'][i]             = 0\n",
    "        df_26['Imunodepositos_IgA_(co-dominante)_Kappa_lambda'][i]                 = 0\n",
    "        df_26['Imunodepositos_IgA_C1q_fibrinogênio'][i]                            = 0\n",
    "        df_26['Imunodepositos_IgA_IgM_C3_C1q_lambda'][i]                           = 0\n",
    "        df_26['Imunodepositos_IgA_IgM_IgG_C1q'][i]                                 = 0\n",
    "        df_26['Imunodepositos_IgA_IgM_IgG_C3_C1q'][i]                              = 0\n",
    "        df_26['Imunodepositos_IgG'][i]                                             = 0\n",
    "        df_26['Imunodepositos_IgG_C1q_Fibrinogenio'][i]                            = 0\n",
    "        df_26['Imunodepositos_IgG_C3'][i]                                          = 0\n",
    "        df_26['Imunodepositos_IgG_Fibrinogênio'][i]                                = 0\n",
    "        df_26['Imunodepositos_IgG_IgA_IgM_C3_Fibrinogenio_kappa_lambda'][i]        = 0\n",
    "        df_26['Imunodepositos_IgG_Kappa_lambda_fibrinogenio'][i]                   = 0\n",
    "        df_26['Imunodepositos_IgM'][i]                                             = 0\n",
    "        df_26['Imunodepositos_IgM_C1q_C3_Lambda'][i]                               = 0\n",
    "        df_26['Imunodepositos_IgM_C3'][i]                                          = 0\n",
    "        df_26['Imunodepositos_IgM_C3_C1q'][i]                                      = 0\n",
    "        df_26['Imunodepositos_IgM_C3_C1q_lambda_fibrinogenio'][i]                  = 0\n",
    "        df_26['Imunodepositos_IgM_C3_fibrinogenio'][i]                             = 0\n",
    "        df_26['Imunodepositos_IgM_IgA_C3_C1q_Fibrinogenio_kappa_lambda'][i]        = 0\n",
    "        df_26['Imunodepositos_IgM_IgA_IgG_C3_fibrinogenio'][i]                     = 0\n",
    "        df_26['Imunodepositos_IgM_IgG_C1q_kappa_lambda_fibrinogenio'][i]           = 0\n",
    "        df_26['Imunodepositos_IgM_IgG_C3'][i]                                      = 0\n",
    "        df_26['Imunodepositos_IgM_IgG_C3_Lambda_Fibrinogenio'][i]                  = 0\n",
    "        df_26['Imunodepositos_IgM_IgG_IgA_C3_Kappa_Lambda_fibrinogenio'][i]        = 0\n",
    "        df_26['Imunodepositos_IgM_IgG_IgA_C3_Lambda'][i]                           = 0\n",
    "        df_26['Imunodepositos_IgM_IgG_IgA_C3_c1q'][i]                              = 0\n",
    "        df_26['Imunodepositos_IgM_IgG_IgA_Lambda_Fibrinogenio'][i]                 = 0\n",
    "        df_26['Imunodepositos_IgM_IgG_Kappa_Lambda_Fibrinogenio'][i]               = 0\n",
    "        df_26['Imunodepositos_IgM_IgG_fibrinogenio'][i]                            = 0\n",
    "        df_26['Imunodepositos_IgM_Lambda_fibrinogenio'][i]                         = 0\n",
    "        df_26['Imunodepositos_Kappa_Fibrinogenio'][i]                              = 0\n",
    "        df_26['Imunodepositos_Kappa_lambda'][i]                                    = 0\n",
    "        df_26['Imunodepositos_full_house'][i]                                      = 0\n",
    "        df_26['Imunodepositos_lambda'][i]                                          = 0\n",
    "        df_26['Imunodepositos_negativa'][i]                                        = 0\n",
    "        df_26['Imunodepositos_nao_realizada'][i]                                   = 0\n",
    "    elif coluna[i] == 'IgA (co-dominante) IgG kappa lambda':\n",
    "        df_26['Imunodepositos_C3'][i]                                              = 0\n",
    "        df_26['Imunodepositos_IgA_(co-dominante)'][i]                              = 0\n",
    "        df_26['Imunodepositos_IgA_(co-dominante)_C3_Kappa_lambda_fibrinogênio'][i] = 0\n",
    "        df_26['Imunodepositos_IgA_(co-dominante)_IgG_kappa_lambda'][i]             = 1\n",
    "        df_26['Imunodepositos_IgA_(co-dominante)_Kappa_lambda'][i]                 = 0\n",
    "        df_26['Imunodepositos_IgA_C1q_fibrinogênio'][i]                            = 0\n",
    "        df_26['Imunodepositos_IgA_IgM_C3_C1q_lambda'][i]                           = 0\n",
    "        df_26['Imunodepositos_IgA_IgM_IgG_C1q'][i]                                 = 0\n",
    "        df_26['Imunodepositos_IgA_IgM_IgG_C3_C1q'][i]                              = 0\n",
    "        df_26['Imunodepositos_IgG'][i]                                             = 0\n",
    "        df_26['Imunodepositos_IgG_C1q_Fibrinogenio'][i]                            = 0\n",
    "        df_26['Imunodepositos_IgG_C3'][i]                                          = 0\n",
    "        df_26['Imunodepositos_IgG_Fibrinogênio'][i]                                = 0\n",
    "        df_26['Imunodepositos_IgG_IgA_IgM_C3_Fibrinogenio_kappa_lambda'][i]        = 0\n",
    "        df_26['Imunodepositos_IgG_Kappa_lambda_fibrinogenio'][i]                   = 0\n",
    "        df_26['Imunodepositos_IgM'][i]                                             = 0\n",
    "        df_26['Imunodepositos_IgM_C1q_C3_Lambda'][i]                               = 0\n",
    "        df_26['Imunodepositos_IgM_C3'][i]                                          = 0\n",
    "        df_26['Imunodepositos_IgM_C3_C1q'][i]                                      = 0\n",
    "        df_26['Imunodepositos_IgM_C3_C1q_lambda_fibrinogenio'][i]                  = 0\n",
    "        df_26['Imunodepositos_IgM_C3_fibrinogenio'][i]                             = 0\n",
    "        df_26['Imunodepositos_IgM_IgA_C3_C1q_Fibrinogenio_kappa_lambda'][i]        = 0\n",
    "        df_26['Imunodepositos_IgM_IgA_IgG_C3_fibrinogenio'][i]                     = 0\n",
    "        df_26['Imunodepositos_IgM_IgG_C1q_kappa_lambda_fibrinogenio'][i]           = 0\n",
    "        df_26['Imunodepositos_IgM_IgG_C3'][i]                                      = 0\n",
    "        df_26['Imunodepositos_IgM_IgG_C3_Lambda_Fibrinogenio'][i]                  = 0\n",
    "        df_26['Imunodepositos_IgM_IgG_IgA_C3_Kappa_Lambda_fibrinogenio'][i]        = 0\n",
    "        df_26['Imunodepositos_IgM_IgG_IgA_C3_Lambda'][i]                           = 0\n",
    "        df_26['Imunodepositos_IgM_IgG_IgA_C3_c1q'][i]                              = 0\n",
    "        df_26['Imunodepositos_IgM_IgG_IgA_Lambda_Fibrinogenio'][i]                 = 0\n",
    "        df_26['Imunodepositos_IgM_IgG_Kappa_Lambda_Fibrinogenio'][i]               = 0\n",
    "        df_26['Imunodepositos_IgM_IgG_fibrinogenio'][i]                            = 0\n",
    "        df_26['Imunodepositos_IgM_Lambda_fibrinogenio'][i]                         = 0\n",
    "        df_26['Imunodepositos_Kappa_Fibrinogenio'][i]                              = 0\n",
    "        df_26['Imunodepositos_Kappa_lambda'][i]                                    = 0\n",
    "        df_26['Imunodepositos_full_house'][i]                                      = 0\n",
    "        df_26['Imunodepositos_lambda'][i]                                          = 0\n",
    "        df_26['Imunodepositos_negativa'][i]                                        = 0\n",
    "        df_26['Imunodepositos_nao_realizada'][i]                                   = 0\n",
    "    elif coluna[i] == 'IgA (co-dominante) Kappa lambda':\n",
    "        df_26['Imunodepositos_C3'][i]                                              = 0\n",
    "        df_26['Imunodepositos_IgA_(co-dominante)'][i]                              = 0\n",
    "        df_26['Imunodepositos_IgA_(co-dominante)_C3_Kappa_lambda_fibrinogênio'][i] = 0\n",
    "        df_26['Imunodepositos_IgA_(co-dominante)_IgG_kappa_lambda'][i]             = 0\n",
    "        df_26['Imunodepositos_IgA_(co-dominante)_Kappa_lambda'][i]                 = 1\n",
    "        df_26['Imunodepositos_IgA_C1q_fibrinogênio'][i]                            = 0\n",
    "        df_26['Imunodepositos_IgA_IgM_C3_C1q_lambda'][i]                           = 0\n",
    "        df_26['Imunodepositos_IgA_IgM_IgG_C1q'][i]                                 = 0\n",
    "        df_26['Imunodepositos_IgA_IgM_IgG_C3_C1q'][i]                              = 0\n",
    "        df_26['Imunodepositos_IgG'][i]                                             = 0\n",
    "        df_26['Imunodepositos_IgG_C1q_Fibrinogenio'][i]                            = 0\n",
    "        df_26['Imunodepositos_IgG_C3'][i]                                          = 0\n",
    "        df_26['Imunodepositos_IgG_Fibrinogênio'][i]                                = 0\n",
    "        df_26['Imunodepositos_IgG_IgA_IgM_C3_Fibrinogenio_kappa_lambda'][i]        = 0\n",
    "        df_26['Imunodepositos_IgG_Kappa_lambda_fibrinogenio'][i]                   = 0\n",
    "        df_26['Imunodepositos_IgM'][i]                                             = 0\n",
    "        df_26['Imunodepositos_IgM_C1q_C3_Lambda'][i]                               = 0\n",
    "        df_26['Imunodepositos_IgM_C3'][i]                                          = 0\n",
    "        df_26['Imunodepositos_IgM_C3_C1q'][i]                                      = 0\n",
    "        df_26['Imunodepositos_IgM_C3_C1q_lambda_fibrinogenio'][i]                  = 0\n",
    "        df_26['Imunodepositos_IgM_C3_fibrinogenio'][i]                             = 0\n",
    "        df_26['Imunodepositos_IgM_IgA_C3_C1q_Fibrinogenio_kappa_lambda'][i]        = 0\n",
    "        df_26['Imunodepositos_IgM_IgA_IgG_C3_fibrinogenio'][i]                     = 0\n",
    "        df_26['Imunodepositos_IgM_IgG_C1q_kappa_lambda_fibrinogenio'][i]           = 0\n",
    "        df_26['Imunodepositos_IgM_IgG_C3'][i]                                      = 0\n",
    "        df_26['Imunodepositos_IgM_IgG_C3_Lambda_Fibrinogenio'][i]                  = 0\n",
    "        df_26['Imunodepositos_IgM_IgG_IgA_C3_Kappa_Lambda_fibrinogenio'][i]        = 0\n",
    "        df_26['Imunodepositos_IgM_IgG_IgA_C3_Lambda'][i]                           = 0\n",
    "        df_26['Imunodepositos_IgM_IgG_IgA_C3_c1q'][i]                              = 0\n",
    "        df_26['Imunodepositos_IgM_IgG_IgA_Lambda_Fibrinogenio'][i]                 = 0\n",
    "        df_26['Imunodepositos_IgM_IgG_Kappa_Lambda_Fibrinogenio'][i]               = 0\n",
    "        df_26['Imunodepositos_IgM_IgG_fibrinogenio'][i]                            = 0\n",
    "        df_26['Imunodepositos_IgM_Lambda_fibrinogenio'][i]                         = 0\n",
    "        df_26['Imunodepositos_Kappa_Fibrinogenio'][i]                              = 0\n",
    "        df_26['Imunodepositos_Kappa_lambda'][i]                                    = 0\n",
    "        df_26['Imunodepositos_full_house'][i]                                      = 0\n",
    "        df_26['Imunodepositos_lambda'][i]                                          = 0\n",
    "        df_26['Imunodepositos_negativa'][i]                                        = 0\n",
    "        df_26['Imunodepositos_nao_realizada'][i]                                   = 0\n",
    "    elif coluna[i] == 'IgA C1q fibrinogênio':\n",
    "        df_26['Imunodepositos_C3'][i]                                              = 0\n",
    "        df_26['Imunodepositos_IgA_(co-dominante)'][i]                              = 0\n",
    "        df_26['Imunodepositos_IgA_(co-dominante)_C3_Kappa_lambda_fibrinogênio'][i] = 0\n",
    "        df_26['Imunodepositos_IgA_(co-dominante)_IgG_kappa_lambda'][i]             = 0\n",
    "        df_26['Imunodepositos_IgA_(co-dominante)_Kappa_lambda'][i]                 = 0\n",
    "        df_26['Imunodepositos_IgA_C1q_fibrinogênio'][i]                            = 1\n",
    "        df_26['Imunodepositos_IgA_IgM_C3_C1q_lambda'][i]                           = 0\n",
    "        df_26['Imunodepositos_IgA_IgM_IgG_C1q'][i]                                 = 0\n",
    "        df_26['Imunodepositos_IgA_IgM_IgG_C3_C1q'][i]                              = 0\n",
    "        df_26['Imunodepositos_IgG'][i]                                             = 0\n",
    "        df_26['Imunodepositos_IgG_C1q_Fibrinogenio'][i]                            = 0\n",
    "        df_26['Imunodepositos_IgG_C3'][i]                                          = 0\n",
    "        df_26['Imunodepositos_IgG_Fibrinogênio'][i]                                = 0\n",
    "        df_26['Imunodepositos_IgG_IgA_IgM_C3_Fibrinogenio_kappa_lambda'][i]        = 0\n",
    "        df_26['Imunodepositos_IgG_Kappa_lambda_fibrinogenio'][i]                   = 0\n",
    "        df_26['Imunodepositos_IgM'][i]                                             = 0\n",
    "        df_26['Imunodepositos_IgM_C1q_C3_Lambda'][i]                               = 0\n",
    "        df_26['Imunodepositos_IgM_C3'][i]                                          = 0\n",
    "        df_26['Imunodepositos_IgM_C3_C1q'][i]                                      = 0\n",
    "        df_26['Imunodepositos_IgM_C3_C1q_lambda_fibrinogenio'][i]                  = 0\n",
    "        df_26['Imunodepositos_IgM_C3_fibrinogenio'][i]                             = 0\n",
    "        df_26['Imunodepositos_IgM_IgA_C3_C1q_Fibrinogenio_kappa_lambda'][i]        = 0\n",
    "        df_26['Imunodepositos_IgM_IgA_IgG_C3_fibrinogenio'][i]                     = 0\n",
    "        df_26['Imunodepositos_IgM_IgG_C1q_kappa_lambda_fibrinogenio'][i]           = 0\n",
    "        df_26['Imunodepositos_IgM_IgG_C3'][i]                                      = 0\n",
    "        df_26['Imunodepositos_IgM_IgG_C3_Lambda_Fibrinogenio'][i]                  = 0\n",
    "        df_26['Imunodepositos_IgM_IgG_IgA_C3_Kappa_Lambda_fibrinogenio'][i]        = 0\n",
    "        df_26['Imunodepositos_IgM_IgG_IgA_C3_Lambda'][i]                           = 0\n",
    "        df_26['Imunodepositos_IgM_IgG_IgA_C3_c1q'][i]                              = 0\n",
    "        df_26['Imunodepositos_IgM_IgG_IgA_Lambda_Fibrinogenio'][i]                 = 0\n",
    "        df_26['Imunodepositos_IgM_IgG_Kappa_Lambda_Fibrinogenio'][i]               = 0\n",
    "        df_26['Imunodepositos_IgM_IgG_fibrinogenio'][i]                            = 0\n",
    "        df_26['Imunodepositos_IgM_Lambda_fibrinogenio'][i]                         = 0\n",
    "        df_26['Imunodepositos_Kappa_Fibrinogenio'][i]                              = 0\n",
    "        df_26['Imunodepositos_Kappa_lambda'][i]                                    = 0\n",
    "        df_26['Imunodepositos_full_house'][i]                                      = 0\n",
    "        df_26['Imunodepositos_lambda'][i]                                          = 0\n",
    "        df_26['Imunodepositos_negativa'][i]                                        = 0\n",
    "        df_26['Imunodepositos_nao_realizada'][i]                                   = 0\n",
    "    elif coluna[i] == 'IgA IgM C3 C1q lambda':\n",
    "        df_26['Imunodepositos_C3'][i]                                              = 0\n",
    "        df_26['Imunodepositos_IgA_(co-dominante)'][i]                              = 0\n",
    "        df_26['Imunodepositos_IgA_(co-dominante)_C3_Kappa_lambda_fibrinogênio'][i] = 0\n",
    "        df_26['Imunodepositos_IgA_(co-dominante)_IgG_kappa_lambda'][i]             = 0\n",
    "        df_26['Imunodepositos_IgA_(co-dominante)_Kappa_lambda'][i]                 = 0\n",
    "        df_26['Imunodepositos_IgA_C1q_fibrinogênio'][i]                            = 0\n",
    "        df_26['Imunodepositos_IgA_IgM_C3_C1q_lambda'][i]                           = 1\n",
    "        df_26['Imunodepositos_IgA_IgM_IgG_C1q'][i]                                 = 0\n",
    "        df_26['Imunodepositos_IgA_IgM_IgG_C3_C1q'][i]                              = 0\n",
    "        df_26['Imunodepositos_IgG'][i]                                             = 0\n",
    "        df_26['Imunodepositos_IgG_C1q_Fibrinogenio'][i]                            = 0\n",
    "        df_26['Imunodepositos_IgG_C3'][i]                                          = 0\n",
    "        df_26['Imunodepositos_IgG_Fibrinogênio'][i]                                = 0\n",
    "        df_26['Imunodepositos_IgG_IgA_IgM_C3_Fibrinogenio_kappa_lambda'][i]        = 0\n",
    "        df_26['Imunodepositos_IgG_Kappa_lambda_fibrinogenio'][i]                   = 0\n",
    "        df_26['Imunodepositos_IgM'][i]                                             = 0\n",
    "        df_26['Imunodepositos_IgM_C1q_C3_Lambda'][i]                               = 0\n",
    "        df_26['Imunodepositos_IgM_C3'][i]                                          = 0\n",
    "        df_26['Imunodepositos_IgM_C3_C1q'][i]                                      = 0\n",
    "        df_26['Imunodepositos_IgM_C3_C1q_lambda_fibrinogenio'][i]                  = 0\n",
    "        df_26['Imunodepositos_IgM_C3_fibrinogenio'][i]                             = 0\n",
    "        df_26['Imunodepositos_IgM_IgA_C3_C1q_Fibrinogenio_kappa_lambda'][i]        = 0\n",
    "        df_26['Imunodepositos_IgM_IgA_IgG_C3_fibrinogenio'][i]                     = 0\n",
    "        df_26['Imunodepositos_IgM_IgG_C1q_kappa_lambda_fibrinogenio'][i]           = 0\n",
    "        df_26['Imunodepositos_IgM_IgG_C3'][i]                                      = 0\n",
    "        df_26['Imunodepositos_IgM_IgG_C3_Lambda_Fibrinogenio'][i]                  = 0\n",
    "        df_26['Imunodepositos_IgM_IgG_IgA_C3_Kappa_Lambda_fibrinogenio'][i]        = 0\n",
    "        df_26['Imunodepositos_IgM_IgG_IgA_C3_Lambda'][i]                           = 0\n",
    "        df_26['Imunodepositos_IgM_IgG_IgA_C3_c1q'][i]                              = 0\n",
    "        df_26['Imunodepositos_IgM_IgG_IgA_Lambda_Fibrinogenio'][i]                 = 0\n",
    "        df_26['Imunodepositos_IgM_IgG_Kappa_Lambda_Fibrinogenio'][i]               = 0\n",
    "        df_26['Imunodepositos_IgM_IgG_fibrinogenio'][i]                            = 0\n",
    "        df_26['Imunodepositos_IgM_Lambda_fibrinogenio'][i]                         = 0\n",
    "        df_26['Imunodepositos_Kappa_Fibrinogenio'][i]                              = 0\n",
    "        df_26['Imunodepositos_Kappa_lambda'][i]                                    = 0\n",
    "        df_26['Imunodepositos_full_house'][i]                                      = 0\n",
    "        df_26['Imunodepositos_lambda'][i]                                          = 0\n",
    "        df_26['Imunodepositos_negativa'][i]                                        = 0\n",
    "        df_26['Imunodepositos_nao_realizada'][i]                                   = 0\n",
    "    elif coluna[i] == 'IgA IgM IgG C1q':\n",
    "        df_26['Imunodepositos_C3'][i]                                              = 0\n",
    "        df_26['Imunodepositos_IgA_(co-dominante)'][i]                              = 0\n",
    "        df_26['Imunodepositos_IgA_(co-dominante)_C3_Kappa_lambda_fibrinogênio'][i] = 0\n",
    "        df_26['Imunodepositos_IgA_(co-dominante)_IgG_kappa_lambda'][i]             = 0\n",
    "        df_26['Imunodepositos_IgA_(co-dominante)_Kappa_lambda'][i]                 = 0\n",
    "        df_26['Imunodepositos_IgA_C1q_fibrinogênio'][i]                            = 0\n",
    "        df_26['Imunodepositos_IgA_IgM_C3_C1q_lambda'][i]                           = 0\n",
    "        df_26['Imunodepositos_IgA_IgM_IgG_C1q'][i]                                 = 1\n",
    "        df_26['Imunodepositos_IgA_IgM_IgG_C3_C1q'][i]                              = 0\n",
    "        df_26['Imunodepositos_IgG'][i]                                             = 0\n",
    "        df_26['Imunodepositos_IgG_C1q_Fibrinogenio'][i]                            = 0\n",
    "        df_26['Imunodepositos_IgG_C3'][i]                                          = 0\n",
    "        df_26['Imunodepositos_IgG_Fibrinogênio'][i]                                = 0\n",
    "        df_26['Imunodepositos_IgG_IgA_IgM_C3_Fibrinogenio_kappa_lambda'][i]        = 0\n",
    "        df_26['Imunodepositos_IgG_Kappa_lambda_fibrinogenio'][i]                   = 0\n",
    "        df_26['Imunodepositos_IgM'][i]                                             = 0\n",
    "        df_26['Imunodepositos_IgM_C1q_C3_Lambda'][i]                               = 0\n",
    "        df_26['Imunodepositos_IgM_C3'][i]                                          = 0\n",
    "        df_26['Imunodepositos_IgM_C3_C1q'][i]                                      = 0\n",
    "        df_26['Imunodepositos_IgM_C3_C1q_lambda_fibrinogenio'][i]                  = 0\n",
    "        df_26['Imunodepositos_IgM_C3_fibrinogenio'][i]                             = 0\n",
    "        df_26['Imunodepositos_IgM_IgA_C3_C1q_Fibrinogenio_kappa_lambda'][i]        = 0\n",
    "        df_26['Imunodepositos_IgM_IgA_IgG_C3_fibrinogenio'][i]                     = 0\n",
    "        df_26['Imunodepositos_IgM_IgG_C1q_kappa_lambda_fibrinogenio'][i]           = 0\n",
    "        df_26['Imunodepositos_IgM_IgG_C3'][i]                                      = 0\n",
    "        df_26['Imunodepositos_IgM_IgG_C3_Lambda_Fibrinogenio'][i]                  = 0\n",
    "        df_26['Imunodepositos_IgM_IgG_IgA_C3_Kappa_Lambda_fibrinogenio'][i]        = 0\n",
    "        df_26['Imunodepositos_IgM_IgG_IgA_C3_Lambda'][i]                           = 0\n",
    "        df_26['Imunodepositos_IgM_IgG_IgA_C3_c1q'][i]                              = 0\n",
    "        df_26['Imunodepositos_IgM_IgG_IgA_Lambda_Fibrinogenio'][i]                 = 0\n",
    "        df_26['Imunodepositos_IgM_IgG_Kappa_Lambda_Fibrinogenio'][i]               = 0\n",
    "        df_26['Imunodepositos_IgM_IgG_fibrinogenio'][i]                            = 0\n",
    "        df_26['Imunodepositos_IgM_Lambda_fibrinogenio'][i]                         = 0\n",
    "        df_26['Imunodepositos_Kappa_Fibrinogenio'][i]                              = 0\n",
    "        df_26['Imunodepositos_Kappa_lambda'][i]                                    = 0\n",
    "        df_26['Imunodepositos_full_house'][i]                                      = 0\n",
    "        df_26['Imunodepositos_lambda'][i]                                          = 0\n",
    "        df_26['Imunodepositos_negativa'][i]                                        = 0\n",
    "        df_26['Imunodepositos_nao_realizada'][i]                                   = 0\n",
    "    elif coluna[i] == 'IgA IgM IgG C3 C1q':\n",
    "        df_26['Imunodepositos_C3'][i]                                              = 0\n",
    "        df_26['Imunodepositos_IgA_(co-dominante)'][i]                              = 0\n",
    "        df_26['Imunodepositos_IgA_(co-dominante)_C3_Kappa_lambda_fibrinogênio'][i] = 0\n",
    "        df_26['Imunodepositos_IgA_(co-dominante)_IgG_kappa_lambda'][i]             = 0\n",
    "        df_26['Imunodepositos_IgA_(co-dominante)_Kappa_lambda'][i]                 = 0\n",
    "        df_26['Imunodepositos_IgA_C1q_fibrinogênio'][i]                            = 0\n",
    "        df_26['Imunodepositos_IgA_IgM_C3_C1q_lambda'][i]                           = 0\n",
    "        df_26['Imunodepositos_IgA_IgM_IgG_C1q'][i]                                 = 0\n",
    "        df_26['Imunodepositos_IgA_IgM_IgG_C3_C1q'][i]                              = 1\n",
    "        df_26['Imunodepositos_IgG'][i]                                             = 0\n",
    "        df_26['Imunodepositos_IgG_C1q_Fibrinogenio'][i]                            = 0\n",
    "        df_26['Imunodepositos_IgG_C3'][i]                                          = 0\n",
    "        df_26['Imunodepositos_IgG_Fibrinogênio'][i]                                = 0\n",
    "        df_26['Imunodepositos_IgG_IgA_IgM_C3_Fibrinogenio_kappa_lambda'][i]        = 0\n",
    "        df_26['Imunodepositos_IgG_Kappa_lambda_fibrinogenio'][i]                   = 0\n",
    "        df_26['Imunodepositos_IgM'][i]                                             = 0\n",
    "        df_26['Imunodepositos_IgM_C1q_C3_Lambda'][i]                               = 0\n",
    "        df_26['Imunodepositos_IgM_C3'][i]                                          = 0\n",
    "        df_26['Imunodepositos_IgM_C3_C1q'][i]                                      = 0\n",
    "        df_26['Imunodepositos_IgM_C3_C1q_lambda_fibrinogenio'][i]                  = 0\n",
    "        df_26['Imunodepositos_IgM_C3_fibrinogenio'][i]                             = 0\n",
    "        df_26['Imunodepositos_IgM_IgA_C3_C1q_Fibrinogenio_kappa_lambda'][i]        = 0\n",
    "        df_26['Imunodepositos_IgM_IgA_IgG_C3_fibrinogenio'][i]                     = 0\n",
    "        df_26['Imunodepositos_IgM_IgG_C1q_kappa_lambda_fibrinogenio'][i]           = 0\n",
    "        df_26['Imunodepositos_IgM_IgG_C3'][i]                                      = 0\n",
    "        df_26['Imunodepositos_IgM_IgG_C3_Lambda_Fibrinogenio'][i]                  = 0\n",
    "        df_26['Imunodepositos_IgM_IgG_IgA_C3_Kappa_Lambda_fibrinogenio'][i]        = 0\n",
    "        df_26['Imunodepositos_IgM_IgG_IgA_C3_Lambda'][i]                           = 0\n",
    "        df_26['Imunodepositos_IgM_IgG_IgA_C3_c1q'][i]                              = 0\n",
    "        df_26['Imunodepositos_IgM_IgG_IgA_Lambda_Fibrinogenio'][i]                 = 0\n",
    "        df_26['Imunodepositos_IgM_IgG_Kappa_Lambda_Fibrinogenio'][i]               = 0\n",
    "        df_26['Imunodepositos_IgM_IgG_fibrinogenio'][i]                            = 0\n",
    "        df_26['Imunodepositos_IgM_Lambda_fibrinogenio'][i]                         = 0\n",
    "        df_26['Imunodepositos_Kappa_Fibrinogenio'][i]                              = 0\n",
    "        df_26['Imunodepositos_Kappa_lambda'][i]                                    = 0\n",
    "        df_26['Imunodepositos_full_house'][i]                                      = 0\n",
    "        df_26['Imunodepositos_lambda'][i]                                          = 0\n",
    "        df_26['Imunodepositos_negativa'][i]                                        = 0\n",
    "        df_26['Imunodepositos_nao_realizada'][i]                                   = 0\n",
    "    elif coluna[i] == 'IgG':\n",
    "        df_26['Imunodepositos_C3'][i]                                              = 0\n",
    "        df_26['Imunodepositos_IgA_(co-dominante)'][i]                              = 0\n",
    "        df_26['Imunodepositos_IgA_(co-dominante)_C3_Kappa_lambda_fibrinogênio'][i] = 0\n",
    "        df_26['Imunodepositos_IgA_(co-dominante)_IgG_kappa_lambda'][i]             = 0\n",
    "        df_26['Imunodepositos_IgA_(co-dominante)_Kappa_lambda'][i]                 = 0\n",
    "        df_26['Imunodepositos_IgA_C1q_fibrinogênio'][i]                            = 0\n",
    "        df_26['Imunodepositos_IgA_IgM_C3_C1q_lambda'][i]                           = 0\n",
    "        df_26['Imunodepositos_IgA_IgM_IgG_C1q'][i]                                 = 0\n",
    "        df_26['Imunodepositos_IgA_IgM_IgG_C3_C1q'][i]                              = 0\n",
    "        df_26['Imunodepositos_IgG'][i]                                             = 1\n",
    "        df_26['Imunodepositos_IgG_C1q_Fibrinogenio'][i]                            = 0\n",
    "        df_26['Imunodepositos_IgG_C3'][i]                                          = 0\n",
    "        df_26['Imunodepositos_IgG_Fibrinogênio'][i]                                = 0\n",
    "        df_26['Imunodepositos_IgG_IgA_IgM_C3_Fibrinogenio_kappa_lambda'][i]        = 0\n",
    "        df_26['Imunodepositos_IgG_Kappa_lambda_fibrinogenio'][i]                   = 0\n",
    "        df_26['Imunodepositos_IgM'][i]                                             = 0\n",
    "        df_26['Imunodepositos_IgM_C1q_C3_Lambda'][i]                               = 0\n",
    "        df_26['Imunodepositos_IgM_C3'][i]                                          = 0\n",
    "        df_26['Imunodepositos_IgM_C3_C1q'][i]                                      = 0\n",
    "        df_26['Imunodepositos_IgM_C3_C1q_lambda_fibrinogenio'][i]                  = 0\n",
    "        df_26['Imunodepositos_IgM_C3_fibrinogenio'][i]                             = 0\n",
    "        df_26['Imunodepositos_IgM_IgA_C3_C1q_Fibrinogenio_kappa_lambda'][i]        = 0\n",
    "        df_26['Imunodepositos_IgM_IgA_IgG_C3_fibrinogenio'][i]                     = 0\n",
    "        df_26['Imunodepositos_IgM_IgG_C1q_kappa_lambda_fibrinogenio'][i]           = 0\n",
    "        df_26['Imunodepositos_IgM_IgG_C3'][i]                                      = 0\n",
    "        df_26['Imunodepositos_IgM_IgG_C3_Lambda_Fibrinogenio'][i]                  = 0\n",
    "        df_26['Imunodepositos_IgM_IgG_IgA_C3_Kappa_Lambda_fibrinogenio'][i]        = 0\n",
    "        df_26['Imunodepositos_IgM_IgG_IgA_C3_Lambda'][i]                           = 0\n",
    "        df_26['Imunodepositos_IgM_IgG_IgA_C3_c1q'][i]                              = 0\n",
    "        df_26['Imunodepositos_IgM_IgG_IgA_Lambda_Fibrinogenio'][i]                 = 0\n",
    "        df_26['Imunodepositos_IgM_IgG_Kappa_Lambda_Fibrinogenio'][i]               = 0\n",
    "        df_26['Imunodepositos_IgM_IgG_fibrinogenio'][i]                            = 0\n",
    "        df_26['Imunodepositos_IgM_Lambda_fibrinogenio'][i]                         = 0\n",
    "        df_26['Imunodepositos_Kappa_Fibrinogenio'][i]                              = 0\n",
    "        df_26['Imunodepositos_Kappa_lambda'][i]                                    = 0\n",
    "        df_26['Imunodepositos_full_house'][i]                                      = 0\n",
    "        df_26['Imunodepositos_lambda'][i]                                          = 0\n",
    "        df_26['Imunodepositos_negativa'][i]                                        = 0\n",
    "        df_26['Imunodepositos_nao_realizada'][i]                                   = 0\n",
    "    elif coluna[i] == 'IgG C1q Fibrinogênio':\n",
    "        df_26['Imunodepositos_C3'][i]                                              = 0\n",
    "        df_26['Imunodepositos_IgA_(co-dominante)'][i]                              = 0\n",
    "        df_26['Imunodepositos_IgA_(co-dominante)_C3_Kappa_lambda_fibrinogênio'][i] = 0\n",
    "        df_26['Imunodepositos_IgA_(co-dominante)_IgG_kappa_lambda'][i]             = 0\n",
    "        df_26['Imunodepositos_IgA_(co-dominante)_Kappa_lambda'][i]                 = 0\n",
    "        df_26['Imunodepositos_IgA_C1q_fibrinogênio'][i]                            = 0\n",
    "        df_26['Imunodepositos_IgA_IgM_C3_C1q_lambda'][i]                           = 0\n",
    "        df_26['Imunodepositos_IgA_IgM_IgG_C1q'][i]                                 = 0\n",
    "        df_26['Imunodepositos_IgA_IgM_IgG_C3_C1q'][i]                              = 0\n",
    "        df_26['Imunodepositos_IgG'][i]                                             = 0\n",
    "        df_26['Imunodepositos_IgG_C1q_Fibrinogenio'][i]                            = 1\n",
    "        df_26['Imunodepositos_IgG_C3'][i]                                          = 0\n",
    "        df_26['Imunodepositos_IgG_Fibrinogênio'][i]                                = 0\n",
    "        df_26['Imunodepositos_IgG_IgA_IgM_C3_Fibrinogenio_kappa_lambda'][i]        = 0\n",
    "        df_26['Imunodepositos_IgG_Kappa_lambda_fibrinogenio'][i]                   = 0\n",
    "        df_26['Imunodepositos_IgM'][i]                                             = 0\n",
    "        df_26['Imunodepositos_IgM_C1q_C3_Lambda'][i]                               = 0\n",
    "        df_26['Imunodepositos_IgM_C3'][i]                                          = 0\n",
    "        df_26['Imunodepositos_IgM_C3_C1q'][i]                                      = 0\n",
    "        df_26['Imunodepositos_IgM_C3_C1q_lambda_fibrinogenio'][i]                  = 0\n",
    "        df_26['Imunodepositos_IgM_C3_fibrinogenio'][i]                             = 0\n",
    "        df_26['Imunodepositos_IgM_IgA_C3_C1q_Fibrinogenio_kappa_lambda'][i]        = 0\n",
    "        df_26['Imunodepositos_IgM_IgA_IgG_C3_fibrinogenio'][i]                     = 0\n",
    "        df_26['Imunodepositos_IgM_IgG_C1q_kappa_lambda_fibrinogenio'][i]           = 0\n",
    "        df_26['Imunodepositos_IgM_IgG_C3'][i]                                      = 0\n",
    "        df_26['Imunodepositos_IgM_IgG_C3_Lambda_Fibrinogenio'][i]                  = 0\n",
    "        df_26['Imunodepositos_IgM_IgG_IgA_C3_Kappa_Lambda_fibrinogenio'][i]        = 0\n",
    "        df_26['Imunodepositos_IgM_IgG_IgA_C3_Lambda'][i]                           = 0\n",
    "        df_26['Imunodepositos_IgM_IgG_IgA_C3_c1q'][i]                              = 0\n",
    "        df_26['Imunodepositos_IgM_IgG_IgA_Lambda_Fibrinogenio'][i]                 = 0\n",
    "        df_26['Imunodepositos_IgM_IgG_Kappa_Lambda_Fibrinogenio'][i]               = 0\n",
    "        df_26['Imunodepositos_IgM_IgG_fibrinogenio'][i]                            = 0\n",
    "        df_26['Imunodepositos_IgM_Lambda_fibrinogenio'][i]                         = 0\n",
    "        df_26['Imunodepositos_Kappa_Fibrinogenio'][i]                              = 0\n",
    "        df_26['Imunodepositos_Kappa_lambda'][i]                                    = 0\n",
    "        df_26['Imunodepositos_full_house'][i]                                      = 0\n",
    "        df_26['Imunodepositos_lambda'][i]                                          = 0\n",
    "        df_26['Imunodepositos_negativa'][i]                                        = 0\n",
    "        df_26['Imunodepositos_nao_realizada'][i]                                   = 0\n",
    "    elif coluna[i] == 'IgG C3':\n",
    "        df_26['Imunodepositos_C3'][i]                                              = 0\n",
    "        df_26['Imunodepositos_IgA_(co-dominante)'][i]                              = 0\n",
    "        df_26['Imunodepositos_IgA_(co-dominante)_C3_Kappa_lambda_fibrinogênio'][i] = 0\n",
    "        df_26['Imunodepositos_IgA_(co-dominante)_IgG_kappa_lambda'][i]             = 0\n",
    "        df_26['Imunodepositos_IgA_(co-dominante)_Kappa_lambda'][i]                 = 0\n",
    "        df_26['Imunodepositos_IgA_C1q_fibrinogênio'][i]                            = 0\n",
    "        df_26['Imunodepositos_IgA_IgM_C3_C1q_lambda'][i]                           = 0\n",
    "        df_26['Imunodepositos_IgA_IgM_IgG_C1q'][i]                                 = 0\n",
    "        df_26['Imunodepositos_IgA_IgM_IgG_C3_C1q'][i]                              = 0\n",
    "        df_26['Imunodepositos_IgG'][i]                                             = 0\n",
    "        df_26['Imunodepositos_IgG_C1q_Fibrinogenio'][i]                            = 0\n",
    "        df_26['Imunodepositos_IgG_C3'][i]                                          = 1\n",
    "        df_26['Imunodepositos_IgG_Fibrinogênio'][i]                                = 0\n",
    "        df_26['Imunodepositos_IgG_IgA_IgM_C3_Fibrinogenio_kappa_lambda'][i]        = 0\n",
    "        df_26['Imunodepositos_IgG_Kappa_lambda_fibrinogenio'][i]                   = 0\n",
    "        df_26['Imunodepositos_IgM'][i]                                             = 0\n",
    "        df_26['Imunodepositos_IgM_C1q_C3_Lambda'][i]                               = 0\n",
    "        df_26['Imunodepositos_IgM_C3'][i]                                          = 0\n",
    "        df_26['Imunodepositos_IgM_C3_C1q'][i]                                      = 0\n",
    "        df_26['Imunodepositos_IgM_C3_C1q_lambda_fibrinogenio'][i]                  = 0\n",
    "        df_26['Imunodepositos_IgM_C3_fibrinogenio'][i]                             = 0\n",
    "        df_26['Imunodepositos_IgM_IgA_C3_C1q_Fibrinogenio_kappa_lambda'][i]        = 0\n",
    "        df_26['Imunodepositos_IgM_IgA_IgG_C3_fibrinogenio'][i]                     = 0\n",
    "        df_26['Imunodepositos_IgM_IgG_C1q_kappa_lambda_fibrinogenio'][i]           = 0\n",
    "        df_26['Imunodepositos_IgM_IgG_C3'][i]                                      = 0\n",
    "        df_26['Imunodepositos_IgM_IgG_C3_Lambda_Fibrinogenio'][i]                  = 0\n",
    "        df_26['Imunodepositos_IgM_IgG_IgA_C3_Kappa_Lambda_fibrinogenio'][i]        = 0\n",
    "        df_26['Imunodepositos_IgM_IgG_IgA_C3_Lambda'][i]                           = 0\n",
    "        df_26['Imunodepositos_IgM_IgG_IgA_C3_c1q'][i]                              = 0\n",
    "        df_26['Imunodepositos_IgM_IgG_IgA_Lambda_Fibrinogenio'][i]                 = 0\n",
    "        df_26['Imunodepositos_IgM_IgG_Kappa_Lambda_Fibrinogenio'][i]               = 0\n",
    "        df_26['Imunodepositos_IgM_IgG_fibrinogenio'][i]                            = 0\n",
    "        df_26['Imunodepositos_IgM_Lambda_fibrinogenio'][i]                         = 0\n",
    "        df_26['Imunodepositos_Kappa_Fibrinogenio'][i]                              = 0\n",
    "        df_26['Imunodepositos_Kappa_lambda'][i]                                    = 0\n",
    "        df_26['Imunodepositos_full_house'][i]                                      = 0\n",
    "        df_26['Imunodepositos_lambda'][i]                                          = 0\n",
    "        df_26['Imunodepositos_negativa'][i]                                        = 0\n",
    "        df_26['Imunodepositos_nao_realizada'][i]                                   = 0\n",
    "    elif coluna[i] == 'IgG Fibrinogênio':\n",
    "        df_26['Imunodepositos_C3'][i]                                              = 0\n",
    "        df_26['Imunodepositos_IgA_(co-dominante)'][i]                              = 0\n",
    "        df_26['Imunodepositos_IgA_(co-dominante)_C3_Kappa_lambda_fibrinogênio'][i] = 0\n",
    "        df_26['Imunodepositos_IgA_(co-dominante)_IgG_kappa_lambda'][i]             = 0\n",
    "        df_26['Imunodepositos_IgA_(co-dominante)_Kappa_lambda'][i]                 = 0\n",
    "        df_26['Imunodepositos_IgA_C1q_fibrinogênio'][i]                            = 0\n",
    "        df_26['Imunodepositos_IgA_IgM_C3_C1q_lambda'][i]                           = 0\n",
    "        df_26['Imunodepositos_IgA_IgM_IgG_C1q'][i]                                 = 0\n",
    "        df_26['Imunodepositos_IgA_IgM_IgG_C3_C1q'][i]                              = 0\n",
    "        df_26['Imunodepositos_IgG'][i]                                             = 0\n",
    "        df_26['Imunodepositos_IgG_C1q_Fibrinogenio'][i]                            = 0\n",
    "        df_26['Imunodepositos_IgG_C3'][i]                                          = 0\n",
    "        df_26['Imunodepositos_IgG_Fibrinogênio'][i]                                = 1\n",
    "        df_26['Imunodepositos_IgG_IgA_IgM_C3_Fibrinogenio_kappa_lambda'][i]        = 0\n",
    "        df_26['Imunodepositos_IgG_Kappa_lambda_fibrinogenio'][i]                   = 0\n",
    "        df_26['Imunodepositos_IgM'][i]                                             = 0\n",
    "        df_26['Imunodepositos_IgM_C1q_C3_Lambda'][i]                               = 0\n",
    "        df_26['Imunodepositos_IgM_C3'][i]                                          = 0\n",
    "        df_26['Imunodepositos_IgM_C3_C1q'][i]                                      = 0\n",
    "        df_26['Imunodepositos_IgM_C3_C1q_lambda_fibrinogenio'][i]                  = 0\n",
    "        df_26['Imunodepositos_IgM_C3_fibrinogenio'][i]                             = 0\n",
    "        df_26['Imunodepositos_IgM_IgA_C3_C1q_Fibrinogenio_kappa_lambda'][i]        = 0\n",
    "        df_26['Imunodepositos_IgM_IgA_IgG_C3_fibrinogenio'][i]                     = 0\n",
    "        df_26['Imunodepositos_IgM_IgG_C1q_kappa_lambda_fibrinogenio'][i]           = 0\n",
    "        df_26['Imunodepositos_IgM_IgG_C3'][i]                                      = 0\n",
    "        df_26['Imunodepositos_IgM_IgG_C3_Lambda_Fibrinogenio'][i]                  = 0\n",
    "        df_26['Imunodepositos_IgM_IgG_IgA_C3_Kappa_Lambda_fibrinogenio'][i]        = 0\n",
    "        df_26['Imunodepositos_IgM_IgG_IgA_C3_Lambda'][i]                           = 0\n",
    "        df_26['Imunodepositos_IgM_IgG_IgA_C3_c1q'][i]                              = 0\n",
    "        df_26['Imunodepositos_IgM_IgG_IgA_Lambda_Fibrinogenio'][i]                 = 0\n",
    "        df_26['Imunodepositos_IgM_IgG_Kappa_Lambda_Fibrinogenio'][i]               = 0\n",
    "        df_26['Imunodepositos_IgM_IgG_fibrinogenio'][i]                            = 0\n",
    "        df_26['Imunodepositos_IgM_Lambda_fibrinogenio'][i]                         = 0\n",
    "        df_26['Imunodepositos_Kappa_Fibrinogenio'][i]                              = 0\n",
    "        df_26['Imunodepositos_Kappa_lambda'][i]                                    = 0\n",
    "        df_26['Imunodepositos_full_house'][i]                                      = 0\n",
    "        df_26['Imunodepositos_lambda'][i]                                          = 0\n",
    "        df_26['Imunodepositos_negativa'][i]                                        = 0\n",
    "        df_26['Imunodepositos_nao_realizada'][i]                                   = 0\n",
    "    elif coluna[i] == 'IgG IgA IgM C3 Fibrinogênio kappa lambda':\n",
    "        df_26['Imunodepositos_C3'][i]                                              = 0\n",
    "        df_26['Imunodepositos_IgA_(co-dominante)'][i]                              = 0\n",
    "        df_26['Imunodepositos_IgA_(co-dominante)_C3_Kappa_lambda_fibrinogênio'][i] = 0\n",
    "        df_26['Imunodepositos_IgA_(co-dominante)_IgG_kappa_lambda'][i]             = 0\n",
    "        df_26['Imunodepositos_IgA_(co-dominante)_Kappa_lambda'][i]                 = 0\n",
    "        df_26['Imunodepositos_IgA_C1q_fibrinogênio'][i]                            = 0\n",
    "        df_26['Imunodepositos_IgA_IgM_C3_C1q_lambda'][i]                           = 0\n",
    "        df_26['Imunodepositos_IgA_IgM_IgG_C1q'][i]                                 = 0\n",
    "        df_26['Imunodepositos_IgA_IgM_IgG_C3_C1q'][i]                              = 0\n",
    "        df_26['Imunodepositos_IgG'][i]                                             = 0\n",
    "        df_26['Imunodepositos_IgG_C1q_Fibrinogenio'][i]                            = 0\n",
    "        df_26['Imunodepositos_IgG_C3'][i]                                          = 0\n",
    "        df_26['Imunodepositos_IgG_Fibrinogênio'][i]                                = 0\n",
    "        df_26['Imunodepositos_IgG_IgA_IgM_C3_Fibrinogenio_kappa_lambda'][i]        = 1\n",
    "        df_26['Imunodepositos_IgG_Kappa_lambda_fibrinogenio'][i]                   = 0\n",
    "        df_26['Imunodepositos_IgM'][i]                                             = 0\n",
    "        df_26['Imunodepositos_IgM_C1q_C3_Lambda'][i]                               = 0\n",
    "        df_26['Imunodepositos_IgM_C3'][i]                                          = 0\n",
    "        df_26['Imunodepositos_IgM_C3_C1q'][i]                                      = 0\n",
    "        df_26['Imunodepositos_IgM_C3_C1q_lambda_fibrinogenio'][i]                  = 0\n",
    "        df_26['Imunodepositos_IgM_C3_fibrinogenio'][i]                             = 0\n",
    "        df_26['Imunodepositos_IgM_IgA_C3_C1q_Fibrinogenio_kappa_lambda'][i]        = 0\n",
    "        df_26['Imunodepositos_IgM_IgA_IgG_C3_fibrinogenio'][i]                     = 0\n",
    "        df_26['Imunodepositos_IgM_IgG_C1q_kappa_lambda_fibrinogenio'][i]           = 0\n",
    "        df_26['Imunodepositos_IgM_IgG_C3'][i]                                      = 0\n",
    "        df_26['Imunodepositos_IgM_IgG_C3_Lambda_Fibrinogenio'][i]                  = 0\n",
    "        df_26['Imunodepositos_IgM_IgG_IgA_C3_Kappa_Lambda_fibrinogenio'][i]        = 0\n",
    "        df_26['Imunodepositos_IgM_IgG_IgA_C3_Lambda'][i]                           = 0\n",
    "        df_26['Imunodepositos_IgM_IgG_IgA_C3_c1q'][i]                              = 0\n",
    "        df_26['Imunodepositos_IgM_IgG_IgA_Lambda_Fibrinogenio'][i]                 = 0\n",
    "        df_26['Imunodepositos_IgM_IgG_Kappa_Lambda_Fibrinogenio'][i]               = 0\n",
    "        df_26['Imunodepositos_IgM_IgG_fibrinogenio'][i]                            = 0\n",
    "        df_26['Imunodepositos_IgM_Lambda_fibrinogenio'][i]                         = 0\n",
    "        df_26['Imunodepositos_Kappa_Fibrinogenio'][i]                              = 0\n",
    "        df_26['Imunodepositos_Kappa_lambda'][i]                                    = 0\n",
    "        df_26['Imunodepositos_full_house'][i]                                      = 0\n",
    "        df_26['Imunodepositos_lambda'][i]                                          = 0\n",
    "        df_26['Imunodepositos_negativa'][i]                                        = 0\n",
    "        df_26['Imunodepositos_nao_realizada'][i]                                   = 0\n",
    "    elif coluna[i] == 'IgG IgA IgM C3 fibrinogênio kappa lambda':\n",
    "        df_26['Imunodepositos_C3'][i]                                              = 0\n",
    "        df_26['Imunodepositos_IgA_(co-dominante)'][i]                              = 0\n",
    "        df_26['Imunodepositos_IgA_(co-dominante)_C3_Kappa_lambda_fibrinogênio'][i] = 0\n",
    "        df_26['Imunodepositos_IgA_(co-dominante)_IgG_kappa_lambda'][i]             = 0\n",
    "        df_26['Imunodepositos_IgA_(co-dominante)_Kappa_lambda'][i]                 = 0\n",
    "        df_26['Imunodepositos_IgA_C1q_fibrinogênio'][i]                            = 0\n",
    "        df_26['Imunodepositos_IgA_IgM_C3_C1q_lambda'][i]                           = 0\n",
    "        df_26['Imunodepositos_IgA_IgM_IgG_C1q'][i]                                 = 0\n",
    "        df_26['Imunodepositos_IgA_IgM_IgG_C3_C1q'][i]                              = 0\n",
    "        df_26['Imunodepositos_IgG'][i]                                             = 0\n",
    "        df_26['Imunodepositos_IgG_C1q_Fibrinogenio'][i]                            = 0\n",
    "        df_26['Imunodepositos_IgG_C3'][i]                                          = 0\n",
    "        df_26['Imunodepositos_IgG_Fibrinogênio'][i]                                = 0\n",
    "        df_26['Imunodepositos_IgG_IgA_IgM_C3_Fibrinogenio_kappa_lambda'][i]        = 1\n",
    "        df_26['Imunodepositos_IgG_Kappa_lambda_fibrinogenio'][i]                   = 0\n",
    "        df_26['Imunodepositos_IgM'][i]                                             = 0\n",
    "        df_26['Imunodepositos_IgM_C1q_C3_Lambda'][i]                               = 0\n",
    "        df_26['Imunodepositos_IgM_C3'][i]                                          = 0\n",
    "        df_26['Imunodepositos_IgM_C3_C1q'][i]                                      = 0\n",
    "        df_26['Imunodepositos_IgM_C3_C1q_lambda_fibrinogenio'][i]                  = 0\n",
    "        df_26['Imunodepositos_IgM_C3_fibrinogenio'][i]                             = 0\n",
    "        df_26['Imunodepositos_IgM_IgA_C3_C1q_Fibrinogenio_kappa_lambda'][i]        = 0\n",
    "        df_26['Imunodepositos_IgM_IgA_IgG_C3_fibrinogenio'][i]                     = 0\n",
    "        df_26['Imunodepositos_IgM_IgG_C1q_kappa_lambda_fibrinogenio'][i]           = 0\n",
    "        df_26['Imunodepositos_IgM_IgG_C3'][i]                                      = 0\n",
    "        df_26['Imunodepositos_IgM_IgG_C3_Lambda_Fibrinogenio'][i]                  = 0\n",
    "        df_26['Imunodepositos_IgM_IgG_IgA_C3_Kappa_Lambda_fibrinogenio'][i]        = 0\n",
    "        df_26['Imunodepositos_IgM_IgG_IgA_C3_Lambda'][i]                           = 0\n",
    "        df_26['Imunodepositos_IgM_IgG_IgA_C3_c1q'][i]                              = 0\n",
    "        df_26['Imunodepositos_IgM_IgG_IgA_Lambda_Fibrinogenio'][i]                 = 0\n",
    "        df_26['Imunodepositos_IgM_IgG_Kappa_Lambda_Fibrinogenio'][i]               = 0\n",
    "        df_26['Imunodepositos_IgM_IgG_fibrinogenio'][i]                            = 0\n",
    "        df_26['Imunodepositos_IgM_Lambda_fibrinogenio'][i]                         = 0\n",
    "        df_26['Imunodepositos_Kappa_Fibrinogenio'][i]                              = 0\n",
    "        df_26['Imunodepositos_Kappa_lambda'][i]                                    = 0\n",
    "        df_26['Imunodepositos_full_house'][i]                                      = 0\n",
    "        df_26['Imunodepositos_lambda'][i]                                          = 0\n",
    "        df_26['Imunodepositos_negativa'][i]                                        = 0\n",
    "        df_26['Imunodepositos_nao_realizada'][i]                                   = 0\n",
    "    elif coluna[i] == 'IgG Kappa lambda fibrinogênio':\n",
    "        df_26['Imunodepositos_C3'][i]                                              = 0\n",
    "        df_26['Imunodepositos_IgA_(co-dominante)'][i]                              = 0\n",
    "        df_26['Imunodepositos_IgA_(co-dominante)_C3_Kappa_lambda_fibrinogênio'][i] = 0\n",
    "        df_26['Imunodepositos_IgA_(co-dominante)_IgG_kappa_lambda'][i]             = 0\n",
    "        df_26['Imunodepositos_IgA_(co-dominante)_Kappa_lambda'][i]                 = 0\n",
    "        df_26['Imunodepositos_IgA_C1q_fibrinogênio'][i]                            = 0\n",
    "        df_26['Imunodepositos_IgA_IgM_C3_C1q_lambda'][i]                           = 0\n",
    "        df_26['Imunodepositos_IgA_IgM_IgG_C1q'][i]                                 = 0\n",
    "        df_26['Imunodepositos_IgA_IgM_IgG_C3_C1q'][i]                              = 0\n",
    "        df_26['Imunodepositos_IgG'][i]                                             = 0\n",
    "        df_26['Imunodepositos_IgG_C1q_Fibrinogenio'][i]                            = 0\n",
    "        df_26['Imunodepositos_IgG_C3'][i]                                          = 0\n",
    "        df_26['Imunodepositos_IgG_Fibrinogênio'][i]                                = 0\n",
    "        df_26['Imunodepositos_IgG_IgA_IgM_C3_Fibrinogenio_kappa_lambda'][i]        = 0\n",
    "        df_26['Imunodepositos_IgG_Kappa_lambda_fibrinogenio'][i]                   = 1\n",
    "        df_26['Imunodepositos_IgM'][i]                                             = 0\n",
    "        df_26['Imunodepositos_IgM_C1q_C3_Lambda'][i]                               = 0\n",
    "        df_26['Imunodepositos_IgM_C3'][i]                                          = 0\n",
    "        df_26['Imunodepositos_IgM_C3_C1q'][i]                                      = 0\n",
    "        df_26['Imunodepositos_IgM_C3_C1q_lambda_fibrinogenio'][i]                  = 0\n",
    "        df_26['Imunodepositos_IgM_C3_fibrinogenio'][i]                             = 0\n",
    "        df_26['Imunodepositos_IgM_IgA_C3_C1q_Fibrinogenio_kappa_lambda'][i]        = 0\n",
    "        df_26['Imunodepositos_IgM_IgA_IgG_C3_fibrinogenio'][i]                     = 0\n",
    "        df_26['Imunodepositos_IgM_IgG_C1q_kappa_lambda_fibrinogenio'][i]           = 0\n",
    "        df_26['Imunodepositos_IgM_IgG_C3'][i]                                      = 0\n",
    "        df_26['Imunodepositos_IgM_IgG_C3_Lambda_Fibrinogenio'][i]                  = 0\n",
    "        df_26['Imunodepositos_IgM_IgG_IgA_C3_Kappa_Lambda_fibrinogenio'][i]        = 0\n",
    "        df_26['Imunodepositos_IgM_IgG_IgA_C3_Lambda'][i]                           = 0\n",
    "        df_26['Imunodepositos_IgM_IgG_IgA_C3_c1q'][i]                              = 0\n",
    "        df_26['Imunodepositos_IgM_IgG_IgA_Lambda_Fibrinogenio'][i]                 = 0\n",
    "        df_26['Imunodepositos_IgM_IgG_Kappa_Lambda_Fibrinogenio'][i]               = 0\n",
    "        df_26['Imunodepositos_IgM_IgG_fibrinogenio'][i]                            = 0\n",
    "        df_26['Imunodepositos_IgM_Lambda_fibrinogenio'][i]                         = 0\n",
    "        df_26['Imunodepositos_Kappa_Fibrinogenio'][i]                              = 0\n",
    "        df_26['Imunodepositos_Kappa_lambda'][i]                                    = 0\n",
    "        df_26['Imunodepositos_full_house'][i]                                      = 0\n",
    "        df_26['Imunodepositos_lambda'][i]                                          = 0\n",
    "        df_26['Imunodepositos_negativa'][i]                                        = 0\n",
    "        df_26['Imunodepositos_nao_realizada'][i]                                   = 0\n",
    "    elif coluna[i] == 'IgM':\n",
    "        df_26['Imunodepositos_C3'][i]                                              = 0\n",
    "        df_26['Imunodepositos_IgA_(co-dominante)'][i]                              = 0\n",
    "        df_26['Imunodepositos_IgA_(co-dominante)_C3_Kappa_lambda_fibrinogênio'][i] = 0\n",
    "        df_26['Imunodepositos_IgA_(co-dominante)_IgG_kappa_lambda'][i]             = 0\n",
    "        df_26['Imunodepositos_IgA_(co-dominante)_Kappa_lambda'][i]                 = 0\n",
    "        df_26['Imunodepositos_IgA_C1q_fibrinogênio'][i]                            = 0\n",
    "        df_26['Imunodepositos_IgA_IgM_C3_C1q_lambda'][i]                           = 0\n",
    "        df_26['Imunodepositos_IgA_IgM_IgG_C1q'][i]                                 = 0\n",
    "        df_26['Imunodepositos_IgA_IgM_IgG_C3_C1q'][i]                              = 0\n",
    "        df_26['Imunodepositos_IgG'][i]                                             = 0\n",
    "        df_26['Imunodepositos_IgG_C1q_Fibrinogenio'][i]                            = 0\n",
    "        df_26['Imunodepositos_IgG_C3'][i]                                          = 0\n",
    "        df_26['Imunodepositos_IgG_Fibrinogênio'][i]                                = 0\n",
    "        df_26['Imunodepositos_IgG_IgA_IgM_C3_Fibrinogenio_kappa_lambda'][i]        = 0\n",
    "        df_26['Imunodepositos_IgG_Kappa_lambda_fibrinogenio'][i]                   = 0\n",
    "        df_26['Imunodepositos_IgM'][i]                                             = 1\n",
    "        df_26['Imunodepositos_IgM_C1q_C3_Lambda'][i]                               = 0\n",
    "        df_26['Imunodepositos_IgM_C3'][i]                                          = 0\n",
    "        df_26['Imunodepositos_IgM_C3_C1q'][i]                                      = 0\n",
    "        df_26['Imunodepositos_IgM_C3_C1q_lambda_fibrinogenio'][i]                  = 0\n",
    "        df_26['Imunodepositos_IgM_C3_fibrinogenio'][i]                             = 0\n",
    "        df_26['Imunodepositos_IgM_IgA_C3_C1q_Fibrinogenio_kappa_lambda'][i]        = 0\n",
    "        df_26['Imunodepositos_IgM_IgA_IgG_C3_fibrinogenio'][i]                     = 0\n",
    "        df_26['Imunodepositos_IgM_IgG_C1q_kappa_lambda_fibrinogenio'][i]           = 0\n",
    "        df_26['Imunodepositos_IgM_IgG_C3'][i]                                      = 0\n",
    "        df_26['Imunodepositos_IgM_IgG_C3_Lambda_Fibrinogenio'][i]                  = 0\n",
    "        df_26['Imunodepositos_IgM_IgG_IgA_C3_Kappa_Lambda_fibrinogenio'][i]        = 0\n",
    "        df_26['Imunodepositos_IgM_IgG_IgA_C3_Lambda'][i]                           = 0\n",
    "        df_26['Imunodepositos_IgM_IgG_IgA_C3_c1q'][i]                              = 0\n",
    "        df_26['Imunodepositos_IgM_IgG_IgA_Lambda_Fibrinogenio'][i]                 = 0\n",
    "        df_26['Imunodepositos_IgM_IgG_Kappa_Lambda_Fibrinogenio'][i]               = 0\n",
    "        df_26['Imunodepositos_IgM_IgG_fibrinogenio'][i]                            = 0\n",
    "        df_26['Imunodepositos_IgM_Lambda_fibrinogenio'][i]                         = 0\n",
    "        df_26['Imunodepositos_Kappa_Fibrinogenio'][i]                              = 0\n",
    "        df_26['Imunodepositos_Kappa_lambda'][i]                                    = 0\n",
    "        df_26['Imunodepositos_full_house'][i]                                      = 0\n",
    "        df_26['Imunodepositos_lambda'][i]                                          = 0\n",
    "        df_26['Imunodepositos_negativa'][i]                                        = 0\n",
    "        df_26['Imunodepositos_nao_realizada'][i]                                   = 0\n",
    "    elif coluna[i] == 'IgM C1q C3 Lambda':\n",
    "        df_26['Imunodepositos_C3'][i]                                              = 0\n",
    "        df_26['Imunodepositos_IgA_(co-dominante)'][i]                              = 0\n",
    "        df_26['Imunodepositos_IgA_(co-dominante)_C3_Kappa_lambda_fibrinogênio'][i] = 0\n",
    "        df_26['Imunodepositos_IgA_(co-dominante)_IgG_kappa_lambda'][i]             = 0\n",
    "        df_26['Imunodepositos_IgA_(co-dominante)_Kappa_lambda'][i]                 = 0\n",
    "        df_26['Imunodepositos_IgA_C1q_fibrinogênio'][i]                            = 0\n",
    "        df_26['Imunodepositos_IgA_IgM_C3_C1q_lambda'][i]                           = 0\n",
    "        df_26['Imunodepositos_IgA_IgM_IgG_C1q'][i]                                 = 0\n",
    "        df_26['Imunodepositos_IgA_IgM_IgG_C3_C1q'][i]                              = 0\n",
    "        df_26['Imunodepositos_IgG'][i]                                             = 0\n",
    "        df_26['Imunodepositos_IgG_C1q_Fibrinogenio'][i]                            = 0\n",
    "        df_26['Imunodepositos_IgG_C3'][i]                                          = 0\n",
    "        df_26['Imunodepositos_IgG_Fibrinogênio'][i]                                = 0\n",
    "        df_26['Imunodepositos_IgG_IgA_IgM_C3_Fibrinogenio_kappa_lambda'][i]        = 0\n",
    "        df_26['Imunodepositos_IgG_Kappa_lambda_fibrinogenio'][i]                   = 0\n",
    "        df_26['Imunodepositos_IgM'][i]                                             = 0\n",
    "        df_26['Imunodepositos_IgM_C1q_C3_Lambda'][i]                               = 1\n",
    "        df_26['Imunodepositos_IgM_C3'][i]                                          = 0\n",
    "        df_26['Imunodepositos_IgM_C3_C1q'][i]                                      = 0\n",
    "        df_26['Imunodepositos_IgM_C3_C1q_lambda_fibrinogenio'][i]                  = 0\n",
    "        df_26['Imunodepositos_IgM_C3_fibrinogenio'][i]                             = 0\n",
    "        df_26['Imunodepositos_IgM_IgA_C3_C1q_Fibrinogenio_kappa_lambda'][i]        = 0\n",
    "        df_26['Imunodepositos_IgM_IgA_IgG_C3_fibrinogenio'][i]                     = 0\n",
    "        df_26['Imunodepositos_IgM_IgG_C1q_kappa_lambda_fibrinogenio'][i]           = 0\n",
    "        df_26['Imunodepositos_IgM_IgG_C3'][i]                                      = 0\n",
    "        df_26['Imunodepositos_IgM_IgG_C3_Lambda_Fibrinogenio'][i]                  = 0\n",
    "        df_26['Imunodepositos_IgM_IgG_IgA_C3_Kappa_Lambda_fibrinogenio'][i]        = 0\n",
    "        df_26['Imunodepositos_IgM_IgG_IgA_C3_Lambda'][i]                           = 0\n",
    "        df_26['Imunodepositos_IgM_IgG_IgA_C3_c1q'][i]                              = 0\n",
    "        df_26['Imunodepositos_IgM_IgG_IgA_Lambda_Fibrinogenio'][i]                 = 0\n",
    "        df_26['Imunodepositos_IgM_IgG_Kappa_Lambda_Fibrinogenio'][i]               = 0\n",
    "        df_26['Imunodepositos_IgM_IgG_fibrinogenio'][i]                            = 0\n",
    "        df_26['Imunodepositos_IgM_Lambda_fibrinogenio'][i]                         = 0\n",
    "        df_26['Imunodepositos_Kappa_Fibrinogenio'][i]                              = 0\n",
    "        df_26['Imunodepositos_Kappa_lambda'][i]                                    = 0\n",
    "        df_26['Imunodepositos_full_house'][i]                                      = 0\n",
    "        df_26['Imunodepositos_lambda'][i]                                          = 0\n",
    "        df_26['Imunodepositos_negativa'][i]                                        = 0\n",
    "        df_26['Imunodepositos_nao_realizada'][i]                                   = 0\n",
    "    elif coluna[i] == 'IgM C3':\n",
    "        df_26['Imunodepositos_C3'][i]                                              = 0\n",
    "        df_26['Imunodepositos_IgA_(co-dominante)'][i]                              = 0\n",
    "        df_26['Imunodepositos_IgA_(co-dominante)_C3_Kappa_lambda_fibrinogênio'][i] = 0\n",
    "        df_26['Imunodepositos_IgA_(co-dominante)_IgG_kappa_lambda'][i]             = 0\n",
    "        df_26['Imunodepositos_IgA_(co-dominante)_Kappa_lambda'][i]                 = 0\n",
    "        df_26['Imunodepositos_IgA_C1q_fibrinogênio'][i]                            = 0\n",
    "        df_26['Imunodepositos_IgA_IgM_C3_C1q_lambda'][i]                           = 0\n",
    "        df_26['Imunodepositos_IgA_IgM_IgG_C1q'][i]                                 = 0\n",
    "        df_26['Imunodepositos_IgA_IgM_IgG_C3_C1q'][i]                              = 0\n",
    "        df_26['Imunodepositos_IgG'][i]                                             = 0\n",
    "        df_26['Imunodepositos_IgG_C1q_Fibrinogenio'][i]                            = 0\n",
    "        df_26['Imunodepositos_IgG_C3'][i]                                          = 0\n",
    "        df_26['Imunodepositos_IgG_Fibrinogênio'][i]                                = 0\n",
    "        df_26['Imunodepositos_IgG_IgA_IgM_C3_Fibrinogenio_kappa_lambda'][i]        = 0\n",
    "        df_26['Imunodepositos_IgG_Kappa_lambda_fibrinogenio'][i]                   = 0\n",
    "        df_26['Imunodepositos_IgM'][i]                                             = 0\n",
    "        df_26['Imunodepositos_IgM_C1q_C3_Lambda'][i]                               = 0\n",
    "        df_26['Imunodepositos_IgM_C3'][i]                                          = 1\n",
    "        df_26['Imunodepositos_IgM_C3_C1q'][i]                                      = 0\n",
    "        df_26['Imunodepositos_IgM_C3_C1q_lambda_fibrinogenio'][i]                  = 0\n",
    "        df_26['Imunodepositos_IgM_C3_fibrinogenio'][i]                             = 0\n",
    "        df_26['Imunodepositos_IgM_IgA_C3_C1q_Fibrinogenio_kappa_lambda'][i]        = 0\n",
    "        df_26['Imunodepositos_IgM_IgA_IgG_C3_fibrinogenio'][i]                     = 0\n",
    "        df_26['Imunodepositos_IgM_IgG_C1q_kappa_lambda_fibrinogenio'][i]           = 0\n",
    "        df_26['Imunodepositos_IgM_IgG_C3'][i]                                      = 0\n",
    "        df_26['Imunodepositos_IgM_IgG_C3_Lambda_Fibrinogenio'][i]                  = 0\n",
    "        df_26['Imunodepositos_IgM_IgG_IgA_C3_Kappa_Lambda_fibrinogenio'][i]        = 0\n",
    "        df_26['Imunodepositos_IgM_IgG_IgA_C3_Lambda'][i]                           = 0\n",
    "        df_26['Imunodepositos_IgM_IgG_IgA_C3_c1q'][i]                              = 0\n",
    "        df_26['Imunodepositos_IgM_IgG_IgA_Lambda_Fibrinogenio'][i]                 = 0\n",
    "        df_26['Imunodepositos_IgM_IgG_Kappa_Lambda_Fibrinogenio'][i]               = 0\n",
    "        df_26['Imunodepositos_IgM_IgG_fibrinogenio'][i]                            = 0\n",
    "        df_26['Imunodepositos_IgM_Lambda_fibrinogenio'][i]                         = 0\n",
    "        df_26['Imunodepositos_Kappa_Fibrinogenio'][i]                              = 0\n",
    "        df_26['Imunodepositos_Kappa_lambda'][i]                                    = 0\n",
    "        df_26['Imunodepositos_full_house'][i]                                      = 0\n",
    "        df_26['Imunodepositos_lambda'][i]                                          = 0\n",
    "        df_26['Imunodepositos_negativa'][i]                                        = 0\n",
    "        df_26['Imunodepositos_nao_realizada'][i]                                   = 0\n",
    "    elif coluna[i] == 'IgM C3 C1q':\n",
    "        df_26['Imunodepositos_C3'][i]                                              = 0\n",
    "        df_26['Imunodepositos_IgA_(co-dominante)'][i]                              = 0\n",
    "        df_26['Imunodepositos_IgA_(co-dominante)_C3_Kappa_lambda_fibrinogênio'][i] = 0\n",
    "        df_26['Imunodepositos_IgA_(co-dominante)_IgG_kappa_lambda'][i]             = 0\n",
    "        df_26['Imunodepositos_IgA_(co-dominante)_Kappa_lambda'][i]                 = 0\n",
    "        df_26['Imunodepositos_IgA_C1q_fibrinogênio'][i]                            = 0\n",
    "        df_26['Imunodepositos_IgA_IgM_C3_C1q_lambda'][i]                           = 0\n",
    "        df_26['Imunodepositos_IgA_IgM_IgG_C1q'][i]                                 = 0\n",
    "        df_26['Imunodepositos_IgA_IgM_IgG_C3_C1q'][i]                              = 0\n",
    "        df_26['Imunodepositos_IgG'][i]                                             = 0\n",
    "        df_26['Imunodepositos_IgG_C1q_Fibrinogenio'][i]                            = 0\n",
    "        df_26['Imunodepositos_IgG_C3'][i]                                          = 0\n",
    "        df_26['Imunodepositos_IgG_Fibrinogênio'][i]                                = 0\n",
    "        df_26['Imunodepositos_IgG_IgA_IgM_C3_Fibrinogenio_kappa_lambda'][i]        = 0\n",
    "        df_26['Imunodepositos_IgG_Kappa_lambda_fibrinogenio'][i]                   = 0\n",
    "        df_26['Imunodepositos_IgM'][i]                                             = 0\n",
    "        df_26['Imunodepositos_IgM_C1q_C3_Lambda'][i]                               = 0\n",
    "        df_26['Imunodepositos_IgM_C3'][i]                                          = 0\n",
    "        df_26['Imunodepositos_IgM_C3_C1q'][i]                                      = 1\n",
    "        df_26['Imunodepositos_IgM_C3_C1q_lambda_fibrinogenio'][i]                  = 0\n",
    "        df_26['Imunodepositos_IgM_C3_fibrinogenio'][i]                             = 0\n",
    "        df_26['Imunodepositos_IgM_IgA_C3_C1q_Fibrinogenio_kappa_lambda'][i]        = 0\n",
    "        df_26['Imunodepositos_IgM_IgA_IgG_C3_fibrinogenio'][i]                     = 0\n",
    "        df_26['Imunodepositos_IgM_IgG_C1q_kappa_lambda_fibrinogenio'][i]           = 0\n",
    "        df_26['Imunodepositos_IgM_IgG_C3'][i]                                      = 0\n",
    "        df_26['Imunodepositos_IgM_IgG_C3_Lambda_Fibrinogenio'][i]                  = 0\n",
    "        df_26['Imunodepositos_IgM_IgG_IgA_C3_Kappa_Lambda_fibrinogenio'][i]        = 0\n",
    "        df_26['Imunodepositos_IgM_IgG_IgA_C3_Lambda'][i]                           = 0\n",
    "        df_26['Imunodepositos_IgM_IgG_IgA_C3_c1q'][i]                              = 0\n",
    "        df_26['Imunodepositos_IgM_IgG_IgA_Lambda_Fibrinogenio'][i]                 = 0\n",
    "        df_26['Imunodepositos_IgM_IgG_Kappa_Lambda_Fibrinogenio'][i]               = 0\n",
    "        df_26['Imunodepositos_IgM_IgG_fibrinogenio'][i]                            = 0\n",
    "        df_26['Imunodepositos_IgM_Lambda_fibrinogenio'][i]                         = 0\n",
    "        df_26['Imunodepositos_Kappa_Fibrinogenio'][i]                              = 0\n",
    "        df_26['Imunodepositos_Kappa_lambda'][i]                                    = 0\n",
    "        df_26['Imunodepositos_full_house'][i]                                      = 0\n",
    "        df_26['Imunodepositos_lambda'][i]                                          = 0\n",
    "        df_26['Imunodepositos_negativa'][i]                                        = 0\n",
    "        df_26['Imunodepositos_nao_realizada'][i]                                   = 0\n",
    "    elif coluna[i] == 'IgM C3 C1q lambda fibrinogênio':\n",
    "        df_26['Imunodepositos_C3'][i]                                              = 0\n",
    "        df_26['Imunodepositos_IgA_(co-dominante)'][i]                              = 0\n",
    "        df_26['Imunodepositos_IgA_(co-dominante)_C3_Kappa_lambda_fibrinogênio'][i] = 0\n",
    "        df_26['Imunodepositos_IgA_(co-dominante)_IgG_kappa_lambda'][i]             = 0\n",
    "        df_26['Imunodepositos_IgA_(co-dominante)_Kappa_lambda'][i]                 = 0\n",
    "        df_26['Imunodepositos_IgA_C1q_fibrinogênio'][i]                            = 0\n",
    "        df_26['Imunodepositos_IgA_IgM_C3_C1q_lambda'][i]                           = 0\n",
    "        df_26['Imunodepositos_IgA_IgM_IgG_C1q'][i]                                 = 0\n",
    "        df_26['Imunodepositos_IgA_IgM_IgG_C3_C1q'][i]                              = 0\n",
    "        df_26['Imunodepositos_IgG'][i]                                             = 0\n",
    "        df_26['Imunodepositos_IgG_C1q_Fibrinogenio'][i]                            = 0\n",
    "        df_26['Imunodepositos_IgG_C3'][i]                                          = 0\n",
    "        df_26['Imunodepositos_IgG_Fibrinogênio'][i]                                = 0\n",
    "        df_26['Imunodepositos_IgG_IgA_IgM_C3_Fibrinogenio_kappa_lambda'][i]        = 0\n",
    "        df_26['Imunodepositos_IgG_Kappa_lambda_fibrinogenio'][i]                   = 0\n",
    "        df_26['Imunodepositos_IgM'][i]                                             = 0\n",
    "        df_26['Imunodepositos_IgM_C1q_C3_Lambda'][i]                               = 0\n",
    "        df_26['Imunodepositos_IgM_C3'][i]                                          = 0\n",
    "        df_26['Imunodepositos_IgM_C3_C1q'][i]                                      = 0\n",
    "        df_26['Imunodepositos_IgM_C3_C1q_lambda_fibrinogenio'][i]                  = 1\n",
    "        df_26['Imunodepositos_IgM_C3_fibrinogenio'][i]                             = 0\n",
    "        df_26['Imunodepositos_IgM_IgA_C3_C1q_Fibrinogenio_kappa_lambda'][i]        = 0\n",
    "        df_26['Imunodepositos_IgM_IgA_IgG_C3_fibrinogenio'][i]                     = 0\n",
    "        df_26['Imunodepositos_IgM_IgG_C1q_kappa_lambda_fibrinogenio'][i]           = 0\n",
    "        df_26['Imunodepositos_IgM_IgG_C3'][i]                                      = 0\n",
    "        df_26['Imunodepositos_IgM_IgG_C3_Lambda_Fibrinogenio'][i]                  = 0\n",
    "        df_26['Imunodepositos_IgM_IgG_IgA_C3_Kappa_Lambda_fibrinogenio'][i]        = 0\n",
    "        df_26['Imunodepositos_IgM_IgG_IgA_C3_Lambda'][i]                           = 0\n",
    "        df_26['Imunodepositos_IgM_IgG_IgA_C3_c1q'][i]                              = 0\n",
    "        df_26['Imunodepositos_IgM_IgG_IgA_Lambda_Fibrinogenio'][i]                 = 0\n",
    "        df_26['Imunodepositos_IgM_IgG_Kappa_Lambda_Fibrinogenio'][i]               = 0\n",
    "        df_26['Imunodepositos_IgM_IgG_fibrinogenio'][i]                            = 0\n",
    "        df_26['Imunodepositos_IgM_Lambda_fibrinogenio'][i]                         = 0\n",
    "        df_26['Imunodepositos_Kappa_Fibrinogenio'][i]                              = 0\n",
    "        df_26['Imunodepositos_Kappa_lambda'][i]                                    = 0\n",
    "        df_26['Imunodepositos_full_house'][i]                                      = 0\n",
    "        df_26['Imunodepositos_lambda'][i]                                          = 0\n",
    "        df_26['Imunodepositos_negativa'][i]                                        = 0\n",
    "        df_26['Imunodepositos_nao_realizada'][i]                                   = 0\n",
    "    elif coluna[i] == 'IgM C3 fibrinogênio':\n",
    "        df_26['Imunodepositos_C3'][i]                                              = 0\n",
    "        df_26['Imunodepositos_IgA_(co-dominante)'][i]                              = 0\n",
    "        df_26['Imunodepositos_IgA_(co-dominante)_C3_Kappa_lambda_fibrinogênio'][i] = 0\n",
    "        df_26['Imunodepositos_IgA_(co-dominante)_IgG_kappa_lambda'][i]             = 0\n",
    "        df_26['Imunodepositos_IgA_(co-dominante)_Kappa_lambda'][i]                 = 0\n",
    "        df_26['Imunodepositos_IgA_C1q_fibrinogênio'][i]                            = 0\n",
    "        df_26['Imunodepositos_IgA_IgM_C3_C1q_lambda'][i]                           = 0\n",
    "        df_26['Imunodepositos_IgA_IgM_IgG_C1q'][i]                                 = 0\n",
    "        df_26['Imunodepositos_IgA_IgM_IgG_C3_C1q'][i]                              = 0\n",
    "        df_26['Imunodepositos_IgG'][i]                                             = 0\n",
    "        df_26['Imunodepositos_IgG_C1q_Fibrinogenio'][i]                            = 0\n",
    "        df_26['Imunodepositos_IgG_C3'][i]                                          = 0\n",
    "        df_26['Imunodepositos_IgG_Fibrinogênio'][i]                                = 0\n",
    "        df_26['Imunodepositos_IgG_IgA_IgM_C3_Fibrinogenio_kappa_lambda'][i]        = 0\n",
    "        df_26['Imunodepositos_IgG_Kappa_lambda_fibrinogenio'][i]                   = 0\n",
    "        df_26['Imunodepositos_IgM'][i]                                             = 0\n",
    "        df_26['Imunodepositos_IgM_C1q_C3_Lambda'][i]                               = 0\n",
    "        df_26['Imunodepositos_IgM_C3'][i]                                          = 0\n",
    "        df_26['Imunodepositos_IgM_C3_C1q'][i]                                      = 0\n",
    "        df_26['Imunodepositos_IgM_C3_C1q_lambda_fibrinogenio'][i]                  = 0\n",
    "        df_26['Imunodepositos_IgM_C3_fibrinogenio'][i]                             = 1\n",
    "        df_26['Imunodepositos_IgM_IgA_C3_C1q_Fibrinogenio_kappa_lambda'][i]        = 0\n",
    "        df_26['Imunodepositos_IgM_IgA_IgG_C3_fibrinogenio'][i]                     = 0\n",
    "        df_26['Imunodepositos_IgM_IgG_C1q_kappa_lambda_fibrinogenio'][i]           = 0\n",
    "        df_26['Imunodepositos_IgM_IgG_C3'][i]                                      = 0\n",
    "        df_26['Imunodepositos_IgM_IgG_C3_Lambda_Fibrinogenio'][i]                  = 0\n",
    "        df_26['Imunodepositos_IgM_IgG_IgA_C3_Kappa_Lambda_fibrinogenio'][i]        = 0\n",
    "        df_26['Imunodepositos_IgM_IgG_IgA_C3_Lambda'][i]                           = 0\n",
    "        df_26['Imunodepositos_IgM_IgG_IgA_C3_c1q'][i]                              = 0\n",
    "        df_26['Imunodepositos_IgM_IgG_IgA_Lambda_Fibrinogenio'][i]                 = 0\n",
    "        df_26['Imunodepositos_IgM_IgG_Kappa_Lambda_Fibrinogenio'][i]               = 0\n",
    "        df_26['Imunodepositos_IgM_IgG_fibrinogenio'][i]                            = 0\n",
    "        df_26['Imunodepositos_IgM_Lambda_fibrinogenio'][i]                         = 0\n",
    "        df_26['Imunodepositos_Kappa_Fibrinogenio'][i]                              = 0\n",
    "        df_26['Imunodepositos_Kappa_lambda'][i]                                    = 0\n",
    "        df_26['Imunodepositos_full_house'][i]                                      = 0\n",
    "        df_26['Imunodepositos_lambda'][i]                                          = 0\n",
    "        df_26['Imunodepositos_negativa'][i]                                        = 0\n",
    "        df_26['Imunodepositos_nao_realizada'][i]                                   = 0\n",
    "    elif coluna[i] == 'IgM IgA C3 C1q Fibrinogênio kappa lambda':\n",
    "        df_26['Imunodepositos_C3'][i]                                              = 0\n",
    "        df_26['Imunodepositos_IgA_(co-dominante)'][i]                              = 0\n",
    "        df_26['Imunodepositos_IgA_(co-dominante)_C3_Kappa_lambda_fibrinogênio'][i] = 0\n",
    "        df_26['Imunodepositos_IgA_(co-dominante)_IgG_kappa_lambda'][i]             = 0\n",
    "        df_26['Imunodepositos_IgA_(co-dominante)_Kappa_lambda'][i]                 = 0\n",
    "        df_26['Imunodepositos_IgA_C1q_fibrinogênio'][i]                            = 0\n",
    "        df_26['Imunodepositos_IgA_IgM_C3_C1q_lambda'][i]                           = 0\n",
    "        df_26['Imunodepositos_IgA_IgM_IgG_C1q'][i]                                 = 0\n",
    "        df_26['Imunodepositos_IgA_IgM_IgG_C3_C1q'][i]                              = 0\n",
    "        df_26['Imunodepositos_IgG'][i]                                             = 0\n",
    "        df_26['Imunodepositos_IgG_C1q_Fibrinogenio'][i]                            = 0\n",
    "        df_26['Imunodepositos_IgG_C3'][i]                                          = 0\n",
    "        df_26['Imunodepositos_IgG_Fibrinogênio'][i]                                = 0\n",
    "        df_26['Imunodepositos_IgG_IgA_IgM_C3_Fibrinogenio_kappa_lambda'][i]        = 0\n",
    "        df_26['Imunodepositos_IgG_Kappa_lambda_fibrinogenio'][i]                   = 0\n",
    "        df_26['Imunodepositos_IgM'][i]                                             = 0\n",
    "        df_26['Imunodepositos_IgM_C1q_C3_Lambda'][i]                               = 0\n",
    "        df_26['Imunodepositos_IgM_C3'][i]                                          = 0\n",
    "        df_26['Imunodepositos_IgM_C3_C1q'][i]                                      = 0\n",
    "        df_26['Imunodepositos_IgM_C3_C1q_lambda_fibrinogenio'][i]                  = 0\n",
    "        df_26['Imunodepositos_IgM_C3_fibrinogenio'][i]                             = 0\n",
    "        df_26['Imunodepositos_IgM_IgA_C3_C1q_Fibrinogenio_kappa_lambda'][i]        = 1\n",
    "        df_26['Imunodepositos_IgM_IgA_IgG_C3_fibrinogenio'][i]                     = 0\n",
    "        df_26['Imunodepositos_IgM_IgG_C1q_kappa_lambda_fibrinogenio'][i]           = 0\n",
    "        df_26['Imunodepositos_IgM_IgG_C3'][i]                                      = 0\n",
    "        df_26['Imunodepositos_IgM_IgG_C3_Lambda_Fibrinogenio'][i]                  = 0\n",
    "        df_26['Imunodepositos_IgM_IgG_IgA_C3_Kappa_Lambda_fibrinogenio'][i]        = 0\n",
    "        df_26['Imunodepositos_IgM_IgG_IgA_C3_Lambda'][i]                           = 0\n",
    "        df_26['Imunodepositos_IgM_IgG_IgA_C3_c1q'][i]                              = 0\n",
    "        df_26['Imunodepositos_IgM_IgG_IgA_Lambda_Fibrinogenio'][i]                 = 0\n",
    "        df_26['Imunodepositos_IgM_IgG_Kappa_Lambda_Fibrinogenio'][i]               = 0\n",
    "        df_26['Imunodepositos_IgM_IgG_fibrinogenio'][i]                            = 0\n",
    "        df_26['Imunodepositos_IgM_Lambda_fibrinogenio'][i]                         = 0\n",
    "        df_26['Imunodepositos_Kappa_Fibrinogenio'][i]                              = 0\n",
    "        df_26['Imunodepositos_Kappa_lambda'][i]                                    = 0\n",
    "        df_26['Imunodepositos_full_house'][i]                                      = 0\n",
    "        df_26['Imunodepositos_lambda'][i]                                          = 0\n",
    "        df_26['Imunodepositos_negativa'][i]                                        = 0\n",
    "        df_26['Imunodepositos_nao_realizada'][i]                                   = 0\n",
    "    elif coluna[i] == 'IgM IgA IgG C3 fibrinogênio':\n",
    "        df_26['Imunodepositos_C3'][i]                                              = 0\n",
    "        df_26['Imunodepositos_IgA_(co-dominante)'][i]                              = 0\n",
    "        df_26['Imunodepositos_IgA_(co-dominante)_C3_Kappa_lambda_fibrinogênio'][i] = 0\n",
    "        df_26['Imunodepositos_IgA_(co-dominante)_IgG_kappa_lambda'][i]             = 0\n",
    "        df_26['Imunodepositos_IgA_(co-dominante)_Kappa_lambda'][i]                 = 0\n",
    "        df_26['Imunodepositos_IgA_C1q_fibrinogênio'][i]                            = 0\n",
    "        df_26['Imunodepositos_IgA_IgM_C3_C1q_lambda'][i]                           = 0\n",
    "        df_26['Imunodepositos_IgA_IgM_IgG_C1q'][i]                                 = 0\n",
    "        df_26['Imunodepositos_IgA_IgM_IgG_C3_C1q'][i]                              = 0\n",
    "        df_26['Imunodepositos_IgG'][i]                                             = 0\n",
    "        df_26['Imunodepositos_IgG_C1q_Fibrinogenio'][i]                            = 0\n",
    "        df_26['Imunodepositos_IgG_C3'][i]                                          = 0\n",
    "        df_26['Imunodepositos_IgG_Fibrinogênio'][i]                                = 0\n",
    "        df_26['Imunodepositos_IgG_IgA_IgM_C3_Fibrinogenio_kappa_lambda'][i]        = 0\n",
    "        df_26['Imunodepositos_IgG_Kappa_lambda_fibrinogenio'][i]                   = 0\n",
    "        df_26['Imunodepositos_IgM'][i]                                             = 0\n",
    "        df_26['Imunodepositos_IgM_C1q_C3_Lambda'][i]                               = 0\n",
    "        df_26['Imunodepositos_IgM_C3'][i]                                          = 0\n",
    "        df_26['Imunodepositos_IgM_C3_C1q'][i]                                      = 0\n",
    "        df_26['Imunodepositos_IgM_C3_C1q_lambda_fibrinogenio'][i]                  = 0\n",
    "        df_26['Imunodepositos_IgM_C3_fibrinogenio'][i]                             = 0\n",
    "        df_26['Imunodepositos_IgM_IgA_C3_C1q_Fibrinogenio_kappa_lambda'][i]        = 0\n",
    "        df_26['Imunodepositos_IgM_IgA_IgG_C3_fibrinogenio'][i]                     = 1\n",
    "        df_26['Imunodepositos_IgM_IgG_C1q_kappa_lambda_fibrinogenio'][i]           = 0\n",
    "        df_26['Imunodepositos_IgM_IgG_C3'][i]                                      = 0\n",
    "        df_26['Imunodepositos_IgM_IgG_C3_Lambda_Fibrinogenio'][i]                  = 0\n",
    "        df_26['Imunodepositos_IgM_IgG_IgA_C3_Kappa_Lambda_fibrinogenio'][i]        = 0\n",
    "        df_26['Imunodepositos_IgM_IgG_IgA_C3_Lambda'][i]                           = 0\n",
    "        df_26['Imunodepositos_IgM_IgG_IgA_C3_c1q'][i]                              = 0\n",
    "        df_26['Imunodepositos_IgM_IgG_IgA_Lambda_Fibrinogenio'][i]                 = 0\n",
    "        df_26['Imunodepositos_IgM_IgG_Kappa_Lambda_Fibrinogenio'][i]               = 0\n",
    "        df_26['Imunodepositos_IgM_IgG_fibrinogenio'][i]                            = 0\n",
    "        df_26['Imunodepositos_IgM_Lambda_fibrinogenio'][i]                         = 0\n",
    "        df_26['Imunodepositos_Kappa_Fibrinogenio'][i]                              = 0\n",
    "        df_26['Imunodepositos_Kappa_lambda'][i]                                    = 0\n",
    "        df_26['Imunodepositos_full_house'][i]                                      = 0\n",
    "        df_26['Imunodepositos_lambda'][i]                                          = 0\n",
    "        df_26['Imunodepositos_negativa'][i]                                        = 0\n",
    "        df_26['Imunodepositos_nao_realizada'][i]                                   = 0\n",
    "    elif coluna[i] == 'IgM IgG C1q kappa lambda fibrinogênio':\n",
    "        df_26['Imunodepositos_C3'][i]                                              = 0\n",
    "        df_26['Imunodepositos_IgA_(co-dominante)'][i]                              = 0\n",
    "        df_26['Imunodepositos_IgA_(co-dominante)_C3_Kappa_lambda_fibrinogênio'][i] = 0\n",
    "        df_26['Imunodepositos_IgA_(co-dominante)_IgG_kappa_lambda'][i]             = 0\n",
    "        df_26['Imunodepositos_IgA_(co-dominante)_Kappa_lambda'][i]                 = 0\n",
    "        df_26['Imunodepositos_IgA_C1q_fibrinogênio'][i]                            = 0\n",
    "        df_26['Imunodepositos_IgA_IgM_C3_C1q_lambda'][i]                           = 0\n",
    "        df_26['Imunodepositos_IgA_IgM_IgG_C1q'][i]                                 = 0\n",
    "        df_26['Imunodepositos_IgA_IgM_IgG_C3_C1q'][i]                              = 0\n",
    "        df_26['Imunodepositos_IgG'][i]                                             = 0\n",
    "        df_26['Imunodepositos_IgG_C1q_Fibrinogenio'][i]                            = 0\n",
    "        df_26['Imunodepositos_IgG_C3'][i]                                          = 0\n",
    "        df_26['Imunodepositos_IgG_Fibrinogênio'][i]                                = 0\n",
    "        df_26['Imunodepositos_IgG_IgA_IgM_C3_Fibrinogenio_kappa_lambda'][i]        = 0\n",
    "        df_26['Imunodepositos_IgG_Kappa_lambda_fibrinogenio'][i]                   = 0\n",
    "        df_26['Imunodepositos_IgM'][i]                                             = 0\n",
    "        df_26['Imunodepositos_IgM_C1q_C3_Lambda'][i]                               = 0\n",
    "        df_26['Imunodepositos_IgM_C3'][i]                                          = 0\n",
    "        df_26['Imunodepositos_IgM_C3_C1q'][i]                                      = 0\n",
    "        df_26['Imunodepositos_IgM_C3_C1q_lambda_fibrinogenio'][i]                  = 0\n",
    "        df_26['Imunodepositos_IgM_C3_fibrinogenio'][i]                             = 0\n",
    "        df_26['Imunodepositos_IgM_IgA_C3_C1q_Fibrinogenio_kappa_lambda'][i]        = 0\n",
    "        df_26['Imunodepositos_IgM_IgA_IgG_C3_fibrinogenio'][i]                     = 0\n",
    "        df_26['Imunodepositos_IgM_IgG_C1q_kappa_lambda_fibrinogenio'][i]           = 1\n",
    "        df_26['Imunodepositos_IgM_IgG_C3'][i]                                      = 0\n",
    "        df_26['Imunodepositos_IgM_IgG_C3_Lambda_Fibrinogenio'][i]                  = 0\n",
    "        df_26['Imunodepositos_IgM_IgG_IgA_C3_Kappa_Lambda_fibrinogenio'][i]        = 0\n",
    "        df_26['Imunodepositos_IgM_IgG_IgA_C3_Lambda'][i]                           = 0\n",
    "        df_26['Imunodepositos_IgM_IgG_IgA_C3_c1q'][i]                              = 0\n",
    "        df_26['Imunodepositos_IgM_IgG_IgA_Lambda_Fibrinogenio'][i]                 = 0\n",
    "        df_26['Imunodepositos_IgM_IgG_Kappa_Lambda_Fibrinogenio'][i]               = 0\n",
    "        df_26['Imunodepositos_IgM_IgG_fibrinogenio'][i]                            = 0\n",
    "        df_26['Imunodepositos_IgM_Lambda_fibrinogenio'][i]                         = 0\n",
    "        df_26['Imunodepositos_Kappa_Fibrinogenio'][i]                              = 0\n",
    "        df_26['Imunodepositos_Kappa_lambda'][i]                                    = 0\n",
    "        df_26['Imunodepositos_full_house'][i]                                      = 0\n",
    "        df_26['Imunodepositos_lambda'][i]                                          = 0\n",
    "        df_26['Imunodepositos_negativa'][i]                                        = 0\n",
    "        df_26['Imunodepositos_nao_realizada'][i]                                   = 0\n",
    "    elif coluna[i] == 'IgM IgG C3':\n",
    "        df_26['Imunodepositos_C3'][i]                                              = 0\n",
    "        df_26['Imunodepositos_IgA_(co-dominante)'][i]                              = 0\n",
    "        df_26['Imunodepositos_IgA_(co-dominante)_C3_Kappa_lambda_fibrinogênio'][i] = 0\n",
    "        df_26['Imunodepositos_IgA_(co-dominante)_IgG_kappa_lambda'][i]             = 0\n",
    "        df_26['Imunodepositos_IgA_(co-dominante)_Kappa_lambda'][i]                 = 0\n",
    "        df_26['Imunodepositos_IgA_C1q_fibrinogênio'][i]                            = 0\n",
    "        df_26['Imunodepositos_IgA_IgM_C3_C1q_lambda'][i]                           = 0\n",
    "        df_26['Imunodepositos_IgA_IgM_IgG_C1q'][i]                                 = 0\n",
    "        df_26['Imunodepositos_IgA_IgM_IgG_C3_C1q'][i]                              = 0\n",
    "        df_26['Imunodepositos_IgG'][i]                                             = 0\n",
    "        df_26['Imunodepositos_IgG_C1q_Fibrinogenio'][i]                            = 0\n",
    "        df_26['Imunodepositos_IgG_C3'][i]                                          = 0\n",
    "        df_26['Imunodepositos_IgG_Fibrinogênio'][i]                                = 0\n",
    "        df_26['Imunodepositos_IgG_IgA_IgM_C3_Fibrinogenio_kappa_lambda'][i]        = 0\n",
    "        df_26['Imunodepositos_IgG_Kappa_lambda_fibrinogenio'][i]                   = 0\n",
    "        df_26['Imunodepositos_IgM'][i]                                             = 0\n",
    "        df_26['Imunodepositos_IgM_C1q_C3_Lambda'][i]                               = 0\n",
    "        df_26['Imunodepositos_IgM_C3'][i]                                          = 0\n",
    "        df_26['Imunodepositos_IgM_C3_C1q'][i]                                      = 0\n",
    "        df_26['Imunodepositos_IgM_C3_C1q_lambda_fibrinogenio'][i]                  = 0\n",
    "        df_26['Imunodepositos_IgM_C3_fibrinogenio'][i]                             = 0\n",
    "        df_26['Imunodepositos_IgM_IgA_C3_C1q_Fibrinogenio_kappa_lambda'][i]        = 0\n",
    "        df_26['Imunodepositos_IgM_IgA_IgG_C3_fibrinogenio'][i]                     = 0\n",
    "        df_26['Imunodepositos_IgM_IgG_C1q_kappa_lambda_fibrinogenio'][i]           = 0\n",
    "        df_26['Imunodepositos_IgM_IgG_C3'][i]                                      = 1\n",
    "        df_26['Imunodepositos_IgM_IgG_C3_Lambda_Fibrinogenio'][i]                  = 0\n",
    "        df_26['Imunodepositos_IgM_IgG_IgA_C3_Kappa_Lambda_fibrinogenio'][i]        = 0\n",
    "        df_26['Imunodepositos_IgM_IgG_IgA_C3_Lambda'][i]                           = 0\n",
    "        df_26['Imunodepositos_IgM_IgG_IgA_C3_c1q'][i]                              = 0\n",
    "        df_26['Imunodepositos_IgM_IgG_IgA_Lambda_Fibrinogenio'][i]                 = 0\n",
    "        df_26['Imunodepositos_IgM_IgG_Kappa_Lambda_Fibrinogenio'][i]               = 0\n",
    "        df_26['Imunodepositos_IgM_IgG_fibrinogenio'][i]                            = 0\n",
    "        df_26['Imunodepositos_IgM_Lambda_fibrinogenio'][i]                         = 0\n",
    "        df_26['Imunodepositos_Kappa_Fibrinogenio'][i]                              = 0\n",
    "        df_26['Imunodepositos_Kappa_lambda'][i]                                    = 0\n",
    "        df_26['Imunodepositos_full_house'][i]                                      = 0\n",
    "        df_26['Imunodepositos_lambda'][i]                                          = 0\n",
    "        df_26['Imunodepositos_negativa'][i]                                        = 0\n",
    "        df_26['Imunodepositos_nao_realizada'][i]                                   = 0\n",
    "    elif coluna[i] == 'IgM IgG C3 Lambda Fibrinogênio':\n",
    "        df_26['Imunodepositos_C3'][i]                                              = 0\n",
    "        df_26['Imunodepositos_IgA_(co-dominante)'][i]                              = 0\n",
    "        df_26['Imunodepositos_IgA_(co-dominante)_C3_Kappa_lambda_fibrinogênio'][i] = 0\n",
    "        df_26['Imunodepositos_IgA_(co-dominante)_IgG_kappa_lambda'][i]             = 0\n",
    "        df_26['Imunodepositos_IgA_(co-dominante)_Kappa_lambda'][i]                 = 0\n",
    "        df_26['Imunodepositos_IgA_C1q_fibrinogênio'][i]                            = 0\n",
    "        df_26['Imunodepositos_IgA_IgM_C3_C1q_lambda'][i]                           = 0\n",
    "        df_26['Imunodepositos_IgA_IgM_IgG_C1q'][i]                                 = 0\n",
    "        df_26['Imunodepositos_IgA_IgM_IgG_C3_C1q'][i]                              = 0\n",
    "        df_26['Imunodepositos_IgG'][i]                                             = 0\n",
    "        df_26['Imunodepositos_IgG_C1q_Fibrinogenio'][i]                            = 0\n",
    "        df_26['Imunodepositos_IgG_C3'][i]                                          = 0\n",
    "        df_26['Imunodepositos_IgG_Fibrinogênio'][i]                                = 0\n",
    "        df_26['Imunodepositos_IgG_IgA_IgM_C3_Fibrinogenio_kappa_lambda'][i]        = 0\n",
    "        df_26['Imunodepositos_IgG_Kappa_lambda_fibrinogenio'][i]                   = 0\n",
    "        df_26['Imunodepositos_IgM'][i]                                             = 0\n",
    "        df_26['Imunodepositos_IgM_C1q_C3_Lambda'][i]                               = 0\n",
    "        df_26['Imunodepositos_IgM_C3'][i]                                          = 0\n",
    "        df_26['Imunodepositos_IgM_C3_C1q'][i]                                      = 0\n",
    "        df_26['Imunodepositos_IgM_C3_C1q_lambda_fibrinogenio'][i]                  = 0\n",
    "        df_26['Imunodepositos_IgM_C3_fibrinogenio'][i]                             = 0\n",
    "        df_26['Imunodepositos_IgM_IgA_C3_C1q_Fibrinogenio_kappa_lambda'][i]        = 0\n",
    "        df_26['Imunodepositos_IgM_IgA_IgG_C3_fibrinogenio'][i]                     = 0\n",
    "        df_26['Imunodepositos_IgM_IgG_C1q_kappa_lambda_fibrinogenio'][i]           = 0\n",
    "        df_26['Imunodepositos_IgM_IgG_C3'][i]                                      = 0\n",
    "        df_26['Imunodepositos_IgM_IgG_C3_Lambda_Fibrinogenio'][i]                  = 1\n",
    "        df_26['Imunodepositos_IgM_IgG_IgA_C3_Kappa_Lambda_fibrinogenio'][i]        = 0\n",
    "        df_26['Imunodepositos_IgM_IgG_IgA_C3_Lambda'][i]                           = 0\n",
    "        df_26['Imunodepositos_IgM_IgG_IgA_C3_c1q'][i]                              = 0\n",
    "        df_26['Imunodepositos_IgM_IgG_IgA_Lambda_Fibrinogenio'][i]                 = 0\n",
    "        df_26['Imunodepositos_IgM_IgG_Kappa_Lambda_Fibrinogenio'][i]               = 0\n",
    "        df_26['Imunodepositos_IgM_IgG_fibrinogenio'][i]                            = 0\n",
    "        df_26['Imunodepositos_IgM_Lambda_fibrinogenio'][i]                         = 0\n",
    "        df_26['Imunodepositos_Kappa_Fibrinogenio'][i]                              = 0\n",
    "        df_26['Imunodepositos_Kappa_lambda'][i]                                    = 0\n",
    "        df_26['Imunodepositos_full_house'][i]                                      = 0\n",
    "        df_26['Imunodepositos_lambda'][i]                                          = 0\n",
    "        df_26['Imunodepositos_negativa'][i]                                        = 0\n",
    "        df_26['Imunodepositos_nao_realizada'][i]                                   = 0\n",
    "    elif coluna[i] == 'IgM IgG IgA C3 Kappa Lambda fibrinogênio':\n",
    "        df_26['Imunodepositos_C3'][i]                                              = 0\n",
    "        df_26['Imunodepositos_IgA_(co-dominante)'][i]                              = 0\n",
    "        df_26['Imunodepositos_IgA_(co-dominante)_C3_Kappa_lambda_fibrinogênio'][i] = 0\n",
    "        df_26['Imunodepositos_IgA_(co-dominante)_IgG_kappa_lambda'][i]             = 0\n",
    "        df_26['Imunodepositos_IgA_(co-dominante)_Kappa_lambda'][i]                 = 0\n",
    "        df_26['Imunodepositos_IgA_C1q_fibrinogênio'][i]                            = 0\n",
    "        df_26['Imunodepositos_IgA_IgM_C3_C1q_lambda'][i]                           = 0\n",
    "        df_26['Imunodepositos_IgA_IgM_IgG_C1q'][i]                                 = 0\n",
    "        df_26['Imunodepositos_IgA_IgM_IgG_C3_C1q'][i]                              = 0\n",
    "        df_26['Imunodepositos_IgG'][i]                                             = 0\n",
    "        df_26['Imunodepositos_IgG_C1q_Fibrinogenio'][i]                            = 0\n",
    "        df_26['Imunodepositos_IgG_C3'][i]                                          = 0\n",
    "        df_26['Imunodepositos_IgG_Fibrinogênio'][i]                                = 0\n",
    "        df_26['Imunodepositos_IgG_IgA_IgM_C3_Fibrinogenio_kappa_lambda'][i]        = 0\n",
    "        df_26['Imunodepositos_IgG_Kappa_lambda_fibrinogenio'][i]                   = 0\n",
    "        df_26['Imunodepositos_IgM'][i]                                             = 0\n",
    "        df_26['Imunodepositos_IgM_C1q_C3_Lambda'][i]                               = 0\n",
    "        df_26['Imunodepositos_IgM_C3'][i]                                          = 0\n",
    "        df_26['Imunodepositos_IgM_C3_C1q'][i]                                      = 0\n",
    "        df_26['Imunodepositos_IgM_C3_C1q_lambda_fibrinogenio'][i]                  = 0\n",
    "        df_26['Imunodepositos_IgM_C3_fibrinogenio'][i]                             = 0\n",
    "        df_26['Imunodepositos_IgM_IgA_C3_C1q_Fibrinogenio_kappa_lambda'][i]        = 0\n",
    "        df_26['Imunodepositos_IgM_IgA_IgG_C3_fibrinogenio'][i]                     = 0\n",
    "        df_26['Imunodepositos_IgM_IgG_C1q_kappa_lambda_fibrinogenio'][i]           = 0\n",
    "        df_26['Imunodepositos_IgM_IgG_C3'][i]                                      = 0\n",
    "        df_26['Imunodepositos_IgM_IgG_C3_Lambda_Fibrinogenio'][i]                  = 0\n",
    "        df_26['Imunodepositos_IgM_IgG_IgA_C3_Kappa_Lambda_fibrinogenio'][i]        = 1\n",
    "        df_26['Imunodepositos_IgM_IgG_IgA_C3_Lambda'][i]                           = 0\n",
    "        df_26['Imunodepositos_IgM_IgG_IgA_C3_c1q'][i]                              = 0\n",
    "        df_26['Imunodepositos_IgM_IgG_IgA_Lambda_Fibrinogenio'][i]                 = 0\n",
    "        df_26['Imunodepositos_IgM_IgG_Kappa_Lambda_Fibrinogenio'][i]               = 0\n",
    "        df_26['Imunodepositos_IgM_IgG_fibrinogenio'][i]                            = 0\n",
    "        df_26['Imunodepositos_IgM_Lambda_fibrinogenio'][i]                         = 0\n",
    "        df_26['Imunodepositos_Kappa_Fibrinogenio'][i]                              = 0\n",
    "        df_26['Imunodepositos_Kappa_lambda'][i]                                    = 0\n",
    "        df_26['Imunodepositos_full_house'][i]                                      = 0\n",
    "        df_26['Imunodepositos_lambda'][i]                                          = 0\n",
    "        df_26['Imunodepositos_negativa'][i]                                        = 0\n",
    "        df_26['Imunodepositos_nao_realizada'][i]                                   = 0\n",
    "    elif coluna[i] == 'IgM IgG IgA C3 Lambda':\n",
    "        df_26['Imunodepositos_C3'][i]                                              = 0\n",
    "        df_26['Imunodepositos_IgA_(co-dominante)'][i]                              = 0\n",
    "        df_26['Imunodepositos_IgA_(co-dominante)_C3_Kappa_lambda_fibrinogênio'][i] = 0\n",
    "        df_26['Imunodepositos_IgA_(co-dominante)_IgG_kappa_lambda'][i]             = 0\n",
    "        df_26['Imunodepositos_IgA_(co-dominante)_Kappa_lambda'][i]                 = 0\n",
    "        df_26['Imunodepositos_IgA_C1q_fibrinogênio'][i]                            = 0\n",
    "        df_26['Imunodepositos_IgA_IgM_C3_C1q_lambda'][i]                           = 0\n",
    "        df_26['Imunodepositos_IgA_IgM_IgG_C1q'][i]                                 = 0\n",
    "        df_26['Imunodepositos_IgA_IgM_IgG_C3_C1q'][i]                              = 0\n",
    "        df_26['Imunodepositos_IgG'][i]                                             = 0\n",
    "        df_26['Imunodepositos_IgG_C1q_Fibrinogenio'][i]                            = 0\n",
    "        df_26['Imunodepositos_IgG_C3'][i]                                          = 0\n",
    "        df_26['Imunodepositos_IgG_Fibrinogênio'][i]                                = 0\n",
    "        df_26['Imunodepositos_IgG_IgA_IgM_C3_Fibrinogenio_kappa_lambda'][i]        = 0\n",
    "        df_26['Imunodepositos_IgG_Kappa_lambda_fibrinogenio'][i]                   = 0\n",
    "        df_26['Imunodepositos_IgM'][i]                                             = 0\n",
    "        df_26['Imunodepositos_IgM_C1q_C3_Lambda'][i]                               = 0\n",
    "        df_26['Imunodepositos_IgM_C3'][i]                                          = 0\n",
    "        df_26['Imunodepositos_IgM_C3_C1q'][i]                                      = 0\n",
    "        df_26['Imunodepositos_IgM_C3_C1q_lambda_fibrinogenio'][i]                  = 0\n",
    "        df_26['Imunodepositos_IgM_C3_fibrinogenio'][i]                             = 0\n",
    "        df_26['Imunodepositos_IgM_IgA_C3_C1q_Fibrinogenio_kappa_lambda'][i]        = 0\n",
    "        df_26['Imunodepositos_IgM_IgA_IgG_C3_fibrinogenio'][i]                     = 0\n",
    "        df_26['Imunodepositos_IgM_IgG_C1q_kappa_lambda_fibrinogenio'][i]           = 0\n",
    "        df_26['Imunodepositos_IgM_IgG_C3'][i]                                      = 0\n",
    "        df_26['Imunodepositos_IgM_IgG_C3_Lambda_Fibrinogenio'][i]                  = 0\n",
    "        df_26['Imunodepositos_IgM_IgG_IgA_C3_Kappa_Lambda_fibrinogenio'][i]        = 0\n",
    "        df_26['Imunodepositos_IgM_IgG_IgA_C3_Lambda'][i]                           = 1\n",
    "        df_26['Imunodepositos_IgM_IgG_IgA_C3_c1q'][i]                              = 0\n",
    "        df_26['Imunodepositos_IgM_IgG_IgA_Lambda_Fibrinogenio'][i]                 = 0\n",
    "        df_26['Imunodepositos_IgM_IgG_Kappa_Lambda_Fibrinogenio'][i]               = 0\n",
    "        df_26['Imunodepositos_IgM_IgG_fibrinogenio'][i]                            = 0\n",
    "        df_26['Imunodepositos_IgM_Lambda_fibrinogenio'][i]                         = 0\n",
    "        df_26['Imunodepositos_Kappa_Fibrinogenio'][i]                              = 0\n",
    "        df_26['Imunodepositos_Kappa_lambda'][i]                                    = 0\n",
    "        df_26['Imunodepositos_full_house'][i]                                      = 0\n",
    "        df_26['Imunodepositos_lambda'][i]                                          = 0\n",
    "        df_26['Imunodepositos_negativa'][i]                                        = 0\n",
    "        df_26['Imunodepositos_nao_realizada'][i]                                   = 0\n",
    "    elif coluna[i] == 'IgM IgG IgA C3 c1q':\n",
    "        df_26['Imunodepositos_C3'][i]                                              = 0\n",
    "        df_26['Imunodepositos_IgA_(co-dominante)'][i]                              = 0\n",
    "        df_26['Imunodepositos_IgA_(co-dominante)_C3_Kappa_lambda_fibrinogênio'][i] = 0\n",
    "        df_26['Imunodepositos_IgA_(co-dominante)_IgG_kappa_lambda'][i]             = 0\n",
    "        df_26['Imunodepositos_IgA_(co-dominante)_Kappa_lambda'][i]                 = 0\n",
    "        df_26['Imunodepositos_IgA_C1q_fibrinogênio'][i]                            = 0\n",
    "        df_26['Imunodepositos_IgA_IgM_C3_C1q_lambda'][i]                           = 0\n",
    "        df_26['Imunodepositos_IgA_IgM_IgG_C1q'][i]                                 = 0\n",
    "        df_26['Imunodepositos_IgA_IgM_IgG_C3_C1q'][i]                              = 0\n",
    "        df_26['Imunodepositos_IgG'][i]                                             = 0\n",
    "        df_26['Imunodepositos_IgG_C1q_Fibrinogenio'][i]                            = 0\n",
    "        df_26['Imunodepositos_IgG_C3'][i]                                          = 0\n",
    "        df_26['Imunodepositos_IgG_Fibrinogênio'][i]                                = 0\n",
    "        df_26['Imunodepositos_IgG_IgA_IgM_C3_Fibrinogenio_kappa_lambda'][i]        = 0\n",
    "        df_26['Imunodepositos_IgG_Kappa_lambda_fibrinogenio'][i]                   = 0\n",
    "        df_26['Imunodepositos_IgM'][i]                                             = 0\n",
    "        df_26['Imunodepositos_IgM_C1q_C3_Lambda'][i]                               = 0\n",
    "        df_26['Imunodepositos_IgM_C3'][i]                                          = 0\n",
    "        df_26['Imunodepositos_IgM_C3_C1q'][i]                                      = 0\n",
    "        df_26['Imunodepositos_IgM_C3_C1q_lambda_fibrinogenio'][i]                  = 0\n",
    "        df_26['Imunodepositos_IgM_C3_fibrinogenio'][i]                             = 0\n",
    "        df_26['Imunodepositos_IgM_IgA_C3_C1q_Fibrinogenio_kappa_lambda'][i]        = 0\n",
    "        df_26['Imunodepositos_IgM_IgA_IgG_C3_fibrinogenio'][i]                     = 0\n",
    "        df_26['Imunodepositos_IgM_IgG_C1q_kappa_lambda_fibrinogenio'][i]           = 0\n",
    "        df_26['Imunodepositos_IgM_IgG_C3'][i]                                      = 0\n",
    "        df_26['Imunodepositos_IgM_IgG_C3_Lambda_Fibrinogenio'][i]                  = 0\n",
    "        df_26['Imunodepositos_IgM_IgG_IgA_C3_Kappa_Lambda_fibrinogenio'][i]        = 0\n",
    "        df_26['Imunodepositos_IgM_IgG_IgA_C3_Lambda'][i]                           = 0\n",
    "        df_26['Imunodepositos_IgM_IgG_IgA_C3_c1q'][i]                              = 1\n",
    "        df_26['Imunodepositos_IgM_IgG_IgA_Lambda_Fibrinogenio'][i]                 = 0\n",
    "        df_26['Imunodepositos_IgM_IgG_Kappa_Lambda_Fibrinogenio'][i]               = 0\n",
    "        df_26['Imunodepositos_IgM_IgG_fibrinogenio'][i]                            = 0\n",
    "        df_26['Imunodepositos_IgM_Lambda_fibrinogenio'][i]                         = 0\n",
    "        df_26['Imunodepositos_Kappa_Fibrinogenio'][i]                              = 0\n",
    "        df_26['Imunodepositos_Kappa_lambda'][i]                                    = 0\n",
    "        df_26['Imunodepositos_full_house'][i]                                      = 0\n",
    "        df_26['Imunodepositos_lambda'][i]                                          = 0\n",
    "        df_26['Imunodepositos_negativa'][i]                                        = 0\n",
    "        df_26['Imunodepositos_nao_realizada'][i]                                   = 0\n",
    "    elif coluna[i] == 'IgM IgG IgA Lambda Fibrinogênio':\n",
    "        df_26['Imunodepositos_C3'][i]                                              = 0\n",
    "        df_26['Imunodepositos_IgA_(co-dominante)'][i]                              = 0\n",
    "        df_26['Imunodepositos_IgA_(co-dominante)_C3_Kappa_lambda_fibrinogênio'][i] = 0\n",
    "        df_26['Imunodepositos_IgA_(co-dominante)_IgG_kappa_lambda'][i]             = 0\n",
    "        df_26['Imunodepositos_IgA_(co-dominante)_Kappa_lambda'][i]                 = 0\n",
    "        df_26['Imunodepositos_IgA_C1q_fibrinogênio'][i]                            = 0\n",
    "        df_26['Imunodepositos_IgA_IgM_C3_C1q_lambda'][i]                           = 0\n",
    "        df_26['Imunodepositos_IgA_IgM_IgG_C1q'][i]                                 = 0\n",
    "        df_26['Imunodepositos_IgA_IgM_IgG_C3_C1q'][i]                              = 0\n",
    "        df_26['Imunodepositos_IgG'][i]                                             = 0\n",
    "        df_26['Imunodepositos_IgG_C1q_Fibrinogenio'][i]                            = 0\n",
    "        df_26['Imunodepositos_IgG_C3'][i]                                          = 0\n",
    "        df_26['Imunodepositos_IgG_Fibrinogênio'][i]                                = 0\n",
    "        df_26['Imunodepositos_IgG_IgA_IgM_C3_Fibrinogenio_kappa_lambda'][i]        = 0\n",
    "        df_26['Imunodepositos_IgG_Kappa_lambda_fibrinogenio'][i]                   = 0\n",
    "        df_26['Imunodepositos_IgM'][i]                                             = 0\n",
    "        df_26['Imunodepositos_IgM_C1q_C3_Lambda'][i]                               = 0\n",
    "        df_26['Imunodepositos_IgM_C3'][i]                                          = 0\n",
    "        df_26['Imunodepositos_IgM_C3_C1q'][i]                                      = 0\n",
    "        df_26['Imunodepositos_IgM_C3_C1q_lambda_fibrinogenio'][i]                  = 0\n",
    "        df_26['Imunodepositos_IgM_C3_fibrinogenio'][i]                             = 0\n",
    "        df_26['Imunodepositos_IgM_IgA_C3_C1q_Fibrinogenio_kappa_lambda'][i]        = 0\n",
    "        df_26['Imunodepositos_IgM_IgA_IgG_C3_fibrinogenio'][i]                     = 0\n",
    "        df_26['Imunodepositos_IgM_IgG_C1q_kappa_lambda_fibrinogenio'][i]           = 0\n",
    "        df_26['Imunodepositos_IgM_IgG_C3'][i]                                      = 0\n",
    "        df_26['Imunodepositos_IgM_IgG_C3_Lambda_Fibrinogenio'][i]                  = 0\n",
    "        df_26['Imunodepositos_IgM_IgG_IgA_C3_Kappa_Lambda_fibrinogenio'][i]        = 0\n",
    "        df_26['Imunodepositos_IgM_IgG_IgA_C3_Lambda'][i]                           = 0\n",
    "        df_26['Imunodepositos_IgM_IgG_IgA_C3_c1q'][i]                              = 0\n",
    "        df_26['Imunodepositos_IgM_IgG_IgA_Lambda_Fibrinogenio'][i]                 = 1\n",
    "        df_26['Imunodepositos_IgM_IgG_Kappa_Lambda_Fibrinogenio'][i]               = 0\n",
    "        df_26['Imunodepositos_IgM_IgG_fibrinogenio'][i]                            = 0\n",
    "        df_26['Imunodepositos_IgM_Lambda_fibrinogenio'][i]                         = 0\n",
    "        df_26['Imunodepositos_Kappa_Fibrinogenio'][i]                              = 0\n",
    "        df_26['Imunodepositos_Kappa_lambda'][i]                                    = 0\n",
    "        df_26['Imunodepositos_full_house'][i]                                      = 0\n",
    "        df_26['Imunodepositos_lambda'][i]                                          = 0\n",
    "        df_26['Imunodepositos_negativa'][i]                                        = 0\n",
    "        df_26['Imunodepositos_nao_realizada'][i]                                   = 0\n",
    "    elif coluna[i] == 'IgM IgG Kappa Lambda Fibrinogênio':\n",
    "        df_26['Imunodepositos_C3'][i]                                              = 0\n",
    "        df_26['Imunodepositos_IgA_(co-dominante)'][i]                              = 0\n",
    "        df_26['Imunodepositos_IgA_(co-dominante)_C3_Kappa_lambda_fibrinogênio'][i] = 0\n",
    "        df_26['Imunodepositos_IgA_(co-dominante)_IgG_kappa_lambda'][i]             = 0\n",
    "        df_26['Imunodepositos_IgA_(co-dominante)_Kappa_lambda'][i]                 = 0\n",
    "        df_26['Imunodepositos_IgA_C1q_fibrinogênio'][i]                            = 0\n",
    "        df_26['Imunodepositos_IgA_IgM_C3_C1q_lambda'][i]                           = 0\n",
    "        df_26['Imunodepositos_IgA_IgM_IgG_C1q'][i]                                 = 0\n",
    "        df_26['Imunodepositos_IgA_IgM_IgG_C3_C1q'][i]                              = 0\n",
    "        df_26['Imunodepositos_IgG'][i]                                             = 0\n",
    "        df_26['Imunodepositos_IgG_C1q_Fibrinogenio'][i]                            = 0\n",
    "        df_26['Imunodepositos_IgG_C3'][i]                                          = 0\n",
    "        df_26['Imunodepositos_IgG_Fibrinogênio'][i]                                = 0\n",
    "        df_26['Imunodepositos_IgG_IgA_IgM_C3_Fibrinogenio_kappa_lambda'][i]        = 0\n",
    "        df_26['Imunodepositos_IgG_Kappa_lambda_fibrinogenio'][i]                   = 0\n",
    "        df_26['Imunodepositos_IgM'][i]                                             = 0\n",
    "        df_26['Imunodepositos_IgM_C1q_C3_Lambda'][i]                               = 0\n",
    "        df_26['Imunodepositos_IgM_C3'][i]                                          = 0\n",
    "        df_26['Imunodepositos_IgM_C3_C1q'][i]                                      = 0\n",
    "        df_26['Imunodepositos_IgM_C3_C1q_lambda_fibrinogenio'][i]                  = 0\n",
    "        df_26['Imunodepositos_IgM_C3_fibrinogenio'][i]                             = 0\n",
    "        df_26['Imunodepositos_IgM_IgA_C3_C1q_Fibrinogenio_kappa_lambda'][i]        = 0\n",
    "        df_26['Imunodepositos_IgM_IgA_IgG_C3_fibrinogenio'][i]                     = 0\n",
    "        df_26['Imunodepositos_IgM_IgG_C1q_kappa_lambda_fibrinogenio'][i]           = 0\n",
    "        df_26['Imunodepositos_IgM_IgG_C3'][i]                                      = 0\n",
    "        df_26['Imunodepositos_IgM_IgG_C3_Lambda_Fibrinogenio'][i]                  = 0\n",
    "        df_26['Imunodepositos_IgM_IgG_IgA_C3_Kappa_Lambda_fibrinogenio'][i]        = 0\n",
    "        df_26['Imunodepositos_IgM_IgG_IgA_C3_Lambda'][i]                           = 0\n",
    "        df_26['Imunodepositos_IgM_IgG_IgA_C3_c1q'][i]                              = 0\n",
    "        df_26['Imunodepositos_IgM_IgG_IgA_Lambda_Fibrinogenio'][i]                 = 0\n",
    "        df_26['Imunodepositos_IgM_IgG_Kappa_Lambda_Fibrinogenio'][i]               = 1\n",
    "        df_26['Imunodepositos_IgM_IgG_fibrinogenio'][i]                            = 0\n",
    "        df_26['Imunodepositos_IgM_Lambda_fibrinogenio'][i]                         = 0\n",
    "        df_26['Imunodepositos_Kappa_Fibrinogenio'][i]                              = 0\n",
    "        df_26['Imunodepositos_Kappa_lambda'][i]                                    = 0\n",
    "        df_26['Imunodepositos_full_house'][i]                                      = 0\n",
    "        df_26['Imunodepositos_lambda'][i]                                          = 0\n",
    "        df_26['Imunodepositos_negativa'][i]                                        = 0\n",
    "        df_26['Imunodepositos_nao_realizada'][i]                                   = 0\n",
    "    elif coluna[i] == 'IgM IgG fibrinogênio':\n",
    "        df_26['Imunodepositos_C3'][i]                                              = 0\n",
    "        df_26['Imunodepositos_IgA_(co-dominante)'][i]                              = 0\n",
    "        df_26['Imunodepositos_IgA_(co-dominante)_C3_Kappa_lambda_fibrinogênio'][i] = 0\n",
    "        df_26['Imunodepositos_IgA_(co-dominante)_IgG_kappa_lambda'][i]             = 0\n",
    "        df_26['Imunodepositos_IgA_(co-dominante)_Kappa_lambda'][i]                 = 0\n",
    "        df_26['Imunodepositos_IgA_C1q_fibrinogênio'][i]                            = 0\n",
    "        df_26['Imunodepositos_IgA_IgM_C3_C1q_lambda'][i]                           = 0\n",
    "        df_26['Imunodepositos_IgA_IgM_IgG_C1q'][i]                                 = 0\n",
    "        df_26['Imunodepositos_IgA_IgM_IgG_C3_C1q'][i]                              = 0\n",
    "        df_26['Imunodepositos_IgG'][i]                                             = 0\n",
    "        df_26['Imunodepositos_IgG_C1q_Fibrinogenio'][i]                            = 0\n",
    "        df_26['Imunodepositos_IgG_C3'][i]                                          = 0\n",
    "        df_26['Imunodepositos_IgG_Fibrinogênio'][i]                                = 0\n",
    "        df_26['Imunodepositos_IgG_IgA_IgM_C3_Fibrinogenio_kappa_lambda'][i]        = 0\n",
    "        df_26['Imunodepositos_IgG_Kappa_lambda_fibrinogenio'][i]                   = 0\n",
    "        df_26['Imunodepositos_IgM'][i]                                             = 0\n",
    "        df_26['Imunodepositos_IgM_C1q_C3_Lambda'][i]                               = 0\n",
    "        df_26['Imunodepositos_IgM_C3'][i]                                          = 0\n",
    "        df_26['Imunodepositos_IgM_C3_C1q'][i]                                      = 0\n",
    "        df_26['Imunodepositos_IgM_C3_C1q_lambda_fibrinogenio'][i]                  = 0\n",
    "        df_26['Imunodepositos_IgM_C3_fibrinogenio'][i]                             = 0\n",
    "        df_26['Imunodepositos_IgM_IgA_C3_C1q_Fibrinogenio_kappa_lambda'][i]        = 0\n",
    "        df_26['Imunodepositos_IgM_IgA_IgG_C3_fibrinogenio'][i]                     = 0\n",
    "        df_26['Imunodepositos_IgM_IgG_C1q_kappa_lambda_fibrinogenio'][i]           = 0\n",
    "        df_26['Imunodepositos_IgM_IgG_C3'][i]                                      = 0\n",
    "        df_26['Imunodepositos_IgM_IgG_C3_Lambda_Fibrinogenio'][i]                  = 0\n",
    "        df_26['Imunodepositos_IgM_IgG_IgA_C3_Kappa_Lambda_fibrinogenio'][i]        = 0\n",
    "        df_26['Imunodepositos_IgM_IgG_IgA_C3_Lambda'][i]                           = 0\n",
    "        df_26['Imunodepositos_IgM_IgG_IgA_C3_c1q'][i]                              = 0\n",
    "        df_26['Imunodepositos_IgM_IgG_IgA_Lambda_Fibrinogenio'][i]                 = 0\n",
    "        df_26['Imunodepositos_IgM_IgG_Kappa_Lambda_Fibrinogenio'][i]               = 0\n",
    "        df_26['Imunodepositos_IgM_IgG_fibrinogenio'][i]                            = 1\n",
    "        df_26['Imunodepositos_IgM_Lambda_fibrinogenio'][i]                         = 0\n",
    "        df_26['Imunodepositos_Kappa_Fibrinogenio'][i]                              = 0\n",
    "        df_26['Imunodepositos_Kappa_lambda'][i]                                    = 0\n",
    "        df_26['Imunodepositos_full_house'][i]                                      = 0\n",
    "        df_26['Imunodepositos_lambda'][i]                                          = 0\n",
    "        df_26['Imunodepositos_negativa'][i]                                        = 0\n",
    "        df_26['Imunodepositos_nao_realizada'][i]                                   = 0\n",
    "    elif coluna[i] == 'IgM Lambda fibrinogênio':\n",
    "        df_26['Imunodepositos_C3'][i]                                              = 0\n",
    "        df_26['Imunodepositos_IgA_(co-dominante)'][i]                              = 0\n",
    "        df_26['Imunodepositos_IgA_(co-dominante)_C3_Kappa_lambda_fibrinogênio'][i] = 0\n",
    "        df_26['Imunodepositos_IgA_(co-dominante)_IgG_kappa_lambda'][i]             = 0\n",
    "        df_26['Imunodepositos_IgA_(co-dominante)_Kappa_lambda'][i]                 = 0\n",
    "        df_26['Imunodepositos_IgA_C1q_fibrinogênio'][i]                            = 0\n",
    "        df_26['Imunodepositos_IgA_IgM_C3_C1q_lambda'][i]                           = 0\n",
    "        df_26['Imunodepositos_IgA_IgM_IgG_C1q'][i]                                 = 0\n",
    "        df_26['Imunodepositos_IgA_IgM_IgG_C3_C1q'][i]                              = 0\n",
    "        df_26['Imunodepositos_IgG'][i]                                             = 0\n",
    "        df_26['Imunodepositos_IgG_C1q_Fibrinogenio'][i]                            = 0\n",
    "        df_26['Imunodepositos_IgG_C3'][i]                                          = 0\n",
    "        df_26['Imunodepositos_IgG_Fibrinogênio'][i]                                = 0\n",
    "        df_26['Imunodepositos_IgG_IgA_IgM_C3_Fibrinogenio_kappa_lambda'][i]        = 0\n",
    "        df_26['Imunodepositos_IgG_Kappa_lambda_fibrinogenio'][i]                   = 0\n",
    "        df_26['Imunodepositos_IgM'][i]                                             = 0\n",
    "        df_26['Imunodepositos_IgM_C1q_C3_Lambda'][i]                               = 0\n",
    "        df_26['Imunodepositos_IgM_C3'][i]                                          = 0\n",
    "        df_26['Imunodepositos_IgM_C3_C1q'][i]                                      = 0\n",
    "        df_26['Imunodepositos_IgM_C3_C1q_lambda_fibrinogenio'][i]                  = 0\n",
    "        df_26['Imunodepositos_IgM_C3_fibrinogenio'][i]                             = 0\n",
    "        df_26['Imunodepositos_IgM_IgA_C3_C1q_Fibrinogenio_kappa_lambda'][i]        = 0\n",
    "        df_26['Imunodepositos_IgM_IgA_IgG_C3_fibrinogenio'][i]                     = 0\n",
    "        df_26['Imunodepositos_IgM_IgG_C1q_kappa_lambda_fibrinogenio'][i]           = 0\n",
    "        df_26['Imunodepositos_IgM_IgG_C3'][i]                                      = 0\n",
    "        df_26['Imunodepositos_IgM_IgG_C3_Lambda_Fibrinogenio'][i]                  = 0\n",
    "        df_26['Imunodepositos_IgM_IgG_IgA_C3_Kappa_Lambda_fibrinogenio'][i]        = 0\n",
    "        df_26['Imunodepositos_IgM_IgG_IgA_C3_Lambda'][i]                           = 0\n",
    "        df_26['Imunodepositos_IgM_IgG_IgA_C3_c1q'][i]                              = 0\n",
    "        df_26['Imunodepositos_IgM_IgG_IgA_Lambda_Fibrinogenio'][i]                 = 0\n",
    "        df_26['Imunodepositos_IgM_IgG_Kappa_Lambda_Fibrinogenio'][i]               = 0\n",
    "        df_26['Imunodepositos_IgM_IgG_fibrinogenio'][i]                            = 0\n",
    "        df_26['Imunodepositos_IgM_Lambda_fibrinogenio'][i]                         = 1\n",
    "        df_26['Imunodepositos_Kappa_Fibrinogenio'][i]                              = 0\n",
    "        df_26['Imunodepositos_Kappa_lambda'][i]                                    = 0\n",
    "        df_26['Imunodepositos_full_house'][i]                                      = 0\n",
    "        df_26['Imunodepositos_lambda'][i]                                          = 0\n",
    "        df_26['Imunodepositos_negativa'][i]                                        = 0\n",
    "        df_26['Imunodepositos_nao_realizada'][i]                                   = 0\n",
    "    elif coluna[i] == 'Kappa Fibrinogênio':\n",
    "        df_26['Imunodepositos_C3'][i]                                              = 0\n",
    "        df_26['Imunodepositos_IgA_(co-dominante)'][i]                              = 0\n",
    "        df_26['Imunodepositos_IgA_(co-dominante)_C3_Kappa_lambda_fibrinogênio'][i] = 0\n",
    "        df_26['Imunodepositos_IgA_(co-dominante)_IgG_kappa_lambda'][i]             = 0\n",
    "        df_26['Imunodepositos_IgA_(co-dominante)_Kappa_lambda'][i]                 = 0\n",
    "        df_26['Imunodepositos_IgA_C1q_fibrinogênio'][i]                            = 0\n",
    "        df_26['Imunodepositos_IgA_IgM_C3_C1q_lambda'][i]                           = 0\n",
    "        df_26['Imunodepositos_IgA_IgM_IgG_C1q'][i]                                 = 0\n",
    "        df_26['Imunodepositos_IgA_IgM_IgG_C3_C1q'][i]                              = 0\n",
    "        df_26['Imunodepositos_IgG'][i]                                             = 0\n",
    "        df_26['Imunodepositos_IgG_C1q_Fibrinogenio'][i]                            = 0\n",
    "        df_26['Imunodepositos_IgG_C3'][i]                                          = 0\n",
    "        df_26['Imunodepositos_IgG_Fibrinogênio'][i]                                = 0\n",
    "        df_26['Imunodepositos_IgG_IgA_IgM_C3_Fibrinogenio_kappa_lambda'][i]        = 0\n",
    "        df_26['Imunodepositos_IgG_Kappa_lambda_fibrinogenio'][i]                   = 0\n",
    "        df_26['Imunodepositos_IgM'][i]                                             = 0\n",
    "        df_26['Imunodepositos_IgM_C1q_C3_Lambda'][i]                               = 0\n",
    "        df_26['Imunodepositos_IgM_C3'][i]                                          = 0\n",
    "        df_26['Imunodepositos_IgM_C3_C1q'][i]                                      = 0\n",
    "        df_26['Imunodepositos_IgM_C3_C1q_lambda_fibrinogenio'][i]                  = 0\n",
    "        df_26['Imunodepositos_IgM_C3_fibrinogenio'][i]                             = 0\n",
    "        df_26['Imunodepositos_IgM_IgA_C3_C1q_Fibrinogenio_kappa_lambda'][i]        = 0\n",
    "        df_26['Imunodepositos_IgM_IgA_IgG_C3_fibrinogenio'][i]                     = 0\n",
    "        df_26['Imunodepositos_IgM_IgG_C1q_kappa_lambda_fibrinogenio'][i]           = 0\n",
    "        df_26['Imunodepositos_IgM_IgG_C3'][i]                                      = 0\n",
    "        df_26['Imunodepositos_IgM_IgG_C3_Lambda_Fibrinogenio'][i]                  = 0\n",
    "        df_26['Imunodepositos_IgM_IgG_IgA_C3_Kappa_Lambda_fibrinogenio'][i]        = 0\n",
    "        df_26['Imunodepositos_IgM_IgG_IgA_C3_Lambda'][i]                           = 0\n",
    "        df_26['Imunodepositos_IgM_IgG_IgA_C3_c1q'][i]                              = 0\n",
    "        df_26['Imunodepositos_IgM_IgG_IgA_Lambda_Fibrinogenio'][i]                 = 0\n",
    "        df_26['Imunodepositos_IgM_IgG_Kappa_Lambda_Fibrinogenio'][i]               = 0\n",
    "        df_26['Imunodepositos_IgM_IgG_fibrinogenio'][i]                            = 0\n",
    "        df_26['Imunodepositos_IgM_Lambda_fibrinogenio'][i]                         = 0\n",
    "        df_26['Imunodepositos_Kappa_Fibrinogenio'][i]                              = 1\n",
    "        df_26['Imunodepositos_Kappa_lambda'][i]                                    = 0\n",
    "        df_26['Imunodepositos_full_house'][i]                                      = 0\n",
    "        df_26['Imunodepositos_lambda'][i]                                          = 0\n",
    "        df_26['Imunodepositos_negativa'][i]                                        = 0\n",
    "        df_26['Imunodepositos_nao_realizada'][i]                                   = 0\n",
    "    elif coluna[i] == 'Kappa lambda':\n",
    "        df_26['Imunodepositos_C3'][i]                                              = 0\n",
    "        df_26['Imunodepositos_IgA_(co-dominante)'][i]                              = 0\n",
    "        df_26['Imunodepositos_IgA_(co-dominante)_C3_Kappa_lambda_fibrinogênio'][i] = 0\n",
    "        df_26['Imunodepositos_IgA_(co-dominante)_IgG_kappa_lambda'][i]             = 0\n",
    "        df_26['Imunodepositos_IgA_(co-dominante)_Kappa_lambda'][i]                 = 0\n",
    "        df_26['Imunodepositos_IgA_C1q_fibrinogênio'][i]                            = 0\n",
    "        df_26['Imunodepositos_IgA_IgM_C3_C1q_lambda'][i]                           = 0\n",
    "        df_26['Imunodepositos_IgA_IgM_IgG_C1q'][i]                                 = 0\n",
    "        df_26['Imunodepositos_IgA_IgM_IgG_C3_C1q'][i]                              = 0\n",
    "        df_26['Imunodepositos_IgG'][i]                                             = 0\n",
    "        df_26['Imunodepositos_IgG_C1q_Fibrinogenio'][i]                            = 0\n",
    "        df_26['Imunodepositos_IgG_C3'][i]                                          = 0\n",
    "        df_26['Imunodepositos_IgG_Fibrinogênio'][i]                                = 0\n",
    "        df_26['Imunodepositos_IgG_IgA_IgM_C3_Fibrinogenio_kappa_lambda'][i]        = 0\n",
    "        df_26['Imunodepositos_IgG_Kappa_lambda_fibrinogenio'][i]                   = 0\n",
    "        df_26['Imunodepositos_IgM'][i]                                             = 0\n",
    "        df_26['Imunodepositos_IgM_C1q_C3_Lambda'][i]                               = 0\n",
    "        df_26['Imunodepositos_IgM_C3'][i]                                          = 0\n",
    "        df_26['Imunodepositos_IgM_C3_C1q'][i]                                      = 0\n",
    "        df_26['Imunodepositos_IgM_C3_C1q_lambda_fibrinogenio'][i]                  = 0\n",
    "        df_26['Imunodepositos_IgM_C3_fibrinogenio'][i]                             = 0\n",
    "        df_26['Imunodepositos_IgM_IgA_C3_C1q_Fibrinogenio_kappa_lambda'][i]        = 0\n",
    "        df_26['Imunodepositos_IgM_IgA_IgG_C3_fibrinogenio'][i]                     = 0\n",
    "        df_26['Imunodepositos_IgM_IgG_C1q_kappa_lambda_fibrinogenio'][i]           = 0\n",
    "        df_26['Imunodepositos_IgM_IgG_C3'][i]                                      = 0\n",
    "        df_26['Imunodepositos_IgM_IgG_C3_Lambda_Fibrinogenio'][i]                  = 0\n",
    "        df_26['Imunodepositos_IgM_IgG_IgA_C3_Kappa_Lambda_fibrinogenio'][i]        = 0\n",
    "        df_26['Imunodepositos_IgM_IgG_IgA_C3_Lambda'][i]                           = 0\n",
    "        df_26['Imunodepositos_IgM_IgG_IgA_C3_c1q'][i]                              = 0\n",
    "        df_26['Imunodepositos_IgM_IgG_IgA_Lambda_Fibrinogenio'][i]                 = 0\n",
    "        df_26['Imunodepositos_IgM_IgG_Kappa_Lambda_Fibrinogenio'][i]               = 0\n",
    "        df_26['Imunodepositos_IgM_IgG_fibrinogenio'][i]                            = 0\n",
    "        df_26['Imunodepositos_IgM_Lambda_fibrinogenio'][i]                         = 0\n",
    "        df_26['Imunodepositos_Kappa_Fibrinogenio'][i]                              = 0\n",
    "        df_26['Imunodepositos_Kappa_lambda'][i]                                    = 1\n",
    "        df_26['Imunodepositos_full_house'][i]                                      = 0\n",
    "        df_26['Imunodepositos_lambda'][i]                                          = 0\n",
    "        df_26['Imunodepositos_negativa'][i]                                        = 0\n",
    "        df_26['Imunodepositos_nao_realizada'][i]                                   = 0\n",
    "    elif coluna[i] == 'full house':\n",
    "        df_26['Imunodepositos_C3'][i]                                              = 0\n",
    "        df_26['Imunodepositos_IgA_(co-dominante)'][i]                              = 0\n",
    "        df_26['Imunodepositos_IgA_(co-dominante)_C3_Kappa_lambda_fibrinogênio'][i] = 0\n",
    "        df_26['Imunodepositos_IgA_(co-dominante)_IgG_kappa_lambda'][i]             = 0\n",
    "        df_26['Imunodepositos_IgA_(co-dominante)_Kappa_lambda'][i]                 = 0\n",
    "        df_26['Imunodepositos_IgA_C1q_fibrinogênio'][i]                            = 0\n",
    "        df_26['Imunodepositos_IgA_IgM_C3_C1q_lambda'][i]                           = 0\n",
    "        df_26['Imunodepositos_IgA_IgM_IgG_C1q'][i]                                 = 0\n",
    "        df_26['Imunodepositos_IgA_IgM_IgG_C3_C1q'][i]                              = 0\n",
    "        df_26['Imunodepositos_IgG'][i]                                             = 0\n",
    "        df_26['Imunodepositos_IgG_C1q_Fibrinogenio'][i]                            = 0\n",
    "        df_26['Imunodepositos_IgG_C3'][i]                                          = 0\n",
    "        df_26['Imunodepositos_IgG_Fibrinogênio'][i]                                = 0\n",
    "        df_26['Imunodepositos_IgG_IgA_IgM_C3_Fibrinogenio_kappa_lambda'][i]        = 0\n",
    "        df_26['Imunodepositos_IgG_Kappa_lambda_fibrinogenio'][i]                   = 0\n",
    "        df_26['Imunodepositos_IgM'][i]                                             = 0\n",
    "        df_26['Imunodepositos_IgM_C1q_C3_Lambda'][i]                               = 0\n",
    "        df_26['Imunodepositos_IgM_C3'][i]                                          = 0\n",
    "        df_26['Imunodepositos_IgM_C3_C1q'][i]                                      = 0\n",
    "        df_26['Imunodepositos_IgM_C3_C1q_lambda_fibrinogenio'][i]                  = 0\n",
    "        df_26['Imunodepositos_IgM_C3_fibrinogenio'][i]                             = 0\n",
    "        df_26['Imunodepositos_IgM_IgA_C3_C1q_Fibrinogenio_kappa_lambda'][i]        = 0\n",
    "        df_26['Imunodepositos_IgM_IgA_IgG_C3_fibrinogenio'][i]                     = 0\n",
    "        df_26['Imunodepositos_IgM_IgG_C1q_kappa_lambda_fibrinogenio'][i]           = 0\n",
    "        df_26['Imunodepositos_IgM_IgG_C3'][i]                                      = 0\n",
    "        df_26['Imunodepositos_IgM_IgG_C3_Lambda_Fibrinogenio'][i]                  = 0\n",
    "        df_26['Imunodepositos_IgM_IgG_IgA_C3_Kappa_Lambda_fibrinogenio'][i]        = 0\n",
    "        df_26['Imunodepositos_IgM_IgG_IgA_C3_Lambda'][i]                           = 0\n",
    "        df_26['Imunodepositos_IgM_IgG_IgA_C3_c1q'][i]                              = 0\n",
    "        df_26['Imunodepositos_IgM_IgG_IgA_Lambda_Fibrinogenio'][i]                 = 0\n",
    "        df_26['Imunodepositos_IgM_IgG_Kappa_Lambda_Fibrinogenio'][i]               = 0\n",
    "        df_26['Imunodepositos_IgM_IgG_fibrinogenio'][i]                            = 0\n",
    "        df_26['Imunodepositos_IgM_Lambda_fibrinogenio'][i]                         = 0\n",
    "        df_26['Imunodepositos_Kappa_Fibrinogenio'][i]                              = 0\n",
    "        df_26['Imunodepositos_Kappa_lambda'][i]                                    = 0\n",
    "        df_26['Imunodepositos_full_house'][i]                                      = 1\n",
    "        df_26['Imunodepositos_lambda'][i]                                          = 0\n",
    "        df_26['Imunodepositos_negativa'][i]                                        = 0\n",
    "        df_26['Imunodepositos_nao_realizada'][i]                                   = 0\n",
    "    elif coluna[i] == 'lambda':\n",
    "        df_26['Imunodepositos_C3'][i]                                              = 0\n",
    "        df_26['Imunodepositos_IgA_(co-dominante)'][i]                              = 0\n",
    "        df_26['Imunodepositos_IgA_(co-dominante)_C3_Kappa_lambda_fibrinogênio'][i] = 0\n",
    "        df_26['Imunodepositos_IgA_(co-dominante)_IgG_kappa_lambda'][i]             = 0\n",
    "        df_26['Imunodepositos_IgA_(co-dominante)_Kappa_lambda'][i]                 = 0\n",
    "        df_26['Imunodepositos_IgA_C1q_fibrinogênio'][i]                            = 0\n",
    "        df_26['Imunodepositos_IgA_IgM_C3_C1q_lambda'][i]                           = 0\n",
    "        df_26['Imunodepositos_IgA_IgM_IgG_C1q'][i]                                 = 0\n",
    "        df_26['Imunodepositos_IgA_IgM_IgG_C3_C1q'][i]                              = 0\n",
    "        df_26['Imunodepositos_IgG'][i]                                             = 0\n",
    "        df_26['Imunodepositos_IgG_C1q_Fibrinogenio'][i]                            = 0\n",
    "        df_26['Imunodepositos_IgG_C3'][i]                                          = 0\n",
    "        df_26['Imunodepositos_IgG_Fibrinogênio'][i]                                = 0\n",
    "        df_26['Imunodepositos_IgG_IgA_IgM_C3_Fibrinogenio_kappa_lambda'][i]        = 0\n",
    "        df_26['Imunodepositos_IgG_Kappa_lambda_fibrinogenio'][i]                   = 0\n",
    "        df_26['Imunodepositos_IgM'][i]                                             = 0\n",
    "        df_26['Imunodepositos_IgM_C1q_C3_Lambda'][i]                               = 0\n",
    "        df_26['Imunodepositos_IgM_C3'][i]                                          = 0\n",
    "        df_26['Imunodepositos_IgM_C3_C1q'][i]                                      = 0\n",
    "        df_26['Imunodepositos_IgM_C3_C1q_lambda_fibrinogenio'][i]                  = 0\n",
    "        df_26['Imunodepositos_IgM_C3_fibrinogenio'][i]                             = 0\n",
    "        df_26['Imunodepositos_IgM_IgA_C3_C1q_Fibrinogenio_kappa_lambda'][i]        = 0\n",
    "        df_26['Imunodepositos_IgM_IgA_IgG_C3_fibrinogenio'][i]                     = 0\n",
    "        df_26['Imunodepositos_IgM_IgG_C1q_kappa_lambda_fibrinogenio'][i]           = 0\n",
    "        df_26['Imunodepositos_IgM_IgG_C3'][i]                                      = 0\n",
    "        df_26['Imunodepositos_IgM_IgG_C3_Lambda_Fibrinogenio'][i]                  = 0\n",
    "        df_26['Imunodepositos_IgM_IgG_IgA_C3_Kappa_Lambda_fibrinogenio'][i]        = 0\n",
    "        df_26['Imunodepositos_IgM_IgG_IgA_C3_Lambda'][i]                           = 0\n",
    "        df_26['Imunodepositos_IgM_IgG_IgA_C3_c1q'][i]                              = 0\n",
    "        df_26['Imunodepositos_IgM_IgG_IgA_Lambda_Fibrinogenio'][i]                 = 0\n",
    "        df_26['Imunodepositos_IgM_IgG_Kappa_Lambda_Fibrinogenio'][i]               = 0\n",
    "        df_26['Imunodepositos_IgM_IgG_fibrinogenio'][i]                            = 0\n",
    "        df_26['Imunodepositos_IgM_Lambda_fibrinogenio'][i]                         = 0\n",
    "        df_26['Imunodepositos_Kappa_Fibrinogenio'][i]                              = 0\n",
    "        df_26['Imunodepositos_Kappa_lambda'][i]                                    = 0\n",
    "        df_26['Imunodepositos_full_house'][i]                                      = 0\n",
    "        df_26['Imunodepositos_lambda'][i]                                          = 1\n",
    "        df_26['Imunodepositos_negativa'][i]                                        = 0\n",
    "        df_26['Imunodepositos_nao_realizada'][i]                                   = 0\n",
    "    elif coluna[i] == 'negativa':\n",
    "        df_26['Imunodepositos_C3'][i]                                              = 0\n",
    "        df_26['Imunodepositos_IgA_(co-dominante)'][i]                              = 0\n",
    "        df_26['Imunodepositos_IgA_(co-dominante)_C3_Kappa_lambda_fibrinogênio'][i] = 0\n",
    "        df_26['Imunodepositos_IgA_(co-dominante)_IgG_kappa_lambda'][i]             = 0\n",
    "        df_26['Imunodepositos_IgA_(co-dominante)_Kappa_lambda'][i]                 = 0\n",
    "        df_26['Imunodepositos_IgA_C1q_fibrinogênio'][i]                            = 0\n",
    "        df_26['Imunodepositos_IgA_IgM_C3_C1q_lambda'][i]                           = 0\n",
    "        df_26['Imunodepositos_IgA_IgM_IgG_C1q'][i]                                 = 0\n",
    "        df_26['Imunodepositos_IgA_IgM_IgG_C3_C1q'][i]                              = 0\n",
    "        df_26['Imunodepositos_IgG'][i]                                             = 0\n",
    "        df_26['Imunodepositos_IgG_C1q_Fibrinogenio'][i]                            = 0\n",
    "        df_26['Imunodepositos_IgG_C3'][i]                                          = 0\n",
    "        df_26['Imunodepositos_IgG_Fibrinogênio'][i]                                = 0\n",
    "        df_26['Imunodepositos_IgG_IgA_IgM_C3_Fibrinogenio_kappa_lambda'][i]        = 0\n",
    "        df_26['Imunodepositos_IgG_Kappa_lambda_fibrinogenio'][i]                   = 0\n",
    "        df_26['Imunodepositos_IgM'][i]                                             = 0\n",
    "        df_26['Imunodepositos_IgM_C1q_C3_Lambda'][i]                               = 0\n",
    "        df_26['Imunodepositos_IgM_C3'][i]                                          = 0\n",
    "        df_26['Imunodepositos_IgM_C3_C1q'][i]                                      = 0\n",
    "        df_26['Imunodepositos_IgM_C3_C1q_lambda_fibrinogenio'][i]                  = 0\n",
    "        df_26['Imunodepositos_IgM_C3_fibrinogenio'][i]                             = 0\n",
    "        df_26['Imunodepositos_IgM_IgA_C3_C1q_Fibrinogenio_kappa_lambda'][i]        = 0\n",
    "        df_26['Imunodepositos_IgM_IgA_IgG_C3_fibrinogenio'][i]                     = 0\n",
    "        df_26['Imunodepositos_IgM_IgG_C1q_kappa_lambda_fibrinogenio'][i]           = 0\n",
    "        df_26['Imunodepositos_IgM_IgG_C3'][i]                                      = 0\n",
    "        df_26['Imunodepositos_IgM_IgG_C3_Lambda_Fibrinogenio'][i]                  = 0\n",
    "        df_26['Imunodepositos_IgM_IgG_IgA_C3_Kappa_Lambda_fibrinogenio'][i]        = 0\n",
    "        df_26['Imunodepositos_IgM_IgG_IgA_C3_Lambda'][i]                           = 0\n",
    "        df_26['Imunodepositos_IgM_IgG_IgA_C3_c1q'][i]                              = 0\n",
    "        df_26['Imunodepositos_IgM_IgG_IgA_Lambda_Fibrinogenio'][i]                 = 0\n",
    "        df_26['Imunodepositos_IgM_IgG_Kappa_Lambda_Fibrinogenio'][i]               = 0\n",
    "        df_26['Imunodepositos_IgM_IgG_fibrinogenio'][i]                            = 0\n",
    "        df_26['Imunodepositos_IgM_Lambda_fibrinogenio'][i]                         = 0\n",
    "        df_26['Imunodepositos_Kappa_Fibrinogenio'][i]                              = 0\n",
    "        df_26['Imunodepositos_Kappa_lambda'][i]                                    = 0\n",
    "        df_26['Imunodepositos_full_house'][i]                                      = 0\n",
    "        df_26['Imunodepositos_lambda'][i]                                          = 0\n",
    "        df_26['Imunodepositos_negativa'][i]                                        = 1\n",
    "        df_26['Imunodepositos_nao_realizada'][i]                                   = 0\n",
    "    elif coluna[i] == 'não realizada':\n",
    "        df_26['Imunodepositos_C3'][i]                                              = 0\n",
    "        df_26['Imunodepositos_IgA_(co-dominante)'][i]                              = 0\n",
    "        df_26['Imunodepositos_IgA_(co-dominante)_C3_Kappa_lambda_fibrinogênio'][i] = 0\n",
    "        df_26['Imunodepositos_IgA_(co-dominante)_IgG_kappa_lambda'][i]             = 0\n",
    "        df_26['Imunodepositos_IgA_(co-dominante)_Kappa_lambda'][i]                 = 0\n",
    "        df_26['Imunodepositos_IgA_C1q_fibrinogênio'][i]                            = 0\n",
    "        df_26['Imunodepositos_IgA_IgM_C3_C1q_lambda'][i]                           = 0\n",
    "        df_26['Imunodepositos_IgA_IgM_IgG_C1q'][i]                                 = 0\n",
    "        df_26['Imunodepositos_IgA_IgM_IgG_C3_C1q'][i]                              = 0\n",
    "        df_26['Imunodepositos_IgG'][i]                                             = 0\n",
    "        df_26['Imunodepositos_IgG_C1q_Fibrinogenio'][i]                            = 0\n",
    "        df_26['Imunodepositos_IgG_C3'][i]                                          = 0\n",
    "        df_26['Imunodepositos_IgG_Fibrinogênio'][i]                                = 0\n",
    "        df_26['Imunodepositos_IgG_IgA_IgM_C3_Fibrinogenio_kappa_lambda'][i]        = 0\n",
    "        df_26['Imunodepositos_IgG_Kappa_lambda_fibrinogenio'][i]                   = 0\n",
    "        df_26['Imunodepositos_IgM'][i]                                             = 0\n",
    "        df_26['Imunodepositos_IgM_C1q_C3_Lambda'][i]                               = 0\n",
    "        df_26['Imunodepositos_IgM_C3'][i]                                          = 0\n",
    "        df_26['Imunodepositos_IgM_C3_C1q'][i]                                      = 0\n",
    "        df_26['Imunodepositos_IgM_C3_C1q_lambda_fibrinogenio'][i]                  = 0\n",
    "        df_26['Imunodepositos_IgM_C3_fibrinogenio'][i]                             = 0\n",
    "        df_26['Imunodepositos_IgM_IgA_C3_C1q_Fibrinogenio_kappa_lambda'][i]        = 0\n",
    "        df_26['Imunodepositos_IgM_IgA_IgG_C3_fibrinogenio'][i]                     = 0\n",
    "        df_26['Imunodepositos_IgM_IgG_C1q_kappa_lambda_fibrinogenio'][i]           = 0\n",
    "        df_26['Imunodepositos_IgM_IgG_C3'][i]                                      = 0\n",
    "        df_26['Imunodepositos_IgM_IgG_C3_Lambda_Fibrinogenio'][i]                  = 0\n",
    "        df_26['Imunodepositos_IgM_IgG_IgA_C3_Kappa_Lambda_fibrinogenio'][i]        = 0\n",
    "        df_26['Imunodepositos_IgM_IgG_IgA_C3_Lambda'][i]                           = 0\n",
    "        df_26['Imunodepositos_IgM_IgG_IgA_C3_c1q'][i]                              = 0\n",
    "        df_26['Imunodepositos_IgM_IgG_IgA_Lambda_Fibrinogenio'][i]                 = 0\n",
    "        df_26['Imunodepositos_IgM_IgG_Kappa_Lambda_Fibrinogenio'][i]               = 0\n",
    "        df_26['Imunodepositos_IgM_IgG_fibrinogenio'][i]                            = 0\n",
    "        df_26['Imunodepositos_IgM_Lambda_fibrinogenio'][i]                         = 0\n",
    "        df_26['Imunodepositos_Kappa_Fibrinogenio'][i]                              = 0\n",
    "        df_26['Imunodepositos_Kappa_lambda'][i]                                    = 0\n",
    "        df_26['Imunodepositos_full_house'][i]                                      = 0\n",
    "        df_26['Imunodepositos_lambda'][i]                                          = 0\n",
    "        df_26['Imunodepositos_negativa'][i]                                        = 0\n",
    "        df_26['Imunodepositos_nao_realizada'][i]                                   = 1"
   ]
  },
  {
   "cell_type": "code",
   "execution_count": 308,
   "metadata": {},
   "outputs": [
    {
     "data": {
      "text/html": [
       "<div>\n",
       "<style scoped>\n",
       "    .dataframe tbody tr th:only-of-type {\n",
       "        vertical-align: middle;\n",
       "    }\n",
       "\n",
       "    .dataframe tbody tr th {\n",
       "        vertical-align: top;\n",
       "    }\n",
       "\n",
       "    .dataframe thead th {\n",
       "        text-align: right;\n",
       "    }\n",
       "</style>\n",
       "<table border=\"1\" class=\"dataframe\">\n",
       "  <thead>\n",
       "    <tr style=\"text-align: right;\">\n",
       "      <th></th>\n",
       "      <th>Imunodepositos_C3</th>\n",
       "      <th>Imunodepositos_IgA_(co-dominante)</th>\n",
       "      <th>Imunodepositos_IgA_(co-dominante)_C3_Kappa_lambda_fibrinogênio</th>\n",
       "      <th>Imunodepositos_IgA_(co-dominante)_IgG_kappa_lambda</th>\n",
       "      <th>Imunodepositos_IgA_(co-dominante)_Kappa_lambda</th>\n",
       "      <th>Imunodepositos_IgA_C1q_fibrinogênio</th>\n",
       "      <th>Imunodepositos_IgA_IgM_C3_C1q_lambda</th>\n",
       "      <th>Imunodepositos_IgA_IgM_IgG_C1q</th>\n",
       "      <th>Imunodepositos_IgA_IgM_IgG_C3_C1q</th>\n",
       "      <th>Imunodepositos_IgG</th>\n",
       "      <th>...</th>\n",
       "      <th>Imunodepositos_IgM_IgG_Kappa_Lambda_Fibrinogenio</th>\n",
       "      <th>Imunodepositos_IgM_IgG_Kappa_Lambda_Fibrinogênio</th>\n",
       "      <th>Imunodepositos_IgM_IgG_fibrinogenio</th>\n",
       "      <th>Imunodepositos_IgM_Lambda_fibrinogenio</th>\n",
       "      <th>Imunodepositos_Kappa_Fibrinogenio</th>\n",
       "      <th>Imunodepositos_Kappa_lambda</th>\n",
       "      <th>Imunodepositos_full_house</th>\n",
       "      <th>Imunodepositos_lambda</th>\n",
       "      <th>Imunodepositos_negativa</th>\n",
       "      <th>Imunodepositos_nao_realizada</th>\n",
       "    </tr>\n",
       "  </thead>\n",
       "  <tbody>\n",
       "    <tr>\n",
       "      <th>0</th>\n",
       "      <td>0</td>\n",
       "      <td>0</td>\n",
       "      <td>0</td>\n",
       "      <td>0</td>\n",
       "      <td>0</td>\n",
       "      <td>0</td>\n",
       "      <td>0</td>\n",
       "      <td>0</td>\n",
       "      <td>0</td>\n",
       "      <td>0</td>\n",
       "      <td>...</td>\n",
       "      <td>0</td>\n",
       "      <td>NaN</td>\n",
       "      <td>0</td>\n",
       "      <td>0</td>\n",
       "      <td>0</td>\n",
       "      <td>0</td>\n",
       "      <td>0</td>\n",
       "      <td>0</td>\n",
       "      <td>1</td>\n",
       "      <td>0</td>\n",
       "    </tr>\n",
       "    <tr>\n",
       "      <th>1</th>\n",
       "      <td>0</td>\n",
       "      <td>0</td>\n",
       "      <td>0</td>\n",
       "      <td>0</td>\n",
       "      <td>0</td>\n",
       "      <td>0</td>\n",
       "      <td>0</td>\n",
       "      <td>0</td>\n",
       "      <td>0</td>\n",
       "      <td>0</td>\n",
       "      <td>...</td>\n",
       "      <td>0</td>\n",
       "      <td>NaN</td>\n",
       "      <td>0</td>\n",
       "      <td>0</td>\n",
       "      <td>0</td>\n",
       "      <td>0</td>\n",
       "      <td>0</td>\n",
       "      <td>0</td>\n",
       "      <td>1</td>\n",
       "      <td>0</td>\n",
       "    </tr>\n",
       "    <tr>\n",
       "      <th>2</th>\n",
       "      <td>0</td>\n",
       "      <td>0</td>\n",
       "      <td>0</td>\n",
       "      <td>0</td>\n",
       "      <td>0</td>\n",
       "      <td>0</td>\n",
       "      <td>0</td>\n",
       "      <td>0</td>\n",
       "      <td>0</td>\n",
       "      <td>0</td>\n",
       "      <td>...</td>\n",
       "      <td>0</td>\n",
       "      <td>NaN</td>\n",
       "      <td>0</td>\n",
       "      <td>0</td>\n",
       "      <td>0</td>\n",
       "      <td>0</td>\n",
       "      <td>0</td>\n",
       "      <td>0</td>\n",
       "      <td>0</td>\n",
       "      <td>0</td>\n",
       "    </tr>\n",
       "    <tr>\n",
       "      <th>3</th>\n",
       "      <td>0</td>\n",
       "      <td>0</td>\n",
       "      <td>0</td>\n",
       "      <td>0</td>\n",
       "      <td>0</td>\n",
       "      <td>0</td>\n",
       "      <td>0</td>\n",
       "      <td>0</td>\n",
       "      <td>0</td>\n",
       "      <td>0</td>\n",
       "      <td>...</td>\n",
       "      <td>0</td>\n",
       "      <td>NaN</td>\n",
       "      <td>0</td>\n",
       "      <td>0</td>\n",
       "      <td>0</td>\n",
       "      <td>0</td>\n",
       "      <td>0</td>\n",
       "      <td>0</td>\n",
       "      <td>0</td>\n",
       "      <td>0</td>\n",
       "    </tr>\n",
       "    <tr>\n",
       "      <th>4</th>\n",
       "      <td>0</td>\n",
       "      <td>0</td>\n",
       "      <td>0</td>\n",
       "      <td>0</td>\n",
       "      <td>0</td>\n",
       "      <td>0</td>\n",
       "      <td>0</td>\n",
       "      <td>0</td>\n",
       "      <td>0</td>\n",
       "      <td>0</td>\n",
       "      <td>...</td>\n",
       "      <td>0</td>\n",
       "      <td>NaN</td>\n",
       "      <td>0</td>\n",
       "      <td>0</td>\n",
       "      <td>0</td>\n",
       "      <td>0</td>\n",
       "      <td>0</td>\n",
       "      <td>0</td>\n",
       "      <td>0</td>\n",
       "      <td>0</td>\n",
       "    </tr>\n",
       "  </tbody>\n",
       "</table>\n",
       "<p>5 rows × 40 columns</p>\n",
       "</div>"
      ],
      "text/plain": [
       "  Imunodepositos_C3 Imunodepositos_IgA_(co-dominante)  \\\n",
       "0                 0                                 0   \n",
       "1                 0                                 0   \n",
       "2                 0                                 0   \n",
       "3                 0                                 0   \n",
       "4                 0                                 0   \n",
       "\n",
       "  Imunodepositos_IgA_(co-dominante)_C3_Kappa_lambda_fibrinogênio  \\\n",
       "0                                                  0               \n",
       "1                                                  0               \n",
       "2                                                  0               \n",
       "3                                                  0               \n",
       "4                                                  0               \n",
       "\n",
       "  Imunodepositos_IgA_(co-dominante)_IgG_kappa_lambda  \\\n",
       "0                                                  0   \n",
       "1                                                  0   \n",
       "2                                                  0   \n",
       "3                                                  0   \n",
       "4                                                  0   \n",
       "\n",
       "  Imunodepositos_IgA_(co-dominante)_Kappa_lambda  \\\n",
       "0                                              0   \n",
       "1                                              0   \n",
       "2                                              0   \n",
       "3                                              0   \n",
       "4                                              0   \n",
       "\n",
       "  Imunodepositos_IgA_C1q_fibrinogênio Imunodepositos_IgA_IgM_C3_C1q_lambda  \\\n",
       "0                                   0                                    0   \n",
       "1                                   0                                    0   \n",
       "2                                   0                                    0   \n",
       "3                                   0                                    0   \n",
       "4                                   0                                    0   \n",
       "\n",
       "  Imunodepositos_IgA_IgM_IgG_C1q Imunodepositos_IgA_IgM_IgG_C3_C1q  \\\n",
       "0                              0                                 0   \n",
       "1                              0                                 0   \n",
       "2                              0                                 0   \n",
       "3                              0                                 0   \n",
       "4                              0                                 0   \n",
       "\n",
       "  Imunodepositos_IgG  ... Imunodepositos_IgM_IgG_Kappa_Lambda_Fibrinogenio  \\\n",
       "0                  0  ...                                                0   \n",
       "1                  0  ...                                                0   \n",
       "2                  0  ...                                                0   \n",
       "3                  0  ...                                                0   \n",
       "4                  0  ...                                                0   \n",
       "\n",
       "  Imunodepositos_IgM_IgG_Kappa_Lambda_Fibrinogênio  \\\n",
       "0                                              NaN   \n",
       "1                                              NaN   \n",
       "2                                              NaN   \n",
       "3                                              NaN   \n",
       "4                                              NaN   \n",
       "\n",
       "  Imunodepositos_IgM_IgG_fibrinogenio Imunodepositos_IgM_Lambda_fibrinogenio  \\\n",
       "0                                   0                                      0   \n",
       "1                                   0                                      0   \n",
       "2                                   0                                      0   \n",
       "3                                   0                                      0   \n",
       "4                                   0                                      0   \n",
       "\n",
       "  Imunodepositos_Kappa_Fibrinogenio Imunodepositos_Kappa_lambda  \\\n",
       "0                                 0                           0   \n",
       "1                                 0                           0   \n",
       "2                                 0                           0   \n",
       "3                                 0                           0   \n",
       "4                                 0                           0   \n",
       "\n",
       "  Imunodepositos_full_house Imunodepositos_lambda Imunodepositos_negativa  \\\n",
       "0                         0                     0                       1   \n",
       "1                         0                     0                       1   \n",
       "2                         0                     0                       0   \n",
       "3                         0                     0                       0   \n",
       "4                         0                     0                       0   \n",
       "\n",
       "  Imunodepositos_nao_realizada  \n",
       "0                            0  \n",
       "1                            0  \n",
       "2                            0  \n",
       "3                            0  \n",
       "4                            0  \n",
       "\n",
       "[5 rows x 40 columns]"
      ]
     },
     "execution_count": 308,
     "metadata": {},
     "output_type": "execute_result"
    }
   ],
   "source": [
    "contador = 0\n",
    "while contador < 100:\n",
    "    preencher26(base_01['Imunodepósitos'], contador)\n",
    "    contador += 1\n",
    "\n",
    "df_26.head()"
   ]
  },
  {
   "cell_type": "code",
   "execution_count": 309,
   "metadata": {},
   "outputs": [
    {
     "data": {
      "text/plain": [
       "negativa                                           17\n",
       "full house                                         11\n",
       "IgG C3                                              8\n",
       "IgM                                                 7\n",
       "C3                                                  5\n",
       "IgM IgG C3                                          5\n",
       "IgG                                                 4\n",
       "IgA (co-dominante)                                  4\n",
       "IgG C1q Fibrinogênio                                3\n",
       "IgM Lambda fibrinogênio                             2\n",
       "IgG Kappa lambda fibrinogênio                       2\n",
       "IgM C3 C1q lambda fibrinogênio                      2\n",
       "IgM C3 C1q                                          2\n",
       "IgM IgG IgA C3 Kappa Lambda fibrinogênio            2\n",
       "IgM C1q C3 Lambda                                   1\n",
       "IgM IgG IgA C3 Lambda                               1\n",
       "IgM IgG IgA Lambda Fibrinogênio                     1\n",
       "IgM C3                                              1\n",
       "Kappa lambda                                        1\n",
       "IgA IgM C3 C1q lambda                               1\n",
       "IgA (co-dominante) IgG kappa lambda                 1\n",
       "IgA (co-dominante) Kappa lambda                     1\n",
       "IgG IgA IgM C3 fibrinogênio kappa lambda            1\n",
       "IgM IgA IgG C3 fibrinogênio                         1\n",
       "IgM IgG C3 Lambda Fibrinogênio                      1\n",
       "IgG IgA IgM C3 Fibrinogênio kappa lambda            1\n",
       "IgM IgA C3 C1q Fibrinogênio kappa lambda            1\n",
       "IgM IgG fibrinogênio                                1\n",
       "IgA IgM IgG C3 C1q                                  1\n",
       "IgA (co-dominante) C3 Kappa lambda fibrinogênio     1\n",
       "lambda                                              1\n",
       "IgA C1q fibrinogênio                                1\n",
       "IgM IgG IgA C3 c1q                                  1\n",
       "Kappa Fibrinogênio                                  1\n",
       "IgM IgG C1q kappa lambda fibrinogênio               1\n",
       "IgG Fibrinogênio                                    1\n",
       "IgM IgG Kappa Lambda Fibrinogênio                   1\n",
       "não realizada                                       1\n",
       "IgM C3 fibrinogênio                                 1\n",
       "IgA IgM IgG C1q                                     1\n",
       "Name: Imunodepósitos, dtype: int64"
      ]
     },
     "execution_count": 309,
     "metadata": {},
     "output_type": "execute_result"
    }
   ],
   "source": [
    "base_01['Imunodepósitos'].value_counts()"
   ]
  },
  {
   "cell_type": "code",
   "execution_count": 310,
   "metadata": {},
   "outputs": [
    {
     "data": {
      "text/plain": [
       "17"
      ]
     },
     "execution_count": 310,
     "metadata": {},
     "output_type": "execute_result"
    }
   ],
   "source": [
    "len(df_26[df_26['Imunodepositos_negativa'] == 1])"
   ]
  },
  {
   "cell_type": "code",
   "execution_count": 311,
   "metadata": {},
   "outputs": [
    {
     "data": {
      "text/plain": [
       "11"
      ]
     },
     "execution_count": 311,
     "metadata": {},
     "output_type": "execute_result"
    }
   ],
   "source": [
    "len(df_26[df_26['Imunodepositos_full_house'] == 1])"
   ]
  },
  {
   "cell_type": "code",
   "execution_count": 312,
   "metadata": {},
   "outputs": [
    {
     "data": {
      "text/plain": [
       "8"
      ]
     },
     "execution_count": 312,
     "metadata": {},
     "output_type": "execute_result"
    }
   ],
   "source": [
    "len(df_26[df_26['Imunodepositos_IgG_C3'] == 1])"
   ]
  },
  {
   "cell_type": "code",
   "execution_count": 313,
   "metadata": {},
   "outputs": [
    {
     "data": {
      "text/plain": [
       "7"
      ]
     },
     "execution_count": 313,
     "metadata": {},
     "output_type": "execute_result"
    }
   ],
   "source": [
    "len(df_26[df_26['Imunodepositos_IgM'] == 1])"
   ]
  },
  {
   "cell_type": "code",
   "execution_count": 314,
   "metadata": {},
   "outputs": [
    {
     "data": {
      "text/plain": [
       "5"
      ]
     },
     "execution_count": 314,
     "metadata": {},
     "output_type": "execute_result"
    }
   ],
   "source": [
    "len(df_26[df_26['Imunodepositos_IgM_IgG_C3'] == 1])"
   ]
  },
  {
   "cell_type": "code",
   "execution_count": 315,
   "metadata": {},
   "outputs": [
    {
     "data": {
      "text/plain": [
       "5"
      ]
     },
     "execution_count": 315,
     "metadata": {},
     "output_type": "execute_result"
    }
   ],
   "source": [
    "len(df_26[df_26['Imunodepositos_C3'] == 1])"
   ]
  },
  {
   "cell_type": "code",
   "execution_count": 316,
   "metadata": {},
   "outputs": [
    {
     "data": {
      "text/plain": [
       "4"
      ]
     },
     "execution_count": 316,
     "metadata": {},
     "output_type": "execute_result"
    }
   ],
   "source": [
    "len(df_26[df_26['Imunodepositos_IgG'] == 1])"
   ]
  },
  {
   "cell_type": "code",
   "execution_count": 317,
   "metadata": {},
   "outputs": [
    {
     "data": {
      "text/plain": [
       "4"
      ]
     },
     "execution_count": 317,
     "metadata": {},
     "output_type": "execute_result"
    }
   ],
   "source": [
    "len(df_26[df_26['Imunodepositos_IgA_(co-dominante)'] == 1])"
   ]
  },
  {
   "cell_type": "code",
   "execution_count": 318,
   "metadata": {},
   "outputs": [
    {
     "data": {
      "text/plain": [
       "3"
      ]
     },
     "execution_count": 318,
     "metadata": {},
     "output_type": "execute_result"
    }
   ],
   "source": [
    "len(df_26[df_26['Imunodepositos_IgG_C1q_Fibrinogenio'] == 1])"
   ]
  },
  {
   "cell_type": "code",
   "execution_count": 319,
   "metadata": {},
   "outputs": [
    {
     "data": {
      "text/plain": [
       "2"
      ]
     },
     "execution_count": 319,
     "metadata": {},
     "output_type": "execute_result"
    }
   ],
   "source": [
    "len(df_26[df_26['Imunodepositos_IgM_C3_C1q'] == 1])"
   ]
  },
  {
   "cell_type": "code",
   "execution_count": 320,
   "metadata": {},
   "outputs": [
    {
     "data": {
      "text/plain": [
       "2"
      ]
     },
     "execution_count": 320,
     "metadata": {},
     "output_type": "execute_result"
    }
   ],
   "source": [
    "len(df_26[df_26['Imunodepositos_IgM_Lambda_fibrinogenio'] == 1])"
   ]
  },
  {
   "cell_type": "code",
   "execution_count": 321,
   "metadata": {},
   "outputs": [
    {
     "data": {
      "text/plain": [
       "2"
      ]
     },
     "execution_count": 321,
     "metadata": {},
     "output_type": "execute_result"
    }
   ],
   "source": [
    "len(df_26[df_26['Imunodepositos_IgM_IgG_IgA_C3_Kappa_Lambda_fibrinogenio'] == 1])"
   ]
  },
  {
   "cell_type": "code",
   "execution_count": 322,
   "metadata": {},
   "outputs": [
    {
     "data": {
      "text/plain": [
       "2"
      ]
     },
     "execution_count": 322,
     "metadata": {},
     "output_type": "execute_result"
    }
   ],
   "source": [
    "len(df_26[df_26['Imunodepositos_IgM_C3_C1q_lambda_fibrinogenio'] == 1])"
   ]
  },
  {
   "cell_type": "code",
   "execution_count": 323,
   "metadata": {},
   "outputs": [
    {
     "data": {
      "text/plain": [
       "2"
      ]
     },
     "execution_count": 323,
     "metadata": {},
     "output_type": "execute_result"
    }
   ],
   "source": [
    "len(df_26[df_26['Imunodepositos_IgG_Kappa_lambda_fibrinogenio'] == 1])"
   ]
  },
  {
   "cell_type": "code",
   "execution_count": 324,
   "metadata": {},
   "outputs": [
    {
     "data": {
      "text/plain": [
       "1"
      ]
     },
     "execution_count": 324,
     "metadata": {},
     "output_type": "execute_result"
    }
   ],
   "source": [
    "len(df_26[df_26['Imunodepositos_Kappa_Fibrinogenio'] == 1])"
   ]
  },
  {
   "cell_type": "code",
   "execution_count": 325,
   "metadata": {},
   "outputs": [
    {
     "data": {
      "text/plain": [
       "1"
      ]
     },
     "execution_count": 325,
     "metadata": {},
     "output_type": "execute_result"
    }
   ],
   "source": [
    "len(df_26[df_26['Imunodepositos_IgM_C3_fibrinogenio'] == 1])"
   ]
  },
  {
   "cell_type": "code",
   "execution_count": 326,
   "metadata": {},
   "outputs": [
    {
     "data": {
      "text/plain": [
       "1"
      ]
     },
     "execution_count": 326,
     "metadata": {},
     "output_type": "execute_result"
    }
   ],
   "source": [
    "len(df_26[df_26['Imunodepositos_IgM_IgG_IgA_Lambda_Fibrinogenio'] == 1])"
   ]
  },
  {
   "cell_type": "code",
   "execution_count": 327,
   "metadata": {},
   "outputs": [
    {
     "data": {
      "text/plain": [
       "1"
      ]
     },
     "execution_count": 327,
     "metadata": {},
     "output_type": "execute_result"
    }
   ],
   "source": [
    "len(df_26[df_26['Imunodepositos_IgA_(co-dominante)_IgG_kappa_lambda'] == 1])"
   ]
  },
  {
   "cell_type": "code",
   "execution_count": 328,
   "metadata": {},
   "outputs": [
    {
     "data": {
      "text/plain": [
       "1"
      ]
     },
     "execution_count": 328,
     "metadata": {},
     "output_type": "execute_result"
    }
   ],
   "source": [
    "len(df_26[df_26['Imunodepositos_lambda'] == 1])"
   ]
  },
  {
   "cell_type": "code",
   "execution_count": 329,
   "metadata": {},
   "outputs": [
    {
     "data": {
      "text/plain": [
       "1"
      ]
     },
     "execution_count": 329,
     "metadata": {},
     "output_type": "execute_result"
    }
   ],
   "source": [
    "len(df_26[df_26['Imunodepositos_IgM_IgG_IgA_C3_c1q'] == 1])"
   ]
  },
  {
   "cell_type": "code",
   "execution_count": 330,
   "metadata": {},
   "outputs": [
    {
     "data": {
      "text/plain": [
       "1"
      ]
     },
     "execution_count": 330,
     "metadata": {},
     "output_type": "execute_result"
    }
   ],
   "source": [
    "len(df_26[df_26['Imunodepositos_Kappa_lambda'] == 1])"
   ]
  },
  {
   "cell_type": "code",
   "execution_count": 331,
   "metadata": {},
   "outputs": [
    {
     "data": {
      "text/plain": [
       "1"
      ]
     },
     "execution_count": 331,
     "metadata": {},
     "output_type": "execute_result"
    }
   ],
   "source": [
    "len(df_26[df_26['Imunodepositos_IgG_Fibrinogênio'] == 1])"
   ]
  },
  {
   "cell_type": "code",
   "execution_count": 332,
   "metadata": {},
   "outputs": [
    {
     "data": {
      "text/plain": [
       "1"
      ]
     },
     "execution_count": 332,
     "metadata": {},
     "output_type": "execute_result"
    }
   ],
   "source": [
    "len(df_26[df_26['Imunodepositos_IgA_C1q_fibrinogênio'] == 1])"
   ]
  },
  {
   "cell_type": "code",
   "execution_count": 333,
   "metadata": {},
   "outputs": [
    {
     "data": {
      "text/plain": [
       "1"
      ]
     },
     "execution_count": 333,
     "metadata": {},
     "output_type": "execute_result"
    }
   ],
   "source": [
    "len(df_26[df_26['Imunodepositos_IgA_IgM_IgG_C1q'] == 1])"
   ]
  },
  {
   "cell_type": "code",
   "execution_count": 334,
   "metadata": {},
   "outputs": [
    {
     "data": {
      "text/plain": [
       "1"
      ]
     },
     "execution_count": 334,
     "metadata": {},
     "output_type": "execute_result"
    }
   ],
   "source": [
    "len(df_26[df_26['Imunodepositos_IgM_C1q_C3_Lambda'] == 1])"
   ]
  },
  {
   "cell_type": "code",
   "execution_count": 335,
   "metadata": {},
   "outputs": [
    {
     "data": {
      "text/plain": [
       "2"
      ]
     },
     "execution_count": 335,
     "metadata": {},
     "output_type": "execute_result"
    }
   ],
   "source": [
    "len(df_26[df_26['Imunodepositos_IgG_IgA_IgM_C3_Fibrinogenio_kappa_lambda'] == 1])"
   ]
  },
  {
   "cell_type": "code",
   "execution_count": 336,
   "metadata": {},
   "outputs": [
    {
     "data": {
      "text/plain": [
       "1"
      ]
     },
     "execution_count": 336,
     "metadata": {},
     "output_type": "execute_result"
    }
   ],
   "source": [
    "len(df_26[df_26['Imunodepositos_IgM_IgG_Kappa_Lambda_Fibrinogenio'] == 1])"
   ]
  },
  {
   "cell_type": "code",
   "execution_count": 337,
   "metadata": {},
   "outputs": [
    {
     "data": {
      "text/plain": [
       "1"
      ]
     },
     "execution_count": 337,
     "metadata": {},
     "output_type": "execute_result"
    }
   ],
   "source": [
    "len(df_26[df_26['Imunodepositos_nao_realizada'] == 1])"
   ]
  },
  {
   "cell_type": "code",
   "execution_count": 338,
   "metadata": {},
   "outputs": [
    {
     "data": {
      "text/plain": [
       "1"
      ]
     },
     "execution_count": 338,
     "metadata": {},
     "output_type": "execute_result"
    }
   ],
   "source": [
    "len(df_26[df_26['Imunodepositos_IgM_IgG_C1q_kappa_lambda_fibrinogenio'] == 1])"
   ]
  },
  {
   "cell_type": "code",
   "execution_count": 339,
   "metadata": {},
   "outputs": [
    {
     "data": {
      "text/plain": [
       "1"
      ]
     },
     "execution_count": 339,
     "metadata": {},
     "output_type": "execute_result"
    }
   ],
   "source": [
    "len(df_26[df_26['Imunodepositos_IgM_IgG_IgA_C3_Lambda'] == 1])"
   ]
  },
  {
   "cell_type": "code",
   "execution_count": 340,
   "metadata": {},
   "outputs": [
    {
     "data": {
      "text/plain": [
       "1"
      ]
     },
     "execution_count": 340,
     "metadata": {},
     "output_type": "execute_result"
    }
   ],
   "source": [
    "len(df_26[df_26['Imunodepositos_IgM_IgA_C3_C1q_Fibrinogenio_kappa_lambda'] == 1])"
   ]
  },
  {
   "cell_type": "code",
   "execution_count": 341,
   "metadata": {},
   "outputs": [
    {
     "data": {
      "text/plain": [
       "1"
      ]
     },
     "execution_count": 341,
     "metadata": {},
     "output_type": "execute_result"
    }
   ],
   "source": [
    "len(df_26[df_26['Imunodepositos_IgA_IgM_C3_C1q_lambda'] == 1])"
   ]
  },
  {
   "cell_type": "code",
   "execution_count": 342,
   "metadata": {},
   "outputs": [
    {
     "data": {
      "text/plain": [
       "1"
      ]
     },
     "execution_count": 342,
     "metadata": {},
     "output_type": "execute_result"
    }
   ],
   "source": [
    "len(df_26[df_26['Imunodepositos_IgM_IgG_fibrinogenio'] == 1])"
   ]
  },
  {
   "cell_type": "code",
   "execution_count": 343,
   "metadata": {},
   "outputs": [
    {
     "data": {
      "text/plain": [
       "1"
      ]
     },
     "execution_count": 343,
     "metadata": {},
     "output_type": "execute_result"
    }
   ],
   "source": [
    "len(df_26[df_26['Imunodepositos_IgA_(co-dominante)_C3_Kappa_lambda_fibrinogênio'] == 1])"
   ]
  },
  {
   "cell_type": "code",
   "execution_count": 344,
   "metadata": {},
   "outputs": [
    {
     "data": {
      "text/plain": [
       "1"
      ]
     },
     "execution_count": 344,
     "metadata": {},
     "output_type": "execute_result"
    }
   ],
   "source": [
    "len(df_26[df_26['Imunodepositos_IgA_(co-dominante)_Kappa_lambda'] == 1])"
   ]
  },
  {
   "cell_type": "code",
   "execution_count": 345,
   "metadata": {},
   "outputs": [
    {
     "data": {
      "text/plain": [
       "1"
      ]
     },
     "execution_count": 345,
     "metadata": {},
     "output_type": "execute_result"
    }
   ],
   "source": [
    "len(df_26[df_26['Imunodepositos_IgA_IgM_IgG_C3_C1q'] == 1])"
   ]
  },
  {
   "cell_type": "code",
   "execution_count": 346,
   "metadata": {},
   "outputs": [
    {
     "data": {
      "text/plain": [
       "1"
      ]
     },
     "execution_count": 346,
     "metadata": {},
     "output_type": "execute_result"
    }
   ],
   "source": [
    "len(df_26[df_26['Imunodepositos_IgM_C3'] == 1])"
   ]
  },
  {
   "cell_type": "code",
   "execution_count": 347,
   "metadata": {},
   "outputs": [
    {
     "data": {
      "text/plain": [
       "1"
      ]
     },
     "execution_count": 347,
     "metadata": {},
     "output_type": "execute_result"
    }
   ],
   "source": [
    "len(df_26[df_26['Imunodepositos_IgM_IgA_IgG_C3_fibrinogenio'] == 1])"
   ]
  },
  {
   "cell_type": "code",
   "execution_count": 348,
   "metadata": {},
   "outputs": [
    {
     "data": {
      "text/plain": [
       "1"
      ]
     },
     "execution_count": 348,
     "metadata": {},
     "output_type": "execute_result"
    }
   ],
   "source": [
    "len(df_26[df_26['Imunodepositos_IgM_IgG_C3_Lambda_Fibrinogenio'] == 1])"
   ]
  },
  {
   "cell_type": "code",
   "execution_count": 349,
   "metadata": {},
   "outputs": [
    {
     "data": {
      "text/plain": [
       "40"
      ]
     },
     "execution_count": 349,
     "metadata": {},
     "output_type": "execute_result"
    }
   ],
   "source": [
    "len(df_26.columns)"
   ]
  },
  {
   "cell_type": "code",
   "execution_count": 350,
   "metadata": {},
   "outputs": [
    {
     "data": {
      "text/plain": [
       "0"
      ]
     },
     "execution_count": 350,
     "metadata": {},
     "output_type": "execute_result"
    }
   ],
   "source": [
    "# Coluna repetida\n",
    "len(df_26[df_26['Imunodepositos_IgM_IgG_Kappa_Lambda_Fibrinogênio'] == 1])"
   ]
  },
  {
   "cell_type": "code",
   "execution_count": 351,
   "metadata": {},
   "outputs": [],
   "source": [
    "# Removendo a Coluna repetida\n",
    "df_26.drop('Imunodepositos_IgM_IgG_Kappa_Lambda_Fibrinogênio', axis = 1, inplace = True)"
   ]
  },
  {
   "cell_type": "code",
   "execution_count": 352,
   "metadata": {},
   "outputs": [
    {
     "data": {
      "text/plain": [
       "39"
      ]
     },
     "execution_count": 352,
     "metadata": {},
     "output_type": "execute_result"
    }
   ],
   "source": [
    "len(df_26.columns)"
   ]
  },
  {
   "cell_type": "markdown",
   "metadata": {},
   "source": [
    "Imunohistoquímica"
   ]
  },
  {
   "cell_type": "code",
   "execution_count": 353,
   "metadata": {},
   "outputs": [
    {
     "data": {
      "text/html": [
       "<div>\n",
       "<style scoped>\n",
       "    .dataframe tbody tr th:only-of-type {\n",
       "        vertical-align: middle;\n",
       "    }\n",
       "\n",
       "    .dataframe tbody tr th {\n",
       "        vertical-align: top;\n",
       "    }\n",
       "\n",
       "    .dataframe thead th {\n",
       "        text-align: right;\n",
       "    }\n",
       "</style>\n",
       "<table border=\"1\" class=\"dataframe\">\n",
       "  <thead>\n",
       "    <tr style=\"text-align: right;\">\n",
       "      <th></th>\n",
       "      <th>Imunohistoquimica_IgG4_positivo_e_anti-fosfolipase_A2_negativa</th>\n",
       "      <th>Imunohistoquimica_IgG4_positivo_e_anti-fosfolipase_A2_positiva</th>\n",
       "      <th>Imunohistoquimica_nao_realizada</th>\n",
       "      <th>Imunohistoquimica_positivo_para_fibronectina</th>\n",
       "    </tr>\n",
       "  </thead>\n",
       "  <tbody>\n",
       "    <tr>\n",
       "      <th>0</th>\n",
       "      <td>NaN</td>\n",
       "      <td>NaN</td>\n",
       "      <td>NaN</td>\n",
       "      <td>NaN</td>\n",
       "    </tr>\n",
       "    <tr>\n",
       "      <th>1</th>\n",
       "      <td>NaN</td>\n",
       "      <td>NaN</td>\n",
       "      <td>NaN</td>\n",
       "      <td>NaN</td>\n",
       "    </tr>\n",
       "    <tr>\n",
       "      <th>2</th>\n",
       "      <td>NaN</td>\n",
       "      <td>NaN</td>\n",
       "      <td>NaN</td>\n",
       "      <td>NaN</td>\n",
       "    </tr>\n",
       "    <tr>\n",
       "      <th>3</th>\n",
       "      <td>NaN</td>\n",
       "      <td>NaN</td>\n",
       "      <td>NaN</td>\n",
       "      <td>NaN</td>\n",
       "    </tr>\n",
       "    <tr>\n",
       "      <th>4</th>\n",
       "      <td>NaN</td>\n",
       "      <td>NaN</td>\n",
       "      <td>NaN</td>\n",
       "      <td>NaN</td>\n",
       "    </tr>\n",
       "  </tbody>\n",
       "</table>\n",
       "</div>"
      ],
      "text/plain": [
       "  Imunohistoquimica_IgG4_positivo_e_anti-fosfolipase_A2_negativa  \\\n",
       "0                                                NaN               \n",
       "1                                                NaN               \n",
       "2                                                NaN               \n",
       "3                                                NaN               \n",
       "4                                                NaN               \n",
       "\n",
       "  Imunohistoquimica_IgG4_positivo_e_anti-fosfolipase_A2_positiva  \\\n",
       "0                                                NaN               \n",
       "1                                                NaN               \n",
       "2                                                NaN               \n",
       "3                                                NaN               \n",
       "4                                                NaN               \n",
       "\n",
       "  Imunohistoquimica_nao_realizada Imunohistoquimica_positivo_para_fibronectina  \n",
       "0                             NaN                                          NaN  \n",
       "1                             NaN                                          NaN  \n",
       "2                             NaN                                          NaN  \n",
       "3                             NaN                                          NaN  \n",
       "4                             NaN                                          NaN  "
      ]
     },
     "execution_count": 353,
     "metadata": {},
     "output_type": "execute_result"
    }
   ],
   "source": [
    "df_27 = pd.DataFrame(index = indices, columns = Imunohistoquimica)\n",
    "df_27.head()"
   ]
  },
  {
   "cell_type": "code",
   "execution_count": 354,
   "metadata": {},
   "outputs": [
    {
     "data": {
      "text/plain": [
       "array(['IgG4 positivo e anti-fosfolipase A2 negativa',\n",
       "       'IgG4 positivo e anti-fosfolipase A2 positiva', 'não realizada',\n",
       "       'positivo para fibronectina'], dtype=object)"
      ]
     },
     "execution_count": 354,
     "metadata": {},
     "output_type": "execute_result"
    }
   ],
   "source": [
    "np.unique(base_01['Imunohistoquímica'])"
   ]
  },
  {
   "cell_type": "code",
   "execution_count": 355,
   "metadata": {},
   "outputs": [
    {
     "data": {
      "text/plain": [
       "Index(['Imunohistoquimica_IgG4_positivo_e_anti-fosfolipase_A2_negativa',\n",
       "       'Imunohistoquimica_IgG4_positivo_e_anti-fosfolipase_A2_positiva',\n",
       "       'Imunohistoquimica_nao_realizada',\n",
       "       'Imunohistoquimica_positivo_para_fibronectina'],\n",
       "      dtype='object')"
      ]
     },
     "execution_count": 355,
     "metadata": {},
     "output_type": "execute_result"
    }
   ],
   "source": [
    "df_27.columns"
   ]
  },
  {
   "cell_type": "code",
   "execution_count": 356,
   "metadata": {},
   "outputs": [],
   "source": [
    "def preencher27(coluna, i):\n",
    "    if coluna[i] == 'IgG4 positivo e anti-fosfolipase A2 negativa':\n",
    "        df_27['Imunohistoquimica_IgG4_positivo_e_anti-fosfolipase_A2_negativa'][i] = 1\n",
    "        df_27['Imunohistoquimica_IgG4_positivo_e_anti-fosfolipase_A2_positiva'][i] = 0\n",
    "        df_27['Imunohistoquimica_nao_realizada'][i]                                = 0\n",
    "        df_27['Imunohistoquimica_positivo_para_fibronectina'][i]                   = 0\n",
    "    elif coluna[i] == 'IgG4 positivo e anti-fosfolipase A2 positiva':\n",
    "        df_27['Imunohistoquimica_IgG4_positivo_e_anti-fosfolipase_A2_negativa'][i] = 0\n",
    "        df_27['Imunohistoquimica_IgG4_positivo_e_anti-fosfolipase_A2_positiva'][i] = 1\n",
    "        df_27['Imunohistoquimica_nao_realizada'][i]                                = 0\n",
    "        df_27['Imunohistoquimica_positivo_para_fibronectina'][i]                   = 0\n",
    "    elif coluna[i] == 'não realizada':\n",
    "        df_27['Imunohistoquimica_IgG4_positivo_e_anti-fosfolipase_A2_negativa'][i] = 0\n",
    "        df_27['Imunohistoquimica_IgG4_positivo_e_anti-fosfolipase_A2_positiva'][i] = 0\n",
    "        df_27['Imunohistoquimica_nao_realizada'][i]                                = 1\n",
    "        df_27['Imunohistoquimica_positivo_para_fibronectina'][i]                   = 0\n",
    "    else :\n",
    "        df_27['Imunohistoquimica_IgG4_positivo_e_anti-fosfolipase_A2_negativa'][i] = 0\n",
    "        df_27['Imunohistoquimica_IgG4_positivo_e_anti-fosfolipase_A2_positiva'][i] = 0\n",
    "        df_27['Imunohistoquimica_nao_realizada'][i]                                = 0\n",
    "        df_27['Imunohistoquimica_positivo_para_fibronectina'][i]                   = 1"
   ]
  },
  {
   "cell_type": "code",
   "execution_count": 357,
   "metadata": {},
   "outputs": [
    {
     "data": {
      "text/html": [
       "<div>\n",
       "<style scoped>\n",
       "    .dataframe tbody tr th:only-of-type {\n",
       "        vertical-align: middle;\n",
       "    }\n",
       "\n",
       "    .dataframe tbody tr th {\n",
       "        vertical-align: top;\n",
       "    }\n",
       "\n",
       "    .dataframe thead th {\n",
       "        text-align: right;\n",
       "    }\n",
       "</style>\n",
       "<table border=\"1\" class=\"dataframe\">\n",
       "  <thead>\n",
       "    <tr style=\"text-align: right;\">\n",
       "      <th></th>\n",
       "      <th>Imunohistoquimica_IgG4_positivo_e_anti-fosfolipase_A2_negativa</th>\n",
       "      <th>Imunohistoquimica_IgG4_positivo_e_anti-fosfolipase_A2_positiva</th>\n",
       "      <th>Imunohistoquimica_nao_realizada</th>\n",
       "      <th>Imunohistoquimica_positivo_para_fibronectina</th>\n",
       "    </tr>\n",
       "  </thead>\n",
       "  <tbody>\n",
       "    <tr>\n",
       "      <th>0</th>\n",
       "      <td>0</td>\n",
       "      <td>0</td>\n",
       "      <td>1</td>\n",
       "      <td>0</td>\n",
       "    </tr>\n",
       "    <tr>\n",
       "      <th>1</th>\n",
       "      <td>0</td>\n",
       "      <td>0</td>\n",
       "      <td>1</td>\n",
       "      <td>0</td>\n",
       "    </tr>\n",
       "    <tr>\n",
       "      <th>2</th>\n",
       "      <td>0</td>\n",
       "      <td>0</td>\n",
       "      <td>1</td>\n",
       "      <td>0</td>\n",
       "    </tr>\n",
       "    <tr>\n",
       "      <th>3</th>\n",
       "      <td>0</td>\n",
       "      <td>1</td>\n",
       "      <td>0</td>\n",
       "      <td>0</td>\n",
       "    </tr>\n",
       "    <tr>\n",
       "      <th>4</th>\n",
       "      <td>0</td>\n",
       "      <td>1</td>\n",
       "      <td>0</td>\n",
       "      <td>0</td>\n",
       "    </tr>\n",
       "  </tbody>\n",
       "</table>\n",
       "</div>"
      ],
      "text/plain": [
       "  Imunohistoquimica_IgG4_positivo_e_anti-fosfolipase_A2_negativa  \\\n",
       "0                                                  0               \n",
       "1                                                  0               \n",
       "2                                                  0               \n",
       "3                                                  0               \n",
       "4                                                  0               \n",
       "\n",
       "  Imunohistoquimica_IgG4_positivo_e_anti-fosfolipase_A2_positiva  \\\n",
       "0                                                  0               \n",
       "1                                                  0               \n",
       "2                                                  0               \n",
       "3                                                  1               \n",
       "4                                                  1               \n",
       "\n",
       "  Imunohistoquimica_nao_realizada Imunohistoquimica_positivo_para_fibronectina  \n",
       "0                               1                                            0  \n",
       "1                               1                                            0  \n",
       "2                               1                                            0  \n",
       "3                               0                                            0  \n",
       "4                               0                                            0  "
      ]
     },
     "execution_count": 357,
     "metadata": {},
     "output_type": "execute_result"
    }
   ],
   "source": [
    "contador = 0\n",
    "while contador < 100:\n",
    "    preencher27(base_01['Imunohistoquímica'], contador)\n",
    "    contador += 1\n",
    "\n",
    "df_27.head()"
   ]
  },
  {
   "cell_type": "code",
   "execution_count": 358,
   "metadata": {},
   "outputs": [
    {
     "data": {
      "text/plain": [
       "não realizada                                   89\n",
       "IgG4 positivo e anti-fosfolipase A2 positiva     5\n",
       "IgG4 positivo e anti-fosfolipase A2 negativa     5\n",
       "positivo para fibronectina                       1\n",
       "Name: Imunohistoquímica, dtype: int64"
      ]
     },
     "execution_count": 358,
     "metadata": {},
     "output_type": "execute_result"
    }
   ],
   "source": [
    "base_01['Imunohistoquímica'].value_counts()"
   ]
  },
  {
   "cell_type": "code",
   "execution_count": 359,
   "metadata": {},
   "outputs": [
    {
     "data": {
      "text/plain": [
       "89"
      ]
     },
     "execution_count": 359,
     "metadata": {},
     "output_type": "execute_result"
    }
   ],
   "source": [
    "len(df_27[df_27['Imunohistoquimica_nao_realizada'] == 1])"
   ]
  },
  {
   "cell_type": "code",
   "execution_count": 360,
   "metadata": {},
   "outputs": [
    {
     "data": {
      "text/plain": [
       "5"
      ]
     },
     "execution_count": 360,
     "metadata": {},
     "output_type": "execute_result"
    }
   ],
   "source": [
    "len(df_27[df_27['Imunohistoquimica_IgG4_positivo_e_anti-fosfolipase_A2_positiva'] == 1])"
   ]
  },
  {
   "cell_type": "code",
   "execution_count": 361,
   "metadata": {},
   "outputs": [
    {
     "data": {
      "text/plain": [
       "5"
      ]
     },
     "execution_count": 361,
     "metadata": {},
     "output_type": "execute_result"
    }
   ],
   "source": [
    "len(df_27[df_27['Imunohistoquimica_IgG4_positivo_e_anti-fosfolipase_A2_negativa'] == 1])"
   ]
  },
  {
   "cell_type": "code",
   "execution_count": 362,
   "metadata": {},
   "outputs": [
    {
     "data": {
      "text/plain": [
       "1"
      ]
     },
     "execution_count": 362,
     "metadata": {},
     "output_type": "execute_result"
    }
   ],
   "source": [
    "len(df_27[df_27['Imunohistoquimica_positivo_para_fibronectina'] == 1])"
   ]
  },
  {
   "cell_type": "markdown",
   "metadata": {},
   "source": [
    "Microscopia Eletrônica"
   ]
  },
  {
   "cell_type": "code",
   "execution_count": 363,
   "metadata": {},
   "outputs": [
    {
     "data": {
      "text/html": [
       "<div>\n",
       "<style scoped>\n",
       "    .dataframe tbody tr th:only-of-type {\n",
       "        vertical-align: middle;\n",
       "    }\n",
       "\n",
       "    .dataframe tbody tr th {\n",
       "        vertical-align: top;\n",
       "    }\n",
       "\n",
       "    .dataframe thead th {\n",
       "        text-align: right;\n",
       "    }\n",
       "</style>\n",
       "<table border=\"1\" class=\"dataframe\">\n",
       "  <thead>\n",
       "    <tr style=\"text-align: right;\">\n",
       "      <th></th>\n",
       "      <th>Microscopia_eletronica_Compativel_com_padrao_membranoproliferativo</th>\n",
       "      <th>Microscopia_eletronica_alargamento_de_pedicelos_ou_aproximacao_deles_mas_alguns_preservados</th>\n",
       "      <th>Microscopia_eletronica_apagamento_de_processo_podocitario_espessamento_da_membrana_basal_glomerular</th>\n",
       "      <th>Microscopia_eletronica_apagamento_dos_processos_podocitarios</th>\n",
       "      <th>Microscopia_eletronica_apagamento_dos_processos_podocitarios_(pedicelos)</th>\n",
       "      <th>Microscopia_eletronica_apagamento_dos_processos_podocitários_(pedicelos)_e_depositos_eletron-densos_subepiteliais</th>\n",
       "      <th>Microscopia_eletronica_depositos_eletron-densos_em_regiao_paramesangial_e_mesangial</th>\n",
       "      <th>Microscopia_eletronica_depositos_eletron-densos_largos_(humps)_apagamento_de_processo_podocitários</th>\n",
       "      <th>Microscopia_eletronica_depositos_eletron-densos_subendoteliais</th>\n",
       "      <th>Microscopia_eletronica_depositos_eletron-densos_subepiteliais_e_subendoteliais</th>\n",
       "      <th>Microscopia_eletronica_grandes_depositos_eletron-densos_na_lamina_densa_da_membrana_basal_glomerular</th>\n",
       "      <th>Microscopia_eletronica_irregularidade_da_membrana_basal_glomerular_e_discreta_expansao_mesangial</th>\n",
       "      <th>Microscopia_eletronica_material_eletrodenso_lamelado_em_podocitos</th>\n",
       "      <th>Microscopia_eletronica_material_eletrondenso_lamelado_no_citoplasma_de_podocitos</th>\n",
       "      <th>Microscopia_eletronica_membrana_basal_glomerular_fina</th>\n",
       "      <th>Microscopia_eletronica_normal</th>\n",
       "      <th>Microscopia_eletronica_nao_realizada</th>\n",
       "    </tr>\n",
       "  </thead>\n",
       "  <tbody>\n",
       "    <tr>\n",
       "      <th>0</th>\n",
       "      <td>NaN</td>\n",
       "      <td>NaN</td>\n",
       "      <td>NaN</td>\n",
       "      <td>NaN</td>\n",
       "      <td>NaN</td>\n",
       "      <td>NaN</td>\n",
       "      <td>NaN</td>\n",
       "      <td>NaN</td>\n",
       "      <td>NaN</td>\n",
       "      <td>NaN</td>\n",
       "      <td>NaN</td>\n",
       "      <td>NaN</td>\n",
       "      <td>NaN</td>\n",
       "      <td>NaN</td>\n",
       "      <td>NaN</td>\n",
       "      <td>NaN</td>\n",
       "      <td>NaN</td>\n",
       "    </tr>\n",
       "    <tr>\n",
       "      <th>1</th>\n",
       "      <td>NaN</td>\n",
       "      <td>NaN</td>\n",
       "      <td>NaN</td>\n",
       "      <td>NaN</td>\n",
       "      <td>NaN</td>\n",
       "      <td>NaN</td>\n",
       "      <td>NaN</td>\n",
       "      <td>NaN</td>\n",
       "      <td>NaN</td>\n",
       "      <td>NaN</td>\n",
       "      <td>NaN</td>\n",
       "      <td>NaN</td>\n",
       "      <td>NaN</td>\n",
       "      <td>NaN</td>\n",
       "      <td>NaN</td>\n",
       "      <td>NaN</td>\n",
       "      <td>NaN</td>\n",
       "    </tr>\n",
       "    <tr>\n",
       "      <th>2</th>\n",
       "      <td>NaN</td>\n",
       "      <td>NaN</td>\n",
       "      <td>NaN</td>\n",
       "      <td>NaN</td>\n",
       "      <td>NaN</td>\n",
       "      <td>NaN</td>\n",
       "      <td>NaN</td>\n",
       "      <td>NaN</td>\n",
       "      <td>NaN</td>\n",
       "      <td>NaN</td>\n",
       "      <td>NaN</td>\n",
       "      <td>NaN</td>\n",
       "      <td>NaN</td>\n",
       "      <td>NaN</td>\n",
       "      <td>NaN</td>\n",
       "      <td>NaN</td>\n",
       "      <td>NaN</td>\n",
       "    </tr>\n",
       "    <tr>\n",
       "      <th>3</th>\n",
       "      <td>NaN</td>\n",
       "      <td>NaN</td>\n",
       "      <td>NaN</td>\n",
       "      <td>NaN</td>\n",
       "      <td>NaN</td>\n",
       "      <td>NaN</td>\n",
       "      <td>NaN</td>\n",
       "      <td>NaN</td>\n",
       "      <td>NaN</td>\n",
       "      <td>NaN</td>\n",
       "      <td>NaN</td>\n",
       "      <td>NaN</td>\n",
       "      <td>NaN</td>\n",
       "      <td>NaN</td>\n",
       "      <td>NaN</td>\n",
       "      <td>NaN</td>\n",
       "      <td>NaN</td>\n",
       "    </tr>\n",
       "    <tr>\n",
       "      <th>4</th>\n",
       "      <td>NaN</td>\n",
       "      <td>NaN</td>\n",
       "      <td>NaN</td>\n",
       "      <td>NaN</td>\n",
       "      <td>NaN</td>\n",
       "      <td>NaN</td>\n",
       "      <td>NaN</td>\n",
       "      <td>NaN</td>\n",
       "      <td>NaN</td>\n",
       "      <td>NaN</td>\n",
       "      <td>NaN</td>\n",
       "      <td>NaN</td>\n",
       "      <td>NaN</td>\n",
       "      <td>NaN</td>\n",
       "      <td>NaN</td>\n",
       "      <td>NaN</td>\n",
       "      <td>NaN</td>\n",
       "    </tr>\n",
       "  </tbody>\n",
       "</table>\n",
       "</div>"
      ],
      "text/plain": [
       "  Microscopia_eletronica_Compativel_com_padrao_membranoproliferativo  \\\n",
       "0                                                NaN                   \n",
       "1                                                NaN                   \n",
       "2                                                NaN                   \n",
       "3                                                NaN                   \n",
       "4                                                NaN                   \n",
       "\n",
       "  Microscopia_eletronica_alargamento_de_pedicelos_ou_aproximacao_deles_mas_alguns_preservados  \\\n",
       "0                                                NaN                                            \n",
       "1                                                NaN                                            \n",
       "2                                                NaN                                            \n",
       "3                                                NaN                                            \n",
       "4                                                NaN                                            \n",
       "\n",
       "  Microscopia_eletronica_apagamento_de_processo_podocitario_espessamento_da_membrana_basal_glomerular  \\\n",
       "0                                                NaN                                                    \n",
       "1                                                NaN                                                    \n",
       "2                                                NaN                                                    \n",
       "3                                                NaN                                                    \n",
       "4                                                NaN                                                    \n",
       "\n",
       "  Microscopia_eletronica_apagamento_dos_processos_podocitarios  \\\n",
       "0                                                NaN             \n",
       "1                                                NaN             \n",
       "2                                                NaN             \n",
       "3                                                NaN             \n",
       "4                                                NaN             \n",
       "\n",
       "  Microscopia_eletronica_apagamento_dos_processos_podocitarios_(pedicelos)  \\\n",
       "0                                                NaN                         \n",
       "1                                                NaN                         \n",
       "2                                                NaN                         \n",
       "3                                                NaN                         \n",
       "4                                                NaN                         \n",
       "\n",
       "  Microscopia_eletronica_apagamento_dos_processos_podocitários_(pedicelos)_e_depositos_eletron-densos_subepiteliais  \\\n",
       "0                                                NaN                                                                  \n",
       "1                                                NaN                                                                  \n",
       "2                                                NaN                                                                  \n",
       "3                                                NaN                                                                  \n",
       "4                                                NaN                                                                  \n",
       "\n",
       "  Microscopia_eletronica_depositos_eletron-densos_em_regiao_paramesangial_e_mesangial  \\\n",
       "0                                                NaN                                    \n",
       "1                                                NaN                                    \n",
       "2                                                NaN                                    \n",
       "3                                                NaN                                    \n",
       "4                                                NaN                                    \n",
       "\n",
       "  Microscopia_eletronica_depositos_eletron-densos_largos_(humps)_apagamento_de_processo_podocitários  \\\n",
       "0                                                NaN                                                   \n",
       "1                                                NaN                                                   \n",
       "2                                                NaN                                                   \n",
       "3                                                NaN                                                   \n",
       "4                                                NaN                                                   \n",
       "\n",
       "  Microscopia_eletronica_depositos_eletron-densos_subendoteliais  \\\n",
       "0                                                NaN               \n",
       "1                                                NaN               \n",
       "2                                                NaN               \n",
       "3                                                NaN               \n",
       "4                                                NaN               \n",
       "\n",
       "  Microscopia_eletronica_depositos_eletron-densos_subepiteliais_e_subendoteliais  \\\n",
       "0                                                NaN                               \n",
       "1                                                NaN                               \n",
       "2                                                NaN                               \n",
       "3                                                NaN                               \n",
       "4                                                NaN                               \n",
       "\n",
       "  Microscopia_eletronica_grandes_depositos_eletron-densos_na_lamina_densa_da_membrana_basal_glomerular  \\\n",
       "0                                                NaN                                                     \n",
       "1                                                NaN                                                     \n",
       "2                                                NaN                                                     \n",
       "3                                                NaN                                                     \n",
       "4                                                NaN                                                     \n",
       "\n",
       "  Microscopia_eletronica_irregularidade_da_membrana_basal_glomerular_e_discreta_expansao_mesangial  \\\n",
       "0                                                NaN                                                 \n",
       "1                                                NaN                                                 \n",
       "2                                                NaN                                                 \n",
       "3                                                NaN                                                 \n",
       "4                                                NaN                                                 \n",
       "\n",
       "  Microscopia_eletronica_material_eletrodenso_lamelado_em_podocitos  \\\n",
       "0                                                NaN                  \n",
       "1                                                NaN                  \n",
       "2                                                NaN                  \n",
       "3                                                NaN                  \n",
       "4                                                NaN                  \n",
       "\n",
       "  Microscopia_eletronica_material_eletrondenso_lamelado_no_citoplasma_de_podocitos  \\\n",
       "0                                                NaN                                 \n",
       "1                                                NaN                                 \n",
       "2                                                NaN                                 \n",
       "3                                                NaN                                 \n",
       "4                                                NaN                                 \n",
       "\n",
       "  Microscopia_eletronica_membrana_basal_glomerular_fina  \\\n",
       "0                                                NaN      \n",
       "1                                                NaN      \n",
       "2                                                NaN      \n",
       "3                                                NaN      \n",
       "4                                                NaN      \n",
       "\n",
       "  Microscopia_eletronica_normal Microscopia_eletronica_nao_realizada  \n",
       "0                           NaN                                  NaN  \n",
       "1                           NaN                                  NaN  \n",
       "2                           NaN                                  NaN  \n",
       "3                           NaN                                  NaN  \n",
       "4                           NaN                                  NaN  "
      ]
     },
     "execution_count": 363,
     "metadata": {},
     "output_type": "execute_result"
    }
   ],
   "source": [
    "df_28 = pd.DataFrame(index = indices, columns = Microscopia_eletronica)\n",
    "df_28.head()"
   ]
  },
  {
   "cell_type": "code",
   "execution_count": 364,
   "metadata": {},
   "outputs": [
    {
     "data": {
      "text/plain": [
       "array(['Compatível com padrão membranoproliferativo',\n",
       "       'alargamento de pedicelos ou aproximação deles mas alguns preservados',\n",
       "       'apagamento de processo podocitário espessamento da membrana basal glomerular',\n",
       "       'apagamento dos processos podocitários',\n",
       "       'apagamento dos processos podocitários (pedicelos)',\n",
       "       'apagamento dos processos podocitários (pedicelos) e depósitos elétron-densos subepiteliais',\n",
       "       'depósitos elétron-densos em região paramesangial e mesangial',\n",
       "       'depósitos elétron-densos largos (humps) apagamento de processo podocitários',\n",
       "       'depósitos elétron-densos subendoteliais',\n",
       "       'depósitos elétron-densos subepiteliais e subendoteliais',\n",
       "       'grandes depósitos elétron-densos na lâmina densa da membrana basal glomerular',\n",
       "       'irregularidade da membrana basal glomerular e discreta expansão mesangial',\n",
       "       'material eletrodenso lamelado em podócitos',\n",
       "       'material eletrondenso lamelado no citoplasma de podócitos',\n",
       "       'membrana basal glomerular fina', 'normal', 'não realizada'],\n",
       "      dtype=object)"
      ]
     },
     "execution_count": 364,
     "metadata": {},
     "output_type": "execute_result"
    }
   ],
   "source": [
    "np.unique(base_01['Microscopia eletrônica'])"
   ]
  },
  {
   "cell_type": "code",
   "execution_count": 365,
   "metadata": {},
   "outputs": [
    {
     "data": {
      "text/plain": [
       "Index(['Microscopia_eletronica_Compativel_com_padrao_membranoproliferativo',\n",
       "       'Microscopia_eletronica_alargamento_de_pedicelos_ou_aproximacao_deles_mas_alguns_preservados',\n",
       "       'Microscopia_eletronica_apagamento_de_processo_podocitario_espessamento_da_membrana_basal_glomerular',\n",
       "       'Microscopia_eletronica_apagamento_dos_processos_podocitarios',\n",
       "       'Microscopia_eletronica_apagamento_dos_processos_podocitarios_(pedicelos)',\n",
       "       'Microscopia_eletronica_apagamento_dos_processos_podocitários_(pedicelos)_e_depositos_eletron-densos_subepiteliais',\n",
       "       'Microscopia_eletronica_depositos_eletron-densos_em_regiao_paramesangial_e_mesangial',\n",
       "       'Microscopia_eletronica_depositos_eletron-densos_largos_(humps)_apagamento_de_processo_podocitários',\n",
       "       'Microscopia_eletronica_depositos_eletron-densos_subendoteliais',\n",
       "       'Microscopia_eletronica_depositos_eletron-densos_subepiteliais_e_subendoteliais',\n",
       "       'Microscopia_eletronica_grandes_depositos_eletron-densos_na_lamina_densa_da_membrana_basal_glomerular',\n",
       "       'Microscopia_eletronica_irregularidade_da_membrana_basal_glomerular_e_discreta_expansao_mesangial',\n",
       "       'Microscopia_eletronica_material_eletrodenso_lamelado_em_podocitos',\n",
       "       'Microscopia_eletronica_material_eletrondenso_lamelado_no_citoplasma_de_podocitos',\n",
       "       'Microscopia_eletronica_membrana_basal_glomerular_fina',\n",
       "       'Microscopia_eletronica_normal',\n",
       "       'Microscopia_eletronica_nao_realizada'],\n",
       "      dtype='object')"
      ]
     },
     "execution_count": 365,
     "metadata": {},
     "output_type": "execute_result"
    }
   ],
   "source": [
    "df_28.columns"
   ]
  },
  {
   "cell_type": "code",
   "execution_count": 366,
   "metadata": {},
   "outputs": [],
   "source": [
    "def preencher28(coluna, i):\n",
    "    if coluna[i] == 'Compatível com padrão membranoproliferativo':\n",
    "        df_28['Microscopia_eletronica_Compativel_com_padrao_membranoproliferativo'][i]                                                = 1\n",
    "        df_28['Microscopia_eletronica_alargamento_de_pedicelos_ou_aproximacao_deles_mas_alguns_preservados'][i]                       = 0\n",
    "        df_28['Microscopia_eletronica_apagamento_de_processo_podocitario_espessamento_da_membrana_basal_glomerular'][i]               = 0\n",
    "        df_28['Microscopia_eletronica_apagamento_dos_processos_podocitarios'][i]                                                      = 0\n",
    "        df_28['Microscopia_eletronica_apagamento_dos_processos_podocitarios_(pedicelos)'][i]                                          = 0\n",
    "        df_28['Microscopia_eletronica_apagamento_dos_processos_podocitários_(pedicelos)_e_depositos_eletron-densos_subepiteliais'][i] = 0\n",
    "        df_28['Microscopia_eletronica_depositos_eletron-densos_em_regiao_paramesangial_e_mesangial'][i]                               = 0\n",
    "        df_28['Microscopia_eletronica_depositos_eletron-densos_largos_(humps)_apagamento_de_processo_podocitários'][i]                = 0\n",
    "        df_28['Microscopia_eletronica_depositos_eletron-densos_subendoteliais'][i]                                                    = 0\n",
    "        df_28['Microscopia_eletronica_depositos_eletron-densos_subepiteliais_e_subendoteliais'][i]                                    = 0\n",
    "        df_28['Microscopia_eletronica_grandes_depositos_eletron-densos_na_lamina_densa_da_membrana_basal_glomerular'][i]              = 0\n",
    "        df_28['Microscopia_eletronica_irregularidade_da_membrana_basal_glomerular_e_discreta_expansao_mesangial'][i]                  = 0\n",
    "        df_28['Microscopia_eletronica_material_eletrodenso_lamelado_em_podocitos'][i]                                                 = 0\n",
    "        df_28['Microscopia_eletronica_material_eletrondenso_lamelado_no_citoplasma_de_podocitos'][i]                                  = 0\n",
    "        df_28['Microscopia_eletronica_membrana_basal_glomerular_fina'][i]                                                             = 0\n",
    "        df_28['Microscopia_eletronica_normal'][i]                                                                                     = 0\n",
    "        df_28['Microscopia_eletronica_nao_realizada'][i]                                                                              = 0\n",
    "    elif coluna[i] == 'alargamento de pedicelos ou aproximação deles mas alguns preservados':\n",
    "        df_28['Microscopia_eletronica_Compativel_com_padrao_membranoproliferativo'][i]                                                = 0\n",
    "        df_28['Microscopia_eletronica_alargamento_de_pedicelos_ou_aproximacao_deles_mas_alguns_preservados'][i]                       = 1\n",
    "        df_28['Microscopia_eletronica_apagamento_de_processo_podocitario_espessamento_da_membrana_basal_glomerular'][i]               = 0\n",
    "        df_28['Microscopia_eletronica_apagamento_dos_processos_podocitarios'][i]                                                      = 0\n",
    "        df_28['Microscopia_eletronica_apagamento_dos_processos_podocitarios_(pedicelos)'][i]                                          = 0\n",
    "        df_28['Microscopia_eletronica_apagamento_dos_processos_podocitários_(pedicelos)_e_depositos_eletron-densos_subepiteliais'][i] = 0\n",
    "        df_28['Microscopia_eletronica_depositos_eletron-densos_em_regiao_paramesangial_e_mesangial'][i]                               = 0\n",
    "        df_28['Microscopia_eletronica_depositos_eletron-densos_largos_(humps)_apagamento_de_processo_podocitários'][i]                = 0\n",
    "        df_28['Microscopia_eletronica_depositos_eletron-densos_subendoteliais'][i]                                                    = 0\n",
    "        df_28['Microscopia_eletronica_depositos_eletron-densos_subepiteliais_e_subendoteliais'][i]                                    = 0\n",
    "        df_28['Microscopia_eletronica_grandes_depositos_eletron-densos_na_lamina_densa_da_membrana_basal_glomerular'][i]              = 0\n",
    "        df_28['Microscopia_eletronica_irregularidade_da_membrana_basal_glomerular_e_discreta_expansao_mesangial'][i]                  = 0\n",
    "        df_28['Microscopia_eletronica_material_eletrodenso_lamelado_em_podocitos'][i]                                                 = 0\n",
    "        df_28['Microscopia_eletronica_material_eletrondenso_lamelado_no_citoplasma_de_podocitos'][i]                                  = 0\n",
    "        df_28['Microscopia_eletronica_membrana_basal_glomerular_fina'][i]                                                             = 0\n",
    "        df_28['Microscopia_eletronica_normal'][i]                                                                                     = 0\n",
    "        df_28['Microscopia_eletronica_nao_realizada'][i]                                                                              = 0\n",
    "    elif coluna[i] == 'apagamento de processo podocitário espessamento da membrana basal glomerular':\n",
    "        df_28['Microscopia_eletronica_Compativel_com_padrao_membranoproliferativo'][i]                                                = 0\n",
    "        df_28['Microscopia_eletronica_alargamento_de_pedicelos_ou_aproximacao_deles_mas_alguns_preservados'][i]                       = 0\n",
    "        df_28['Microscopia_eletronica_apagamento_de_processo_podocitario_espessamento_da_membrana_basal_glomerular'][i]               = 1\n",
    "        df_28['Microscopia_eletronica_apagamento_dos_processos_podocitarios'][i]                                                      = 0\n",
    "        df_28['Microscopia_eletronica_apagamento_dos_processos_podocitarios_(pedicelos)'][i]                                          = 0\n",
    "        df_28['Microscopia_eletronica_apagamento_dos_processos_podocitários_(pedicelos)_e_depositos_eletron-densos_subepiteliais'][i] = 0\n",
    "        df_28['Microscopia_eletronica_depositos_eletron-densos_em_regiao_paramesangial_e_mesangial'][i]                               = 0\n",
    "        df_28['Microscopia_eletronica_depositos_eletron-densos_largos_(humps)_apagamento_de_processo_podocitários'][i]                = 0\n",
    "        df_28['Microscopia_eletronica_depositos_eletron-densos_subendoteliais'][i]                                                    = 0\n",
    "        df_28['Microscopia_eletronica_depositos_eletron-densos_subepiteliais_e_subendoteliais'][i]                                    = 0\n",
    "        df_28['Microscopia_eletronica_grandes_depositos_eletron-densos_na_lamina_densa_da_membrana_basal_glomerular'][i]              = 0\n",
    "        df_28['Microscopia_eletronica_irregularidade_da_membrana_basal_glomerular_e_discreta_expansao_mesangial'][i]                  = 0\n",
    "        df_28['Microscopia_eletronica_material_eletrodenso_lamelado_em_podocitos'][i]                                                 = 0\n",
    "        df_28['Microscopia_eletronica_material_eletrondenso_lamelado_no_citoplasma_de_podocitos'][i]                                  = 0\n",
    "        df_28['Microscopia_eletronica_membrana_basal_glomerular_fina'][i]                                                             = 0\n",
    "        df_28['Microscopia_eletronica_normal'][i]                                                                                     = 0\n",
    "        df_28['Microscopia_eletronica_nao_realizada'][i]                                                                              = 0\n",
    "    elif coluna[i] == 'apagamento dos processos podocitários':\n",
    "        df_28['Microscopia_eletronica_Compativel_com_padrao_membranoproliferativo'][i]                                                = 0\n",
    "        df_28['Microscopia_eletronica_alargamento_de_pedicelos_ou_aproximacao_deles_mas_alguns_preservados'][i]                       = 0\n",
    "        df_28['Microscopia_eletronica_apagamento_de_processo_podocitario_espessamento_da_membrana_basal_glomerular'][i]               = 0\n",
    "        df_28['Microscopia_eletronica_apagamento_dos_processos_podocitarios'][i]                                                      = 1\n",
    "        df_28['Microscopia_eletronica_apagamento_dos_processos_podocitarios_(pedicelos)'][i]                                          = 0\n",
    "        df_28['Microscopia_eletronica_apagamento_dos_processos_podocitários_(pedicelos)_e_depositos_eletron-densos_subepiteliais'][i] = 0\n",
    "        df_28['Microscopia_eletronica_depositos_eletron-densos_em_regiao_paramesangial_e_mesangial'][i]                               = 0\n",
    "        df_28['Microscopia_eletronica_depositos_eletron-densos_largos_(humps)_apagamento_de_processo_podocitários'][i]                = 0\n",
    "        df_28['Microscopia_eletronica_depositos_eletron-densos_subendoteliais'][i]                                                    = 0\n",
    "        df_28['Microscopia_eletronica_depositos_eletron-densos_subepiteliais_e_subendoteliais'][i]                                    = 0\n",
    "        df_28['Microscopia_eletronica_grandes_depositos_eletron-densos_na_lamina_densa_da_membrana_basal_glomerular'][i]              = 0\n",
    "        df_28['Microscopia_eletronica_irregularidade_da_membrana_basal_glomerular_e_discreta_expansao_mesangial'][i]                  = 0\n",
    "        df_28['Microscopia_eletronica_material_eletrodenso_lamelado_em_podocitos'][i]                                                 = 0\n",
    "        df_28['Microscopia_eletronica_material_eletrondenso_lamelado_no_citoplasma_de_podocitos'][i]                                  = 0\n",
    "        df_28['Microscopia_eletronica_membrana_basal_glomerular_fina'][i]                                                             = 0\n",
    "        df_28['Microscopia_eletronica_normal'][i]                                                                                     = 0\n",
    "        df_28['Microscopia_eletronica_nao_realizada'][i]                                                                              = 0\n",
    "    elif coluna[i] == 'apagamento dos processos podocitários (pedicelos)':\n",
    "        df_28['Microscopia_eletronica_Compativel_com_padrao_membranoproliferativo'][i]                                                = 0\n",
    "        df_28['Microscopia_eletronica_alargamento_de_pedicelos_ou_aproximacao_deles_mas_alguns_preservados'][i]                       = 0\n",
    "        df_28['Microscopia_eletronica_apagamento_de_processo_podocitario_espessamento_da_membrana_basal_glomerular'][i]               = 0\n",
    "        df_28['Microscopia_eletronica_apagamento_dos_processos_podocitarios'][i]                                                      = 0\n",
    "        df_28['Microscopia_eletronica_apagamento_dos_processos_podocitarios_(pedicelos)'][i]                                          = 1\n",
    "        df_28['Microscopia_eletronica_apagamento_dos_processos_podocitários_(pedicelos)_e_depositos_eletron-densos_subepiteliais'][i] = 0\n",
    "        df_28['Microscopia_eletronica_depositos_eletron-densos_em_regiao_paramesangial_e_mesangial'][i]                               = 0\n",
    "        df_28['Microscopia_eletronica_depositos_eletron-densos_largos_(humps)_apagamento_de_processo_podocitários'][i]                = 0\n",
    "        df_28['Microscopia_eletronica_depositos_eletron-densos_subendoteliais'][i]                                                    = 0\n",
    "        df_28['Microscopia_eletronica_depositos_eletron-densos_subepiteliais_e_subendoteliais'][i]                                    = 0\n",
    "        df_28['Microscopia_eletronica_grandes_depositos_eletron-densos_na_lamina_densa_da_membrana_basal_glomerular'][i]              = 0\n",
    "        df_28['Microscopia_eletronica_irregularidade_da_membrana_basal_glomerular_e_discreta_expansao_mesangial'][i]                  = 0\n",
    "        df_28['Microscopia_eletronica_material_eletrodenso_lamelado_em_podocitos'][i]                                                 = 0\n",
    "        df_28['Microscopia_eletronica_material_eletrondenso_lamelado_no_citoplasma_de_podocitos'][i]                                  = 0\n",
    "        df_28['Microscopia_eletronica_membrana_basal_glomerular_fina'][i]                                                             = 0\n",
    "        df_28['Microscopia_eletronica_normal'][i]                                                                                     = 0\n",
    "        df_28['Microscopia_eletronica_nao_realizada'][i]                                                                              = 0\n",
    "    elif coluna[i] == 'apagamento dos processos podocitários (pedicelos) e depósitos elétron-densos subepiteliais':\n",
    "        df_28['Microscopia_eletronica_Compativel_com_padrao_membranoproliferativo'][i]                                                = 0\n",
    "        df_28['Microscopia_eletronica_alargamento_de_pedicelos_ou_aproximacao_deles_mas_alguns_preservados'][i]                       = 0\n",
    "        df_28['Microscopia_eletronica_apagamento_de_processo_podocitario_espessamento_da_membrana_basal_glomerular'][i]               = 0\n",
    "        df_28['Microscopia_eletronica_apagamento_dos_processos_podocitarios'][i]                                                      = 0\n",
    "        df_28['Microscopia_eletronica_apagamento_dos_processos_podocitarios_(pedicelos)'][i]                                          = 0\n",
    "        df_28['Microscopia_eletronica_apagamento_dos_processos_podocitários_(pedicelos)_e_depositos_eletron-densos_subepiteliais'][i] = 1\n",
    "        df_28['Microscopia_eletronica_depositos_eletron-densos_em_regiao_paramesangial_e_mesangial'][i]                               = 0\n",
    "        df_28['Microscopia_eletronica_depositos_eletron-densos_largos_(humps)_apagamento_de_processo_podocitários'][i]                = 0\n",
    "        df_28['Microscopia_eletronica_depositos_eletron-densos_subendoteliais'][i]                                                    = 0\n",
    "        df_28['Microscopia_eletronica_depositos_eletron-densos_subepiteliais_e_subendoteliais'][i]                                    = 0\n",
    "        df_28['Microscopia_eletronica_grandes_depositos_eletron-densos_na_lamina_densa_da_membrana_basal_glomerular'][i]              = 0\n",
    "        df_28['Microscopia_eletronica_irregularidade_da_membrana_basal_glomerular_e_discreta_expansao_mesangial'][i]                  = 0\n",
    "        df_28['Microscopia_eletronica_material_eletrodenso_lamelado_em_podocitos'][i]                                                 = 0\n",
    "        df_28['Microscopia_eletronica_material_eletrondenso_lamelado_no_citoplasma_de_podocitos'][i]                                  = 0\n",
    "        df_28['Microscopia_eletronica_membrana_basal_glomerular_fina'][i]                                                             = 0\n",
    "        df_28['Microscopia_eletronica_normal'][i]                                                                                     = 0\n",
    "        df_28['Microscopia_eletronica_nao_realizada'][i]                                                                              = 0\n",
    "    elif coluna[i] == 'depósitos elétron-densos em região paramesangial e mesangial':\n",
    "        df_28['Microscopia_eletronica_Compativel_com_padrao_membranoproliferativo'][i]                                                = 0\n",
    "        df_28['Microscopia_eletronica_alargamento_de_pedicelos_ou_aproximacao_deles_mas_alguns_preservados'][i]                       = 0\n",
    "        df_28['Microscopia_eletronica_apagamento_de_processo_podocitario_espessamento_da_membrana_basal_glomerular'][i]               = 0\n",
    "        df_28['Microscopia_eletronica_apagamento_dos_processos_podocitarios'][i]                                                      = 0\n",
    "        df_28['Microscopia_eletronica_apagamento_dos_processos_podocitarios_(pedicelos)'][i]                                          = 0\n",
    "        df_28['Microscopia_eletronica_apagamento_dos_processos_podocitários_(pedicelos)_e_depositos_eletron-densos_subepiteliais'][i] = 0\n",
    "        df_28['Microscopia_eletronica_depositos_eletron-densos_em_regiao_paramesangial_e_mesangial'][i]                               = 1\n",
    "        df_28['Microscopia_eletronica_depositos_eletron-densos_largos_(humps)_apagamento_de_processo_podocitários'][i]                = 0\n",
    "        df_28['Microscopia_eletronica_depositos_eletron-densos_subendoteliais'][i]                                                    = 0\n",
    "        df_28['Microscopia_eletronica_depositos_eletron-densos_subepiteliais_e_subendoteliais'][i]                                    = 0\n",
    "        df_28['Microscopia_eletronica_grandes_depositos_eletron-densos_na_lamina_densa_da_membrana_basal_glomerular'][i]              = 0\n",
    "        df_28['Microscopia_eletronica_irregularidade_da_membrana_basal_glomerular_e_discreta_expansao_mesangial'][i]                  = 0\n",
    "        df_28['Microscopia_eletronica_material_eletrodenso_lamelado_em_podocitos'][i]                                                 = 0\n",
    "        df_28['Microscopia_eletronica_material_eletrondenso_lamelado_no_citoplasma_de_podocitos'][i]                                  = 0\n",
    "        df_28['Microscopia_eletronica_membrana_basal_glomerular_fina'][i]                                                             = 0\n",
    "        df_28['Microscopia_eletronica_normal'][i]                                                                                     = 0\n",
    "        df_28['Microscopia_eletronica_nao_realizada'][i]                                                                              = 0\n",
    "    elif coluna[i] == 'depósitos elétron-densos largos (humps) apagamento de processo podocitários':\n",
    "        df_28['Microscopia_eletronica_Compativel_com_padrao_membranoproliferativo'][i]                                                = 0\n",
    "        df_28['Microscopia_eletronica_alargamento_de_pedicelos_ou_aproximacao_deles_mas_alguns_preservados'][i]                       = 0\n",
    "        df_28['Microscopia_eletronica_apagamento_de_processo_podocitario_espessamento_da_membrana_basal_glomerular'][i]               = 0\n",
    "        df_28['Microscopia_eletronica_apagamento_dos_processos_podocitarios'][i]                                                      = 0\n",
    "        df_28['Microscopia_eletronica_apagamento_dos_processos_podocitarios_(pedicelos)'][i]                                          = 0\n",
    "        df_28['Microscopia_eletronica_apagamento_dos_processos_podocitários_(pedicelos)_e_depositos_eletron-densos_subepiteliais'][i] = 0\n",
    "        df_28['Microscopia_eletronica_depositos_eletron-densos_em_regiao_paramesangial_e_mesangial'][i]                               = 0\n",
    "        df_28['Microscopia_eletronica_depositos_eletron-densos_largos_(humps)_apagamento_de_processo_podocitários'][i]                = 1\n",
    "        df_28['Microscopia_eletronica_depositos_eletron-densos_subendoteliais'][i]                                                    = 0\n",
    "        df_28['Microscopia_eletronica_depositos_eletron-densos_subepiteliais_e_subendoteliais'][i]                                    = 0\n",
    "        df_28['Microscopia_eletronica_grandes_depositos_eletron-densos_na_lamina_densa_da_membrana_basal_glomerular'][i]              = 0\n",
    "        df_28['Microscopia_eletronica_irregularidade_da_membrana_basal_glomerular_e_discreta_expansao_mesangial'][i]                  = 0\n",
    "        df_28['Microscopia_eletronica_material_eletrodenso_lamelado_em_podocitos'][i]                                                 = 0\n",
    "        df_28['Microscopia_eletronica_material_eletrondenso_lamelado_no_citoplasma_de_podocitos'][i]                                  = 0\n",
    "        df_28['Microscopia_eletronica_membrana_basal_glomerular_fina'][i]                                                             = 0\n",
    "        df_28['Microscopia_eletronica_normal'][i]                                                                                     = 0\n",
    "        df_28['Microscopia_eletronica_nao_realizada'][i]                                                                              = 0\n",
    "    elif coluna[i] == 'depósitos elétron-densos subendoteliais':\n",
    "        df_28['Microscopia_eletronica_Compativel_com_padrao_membranoproliferativo'][i]                                                = 0\n",
    "        df_28['Microscopia_eletronica_alargamento_de_pedicelos_ou_aproximacao_deles_mas_alguns_preservados'][i]                       = 0\n",
    "        df_28['Microscopia_eletronica_apagamento_de_processo_podocitario_espessamento_da_membrana_basal_glomerular'][i]               = 0\n",
    "        df_28['Microscopia_eletronica_apagamento_dos_processos_podocitarios'][i]                                                      = 0\n",
    "        df_28['Microscopia_eletronica_apagamento_dos_processos_podocitarios_(pedicelos)'][i]                                          = 0\n",
    "        df_28['Microscopia_eletronica_apagamento_dos_processos_podocitários_(pedicelos)_e_depositos_eletron-densos_subepiteliais'][i] = 0\n",
    "        df_28['Microscopia_eletronica_depositos_eletron-densos_em_regiao_paramesangial_e_mesangial'][i]                               = 0\n",
    "        df_28['Microscopia_eletronica_depositos_eletron-densos_largos_(humps)_apagamento_de_processo_podocitários'][i]                = 0\n",
    "        df_28['Microscopia_eletronica_depositos_eletron-densos_subendoteliais'][i]                                                    = 1\n",
    "        df_28['Microscopia_eletronica_depositos_eletron-densos_subepiteliais_e_subendoteliais'][i]                                    = 0\n",
    "        df_28['Microscopia_eletronica_grandes_depositos_eletron-densos_na_lamina_densa_da_membrana_basal_glomerular'][i]              = 0\n",
    "        df_28['Microscopia_eletronica_irregularidade_da_membrana_basal_glomerular_e_discreta_expansao_mesangial'][i]                  = 0\n",
    "        df_28['Microscopia_eletronica_material_eletrodenso_lamelado_em_podocitos'][i]                                                 = 0\n",
    "        df_28['Microscopia_eletronica_material_eletrondenso_lamelado_no_citoplasma_de_podocitos'][i]                                  = 0\n",
    "        df_28['Microscopia_eletronica_membrana_basal_glomerular_fina'][i]                                                             = 0\n",
    "        df_28['Microscopia_eletronica_normal'][i]                                                                                     = 0\n",
    "        df_28['Microscopia_eletronica_nao_realizada'][i]                                                                              = 0\n",
    "    elif coluna[i] == 'depósitos elétron-densos subepiteliais e subendoteliais':\n",
    "        df_28['Microscopia_eletronica_Compativel_com_padrao_membranoproliferativo'][i]                                                = 0\n",
    "        df_28['Microscopia_eletronica_alargamento_de_pedicelos_ou_aproximacao_deles_mas_alguns_preservados'][i]                       = 0\n",
    "        df_28['Microscopia_eletronica_apagamento_de_processo_podocitario_espessamento_da_membrana_basal_glomerular'][i]               = 0\n",
    "        df_28['Microscopia_eletronica_apagamento_dos_processos_podocitarios'][i]                                                      = 0\n",
    "        df_28['Microscopia_eletronica_apagamento_dos_processos_podocitarios_(pedicelos)'][i]                                          = 0\n",
    "        df_28['Microscopia_eletronica_apagamento_dos_processos_podocitários_(pedicelos)_e_depositos_eletron-densos_subepiteliais'][i] = 0\n",
    "        df_28['Microscopia_eletronica_depositos_eletron-densos_em_regiao_paramesangial_e_mesangial'][i]                               = 0\n",
    "        df_28['Microscopia_eletronica_depositos_eletron-densos_largos_(humps)_apagamento_de_processo_podocitários'][i]                = 0\n",
    "        df_28['Microscopia_eletronica_depositos_eletron-densos_subendoteliais'][i]                                                    = 0\n",
    "        df_28['Microscopia_eletronica_depositos_eletron-densos_subepiteliais_e_subendoteliais'][i]                                    = 1\n",
    "        df_28['Microscopia_eletronica_grandes_depositos_eletron-densos_na_lamina_densa_da_membrana_basal_glomerular'][i]              = 0\n",
    "        df_28['Microscopia_eletronica_irregularidade_da_membrana_basal_glomerular_e_discreta_expansao_mesangial'][i]                  = 0\n",
    "        df_28['Microscopia_eletronica_material_eletrodenso_lamelado_em_podocitos'][i]                                                 = 0\n",
    "        df_28['Microscopia_eletronica_material_eletrondenso_lamelado_no_citoplasma_de_podocitos'][i]                                  = 0\n",
    "        df_28['Microscopia_eletronica_membrana_basal_glomerular_fina'][i]                                                             = 0\n",
    "        df_28['Microscopia_eletronica_normal'][i]                                                                                     = 0\n",
    "        df_28['Microscopia_eletronica_nao_realizada'][i]                                                                              = 0\n",
    "    elif coluna[i] == 'grandes depósitos elétron-densos na lâmina densa da membrana basal glomerular':\n",
    "        df_28['Microscopia_eletronica_Compativel_com_padrao_membranoproliferativo'][i]                                                = 0\n",
    "        df_28['Microscopia_eletronica_alargamento_de_pedicelos_ou_aproximacao_deles_mas_alguns_preservados'][i]                       = 0\n",
    "        df_28['Microscopia_eletronica_apagamento_de_processo_podocitario_espessamento_da_membrana_basal_glomerular'][i]               = 0\n",
    "        df_28['Microscopia_eletronica_apagamento_dos_processos_podocitarios'][i]                                                      = 0\n",
    "        df_28['Microscopia_eletronica_apagamento_dos_processos_podocitarios_(pedicelos)'][i]                                          = 0\n",
    "        df_28['Microscopia_eletronica_apagamento_dos_processos_podocitários_(pedicelos)_e_depositos_eletron-densos_subepiteliais'][i] = 0\n",
    "        df_28['Microscopia_eletronica_depositos_eletron-densos_em_regiao_paramesangial_e_mesangial'][i]                               = 0\n",
    "        df_28['Microscopia_eletronica_depositos_eletron-densos_largos_(humps)_apagamento_de_processo_podocitários'][i]                = 0\n",
    "        df_28['Microscopia_eletronica_depositos_eletron-densos_subendoteliais'][i]                                                    = 0\n",
    "        df_28['Microscopia_eletronica_depositos_eletron-densos_subepiteliais_e_subendoteliais'][i]                                    = 0\n",
    "        df_28['Microscopia_eletronica_grandes_depositos_eletron-densos_na_lamina_densa_da_membrana_basal_glomerular'][i]              = 1\n",
    "        df_28['Microscopia_eletronica_irregularidade_da_membrana_basal_glomerular_e_discreta_expansao_mesangial'][i]                  = 0\n",
    "        df_28['Microscopia_eletronica_material_eletrodenso_lamelado_em_podocitos'][i]                                                 = 0\n",
    "        df_28['Microscopia_eletronica_material_eletrondenso_lamelado_no_citoplasma_de_podocitos'][i]                                  = 0\n",
    "        df_28['Microscopia_eletronica_membrana_basal_glomerular_fina'][i]                                                             = 0\n",
    "        df_28['Microscopia_eletronica_normal'][i]                                                                                     = 0\n",
    "        df_28['Microscopia_eletronica_nao_realizada'][i]                                                                              = 0\n",
    "    elif coluna[i] == 'irregularidade da membrana basal glomerular e discreta expansão mesangial':\n",
    "        df_28['Microscopia_eletronica_Compativel_com_padrao_membranoproliferativo'][i]                                                = 0\n",
    "        df_28['Microscopia_eletronica_alargamento_de_pedicelos_ou_aproximacao_deles_mas_alguns_preservados'][i]                       = 0\n",
    "        df_28['Microscopia_eletronica_apagamento_de_processo_podocitario_espessamento_da_membrana_basal_glomerular'][i]               = 0\n",
    "        df_28['Microscopia_eletronica_apagamento_dos_processos_podocitarios'][i]                                                      = 0\n",
    "        df_28['Microscopia_eletronica_apagamento_dos_processos_podocitarios_(pedicelos)'][i]                                          = 0\n",
    "        df_28['Microscopia_eletronica_apagamento_dos_processos_podocitários_(pedicelos)_e_depositos_eletron-densos_subepiteliais'][i] = 0\n",
    "        df_28['Microscopia_eletronica_depositos_eletron-densos_em_regiao_paramesangial_e_mesangial'][i]                               = 0\n",
    "        df_28['Microscopia_eletronica_depositos_eletron-densos_largos_(humps)_apagamento_de_processo_podocitários'][i]                = 0\n",
    "        df_28['Microscopia_eletronica_depositos_eletron-densos_subendoteliais'][i]                                                    = 0\n",
    "        df_28['Microscopia_eletronica_depositos_eletron-densos_subepiteliais_e_subendoteliais'][i]                                    = 0\n",
    "        df_28['Microscopia_eletronica_grandes_depositos_eletron-densos_na_lamina_densa_da_membrana_basal_glomerular'][i]              = 0\n",
    "        df_28['Microscopia_eletronica_irregularidade_da_membrana_basal_glomerular_e_discreta_expansao_mesangial'][i]                  = 1\n",
    "        df_28['Microscopia_eletronica_material_eletrodenso_lamelado_em_podocitos'][i]                                                 = 0\n",
    "        df_28['Microscopia_eletronica_material_eletrondenso_lamelado_no_citoplasma_de_podocitos'][i]                                  = 0\n",
    "        df_28['Microscopia_eletronica_membrana_basal_glomerular_fina'][i]                                                             = 0\n",
    "        df_28['Microscopia_eletronica_normal'][i]                                                                                     = 0\n",
    "        df_28['Microscopia_eletronica_nao_realizada'][i]                                                                              = 0\n",
    "    elif coluna[i] == 'material eletrodenso lamelado em podócitos':\n",
    "        df_28['Microscopia_eletronica_Compativel_com_padrao_membranoproliferativo'][i]                                                = 0\n",
    "        df_28['Microscopia_eletronica_alargamento_de_pedicelos_ou_aproximacao_deles_mas_alguns_preservados'][i]                       = 0\n",
    "        df_28['Microscopia_eletronica_apagamento_de_processo_podocitario_espessamento_da_membrana_basal_glomerular'][i]               = 0\n",
    "        df_28['Microscopia_eletronica_apagamento_dos_processos_podocitarios'][i]                                                      = 0\n",
    "        df_28['Microscopia_eletronica_apagamento_dos_processos_podocitarios_(pedicelos)'][i]                                          = 0\n",
    "        df_28['Microscopia_eletronica_apagamento_dos_processos_podocitários_(pedicelos)_e_depositos_eletron-densos_subepiteliais'][i] = 0\n",
    "        df_28['Microscopia_eletronica_depositos_eletron-densos_em_regiao_paramesangial_e_mesangial'][i]                               = 0\n",
    "        df_28['Microscopia_eletronica_depositos_eletron-densos_largos_(humps)_apagamento_de_processo_podocitários'][i]                = 0\n",
    "        df_28['Microscopia_eletronica_depositos_eletron-densos_subendoteliais'][i]                                                    = 0\n",
    "        df_28['Microscopia_eletronica_depositos_eletron-densos_subepiteliais_e_subendoteliais'][i]                                    = 0\n",
    "        df_28['Microscopia_eletronica_grandes_depositos_eletron-densos_na_lamina_densa_da_membrana_basal_glomerular'][i]              = 0\n",
    "        df_28['Microscopia_eletronica_irregularidade_da_membrana_basal_glomerular_e_discreta_expansao_mesangial'][i]                  = 0\n",
    "        df_28['Microscopia_eletronica_material_eletrodenso_lamelado_em_podocitos'][i]                                                 = 1\n",
    "        df_28['Microscopia_eletronica_material_eletrondenso_lamelado_no_citoplasma_de_podocitos'][i]                                  = 0\n",
    "        df_28['Microscopia_eletronica_membrana_basal_glomerular_fina'][i]                                                             = 0\n",
    "        df_28['Microscopia_eletronica_normal'][i]                                                                                     = 0\n",
    "        df_28['Microscopia_eletronica_nao_realizada'][i]                                                                              = 0\n",
    "    elif coluna[i] == 'material eletrondenso lamelado no citoplasma de podócitos':\n",
    "        df_28['Microscopia_eletronica_Compativel_com_padrao_membranoproliferativo'][i]                                                = 0\n",
    "        df_28['Microscopia_eletronica_alargamento_de_pedicelos_ou_aproximacao_deles_mas_alguns_preservados'][i]                       = 0\n",
    "        df_28['Microscopia_eletronica_apagamento_de_processo_podocitario_espessamento_da_membrana_basal_glomerular'][i]               = 0\n",
    "        df_28['Microscopia_eletronica_apagamento_dos_processos_podocitarios'][i]                                                      = 0\n",
    "        df_28['Microscopia_eletronica_apagamento_dos_processos_podocitarios_(pedicelos)'][i]                                          = 0\n",
    "        df_28['Microscopia_eletronica_apagamento_dos_processos_podocitários_(pedicelos)_e_depositos_eletron-densos_subepiteliais'][i] = 0\n",
    "        df_28['Microscopia_eletronica_depositos_eletron-densos_em_regiao_paramesangial_e_mesangial'][i]                               = 0\n",
    "        df_28['Microscopia_eletronica_depositos_eletron-densos_largos_(humps)_apagamento_de_processo_podocitários'][i]                = 0\n",
    "        df_28['Microscopia_eletronica_depositos_eletron-densos_subendoteliais'][i]                                                    = 0\n",
    "        df_28['Microscopia_eletronica_depositos_eletron-densos_subepiteliais_e_subendoteliais'][i]                                    = 0\n",
    "        df_28['Microscopia_eletronica_grandes_depositos_eletron-densos_na_lamina_densa_da_membrana_basal_glomerular'][i]              = 0\n",
    "        df_28['Microscopia_eletronica_irregularidade_da_membrana_basal_glomerular_e_discreta_expansao_mesangial'][i]                  = 0\n",
    "        df_28['Microscopia_eletronica_material_eletrodenso_lamelado_em_podocitos'][i]                                                 = 0\n",
    "        df_28['Microscopia_eletronica_material_eletrondenso_lamelado_no_citoplasma_de_podocitos'][i]                                  = 1\n",
    "        df_28['Microscopia_eletronica_membrana_basal_glomerular_fina'][i]                                                             = 0\n",
    "        df_28['Microscopia_eletronica_normal'][i]                                                                                     = 0\n",
    "        df_28['Microscopia_eletronica_nao_realizada'][i]                                                                              = 0\n",
    "    elif coluna[i] == 'membrana basal glomerular fina':\n",
    "        df_28['Microscopia_eletronica_Compativel_com_padrao_membranoproliferativo'][i]                                                = 0\n",
    "        df_28['Microscopia_eletronica_alargamento_de_pedicelos_ou_aproximacao_deles_mas_alguns_preservados'][i]                       = 0\n",
    "        df_28['Microscopia_eletronica_apagamento_de_processo_podocitario_espessamento_da_membrana_basal_glomerular'][i]               = 0\n",
    "        df_28['Microscopia_eletronica_apagamento_dos_processos_podocitarios'][i]                                                      = 0\n",
    "        df_28['Microscopia_eletronica_apagamento_dos_processos_podocitarios_(pedicelos)'][i]                                          = 0\n",
    "        df_28['Microscopia_eletronica_apagamento_dos_processos_podocitários_(pedicelos)_e_depositos_eletron-densos_subepiteliais'][i] = 0\n",
    "        df_28['Microscopia_eletronica_depositos_eletron-densos_em_regiao_paramesangial_e_mesangial'][i]                               = 0\n",
    "        df_28['Microscopia_eletronica_depositos_eletron-densos_largos_(humps)_apagamento_de_processo_podocitários'][i]                = 0\n",
    "        df_28['Microscopia_eletronica_depositos_eletron-densos_subendoteliais'][i]                                                    = 0\n",
    "        df_28['Microscopia_eletronica_depositos_eletron-densos_subepiteliais_e_subendoteliais'][i]                                    = 0\n",
    "        df_28['Microscopia_eletronica_grandes_depositos_eletron-densos_na_lamina_densa_da_membrana_basal_glomerular'][i]              = 0\n",
    "        df_28['Microscopia_eletronica_irregularidade_da_membrana_basal_glomerular_e_discreta_expansao_mesangial'][i]                  = 0\n",
    "        df_28['Microscopia_eletronica_material_eletrodenso_lamelado_em_podocitos'][i]                                                 = 0\n",
    "        df_28['Microscopia_eletronica_material_eletrondenso_lamelado_no_citoplasma_de_podocitos'][i]                                  = 0\n",
    "        df_28['Microscopia_eletronica_membrana_basal_glomerular_fina'][i]                                                             = 1\n",
    "        df_28['Microscopia_eletronica_normal'][i]                                                                                     = 0\n",
    "        df_28['Microscopia_eletronica_nao_realizada'][i]                                                                              = 0\n",
    "    elif coluna[i] == 'normal':\n",
    "        df_28['Microscopia_eletronica_Compativel_com_padrao_membranoproliferativo'][i]                                                = 0\n",
    "        df_28['Microscopia_eletronica_alargamento_de_pedicelos_ou_aproximacao_deles_mas_alguns_preservados'][i]                       = 0\n",
    "        df_28['Microscopia_eletronica_apagamento_de_processo_podocitario_espessamento_da_membrana_basal_glomerular'][i]               = 0\n",
    "        df_28['Microscopia_eletronica_apagamento_dos_processos_podocitarios'][i]                                                      = 0\n",
    "        df_28['Microscopia_eletronica_apagamento_dos_processos_podocitarios_(pedicelos)'][i]                                          = 0\n",
    "        df_28['Microscopia_eletronica_apagamento_dos_processos_podocitários_(pedicelos)_e_depositos_eletron-densos_subepiteliais'][i] = 0\n",
    "        df_28['Microscopia_eletronica_depositos_eletron-densos_em_regiao_paramesangial_e_mesangial'][i]                               = 0\n",
    "        df_28['Microscopia_eletronica_depositos_eletron-densos_largos_(humps)_apagamento_de_processo_podocitários'][i]                = 0\n",
    "        df_28['Microscopia_eletronica_depositos_eletron-densos_subendoteliais'][i]                                                    = 0\n",
    "        df_28['Microscopia_eletronica_depositos_eletron-densos_subepiteliais_e_subendoteliais'][i]                                    = 0\n",
    "        df_28['Microscopia_eletronica_grandes_depositos_eletron-densos_na_lamina_densa_da_membrana_basal_glomerular'][i]              = 0\n",
    "        df_28['Microscopia_eletronica_irregularidade_da_membrana_basal_glomerular_e_discreta_expansao_mesangial'][i]                  = 0\n",
    "        df_28['Microscopia_eletronica_material_eletrodenso_lamelado_em_podocitos'][i]                                                 = 0\n",
    "        df_28['Microscopia_eletronica_material_eletrondenso_lamelado_no_citoplasma_de_podocitos'][i]                                  = 0\n",
    "        df_28['Microscopia_eletronica_membrana_basal_glomerular_fina'][i]                                                             = 0\n",
    "        df_28['Microscopia_eletronica_normal'][i]                                                                                     = 1\n",
    "        df_28['Microscopia_eletronica_nao_realizada'][i]                                                                              = 0\n",
    "    else :\n",
    "        df_28['Microscopia_eletronica_Compativel_com_padrao_membranoproliferativo'][i]                                                = 0\n",
    "        df_28['Microscopia_eletronica_alargamento_de_pedicelos_ou_aproximacao_deles_mas_alguns_preservados'][i]                       = 0\n",
    "        df_28['Microscopia_eletronica_apagamento_de_processo_podocitario_espessamento_da_membrana_basal_glomerular'][i]               = 0\n",
    "        df_28['Microscopia_eletronica_apagamento_dos_processos_podocitarios'][i]                                                      = 0\n",
    "        df_28['Microscopia_eletronica_apagamento_dos_processos_podocitarios_(pedicelos)'][i]                                          = 0\n",
    "        df_28['Microscopia_eletronica_apagamento_dos_processos_podocitários_(pedicelos)_e_depositos_eletron-densos_subepiteliais'][i] = 0\n",
    "        df_28['Microscopia_eletronica_depositos_eletron-densos_em_regiao_paramesangial_e_mesangial'][i]                               = 0\n",
    "        df_28['Microscopia_eletronica_depositos_eletron-densos_largos_(humps)_apagamento_de_processo_podocitários'][i]                = 0\n",
    "        df_28['Microscopia_eletronica_depositos_eletron-densos_subendoteliais'][i]                                                    = 0\n",
    "        df_28['Microscopia_eletronica_depositos_eletron-densos_subepiteliais_e_subendoteliais'][i]                                    = 0\n",
    "        df_28['Microscopia_eletronica_grandes_depositos_eletron-densos_na_lamina_densa_da_membrana_basal_glomerular'][i]              = 0\n",
    "        df_28['Microscopia_eletronica_irregularidade_da_membrana_basal_glomerular_e_discreta_expansao_mesangial'][i]                  = 0\n",
    "        df_28['Microscopia_eletronica_material_eletrodenso_lamelado_em_podocitos'][i]                                                 = 0\n",
    "        df_28['Microscopia_eletronica_material_eletrondenso_lamelado_no_citoplasma_de_podocitos'][i]                                  = 0\n",
    "        df_28['Microscopia_eletronica_membrana_basal_glomerular_fina'][i]                                                             = 0\n",
    "        df_28['Microscopia_eletronica_normal'][i]                                                                                     = 0\n",
    "        df_28['Microscopia_eletronica_nao_realizada'][i]                                                                              = 1"
   ]
  },
  {
   "cell_type": "code",
   "execution_count": 367,
   "metadata": {},
   "outputs": [
    {
     "data": {
      "text/html": [
       "<div>\n",
       "<style scoped>\n",
       "    .dataframe tbody tr th:only-of-type {\n",
       "        vertical-align: middle;\n",
       "    }\n",
       "\n",
       "    .dataframe tbody tr th {\n",
       "        vertical-align: top;\n",
       "    }\n",
       "\n",
       "    .dataframe thead th {\n",
       "        text-align: right;\n",
       "    }\n",
       "</style>\n",
       "<table border=\"1\" class=\"dataframe\">\n",
       "  <thead>\n",
       "    <tr style=\"text-align: right;\">\n",
       "      <th></th>\n",
       "      <th>Microscopia_eletronica_Compativel_com_padrao_membranoproliferativo</th>\n",
       "      <th>Microscopia_eletronica_alargamento_de_pedicelos_ou_aproximacao_deles_mas_alguns_preservados</th>\n",
       "      <th>Microscopia_eletronica_apagamento_de_processo_podocitario_espessamento_da_membrana_basal_glomerular</th>\n",
       "      <th>Microscopia_eletronica_apagamento_dos_processos_podocitarios</th>\n",
       "      <th>Microscopia_eletronica_apagamento_dos_processos_podocitarios_(pedicelos)</th>\n",
       "      <th>Microscopia_eletronica_apagamento_dos_processos_podocitários_(pedicelos)_e_depositos_eletron-densos_subepiteliais</th>\n",
       "      <th>Microscopia_eletronica_depositos_eletron-densos_em_regiao_paramesangial_e_mesangial</th>\n",
       "      <th>Microscopia_eletronica_depositos_eletron-densos_largos_(humps)_apagamento_de_processo_podocitários</th>\n",
       "      <th>Microscopia_eletronica_depositos_eletron-densos_subendoteliais</th>\n",
       "      <th>Microscopia_eletronica_depositos_eletron-densos_subepiteliais_e_subendoteliais</th>\n",
       "      <th>Microscopia_eletronica_grandes_depositos_eletron-densos_na_lamina_densa_da_membrana_basal_glomerular</th>\n",
       "      <th>Microscopia_eletronica_irregularidade_da_membrana_basal_glomerular_e_discreta_expansao_mesangial</th>\n",
       "      <th>Microscopia_eletronica_material_eletrodenso_lamelado_em_podocitos</th>\n",
       "      <th>Microscopia_eletronica_material_eletrondenso_lamelado_no_citoplasma_de_podocitos</th>\n",
       "      <th>Microscopia_eletronica_membrana_basal_glomerular_fina</th>\n",
       "      <th>Microscopia_eletronica_normal</th>\n",
       "      <th>Microscopia_eletronica_nao_realizada</th>\n",
       "    </tr>\n",
       "  </thead>\n",
       "  <tbody>\n",
       "    <tr>\n",
       "      <th>0</th>\n",
       "      <td>0</td>\n",
       "      <td>0</td>\n",
       "      <td>0</td>\n",
       "      <td>0</td>\n",
       "      <td>1</td>\n",
       "      <td>0</td>\n",
       "      <td>0</td>\n",
       "      <td>0</td>\n",
       "      <td>0</td>\n",
       "      <td>0</td>\n",
       "      <td>0</td>\n",
       "      <td>0</td>\n",
       "      <td>0</td>\n",
       "      <td>0</td>\n",
       "      <td>0</td>\n",
       "      <td>0</td>\n",
       "      <td>0</td>\n",
       "    </tr>\n",
       "    <tr>\n",
       "      <th>1</th>\n",
       "      <td>0</td>\n",
       "      <td>0</td>\n",
       "      <td>0</td>\n",
       "      <td>0</td>\n",
       "      <td>0</td>\n",
       "      <td>0</td>\n",
       "      <td>0</td>\n",
       "      <td>0</td>\n",
       "      <td>0</td>\n",
       "      <td>0</td>\n",
       "      <td>0</td>\n",
       "      <td>0</td>\n",
       "      <td>0</td>\n",
       "      <td>0</td>\n",
       "      <td>0</td>\n",
       "      <td>1</td>\n",
       "      <td>0</td>\n",
       "    </tr>\n",
       "    <tr>\n",
       "      <th>2</th>\n",
       "      <td>0</td>\n",
       "      <td>0</td>\n",
       "      <td>0</td>\n",
       "      <td>1</td>\n",
       "      <td>0</td>\n",
       "      <td>0</td>\n",
       "      <td>0</td>\n",
       "      <td>0</td>\n",
       "      <td>0</td>\n",
       "      <td>0</td>\n",
       "      <td>0</td>\n",
       "      <td>0</td>\n",
       "      <td>0</td>\n",
       "      <td>0</td>\n",
       "      <td>0</td>\n",
       "      <td>0</td>\n",
       "      <td>0</td>\n",
       "    </tr>\n",
       "    <tr>\n",
       "      <th>3</th>\n",
       "      <td>0</td>\n",
       "      <td>0</td>\n",
       "      <td>0</td>\n",
       "      <td>0</td>\n",
       "      <td>0</td>\n",
       "      <td>1</td>\n",
       "      <td>0</td>\n",
       "      <td>0</td>\n",
       "      <td>0</td>\n",
       "      <td>0</td>\n",
       "      <td>0</td>\n",
       "      <td>0</td>\n",
       "      <td>0</td>\n",
       "      <td>0</td>\n",
       "      <td>0</td>\n",
       "      <td>0</td>\n",
       "      <td>0</td>\n",
       "    </tr>\n",
       "    <tr>\n",
       "      <th>4</th>\n",
       "      <td>0</td>\n",
       "      <td>0</td>\n",
       "      <td>0</td>\n",
       "      <td>0</td>\n",
       "      <td>0</td>\n",
       "      <td>1</td>\n",
       "      <td>0</td>\n",
       "      <td>0</td>\n",
       "      <td>0</td>\n",
       "      <td>0</td>\n",
       "      <td>0</td>\n",
       "      <td>0</td>\n",
       "      <td>0</td>\n",
       "      <td>0</td>\n",
       "      <td>0</td>\n",
       "      <td>0</td>\n",
       "      <td>0</td>\n",
       "    </tr>\n",
       "  </tbody>\n",
       "</table>\n",
       "</div>"
      ],
      "text/plain": [
       "  Microscopia_eletronica_Compativel_com_padrao_membranoproliferativo  \\\n",
       "0                                                  0                   \n",
       "1                                                  0                   \n",
       "2                                                  0                   \n",
       "3                                                  0                   \n",
       "4                                                  0                   \n",
       "\n",
       "  Microscopia_eletronica_alargamento_de_pedicelos_ou_aproximacao_deles_mas_alguns_preservados  \\\n",
       "0                                                  0                                            \n",
       "1                                                  0                                            \n",
       "2                                                  0                                            \n",
       "3                                                  0                                            \n",
       "4                                                  0                                            \n",
       "\n",
       "  Microscopia_eletronica_apagamento_de_processo_podocitario_espessamento_da_membrana_basal_glomerular  \\\n",
       "0                                                  0                                                    \n",
       "1                                                  0                                                    \n",
       "2                                                  0                                                    \n",
       "3                                                  0                                                    \n",
       "4                                                  0                                                    \n",
       "\n",
       "  Microscopia_eletronica_apagamento_dos_processos_podocitarios  \\\n",
       "0                                                  0             \n",
       "1                                                  0             \n",
       "2                                                  1             \n",
       "3                                                  0             \n",
       "4                                                  0             \n",
       "\n",
       "  Microscopia_eletronica_apagamento_dos_processos_podocitarios_(pedicelos)  \\\n",
       "0                                                  1                         \n",
       "1                                                  0                         \n",
       "2                                                  0                         \n",
       "3                                                  0                         \n",
       "4                                                  0                         \n",
       "\n",
       "  Microscopia_eletronica_apagamento_dos_processos_podocitários_(pedicelos)_e_depositos_eletron-densos_subepiteliais  \\\n",
       "0                                                  0                                                                  \n",
       "1                                                  0                                                                  \n",
       "2                                                  0                                                                  \n",
       "3                                                  1                                                                  \n",
       "4                                                  1                                                                  \n",
       "\n",
       "  Microscopia_eletronica_depositos_eletron-densos_em_regiao_paramesangial_e_mesangial  \\\n",
       "0                                                  0                                    \n",
       "1                                                  0                                    \n",
       "2                                                  0                                    \n",
       "3                                                  0                                    \n",
       "4                                                  0                                    \n",
       "\n",
       "  Microscopia_eletronica_depositos_eletron-densos_largos_(humps)_apagamento_de_processo_podocitários  \\\n",
       "0                                                  0                                                   \n",
       "1                                                  0                                                   \n",
       "2                                                  0                                                   \n",
       "3                                                  0                                                   \n",
       "4                                                  0                                                   \n",
       "\n",
       "  Microscopia_eletronica_depositos_eletron-densos_subendoteliais  \\\n",
       "0                                                  0               \n",
       "1                                                  0               \n",
       "2                                                  0               \n",
       "3                                                  0               \n",
       "4                                                  0               \n",
       "\n",
       "  Microscopia_eletronica_depositos_eletron-densos_subepiteliais_e_subendoteliais  \\\n",
       "0                                                  0                               \n",
       "1                                                  0                               \n",
       "2                                                  0                               \n",
       "3                                                  0                               \n",
       "4                                                  0                               \n",
       "\n",
       "  Microscopia_eletronica_grandes_depositos_eletron-densos_na_lamina_densa_da_membrana_basal_glomerular  \\\n",
       "0                                                  0                                                     \n",
       "1                                                  0                                                     \n",
       "2                                                  0                                                     \n",
       "3                                                  0                                                     \n",
       "4                                                  0                                                     \n",
       "\n",
       "  Microscopia_eletronica_irregularidade_da_membrana_basal_glomerular_e_discreta_expansao_mesangial  \\\n",
       "0                                                  0                                                 \n",
       "1                                                  0                                                 \n",
       "2                                                  0                                                 \n",
       "3                                                  0                                                 \n",
       "4                                                  0                                                 \n",
       "\n",
       "  Microscopia_eletronica_material_eletrodenso_lamelado_em_podocitos  \\\n",
       "0                                                  0                  \n",
       "1                                                  0                  \n",
       "2                                                  0                  \n",
       "3                                                  0                  \n",
       "4                                                  0                  \n",
       "\n",
       "  Microscopia_eletronica_material_eletrondenso_lamelado_no_citoplasma_de_podocitos  \\\n",
       "0                                                  0                                 \n",
       "1                                                  0                                 \n",
       "2                                                  0                                 \n",
       "3                                                  0                                 \n",
       "4                                                  0                                 \n",
       "\n",
       "  Microscopia_eletronica_membrana_basal_glomerular_fina  \\\n",
       "0                                                  0      \n",
       "1                                                  0      \n",
       "2                                                  0      \n",
       "3                                                  0      \n",
       "4                                                  0      \n",
       "\n",
       "  Microscopia_eletronica_normal Microscopia_eletronica_nao_realizada  \n",
       "0                             0                                    0  \n",
       "1                             1                                    0  \n",
       "2                             0                                    0  \n",
       "3                             0                                    0  \n",
       "4                             0                                    0  "
      ]
     },
     "execution_count": 367,
     "metadata": {},
     "output_type": "execute_result"
    }
   ],
   "source": [
    "contador = 0\n",
    "while contador < 100:\n",
    "    preencher28(base_01['Microscopia eletrônica'], contador)\n",
    "    contador += 1\n",
    "\n",
    "df_28.head()"
   ]
  },
  {
   "cell_type": "code",
   "execution_count": 368,
   "metadata": {},
   "outputs": [
    {
     "data": {
      "text/plain": [
       "não realizada                                                                                 58\n",
       "apagamento dos processos podocitários (pedicelos) e depósitos elétron-densos subepiteliais     8\n",
       "grandes depósitos elétron-densos na lâmina densa da membrana basal glomerular                  5\n",
       "depósitos elétron-densos em região paramesangial e mesangial                                   4\n",
       "depósitos elétron-densos subendoteliais                                                        4\n",
       "irregularidade da membrana basal glomerular e discreta expansão mesangial                      4\n",
       "apagamento de processo podocitário espessamento da membrana basal glomerular                   4\n",
       "depósitos elétron-densos subepiteliais e subendoteliais                                        3\n",
       "depósitos elétron-densos largos (humps) apagamento de processo podocitários                    2\n",
       "alargamento de pedicelos ou aproximação deles mas alguns preservados                           1\n",
       "apagamento dos processos podocitários                                                          1\n",
       "material eletrondenso lamelado no citoplasma de podócitos                                      1\n",
       "Compatível com padrão membranoproliferativo                                                    1\n",
       "apagamento dos processos podocitários (pedicelos)                                              1\n",
       "normal                                                                                         1\n",
       "membrana basal glomerular fina                                                                 1\n",
       "material eletrodenso lamelado em podócitos                                                     1\n",
       "Name: Microscopia eletrônica, dtype: int64"
      ]
     },
     "execution_count": 368,
     "metadata": {},
     "output_type": "execute_result"
    }
   ],
   "source": [
    "base_01['Microscopia eletrônica'].value_counts()"
   ]
  },
  {
   "cell_type": "code",
   "execution_count": 369,
   "metadata": {},
   "outputs": [
    {
     "data": {
      "text/plain": [
       "58"
      ]
     },
     "execution_count": 369,
     "metadata": {},
     "output_type": "execute_result"
    }
   ],
   "source": [
    "len(df_28[df_28['Microscopia_eletronica_nao_realizada'] == 1])"
   ]
  },
  {
   "cell_type": "code",
   "execution_count": 370,
   "metadata": {},
   "outputs": [
    {
     "data": {
      "text/plain": [
       "8"
      ]
     },
     "execution_count": 370,
     "metadata": {},
     "output_type": "execute_result"
    }
   ],
   "source": [
    "len(df_28[df_28['Microscopia_eletronica_apagamento_dos_processos_podocitários_(pedicelos)_e_depositos_eletron-densos_subepiteliais'] == 1])"
   ]
  },
  {
   "cell_type": "code",
   "execution_count": 371,
   "metadata": {},
   "outputs": [
    {
     "data": {
      "text/plain": [
       "5"
      ]
     },
     "execution_count": 371,
     "metadata": {},
     "output_type": "execute_result"
    }
   ],
   "source": [
    "len(df_28[df_28['Microscopia_eletronica_grandes_depositos_eletron-densos_na_lamina_densa_da_membrana_basal_glomerular'] == 1])"
   ]
  },
  {
   "cell_type": "code",
   "execution_count": 372,
   "metadata": {},
   "outputs": [
    {
     "data": {
      "text/plain": [
       "4"
      ]
     },
     "execution_count": 372,
     "metadata": {},
     "output_type": "execute_result"
    }
   ],
   "source": [
    "len(df_28[df_28['Microscopia_eletronica_depositos_eletron-densos_subendoteliais'] == 1])"
   ]
  },
  {
   "cell_type": "code",
   "execution_count": 373,
   "metadata": {},
   "outputs": [
    {
     "data": {
      "text/plain": [
       "4"
      ]
     },
     "execution_count": 373,
     "metadata": {},
     "output_type": "execute_result"
    }
   ],
   "source": [
    "len(df_28[df_28['Microscopia_eletronica_depositos_eletron-densos_em_regiao_paramesangial_e_mesangial'] == 1])"
   ]
  },
  {
   "cell_type": "code",
   "execution_count": 374,
   "metadata": {
    "scrolled": true
   },
   "outputs": [
    {
     "data": {
      "text/plain": [
       "4"
      ]
     },
     "execution_count": 374,
     "metadata": {},
     "output_type": "execute_result"
    }
   ],
   "source": [
    "len(df_28[df_28['Microscopia_eletronica_apagamento_de_processo_podocitario_espessamento_da_membrana_basal_glomerular'] == 1])"
   ]
  },
  {
   "cell_type": "code",
   "execution_count": 375,
   "metadata": {
    "scrolled": true
   },
   "outputs": [
    {
     "data": {
      "text/plain": [
       "4"
      ]
     },
     "execution_count": 375,
     "metadata": {},
     "output_type": "execute_result"
    }
   ],
   "source": [
    "len(df_28[df_28['Microscopia_eletronica_irregularidade_da_membrana_basal_glomerular_e_discreta_expansao_mesangial'] == 1])"
   ]
  },
  {
   "cell_type": "code",
   "execution_count": 376,
   "metadata": {},
   "outputs": [
    {
     "data": {
      "text/plain": [
       "3"
      ]
     },
     "execution_count": 376,
     "metadata": {},
     "output_type": "execute_result"
    }
   ],
   "source": [
    "len(df_28[df_28['Microscopia_eletronica_depositos_eletron-densos_subepiteliais_e_subendoteliais'] == 1])"
   ]
  },
  {
   "cell_type": "code",
   "execution_count": 377,
   "metadata": {},
   "outputs": [
    {
     "data": {
      "text/plain": [
       "2"
      ]
     },
     "execution_count": 377,
     "metadata": {},
     "output_type": "execute_result"
    }
   ],
   "source": [
    "len(df_28[df_28['Microscopia_eletronica_depositos_eletron-densos_largos_(humps)_apagamento_de_processo_podocitários'] == 1])"
   ]
  },
  {
   "cell_type": "code",
   "execution_count": 378,
   "metadata": {},
   "outputs": [
    {
     "data": {
      "text/plain": [
       "1"
      ]
     },
     "execution_count": 378,
     "metadata": {},
     "output_type": "execute_result"
    }
   ],
   "source": [
    "len(df_28[df_28['Microscopia_eletronica_apagamento_dos_processos_podocitarios_(pedicelos)'] == 1])"
   ]
  },
  {
   "cell_type": "code",
   "execution_count": 379,
   "metadata": {
    "scrolled": true
   },
   "outputs": [
    {
     "data": {
      "text/plain": [
       "1"
      ]
     },
     "execution_count": 379,
     "metadata": {},
     "output_type": "execute_result"
    }
   ],
   "source": [
    "len(df_28[df_28['Microscopia_eletronica_apagamento_dos_processos_podocitarios'] == 1])"
   ]
  },
  {
   "cell_type": "code",
   "execution_count": 380,
   "metadata": {},
   "outputs": [
    {
     "data": {
      "text/plain": [
       "1"
      ]
     },
     "execution_count": 380,
     "metadata": {},
     "output_type": "execute_result"
    }
   ],
   "source": [
    "len(df_28[df_28['Microscopia_eletronica_membrana_basal_glomerular_fina'] == 1])"
   ]
  },
  {
   "cell_type": "code",
   "execution_count": 381,
   "metadata": {},
   "outputs": [
    {
     "data": {
      "text/plain": [
       "1"
      ]
     },
     "execution_count": 381,
     "metadata": {},
     "output_type": "execute_result"
    }
   ],
   "source": [
    "len(df_28[df_28['Microscopia_eletronica_normal'] == 1])"
   ]
  },
  {
   "cell_type": "code",
   "execution_count": 382,
   "metadata": {},
   "outputs": [
    {
     "data": {
      "text/plain": [
       "1"
      ]
     },
     "execution_count": 382,
     "metadata": {},
     "output_type": "execute_result"
    }
   ],
   "source": [
    "len(df_28[df_28['Microscopia_eletronica_Compativel_com_padrao_membranoproliferativo'] == 1])"
   ]
  },
  {
   "cell_type": "code",
   "execution_count": 383,
   "metadata": {
    "scrolled": true
   },
   "outputs": [
    {
     "data": {
      "text/plain": [
       "1"
      ]
     },
     "execution_count": 383,
     "metadata": {},
     "output_type": "execute_result"
    }
   ],
   "source": [
    "len(df_28[df_28['Microscopia_eletronica_alargamento_de_pedicelos_ou_aproximacao_deles_mas_alguns_preservados'] == 1])"
   ]
  },
  {
   "cell_type": "code",
   "execution_count": 384,
   "metadata": {},
   "outputs": [
    {
     "data": {
      "text/plain": [
       "1"
      ]
     },
     "execution_count": 384,
     "metadata": {},
     "output_type": "execute_result"
    }
   ],
   "source": [
    "len(df_28[df_28['Microscopia_eletronica_material_eletrodenso_lamelado_em_podocitos'] == 1])"
   ]
  },
  {
   "cell_type": "code",
   "execution_count": 385,
   "metadata": {},
   "outputs": [
    {
     "data": {
      "text/plain": [
       "1"
      ]
     },
     "execution_count": 385,
     "metadata": {},
     "output_type": "execute_result"
    }
   ],
   "source": [
    "len(df_28[df_28['Microscopia_eletronica_material_eletrondenso_lamelado_no_citoplasma_de_podocitos'] == 1])"
   ]
  },
  {
   "cell_type": "markdown",
   "metadata": {},
   "source": [
    "Vermelho Congo"
   ]
  },
  {
   "cell_type": "code",
   "execution_count": 386,
   "metadata": {},
   "outputs": [
    {
     "data": {
      "text/html": [
       "<div>\n",
       "<style scoped>\n",
       "    .dataframe tbody tr th:only-of-type {\n",
       "        vertical-align: middle;\n",
       "    }\n",
       "\n",
       "    .dataframe tbody tr th {\n",
       "        vertical-align: top;\n",
       "    }\n",
       "\n",
       "    .dataframe thead th {\n",
       "        text-align: right;\n",
       "    }\n",
       "</style>\n",
       "<table border=\"1\" class=\"dataframe\">\n",
       "  <thead>\n",
       "    <tr style=\"text-align: right;\">\n",
       "      <th></th>\n",
       "      <th>Vermelho_congo_negativo</th>\n",
       "      <th>Vermelho_congo_nao_realizado</th>\n",
       "      <th>Vermelho_congo_positivo</th>\n",
       "    </tr>\n",
       "  </thead>\n",
       "  <tbody>\n",
       "    <tr>\n",
       "      <th>0</th>\n",
       "      <td>NaN</td>\n",
       "      <td>NaN</td>\n",
       "      <td>NaN</td>\n",
       "    </tr>\n",
       "    <tr>\n",
       "      <th>1</th>\n",
       "      <td>NaN</td>\n",
       "      <td>NaN</td>\n",
       "      <td>NaN</td>\n",
       "    </tr>\n",
       "    <tr>\n",
       "      <th>2</th>\n",
       "      <td>NaN</td>\n",
       "      <td>NaN</td>\n",
       "      <td>NaN</td>\n",
       "    </tr>\n",
       "    <tr>\n",
       "      <th>3</th>\n",
       "      <td>NaN</td>\n",
       "      <td>NaN</td>\n",
       "      <td>NaN</td>\n",
       "    </tr>\n",
       "    <tr>\n",
       "      <th>4</th>\n",
       "      <td>NaN</td>\n",
       "      <td>NaN</td>\n",
       "      <td>NaN</td>\n",
       "    </tr>\n",
       "  </tbody>\n",
       "</table>\n",
       "</div>"
      ],
      "text/plain": [
       "  Vermelho_congo_negativo Vermelho_congo_nao_realizado Vermelho_congo_positivo\n",
       "0                     NaN                          NaN                     NaN\n",
       "1                     NaN                          NaN                     NaN\n",
       "2                     NaN                          NaN                     NaN\n",
       "3                     NaN                          NaN                     NaN\n",
       "4                     NaN                          NaN                     NaN"
      ]
     },
     "execution_count": 386,
     "metadata": {},
     "output_type": "execute_result"
    }
   ],
   "source": [
    "df_29 = pd.DataFrame(index = indices, columns = Vermelho_congo)\n",
    "df_29.head()"
   ]
  },
  {
   "cell_type": "code",
   "execution_count": 387,
   "metadata": {},
   "outputs": [
    {
     "data": {
      "text/plain": [
       "array(['negativo', 'não realizado', 'positivo'], dtype=object)"
      ]
     },
     "execution_count": 387,
     "metadata": {},
     "output_type": "execute_result"
    }
   ],
   "source": [
    "np.unique(base_01['vermelho congo'])"
   ]
  },
  {
   "cell_type": "code",
   "execution_count": 388,
   "metadata": {},
   "outputs": [
    {
     "data": {
      "text/plain": [
       "Index(['Vermelho_congo_negativo', 'Vermelho_congo_nao_realizado',\n",
       "       'Vermelho_congo_positivo'],\n",
       "      dtype='object')"
      ]
     },
     "execution_count": 388,
     "metadata": {},
     "output_type": "execute_result"
    }
   ],
   "source": [
    "df_29.columns"
   ]
  },
  {
   "cell_type": "code",
   "execution_count": 389,
   "metadata": {},
   "outputs": [],
   "source": [
    "def preencher29(coluna, i):\n",
    "    if coluna[i] == 'negativo':\n",
    "        df_29['Vermelho_congo_negativo'][i]      = 1\n",
    "        df_29['Vermelho_congo_nao_realizado'][i] = 0\n",
    "        df_29['Vermelho_congo_positivo'][i]      = 0\n",
    "    elif coluna[i] == 'não realizado':\n",
    "        df_29['Vermelho_congo_negativo'][i]      = 0\n",
    "        df_29['Vermelho_congo_nao_realizado'][i] = 1\n",
    "        df_29['Vermelho_congo_positivo'][i]      = 0\n",
    "    else:\n",
    "        df_29['Vermelho_congo_negativo'][i]      = 0\n",
    "        df_29['Vermelho_congo_nao_realizado'][i] = 0\n",
    "        df_29['Vermelho_congo_positivo'][i]      = 1"
   ]
  },
  {
   "cell_type": "code",
   "execution_count": 390,
   "metadata": {},
   "outputs": [
    {
     "data": {
      "text/html": [
       "<div>\n",
       "<style scoped>\n",
       "    .dataframe tbody tr th:only-of-type {\n",
       "        vertical-align: middle;\n",
       "    }\n",
       "\n",
       "    .dataframe tbody tr th {\n",
       "        vertical-align: top;\n",
       "    }\n",
       "\n",
       "    .dataframe thead th {\n",
       "        text-align: right;\n",
       "    }\n",
       "</style>\n",
       "<table border=\"1\" class=\"dataframe\">\n",
       "  <thead>\n",
       "    <tr style=\"text-align: right;\">\n",
       "      <th></th>\n",
       "      <th>Vermelho_congo_negativo</th>\n",
       "      <th>Vermelho_congo_nao_realizado</th>\n",
       "      <th>Vermelho_congo_positivo</th>\n",
       "    </tr>\n",
       "  </thead>\n",
       "  <tbody>\n",
       "    <tr>\n",
       "      <th>0</th>\n",
       "      <td>0</td>\n",
       "      <td>1</td>\n",
       "      <td>0</td>\n",
       "    </tr>\n",
       "    <tr>\n",
       "      <th>1</th>\n",
       "      <td>0</td>\n",
       "      <td>1</td>\n",
       "      <td>0</td>\n",
       "    </tr>\n",
       "    <tr>\n",
       "      <th>2</th>\n",
       "      <td>0</td>\n",
       "      <td>1</td>\n",
       "      <td>0</td>\n",
       "    </tr>\n",
       "    <tr>\n",
       "      <th>3</th>\n",
       "      <td>0</td>\n",
       "      <td>1</td>\n",
       "      <td>0</td>\n",
       "    </tr>\n",
       "    <tr>\n",
       "      <th>4</th>\n",
       "      <td>0</td>\n",
       "      <td>1</td>\n",
       "      <td>0</td>\n",
       "    </tr>\n",
       "  </tbody>\n",
       "</table>\n",
       "</div>"
      ],
      "text/plain": [
       "  Vermelho_congo_negativo Vermelho_congo_nao_realizado Vermelho_congo_positivo\n",
       "0                       0                            1                       0\n",
       "1                       0                            1                       0\n",
       "2                       0                            1                       0\n",
       "3                       0                            1                       0\n",
       "4                       0                            1                       0"
      ]
     },
     "execution_count": 390,
     "metadata": {},
     "output_type": "execute_result"
    }
   ],
   "source": [
    "contador = 0\n",
    "while contador < 100:\n",
    "    preencher29(base_01['vermelho congo'], contador)\n",
    "    contador += 1\n",
    "\n",
    "df_29.head()"
   ]
  },
  {
   "cell_type": "code",
   "execution_count": 391,
   "metadata": {},
   "outputs": [
    {
     "data": {
      "text/plain": [
       "não realizado    96\n",
       "negativo          2\n",
       "positivo          2\n",
       "Name: vermelho congo, dtype: int64"
      ]
     },
     "execution_count": 391,
     "metadata": {},
     "output_type": "execute_result"
    }
   ],
   "source": [
    "base_01['vermelho congo'].value_counts()"
   ]
  },
  {
   "cell_type": "code",
   "execution_count": 392,
   "metadata": {},
   "outputs": [
    {
     "data": {
      "text/plain": [
       "96"
      ]
     },
     "execution_count": 392,
     "metadata": {},
     "output_type": "execute_result"
    }
   ],
   "source": [
    "len(df_29[df_29['Vermelho_congo_nao_realizado'] == 1])"
   ]
  },
  {
   "cell_type": "code",
   "execution_count": 393,
   "metadata": {},
   "outputs": [
    {
     "data": {
      "text/plain": [
       "2"
      ]
     },
     "execution_count": 393,
     "metadata": {},
     "output_type": "execute_result"
    }
   ],
   "source": [
    "len(df_29[df_29['Vermelho_congo_negativo'] == 1])"
   ]
  },
  {
   "cell_type": "code",
   "execution_count": 394,
   "metadata": {},
   "outputs": [
    {
     "data": {
      "text/plain": [
       "2"
      ]
     },
     "execution_count": 394,
     "metadata": {},
     "output_type": "execute_result"
    }
   ],
   "source": [
    "len(df_29[df_29['Vermelho_congo_positivo'] == 1])"
   ]
  },
  {
   "cell_type": "markdown",
   "metadata": {},
   "source": [
    "Clínica"
   ]
  },
  {
   "cell_type": "code",
   "execution_count": 395,
   "metadata": {},
   "outputs": [
    {
     "data": {
      "text/html": [
       "<div>\n",
       "<style scoped>\n",
       "    .dataframe tbody tr th:only-of-type {\n",
       "        vertical-align: middle;\n",
       "    }\n",
       "\n",
       "    .dataframe tbody tr th {\n",
       "        vertical-align: top;\n",
       "    }\n",
       "\n",
       "    .dataframe thead th {\n",
       "        text-align: right;\n",
       "    }\n",
       "</style>\n",
       "<table border=\"1\" class=\"dataframe\">\n",
       "  <thead>\n",
       "    <tr style=\"text-align: right;\">\n",
       "      <th></th>\n",
       "      <th>Clinica_Insuficiencia_renal_aguda</th>\n",
       "      <th>Clinica_anasarca_e_dispneia</th>\n",
       "      <th>Clinica_diabetes_e_proteinuria</th>\n",
       "      <th>Clinica_diabetico_e_sindrome_nefrotica</th>\n",
       "      <th>Clinica_doenca_de_fabry</th>\n",
       "      <th>Clinica_eclampsia_e_choque_hipovolemico</th>\n",
       "      <th>Clinica_edema</th>\n",
       "      <th>Clinica_edema_e_proteinuria</th>\n",
       "      <th>Clinica_edema_oliguria_escarros_hemoptoicos_e_hematuria</th>\n",
       "      <th>Clinica_edema_persistente_associado_a_hematuria_e_hipertensao</th>\n",
       "      <th>...</th>\n",
       "      <th>Clinica_proteinuria_hematuria_consumo_de_complemento</th>\n",
       "      <th>Clinica_proteinuria_hematuria_e_alteracao_cardiaca</th>\n",
       "      <th>Clinica_proteinuria_hematuria_e_insuficiencia_renal_cronica</th>\n",
       "      <th>Clinica_proteinuria_nefrotica</th>\n",
       "      <th>Clinica_sindrome_nefrítica</th>\n",
       "      <th>Clinica_sindrome_nefritica-nefrotica</th>\n",
       "      <th>Clinica_sindrome_nefritico-nefrotica</th>\n",
       "      <th>Clinica_sindrome_nefrotica</th>\n",
       "      <th>Clinica_sindrome_nefrotica_cortico-dependente</th>\n",
       "      <th>Clinica_sindrome_nefrotica_cortico-resistente</th>\n",
       "    </tr>\n",
       "  </thead>\n",
       "  <tbody>\n",
       "    <tr>\n",
       "      <th>0</th>\n",
       "      <td>NaN</td>\n",
       "      <td>NaN</td>\n",
       "      <td>NaN</td>\n",
       "      <td>NaN</td>\n",
       "      <td>NaN</td>\n",
       "      <td>NaN</td>\n",
       "      <td>NaN</td>\n",
       "      <td>NaN</td>\n",
       "      <td>NaN</td>\n",
       "      <td>NaN</td>\n",
       "      <td>...</td>\n",
       "      <td>NaN</td>\n",
       "      <td>NaN</td>\n",
       "      <td>NaN</td>\n",
       "      <td>NaN</td>\n",
       "      <td>NaN</td>\n",
       "      <td>NaN</td>\n",
       "      <td>NaN</td>\n",
       "      <td>NaN</td>\n",
       "      <td>NaN</td>\n",
       "      <td>NaN</td>\n",
       "    </tr>\n",
       "    <tr>\n",
       "      <th>1</th>\n",
       "      <td>NaN</td>\n",
       "      <td>NaN</td>\n",
       "      <td>NaN</td>\n",
       "      <td>NaN</td>\n",
       "      <td>NaN</td>\n",
       "      <td>NaN</td>\n",
       "      <td>NaN</td>\n",
       "      <td>NaN</td>\n",
       "      <td>NaN</td>\n",
       "      <td>NaN</td>\n",
       "      <td>...</td>\n",
       "      <td>NaN</td>\n",
       "      <td>NaN</td>\n",
       "      <td>NaN</td>\n",
       "      <td>NaN</td>\n",
       "      <td>NaN</td>\n",
       "      <td>NaN</td>\n",
       "      <td>NaN</td>\n",
       "      <td>NaN</td>\n",
       "      <td>NaN</td>\n",
       "      <td>NaN</td>\n",
       "    </tr>\n",
       "    <tr>\n",
       "      <th>2</th>\n",
       "      <td>NaN</td>\n",
       "      <td>NaN</td>\n",
       "      <td>NaN</td>\n",
       "      <td>NaN</td>\n",
       "      <td>NaN</td>\n",
       "      <td>NaN</td>\n",
       "      <td>NaN</td>\n",
       "      <td>NaN</td>\n",
       "      <td>NaN</td>\n",
       "      <td>NaN</td>\n",
       "      <td>...</td>\n",
       "      <td>NaN</td>\n",
       "      <td>NaN</td>\n",
       "      <td>NaN</td>\n",
       "      <td>NaN</td>\n",
       "      <td>NaN</td>\n",
       "      <td>NaN</td>\n",
       "      <td>NaN</td>\n",
       "      <td>NaN</td>\n",
       "      <td>NaN</td>\n",
       "      <td>NaN</td>\n",
       "    </tr>\n",
       "    <tr>\n",
       "      <th>3</th>\n",
       "      <td>NaN</td>\n",
       "      <td>NaN</td>\n",
       "      <td>NaN</td>\n",
       "      <td>NaN</td>\n",
       "      <td>NaN</td>\n",
       "      <td>NaN</td>\n",
       "      <td>NaN</td>\n",
       "      <td>NaN</td>\n",
       "      <td>NaN</td>\n",
       "      <td>NaN</td>\n",
       "      <td>...</td>\n",
       "      <td>NaN</td>\n",
       "      <td>NaN</td>\n",
       "      <td>NaN</td>\n",
       "      <td>NaN</td>\n",
       "      <td>NaN</td>\n",
       "      <td>NaN</td>\n",
       "      <td>NaN</td>\n",
       "      <td>NaN</td>\n",
       "      <td>NaN</td>\n",
       "      <td>NaN</td>\n",
       "    </tr>\n",
       "    <tr>\n",
       "      <th>4</th>\n",
       "      <td>NaN</td>\n",
       "      <td>NaN</td>\n",
       "      <td>NaN</td>\n",
       "      <td>NaN</td>\n",
       "      <td>NaN</td>\n",
       "      <td>NaN</td>\n",
       "      <td>NaN</td>\n",
       "      <td>NaN</td>\n",
       "      <td>NaN</td>\n",
       "      <td>NaN</td>\n",
       "      <td>...</td>\n",
       "      <td>NaN</td>\n",
       "      <td>NaN</td>\n",
       "      <td>NaN</td>\n",
       "      <td>NaN</td>\n",
       "      <td>NaN</td>\n",
       "      <td>NaN</td>\n",
       "      <td>NaN</td>\n",
       "      <td>NaN</td>\n",
       "      <td>NaN</td>\n",
       "      <td>NaN</td>\n",
       "    </tr>\n",
       "  </tbody>\n",
       "</table>\n",
       "<p>5 rows × 33 columns</p>\n",
       "</div>"
      ],
      "text/plain": [
       "  Clinica_Insuficiencia_renal_aguda Clinica_anasarca_e_dispneia  \\\n",
       "0                               NaN                         NaN   \n",
       "1                               NaN                         NaN   \n",
       "2                               NaN                         NaN   \n",
       "3                               NaN                         NaN   \n",
       "4                               NaN                         NaN   \n",
       "\n",
       "  Clinica_diabetes_e_proteinuria Clinica_diabetico_e_sindrome_nefrotica  \\\n",
       "0                            NaN                                    NaN   \n",
       "1                            NaN                                    NaN   \n",
       "2                            NaN                                    NaN   \n",
       "3                            NaN                                    NaN   \n",
       "4                            NaN                                    NaN   \n",
       "\n",
       "  Clinica_doenca_de_fabry Clinica_eclampsia_e_choque_hipovolemico  \\\n",
       "0                     NaN                                     NaN   \n",
       "1                     NaN                                     NaN   \n",
       "2                     NaN                                     NaN   \n",
       "3                     NaN                                     NaN   \n",
       "4                     NaN                                     NaN   \n",
       "\n",
       "  Clinica_edema Clinica_edema_e_proteinuria  \\\n",
       "0           NaN                         NaN   \n",
       "1           NaN                         NaN   \n",
       "2           NaN                         NaN   \n",
       "3           NaN                         NaN   \n",
       "4           NaN                         NaN   \n",
       "\n",
       "  Clinica_edema_oliguria_escarros_hemoptoicos_e_hematuria  \\\n",
       "0                                                NaN        \n",
       "1                                                NaN        \n",
       "2                                                NaN        \n",
       "3                                                NaN        \n",
       "4                                                NaN        \n",
       "\n",
       "  Clinica_edema_persistente_associado_a_hematuria_e_hipertensao  ...  \\\n",
       "0                                                NaN             ...   \n",
       "1                                                NaN             ...   \n",
       "2                                                NaN             ...   \n",
       "3                                                NaN             ...   \n",
       "4                                                NaN             ...   \n",
       "\n",
       "  Clinica_proteinuria_hematuria_consumo_de_complemento  \\\n",
       "0                                                NaN     \n",
       "1                                                NaN     \n",
       "2                                                NaN     \n",
       "3                                                NaN     \n",
       "4                                                NaN     \n",
       "\n",
       "  Clinica_proteinuria_hematuria_e_alteracao_cardiaca  \\\n",
       "0                                                NaN   \n",
       "1                                                NaN   \n",
       "2                                                NaN   \n",
       "3                                                NaN   \n",
       "4                                                NaN   \n",
       "\n",
       "  Clinica_proteinuria_hematuria_e_insuficiencia_renal_cronica  \\\n",
       "0                                                NaN            \n",
       "1                                                NaN            \n",
       "2                                                NaN            \n",
       "3                                                NaN            \n",
       "4                                                NaN            \n",
       "\n",
       "  Clinica_proteinuria_nefrotica Clinica_sindrome_nefrítica  \\\n",
       "0                           NaN                        NaN   \n",
       "1                           NaN                        NaN   \n",
       "2                           NaN                        NaN   \n",
       "3                           NaN                        NaN   \n",
       "4                           NaN                        NaN   \n",
       "\n",
       "  Clinica_sindrome_nefritica-nefrotica Clinica_sindrome_nefritico-nefrotica  \\\n",
       "0                                  NaN                                  NaN   \n",
       "1                                  NaN                                  NaN   \n",
       "2                                  NaN                                  NaN   \n",
       "3                                  NaN                                  NaN   \n",
       "4                                  NaN                                  NaN   \n",
       "\n",
       "  Clinica_sindrome_nefrotica Clinica_sindrome_nefrotica_cortico-dependente  \\\n",
       "0                        NaN                                           NaN   \n",
       "1                        NaN                                           NaN   \n",
       "2                        NaN                                           NaN   \n",
       "3                        NaN                                           NaN   \n",
       "4                        NaN                                           NaN   \n",
       "\n",
       "  Clinica_sindrome_nefrotica_cortico-resistente  \n",
       "0                                           NaN  \n",
       "1                                           NaN  \n",
       "2                                           NaN  \n",
       "3                                           NaN  \n",
       "4                                           NaN  \n",
       "\n",
       "[5 rows x 33 columns]"
      ]
     },
     "execution_count": 395,
     "metadata": {},
     "output_type": "execute_result"
    }
   ],
   "source": [
    "df_30 = pd.DataFrame(index = indices, columns = Clinica)\n",
    "df_30.head()"
   ]
  },
  {
   "cell_type": "code",
   "execution_count": 396,
   "metadata": {},
   "outputs": [
    {
     "data": {
      "text/plain": [
       "array(['Insuficiência renal aguda', 'anasarca e dispnéia',\n",
       "       'diabetes e proteinúria', 'diabético e síndrome nefrótica',\n",
       "       'doença de fabry', 'eclâmpsia e choque hipovolêmico', 'edema',\n",
       "       'edema e proteinúria',\n",
       "       'edema oligúria escarros hemoptóicos e hematúria',\n",
       "       'edema persistente associado a hematúria e hipertensão',\n",
       "       'hematúria', 'hematúria proteinúria',\n",
       "       'hipertensão diabetes e piora de função renal',\n",
       "       'hipertensão e diabetes', 'hipertensão e proteinúria',\n",
       "       'hipocalemia e elevação de escórias', 'lúpus',\n",
       "       'lúpus anasarca e proteinúria', 'lúpus hematúria e oligúria',\n",
       "       'lúpus insuficiência renal algua', 'proteinúria',\n",
       "       'proteinúria e hematúria', 'proteinúria hematúria',\n",
       "       'proteinúria hematúria consumo de complemento',\n",
       "       'proteinúria hematúria e alteração cardíaca',\n",
       "       'proteinúria hematúria e insuficiência renal crônica',\n",
       "       'proteinúria nefrótica', 'síndrome nefrítica',\n",
       "       'síndrome nefrítica-nefrótica', 'síndrome nefrítico-nefrótica',\n",
       "       'síndrome nefrótica', 'síndrome nefrótica córtico-dependente',\n",
       "       'síndrome nefrótica córtico-resistente'], dtype=object)"
      ]
     },
     "execution_count": 396,
     "metadata": {},
     "output_type": "execute_result"
    }
   ],
   "source": [
    "np.unique(base_01['Clínica'])"
   ]
  },
  {
   "cell_type": "code",
   "execution_count": 397,
   "metadata": {},
   "outputs": [
    {
     "data": {
      "text/plain": [
       "Index(['Clinica_Insuficiencia_renal_aguda', 'Clinica_anasarca_e_dispneia',\n",
       "       'Clinica_diabetes_e_proteinuria',\n",
       "       'Clinica_diabetico_e_sindrome_nefrotica', 'Clinica_doenca_de_fabry',\n",
       "       'Clinica_eclampsia_e_choque_hipovolemico', 'Clinica_edema',\n",
       "       'Clinica_edema_e_proteinuria',\n",
       "       'Clinica_edema_oliguria_escarros_hemoptoicos_e_hematuria',\n",
       "       'Clinica_edema_persistente_associado_a_hematuria_e_hipertensao',\n",
       "       'Clinica_hematuria', 'Clinica_hematuria_proteinuria',\n",
       "       'Clinica_hipertensao_diabetes_e_piora_de_funcao_renal',\n",
       "       'Clinica_hipertensao_e_diabetes', 'Clinica_hipertensão_e_proteinuria',\n",
       "       'Clinica_hipocalemia_e_elevacao_de_escorias', 'Clinica_lupus',\n",
       "       'Clinica_lupus_anasarca_e_proteinuria',\n",
       "       'Clinica_lupus_hematuria_e_oliguria',\n",
       "       'Clinica_lupus_insuficiencia_renal_algua', 'Clinica_proteinuria',\n",
       "       'Clinica_proteinuria_e_hematuria', 'Clinica_proteinuria_hematuria',\n",
       "       'Clinica_proteinuria_hematuria_consumo_de_complemento',\n",
       "       'Clinica_proteinuria_hematuria_e_alteracao_cardiaca',\n",
       "       'Clinica_proteinuria_hematuria_e_insuficiencia_renal_cronica',\n",
       "       'Clinica_proteinuria_nefrotica', 'Clinica_sindrome_nefrítica',\n",
       "       'Clinica_sindrome_nefritica-nefrotica',\n",
       "       'Clinica_sindrome_nefritico-nefrotica', 'Clinica_sindrome_nefrotica',\n",
       "       'Clinica_sindrome_nefrotica_cortico-dependente',\n",
       "       'Clinica_sindrome_nefrotica_cortico-resistente'],\n",
       "      dtype='object')"
      ]
     },
     "execution_count": 397,
     "metadata": {},
     "output_type": "execute_result"
    }
   ],
   "source": [
    "df_30.columns"
   ]
  },
  {
   "cell_type": "code",
   "execution_count": 398,
   "metadata": {},
   "outputs": [],
   "source": [
    "def preencher30(coluna, i):\n",
    "    if coluna[i] == 'Insuficiência renal aguda':\n",
    "        df_30['Clinica_Insuficiencia_renal_aguda'][i]                             = 1\n",
    "        df_30['Clinica_anasarca_e_dispneia'][i]                                   = 0\n",
    "        df_30['Clinica_diabetes_e_proteinuria'][i]                                = 0\n",
    "        df_30['Clinica_diabetico_e_sindrome_nefrotica'][i]                        = 0\n",
    "        df_30['Clinica_doenca_de_fabry'][i]                                       = 0\n",
    "        df_30['Clinica_eclampsia_e_choque_hipovolemico'][i]                       = 0\n",
    "        df_30['Clinica_edema'][i]                                                 = 0\n",
    "        df_30['Clinica_edema_e_proteinuria'][i]                                   = 0\n",
    "        df_30['Clinica_edema_oliguria_escarros_hemoptoicos_e_hematuria'][i]       = 0\n",
    "        df_30['Clinica_edema_persistente_associado_a_hematuria_e_hipertensao'][i] = 0\n",
    "        df_30['Clinica_hematuria'][i]                                             = 0\n",
    "        df_30['Clinica_hematuria_proteinuria'][i]                                 = 0\n",
    "        df_30['Clinica_hipertensao_diabetes_e_piora_de_funcao_renal'][i]          = 0\n",
    "        df_30['Clinica_hipertensao_e_diabetes'][i]                                = 0\n",
    "        df_30['Clinica_hipertensão_e_proteinuria'][i]                             = 0\n",
    "        df_30['Clinica_hipocalemia_e_elevacao_de_escorias'][i]                    = 0\n",
    "        df_30['Clinica_lupus'][i]                                                 = 0\n",
    "        df_30['Clinica_lupus_anasarca_e_proteinuria'][i]                          = 0\n",
    "        df_30['Clinica_lupus_hematuria_e_oliguria'][i]                            = 0\n",
    "        df_30['Clinica_lupus_insuficiencia_renal_algua'][i]                       = 0\n",
    "        df_30['Clinica_proteinuria'][i]                                           = 0\n",
    "        df_30['Clinica_proteinuria_e_hematuria'][i]                               = 0\n",
    "        df_30['Clinica_proteinuria_hematuria'][i]                                 = 0\n",
    "        df_30['Clinica_proteinuria_hematuria_consumo_de_complemento'][i]          = 0\n",
    "        df_30['Clinica_proteinuria_hematuria_e_alteracao_cardiaca'][i]            = 0\n",
    "        df_30['Clinica_proteinuria_hematuria_e_insuficiencia_renal_cronica'][i]   = 0\n",
    "        df_30['Clinica_proteinuria_nefrotica'][i]                                 = 0\n",
    "        df_30['Clinica_sindrome_nefrítica'][i]                                    = 0\n",
    "        df_30['Clinica_sindrome_nefritica-nefrotica'][i]                          = 0\n",
    "        df_30['Clinica_sindrome_nefritico-nefrotica'][i]                          = 0\n",
    "        df_30['Clinica_sindrome_nefrotica'][i]                                    = 0\n",
    "        df_30['Clinica_sindrome_nefrotica_cortico-dependente'][i]                 = 0\n",
    "        df_30['Clinica_sindrome_nefrotica_cortico-resistente'][i]                 = 0\n",
    "    elif coluna[i] == 'anasarca e dispnéia':\n",
    "        df_30['Clinica_Insuficiencia_renal_aguda'][i]                             = 0\n",
    "        df_30['Clinica_anasarca_e_dispneia'][i]                                   = 1\n",
    "        df_30['Clinica_diabetes_e_proteinuria'][i]                                = 0\n",
    "        df_30['Clinica_diabetico_e_sindrome_nefrotica'][i]                        = 0\n",
    "        df_30['Clinica_doenca_de_fabry'][i]                                       = 0\n",
    "        df_30['Clinica_eclampsia_e_choque_hipovolemico'][i]                       = 0\n",
    "        df_30['Clinica_edema'][i]                                                 = 0\n",
    "        df_30['Clinica_edema_e_proteinuria'][i]                                   = 0\n",
    "        df_30['Clinica_edema_oliguria_escarros_hemoptoicos_e_hematuria'][i]       = 0\n",
    "        df_30['Clinica_edema_persistente_associado_a_hematuria_e_hipertensao'][i] = 0\n",
    "        df_30['Clinica_hematuria'][i]                                             = 0\n",
    "        df_30['Clinica_hematuria_proteinuria'][i]                                 = 0\n",
    "        df_30['Clinica_hipertensao_diabetes_e_piora_de_funcao_renal'][i]          = 0\n",
    "        df_30['Clinica_hipertensao_e_diabetes'][i]                                = 0\n",
    "        df_30['Clinica_hipertensão_e_proteinuria'][i]                             = 0\n",
    "        df_30['Clinica_hipocalemia_e_elevacao_de_escorias'][i]                    = 0\n",
    "        df_30['Clinica_lupus'][i]                                                 = 0\n",
    "        df_30['Clinica_lupus_anasarca_e_proteinuria'][i]                          = 0\n",
    "        df_30['Clinica_lupus_hematuria_e_oliguria'][i]                            = 0\n",
    "        df_30['Clinica_lupus_insuficiencia_renal_algua'][i]                       = 0\n",
    "        df_30['Clinica_proteinuria'][i]                                           = 0\n",
    "        df_30['Clinica_proteinuria_e_hematuria'][i]                               = 0\n",
    "        df_30['Clinica_proteinuria_hematuria'][i]                                 = 0\n",
    "        df_30['Clinica_proteinuria_hematuria_consumo_de_complemento'][i]          = 0\n",
    "        df_30['Clinica_proteinuria_hematuria_e_alteracao_cardiaca'][i]            = 0\n",
    "        df_30['Clinica_proteinuria_hematuria_e_insuficiencia_renal_cronica'][i]   = 0\n",
    "        df_30['Clinica_proteinuria_nefrotica'][i]                                 = 0\n",
    "        df_30['Clinica_sindrome_nefrítica'][i]                                    = 0\n",
    "        df_30['Clinica_sindrome_nefritica-nefrotica'][i]                          = 0\n",
    "        df_30['Clinica_sindrome_nefritico-nefrotica'][i]                          = 0\n",
    "        df_30['Clinica_sindrome_nefrotica'][i]                                    = 0\n",
    "        df_30['Clinica_sindrome_nefrotica_cortico-dependente'][i]                 = 0\n",
    "        df_30['Clinica_sindrome_nefrotica_cortico-resistente'][i]                 = 0\n",
    "    elif coluna[i] == 'diabetes e proteinúria':\n",
    "        df_30['Clinica_Insuficiencia_renal_aguda'][i]                             = 0\n",
    "        df_30['Clinica_anasarca_e_dispneia'][i]                                   = 0\n",
    "        df_30['Clinica_diabetes_e_proteinuria'][i]                                = 1\n",
    "        df_30['Clinica_diabetico_e_sindrome_nefrotica'][i]                        = 0\n",
    "        df_30['Clinica_doenca_de_fabry'][i]                                       = 0\n",
    "        df_30['Clinica_eclampsia_e_choque_hipovolemico'][i]                       = 0\n",
    "        df_30['Clinica_edema'][i]                                                 = 0\n",
    "        df_30['Clinica_edema_e_proteinuria'][i]                                   = 0\n",
    "        df_30['Clinica_edema_oliguria_escarros_hemoptoicos_e_hematuria'][i]       = 0\n",
    "        df_30['Clinica_edema_persistente_associado_a_hematuria_e_hipertensao'][i] = 0\n",
    "        df_30['Clinica_hematuria'][i]                                             = 0\n",
    "        df_30['Clinica_hematuria_proteinuria'][i]                                 = 0\n",
    "        df_30['Clinica_hipertensao_diabetes_e_piora_de_funcao_renal'][i]          = 0\n",
    "        df_30['Clinica_hipertensao_e_diabetes'][i]                                = 0\n",
    "        df_30['Clinica_hipertensão_e_proteinuria'][i]                             = 0\n",
    "        df_30['Clinica_hipocalemia_e_elevacao_de_escorias'][i]                    = 0\n",
    "        df_30['Clinica_lupus'][i]                                                 = 0\n",
    "        df_30['Clinica_lupus_anasarca_e_proteinuria'][i]                          = 0\n",
    "        df_30['Clinica_lupus_hematuria_e_oliguria'][i]                            = 0\n",
    "        df_30['Clinica_lupus_insuficiencia_renal_algua'][i]                       = 0\n",
    "        df_30['Clinica_proteinuria'][i]                                           = 0\n",
    "        df_30['Clinica_proteinuria_e_hematuria'][i]                               = 0\n",
    "        df_30['Clinica_proteinuria_hematuria'][i]                                 = 0\n",
    "        df_30['Clinica_proteinuria_hematuria_consumo_de_complemento'][i]          = 0\n",
    "        df_30['Clinica_proteinuria_hematuria_e_alteracao_cardiaca'][i]            = 0\n",
    "        df_30['Clinica_proteinuria_hematuria_e_insuficiencia_renal_cronica'][i]   = 0\n",
    "        df_30['Clinica_proteinuria_nefrotica'][i]                                 = 0\n",
    "        df_30['Clinica_sindrome_nefrítica'][i]                                    = 0\n",
    "        df_30['Clinica_sindrome_nefritica-nefrotica'][i]                          = 0\n",
    "        df_30['Clinica_sindrome_nefritico-nefrotica'][i]                          = 0\n",
    "        df_30['Clinica_sindrome_nefrotica'][i]                                    = 0\n",
    "        df_30['Clinica_sindrome_nefrotica_cortico-dependente'][i]                 = 0\n",
    "        df_30['Clinica_sindrome_nefrotica_cortico-resistente'][i]                 = 0\n",
    "    elif coluna[i] == 'diabético e síndrome nefrótica':\n",
    "        df_30['Clinica_Insuficiencia_renal_aguda'][i]                             = 0\n",
    "        df_30['Clinica_anasarca_e_dispneia'][i]                                   = 0\n",
    "        df_30['Clinica_diabetes_e_proteinuria'][i]                                = 0\n",
    "        df_30['Clinica_diabetico_e_sindrome_nefrotica'][i]                        = 1\n",
    "        df_30['Clinica_doenca_de_fabry'][i]                                       = 0\n",
    "        df_30['Clinica_eclampsia_e_choque_hipovolemico'][i]                       = 0\n",
    "        df_30['Clinica_edema'][i]                                                 = 0\n",
    "        df_30['Clinica_edema_e_proteinuria'][i]                                   = 0\n",
    "        df_30['Clinica_edema_oliguria_escarros_hemoptoicos_e_hematuria'][i]       = 0\n",
    "        df_30['Clinica_edema_persistente_associado_a_hematuria_e_hipertensao'][i] = 0\n",
    "        df_30['Clinica_hematuria'][i]                                             = 0\n",
    "        df_30['Clinica_hematuria_proteinuria'][i]                                 = 0\n",
    "        df_30['Clinica_hipertensao_diabetes_e_piora_de_funcao_renal'][i]          = 0\n",
    "        df_30['Clinica_hipertensao_e_diabetes'][i]                                = 0\n",
    "        df_30['Clinica_hipertensão_e_proteinuria'][i]                             = 0\n",
    "        df_30['Clinica_hipocalemia_e_elevacao_de_escorias'][i]                    = 0\n",
    "        df_30['Clinica_lupus'][i]                                                 = 0\n",
    "        df_30['Clinica_lupus_anasarca_e_proteinuria'][i]                          = 0\n",
    "        df_30['Clinica_lupus_hematuria_e_oliguria'][i]                            = 0\n",
    "        df_30['Clinica_lupus_insuficiencia_renal_algua'][i]                       = 0\n",
    "        df_30['Clinica_proteinuria'][i]                                           = 0\n",
    "        df_30['Clinica_proteinuria_e_hematuria'][i]                               = 0\n",
    "        df_30['Clinica_proteinuria_hematuria'][i]                                 = 0\n",
    "        df_30['Clinica_proteinuria_hematuria_consumo_de_complemento'][i]          = 0\n",
    "        df_30['Clinica_proteinuria_hematuria_e_alteracao_cardiaca'][i]            = 0\n",
    "        df_30['Clinica_proteinuria_hematuria_e_insuficiencia_renal_cronica'][i]   = 0\n",
    "        df_30['Clinica_proteinuria_nefrotica'][i]                                 = 0\n",
    "        df_30['Clinica_sindrome_nefrítica'][i]                                    = 0\n",
    "        df_30['Clinica_sindrome_nefritica-nefrotica'][i]                          = 0\n",
    "        df_30['Clinica_sindrome_nefritico-nefrotica'][i]                          = 0\n",
    "        df_30['Clinica_sindrome_nefrotica'][i]                                    = 0\n",
    "        df_30['Clinica_sindrome_nefrotica_cortico-dependente'][i]                 = 0\n",
    "        df_30['Clinica_sindrome_nefrotica_cortico-resistente'][i]                 = 0\n",
    "    elif coluna[i] == 'doença de fabry':\n",
    "        df_30['Clinica_Insuficiencia_renal_aguda'][i]                             = 0\n",
    "        df_30['Clinica_anasarca_e_dispneia'][i]                                   = 0\n",
    "        df_30['Clinica_diabetes_e_proteinuria'][i]                                = 0\n",
    "        df_30['Clinica_diabetico_e_sindrome_nefrotica'][i]                        = 0\n",
    "        df_30['Clinica_doenca_de_fabry'][i]                                       = 1\n",
    "        df_30['Clinica_eclampsia_e_choque_hipovolemico'][i]                       = 0\n",
    "        df_30['Clinica_edema'][i]                                                 = 0\n",
    "        df_30['Clinica_edema_e_proteinuria'][i]                                   = 0\n",
    "        df_30['Clinica_edema_oliguria_escarros_hemoptoicos_e_hematuria'][i]       = 0\n",
    "        df_30['Clinica_edema_persistente_associado_a_hematuria_e_hipertensao'][i] = 0\n",
    "        df_30['Clinica_hematuria'][i]                                             = 0\n",
    "        df_30['Clinica_hematuria_proteinuria'][i]                                 = 0\n",
    "        df_30['Clinica_hipertensao_diabetes_e_piora_de_funcao_renal'][i]          = 0\n",
    "        df_30['Clinica_hipertensao_e_diabetes'][i]                                = 0\n",
    "        df_30['Clinica_hipertensão_e_proteinuria'][i]                             = 0\n",
    "        df_30['Clinica_hipocalemia_e_elevacao_de_escorias'][i]                    = 0\n",
    "        df_30['Clinica_lupus'][i]                                                 = 0\n",
    "        df_30['Clinica_lupus_anasarca_e_proteinuria'][i]                          = 0\n",
    "        df_30['Clinica_lupus_hematuria_e_oliguria'][i]                            = 0\n",
    "        df_30['Clinica_lupus_insuficiencia_renal_algua'][i]                       = 0\n",
    "        df_30['Clinica_proteinuria'][i]                                           = 0\n",
    "        df_30['Clinica_proteinuria_e_hematuria'][i]                               = 0\n",
    "        df_30['Clinica_proteinuria_hematuria'][i]                                 = 0\n",
    "        df_30['Clinica_proteinuria_hematuria_consumo_de_complemento'][i]          = 0\n",
    "        df_30['Clinica_proteinuria_hematuria_e_alteracao_cardiaca'][i]            = 0\n",
    "        df_30['Clinica_proteinuria_hematuria_e_insuficiencia_renal_cronica'][i]   = 0\n",
    "        df_30['Clinica_proteinuria_nefrotica'][i]                                 = 0\n",
    "        df_30['Clinica_sindrome_nefrítica'][i]                                    = 0\n",
    "        df_30['Clinica_sindrome_nefritica-nefrotica'][i]                          = 0\n",
    "        df_30['Clinica_sindrome_nefritico-nefrotica'][i]                          = 0\n",
    "        df_30['Clinica_sindrome_nefrotica'][i]                                    = 0\n",
    "        df_30['Clinica_sindrome_nefrotica_cortico-dependente'][i]                 = 0\n",
    "        df_30['Clinica_sindrome_nefrotica_cortico-resistente'][i]                 = 0\n",
    "    elif coluna[i] == 'eclâmpsia e choque hipovolêmico':\n",
    "        df_30['Clinica_Insuficiencia_renal_aguda'][i]                             = 0\n",
    "        df_30['Clinica_anasarca_e_dispneia'][i]                                   = 0\n",
    "        df_30['Clinica_diabetes_e_proteinuria'][i]                                = 0\n",
    "        df_30['Clinica_diabetico_e_sindrome_nefrotica'][i]                        = 0\n",
    "        df_30['Clinica_doenca_de_fabry'][i]                                       = 0\n",
    "        df_30['Clinica_eclampsia_e_choque_hipovolemico'][i]                       = 1\n",
    "        df_30['Clinica_edema'][i]                                                 = 0\n",
    "        df_30['Clinica_edema_e_proteinuria'][i]                                   = 0\n",
    "        df_30['Clinica_edema_oliguria_escarros_hemoptoicos_e_hematuria'][i]       = 0\n",
    "        df_30['Clinica_edema_persistente_associado_a_hematuria_e_hipertensao'][i] = 0\n",
    "        df_30['Clinica_hematuria'][i]                                             = 0\n",
    "        df_30['Clinica_hematuria_proteinuria'][i]                                 = 0\n",
    "        df_30['Clinica_hipertensao_diabetes_e_piora_de_funcao_renal'][i]          = 0\n",
    "        df_30['Clinica_hipertensao_e_diabetes'][i]                                = 0\n",
    "        df_30['Clinica_hipertensão_e_proteinuria'][i]                             = 0\n",
    "        df_30['Clinica_hipocalemia_e_elevacao_de_escorias'][i]                    = 0\n",
    "        df_30['Clinica_lupus'][i]                                                 = 0\n",
    "        df_30['Clinica_lupus_anasarca_e_proteinuria'][i]                          = 0\n",
    "        df_30['Clinica_lupus_hematuria_e_oliguria'][i]                            = 0\n",
    "        df_30['Clinica_lupus_insuficiencia_renal_algua'][i]                       = 0\n",
    "        df_30['Clinica_proteinuria'][i]                                           = 0\n",
    "        df_30['Clinica_proteinuria_e_hematuria'][i]                               = 0\n",
    "        df_30['Clinica_proteinuria_hematuria'][i]                                 = 0\n",
    "        df_30['Clinica_proteinuria_hematuria_consumo_de_complemento'][i]          = 0\n",
    "        df_30['Clinica_proteinuria_hematuria_e_alteracao_cardiaca'][i]            = 0\n",
    "        df_30['Clinica_proteinuria_hematuria_e_insuficiencia_renal_cronica'][i]   = 0\n",
    "        df_30['Clinica_proteinuria_nefrotica'][i]                                 = 0\n",
    "        df_30['Clinica_sindrome_nefrítica'][i]                                    = 0\n",
    "        df_30['Clinica_sindrome_nefritica-nefrotica'][i]                          = 0\n",
    "        df_30['Clinica_sindrome_nefritico-nefrotica'][i]                          = 0\n",
    "        df_30['Clinica_sindrome_nefrotica'][i]                                    = 0\n",
    "        df_30['Clinica_sindrome_nefrotica_cortico-dependente'][i]                 = 0\n",
    "        df_30['Clinica_sindrome_nefrotica_cortico-resistente'][i]                 = 0\n",
    "    elif coluna[i] == 'edema':\n",
    "        df_30['Clinica_Insuficiencia_renal_aguda'][i]                             = 0\n",
    "        df_30['Clinica_anasarca_e_dispneia'][i]                                   = 0\n",
    "        df_30['Clinica_diabetes_e_proteinuria'][i]                                = 0\n",
    "        df_30['Clinica_diabetico_e_sindrome_nefrotica'][i]                        = 0\n",
    "        df_30['Clinica_doenca_de_fabry'][i]                                       = 0\n",
    "        df_30['Clinica_eclampsia_e_choque_hipovolemico'][i]                       = 0\n",
    "        df_30['Clinica_edema'][i]                                                 = 1\n",
    "        df_30['Clinica_edema_e_proteinuria'][i]                                   = 0\n",
    "        df_30['Clinica_edema_oliguria_escarros_hemoptoicos_e_hematuria'][i]       = 0\n",
    "        df_30['Clinica_edema_persistente_associado_a_hematuria_e_hipertensao'][i] = 0\n",
    "        df_30['Clinica_hematuria'][i]                                             = 0\n",
    "        df_30['Clinica_hematuria_proteinuria'][i]                                 = 0\n",
    "        df_30['Clinica_hipertensao_diabetes_e_piora_de_funcao_renal'][i]          = 0\n",
    "        df_30['Clinica_hipertensao_e_diabetes'][i]                                = 0\n",
    "        df_30['Clinica_hipertensão_e_proteinuria'][i]                             = 0\n",
    "        df_30['Clinica_hipocalemia_e_elevacao_de_escorias'][i]                    = 0\n",
    "        df_30['Clinica_lupus'][i]                                                 = 0\n",
    "        df_30['Clinica_lupus_anasarca_e_proteinuria'][i]                          = 0\n",
    "        df_30['Clinica_lupus_hematuria_e_oliguria'][i]                            = 0\n",
    "        df_30['Clinica_lupus_insuficiencia_renal_algua'][i]                       = 0\n",
    "        df_30['Clinica_proteinuria'][i]                                           = 0\n",
    "        df_30['Clinica_proteinuria_e_hematuria'][i]                               = 0\n",
    "        df_30['Clinica_proteinuria_hematuria'][i]                                 = 0\n",
    "        df_30['Clinica_proteinuria_hematuria_consumo_de_complemento'][i]          = 0\n",
    "        df_30['Clinica_proteinuria_hematuria_e_alteracao_cardiaca'][i]            = 0\n",
    "        df_30['Clinica_proteinuria_hematuria_e_insuficiencia_renal_cronica'][i]   = 0\n",
    "        df_30['Clinica_proteinuria_nefrotica'][i]                                 = 0\n",
    "        df_30['Clinica_sindrome_nefrítica'][i]                                    = 0\n",
    "        df_30['Clinica_sindrome_nefritica-nefrotica'][i]                          = 0\n",
    "        df_30['Clinica_sindrome_nefritico-nefrotica'][i]                          = 0\n",
    "        df_30['Clinica_sindrome_nefrotica'][i]                                    = 0\n",
    "        df_30['Clinica_sindrome_nefrotica_cortico-dependente'][i]                 = 0\n",
    "        df_30['Clinica_sindrome_nefrotica_cortico-resistente'][i]                 = 0\n",
    "    elif coluna[i] == 'edema e proteinúria':\n",
    "        df_30['Clinica_Insuficiencia_renal_aguda'][i]                             = 0\n",
    "        df_30['Clinica_anasarca_e_dispneia'][i]                                   = 0\n",
    "        df_30['Clinica_diabetes_e_proteinuria'][i]                                = 0\n",
    "        df_30['Clinica_diabetico_e_sindrome_nefrotica'][i]                        = 0\n",
    "        df_30['Clinica_doenca_de_fabry'][i]                                       = 0\n",
    "        df_30['Clinica_eclampsia_e_choque_hipovolemico'][i]                       = 0\n",
    "        df_30['Clinica_edema'][i]                                                 = 0\n",
    "        df_30['Clinica_edema_e_proteinuria'][i]                                   = 1\n",
    "        df_30['Clinica_edema_oliguria_escarros_hemoptoicos_e_hematuria'][i]       = 0\n",
    "        df_30['Clinica_edema_persistente_associado_a_hematuria_e_hipertensao'][i] = 0\n",
    "        df_30['Clinica_hematuria'][i]                                             = 0\n",
    "        df_30['Clinica_hematuria_proteinuria'][i]                                 = 0\n",
    "        df_30['Clinica_hipertensao_diabetes_e_piora_de_funcao_renal'][i]          = 0\n",
    "        df_30['Clinica_hipertensao_e_diabetes'][i]                                = 0\n",
    "        df_30['Clinica_hipertensão_e_proteinuria'][i]                             = 0\n",
    "        df_30['Clinica_hipocalemia_e_elevacao_de_escorias'][i]                    = 0\n",
    "        df_30['Clinica_lupus'][i]                                                 = 0\n",
    "        df_30['Clinica_lupus_anasarca_e_proteinuria'][i]                          = 0\n",
    "        df_30['Clinica_lupus_hematuria_e_oliguria'][i]                            = 0\n",
    "        df_30['Clinica_lupus_insuficiencia_renal_algua'][i]                       = 0\n",
    "        df_30['Clinica_proteinuria'][i]                                           = 0\n",
    "        df_30['Clinica_proteinuria_e_hematuria'][i]                               = 0\n",
    "        df_30['Clinica_proteinuria_hematuria'][i]                                 = 0\n",
    "        df_30['Clinica_proteinuria_hematuria_consumo_de_complemento'][i]          = 0\n",
    "        df_30['Clinica_proteinuria_hematuria_e_alteracao_cardiaca'][i]            = 0\n",
    "        df_30['Clinica_proteinuria_hematuria_e_insuficiencia_renal_cronica'][i]   = 0\n",
    "        df_30['Clinica_proteinuria_nefrotica'][i]                                 = 0\n",
    "        df_30['Clinica_sindrome_nefrítica'][i]                                    = 0\n",
    "        df_30['Clinica_sindrome_nefritica-nefrotica'][i]                          = 0\n",
    "        df_30['Clinica_sindrome_nefritico-nefrotica'][i]                          = 0\n",
    "        df_30['Clinica_sindrome_nefrotica'][i]                                    = 0\n",
    "        df_30['Clinica_sindrome_nefrotica_cortico-dependente'][i]                 = 0\n",
    "        df_30['Clinica_sindrome_nefrotica_cortico-resistente'][i]                 = 0\n",
    "    elif coluna[i] == 'edema oligúria escarros hemoptóicos e hematúria':\n",
    "        df_30['Clinica_Insuficiencia_renal_aguda'][i]                             = 0\n",
    "        df_30['Clinica_anasarca_e_dispneia'][i]                                   = 0\n",
    "        df_30['Clinica_diabetes_e_proteinuria'][i]                                = 0\n",
    "        df_30['Clinica_diabetico_e_sindrome_nefrotica'][i]                        = 0\n",
    "        df_30['Clinica_doenca_de_fabry'][i]                                       = 0\n",
    "        df_30['Clinica_eclampsia_e_choque_hipovolemico'][i]                       = 0\n",
    "        df_30['Clinica_edema'][i]                                                 = 0\n",
    "        df_30['Clinica_edema_e_proteinuria'][i]                                   = 0\n",
    "        df_30['Clinica_edema_oliguria_escarros_hemoptoicos_e_hematuria'][i]       = 1\n",
    "        df_30['Clinica_edema_persistente_associado_a_hematuria_e_hipertensao'][i] = 0\n",
    "        df_30['Clinica_hematuria'][i]                                             = 0\n",
    "        df_30['Clinica_hematuria_proteinuria'][i]                                 = 0\n",
    "        df_30['Clinica_hipertensao_diabetes_e_piora_de_funcao_renal'][i]          = 0\n",
    "        df_30['Clinica_hipertensao_e_diabetes'][i]                                = 0\n",
    "        df_30['Clinica_hipertensão_e_proteinuria'][i]                             = 0\n",
    "        df_30['Clinica_hipocalemia_e_elevacao_de_escorias'][i]                    = 0\n",
    "        df_30['Clinica_lupus'][i]                                                 = 0\n",
    "        df_30['Clinica_lupus_anasarca_e_proteinuria'][i]                          = 0\n",
    "        df_30['Clinica_lupus_hematuria_e_oliguria'][i]                            = 0\n",
    "        df_30['Clinica_lupus_insuficiencia_renal_algua'][i]                       = 0\n",
    "        df_30['Clinica_proteinuria'][i]                                           = 0\n",
    "        df_30['Clinica_proteinuria_e_hematuria'][i]                               = 0\n",
    "        df_30['Clinica_proteinuria_hematuria'][i]                                 = 0\n",
    "        df_30['Clinica_proteinuria_hematuria_consumo_de_complemento'][i]          = 0\n",
    "        df_30['Clinica_proteinuria_hematuria_e_alteracao_cardiaca'][i]            = 0\n",
    "        df_30['Clinica_proteinuria_hematuria_e_insuficiencia_renal_cronica'][i]   = 0\n",
    "        df_30['Clinica_proteinuria_nefrotica'][i]                                 = 0\n",
    "        df_30['Clinica_sindrome_nefrítica'][i]                                    = 0\n",
    "        df_30['Clinica_sindrome_nefritica-nefrotica'][i]                          = 0\n",
    "        df_30['Clinica_sindrome_nefritico-nefrotica'][i]                          = 0\n",
    "        df_30['Clinica_sindrome_nefrotica'][i]                                    = 0\n",
    "        df_30['Clinica_sindrome_nefrotica_cortico-dependente'][i]                 = 0\n",
    "        df_30['Clinica_sindrome_nefrotica_cortico-resistente'][i]                 = 0\n",
    "    elif coluna[i] == 'edema persistente associado a hematúria e hipertensão':\n",
    "        df_30['Clinica_Insuficiencia_renal_aguda'][i]                             = 0\n",
    "        df_30['Clinica_anasarca_e_dispneia'][i]                                   = 0\n",
    "        df_30['Clinica_diabetes_e_proteinuria'][i]                                = 0\n",
    "        df_30['Clinica_diabetico_e_sindrome_nefrotica'][i]                        = 0\n",
    "        df_30['Clinica_doenca_de_fabry'][i]                                       = 0\n",
    "        df_30['Clinica_eclampsia_e_choque_hipovolemico'][i]                       = 0\n",
    "        df_30['Clinica_edema'][i]                                                 = 0\n",
    "        df_30['Clinica_edema_e_proteinuria'][i]                                   = 0\n",
    "        df_30['Clinica_edema_oliguria_escarros_hemoptoicos_e_hematuria'][i]       = 0\n",
    "        df_30['Clinica_edema_persistente_associado_a_hematuria_e_hipertensao'][i] = 1\n",
    "        df_30['Clinica_hematuria'][i]                                             = 0\n",
    "        df_30['Clinica_hematuria_proteinuria'][i]                                 = 0\n",
    "        df_30['Clinica_hipertensao_diabetes_e_piora_de_funcao_renal'][i]          = 0\n",
    "        df_30['Clinica_hipertensao_e_diabetes'][i]                                = 0\n",
    "        df_30['Clinica_hipertensão_e_proteinuria'][i]                             = 0\n",
    "        df_30['Clinica_hipocalemia_e_elevacao_de_escorias'][i]                    = 0\n",
    "        df_30['Clinica_lupus'][i]                                                 = 0\n",
    "        df_30['Clinica_lupus_anasarca_e_proteinuria'][i]                          = 0\n",
    "        df_30['Clinica_lupus_hematuria_e_oliguria'][i]                            = 0\n",
    "        df_30['Clinica_lupus_insuficiencia_renal_algua'][i]                       = 0\n",
    "        df_30['Clinica_proteinuria'][i]                                           = 0\n",
    "        df_30['Clinica_proteinuria_e_hematuria'][i]                               = 0\n",
    "        df_30['Clinica_proteinuria_hematuria'][i]                                 = 0\n",
    "        df_30['Clinica_proteinuria_hematuria_consumo_de_complemento'][i]          = 0\n",
    "        df_30['Clinica_proteinuria_hematuria_e_alteracao_cardiaca'][i]            = 0\n",
    "        df_30['Clinica_proteinuria_hematuria_e_insuficiencia_renal_cronica'][i]   = 0\n",
    "        df_30['Clinica_proteinuria_nefrotica'][i]                                 = 0\n",
    "        df_30['Clinica_sindrome_nefrítica'][i]                                    = 0\n",
    "        df_30['Clinica_sindrome_nefritica-nefrotica'][i]                          = 0\n",
    "        df_30['Clinica_sindrome_nefritico-nefrotica'][i]                          = 0\n",
    "        df_30['Clinica_sindrome_nefrotica'][i]                                    = 0\n",
    "        df_30['Clinica_sindrome_nefrotica_cortico-dependente'][i]                 = 0\n",
    "        df_30['Clinica_sindrome_nefrotica_cortico-resistente'][i]                 = 0\n",
    "    elif coluna[i] == 'hematúria':\n",
    "        df_30['Clinica_Insuficiencia_renal_aguda'][i]                             = 0\n",
    "        df_30['Clinica_anasarca_e_dispneia'][i]                                   = 0\n",
    "        df_30['Clinica_diabetes_e_proteinuria'][i]                                = 0\n",
    "        df_30['Clinica_diabetico_e_sindrome_nefrotica'][i]                        = 0\n",
    "        df_30['Clinica_doenca_de_fabry'][i]                                       = 0\n",
    "        df_30['Clinica_eclampsia_e_choque_hipovolemico'][i]                       = 0\n",
    "        df_30['Clinica_edema'][i]                                                 = 0\n",
    "        df_30['Clinica_edema_e_proteinuria'][i]                                   = 0\n",
    "        df_30['Clinica_edema_oliguria_escarros_hemoptoicos_e_hematuria'][i]       = 0\n",
    "        df_30['Clinica_edema_persistente_associado_a_hematuria_e_hipertensao'][i] = 0\n",
    "        df_30['Clinica_hematuria'][i]                                             = 1\n",
    "        df_30['Clinica_hematuria_proteinuria'][i]                                 = 0\n",
    "        df_30['Clinica_hipertensao_diabetes_e_piora_de_funcao_renal'][i]          = 0\n",
    "        df_30['Clinica_hipertensao_e_diabetes'][i]                                = 0\n",
    "        df_30['Clinica_hipertensão_e_proteinuria'][i]                             = 0\n",
    "        df_30['Clinica_hipocalemia_e_elevacao_de_escorias'][i]                    = 0\n",
    "        df_30['Clinica_lupus'][i]                                                 = 0\n",
    "        df_30['Clinica_lupus_anasarca_e_proteinuria'][i]                          = 0\n",
    "        df_30['Clinica_lupus_hematuria_e_oliguria'][i]                            = 0\n",
    "        df_30['Clinica_lupus_insuficiencia_renal_algua'][i]                       = 0\n",
    "        df_30['Clinica_proteinuria'][i]                                           = 0\n",
    "        df_30['Clinica_proteinuria_e_hematuria'][i]                               = 0\n",
    "        df_30['Clinica_proteinuria_hematuria'][i]                                 = 0\n",
    "        df_30['Clinica_proteinuria_hematuria_consumo_de_complemento'][i]          = 0\n",
    "        df_30['Clinica_proteinuria_hematuria_e_alteracao_cardiaca'][i]            = 0\n",
    "        df_30['Clinica_proteinuria_hematuria_e_insuficiencia_renal_cronica'][i]   = 0\n",
    "        df_30['Clinica_proteinuria_nefrotica'][i]                                 = 0\n",
    "        df_30['Clinica_sindrome_nefrítica'][i]                                    = 0\n",
    "        df_30['Clinica_sindrome_nefritica-nefrotica'][i]                          = 0\n",
    "        df_30['Clinica_sindrome_nefritico-nefrotica'][i]                          = 0\n",
    "        df_30['Clinica_sindrome_nefrotica'][i]                                    = 0\n",
    "        df_30['Clinica_sindrome_nefrotica_cortico-dependente'][i]                 = 0\n",
    "        df_30['Clinica_sindrome_nefrotica_cortico-resistente'][i]                 = 0\n",
    "    elif coluna[i] == 'hematúria proteinúria':\n",
    "        df_30['Clinica_Insuficiencia_renal_aguda'][i]                             = 0\n",
    "        df_30['Clinica_anasarca_e_dispneia'][i]                                   = 0\n",
    "        df_30['Clinica_diabetes_e_proteinuria'][i]                                = 0\n",
    "        df_30['Clinica_diabetico_e_sindrome_nefrotica'][i]                        = 0\n",
    "        df_30['Clinica_doenca_de_fabry'][i]                                       = 0\n",
    "        df_30['Clinica_eclampsia_e_choque_hipovolemico'][i]                       = 0\n",
    "        df_30['Clinica_edema'][i]                                                 = 0\n",
    "        df_30['Clinica_edema_e_proteinuria'][i]                                   = 0\n",
    "        df_30['Clinica_edema_oliguria_escarros_hemoptoicos_e_hematuria'][i]       = 0\n",
    "        df_30['Clinica_edema_persistente_associado_a_hematuria_e_hipertensao'][i] = 0\n",
    "        df_30['Clinica_hematuria'][i]                                             = 0\n",
    "        df_30['Clinica_hematuria_proteinuria'][i]                                 = 1\n",
    "        df_30['Clinica_hipertensao_diabetes_e_piora_de_funcao_renal'][i]          = 0\n",
    "        df_30['Clinica_hipertensao_e_diabetes'][i]                                = 0\n",
    "        df_30['Clinica_hipertensão_e_proteinuria'][i]                             = 0\n",
    "        df_30['Clinica_hipocalemia_e_elevacao_de_escorias'][i]                    = 0\n",
    "        df_30['Clinica_lupus'][i]                                                 = 0\n",
    "        df_30['Clinica_lupus_anasarca_e_proteinuria'][i]                          = 0\n",
    "        df_30['Clinica_lupus_hematuria_e_oliguria'][i]                            = 0\n",
    "        df_30['Clinica_lupus_insuficiencia_renal_algua'][i]                       = 0\n",
    "        df_30['Clinica_proteinuria'][i]                                           = 0\n",
    "        df_30['Clinica_proteinuria_e_hematuria'][i]                               = 0\n",
    "        df_30['Clinica_proteinuria_hematuria'][i]                                 = 0\n",
    "        df_30['Clinica_proteinuria_hematuria_consumo_de_complemento'][i]          = 0\n",
    "        df_30['Clinica_proteinuria_hematuria_e_alteracao_cardiaca'][i]            = 0\n",
    "        df_30['Clinica_proteinuria_hematuria_e_insuficiencia_renal_cronica'][i]   = 0\n",
    "        df_30['Clinica_proteinuria_nefrotica'][i]                                 = 0\n",
    "        df_30['Clinica_sindrome_nefrítica'][i]                                    = 0\n",
    "        df_30['Clinica_sindrome_nefritica-nefrotica'][i]                          = 0\n",
    "        df_30['Clinica_sindrome_nefritico-nefrotica'][i]                          = 0\n",
    "        df_30['Clinica_sindrome_nefrotica'][i]                                    = 0\n",
    "        df_30['Clinica_sindrome_nefrotica_cortico-dependente'][i]                 = 0\n",
    "        df_30['Clinica_sindrome_nefrotica_cortico-resistente'][i]                 = 0\n",
    "    elif coluna[i] == 'hipertensão diabetes e piora de função renal':\n",
    "        df_30['Clinica_Insuficiencia_renal_aguda'][i]                             = 0\n",
    "        df_30['Clinica_anasarca_e_dispneia'][i]                                   = 0\n",
    "        df_30['Clinica_diabetes_e_proteinuria'][i]                                = 0\n",
    "        df_30['Clinica_diabetico_e_sindrome_nefrotica'][i]                        = 0\n",
    "        df_30['Clinica_doenca_de_fabry'][i]                                       = 0\n",
    "        df_30['Clinica_eclampsia_e_choque_hipovolemico'][i]                       = 0\n",
    "        df_30['Clinica_edema'][i]                                                 = 0\n",
    "        df_30['Clinica_edema_e_proteinuria'][i]                                   = 0\n",
    "        df_30['Clinica_edema_oliguria_escarros_hemoptoicos_e_hematuria'][i]       = 0\n",
    "        df_30['Clinica_edema_persistente_associado_a_hematuria_e_hipertensao'][i] = 0\n",
    "        df_30['Clinica_hematuria'][i]                                             = 0\n",
    "        df_30['Clinica_hematuria_proteinuria'][i]                                 = 0\n",
    "        df_30['Clinica_hipertensao_diabetes_e_piora_de_funcao_renal'][i]          = 1\n",
    "        df_30['Clinica_hipertensao_e_diabetes'][i]                                = 0\n",
    "        df_30['Clinica_hipertensão_e_proteinuria'][i]                             = 0\n",
    "        df_30['Clinica_hipocalemia_e_elevacao_de_escorias'][i]                    = 0\n",
    "        df_30['Clinica_lupus'][i]                                                 = 0\n",
    "        df_30['Clinica_lupus_anasarca_e_proteinuria'][i]                          = 0\n",
    "        df_30['Clinica_lupus_hematuria_e_oliguria'][i]                            = 0\n",
    "        df_30['Clinica_lupus_insuficiencia_renal_algua'][i]                       = 0\n",
    "        df_30['Clinica_proteinuria'][i]                                           = 0\n",
    "        df_30['Clinica_proteinuria_e_hematuria'][i]                               = 0\n",
    "        df_30['Clinica_proteinuria_hematuria'][i]                                 = 0\n",
    "        df_30['Clinica_proteinuria_hematuria_consumo_de_complemento'][i]          = 0\n",
    "        df_30['Clinica_proteinuria_hematuria_e_alteracao_cardiaca'][i]            = 0\n",
    "        df_30['Clinica_proteinuria_hematuria_e_insuficiencia_renal_cronica'][i]   = 0\n",
    "        df_30['Clinica_proteinuria_nefrotica'][i]                                 = 0\n",
    "        df_30['Clinica_sindrome_nefrítica'][i]                                    = 0\n",
    "        df_30['Clinica_sindrome_nefritica-nefrotica'][i]                          = 0\n",
    "        df_30['Clinica_sindrome_nefritico-nefrotica'][i]                          = 0\n",
    "        df_30['Clinica_sindrome_nefrotica'][i]                                    = 0\n",
    "        df_30['Clinica_sindrome_nefrotica_cortico-dependente'][i]                 = 0\n",
    "        df_30['Clinica_sindrome_nefrotica_cortico-resistente'][i]                 = 0\n",
    "    elif coluna[i] == 'hipertensão e diabetes':\n",
    "        df_30['Clinica_Insuficiencia_renal_aguda'][i]                             = 0\n",
    "        df_30['Clinica_anasarca_e_dispneia'][i]                                   = 0\n",
    "        df_30['Clinica_diabetes_e_proteinuria'][i]                                = 0\n",
    "        df_30['Clinica_diabetico_e_sindrome_nefrotica'][i]                        = 0\n",
    "        df_30['Clinica_doenca_de_fabry'][i]                                       = 0\n",
    "        df_30['Clinica_eclampsia_e_choque_hipovolemico'][i]                       = 0\n",
    "        df_30['Clinica_edema'][i]                                                 = 0\n",
    "        df_30['Clinica_edema_e_proteinuria'][i]                                   = 0\n",
    "        df_30['Clinica_edema_oliguria_escarros_hemoptoicos_e_hematuria'][i]       = 0\n",
    "        df_30['Clinica_edema_persistente_associado_a_hematuria_e_hipertensao'][i] = 0\n",
    "        df_30['Clinica_hematuria'][i]                                             = 0\n",
    "        df_30['Clinica_hematuria_proteinuria'][i]                                 = 0\n",
    "        df_30['Clinica_hipertensao_diabetes_e_piora_de_funcao_renal'][i]          = 0\n",
    "        df_30['Clinica_hipertensao_e_diabetes'][i]                                = 1\n",
    "        df_30['Clinica_hipertensão_e_proteinuria'][i]                             = 0\n",
    "        df_30['Clinica_hipocalemia_e_elevacao_de_escorias'][i]                    = 0\n",
    "        df_30['Clinica_lupus'][i]                                                 = 0\n",
    "        df_30['Clinica_lupus_anasarca_e_proteinuria'][i]                          = 0\n",
    "        df_30['Clinica_lupus_hematuria_e_oliguria'][i]                            = 0\n",
    "        df_30['Clinica_lupus_insuficiencia_renal_algua'][i]                       = 0\n",
    "        df_30['Clinica_proteinuria'][i]                                           = 0\n",
    "        df_30['Clinica_proteinuria_e_hematuria'][i]                               = 0\n",
    "        df_30['Clinica_proteinuria_hematuria'][i]                                 = 0\n",
    "        df_30['Clinica_proteinuria_hematuria_consumo_de_complemento'][i]          = 0\n",
    "        df_30['Clinica_proteinuria_hematuria_e_alteracao_cardiaca'][i]            = 0\n",
    "        df_30['Clinica_proteinuria_hematuria_e_insuficiencia_renal_cronica'][i]   = 0\n",
    "        df_30['Clinica_proteinuria_nefrotica'][i]                                 = 0\n",
    "        df_30['Clinica_sindrome_nefrítica'][i]                                    = 0\n",
    "        df_30['Clinica_sindrome_nefritica-nefrotica'][i]                          = 0\n",
    "        df_30['Clinica_sindrome_nefritico-nefrotica'][i]                          = 0\n",
    "        df_30['Clinica_sindrome_nefrotica'][i]                                    = 0\n",
    "        df_30['Clinica_sindrome_nefrotica_cortico-dependente'][i]                 = 0\n",
    "        df_30['Clinica_sindrome_nefrotica_cortico-resistente'][i]                 = 0\n",
    "    elif coluna[i] == 'hipertensão e proteinúria':\n",
    "        df_30['Clinica_Insuficiencia_renal_aguda'][i]                             = 0\n",
    "        df_30['Clinica_anasarca_e_dispneia'][i]                                   = 0\n",
    "        df_30['Clinica_diabetes_e_proteinuria'][i]                                = 0\n",
    "        df_30['Clinica_diabetico_e_sindrome_nefrotica'][i]                        = 0\n",
    "        df_30['Clinica_doenca_de_fabry'][i]                                       = 0\n",
    "        df_30['Clinica_eclampsia_e_choque_hipovolemico'][i]                       = 0\n",
    "        df_30['Clinica_edema'][i]                                                 = 0\n",
    "        df_30['Clinica_edema_e_proteinuria'][i]                                   = 0\n",
    "        df_30['Clinica_edema_oliguria_escarros_hemoptoicos_e_hematuria'][i]       = 0\n",
    "        df_30['Clinica_edema_persistente_associado_a_hematuria_e_hipertensao'][i] = 0\n",
    "        df_30['Clinica_hematuria'][i]                                             = 0\n",
    "        df_30['Clinica_hematuria_proteinuria'][i]                                 = 0\n",
    "        df_30['Clinica_hipertensao_diabetes_e_piora_de_funcao_renal'][i]          = 0\n",
    "        df_30['Clinica_hipertensao_e_diabetes'][i]                                = 0\n",
    "        df_30['Clinica_hipertensão_e_proteinuria'][i]                             = 1\n",
    "        df_30['Clinica_hipocalemia_e_elevacao_de_escorias'][i]                    = 0\n",
    "        df_30['Clinica_lupus'][i]                                                 = 0\n",
    "        df_30['Clinica_lupus_anasarca_e_proteinuria'][i]                          = 0\n",
    "        df_30['Clinica_lupus_hematuria_e_oliguria'][i]                            = 0\n",
    "        df_30['Clinica_lupus_insuficiencia_renal_algua'][i]                       = 0\n",
    "        df_30['Clinica_proteinuria'][i]                                           = 0\n",
    "        df_30['Clinica_proteinuria_e_hematuria'][i]                               = 0\n",
    "        df_30['Clinica_proteinuria_hematuria'][i]                                 = 0\n",
    "        df_30['Clinica_proteinuria_hematuria_consumo_de_complemento'][i]          = 0\n",
    "        df_30['Clinica_proteinuria_hematuria_e_alteracao_cardiaca'][i]            = 0\n",
    "        df_30['Clinica_proteinuria_hematuria_e_insuficiencia_renal_cronica'][i]   = 0\n",
    "        df_30['Clinica_proteinuria_nefrotica'][i]                                 = 0\n",
    "        df_30['Clinica_sindrome_nefrítica'][i]                                    = 0\n",
    "        df_30['Clinica_sindrome_nefritica-nefrotica'][i]                          = 0\n",
    "        df_30['Clinica_sindrome_nefritico-nefrotica'][i]                          = 0\n",
    "        df_30['Clinica_sindrome_nefrotica'][i]                                    = 0\n",
    "        df_30['Clinica_sindrome_nefrotica_cortico-dependente'][i]                 = 0\n",
    "        df_30['Clinica_sindrome_nefrotica_cortico-resistente'][i]                 = 0\n",
    "    elif coluna[i] == 'hipocalemia e elevação de escórias':\n",
    "        df_30['Clinica_Insuficiencia_renal_aguda'][i]                             = 0\n",
    "        df_30['Clinica_anasarca_e_dispneia'][i]                                   = 0\n",
    "        df_30['Clinica_diabetes_e_proteinuria'][i]                                = 0\n",
    "        df_30['Clinica_diabetico_e_sindrome_nefrotica'][i]                        = 0\n",
    "        df_30['Clinica_doenca_de_fabry'][i]                                       = 0\n",
    "        df_30['Clinica_eclampsia_e_choque_hipovolemico'][i]                       = 0\n",
    "        df_30['Clinica_edema'][i]                                                 = 0\n",
    "        df_30['Clinica_edema_e_proteinuria'][i]                                   = 0\n",
    "        df_30['Clinica_edema_oliguria_escarros_hemoptoicos_e_hematuria'][i]       = 0\n",
    "        df_30['Clinica_edema_persistente_associado_a_hematuria_e_hipertensao'][i] = 0\n",
    "        df_30['Clinica_hematuria'][i]                                             = 0\n",
    "        df_30['Clinica_hematuria_proteinuria'][i]                                 = 0\n",
    "        df_30['Clinica_hipertensao_diabetes_e_piora_de_funcao_renal'][i]          = 0\n",
    "        df_30['Clinica_hipertensao_e_diabetes'][i]                                = 0\n",
    "        df_30['Clinica_hipertensão_e_proteinuria'][i]                             = 0\n",
    "        df_30['Clinica_hipocalemia_e_elevacao_de_escorias'][i]                    = 1\n",
    "        df_30['Clinica_lupus'][i]                                                 = 0\n",
    "        df_30['Clinica_lupus_anasarca_e_proteinuria'][i]                          = 0\n",
    "        df_30['Clinica_lupus_hematuria_e_oliguria'][i]                            = 0\n",
    "        df_30['Clinica_lupus_insuficiencia_renal_algua'][i]                       = 0\n",
    "        df_30['Clinica_proteinuria'][i]                                           = 0\n",
    "        df_30['Clinica_proteinuria_e_hematuria'][i]                               = 0\n",
    "        df_30['Clinica_proteinuria_hematuria'][i]                                 = 0\n",
    "        df_30['Clinica_proteinuria_hematuria_consumo_de_complemento'][i]          = 0\n",
    "        df_30['Clinica_proteinuria_hematuria_e_alteracao_cardiaca'][i]            = 0\n",
    "        df_30['Clinica_proteinuria_hematuria_e_insuficiencia_renal_cronica'][i]   = 0\n",
    "        df_30['Clinica_proteinuria_nefrotica'][i]                                 = 0\n",
    "        df_30['Clinica_sindrome_nefrítica'][i]                                    = 0\n",
    "        df_30['Clinica_sindrome_nefritica-nefrotica'][i]                          = 0\n",
    "        df_30['Clinica_sindrome_nefritico-nefrotica'][i]                          = 0\n",
    "        df_30['Clinica_sindrome_nefrotica'][i]                                    = 0\n",
    "        df_30['Clinica_sindrome_nefrotica_cortico-dependente'][i]                 = 0\n",
    "        df_30['Clinica_sindrome_nefrotica_cortico-resistente'][i]                 = 0\n",
    "    elif coluna[i] == 'lúpus':\n",
    "        df_30['Clinica_Insuficiencia_renal_aguda'][i]                             = 0\n",
    "        df_30['Clinica_anasarca_e_dispneia'][i]                                   = 0\n",
    "        df_30['Clinica_diabetes_e_proteinuria'][i]                                = 0\n",
    "        df_30['Clinica_diabetico_e_sindrome_nefrotica'][i]                        = 0\n",
    "        df_30['Clinica_doenca_de_fabry'][i]                                       = 0\n",
    "        df_30['Clinica_eclampsia_e_choque_hipovolemico'][i]                       = 0\n",
    "        df_30['Clinica_edema'][i]                                                 = 0\n",
    "        df_30['Clinica_edema_e_proteinuria'][i]                                   = 0\n",
    "        df_30['Clinica_edema_oliguria_escarros_hemoptoicos_e_hematuria'][i]       = 0\n",
    "        df_30['Clinica_edema_persistente_associado_a_hematuria_e_hipertensao'][i] = 0\n",
    "        df_30['Clinica_hematuria'][i]                                             = 0\n",
    "        df_30['Clinica_hematuria_proteinuria'][i]                                 = 0\n",
    "        df_30['Clinica_hipertensao_diabetes_e_piora_de_funcao_renal'][i]          = 0\n",
    "        df_30['Clinica_hipertensao_e_diabetes'][i]                                = 0\n",
    "        df_30['Clinica_hipertensão_e_proteinuria'][i]                             = 0\n",
    "        df_30['Clinica_hipocalemia_e_elevacao_de_escorias'][i]                    = 0\n",
    "        df_30['Clinica_lupus'][i]                                                 = 1\n",
    "        df_30['Clinica_lupus_anasarca_e_proteinuria'][i]                          = 0\n",
    "        df_30['Clinica_lupus_hematuria_e_oliguria'][i]                            = 0\n",
    "        df_30['Clinica_lupus_insuficiencia_renal_algua'][i]                       = 0\n",
    "        df_30['Clinica_proteinuria'][i]                                           = 0\n",
    "        df_30['Clinica_proteinuria_e_hematuria'][i]                               = 0\n",
    "        df_30['Clinica_proteinuria_hematuria'][i]                                 = 0\n",
    "        df_30['Clinica_proteinuria_hematuria_consumo_de_complemento'][i]          = 0\n",
    "        df_30['Clinica_proteinuria_hematuria_e_alteracao_cardiaca'][i]            = 0\n",
    "        df_30['Clinica_proteinuria_hematuria_e_insuficiencia_renal_cronica'][i]   = 0\n",
    "        df_30['Clinica_proteinuria_nefrotica'][i]                                 = 0\n",
    "        df_30['Clinica_sindrome_nefrítica'][i]                                    = 0\n",
    "        df_30['Clinica_sindrome_nefritica-nefrotica'][i]                          = 0\n",
    "        df_30['Clinica_sindrome_nefritico-nefrotica'][i]                          = 0\n",
    "        df_30['Clinica_sindrome_nefrotica'][i]                                    = 0\n",
    "        df_30['Clinica_sindrome_nefrotica_cortico-dependente'][i]                 = 0\n",
    "        df_30['Clinica_sindrome_nefrotica_cortico-resistente'][i]                 = 0\n",
    "    elif coluna[i] == 'lúpus anasarca e proteinúria':\n",
    "        df_30['Clinica_Insuficiencia_renal_aguda'][i]                             = 0\n",
    "        df_30['Clinica_anasarca_e_dispneia'][i]                                   = 0\n",
    "        df_30['Clinica_diabetes_e_proteinuria'][i]                                = 0\n",
    "        df_30['Clinica_diabetico_e_sindrome_nefrotica'][i]                        = 0\n",
    "        df_30['Clinica_doenca_de_fabry'][i]                                       = 0\n",
    "        df_30['Clinica_eclampsia_e_choque_hipovolemico'][i]                       = 0\n",
    "        df_30['Clinica_edema'][i]                                                 = 0\n",
    "        df_30['Clinica_edema_e_proteinuria'][i]                                   = 0\n",
    "        df_30['Clinica_edema_oliguria_escarros_hemoptoicos_e_hematuria'][i]       = 0\n",
    "        df_30['Clinica_edema_persistente_associado_a_hematuria_e_hipertensao'][i] = 0\n",
    "        df_30['Clinica_hematuria'][i]                                             = 0\n",
    "        df_30['Clinica_hematuria_proteinuria'][i]                                 = 0\n",
    "        df_30['Clinica_hipertensao_diabetes_e_piora_de_funcao_renal'][i]          = 0\n",
    "        df_30['Clinica_hipertensao_e_diabetes'][i]                                = 0\n",
    "        df_30['Clinica_hipertensão_e_proteinuria'][i]                             = 0\n",
    "        df_30['Clinica_hipocalemia_e_elevacao_de_escorias'][i]                    = 0\n",
    "        df_30['Clinica_lupus'][i]                                                 = 0\n",
    "        df_30['Clinica_lupus_anasarca_e_proteinuria'][i]                          = 1\n",
    "        df_30['Clinica_lupus_hematuria_e_oliguria'][i]                            = 0\n",
    "        df_30['Clinica_lupus_insuficiencia_renal_algua'][i]                       = 0\n",
    "        df_30['Clinica_proteinuria'][i]                                           = 0\n",
    "        df_30['Clinica_proteinuria_e_hematuria'][i]                               = 0\n",
    "        df_30['Clinica_proteinuria_hematuria'][i]                                 = 0\n",
    "        df_30['Clinica_proteinuria_hematuria_consumo_de_complemento'][i]          = 0\n",
    "        df_30['Clinica_proteinuria_hematuria_e_alteracao_cardiaca'][i]            = 0\n",
    "        df_30['Clinica_proteinuria_hematuria_e_insuficiencia_renal_cronica'][i]   = 0\n",
    "        df_30['Clinica_proteinuria_nefrotica'][i]                                 = 0\n",
    "        df_30['Clinica_sindrome_nefrítica'][i]                                    = 0\n",
    "        df_30['Clinica_sindrome_nefritica-nefrotica'][i]                          = 0\n",
    "        df_30['Clinica_sindrome_nefritico-nefrotica'][i]                          = 0\n",
    "        df_30['Clinica_sindrome_nefrotica'][i]                                    = 0\n",
    "        df_30['Clinica_sindrome_nefrotica_cortico-dependente'][i]                 = 0\n",
    "        df_30['Clinica_sindrome_nefrotica_cortico-resistente'][i]                 = 0\n",
    "    elif coluna[i] == 'lúpus hematúria e oligúria':\n",
    "        df_30['Clinica_Insuficiencia_renal_aguda'][i]                             = 0\n",
    "        df_30['Clinica_anasarca_e_dispneia'][i]                                   = 0\n",
    "        df_30['Clinica_diabetes_e_proteinuria'][i]                                = 0\n",
    "        df_30['Clinica_diabetico_e_sindrome_nefrotica'][i]                        = 0\n",
    "        df_30['Clinica_doenca_de_fabry'][i]                                       = 0\n",
    "        df_30['Clinica_eclampsia_e_choque_hipovolemico'][i]                       = 0\n",
    "        df_30['Clinica_edema'][i]                                                 = 0\n",
    "        df_30['Clinica_edema_e_proteinuria'][i]                                   = 0\n",
    "        df_30['Clinica_edema_oliguria_escarros_hemoptoicos_e_hematuria'][i]       = 0\n",
    "        df_30['Clinica_edema_persistente_associado_a_hematuria_e_hipertensao'][i] = 0\n",
    "        df_30['Clinica_hematuria'][i]                                             = 0\n",
    "        df_30['Clinica_hematuria_proteinuria'][i]                                 = 0\n",
    "        df_30['Clinica_hipertensao_diabetes_e_piora_de_funcao_renal'][i]          = 0\n",
    "        df_30['Clinica_hipertensao_e_diabetes'][i]                                = 0\n",
    "        df_30['Clinica_hipertensão_e_proteinuria'][i]                             = 0\n",
    "        df_30['Clinica_hipocalemia_e_elevacao_de_escorias'][i]                    = 0\n",
    "        df_30['Clinica_lupus'][i]                                                 = 0\n",
    "        df_30['Clinica_lupus_anasarca_e_proteinuria'][i]                          = 0\n",
    "        df_30['Clinica_lupus_hematuria_e_oliguria'][i]                            = 1\n",
    "        df_30['Clinica_lupus_insuficiencia_renal_algua'][i]                       = 0\n",
    "        df_30['Clinica_proteinuria'][i]                                           = 0\n",
    "        df_30['Clinica_proteinuria_e_hematuria'][i]                               = 0\n",
    "        df_30['Clinica_proteinuria_hematuria'][i]                                 = 0\n",
    "        df_30['Clinica_proteinuria_hematuria_consumo_de_complemento'][i]          = 0\n",
    "        df_30['Clinica_proteinuria_hematuria_e_alteracao_cardiaca'][i]            = 0\n",
    "        df_30['Clinica_proteinuria_hematuria_e_insuficiencia_renal_cronica'][i]   = 0\n",
    "        df_30['Clinica_proteinuria_nefrotica'][i]                                 = 0\n",
    "        df_30['Clinica_sindrome_nefrítica'][i]                                    = 0\n",
    "        df_30['Clinica_sindrome_nefritica-nefrotica'][i]                          = 0\n",
    "        df_30['Clinica_sindrome_nefritico-nefrotica'][i]                          = 0\n",
    "        df_30['Clinica_sindrome_nefrotica'][i]                                    = 0\n",
    "        df_30['Clinica_sindrome_nefrotica_cortico-dependente'][i]                 = 0\n",
    "        df_30['Clinica_sindrome_nefrotica_cortico-resistente'][i]                 = 0\n",
    "    elif coluna[i] == 'lúpus insuficiência renal algua':\n",
    "        df_30['Clinica_Insuficiencia_renal_aguda'][i]                             = 0\n",
    "        df_30['Clinica_anasarca_e_dispneia'][i]                                   = 0\n",
    "        df_30['Clinica_diabetes_e_proteinuria'][i]                                = 0\n",
    "        df_30['Clinica_diabetico_e_sindrome_nefrotica'][i]                        = 0\n",
    "        df_30['Clinica_doenca_de_fabry'][i]                                       = 0\n",
    "        df_30['Clinica_eclampsia_e_choque_hipovolemico'][i]                       = 0\n",
    "        df_30['Clinica_edema'][i]                                                 = 0\n",
    "        df_30['Clinica_edema_e_proteinuria'][i]                                   = 0\n",
    "        df_30['Clinica_edema_oliguria_escarros_hemoptoicos_e_hematuria'][i]       = 0\n",
    "        df_30['Clinica_edema_persistente_associado_a_hematuria_e_hipertensao'][i] = 0\n",
    "        df_30['Clinica_hematuria'][i]                                             = 0\n",
    "        df_30['Clinica_hematuria_proteinuria'][i]                                 = 0\n",
    "        df_30['Clinica_hipertensao_diabetes_e_piora_de_funcao_renal'][i]          = 0\n",
    "        df_30['Clinica_hipertensao_e_diabetes'][i]                                = 0\n",
    "        df_30['Clinica_hipertensão_e_proteinuria'][i]                             = 0\n",
    "        df_30['Clinica_hipocalemia_e_elevacao_de_escorias'][i]                    = 0\n",
    "        df_30['Clinica_lupus'][i]                                                 = 0\n",
    "        df_30['Clinica_lupus_anasarca_e_proteinuria'][i]                          = 0\n",
    "        df_30['Clinica_lupus_hematuria_e_oliguria'][i]                            = 0\n",
    "        df_30['Clinica_lupus_insuficiencia_renal_algua'][i]                       = 1\n",
    "        df_30['Clinica_proteinuria'][i]                                           = 0\n",
    "        df_30['Clinica_proteinuria_e_hematuria'][i]                               = 0\n",
    "        df_30['Clinica_proteinuria_hematuria'][i]                                 = 0\n",
    "        df_30['Clinica_proteinuria_hematuria_consumo_de_complemento'][i]          = 0\n",
    "        df_30['Clinica_proteinuria_hematuria_e_alteracao_cardiaca'][i]            = 0\n",
    "        df_30['Clinica_proteinuria_hematuria_e_insuficiencia_renal_cronica'][i]   = 0\n",
    "        df_30['Clinica_proteinuria_nefrotica'][i]                                 = 0\n",
    "        df_30['Clinica_sindrome_nefrítica'][i]                                    = 0\n",
    "        df_30['Clinica_sindrome_nefritica-nefrotica'][i]                          = 0\n",
    "        df_30['Clinica_sindrome_nefritico-nefrotica'][i]                          = 0\n",
    "        df_30['Clinica_sindrome_nefrotica'][i]                                    = 0\n",
    "        df_30['Clinica_sindrome_nefrotica_cortico-dependente'][i]                 = 0\n",
    "        df_30['Clinica_sindrome_nefrotica_cortico-resistente'][i]                 = 0\n",
    "    elif coluna[i] == 'proteinúria':\n",
    "        df_30['Clinica_Insuficiencia_renal_aguda'][i]                             = 0\n",
    "        df_30['Clinica_anasarca_e_dispneia'][i]                                   = 0\n",
    "        df_30['Clinica_diabetes_e_proteinuria'][i]                                = 0\n",
    "        df_30['Clinica_diabetico_e_sindrome_nefrotica'][i]                        = 0\n",
    "        df_30['Clinica_doenca_de_fabry'][i]                                       = 0\n",
    "        df_30['Clinica_eclampsia_e_choque_hipovolemico'][i]                       = 0\n",
    "        df_30['Clinica_edema'][i]                                                 = 0\n",
    "        df_30['Clinica_edema_e_proteinuria'][i]                                   = 0\n",
    "        df_30['Clinica_edema_oliguria_escarros_hemoptoicos_e_hematuria'][i]       = 0\n",
    "        df_30['Clinica_edema_persistente_associado_a_hematuria_e_hipertensao'][i] = 0\n",
    "        df_30['Clinica_hematuria'][i]                                             = 0\n",
    "        df_30['Clinica_hematuria_proteinuria'][i]                                 = 0\n",
    "        df_30['Clinica_hipertensao_diabetes_e_piora_de_funcao_renal'][i]          = 0\n",
    "        df_30['Clinica_hipertensao_e_diabetes'][i]                                = 0\n",
    "        df_30['Clinica_hipertensão_e_proteinuria'][i]                             = 0\n",
    "        df_30['Clinica_hipocalemia_e_elevacao_de_escorias'][i]                    = 0\n",
    "        df_30['Clinica_lupus'][i]                                                 = 0\n",
    "        df_30['Clinica_lupus_anasarca_e_proteinuria'][i]                          = 0\n",
    "        df_30['Clinica_lupus_hematuria_e_oliguria'][i]                            = 0\n",
    "        df_30['Clinica_lupus_insuficiencia_renal_algua'][i]                       = 0\n",
    "        df_30['Clinica_proteinuria'][i]                                           = 1\n",
    "        df_30['Clinica_proteinuria_e_hematuria'][i]                               = 0\n",
    "        df_30['Clinica_proteinuria_hematuria'][i]                                 = 0\n",
    "        df_30['Clinica_proteinuria_hematuria_consumo_de_complemento'][i]          = 0\n",
    "        df_30['Clinica_proteinuria_hematuria_e_alteracao_cardiaca'][i]            = 0\n",
    "        df_30['Clinica_proteinuria_hematuria_e_insuficiencia_renal_cronica'][i]   = 0\n",
    "        df_30['Clinica_proteinuria_nefrotica'][i]                                 = 0\n",
    "        df_30['Clinica_sindrome_nefrítica'][i]                                    = 0\n",
    "        df_30['Clinica_sindrome_nefritica-nefrotica'][i]                          = 0\n",
    "        df_30['Clinica_sindrome_nefritico-nefrotica'][i]                          = 0\n",
    "        df_30['Clinica_sindrome_nefrotica'][i]                                    = 0\n",
    "        df_30['Clinica_sindrome_nefrotica_cortico-dependente'][i]                 = 0\n",
    "        df_30['Clinica_sindrome_nefrotica_cortico-resistente'][i]                 = 0\n",
    "    elif coluna[i] == 'proteinúria e hematúria':\n",
    "        df_30['Clinica_Insuficiencia_renal_aguda'][i]                             = 0\n",
    "        df_30['Clinica_anasarca_e_dispneia'][i]                                   = 0\n",
    "        df_30['Clinica_diabetes_e_proteinuria'][i]                                = 0\n",
    "        df_30['Clinica_diabetico_e_sindrome_nefrotica'][i]                        = 0\n",
    "        df_30['Clinica_doenca_de_fabry'][i]                                       = 0\n",
    "        df_30['Clinica_eclampsia_e_choque_hipovolemico'][i]                       = 0\n",
    "        df_30['Clinica_edema'][i]                                                 = 0\n",
    "        df_30['Clinica_edema_e_proteinuria'][i]                                   = 0\n",
    "        df_30['Clinica_edema_oliguria_escarros_hemoptoicos_e_hematuria'][i]       = 0\n",
    "        df_30['Clinica_edema_persistente_associado_a_hematuria_e_hipertensao'][i] = 0\n",
    "        df_30['Clinica_hematuria'][i]                                             = 0\n",
    "        df_30['Clinica_hematuria_proteinuria'][i]                                 = 0\n",
    "        df_30['Clinica_hipertensao_diabetes_e_piora_de_funcao_renal'][i]          = 0\n",
    "        df_30['Clinica_hipertensao_e_diabetes'][i]                                = 0\n",
    "        df_30['Clinica_hipertensão_e_proteinuria'][i]                             = 0\n",
    "        df_30['Clinica_hipocalemia_e_elevacao_de_escorias'][i]                    = 0\n",
    "        df_30['Clinica_lupus'][i]                                                 = 0\n",
    "        df_30['Clinica_lupus_anasarca_e_proteinuria'][i]                          = 0\n",
    "        df_30['Clinica_lupus_hematuria_e_oliguria'][i]                            = 0\n",
    "        df_30['Clinica_lupus_insuficiencia_renal_algua'][i]                       = 0\n",
    "        df_30['Clinica_proteinuria'][i]                                           = 0\n",
    "        df_30['Clinica_proteinuria_e_hematuria'][i]                               = 1\n",
    "        df_30['Clinica_proteinuria_hematuria'][i]                                 = 0\n",
    "        df_30['Clinica_proteinuria_hematuria_consumo_de_complemento'][i]          = 0\n",
    "        df_30['Clinica_proteinuria_hematuria_e_alteracao_cardiaca'][i]            = 0\n",
    "        df_30['Clinica_proteinuria_hematuria_e_insuficiencia_renal_cronica'][i]   = 0\n",
    "        df_30['Clinica_proteinuria_nefrotica'][i]                                 = 0\n",
    "        df_30['Clinica_sindrome_nefrítica'][i]                                    = 0\n",
    "        df_30['Clinica_sindrome_nefritica-nefrotica'][i]                          = 0\n",
    "        df_30['Clinica_sindrome_nefritico-nefrotica'][i]                          = 0\n",
    "        df_30['Clinica_sindrome_nefrotica'][i]                                    = 0\n",
    "        df_30['Clinica_sindrome_nefrotica_cortico-dependente'][i]                 = 0\n",
    "        df_30['Clinica_sindrome_nefrotica_cortico-resistente'][i]                 = 0\n",
    "    elif coluna[i] == 'proteinúria hematúria':\n",
    "        df_30['Clinica_Insuficiencia_renal_aguda'][i]                             = 0\n",
    "        df_30['Clinica_anasarca_e_dispneia'][i]                                   = 0\n",
    "        df_30['Clinica_diabetes_e_proteinuria'][i]                                = 0\n",
    "        df_30['Clinica_diabetico_e_sindrome_nefrotica'][i]                        = 0\n",
    "        df_30['Clinica_doenca_de_fabry'][i]                                       = 0\n",
    "        df_30['Clinica_eclampsia_e_choque_hipovolemico'][i]                       = 0\n",
    "        df_30['Clinica_edema'][i]                                                 = 0\n",
    "        df_30['Clinica_edema_e_proteinuria'][i]                                   = 0\n",
    "        df_30['Clinica_edema_oliguria_escarros_hemoptoicos_e_hematuria'][i]       = 0\n",
    "        df_30['Clinica_edema_persistente_associado_a_hematuria_e_hipertensao'][i] = 0\n",
    "        df_30['Clinica_hematuria'][i]                                             = 0\n",
    "        df_30['Clinica_hematuria_proteinuria'][i]                                 = 0\n",
    "        df_30['Clinica_hipertensao_diabetes_e_piora_de_funcao_renal'][i]          = 0\n",
    "        df_30['Clinica_hipertensao_e_diabetes'][i]                                = 0\n",
    "        df_30['Clinica_hipertensão_e_proteinuria'][i]                             = 0\n",
    "        df_30['Clinica_hipocalemia_e_elevacao_de_escorias'][i]                    = 0\n",
    "        df_30['Clinica_lupus'][i]                                                 = 0\n",
    "        df_30['Clinica_lupus_anasarca_e_proteinuria'][i]                          = 0\n",
    "        df_30['Clinica_lupus_hematuria_e_oliguria'][i]                            = 0\n",
    "        df_30['Clinica_lupus_insuficiencia_renal_algua'][i]                       = 0\n",
    "        df_30['Clinica_proteinuria'][i]                                           = 0\n",
    "        df_30['Clinica_proteinuria_e_hematuria'][i]                               = 0\n",
    "        df_30['Clinica_proteinuria_hematuria'][i]                                 = 1\n",
    "        df_30['Clinica_proteinuria_hematuria_consumo_de_complemento'][i]          = 0\n",
    "        df_30['Clinica_proteinuria_hematuria_e_alteracao_cardiaca'][i]            = 0\n",
    "        df_30['Clinica_proteinuria_hematuria_e_insuficiencia_renal_cronica'][i]   = 0\n",
    "        df_30['Clinica_proteinuria_nefrotica'][i]                                 = 0\n",
    "        df_30['Clinica_sindrome_nefrítica'][i]                                    = 0\n",
    "        df_30['Clinica_sindrome_nefritica-nefrotica'][i]                          = 0\n",
    "        df_30['Clinica_sindrome_nefritico-nefrotica'][i]                          = 0\n",
    "        df_30['Clinica_sindrome_nefrotica'][i]                                    = 0\n",
    "        df_30['Clinica_sindrome_nefrotica_cortico-dependente'][i]                 = 0\n",
    "        df_30['Clinica_sindrome_nefrotica_cortico-resistente'][i]                 = 0\n",
    "    elif coluna[i] == 'proteinúria hematúria consumo de complemento':\n",
    "        df_30['Clinica_Insuficiencia_renal_aguda'][i]                             = 0\n",
    "        df_30['Clinica_anasarca_e_dispneia'][i]                                   = 0\n",
    "        df_30['Clinica_diabetes_e_proteinuria'][i]                                = 0\n",
    "        df_30['Clinica_diabetico_e_sindrome_nefrotica'][i]                        = 0\n",
    "        df_30['Clinica_doenca_de_fabry'][i]                                       = 0\n",
    "        df_30['Clinica_eclampsia_e_choque_hipovolemico'][i]                       = 0\n",
    "        df_30['Clinica_edema'][i]                                                 = 0\n",
    "        df_30['Clinica_edema_e_proteinuria'][i]                                   = 0\n",
    "        df_30['Clinica_edema_oliguria_escarros_hemoptoicos_e_hematuria'][i]       = 0\n",
    "        df_30['Clinica_edema_persistente_associado_a_hematuria_e_hipertensao'][i] = 0\n",
    "        df_30['Clinica_hematuria'][i]                                             = 0\n",
    "        df_30['Clinica_hematuria_proteinuria'][i]                                 = 0\n",
    "        df_30['Clinica_hipertensao_diabetes_e_piora_de_funcao_renal'][i]          = 0\n",
    "        df_30['Clinica_hipertensao_e_diabetes'][i]                                = 0\n",
    "        df_30['Clinica_hipertensão_e_proteinuria'][i]                             = 0\n",
    "        df_30['Clinica_hipocalemia_e_elevacao_de_escorias'][i]                    = 0\n",
    "        df_30['Clinica_lupus'][i]                                                 = 0\n",
    "        df_30['Clinica_lupus_anasarca_e_proteinuria'][i]                          = 0\n",
    "        df_30['Clinica_lupus_hematuria_e_oliguria'][i]                            = 0\n",
    "        df_30['Clinica_lupus_insuficiencia_renal_algua'][i]                       = 0\n",
    "        df_30['Clinica_proteinuria'][i]                                           = 0\n",
    "        df_30['Clinica_proteinuria_e_hematuria'][i]                               = 0\n",
    "        df_30['Clinica_proteinuria_hematuria'][i]                                 = 0\n",
    "        df_30['Clinica_proteinuria_hematuria_consumo_de_complemento'][i]          = 1\n",
    "        df_30['Clinica_proteinuria_hematuria_e_alteracao_cardiaca'][i]            = 0\n",
    "        df_30['Clinica_proteinuria_hematuria_e_insuficiencia_renal_cronica'][i]   = 0\n",
    "        df_30['Clinica_proteinuria_nefrotica'][i]                                 = 0\n",
    "        df_30['Clinica_sindrome_nefrítica'][i]                                    = 0\n",
    "        df_30['Clinica_sindrome_nefritica-nefrotica'][i]                          = 0\n",
    "        df_30['Clinica_sindrome_nefritico-nefrotica'][i]                          = 0\n",
    "        df_30['Clinica_sindrome_nefrotica'][i]                                    = 0\n",
    "        df_30['Clinica_sindrome_nefrotica_cortico-dependente'][i]                 = 0\n",
    "        df_30['Clinica_sindrome_nefrotica_cortico-resistente'][i]                 = 0\n",
    "    elif coluna[i] == 'proteinúria hematúria e alteração cardíaca':\n",
    "        df_30['Clinica_Insuficiencia_renal_aguda'][i]                             = 0\n",
    "        df_30['Clinica_anasarca_e_dispneia'][i]                                   = 0\n",
    "        df_30['Clinica_diabetes_e_proteinuria'][i]                                = 0\n",
    "        df_30['Clinica_diabetico_e_sindrome_nefrotica'][i]                        = 0\n",
    "        df_30['Clinica_doenca_de_fabry'][i]                                       = 0\n",
    "        df_30['Clinica_eclampsia_e_choque_hipovolemico'][i]                       = 0\n",
    "        df_30['Clinica_edema'][i]                                                 = 0\n",
    "        df_30['Clinica_edema_e_proteinuria'][i]                                   = 0\n",
    "        df_30['Clinica_edema_oliguria_escarros_hemoptoicos_e_hematuria'][i]       = 0\n",
    "        df_30['Clinica_edema_persistente_associado_a_hematuria_e_hipertensao'][i] = 0\n",
    "        df_30['Clinica_hematuria'][i]                                             = 0\n",
    "        df_30['Clinica_hematuria_proteinuria'][i]                                 = 0\n",
    "        df_30['Clinica_hipertensao_diabetes_e_piora_de_funcao_renal'][i]          = 0\n",
    "        df_30['Clinica_hipertensao_e_diabetes'][i]                                = 0\n",
    "        df_30['Clinica_hipertensão_e_proteinuria'][i]                             = 0\n",
    "        df_30['Clinica_hipocalemia_e_elevacao_de_escorias'][i]                    = 0\n",
    "        df_30['Clinica_lupus'][i]                                                 = 0\n",
    "        df_30['Clinica_lupus_anasarca_e_proteinuria'][i]                          = 0\n",
    "        df_30['Clinica_lupus_hematuria_e_oliguria'][i]                            = 0\n",
    "        df_30['Clinica_lupus_insuficiencia_renal_algua'][i]                       = 0\n",
    "        df_30['Clinica_proteinuria'][i]                                           = 0\n",
    "        df_30['Clinica_proteinuria_e_hematuria'][i]                               = 0\n",
    "        df_30['Clinica_proteinuria_hematuria'][i]                                 = 0\n",
    "        df_30['Clinica_proteinuria_hematuria_consumo_de_complemento'][i]          = 0\n",
    "        df_30['Clinica_proteinuria_hematuria_e_alteracao_cardiaca'][i]            = 1\n",
    "        df_30['Clinica_proteinuria_hematuria_e_insuficiencia_renal_cronica'][i]   = 0\n",
    "        df_30['Clinica_proteinuria_nefrotica'][i]                                 = 0\n",
    "        df_30['Clinica_sindrome_nefrítica'][i]                                    = 0\n",
    "        df_30['Clinica_sindrome_nefritica-nefrotica'][i]                          = 0\n",
    "        df_30['Clinica_sindrome_nefritico-nefrotica'][i]                          = 0\n",
    "        df_30['Clinica_sindrome_nefrotica'][i]                                    = 0\n",
    "        df_30['Clinica_sindrome_nefrotica_cortico-dependente'][i]                 = 0\n",
    "        df_30['Clinica_sindrome_nefrotica_cortico-resistente'][i]                 = 0\n",
    "    elif coluna[i] == 'proteinúria hematúria e insuficiência renal crônica':\n",
    "        df_30['Clinica_Insuficiencia_renal_aguda'][i]                             = 0\n",
    "        df_30['Clinica_anasarca_e_dispneia'][i]                                   = 0\n",
    "        df_30['Clinica_diabetes_e_proteinuria'][i]                                = 0\n",
    "        df_30['Clinica_diabetico_e_sindrome_nefrotica'][i]                        = 0\n",
    "        df_30['Clinica_doenca_de_fabry'][i]                                       = 0\n",
    "        df_30['Clinica_eclampsia_e_choque_hipovolemico'][i]                       = 0\n",
    "        df_30['Clinica_edema'][i]                                                 = 0\n",
    "        df_30['Clinica_edema_e_proteinuria'][i]                                   = 0\n",
    "        df_30['Clinica_edema_oliguria_escarros_hemoptoicos_e_hematuria'][i]       = 0\n",
    "        df_30['Clinica_edema_persistente_associado_a_hematuria_e_hipertensao'][i] = 0\n",
    "        df_30['Clinica_hematuria'][i]                                             = 0\n",
    "        df_30['Clinica_hematuria_proteinuria'][i]                                 = 0\n",
    "        df_30['Clinica_hipertensao_diabetes_e_piora_de_funcao_renal'][i]          = 0\n",
    "        df_30['Clinica_hipertensao_e_diabetes'][i]                                = 0\n",
    "        df_30['Clinica_hipertensão_e_proteinuria'][i]                             = 0\n",
    "        df_30['Clinica_hipocalemia_e_elevacao_de_escorias'][i]                    = 0\n",
    "        df_30['Clinica_lupus'][i]                                                 = 0\n",
    "        df_30['Clinica_lupus_anasarca_e_proteinuria'][i]                          = 0\n",
    "        df_30['Clinica_lupus_hematuria_e_oliguria'][i]                            = 0\n",
    "        df_30['Clinica_lupus_insuficiencia_renal_algua'][i]                       = 0\n",
    "        df_30['Clinica_proteinuria'][i]                                           = 0\n",
    "        df_30['Clinica_proteinuria_e_hematuria'][i]                               = 0\n",
    "        df_30['Clinica_proteinuria_hematuria'][i]                                 = 0\n",
    "        df_30['Clinica_proteinuria_hematuria_consumo_de_complemento'][i]          = 0\n",
    "        df_30['Clinica_proteinuria_hematuria_e_alteracao_cardiaca'][i]            = 0\n",
    "        df_30['Clinica_proteinuria_hematuria_e_insuficiencia_renal_cronica'][i]   = 1\n",
    "        df_30['Clinica_proteinuria_nefrotica'][i]                                 = 0\n",
    "        df_30['Clinica_sindrome_nefrítica'][i]                                    = 0\n",
    "        df_30['Clinica_sindrome_nefritica-nefrotica'][i]                          = 0\n",
    "        df_30['Clinica_sindrome_nefritico-nefrotica'][i]                          = 0\n",
    "        df_30['Clinica_sindrome_nefrotica'][i]                                    = 0\n",
    "        df_30['Clinica_sindrome_nefrotica_cortico-dependente'][i]                 = 0\n",
    "        df_30['Clinica_sindrome_nefrotica_cortico-resistente'][i]                 = 0\n",
    "    elif coluna[i] == 'proteinúria nefrótica':\n",
    "        df_30['Clinica_Insuficiencia_renal_aguda'][i]                             = 0\n",
    "        df_30['Clinica_anasarca_e_dispneia'][i]                                   = 0\n",
    "        df_30['Clinica_diabetes_e_proteinuria'][i]                                = 0\n",
    "        df_30['Clinica_diabetico_e_sindrome_nefrotica'][i]                        = 0\n",
    "        df_30['Clinica_doenca_de_fabry'][i]                                       = 0\n",
    "        df_30['Clinica_eclampsia_e_choque_hipovolemico'][i]                       = 0\n",
    "        df_30['Clinica_edema'][i]                                                 = 0\n",
    "        df_30['Clinica_edema_e_proteinuria'][i]                                   = 0\n",
    "        df_30['Clinica_edema_oliguria_escarros_hemoptoicos_e_hematuria'][i]       = 0\n",
    "        df_30['Clinica_edema_persistente_associado_a_hematuria_e_hipertensao'][i] = 0\n",
    "        df_30['Clinica_hematuria'][i]                                             = 0\n",
    "        df_30['Clinica_hematuria_proteinuria'][i]                                 = 0\n",
    "        df_30['Clinica_hipertensao_diabetes_e_piora_de_funcao_renal'][i]          = 0\n",
    "        df_30['Clinica_hipertensao_e_diabetes'][i]                                = 0\n",
    "        df_30['Clinica_hipertensão_e_proteinuria'][i]                             = 0\n",
    "        df_30['Clinica_hipocalemia_e_elevacao_de_escorias'][i]                    = 0\n",
    "        df_30['Clinica_lupus'][i]                                                 = 0\n",
    "        df_30['Clinica_lupus_anasarca_e_proteinuria'][i]                          = 0\n",
    "        df_30['Clinica_lupus_hematuria_e_oliguria'][i]                            = 0\n",
    "        df_30['Clinica_lupus_insuficiencia_renal_algua'][i]                       = 0\n",
    "        df_30['Clinica_proteinuria'][i]                                           = 0\n",
    "        df_30['Clinica_proteinuria_e_hematuria'][i]                               = 0\n",
    "        df_30['Clinica_proteinuria_hematuria'][i]                                 = 0\n",
    "        df_30['Clinica_proteinuria_hematuria_consumo_de_complemento'][i]          = 0\n",
    "        df_30['Clinica_proteinuria_hematuria_e_alteracao_cardiaca'][i]            = 0\n",
    "        df_30['Clinica_proteinuria_hematuria_e_insuficiencia_renal_cronica'][i]   = 0\n",
    "        df_30['Clinica_proteinuria_nefrotica'][i]                                 = 1\n",
    "        df_30['Clinica_sindrome_nefrítica'][i]                                    = 0\n",
    "        df_30['Clinica_sindrome_nefritica-nefrotica'][i]                          = 0\n",
    "        df_30['Clinica_sindrome_nefritico-nefrotica'][i]                          = 0\n",
    "        df_30['Clinica_sindrome_nefrotica'][i]                                    = 0\n",
    "        df_30['Clinica_sindrome_nefrotica_cortico-dependente'][i]                 = 0\n",
    "        df_30['Clinica_sindrome_nefrotica_cortico-resistente'][i]                 = 0\n",
    "    elif coluna[i] == 'síndrome nefrítica':\n",
    "        df_30['Clinica_Insuficiencia_renal_aguda'][i]                             = 0\n",
    "        df_30['Clinica_anasarca_e_dispneia'][i]                                   = 0\n",
    "        df_30['Clinica_diabetes_e_proteinuria'][i]                                = 0\n",
    "        df_30['Clinica_diabetico_e_sindrome_nefrotica'][i]                        = 0\n",
    "        df_30['Clinica_doenca_de_fabry'][i]                                       = 0\n",
    "        df_30['Clinica_eclampsia_e_choque_hipovolemico'][i]                       = 0\n",
    "        df_30['Clinica_edema'][i]                                                 = 0\n",
    "        df_30['Clinica_edema_e_proteinuria'][i]                                   = 0\n",
    "        df_30['Clinica_edema_oliguria_escarros_hemoptoicos_e_hematuria'][i]       = 0\n",
    "        df_30['Clinica_edema_persistente_associado_a_hematuria_e_hipertensao'][i] = 0\n",
    "        df_30['Clinica_hematuria'][i]                                             = 0\n",
    "        df_30['Clinica_hematuria_proteinuria'][i]                                 = 0\n",
    "        df_30['Clinica_hipertensao_diabetes_e_piora_de_funcao_renal'][i]          = 0\n",
    "        df_30['Clinica_hipertensao_e_diabetes'][i]                                = 0\n",
    "        df_30['Clinica_hipertensão_e_proteinuria'][i]                             = 0\n",
    "        df_30['Clinica_hipocalemia_e_elevacao_de_escorias'][i]                    = 0\n",
    "        df_30['Clinica_lupus'][i]                                                 = 0\n",
    "        df_30['Clinica_lupus_anasarca_e_proteinuria'][i]                          = 0\n",
    "        df_30['Clinica_lupus_hematuria_e_oliguria'][i]                            = 0\n",
    "        df_30['Clinica_lupus_insuficiencia_renal_algua'][i]                       = 0\n",
    "        df_30['Clinica_proteinuria'][i]                                           = 0\n",
    "        df_30['Clinica_proteinuria_e_hematuria'][i]                               = 0\n",
    "        df_30['Clinica_proteinuria_hematuria'][i]                                 = 0\n",
    "        df_30['Clinica_proteinuria_hematuria_consumo_de_complemento'][i]          = 0\n",
    "        df_30['Clinica_proteinuria_hematuria_e_alteracao_cardiaca'][i]            = 0\n",
    "        df_30['Clinica_proteinuria_hematuria_e_insuficiencia_renal_cronica'][i]   = 0\n",
    "        df_30['Clinica_proteinuria_nefrotica'][i]                                 = 0\n",
    "        df_30['Clinica_sindrome_nefrítica'][i]                                    = 1\n",
    "        df_30['Clinica_sindrome_nefritica-nefrotica'][i]                          = 0\n",
    "        df_30['Clinica_sindrome_nefritico-nefrotica'][i]                          = 0\n",
    "        df_30['Clinica_sindrome_nefrotica'][i]                                    = 0\n",
    "        df_30['Clinica_sindrome_nefrotica_cortico-dependente'][i]                 = 0\n",
    "        df_30['Clinica_sindrome_nefrotica_cortico-resistente'][i]                 = 0\n",
    "    elif coluna[i] == 'síndrome nefrítica-nefrótica':\n",
    "        df_30['Clinica_Insuficiencia_renal_aguda'][i]                             = 0\n",
    "        df_30['Clinica_anasarca_e_dispneia'][i]                                   = 0\n",
    "        df_30['Clinica_diabetes_e_proteinuria'][i]                                = 0\n",
    "        df_30['Clinica_diabetico_e_sindrome_nefrotica'][i]                        = 0\n",
    "        df_30['Clinica_doenca_de_fabry'][i]                                       = 0\n",
    "        df_30['Clinica_eclampsia_e_choque_hipovolemico'][i]                       = 0\n",
    "        df_30['Clinica_edema'][i]                                                 = 0\n",
    "        df_30['Clinica_edema_e_proteinuria'][i]                                   = 0\n",
    "        df_30['Clinica_edema_oliguria_escarros_hemoptoicos_e_hematuria'][i]       = 0\n",
    "        df_30['Clinica_edema_persistente_associado_a_hematuria_e_hipertensao'][i] = 0\n",
    "        df_30['Clinica_hematuria'][i]                                             = 0\n",
    "        df_30['Clinica_hematuria_proteinuria'][i]                                 = 0\n",
    "        df_30['Clinica_hipertensao_diabetes_e_piora_de_funcao_renal'][i]          = 0\n",
    "        df_30['Clinica_hipertensao_e_diabetes'][i]                                = 0\n",
    "        df_30['Clinica_hipertensão_e_proteinuria'][i]                             = 0\n",
    "        df_30['Clinica_hipocalemia_e_elevacao_de_escorias'][i]                    = 0\n",
    "        df_30['Clinica_lupus'][i]                                                 = 0\n",
    "        df_30['Clinica_lupus_anasarca_e_proteinuria'][i]                          = 0\n",
    "        df_30['Clinica_lupus_hematuria_e_oliguria'][i]                            = 0\n",
    "        df_30['Clinica_lupus_insuficiencia_renal_algua'][i]                       = 0\n",
    "        df_30['Clinica_proteinuria'][i]                                           = 0\n",
    "        df_30['Clinica_proteinuria_e_hematuria'][i]                               = 0\n",
    "        df_30['Clinica_proteinuria_hematuria'][i]                                 = 0\n",
    "        df_30['Clinica_proteinuria_hematuria_consumo_de_complemento'][i]          = 0\n",
    "        df_30['Clinica_proteinuria_hematuria_e_alteracao_cardiaca'][i]            = 0\n",
    "        df_30['Clinica_proteinuria_hematuria_e_insuficiencia_renal_cronica'][i]   = 0\n",
    "        df_30['Clinica_proteinuria_nefrotica'][i]                                 = 0\n",
    "        df_30['Clinica_sindrome_nefrítica'][i]                                    = 0\n",
    "        df_30['Clinica_sindrome_nefritica-nefrotica'][i]                          = 1\n",
    "        df_30['Clinica_sindrome_nefritico-nefrotica'][i]                          = 0\n",
    "        df_30['Clinica_sindrome_nefrotica'][i]                                    = 0\n",
    "        df_30['Clinica_sindrome_nefrotica_cortico-dependente'][i]                 = 0\n",
    "        df_30['Clinica_sindrome_nefrotica_cortico-resistente'][i]                 = 0\n",
    "    elif coluna[i] == 'síndrome nefrítico-nefrótica':\n",
    "        df_30['Clinica_Insuficiencia_renal_aguda'][i]                             = 0\n",
    "        df_30['Clinica_anasarca_e_dispneia'][i]                                   = 0\n",
    "        df_30['Clinica_diabetes_e_proteinuria'][i]                                = 0\n",
    "        df_30['Clinica_diabetico_e_sindrome_nefrotica'][i]                        = 0\n",
    "        df_30['Clinica_doenca_de_fabry'][i]                                       = 0\n",
    "        df_30['Clinica_eclampsia_e_choque_hipovolemico'][i]                       = 0\n",
    "        df_30['Clinica_edema'][i]                                                 = 0\n",
    "        df_30['Clinica_edema_e_proteinuria'][i]                                   = 0\n",
    "        df_30['Clinica_edema_oliguria_escarros_hemoptoicos_e_hematuria'][i]       = 0\n",
    "        df_30['Clinica_edema_persistente_associado_a_hematuria_e_hipertensao'][i] = 0\n",
    "        df_30['Clinica_hematuria'][i]                                             = 0\n",
    "        df_30['Clinica_hematuria_proteinuria'][i]                                 = 0\n",
    "        df_30['Clinica_hipertensao_diabetes_e_piora_de_funcao_renal'][i]          = 0\n",
    "        df_30['Clinica_hipertensao_e_diabetes'][i]                                = 0\n",
    "        df_30['Clinica_hipertensão_e_proteinuria'][i]                             = 0\n",
    "        df_30['Clinica_hipocalemia_e_elevacao_de_escorias'][i]                    = 0\n",
    "        df_30['Clinica_lupus'][i]                                                 = 0\n",
    "        df_30['Clinica_lupus_anasarca_e_proteinuria'][i]                          = 0\n",
    "        df_30['Clinica_lupus_hematuria_e_oliguria'][i]                            = 0\n",
    "        df_30['Clinica_lupus_insuficiencia_renal_algua'][i]                       = 0\n",
    "        df_30['Clinica_proteinuria'][i]                                           = 0\n",
    "        df_30['Clinica_proteinuria_e_hematuria'][i]                               = 0\n",
    "        df_30['Clinica_proteinuria_hematuria'][i]                                 = 0\n",
    "        df_30['Clinica_proteinuria_hematuria_consumo_de_complemento'][i]          = 0\n",
    "        df_30['Clinica_proteinuria_hematuria_e_alteracao_cardiaca'][i]            = 0\n",
    "        df_30['Clinica_proteinuria_hematuria_e_insuficiencia_renal_cronica'][i]   = 0\n",
    "        df_30['Clinica_proteinuria_nefrotica'][i]                                 = 0\n",
    "        df_30['Clinica_sindrome_nefrítica'][i]                                    = 0\n",
    "        df_30['Clinica_sindrome_nefritica-nefrotica'][i]                          = 0\n",
    "        df_30['Clinica_sindrome_nefritico-nefrotica'][i]                          = 1\n",
    "        df_30['Clinica_sindrome_nefrotica'][i]                                    = 0\n",
    "        df_30['Clinica_sindrome_nefrotica_cortico-dependente'][i]                 = 0\n",
    "        df_30['Clinica_sindrome_nefrotica_cortico-resistente'][i]                 = 0\n",
    "    elif coluna[i] == 'síndrome nefrótica':\n",
    "        df_30['Clinica_Insuficiencia_renal_aguda'][i]                             = 0\n",
    "        df_30['Clinica_anasarca_e_dispneia'][i]                                   = 0\n",
    "        df_30['Clinica_diabetes_e_proteinuria'][i]                                = 0\n",
    "        df_30['Clinica_diabetico_e_sindrome_nefrotica'][i]                        = 0\n",
    "        df_30['Clinica_doenca_de_fabry'][i]                                       = 0\n",
    "        df_30['Clinica_eclampsia_e_choque_hipovolemico'][i]                       = 0\n",
    "        df_30['Clinica_edema'][i]                                                 = 0\n",
    "        df_30['Clinica_edema_e_proteinuria'][i]                                   = 0\n",
    "        df_30['Clinica_edema_oliguria_escarros_hemoptoicos_e_hematuria'][i]       = 0\n",
    "        df_30['Clinica_edema_persistente_associado_a_hematuria_e_hipertensao'][i] = 0\n",
    "        df_30['Clinica_hematuria'][i]                                             = 0\n",
    "        df_30['Clinica_hematuria_proteinuria'][i]                                 = 0\n",
    "        df_30['Clinica_hipertensao_diabetes_e_piora_de_funcao_renal'][i]          = 0\n",
    "        df_30['Clinica_hipertensao_e_diabetes'][i]                                = 0\n",
    "        df_30['Clinica_hipertensão_e_proteinuria'][i]                             = 0\n",
    "        df_30['Clinica_hipocalemia_e_elevacao_de_escorias'][i]                    = 0\n",
    "        df_30['Clinica_lupus'][i]                                                 = 0\n",
    "        df_30['Clinica_lupus_anasarca_e_proteinuria'][i]                          = 0\n",
    "        df_30['Clinica_lupus_hematuria_e_oliguria'][i]                            = 0\n",
    "        df_30['Clinica_lupus_insuficiencia_renal_algua'][i]                       = 0\n",
    "        df_30['Clinica_proteinuria'][i]                                           = 0\n",
    "        df_30['Clinica_proteinuria_e_hematuria'][i]                               = 0\n",
    "        df_30['Clinica_proteinuria_hematuria'][i]                                 = 0\n",
    "        df_30['Clinica_proteinuria_hematuria_consumo_de_complemento'][i]          = 0\n",
    "        df_30['Clinica_proteinuria_hematuria_e_alteracao_cardiaca'][i]            = 0\n",
    "        df_30['Clinica_proteinuria_hematuria_e_insuficiencia_renal_cronica'][i]   = 0\n",
    "        df_30['Clinica_proteinuria_nefrotica'][i]                                 = 0\n",
    "        df_30['Clinica_sindrome_nefrítica'][i]                                    = 0\n",
    "        df_30['Clinica_sindrome_nefritica-nefrotica'][i]                          = 0\n",
    "        df_30['Clinica_sindrome_nefritico-nefrotica'][i]                          = 0\n",
    "        df_30['Clinica_sindrome_nefrotica'][i]                                    = 1\n",
    "        df_30['Clinica_sindrome_nefrotica_cortico-dependente'][i]                 = 0\n",
    "        df_30['Clinica_sindrome_nefrotica_cortico-resistente'][i]                 = 0\n",
    "    elif coluna[i] == 'síndrome nefrótica córtico-dependente':\n",
    "        df_30['Clinica_Insuficiencia_renal_aguda'][i]                             = 0\n",
    "        df_30['Clinica_anasarca_e_dispneia'][i]                                   = 0\n",
    "        df_30['Clinica_diabetes_e_proteinuria'][i]                                = 0\n",
    "        df_30['Clinica_diabetico_e_sindrome_nefrotica'][i]                        = 0\n",
    "        df_30['Clinica_doenca_de_fabry'][i]                                       = 0\n",
    "        df_30['Clinica_eclampsia_e_choque_hipovolemico'][i]                       = 0\n",
    "        df_30['Clinica_edema'][i]                                                 = 0\n",
    "        df_30['Clinica_edema_e_proteinuria'][i]                                   = 0\n",
    "        df_30['Clinica_edema_oliguria_escarros_hemoptoicos_e_hematuria'][i]       = 0\n",
    "        df_30['Clinica_edema_persistente_associado_a_hematuria_e_hipertensao'][i] = 0\n",
    "        df_30['Clinica_hematuria'][i]                                             = 0\n",
    "        df_30['Clinica_hematuria_proteinuria'][i]                                 = 0\n",
    "        df_30['Clinica_hipertensao_diabetes_e_piora_de_funcao_renal'][i]          = 0\n",
    "        df_30['Clinica_hipertensao_e_diabetes'][i]                                = 0\n",
    "        df_30['Clinica_hipertensão_e_proteinuria'][i]                             = 0\n",
    "        df_30['Clinica_hipocalemia_e_elevacao_de_escorias'][i]                    = 0\n",
    "        df_30['Clinica_lupus'][i]                                                 = 0\n",
    "        df_30['Clinica_lupus_anasarca_e_proteinuria'][i]                          = 0\n",
    "        df_30['Clinica_lupus_hematuria_e_oliguria'][i]                            = 0\n",
    "        df_30['Clinica_lupus_insuficiencia_renal_algua'][i]                       = 0\n",
    "        df_30['Clinica_proteinuria'][i]                                           = 0\n",
    "        df_30['Clinica_proteinuria_e_hematuria'][i]                               = 0\n",
    "        df_30['Clinica_proteinuria_hematuria'][i]                                 = 0\n",
    "        df_30['Clinica_proteinuria_hematuria_consumo_de_complemento'][i]          = 0\n",
    "        df_30['Clinica_proteinuria_hematuria_e_alteracao_cardiaca'][i]            = 0\n",
    "        df_30['Clinica_proteinuria_hematuria_e_insuficiencia_renal_cronica'][i]   = 0\n",
    "        df_30['Clinica_proteinuria_nefrotica'][i]                                 = 0\n",
    "        df_30['Clinica_sindrome_nefrítica'][i]                                    = 0\n",
    "        df_30['Clinica_sindrome_nefritica-nefrotica'][i]                          = 0\n",
    "        df_30['Clinica_sindrome_nefritico-nefrotica'][i]                          = 0\n",
    "        df_30['Clinica_sindrome_nefrotica'][i]                                    = 0\n",
    "        df_30['Clinica_sindrome_nefrotica_cortico-dependente'][i]                 = 1\n",
    "        df_30['Clinica_sindrome_nefrotica_cortico-resistente'][i]                 = 0\n",
    "    else :\n",
    "        df_30['Clinica_Insuficiencia_renal_aguda'][i]                             = 0\n",
    "        df_30['Clinica_anasarca_e_dispneia'][i]                                   = 0\n",
    "        df_30['Clinica_diabetes_e_proteinuria'][i]                                = 0\n",
    "        df_30['Clinica_diabetico_e_sindrome_nefrotica'][i]                        = 0\n",
    "        df_30['Clinica_doenca_de_fabry'][i]                                       = 0\n",
    "        df_30['Clinica_eclampsia_e_choque_hipovolemico'][i]                       = 0\n",
    "        df_30['Clinica_edema'][i]                                                 = 0\n",
    "        df_30['Clinica_edema_e_proteinuria'][i]                                   = 0\n",
    "        df_30['Clinica_edema_oliguria_escarros_hemoptoicos_e_hematuria'][i]       = 0\n",
    "        df_30['Clinica_edema_persistente_associado_a_hematuria_e_hipertensao'][i] = 0\n",
    "        df_30['Clinica_hematuria'][i]                                             = 0\n",
    "        df_30['Clinica_hematuria_proteinuria'][i]                                 = 0\n",
    "        df_30['Clinica_hipertensao_diabetes_e_piora_de_funcao_renal'][i]          = 0\n",
    "        df_30['Clinica_hipertensao_e_diabetes'][i]                                = 0\n",
    "        df_30['Clinica_hipertensão_e_proteinuria'][i]                             = 0\n",
    "        df_30['Clinica_hipocalemia_e_elevacao_de_escorias'][i]                    = 0\n",
    "        df_30['Clinica_lupus'][i]                                                 = 0\n",
    "        df_30['Clinica_lupus_anasarca_e_proteinuria'][i]                          = 0\n",
    "        df_30['Clinica_lupus_hematuria_e_oliguria'][i]                            = 0\n",
    "        df_30['Clinica_lupus_insuficiencia_renal_algua'][i]                       = 0\n",
    "        df_30['Clinica_proteinuria'][i]                                           = 0\n",
    "        df_30['Clinica_proteinuria_e_hematuria'][i]                               = 0\n",
    "        df_30['Clinica_proteinuria_hematuria'][i]                                 = 0\n",
    "        df_30['Clinica_proteinuria_hematuria_consumo_de_complemento'][i]          = 0\n",
    "        df_30['Clinica_proteinuria_hematuria_e_alteracao_cardiaca'][i]            = 0\n",
    "        df_30['Clinica_proteinuria_hematuria_e_insuficiencia_renal_cronica'][i]   = 0\n",
    "        df_30['Clinica_proteinuria_nefrotica'][i]                                 = 0\n",
    "        df_30['Clinica_sindrome_nefrítica'][i]                                    = 0\n",
    "        df_30['Clinica_sindrome_nefritica-nefrotica'][i]                          = 0\n",
    "        df_30['Clinica_sindrome_nefritico-nefrotica'][i]                          = 0\n",
    "        df_30['Clinica_sindrome_nefrotica'][i]                                    = 0\n",
    "        df_30['Clinica_sindrome_nefrotica_cortico-dependente'][i]                 = 0\n",
    "        df_30['Clinica_sindrome_nefrotica_cortico-resistente'][i]                 = 1"
   ]
  },
  {
   "cell_type": "code",
   "execution_count": 399,
   "metadata": {},
   "outputs": [
    {
     "data": {
      "text/html": [
       "<div>\n",
       "<style scoped>\n",
       "    .dataframe tbody tr th:only-of-type {\n",
       "        vertical-align: middle;\n",
       "    }\n",
       "\n",
       "    .dataframe tbody tr th {\n",
       "        vertical-align: top;\n",
       "    }\n",
       "\n",
       "    .dataframe thead th {\n",
       "        text-align: right;\n",
       "    }\n",
       "</style>\n",
       "<table border=\"1\" class=\"dataframe\">\n",
       "  <thead>\n",
       "    <tr style=\"text-align: right;\">\n",
       "      <th></th>\n",
       "      <th>Clinica_Insuficiencia_renal_aguda</th>\n",
       "      <th>Clinica_anasarca_e_dispneia</th>\n",
       "      <th>Clinica_diabetes_e_proteinuria</th>\n",
       "      <th>Clinica_diabetico_e_sindrome_nefrotica</th>\n",
       "      <th>Clinica_doenca_de_fabry</th>\n",
       "      <th>Clinica_eclampsia_e_choque_hipovolemico</th>\n",
       "      <th>Clinica_edema</th>\n",
       "      <th>Clinica_edema_e_proteinuria</th>\n",
       "      <th>Clinica_edema_oliguria_escarros_hemoptoicos_e_hematuria</th>\n",
       "      <th>Clinica_edema_persistente_associado_a_hematuria_e_hipertensao</th>\n",
       "      <th>...</th>\n",
       "      <th>Clinica_proteinuria_hematuria_consumo_de_complemento</th>\n",
       "      <th>Clinica_proteinuria_hematuria_e_alteracao_cardiaca</th>\n",
       "      <th>Clinica_proteinuria_hematuria_e_insuficiencia_renal_cronica</th>\n",
       "      <th>Clinica_proteinuria_nefrotica</th>\n",
       "      <th>Clinica_sindrome_nefrítica</th>\n",
       "      <th>Clinica_sindrome_nefritica-nefrotica</th>\n",
       "      <th>Clinica_sindrome_nefritico-nefrotica</th>\n",
       "      <th>Clinica_sindrome_nefrotica</th>\n",
       "      <th>Clinica_sindrome_nefrotica_cortico-dependente</th>\n",
       "      <th>Clinica_sindrome_nefrotica_cortico-resistente</th>\n",
       "    </tr>\n",
       "  </thead>\n",
       "  <tbody>\n",
       "    <tr>\n",
       "      <th>0</th>\n",
       "      <td>0</td>\n",
       "      <td>0</td>\n",
       "      <td>0</td>\n",
       "      <td>0</td>\n",
       "      <td>0</td>\n",
       "      <td>0</td>\n",
       "      <td>0</td>\n",
       "      <td>0</td>\n",
       "      <td>0</td>\n",
       "      <td>0</td>\n",
       "      <td>...</td>\n",
       "      <td>0</td>\n",
       "      <td>0</td>\n",
       "      <td>0</td>\n",
       "      <td>0</td>\n",
       "      <td>0</td>\n",
       "      <td>0</td>\n",
       "      <td>0</td>\n",
       "      <td>1</td>\n",
       "      <td>0</td>\n",
       "      <td>0</td>\n",
       "    </tr>\n",
       "    <tr>\n",
       "      <th>1</th>\n",
       "      <td>0</td>\n",
       "      <td>0</td>\n",
       "      <td>0</td>\n",
       "      <td>0</td>\n",
       "      <td>0</td>\n",
       "      <td>0</td>\n",
       "      <td>0</td>\n",
       "      <td>0</td>\n",
       "      <td>0</td>\n",
       "      <td>0</td>\n",
       "      <td>...</td>\n",
       "      <td>0</td>\n",
       "      <td>0</td>\n",
       "      <td>0</td>\n",
       "      <td>0</td>\n",
       "      <td>0</td>\n",
       "      <td>0</td>\n",
       "      <td>0</td>\n",
       "      <td>0</td>\n",
       "      <td>0</td>\n",
       "      <td>0</td>\n",
       "    </tr>\n",
       "    <tr>\n",
       "      <th>2</th>\n",
       "      <td>0</td>\n",
       "      <td>0</td>\n",
       "      <td>0</td>\n",
       "      <td>0</td>\n",
       "      <td>0</td>\n",
       "      <td>0</td>\n",
       "      <td>0</td>\n",
       "      <td>0</td>\n",
       "      <td>0</td>\n",
       "      <td>0</td>\n",
       "      <td>...</td>\n",
       "      <td>0</td>\n",
       "      <td>0</td>\n",
       "      <td>0</td>\n",
       "      <td>0</td>\n",
       "      <td>0</td>\n",
       "      <td>0</td>\n",
       "      <td>0</td>\n",
       "      <td>1</td>\n",
       "      <td>0</td>\n",
       "      <td>0</td>\n",
       "    </tr>\n",
       "    <tr>\n",
       "      <th>3</th>\n",
       "      <td>0</td>\n",
       "      <td>0</td>\n",
       "      <td>0</td>\n",
       "      <td>0</td>\n",
       "      <td>0</td>\n",
       "      <td>0</td>\n",
       "      <td>0</td>\n",
       "      <td>0</td>\n",
       "      <td>0</td>\n",
       "      <td>0</td>\n",
       "      <td>...</td>\n",
       "      <td>0</td>\n",
       "      <td>0</td>\n",
       "      <td>0</td>\n",
       "      <td>0</td>\n",
       "      <td>0</td>\n",
       "      <td>0</td>\n",
       "      <td>0</td>\n",
       "      <td>1</td>\n",
       "      <td>0</td>\n",
       "      <td>0</td>\n",
       "    </tr>\n",
       "    <tr>\n",
       "      <th>4</th>\n",
       "      <td>0</td>\n",
       "      <td>0</td>\n",
       "      <td>0</td>\n",
       "      <td>0</td>\n",
       "      <td>0</td>\n",
       "      <td>0</td>\n",
       "      <td>0</td>\n",
       "      <td>0</td>\n",
       "      <td>0</td>\n",
       "      <td>0</td>\n",
       "      <td>...</td>\n",
       "      <td>0</td>\n",
       "      <td>0</td>\n",
       "      <td>0</td>\n",
       "      <td>0</td>\n",
       "      <td>0</td>\n",
       "      <td>0</td>\n",
       "      <td>0</td>\n",
       "      <td>1</td>\n",
       "      <td>0</td>\n",
       "      <td>0</td>\n",
       "    </tr>\n",
       "  </tbody>\n",
       "</table>\n",
       "<p>5 rows × 33 columns</p>\n",
       "</div>"
      ],
      "text/plain": [
       "  Clinica_Insuficiencia_renal_aguda Clinica_anasarca_e_dispneia  \\\n",
       "0                                 0                           0   \n",
       "1                                 0                           0   \n",
       "2                                 0                           0   \n",
       "3                                 0                           0   \n",
       "4                                 0                           0   \n",
       "\n",
       "  Clinica_diabetes_e_proteinuria Clinica_diabetico_e_sindrome_nefrotica  \\\n",
       "0                              0                                      0   \n",
       "1                              0                                      0   \n",
       "2                              0                                      0   \n",
       "3                              0                                      0   \n",
       "4                              0                                      0   \n",
       "\n",
       "  Clinica_doenca_de_fabry Clinica_eclampsia_e_choque_hipovolemico  \\\n",
       "0                       0                                       0   \n",
       "1                       0                                       0   \n",
       "2                       0                                       0   \n",
       "3                       0                                       0   \n",
       "4                       0                                       0   \n",
       "\n",
       "  Clinica_edema Clinica_edema_e_proteinuria  \\\n",
       "0             0                           0   \n",
       "1             0                           0   \n",
       "2             0                           0   \n",
       "3             0                           0   \n",
       "4             0                           0   \n",
       "\n",
       "  Clinica_edema_oliguria_escarros_hemoptoicos_e_hematuria  \\\n",
       "0                                                  0        \n",
       "1                                                  0        \n",
       "2                                                  0        \n",
       "3                                                  0        \n",
       "4                                                  0        \n",
       "\n",
       "  Clinica_edema_persistente_associado_a_hematuria_e_hipertensao  ...  \\\n",
       "0                                                  0             ...   \n",
       "1                                                  0             ...   \n",
       "2                                                  0             ...   \n",
       "3                                                  0             ...   \n",
       "4                                                  0             ...   \n",
       "\n",
       "  Clinica_proteinuria_hematuria_consumo_de_complemento  \\\n",
       "0                                                  0     \n",
       "1                                                  0     \n",
       "2                                                  0     \n",
       "3                                                  0     \n",
       "4                                                  0     \n",
       "\n",
       "  Clinica_proteinuria_hematuria_e_alteracao_cardiaca  \\\n",
       "0                                                  0   \n",
       "1                                                  0   \n",
       "2                                                  0   \n",
       "3                                                  0   \n",
       "4                                                  0   \n",
       "\n",
       "  Clinica_proteinuria_hematuria_e_insuficiencia_renal_cronica  \\\n",
       "0                                                  0            \n",
       "1                                                  0            \n",
       "2                                                  0            \n",
       "3                                                  0            \n",
       "4                                                  0            \n",
       "\n",
       "  Clinica_proteinuria_nefrotica Clinica_sindrome_nefrítica  \\\n",
       "0                             0                          0   \n",
       "1                             0                          0   \n",
       "2                             0                          0   \n",
       "3                             0                          0   \n",
       "4                             0                          0   \n",
       "\n",
       "  Clinica_sindrome_nefritica-nefrotica Clinica_sindrome_nefritico-nefrotica  \\\n",
       "0                                    0                                    0   \n",
       "1                                    0                                    0   \n",
       "2                                    0                                    0   \n",
       "3                                    0                                    0   \n",
       "4                                    0                                    0   \n",
       "\n",
       "  Clinica_sindrome_nefrotica Clinica_sindrome_nefrotica_cortico-dependente  \\\n",
       "0                          1                                             0   \n",
       "1                          0                                             0   \n",
       "2                          1                                             0   \n",
       "3                          1                                             0   \n",
       "4                          1                                             0   \n",
       "\n",
       "  Clinica_sindrome_nefrotica_cortico-resistente  \n",
       "0                                             0  \n",
       "1                                             0  \n",
       "2                                             0  \n",
       "3                                             0  \n",
       "4                                             0  \n",
       "\n",
       "[5 rows x 33 columns]"
      ]
     },
     "execution_count": 399,
     "metadata": {},
     "output_type": "execute_result"
    }
   ],
   "source": [
    "contador = 0\n",
    "while contador < 100:\n",
    "    preencher30(base_01['Clínica'], contador)\n",
    "    contador += 1\n",
    "\n",
    "df_30.head()"
   ]
  },
  {
   "cell_type": "code",
   "execution_count": 400,
   "metadata": {},
   "outputs": [
    {
     "data": {
      "text/plain": [
       "síndrome nefrótica                                       20\n",
       "lúpus                                                    17\n",
       "síndrome nefrítico-nefrótica                             12\n",
       "hipertensão e proteinúria                                 5\n",
       "diabetes e proteinúria                                    4\n",
       "Insuficiência renal aguda                                 4\n",
       "proteinúria nefrótica                                     3\n",
       "síndrome nefrótica córtico-resistente                     3\n",
       "hematúria                                                 3\n",
       "proteinúria                                               3\n",
       "síndrome nefrítica                                        2\n",
       "síndrome nefrítica-nefrótica                              2\n",
       "síndrome nefrótica córtico-dependente                     2\n",
       "eclâmpsia e choque hipovolêmico                           1\n",
       "hematúria proteinúria                                     1\n",
       "anasarca e dispnéia                                       1\n",
       "edema oligúria escarros hemoptóicos e hematúria           1\n",
       "hipocalemia e elevação de escórias                        1\n",
       "doença de fabry                                           1\n",
       "proteinúria hematúria e alteração cardíaca                1\n",
       "edema e proteinúria                                       1\n",
       "hipertensão e diabetes                                    1\n",
       "hipertensão diabetes e piora de função renal              1\n",
       "proteinúria hematúria                                     1\n",
       "edema persistente associado a hematúria e hipertensão     1\n",
       "proteinúria hematúria consumo de complemento              1\n",
       "lúpus hematúria e oligúria                                1\n",
       "lúpus anasarca e proteinúria                              1\n",
       "proteinúria e hematúria                                   1\n",
       "diabético e síndrome nefrótica                            1\n",
       "lúpus insuficiência renal algua                           1\n",
       "proteinúria hematúria e insuficiência renal crônica       1\n",
       "edema                                                     1\n",
       "Name: Clínica, dtype: int64"
      ]
     },
     "execution_count": 400,
     "metadata": {},
     "output_type": "execute_result"
    }
   ],
   "source": [
    "base_01['Clínica'].value_counts()"
   ]
  },
  {
   "cell_type": "code",
   "execution_count": 401,
   "metadata": {},
   "outputs": [
    {
     "data": {
      "text/plain": [
       "20"
      ]
     },
     "execution_count": 401,
     "metadata": {},
     "output_type": "execute_result"
    }
   ],
   "source": [
    "len(df_30[df_30['Clinica_sindrome_nefrotica'] == 1])"
   ]
  },
  {
   "cell_type": "code",
   "execution_count": 402,
   "metadata": {},
   "outputs": [
    {
     "data": {
      "text/plain": [
       "17"
      ]
     },
     "execution_count": 402,
     "metadata": {},
     "output_type": "execute_result"
    }
   ],
   "source": [
    "len(df_30[df_30['Clinica_lupus'] == 1])"
   ]
  },
  {
   "cell_type": "code",
   "execution_count": 403,
   "metadata": {},
   "outputs": [
    {
     "data": {
      "text/plain": [
       "12"
      ]
     },
     "execution_count": 403,
     "metadata": {},
     "output_type": "execute_result"
    }
   ],
   "source": [
    "len(df_30[df_30['Clinica_sindrome_nefritico-nefrotica'] == 1])"
   ]
  },
  {
   "cell_type": "code",
   "execution_count": 404,
   "metadata": {},
   "outputs": [
    {
     "data": {
      "text/plain": [
       "5"
      ]
     },
     "execution_count": 404,
     "metadata": {},
     "output_type": "execute_result"
    }
   ],
   "source": [
    "len(df_30[df_30['Clinica_hipertensão_e_proteinuria'] == 1])"
   ]
  },
  {
   "cell_type": "code",
   "execution_count": 405,
   "metadata": {},
   "outputs": [
    {
     "data": {
      "text/plain": [
       "4"
      ]
     },
     "execution_count": 405,
     "metadata": {},
     "output_type": "execute_result"
    }
   ],
   "source": [
    "len(df_30[df_30['Clinica_Insuficiencia_renal_aguda'] == 1])"
   ]
  },
  {
   "cell_type": "code",
   "execution_count": 406,
   "metadata": {},
   "outputs": [
    {
     "data": {
      "text/plain": [
       "4"
      ]
     },
     "execution_count": 406,
     "metadata": {},
     "output_type": "execute_result"
    }
   ],
   "source": [
    "len(df_30[df_30['Clinica_diabetes_e_proteinuria'] == 1])"
   ]
  },
  {
   "cell_type": "code",
   "execution_count": 407,
   "metadata": {},
   "outputs": [
    {
     "data": {
      "text/plain": [
       "3"
      ]
     },
     "execution_count": 407,
     "metadata": {},
     "output_type": "execute_result"
    }
   ],
   "source": [
    "len(df_30[df_30['Clinica_proteinuria_nefrotica'] == 1])"
   ]
  },
  {
   "cell_type": "code",
   "execution_count": 408,
   "metadata": {},
   "outputs": [
    {
     "data": {
      "text/plain": [
       "3"
      ]
     },
     "execution_count": 408,
     "metadata": {},
     "output_type": "execute_result"
    }
   ],
   "source": [
    "len(df_30[df_30['Clinica_proteinuria'] == 1])"
   ]
  },
  {
   "cell_type": "code",
   "execution_count": 409,
   "metadata": {},
   "outputs": [
    {
     "data": {
      "text/plain": [
       "3"
      ]
     },
     "execution_count": 409,
     "metadata": {},
     "output_type": "execute_result"
    }
   ],
   "source": [
    "len(df_30[df_30['Clinica_sindrome_nefrotica_cortico-resistente'] == 1])"
   ]
  },
  {
   "cell_type": "code",
   "execution_count": 410,
   "metadata": {},
   "outputs": [
    {
     "data": {
      "text/plain": [
       "3"
      ]
     },
     "execution_count": 410,
     "metadata": {},
     "output_type": "execute_result"
    }
   ],
   "source": [
    "len(df_30[df_30['Clinica_hematuria'] == 1])"
   ]
  },
  {
   "cell_type": "code",
   "execution_count": 411,
   "metadata": {},
   "outputs": [
    {
     "data": {
      "text/plain": [
       "2"
      ]
     },
     "execution_count": 411,
     "metadata": {},
     "output_type": "execute_result"
    }
   ],
   "source": [
    "len(df_30[df_30['Clinica_sindrome_nefrotica_cortico-dependente'] == 1])"
   ]
  },
  {
   "cell_type": "code",
   "execution_count": 412,
   "metadata": {},
   "outputs": [
    {
     "data": {
      "text/plain": [
       "2"
      ]
     },
     "execution_count": 412,
     "metadata": {},
     "output_type": "execute_result"
    }
   ],
   "source": [
    "len(df_30[df_30['Clinica_sindrome_nefrítica'] == 1])"
   ]
  },
  {
   "cell_type": "code",
   "execution_count": 413,
   "metadata": {
    "scrolled": true
   },
   "outputs": [
    {
     "data": {
      "text/plain": [
       "2"
      ]
     },
     "execution_count": 413,
     "metadata": {},
     "output_type": "execute_result"
    }
   ],
   "source": [
    "len(df_30[df_30['Clinica_sindrome_nefritica-nefrotica'] == 1])"
   ]
  },
  {
   "cell_type": "code",
   "execution_count": 414,
   "metadata": {
    "scrolled": true
   },
   "outputs": [
    {
     "data": {
      "text/plain": [
       "1"
      ]
     },
     "execution_count": 414,
     "metadata": {},
     "output_type": "execute_result"
    }
   ],
   "source": [
    "len(df_30[df_30['Clinica_lupus_anasarca_e_proteinuria'] == 1])"
   ]
  },
  {
   "cell_type": "code",
   "execution_count": 415,
   "metadata": {},
   "outputs": [
    {
     "data": {
      "text/plain": [
       "1"
      ]
     },
     "execution_count": 415,
     "metadata": {},
     "output_type": "execute_result"
    }
   ],
   "source": [
    "len(df_30[df_30['Clinica_hematuria_proteinuria'] == 1])"
   ]
  },
  {
   "cell_type": "code",
   "execution_count": 416,
   "metadata": {},
   "outputs": [
    {
     "data": {
      "text/plain": [
       "1"
      ]
     },
     "execution_count": 416,
     "metadata": {},
     "output_type": "execute_result"
    }
   ],
   "source": [
    "len(df_30[df_30['Clinica_hipocalemia_e_elevacao_de_escorias'] == 1])"
   ]
  },
  {
   "cell_type": "code",
   "execution_count": 417,
   "metadata": {},
   "outputs": [
    {
     "data": {
      "text/plain": [
       "1"
      ]
     },
     "execution_count": 417,
     "metadata": {},
     "output_type": "execute_result"
    }
   ],
   "source": [
    "len(df_30[df_30['Clinica_hipertensao_diabetes_e_piora_de_funcao_renal'] == 1])"
   ]
  },
  {
   "cell_type": "code",
   "execution_count": 418,
   "metadata": {},
   "outputs": [
    {
     "data": {
      "text/plain": [
       "1"
      ]
     },
     "execution_count": 418,
     "metadata": {},
     "output_type": "execute_result"
    }
   ],
   "source": [
    "len(df_30[df_30['Clinica_edema_e_proteinuria'] == 1])"
   ]
  },
  {
   "cell_type": "code",
   "execution_count": 419,
   "metadata": {},
   "outputs": [
    {
     "data": {
      "text/plain": [
       "1"
      ]
     },
     "execution_count": 419,
     "metadata": {},
     "output_type": "execute_result"
    }
   ],
   "source": [
    "len(df_30[df_30['Clinica_hipertensao_e_diabetes'] == 1])"
   ]
  },
  {
   "cell_type": "code",
   "execution_count": 420,
   "metadata": {},
   "outputs": [
    {
     "data": {
      "text/plain": [
       "1"
      ]
     },
     "execution_count": 420,
     "metadata": {},
     "output_type": "execute_result"
    }
   ],
   "source": [
    "len(df_30[df_30['Clinica_lupus_hematuria_e_oliguria'] == 1])"
   ]
  },
  {
   "cell_type": "code",
   "execution_count": 421,
   "metadata": {},
   "outputs": [
    {
     "data": {
      "text/plain": [
       "1"
      ]
     },
     "execution_count": 421,
     "metadata": {},
     "output_type": "execute_result"
    }
   ],
   "source": [
    "len(df_30[df_30['Clinica_proteinuria_hematuria'] == 1])"
   ]
  },
  {
   "cell_type": "code",
   "execution_count": 422,
   "metadata": {},
   "outputs": [
    {
     "data": {
      "text/plain": [
       "1"
      ]
     },
     "execution_count": 422,
     "metadata": {},
     "output_type": "execute_result"
    }
   ],
   "source": [
    "len(df_30[df_30['Clinica_edema_oliguria_escarros_hemoptoicos_e_hematuria'] == 1])"
   ]
  },
  {
   "cell_type": "code",
   "execution_count": 423,
   "metadata": {},
   "outputs": [
    {
     "data": {
      "text/plain": [
       "1"
      ]
     },
     "execution_count": 423,
     "metadata": {},
     "output_type": "execute_result"
    }
   ],
   "source": [
    "len(df_30[df_30['Clinica_doenca_de_fabry'] == 1])"
   ]
  },
  {
   "cell_type": "code",
   "execution_count": 424,
   "metadata": {},
   "outputs": [
    {
     "data": {
      "text/plain": [
       "1"
      ]
     },
     "execution_count": 424,
     "metadata": {},
     "output_type": "execute_result"
    }
   ],
   "source": [
    "len(df_30[df_30['Clinica_proteinuria_hematuria_e_insuficiencia_renal_cronica'] == 1])"
   ]
  },
  {
   "cell_type": "code",
   "execution_count": 425,
   "metadata": {},
   "outputs": [
    {
     "data": {
      "text/plain": [
       "1"
      ]
     },
     "execution_count": 425,
     "metadata": {},
     "output_type": "execute_result"
    }
   ],
   "source": [
    "len(df_30[df_30['Clinica_diabetico_e_sindrome_nefrotica'] == 1])"
   ]
  },
  {
   "cell_type": "code",
   "execution_count": 426,
   "metadata": {
    "scrolled": true
   },
   "outputs": [
    {
     "data": {
      "text/plain": [
       "1"
      ]
     },
     "execution_count": 426,
     "metadata": {},
     "output_type": "execute_result"
    }
   ],
   "source": [
    "len(df_30[df_30['Clinica_edema_persistente_associado_a_hematuria_e_hipertensao'] == 1])"
   ]
  },
  {
   "cell_type": "code",
   "execution_count": 427,
   "metadata": {},
   "outputs": [
    {
     "data": {
      "text/plain": [
       "1"
      ]
     },
     "execution_count": 427,
     "metadata": {},
     "output_type": "execute_result"
    }
   ],
   "source": [
    "len(df_30[df_30['Clinica_anasarca_e_dispneia'] == 1])"
   ]
  },
  {
   "cell_type": "code",
   "execution_count": 428,
   "metadata": {},
   "outputs": [
    {
     "data": {
      "text/plain": [
       "1"
      ]
     },
     "execution_count": 428,
     "metadata": {},
     "output_type": "execute_result"
    }
   ],
   "source": [
    "len(df_30[df_30['Clinica_proteinuria_e_hematuria'] == 1])"
   ]
  },
  {
   "cell_type": "code",
   "execution_count": 429,
   "metadata": {
    "scrolled": true
   },
   "outputs": [
    {
     "data": {
      "text/plain": [
       "1"
      ]
     },
     "execution_count": 429,
     "metadata": {},
     "output_type": "execute_result"
    }
   ],
   "source": [
    "len(df_30[df_30['Clinica_lupus_insuficiencia_renal_algua'] == 1])"
   ]
  },
  {
   "cell_type": "code",
   "execution_count": 430,
   "metadata": {},
   "outputs": [
    {
     "data": {
      "text/plain": [
       "1"
      ]
     },
     "execution_count": 430,
     "metadata": {},
     "output_type": "execute_result"
    }
   ],
   "source": [
    "len(df_30[df_30['Clinica_edema'] == 1])"
   ]
  },
  {
   "cell_type": "code",
   "execution_count": 431,
   "metadata": {},
   "outputs": [
    {
     "data": {
      "text/plain": [
       "1"
      ]
     },
     "execution_count": 431,
     "metadata": {},
     "output_type": "execute_result"
    }
   ],
   "source": [
    "len(df_30[df_30['Clinica_eclampsia_e_choque_hipovolemico'] == 1])"
   ]
  },
  {
   "cell_type": "code",
   "execution_count": 432,
   "metadata": {},
   "outputs": [
    {
     "data": {
      "text/plain": [
       "1"
      ]
     },
     "execution_count": 432,
     "metadata": {},
     "output_type": "execute_result"
    }
   ],
   "source": [
    "len(df_30[df_30['Clinica_proteinuria_hematuria_consumo_de_complemento'] == 1])"
   ]
  },
  {
   "cell_type": "code",
   "execution_count": 433,
   "metadata": {},
   "outputs": [
    {
     "data": {
      "text/plain": [
       "1"
      ]
     },
     "execution_count": 433,
     "metadata": {},
     "output_type": "execute_result"
    }
   ],
   "source": [
    "len(df_30[df_30['Clinica_proteinuria_hematuria_e_alteracao_cardiaca'] == 1])"
   ]
  },
  {
   "cell_type": "markdown",
   "metadata": {},
   "source": [
    "Textura"
   ]
  },
  {
   "cell_type": "code",
   "execution_count": 434,
   "metadata": {},
   "outputs": [
    {
     "data": {
      "text/html": [
       "<div>\n",
       "<style scoped>\n",
       "    .dataframe tbody tr th:only-of-type {\n",
       "        vertical-align: middle;\n",
       "    }\n",
       "\n",
       "    .dataframe tbody tr th {\n",
       "        vertical-align: top;\n",
       "    }\n",
       "\n",
       "    .dataframe thead th {\n",
       "        text-align: right;\n",
       "    }\n",
       "</style>\n",
       "<table border=\"1\" class=\"dataframe\">\n",
       "  <thead>\n",
       "    <tr style=\"text-align: right;\">\n",
       "      <th></th>\n",
       "      <th>Textura_Inexistente</th>\n",
       "      <th>Textura_Regular</th>\n",
       "      <th>Textura_Suave</th>\n",
       "    </tr>\n",
       "  </thead>\n",
       "  <tbody>\n",
       "    <tr>\n",
       "      <th>0</th>\n",
       "      <td>NaN</td>\n",
       "      <td>NaN</td>\n",
       "      <td>NaN</td>\n",
       "    </tr>\n",
       "    <tr>\n",
       "      <th>1</th>\n",
       "      <td>NaN</td>\n",
       "      <td>NaN</td>\n",
       "      <td>NaN</td>\n",
       "    </tr>\n",
       "    <tr>\n",
       "      <th>2</th>\n",
       "      <td>NaN</td>\n",
       "      <td>NaN</td>\n",
       "      <td>NaN</td>\n",
       "    </tr>\n",
       "    <tr>\n",
       "      <th>3</th>\n",
       "      <td>NaN</td>\n",
       "      <td>NaN</td>\n",
       "      <td>NaN</td>\n",
       "    </tr>\n",
       "    <tr>\n",
       "      <th>4</th>\n",
       "      <td>NaN</td>\n",
       "      <td>NaN</td>\n",
       "      <td>NaN</td>\n",
       "    </tr>\n",
       "  </tbody>\n",
       "</table>\n",
       "</div>"
      ],
      "text/plain": [
       "  Textura_Inexistente Textura_Regular Textura_Suave\n",
       "0                 NaN             NaN           NaN\n",
       "1                 NaN             NaN           NaN\n",
       "2                 NaN             NaN           NaN\n",
       "3                 NaN             NaN           NaN\n",
       "4                 NaN             NaN           NaN"
      ]
     },
     "execution_count": 434,
     "metadata": {},
     "output_type": "execute_result"
    }
   ],
   "source": [
    "df_31 = pd.DataFrame(index = indices, columns = Textura)\n",
    "df_31.head()"
   ]
  },
  {
   "cell_type": "code",
   "execution_count": 435,
   "metadata": {},
   "outputs": [
    {
     "data": {
      "text/plain": [
       "array(['Inexistente', 'Regular', 'Suave'], dtype=object)"
      ]
     },
     "execution_count": 435,
     "metadata": {},
     "output_type": "execute_result"
    }
   ],
   "source": [
    "np.unique(base_01['Textura'])"
   ]
  },
  {
   "cell_type": "code",
   "execution_count": 436,
   "metadata": {},
   "outputs": [
    {
     "data": {
      "text/plain": [
       "Index(['Textura_Inexistente', 'Textura_Regular', 'Textura_Suave'], dtype='object')"
      ]
     },
     "execution_count": 436,
     "metadata": {},
     "output_type": "execute_result"
    }
   ],
   "source": [
    "df_31.columns"
   ]
  },
  {
   "cell_type": "code",
   "execution_count": 437,
   "metadata": {},
   "outputs": [],
   "source": [
    "def preencher31(coluna, i):\n",
    "    if coluna[i] == 'Inexistente':\n",
    "        df_31['Textura_Inexistente'][i] = 1\n",
    "        df_31['Textura_Regular'][i]     = 0\n",
    "        df_31['Textura_Suave'][i]       = 0\n",
    "    elif coluna[i] == 'Regular':\n",
    "        df_31['Textura_Inexistente'][i] = 0\n",
    "        df_31['Textura_Regular'][i]     = 1\n",
    "        df_31['Textura_Suave'][i]       = 0\n",
    "    else :\n",
    "        df_31['Textura_Inexistente'][i] = 0\n",
    "        df_31['Textura_Regular'][i]     = 0\n",
    "        df_31['Textura_Suave'][i]       = 1"
   ]
  },
  {
   "cell_type": "code",
   "execution_count": 438,
   "metadata": {},
   "outputs": [
    {
     "data": {
      "text/html": [
       "<div>\n",
       "<style scoped>\n",
       "    .dataframe tbody tr th:only-of-type {\n",
       "        vertical-align: middle;\n",
       "    }\n",
       "\n",
       "    .dataframe tbody tr th {\n",
       "        vertical-align: top;\n",
       "    }\n",
       "\n",
       "    .dataframe thead th {\n",
       "        text-align: right;\n",
       "    }\n",
       "</style>\n",
       "<table border=\"1\" class=\"dataframe\">\n",
       "  <thead>\n",
       "    <tr style=\"text-align: right;\">\n",
       "      <th></th>\n",
       "      <th>Textura_Inexistente</th>\n",
       "      <th>Textura_Regular</th>\n",
       "      <th>Textura_Suave</th>\n",
       "    </tr>\n",
       "  </thead>\n",
       "  <tbody>\n",
       "    <tr>\n",
       "      <th>0</th>\n",
       "      <td>0</td>\n",
       "      <td>1</td>\n",
       "      <td>0</td>\n",
       "    </tr>\n",
       "    <tr>\n",
       "      <th>1</th>\n",
       "      <td>0</td>\n",
       "      <td>1</td>\n",
       "      <td>0</td>\n",
       "    </tr>\n",
       "    <tr>\n",
       "      <th>2</th>\n",
       "      <td>0</td>\n",
       "      <td>1</td>\n",
       "      <td>0</td>\n",
       "    </tr>\n",
       "    <tr>\n",
       "      <th>3</th>\n",
       "      <td>0</td>\n",
       "      <td>1</td>\n",
       "      <td>0</td>\n",
       "    </tr>\n",
       "    <tr>\n",
       "      <th>4</th>\n",
       "      <td>0</td>\n",
       "      <td>0</td>\n",
       "      <td>1</td>\n",
       "    </tr>\n",
       "  </tbody>\n",
       "</table>\n",
       "</div>"
      ],
      "text/plain": [
       "  Textura_Inexistente Textura_Regular Textura_Suave\n",
       "0                   0               1             0\n",
       "1                   0               1             0\n",
       "2                   0               1             0\n",
       "3                   0               1             0\n",
       "4                   0               0             1"
      ]
     },
     "execution_count": 438,
     "metadata": {},
     "output_type": "execute_result"
    }
   ],
   "source": [
    "contador = 0\n",
    "while contador < 100:\n",
    "    preencher31(base_01['Textura'], contador)\n",
    "    contador += 1\n",
    "\n",
    "df_31.head()"
   ]
  },
  {
   "cell_type": "code",
   "execution_count": 439,
   "metadata": {},
   "outputs": [
    {
     "data": {
      "text/plain": [
       "Regular        67\n",
       "Inexistente    29\n",
       "Suave           4\n",
       "Name: Textura, dtype: int64"
      ]
     },
     "execution_count": 439,
     "metadata": {},
     "output_type": "execute_result"
    }
   ],
   "source": [
    "base_01['Textura'].value_counts()"
   ]
  },
  {
   "cell_type": "code",
   "execution_count": 440,
   "metadata": {},
   "outputs": [
    {
     "data": {
      "text/plain": [
       "67"
      ]
     },
     "execution_count": 440,
     "metadata": {},
     "output_type": "execute_result"
    }
   ],
   "source": [
    "len(df_31[df_31['Textura_Regular'] == 1])"
   ]
  },
  {
   "cell_type": "code",
   "execution_count": 441,
   "metadata": {},
   "outputs": [
    {
     "data": {
      "text/plain": [
       "29"
      ]
     },
     "execution_count": 441,
     "metadata": {},
     "output_type": "execute_result"
    }
   ],
   "source": [
    "len(df_31[df_31['Textura_Inexistente'] == 1])"
   ]
  },
  {
   "cell_type": "code",
   "execution_count": 442,
   "metadata": {},
   "outputs": [
    {
     "data": {
      "text/plain": [
       "4"
      ]
     },
     "execution_count": 442,
     "metadata": {},
     "output_type": "execute_result"
    }
   ],
   "source": [
    "len(df_31[df_31['Textura_Suave'] == 1])"
   ]
  },
  {
   "cell_type": "markdown",
   "metadata": {},
   "source": [
    "# Unindo as Novas Bases"
   ]
  },
  {
   "cell_type": "code",
   "execution_count": 443,
   "metadata": {},
   "outputs": [
    {
     "data": {
      "text/html": [
       "<div>\n",
       "<style scoped>\n",
       "    .dataframe tbody tr th:only-of-type {\n",
       "        vertical-align: middle;\n",
       "    }\n",
       "\n",
       "    .dataframe tbody tr th {\n",
       "        vertical-align: top;\n",
       "    }\n",
       "\n",
       "    .dataframe thead th {\n",
       "        text-align: right;\n",
       "    }\n",
       "</style>\n",
       "<table border=\"1\" class=\"dataframe\">\n",
       "  <thead>\n",
       "    <tr style=\"text-align: right;\">\n",
       "      <th></th>\n",
       "      <th>Matriz_mesangial_aspecto_nodular</th>\n",
       "      <th>Matriz_mesangial_aumentada</th>\n",
       "      <th>Matriz_mesangial_aumento_discreto</th>\n",
       "      <th>Matriz_mesangial_mesangiolise</th>\n",
       "      <th>Matriz_mesangial_normal</th>\n",
       "      <th>Celularidade_mesangial_aumentada</th>\n",
       "      <th>Celularidade_mesangial_diminuida</th>\n",
       "      <th>Celularidade_mesangial_normal</th>\n",
       "      <th>Membrana_basal_glomerular_duplicacao</th>\n",
       "      <th>Membrana_basal_glomerular_duplicacao_e_espiculas</th>\n",
       "      <th>...</th>\n",
       "      <th>Clinica_proteinuria_nefrotica</th>\n",
       "      <th>Clinica_sindrome_nefrítica</th>\n",
       "      <th>Clinica_sindrome_nefritica-nefrotica</th>\n",
       "      <th>Clinica_sindrome_nefritico-nefrotica</th>\n",
       "      <th>Clinica_sindrome_nefrotica</th>\n",
       "      <th>Clinica_sindrome_nefrotica_cortico-dependente</th>\n",
       "      <th>Clinica_sindrome_nefrotica_cortico-resistente</th>\n",
       "      <th>Textura_Inexistente</th>\n",
       "      <th>Textura_Regular</th>\n",
       "      <th>Textura_Suave</th>\n",
       "    </tr>\n",
       "  </thead>\n",
       "  <tbody>\n",
       "    <tr>\n",
       "      <th>0</th>\n",
       "      <td>0</td>\n",
       "      <td>0</td>\n",
       "      <td>0</td>\n",
       "      <td>0</td>\n",
       "      <td>1</td>\n",
       "      <td>0</td>\n",
       "      <td>0</td>\n",
       "      <td>1</td>\n",
       "      <td>0</td>\n",
       "      <td>0</td>\n",
       "      <td>...</td>\n",
       "      <td>0</td>\n",
       "      <td>0</td>\n",
       "      <td>0</td>\n",
       "      <td>0</td>\n",
       "      <td>1</td>\n",
       "      <td>0</td>\n",
       "      <td>0</td>\n",
       "      <td>0</td>\n",
       "      <td>1</td>\n",
       "      <td>0</td>\n",
       "    </tr>\n",
       "    <tr>\n",
       "      <th>1</th>\n",
       "      <td>0</td>\n",
       "      <td>0</td>\n",
       "      <td>0</td>\n",
       "      <td>0</td>\n",
       "      <td>1</td>\n",
       "      <td>0</td>\n",
       "      <td>0</td>\n",
       "      <td>1</td>\n",
       "      <td>0</td>\n",
       "      <td>0</td>\n",
       "      <td>...</td>\n",
       "      <td>0</td>\n",
       "      <td>0</td>\n",
       "      <td>0</td>\n",
       "      <td>0</td>\n",
       "      <td>0</td>\n",
       "      <td>0</td>\n",
       "      <td>0</td>\n",
       "      <td>0</td>\n",
       "      <td>1</td>\n",
       "      <td>0</td>\n",
       "    </tr>\n",
       "    <tr>\n",
       "      <th>2</th>\n",
       "      <td>0</td>\n",
       "      <td>1</td>\n",
       "      <td>0</td>\n",
       "      <td>0</td>\n",
       "      <td>0</td>\n",
       "      <td>0</td>\n",
       "      <td>0</td>\n",
       "      <td>1</td>\n",
       "      <td>0</td>\n",
       "      <td>0</td>\n",
       "      <td>...</td>\n",
       "      <td>0</td>\n",
       "      <td>0</td>\n",
       "      <td>0</td>\n",
       "      <td>0</td>\n",
       "      <td>1</td>\n",
       "      <td>0</td>\n",
       "      <td>0</td>\n",
       "      <td>0</td>\n",
       "      <td>1</td>\n",
       "      <td>0</td>\n",
       "    </tr>\n",
       "    <tr>\n",
       "      <th>3</th>\n",
       "      <td>0</td>\n",
       "      <td>0</td>\n",
       "      <td>0</td>\n",
       "      <td>0</td>\n",
       "      <td>1</td>\n",
       "      <td>0</td>\n",
       "      <td>0</td>\n",
       "      <td>1</td>\n",
       "      <td>0</td>\n",
       "      <td>0</td>\n",
       "      <td>...</td>\n",
       "      <td>0</td>\n",
       "      <td>0</td>\n",
       "      <td>0</td>\n",
       "      <td>0</td>\n",
       "      <td>1</td>\n",
       "      <td>0</td>\n",
       "      <td>0</td>\n",
       "      <td>0</td>\n",
       "      <td>1</td>\n",
       "      <td>0</td>\n",
       "    </tr>\n",
       "    <tr>\n",
       "      <th>4</th>\n",
       "      <td>0</td>\n",
       "      <td>0</td>\n",
       "      <td>1</td>\n",
       "      <td>0</td>\n",
       "      <td>0</td>\n",
       "      <td>0</td>\n",
       "      <td>0</td>\n",
       "      <td>1</td>\n",
       "      <td>1</td>\n",
       "      <td>0</td>\n",
       "      <td>...</td>\n",
       "      <td>0</td>\n",
       "      <td>0</td>\n",
       "      <td>0</td>\n",
       "      <td>0</td>\n",
       "      <td>1</td>\n",
       "      <td>0</td>\n",
       "      <td>0</td>\n",
       "      <td>0</td>\n",
       "      <td>0</td>\n",
       "      <td>1</td>\n",
       "    </tr>\n",
       "  </tbody>\n",
       "</table>\n",
       "<p>5 rows × 189 columns</p>\n",
       "</div>"
      ],
      "text/plain": [
       "  Matriz_mesangial_aspecto_nodular Matriz_mesangial_aumentada  \\\n",
       "0                                0                          0   \n",
       "1                                0                          0   \n",
       "2                                0                          1   \n",
       "3                                0                          0   \n",
       "4                                0                          0   \n",
       "\n",
       "  Matriz_mesangial_aumento_discreto Matriz_mesangial_mesangiolise  \\\n",
       "0                                 0                             0   \n",
       "1                                 0                             0   \n",
       "2                                 0                             0   \n",
       "3                                 0                             0   \n",
       "4                                 1                             0   \n",
       "\n",
       "  Matriz_mesangial_normal Celularidade_mesangial_aumentada  \\\n",
       "0                       1                                0   \n",
       "1                       1                                0   \n",
       "2                       0                                0   \n",
       "3                       1                                0   \n",
       "4                       0                                0   \n",
       "\n",
       "  Celularidade_mesangial_diminuida Celularidade_mesangial_normal  \\\n",
       "0                                0                             1   \n",
       "1                                0                             1   \n",
       "2                                0                             1   \n",
       "3                                0                             1   \n",
       "4                                0                             1   \n",
       "\n",
       "  Membrana_basal_glomerular_duplicacao  \\\n",
       "0                                    0   \n",
       "1                                    0   \n",
       "2                                    0   \n",
       "3                                    0   \n",
       "4                                    1   \n",
       "\n",
       "  Membrana_basal_glomerular_duplicacao_e_espiculas  ...  \\\n",
       "0                                                0  ...   \n",
       "1                                                0  ...   \n",
       "2                                                0  ...   \n",
       "3                                                0  ...   \n",
       "4                                                0  ...   \n",
       "\n",
       "  Clinica_proteinuria_nefrotica Clinica_sindrome_nefrítica  \\\n",
       "0                             0                          0   \n",
       "1                             0                          0   \n",
       "2                             0                          0   \n",
       "3                             0                          0   \n",
       "4                             0                          0   \n",
       "\n",
       "  Clinica_sindrome_nefritica-nefrotica Clinica_sindrome_nefritico-nefrotica  \\\n",
       "0                                    0                                    0   \n",
       "1                                    0                                    0   \n",
       "2                                    0                                    0   \n",
       "3                                    0                                    0   \n",
       "4                                    0                                    0   \n",
       "\n",
       "  Clinica_sindrome_nefrotica Clinica_sindrome_nefrotica_cortico-dependente  \\\n",
       "0                          1                                             0   \n",
       "1                          0                                             0   \n",
       "2                          1                                             0   \n",
       "3                          1                                             0   \n",
       "4                          1                                             0   \n",
       "\n",
       "  Clinica_sindrome_nefrotica_cortico-resistente Textura_Inexistente  \\\n",
       "0                                             0                   0   \n",
       "1                                             0                   0   \n",
       "2                                             0                   0   \n",
       "3                                             0                   0   \n",
       "4                                             0                   0   \n",
       "\n",
       "  Textura_Regular Textura_Suave  \n",
       "0               1             0  \n",
       "1               1             0  \n",
       "2               1             0  \n",
       "3               1             0  \n",
       "4               0             1  \n",
       "\n",
       "[5 rows x 189 columns]"
      ]
     },
     "execution_count": 443,
     "metadata": {},
     "output_type": "execute_result"
    }
   ],
   "source": [
    "base_01_desmembrada = pd.concat([df_01, df_02, df_03, df_04, df_05, df_06, df_07, df_08, df_09, df_10, \n",
    "                                 df_11, df_12, df_13, df_14, df_15, df_16, df_17, df_18, df_19, df_20,\n",
    "                                 df_21, df_22, df_23, df_24, df_25, df_26, df_27, df_28, df_29, df_30,\n",
    "                                 df_31], axis=1, join='inner')\n",
    "base_01_desmembrada.head()"
   ]
  },
  {
   "cell_type": "code",
   "execution_count": 444,
   "metadata": {},
   "outputs": [
    {
     "data": {
      "text/html": [
       "<div>\n",
       "<style scoped>\n",
       "    .dataframe tbody tr th:only-of-type {\n",
       "        vertical-align: middle;\n",
       "    }\n",
       "\n",
       "    .dataframe tbody tr th {\n",
       "        vertical-align: top;\n",
       "    }\n",
       "\n",
       "    .dataframe thead th {\n",
       "        text-align: right;\n",
       "    }\n",
       "</style>\n",
       "<table border=\"1\" class=\"dataframe\">\n",
       "  <thead>\n",
       "    <tr style=\"text-align: right;\">\n",
       "      <th></th>\n",
       "      <th>Matriz_mesangial_aspecto_nodular</th>\n",
       "      <th>Matriz_mesangial_aumentada</th>\n",
       "      <th>Matriz_mesangial_aumento_discreto</th>\n",
       "      <th>Matriz_mesangial_mesangiolise</th>\n",
       "      <th>Matriz_mesangial_normal</th>\n",
       "      <th>Celularidade_mesangial_aumentada</th>\n",
       "      <th>Celularidade_mesangial_diminuida</th>\n",
       "      <th>Celularidade_mesangial_normal</th>\n",
       "      <th>Membrana_basal_glomerular_duplicacao</th>\n",
       "      <th>Membrana_basal_glomerular_duplicacao_e_espiculas</th>\n",
       "      <th>...</th>\n",
       "      <th>Clinica_proteinuria_nefrotica</th>\n",
       "      <th>Clinica_sindrome_nefrítica</th>\n",
       "      <th>Clinica_sindrome_nefritica-nefrotica</th>\n",
       "      <th>Clinica_sindrome_nefritico-nefrotica</th>\n",
       "      <th>Clinica_sindrome_nefrotica</th>\n",
       "      <th>Clinica_sindrome_nefrotica_cortico-dependente</th>\n",
       "      <th>Clinica_sindrome_nefrotica_cortico-resistente</th>\n",
       "      <th>Textura_Inexistente</th>\n",
       "      <th>Textura_Regular</th>\n",
       "      <th>Textura_Suave</th>\n",
       "    </tr>\n",
       "  </thead>\n",
       "  <tbody>\n",
       "    <tr>\n",
       "      <th>0</th>\n",
       "      <td>0</td>\n",
       "      <td>0</td>\n",
       "      <td>0</td>\n",
       "      <td>0</td>\n",
       "      <td>1</td>\n",
       "      <td>0</td>\n",
       "      <td>0</td>\n",
       "      <td>1</td>\n",
       "      <td>0</td>\n",
       "      <td>0</td>\n",
       "      <td>...</td>\n",
       "      <td>0</td>\n",
       "      <td>0</td>\n",
       "      <td>0</td>\n",
       "      <td>0</td>\n",
       "      <td>1</td>\n",
       "      <td>0</td>\n",
       "      <td>0</td>\n",
       "      <td>0</td>\n",
       "      <td>1</td>\n",
       "      <td>0</td>\n",
       "    </tr>\n",
       "    <tr>\n",
       "      <th>1</th>\n",
       "      <td>0</td>\n",
       "      <td>0</td>\n",
       "      <td>0</td>\n",
       "      <td>0</td>\n",
       "      <td>1</td>\n",
       "      <td>0</td>\n",
       "      <td>0</td>\n",
       "      <td>1</td>\n",
       "      <td>0</td>\n",
       "      <td>0</td>\n",
       "      <td>...</td>\n",
       "      <td>0</td>\n",
       "      <td>0</td>\n",
       "      <td>0</td>\n",
       "      <td>0</td>\n",
       "      <td>0</td>\n",
       "      <td>0</td>\n",
       "      <td>0</td>\n",
       "      <td>0</td>\n",
       "      <td>1</td>\n",
       "      <td>0</td>\n",
       "    </tr>\n",
       "    <tr>\n",
       "      <th>2</th>\n",
       "      <td>0</td>\n",
       "      <td>1</td>\n",
       "      <td>0</td>\n",
       "      <td>0</td>\n",
       "      <td>0</td>\n",
       "      <td>0</td>\n",
       "      <td>0</td>\n",
       "      <td>1</td>\n",
       "      <td>0</td>\n",
       "      <td>0</td>\n",
       "      <td>...</td>\n",
       "      <td>0</td>\n",
       "      <td>0</td>\n",
       "      <td>0</td>\n",
       "      <td>0</td>\n",
       "      <td>1</td>\n",
       "      <td>0</td>\n",
       "      <td>0</td>\n",
       "      <td>0</td>\n",
       "      <td>1</td>\n",
       "      <td>0</td>\n",
       "    </tr>\n",
       "    <tr>\n",
       "      <th>3</th>\n",
       "      <td>0</td>\n",
       "      <td>0</td>\n",
       "      <td>0</td>\n",
       "      <td>0</td>\n",
       "      <td>1</td>\n",
       "      <td>0</td>\n",
       "      <td>0</td>\n",
       "      <td>1</td>\n",
       "      <td>0</td>\n",
       "      <td>0</td>\n",
       "      <td>...</td>\n",
       "      <td>0</td>\n",
       "      <td>0</td>\n",
       "      <td>0</td>\n",
       "      <td>0</td>\n",
       "      <td>1</td>\n",
       "      <td>0</td>\n",
       "      <td>0</td>\n",
       "      <td>0</td>\n",
       "      <td>1</td>\n",
       "      <td>0</td>\n",
       "    </tr>\n",
       "    <tr>\n",
       "      <th>4</th>\n",
       "      <td>0</td>\n",
       "      <td>0</td>\n",
       "      <td>1</td>\n",
       "      <td>0</td>\n",
       "      <td>0</td>\n",
       "      <td>0</td>\n",
       "      <td>0</td>\n",
       "      <td>1</td>\n",
       "      <td>1</td>\n",
       "      <td>0</td>\n",
       "      <td>...</td>\n",
       "      <td>0</td>\n",
       "      <td>0</td>\n",
       "      <td>0</td>\n",
       "      <td>0</td>\n",
       "      <td>1</td>\n",
       "      <td>0</td>\n",
       "      <td>0</td>\n",
       "      <td>0</td>\n",
       "      <td>0</td>\n",
       "      <td>1</td>\n",
       "    </tr>\n",
       "  </tbody>\n",
       "</table>\n",
       "<p>5 rows × 189 columns</p>\n",
       "</div>"
      ],
      "text/plain": [
       "  Matriz_mesangial_aspecto_nodular Matriz_mesangial_aumentada  \\\n",
       "0                                0                          0   \n",
       "1                                0                          0   \n",
       "2                                0                          1   \n",
       "3                                0                          0   \n",
       "4                                0                          0   \n",
       "\n",
       "  Matriz_mesangial_aumento_discreto Matriz_mesangial_mesangiolise  \\\n",
       "0                                 0                             0   \n",
       "1                                 0                             0   \n",
       "2                                 0                             0   \n",
       "3                                 0                             0   \n",
       "4                                 1                             0   \n",
       "\n",
       "  Matriz_mesangial_normal Celularidade_mesangial_aumentada  \\\n",
       "0                       1                                0   \n",
       "1                       1                                0   \n",
       "2                       0                                0   \n",
       "3                       1                                0   \n",
       "4                       0                                0   \n",
       "\n",
       "  Celularidade_mesangial_diminuida Celularidade_mesangial_normal  \\\n",
       "0                                0                             1   \n",
       "1                                0                             1   \n",
       "2                                0                             1   \n",
       "3                                0                             1   \n",
       "4                                0                             1   \n",
       "\n",
       "  Membrana_basal_glomerular_duplicacao  \\\n",
       "0                                    0   \n",
       "1                                    0   \n",
       "2                                    0   \n",
       "3                                    0   \n",
       "4                                    1   \n",
       "\n",
       "  Membrana_basal_glomerular_duplicacao_e_espiculas  ...  \\\n",
       "0                                                0  ...   \n",
       "1                                                0  ...   \n",
       "2                                                0  ...   \n",
       "3                                                0  ...   \n",
       "4                                                0  ...   \n",
       "\n",
       "  Clinica_proteinuria_nefrotica Clinica_sindrome_nefrítica  \\\n",
       "0                             0                          0   \n",
       "1                             0                          0   \n",
       "2                             0                          0   \n",
       "3                             0                          0   \n",
       "4                             0                          0   \n",
       "\n",
       "  Clinica_sindrome_nefritica-nefrotica Clinica_sindrome_nefritico-nefrotica  \\\n",
       "0                                    0                                    0   \n",
       "1                                    0                                    0   \n",
       "2                                    0                                    0   \n",
       "3                                    0                                    0   \n",
       "4                                    0                                    0   \n",
       "\n",
       "  Clinica_sindrome_nefrotica Clinica_sindrome_nefrotica_cortico-dependente  \\\n",
       "0                          1                                             0   \n",
       "1                          0                                             0   \n",
       "2                          1                                             0   \n",
       "3                          1                                             0   \n",
       "4                          1                                             0   \n",
       "\n",
       "  Clinica_sindrome_nefrotica_cortico-resistente Textura_Inexistente  \\\n",
       "0                                             0                   0   \n",
       "1                                             0                   0   \n",
       "2                                             0                   0   \n",
       "3                                             0                   0   \n",
       "4                                             0                   0   \n",
       "\n",
       "  Textura_Regular Textura_Suave  \n",
       "0               1             0  \n",
       "1               1             0  \n",
       "2               1             0  \n",
       "3               1             0  \n",
       "4               0             1  \n",
       "\n",
       "[5 rows x 189 columns]"
      ]
     },
     "execution_count": 444,
     "metadata": {},
     "output_type": "execute_result"
    }
   ],
   "source": [
    "base_01_desmembrada.head()"
   ]
  },
  {
   "cell_type": "code",
   "execution_count": 445,
   "metadata": {},
   "outputs": [
    {
     "data": {
      "text/plain": [
       "Index(['Matriz_mesangial_aspecto_nodular', 'Matriz_mesangial_aumentada',\n",
       "       'Matriz_mesangial_aumento_discreto', 'Matriz_mesangial_mesangiolise',\n",
       "       'Matriz_mesangial_normal', 'Celularidade_mesangial_aumentada',\n",
       "       'Celularidade_mesangial_diminuida', 'Celularidade_mesangial_normal',\n",
       "       'Membrana_basal_glomerular_duplicacao',\n",
       "       'Membrana_basal_glomerular_duplicacao_e_espiculas',\n",
       "       ...\n",
       "       'Clinica_proteinuria_nefrotica', 'Clinica_sindrome_nefrítica',\n",
       "       'Clinica_sindrome_nefritica-nefrotica',\n",
       "       'Clinica_sindrome_nefritico-nefrotica', 'Clinica_sindrome_nefrotica',\n",
       "       'Clinica_sindrome_nefrotica_cortico-dependente',\n",
       "       'Clinica_sindrome_nefrotica_cortico-resistente', 'Textura_Inexistente',\n",
       "       'Textura_Regular', 'Textura_Suave'],\n",
       "      dtype='object', length=189)"
      ]
     },
     "execution_count": 445,
     "metadata": {},
     "output_type": "execute_result"
    }
   ],
   "source": [
    "base_01_desmembrada.columns"
   ]
  },
  {
   "cell_type": "code",
   "execution_count": 446,
   "metadata": {},
   "outputs": [],
   "source": [
    "base_limpa_desmembrada_1atributo = pd.concat([base_01_desmembrada, base_01['Diagnóstico']], axis=1, join='inner')"
   ]
  },
  {
   "cell_type": "code",
   "execution_count": 447,
   "metadata": {},
   "outputs": [
    {
     "data": {
      "text/html": [
       "<div>\n",
       "<style scoped>\n",
       "    .dataframe tbody tr th:only-of-type {\n",
       "        vertical-align: middle;\n",
       "    }\n",
       "\n",
       "    .dataframe tbody tr th {\n",
       "        vertical-align: top;\n",
       "    }\n",
       "\n",
       "    .dataframe thead th {\n",
       "        text-align: right;\n",
       "    }\n",
       "</style>\n",
       "<table border=\"1\" class=\"dataframe\">\n",
       "  <thead>\n",
       "    <tr style=\"text-align: right;\">\n",
       "      <th></th>\n",
       "      <th>Matriz_mesangial_aspecto_nodular</th>\n",
       "      <th>Matriz_mesangial_aumentada</th>\n",
       "      <th>Matriz_mesangial_aumento_discreto</th>\n",
       "      <th>Matriz_mesangial_mesangiolise</th>\n",
       "      <th>Matriz_mesangial_normal</th>\n",
       "      <th>Celularidade_mesangial_aumentada</th>\n",
       "      <th>Celularidade_mesangial_diminuida</th>\n",
       "      <th>Celularidade_mesangial_normal</th>\n",
       "      <th>Membrana_basal_glomerular_duplicacao</th>\n",
       "      <th>Membrana_basal_glomerular_duplicacao_e_espiculas</th>\n",
       "      <th>...</th>\n",
       "      <th>Clinica_sindrome_nefrítica</th>\n",
       "      <th>Clinica_sindrome_nefritica-nefrotica</th>\n",
       "      <th>Clinica_sindrome_nefritico-nefrotica</th>\n",
       "      <th>Clinica_sindrome_nefrotica</th>\n",
       "      <th>Clinica_sindrome_nefrotica_cortico-dependente</th>\n",
       "      <th>Clinica_sindrome_nefrotica_cortico-resistente</th>\n",
       "      <th>Textura_Inexistente</th>\n",
       "      <th>Textura_Regular</th>\n",
       "      <th>Textura_Suave</th>\n",
       "      <th>Diagnóstico</th>\n",
       "    </tr>\n",
       "  </thead>\n",
       "  <tbody>\n",
       "    <tr>\n",
       "      <th>0</th>\n",
       "      <td>0</td>\n",
       "      <td>0</td>\n",
       "      <td>0</td>\n",
       "      <td>0</td>\n",
       "      <td>1</td>\n",
       "      <td>0</td>\n",
       "      <td>0</td>\n",
       "      <td>1</td>\n",
       "      <td>0</td>\n",
       "      <td>0</td>\n",
       "      <td>...</td>\n",
       "      <td>0</td>\n",
       "      <td>0</td>\n",
       "      <td>0</td>\n",
       "      <td>1</td>\n",
       "      <td>0</td>\n",
       "      <td>0</td>\n",
       "      <td>0</td>\n",
       "      <td>1</td>\n",
       "      <td>0</td>\n",
       "      <td>Doença de Lesões mínimas</td>\n",
       "    </tr>\n",
       "    <tr>\n",
       "      <th>1</th>\n",
       "      <td>0</td>\n",
       "      <td>0</td>\n",
       "      <td>0</td>\n",
       "      <td>0</td>\n",
       "      <td>1</td>\n",
       "      <td>0</td>\n",
       "      <td>0</td>\n",
       "      <td>1</td>\n",
       "      <td>0</td>\n",
       "      <td>0</td>\n",
       "      <td>...</td>\n",
       "      <td>0</td>\n",
       "      <td>0</td>\n",
       "      <td>0</td>\n",
       "      <td>0</td>\n",
       "      <td>0</td>\n",
       "      <td>0</td>\n",
       "      <td>0</td>\n",
       "      <td>1</td>\n",
       "      <td>0</td>\n",
       "      <td>Rim normal</td>\n",
       "    </tr>\n",
       "    <tr>\n",
       "      <th>2</th>\n",
       "      <td>0</td>\n",
       "      <td>1</td>\n",
       "      <td>0</td>\n",
       "      <td>0</td>\n",
       "      <td>0</td>\n",
       "      <td>0</td>\n",
       "      <td>0</td>\n",
       "      <td>1</td>\n",
       "      <td>0</td>\n",
       "      <td>0</td>\n",
       "      <td>...</td>\n",
       "      <td>0</td>\n",
       "      <td>0</td>\n",
       "      <td>0</td>\n",
       "      <td>1</td>\n",
       "      <td>0</td>\n",
       "      <td>0</td>\n",
       "      <td>0</td>\n",
       "      <td>1</td>\n",
       "      <td>0</td>\n",
       "      <td>Glomeruloesclerose segmentar e focal</td>\n",
       "    </tr>\n",
       "    <tr>\n",
       "      <th>3</th>\n",
       "      <td>0</td>\n",
       "      <td>0</td>\n",
       "      <td>0</td>\n",
       "      <td>0</td>\n",
       "      <td>1</td>\n",
       "      <td>0</td>\n",
       "      <td>0</td>\n",
       "      <td>1</td>\n",
       "      <td>0</td>\n",
       "      <td>0</td>\n",
       "      <td>...</td>\n",
       "      <td>0</td>\n",
       "      <td>0</td>\n",
       "      <td>0</td>\n",
       "      <td>1</td>\n",
       "      <td>0</td>\n",
       "      <td>0</td>\n",
       "      <td>0</td>\n",
       "      <td>1</td>\n",
       "      <td>0</td>\n",
       "      <td>Glomerulopatia membranosa primária</td>\n",
       "    </tr>\n",
       "    <tr>\n",
       "      <th>4</th>\n",
       "      <td>0</td>\n",
       "      <td>0</td>\n",
       "      <td>1</td>\n",
       "      <td>0</td>\n",
       "      <td>0</td>\n",
       "      <td>0</td>\n",
       "      <td>0</td>\n",
       "      <td>1</td>\n",
       "      <td>1</td>\n",
       "      <td>0</td>\n",
       "      <td>...</td>\n",
       "      <td>0</td>\n",
       "      <td>0</td>\n",
       "      <td>0</td>\n",
       "      <td>1</td>\n",
       "      <td>0</td>\n",
       "      <td>0</td>\n",
       "      <td>0</td>\n",
       "      <td>0</td>\n",
       "      <td>1</td>\n",
       "      <td>Glomerulopatia membranosa primária</td>\n",
       "    </tr>\n",
       "  </tbody>\n",
       "</table>\n",
       "<p>5 rows × 190 columns</p>\n",
       "</div>"
      ],
      "text/plain": [
       "  Matriz_mesangial_aspecto_nodular Matriz_mesangial_aumentada  \\\n",
       "0                                0                          0   \n",
       "1                                0                          0   \n",
       "2                                0                          1   \n",
       "3                                0                          0   \n",
       "4                                0                          0   \n",
       "\n",
       "  Matriz_mesangial_aumento_discreto Matriz_mesangial_mesangiolise  \\\n",
       "0                                 0                             0   \n",
       "1                                 0                             0   \n",
       "2                                 0                             0   \n",
       "3                                 0                             0   \n",
       "4                                 1                             0   \n",
       "\n",
       "  Matriz_mesangial_normal Celularidade_mesangial_aumentada  \\\n",
       "0                       1                                0   \n",
       "1                       1                                0   \n",
       "2                       0                                0   \n",
       "3                       1                                0   \n",
       "4                       0                                0   \n",
       "\n",
       "  Celularidade_mesangial_diminuida Celularidade_mesangial_normal  \\\n",
       "0                                0                             1   \n",
       "1                                0                             1   \n",
       "2                                0                             1   \n",
       "3                                0                             1   \n",
       "4                                0                             1   \n",
       "\n",
       "  Membrana_basal_glomerular_duplicacao  \\\n",
       "0                                    0   \n",
       "1                                    0   \n",
       "2                                    0   \n",
       "3                                    0   \n",
       "4                                    1   \n",
       "\n",
       "  Membrana_basal_glomerular_duplicacao_e_espiculas  ...  \\\n",
       "0                                                0  ...   \n",
       "1                                                0  ...   \n",
       "2                                                0  ...   \n",
       "3                                                0  ...   \n",
       "4                                                0  ...   \n",
       "\n",
       "  Clinica_sindrome_nefrítica Clinica_sindrome_nefritica-nefrotica  \\\n",
       "0                          0                                    0   \n",
       "1                          0                                    0   \n",
       "2                          0                                    0   \n",
       "3                          0                                    0   \n",
       "4                          0                                    0   \n",
       "\n",
       "  Clinica_sindrome_nefritico-nefrotica Clinica_sindrome_nefrotica  \\\n",
       "0                                    0                          1   \n",
       "1                                    0                          0   \n",
       "2                                    0                          1   \n",
       "3                                    0                          1   \n",
       "4                                    0                          1   \n",
       "\n",
       "  Clinica_sindrome_nefrotica_cortico-dependente  \\\n",
       "0                                             0   \n",
       "1                                             0   \n",
       "2                                             0   \n",
       "3                                             0   \n",
       "4                                             0   \n",
       "\n",
       "  Clinica_sindrome_nefrotica_cortico-resistente Textura_Inexistente  \\\n",
       "0                                             0                   0   \n",
       "1                                             0                   0   \n",
       "2                                             0                   0   \n",
       "3                                             0                   0   \n",
       "4                                             0                   0   \n",
       "\n",
       "  Textura_Regular Textura_Suave                           Diagnóstico  \n",
       "0               1             0              Doença de Lesões mínimas  \n",
       "1               1             0                            Rim normal  \n",
       "2               1             0  Glomeruloesclerose segmentar e focal  \n",
       "3               1             0    Glomerulopatia membranosa primária  \n",
       "4               0             1    Glomerulopatia membranosa primária  \n",
       "\n",
       "[5 rows x 190 columns]"
      ]
     },
     "execution_count": 447,
     "metadata": {},
     "output_type": "execute_result"
    }
   ],
   "source": [
    "base_limpa_desmembrada_1atributo.head()"
   ]
  },
  {
   "cell_type": "code",
   "execution_count": 448,
   "metadata": {},
   "outputs": [],
   "source": [
    "base_limpa_desmembrada_4atributos = pd.concat([base_01_desmembrada.drop(['Textura_Inexistente', 'Textura_Regular', 'Textura_Suave'], axis = 1),\n",
    "                                               base_02['Diagnóstico'],\n",
    "                                               base_02['Descritor de Suavidade Relativa'], \n",
    "                                               base_02['Terceiro Momento'], \n",
    "                                               base_02['Uniformidade'], \n",
    "                                               base_02['Entropia']], axis=1, join='inner')"
   ]
  },
  {
   "cell_type": "code",
   "execution_count": 449,
   "metadata": {},
   "outputs": [
    {
     "data": {
      "text/html": [
       "<div>\n",
       "<style scoped>\n",
       "    .dataframe tbody tr th:only-of-type {\n",
       "        vertical-align: middle;\n",
       "    }\n",
       "\n",
       "    .dataframe tbody tr th {\n",
       "        vertical-align: top;\n",
       "    }\n",
       "\n",
       "    .dataframe thead th {\n",
       "        text-align: right;\n",
       "    }\n",
       "</style>\n",
       "<table border=\"1\" class=\"dataframe\">\n",
       "  <thead>\n",
       "    <tr style=\"text-align: right;\">\n",
       "      <th></th>\n",
       "      <th>Matriz_mesangial_aspecto_nodular</th>\n",
       "      <th>Matriz_mesangial_aumentada</th>\n",
       "      <th>Matriz_mesangial_aumento_discreto</th>\n",
       "      <th>Matriz_mesangial_mesangiolise</th>\n",
       "      <th>Matriz_mesangial_normal</th>\n",
       "      <th>Celularidade_mesangial_aumentada</th>\n",
       "      <th>Celularidade_mesangial_diminuida</th>\n",
       "      <th>Celularidade_mesangial_normal</th>\n",
       "      <th>Membrana_basal_glomerular_duplicacao</th>\n",
       "      <th>Membrana_basal_glomerular_duplicacao_e_espiculas</th>\n",
       "      <th>...</th>\n",
       "      <th>Clinica_sindrome_nefritica-nefrotica</th>\n",
       "      <th>Clinica_sindrome_nefritico-nefrotica</th>\n",
       "      <th>Clinica_sindrome_nefrotica</th>\n",
       "      <th>Clinica_sindrome_nefrotica_cortico-dependente</th>\n",
       "      <th>Clinica_sindrome_nefrotica_cortico-resistente</th>\n",
       "      <th>Diagnóstico</th>\n",
       "      <th>Descritor de Suavidade Relativa</th>\n",
       "      <th>Terceiro Momento</th>\n",
       "      <th>Uniformidade</th>\n",
       "      <th>Entropia</th>\n",
       "    </tr>\n",
       "  </thead>\n",
       "  <tbody>\n",
       "    <tr>\n",
       "      <th>0</th>\n",
       "      <td>0</td>\n",
       "      <td>0</td>\n",
       "      <td>0</td>\n",
       "      <td>0</td>\n",
       "      <td>1</td>\n",
       "      <td>0</td>\n",
       "      <td>0</td>\n",
       "      <td>1</td>\n",
       "      <td>0</td>\n",
       "      <td>0</td>\n",
       "      <td>...</td>\n",
       "      <td>0</td>\n",
       "      <td>0</td>\n",
       "      <td>1</td>\n",
       "      <td>0</td>\n",
       "      <td>0</td>\n",
       "      <td>Doença de Lesões mínimas</td>\n",
       "      <td>48.00</td>\n",
       "      <td>114031.0</td>\n",
       "      <td>5.0</td>\n",
       "      <td>7663.0</td>\n",
       "    </tr>\n",
       "    <tr>\n",
       "      <th>1</th>\n",
       "      <td>0</td>\n",
       "      <td>0</td>\n",
       "      <td>0</td>\n",
       "      <td>0</td>\n",
       "      <td>1</td>\n",
       "      <td>0</td>\n",
       "      <td>0</td>\n",
       "      <td>1</td>\n",
       "      <td>0</td>\n",
       "      <td>0</td>\n",
       "      <td>...</td>\n",
       "      <td>0</td>\n",
       "      <td>0</td>\n",
       "      <td>0</td>\n",
       "      <td>0</td>\n",
       "      <td>0</td>\n",
       "      <td>Rim normal</td>\n",
       "      <td>21.00</td>\n",
       "      <td>-7241099.0</td>\n",
       "      <td>7.0</td>\n",
       "      <td>7151.0</td>\n",
       "    </tr>\n",
       "    <tr>\n",
       "      <th>2</th>\n",
       "      <td>0</td>\n",
       "      <td>1</td>\n",
       "      <td>0</td>\n",
       "      <td>0</td>\n",
       "      <td>0</td>\n",
       "      <td>0</td>\n",
       "      <td>0</td>\n",
       "      <td>1</td>\n",
       "      <td>0</td>\n",
       "      <td>0</td>\n",
       "      <td>...</td>\n",
       "      <td>0</td>\n",
       "      <td>0</td>\n",
       "      <td>1</td>\n",
       "      <td>0</td>\n",
       "      <td>0</td>\n",
       "      <td>Glomeruloesclerose segmentar e focal</td>\n",
       "      <td>37.00</td>\n",
       "      <td>73222923.0</td>\n",
       "      <td>8.0</td>\n",
       "      <td>7351.0</td>\n",
       "    </tr>\n",
       "    <tr>\n",
       "      <th>3</th>\n",
       "      <td>0</td>\n",
       "      <td>0</td>\n",
       "      <td>0</td>\n",
       "      <td>0</td>\n",
       "      <td>1</td>\n",
       "      <td>0</td>\n",
       "      <td>0</td>\n",
       "      <td>1</td>\n",
       "      <td>0</td>\n",
       "      <td>0</td>\n",
       "      <td>...</td>\n",
       "      <td>0</td>\n",
       "      <td>0</td>\n",
       "      <td>1</td>\n",
       "      <td>0</td>\n",
       "      <td>0</td>\n",
       "      <td>Glomerulopatia membranosa primária</td>\n",
       "      <td>0.04</td>\n",
       "      <td>-139102725.0</td>\n",
       "      <td>9.0</td>\n",
       "      <td>7244.0</td>\n",
       "    </tr>\n",
       "    <tr>\n",
       "      <th>4</th>\n",
       "      <td>0</td>\n",
       "      <td>0</td>\n",
       "      <td>1</td>\n",
       "      <td>0</td>\n",
       "      <td>0</td>\n",
       "      <td>0</td>\n",
       "      <td>0</td>\n",
       "      <td>1</td>\n",
       "      <td>1</td>\n",
       "      <td>0</td>\n",
       "      <td>...</td>\n",
       "      <td>0</td>\n",
       "      <td>0</td>\n",
       "      <td>1</td>\n",
       "      <td>0</td>\n",
       "      <td>0</td>\n",
       "      <td>Glomerulopatia membranosa primária</td>\n",
       "      <td>1.00</td>\n",
       "      <td>1144534.0</td>\n",
       "      <td>152.0</td>\n",
       "      <td>3494.0</td>\n",
       "    </tr>\n",
       "  </tbody>\n",
       "</table>\n",
       "<p>5 rows × 191 columns</p>\n",
       "</div>"
      ],
      "text/plain": [
       "  Matriz_mesangial_aspecto_nodular Matriz_mesangial_aumentada  \\\n",
       "0                                0                          0   \n",
       "1                                0                          0   \n",
       "2                                0                          1   \n",
       "3                                0                          0   \n",
       "4                                0                          0   \n",
       "\n",
       "  Matriz_mesangial_aumento_discreto Matriz_mesangial_mesangiolise  \\\n",
       "0                                 0                             0   \n",
       "1                                 0                             0   \n",
       "2                                 0                             0   \n",
       "3                                 0                             0   \n",
       "4                                 1                             0   \n",
       "\n",
       "  Matriz_mesangial_normal Celularidade_mesangial_aumentada  \\\n",
       "0                       1                                0   \n",
       "1                       1                                0   \n",
       "2                       0                                0   \n",
       "3                       1                                0   \n",
       "4                       0                                0   \n",
       "\n",
       "  Celularidade_mesangial_diminuida Celularidade_mesangial_normal  \\\n",
       "0                                0                             1   \n",
       "1                                0                             1   \n",
       "2                                0                             1   \n",
       "3                                0                             1   \n",
       "4                                0                             1   \n",
       "\n",
       "  Membrana_basal_glomerular_duplicacao  \\\n",
       "0                                    0   \n",
       "1                                    0   \n",
       "2                                    0   \n",
       "3                                    0   \n",
       "4                                    1   \n",
       "\n",
       "  Membrana_basal_glomerular_duplicacao_e_espiculas  ...  \\\n",
       "0                                                0  ...   \n",
       "1                                                0  ...   \n",
       "2                                                0  ...   \n",
       "3                                                0  ...   \n",
       "4                                                0  ...   \n",
       "\n",
       "  Clinica_sindrome_nefritica-nefrotica Clinica_sindrome_nefritico-nefrotica  \\\n",
       "0                                    0                                    0   \n",
       "1                                    0                                    0   \n",
       "2                                    0                                    0   \n",
       "3                                    0                                    0   \n",
       "4                                    0                                    0   \n",
       "\n",
       "  Clinica_sindrome_nefrotica Clinica_sindrome_nefrotica_cortico-dependente  \\\n",
       "0                          1                                             0   \n",
       "1                          0                                             0   \n",
       "2                          1                                             0   \n",
       "3                          1                                             0   \n",
       "4                          1                                             0   \n",
       "\n",
       "  Clinica_sindrome_nefrotica_cortico-resistente  \\\n",
       "0                                             0   \n",
       "1                                             0   \n",
       "2                                             0   \n",
       "3                                             0   \n",
       "4                                             0   \n",
       "\n",
       "                            Diagnóstico Descritor de Suavidade Relativa  \\\n",
       "0              Doença de Lesões mínimas                           48.00   \n",
       "1                            Rim normal                           21.00   \n",
       "2  Glomeruloesclerose segmentar e focal                           37.00   \n",
       "3    Glomerulopatia membranosa primária                            0.04   \n",
       "4    Glomerulopatia membranosa primária                            1.00   \n",
       "\n",
       "  Terceiro Momento Uniformidade Entropia  \n",
       "0         114031.0          5.0   7663.0  \n",
       "1       -7241099.0          7.0   7151.0  \n",
       "2       73222923.0          8.0   7351.0  \n",
       "3     -139102725.0          9.0   7244.0  \n",
       "4        1144534.0        152.0   3494.0  \n",
       "\n",
       "[5 rows x 191 columns]"
      ]
     },
     "execution_count": 449,
     "metadata": {},
     "output_type": "execute_result"
    }
   ],
   "source": [
    "base_limpa_desmembrada_4atributos.head()"
   ]
  },
  {
   "cell_type": "code",
   "execution_count": 450,
   "metadata": {},
   "outputs": [],
   "source": [
    "base_limpa_desmembrada_6atributos = pd.concat([base_01_desmembrada.drop(['Textura_Inexistente', 'Textura_Regular', 'Textura_Suave'], axis = 1),\n",
    "                                               base_03['Diagnóstico'],\n",
    "                                               base_03['Media'],\n",
    "                                               base_03['Desvio'],\n",
    "                                               base_03['Descritor de Suavidade Relativa'], \n",
    "                                               base_03['Terceiro Momento'], \n",
    "                                               base_03['Uniformidade'], \n",
    "                                               base_03['Entropia']], axis=1, join='inner')"
   ]
  },
  {
   "cell_type": "code",
   "execution_count": 451,
   "metadata": {},
   "outputs": [
    {
     "data": {
      "text/html": [
       "<div>\n",
       "<style scoped>\n",
       "    .dataframe tbody tr th:only-of-type {\n",
       "        vertical-align: middle;\n",
       "    }\n",
       "\n",
       "    .dataframe tbody tr th {\n",
       "        vertical-align: top;\n",
       "    }\n",
       "\n",
       "    .dataframe thead th {\n",
       "        text-align: right;\n",
       "    }\n",
       "</style>\n",
       "<table border=\"1\" class=\"dataframe\">\n",
       "  <thead>\n",
       "    <tr style=\"text-align: right;\">\n",
       "      <th></th>\n",
       "      <th>Matriz_mesangial_aspecto_nodular</th>\n",
       "      <th>Matriz_mesangial_aumentada</th>\n",
       "      <th>Matriz_mesangial_aumento_discreto</th>\n",
       "      <th>Matriz_mesangial_mesangiolise</th>\n",
       "      <th>Matriz_mesangial_normal</th>\n",
       "      <th>Celularidade_mesangial_aumentada</th>\n",
       "      <th>Celularidade_mesangial_diminuida</th>\n",
       "      <th>Celularidade_mesangial_normal</th>\n",
       "      <th>Membrana_basal_glomerular_duplicacao</th>\n",
       "      <th>Membrana_basal_glomerular_duplicacao_e_espiculas</th>\n",
       "      <th>...</th>\n",
       "      <th>Clinica_sindrome_nefrotica</th>\n",
       "      <th>Clinica_sindrome_nefrotica_cortico-dependente</th>\n",
       "      <th>Clinica_sindrome_nefrotica_cortico-resistente</th>\n",
       "      <th>Diagnóstico</th>\n",
       "      <th>Media</th>\n",
       "      <th>Desvio</th>\n",
       "      <th>Descritor de Suavidade Relativa</th>\n",
       "      <th>Terceiro Momento</th>\n",
       "      <th>Uniformidade</th>\n",
       "      <th>Entropia</th>\n",
       "    </tr>\n",
       "  </thead>\n",
       "  <tbody>\n",
       "    <tr>\n",
       "      <th>0</th>\n",
       "      <td>0</td>\n",
       "      <td>0</td>\n",
       "      <td>0</td>\n",
       "      <td>0</td>\n",
       "      <td>1</td>\n",
       "      <td>0</td>\n",
       "      <td>0</td>\n",
       "      <td>1</td>\n",
       "      <td>0</td>\n",
       "      <td>0</td>\n",
       "      <td>...</td>\n",
       "      <td>1</td>\n",
       "      <td>0</td>\n",
       "      <td>0</td>\n",
       "      <td>Doença de Lesões mínimas</td>\n",
       "      <td>128155.0</td>\n",
       "      <td>57.32</td>\n",
       "      <td>48.00</td>\n",
       "      <td>114031.0</td>\n",
       "      <td>5.0</td>\n",
       "      <td>7663.0</td>\n",
       "    </tr>\n",
       "    <tr>\n",
       "      <th>1</th>\n",
       "      <td>0</td>\n",
       "      <td>0</td>\n",
       "      <td>0</td>\n",
       "      <td>0</td>\n",
       "      <td>1</td>\n",
       "      <td>0</td>\n",
       "      <td>0</td>\n",
       "      <td>1</td>\n",
       "      <td>0</td>\n",
       "      <td>0</td>\n",
       "      <td>...</td>\n",
       "      <td>0</td>\n",
       "      <td>0</td>\n",
       "      <td>0</td>\n",
       "      <td>Rim normal</td>\n",
       "      <td>163802.0</td>\n",
       "      <td>37431.00</td>\n",
       "      <td>21.00</td>\n",
       "      <td>-7241099.0</td>\n",
       "      <td>7.0</td>\n",
       "      <td>7151.0</td>\n",
       "    </tr>\n",
       "    <tr>\n",
       "      <th>2</th>\n",
       "      <td>0</td>\n",
       "      <td>1</td>\n",
       "      <td>0</td>\n",
       "      <td>0</td>\n",
       "      <td>0</td>\n",
       "      <td>0</td>\n",
       "      <td>0</td>\n",
       "      <td>1</td>\n",
       "      <td>0</td>\n",
       "      <td>0</td>\n",
       "      <td>...</td>\n",
       "      <td>1</td>\n",
       "      <td>0</td>\n",
       "      <td>0</td>\n",
       "      <td>Glomeruloesclerose segmentar e focal</td>\n",
       "      <td>131063.0</td>\n",
       "      <td>49859.00</td>\n",
       "      <td>37.00</td>\n",
       "      <td>73222923.0</td>\n",
       "      <td>8.0</td>\n",
       "      <td>7351.0</td>\n",
       "    </tr>\n",
       "    <tr>\n",
       "      <th>3</th>\n",
       "      <td>0</td>\n",
       "      <td>0</td>\n",
       "      <td>0</td>\n",
       "      <td>0</td>\n",
       "      <td>1</td>\n",
       "      <td>0</td>\n",
       "      <td>0</td>\n",
       "      <td>1</td>\n",
       "      <td>0</td>\n",
       "      <td>0</td>\n",
       "      <td>...</td>\n",
       "      <td>1</td>\n",
       "      <td>0</td>\n",
       "      <td>0</td>\n",
       "      <td>Glomerulopatia membranosa primária</td>\n",
       "      <td>195083.0</td>\n",
       "      <td>52002.00</td>\n",
       "      <td>0.04</td>\n",
       "      <td>-139102725.0</td>\n",
       "      <td>9.0</td>\n",
       "      <td>7244.0</td>\n",
       "    </tr>\n",
       "    <tr>\n",
       "      <th>4</th>\n",
       "      <td>0</td>\n",
       "      <td>0</td>\n",
       "      <td>1</td>\n",
       "      <td>0</td>\n",
       "      <td>0</td>\n",
       "      <td>0</td>\n",
       "      <td>0</td>\n",
       "      <td>1</td>\n",
       "      <td>1</td>\n",
       "      <td>0</td>\n",
       "      <td>...</td>\n",
       "      <td>1</td>\n",
       "      <td>0</td>\n",
       "      <td>0</td>\n",
       "      <td>Glomerulopatia membranosa primária</td>\n",
       "      <td>4089.0</td>\n",
       "      <td>6728.00</td>\n",
       "      <td>1.00</td>\n",
       "      <td>1144534.0</td>\n",
       "      <td>152.0</td>\n",
       "      <td>3494.0</td>\n",
       "    </tr>\n",
       "  </tbody>\n",
       "</table>\n",
       "<p>5 rows × 193 columns</p>\n",
       "</div>"
      ],
      "text/plain": [
       "  Matriz_mesangial_aspecto_nodular Matriz_mesangial_aumentada  \\\n",
       "0                                0                          0   \n",
       "1                                0                          0   \n",
       "2                                0                          1   \n",
       "3                                0                          0   \n",
       "4                                0                          0   \n",
       "\n",
       "  Matriz_mesangial_aumento_discreto Matriz_mesangial_mesangiolise  \\\n",
       "0                                 0                             0   \n",
       "1                                 0                             0   \n",
       "2                                 0                             0   \n",
       "3                                 0                             0   \n",
       "4                                 1                             0   \n",
       "\n",
       "  Matriz_mesangial_normal Celularidade_mesangial_aumentada  \\\n",
       "0                       1                                0   \n",
       "1                       1                                0   \n",
       "2                       0                                0   \n",
       "3                       1                                0   \n",
       "4                       0                                0   \n",
       "\n",
       "  Celularidade_mesangial_diminuida Celularidade_mesangial_normal  \\\n",
       "0                                0                             1   \n",
       "1                                0                             1   \n",
       "2                                0                             1   \n",
       "3                                0                             1   \n",
       "4                                0                             1   \n",
       "\n",
       "  Membrana_basal_glomerular_duplicacao  \\\n",
       "0                                    0   \n",
       "1                                    0   \n",
       "2                                    0   \n",
       "3                                    0   \n",
       "4                                    1   \n",
       "\n",
       "  Membrana_basal_glomerular_duplicacao_e_espiculas  ...  \\\n",
       "0                                                0  ...   \n",
       "1                                                0  ...   \n",
       "2                                                0  ...   \n",
       "3                                                0  ...   \n",
       "4                                                0  ...   \n",
       "\n",
       "  Clinica_sindrome_nefrotica Clinica_sindrome_nefrotica_cortico-dependente  \\\n",
       "0                          1                                             0   \n",
       "1                          0                                             0   \n",
       "2                          1                                             0   \n",
       "3                          1                                             0   \n",
       "4                          1                                             0   \n",
       "\n",
       "  Clinica_sindrome_nefrotica_cortico-resistente  \\\n",
       "0                                             0   \n",
       "1                                             0   \n",
       "2                                             0   \n",
       "3                                             0   \n",
       "4                                             0   \n",
       "\n",
       "                            Diagnóstico     Media    Desvio  \\\n",
       "0              Doença de Lesões mínimas  128155.0     57.32   \n",
       "1                            Rim normal  163802.0  37431.00   \n",
       "2  Glomeruloesclerose segmentar e focal  131063.0  49859.00   \n",
       "3    Glomerulopatia membranosa primária  195083.0  52002.00   \n",
       "4    Glomerulopatia membranosa primária    4089.0   6728.00   \n",
       "\n",
       "  Descritor de Suavidade Relativa Terceiro Momento Uniformidade Entropia  \n",
       "0                           48.00         114031.0          5.0   7663.0  \n",
       "1                           21.00       -7241099.0          7.0   7151.0  \n",
       "2                           37.00       73222923.0          8.0   7351.0  \n",
       "3                            0.04     -139102725.0          9.0   7244.0  \n",
       "4                            1.00        1144534.0        152.0   3494.0  \n",
       "\n",
       "[5 rows x 193 columns]"
      ]
     },
     "execution_count": 451,
     "metadata": {},
     "output_type": "execute_result"
    }
   ],
   "source": [
    "base_limpa_desmembrada_6atributos.head()"
   ]
  },
  {
   "cell_type": "markdown",
   "metadata": {},
   "source": [
    "# Exportando as novas Bases"
   ]
  },
  {
   "cell_type": "code",
   "execution_count": 452,
   "metadata": {},
   "outputs": [],
   "source": [
    "base_limpa_desmembrada_1atributo.to_csv('C:\\\\Users\\\\LENOVO\\\\Desktop\\\\Arthur\\\\LINA\\\\PIBIC 2019-2020 (01.08.2019 a 31.07.2020)\\\\Bases\\\\base_limpa_desmembrada_1atributo.csv')\n",
    "base_limpa_desmembrada_4atributos.to_csv('C:\\\\Users\\\\LENOVO\\\\Desktop\\\\Arthur\\\\LINA\\\\PIBIC 2019-2020 (01.08.2019 a 31.07.2020)\\\\Bases\\\\base_limpa_desmembrada_4atributos.csv')\n",
    "base_limpa_desmembrada_6atributos.to_csv('C:\\\\Users\\\\LENOVO\\\\Desktop\\\\Arthur\\\\LINA\\\\PIBIC 2019-2020 (01.08.2019 a 31.07.2020)\\\\Bases\\\\base_limpa_desmembrada_6atributos.csv')"
   ]
  }
 ],
 "metadata": {
  "kernelspec": {
   "display_name": "Python 3",
   "language": "python",
   "name": "python3"
  },
  "language_info": {
   "codemirror_mode": {
    "name": "ipython",
    "version": 3
   },
   "file_extension": ".py",
   "mimetype": "text/x-python",
   "name": "python",
   "nbconvert_exporter": "python",
   "pygments_lexer": "ipython3",
   "version": "3.7.3"
  }
 },
 "nbformat": 4,
 "nbformat_minor": 2
}
